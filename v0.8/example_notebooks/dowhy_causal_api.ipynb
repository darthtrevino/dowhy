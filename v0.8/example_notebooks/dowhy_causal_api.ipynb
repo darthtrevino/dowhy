{
 "cells": [
  {
   "cell_type": "markdown",
   "metadata": {},
   "source": [
    "# Demo for the DoWhy causal API\n",
    "We show a simple example of adding a causal extension to any dataframe. "
   ]
  },
  {
   "cell_type": "code",
   "execution_count": 1,
   "metadata": {
    "execution": {
     "iopub.execute_input": "2022-08-12T19:55:25.592366Z",
     "iopub.status.busy": "2022-08-12T19:55:25.592111Z",
     "iopub.status.idle": "2022-08-12T19:55:26.652184Z",
     "shell.execute_reply": "2022-08-12T19:55:26.651541Z"
    }
   },
   "outputs": [],
   "source": [
    "import dowhy.datasets\n",
    "import dowhy.api\n",
    "\n",
    "import numpy as np\n",
    "import pandas as pd\n",
    "\n",
    "from statsmodels.api import OLS"
   ]
  },
  {
   "cell_type": "code",
   "execution_count": 2,
   "metadata": {
    "execution": {
     "iopub.execute_input": "2022-08-12T19:55:26.655624Z",
     "iopub.status.busy": "2022-08-12T19:55:26.654992Z",
     "iopub.status.idle": "2022-08-12T19:55:26.694875Z",
     "shell.execute_reply": "2022-08-12T19:55:26.694319Z"
    }
   },
   "outputs": [
    {
     "data": {
      "text/html": [
       "<div>\n",
       "<style scoped>\n",
       "    .dataframe tbody tr th:only-of-type {\n",
       "        vertical-align: middle;\n",
       "    }\n",
       "\n",
       "    .dataframe tbody tr th {\n",
       "        vertical-align: top;\n",
       "    }\n",
       "\n",
       "    .dataframe thead th {\n",
       "        text-align: right;\n",
       "    }\n",
       "</style>\n",
       "<table border=\"1\" class=\"dataframe\">\n",
       "  <thead>\n",
       "    <tr style=\"text-align: right;\">\n",
       "      <th></th>\n",
       "      <th>W0</th>\n",
       "      <th>v0</th>\n",
       "      <th>y</th>\n",
       "    </tr>\n",
       "  </thead>\n",
       "  <tbody>\n",
       "    <tr>\n",
       "      <th>0</th>\n",
       "      <td>0.306997</td>\n",
       "      <td>True</td>\n",
       "      <td>5.706136</td>\n",
       "    </tr>\n",
       "    <tr>\n",
       "      <th>1</th>\n",
       "      <td>1.630734</td>\n",
       "      <td>True</td>\n",
       "      <td>9.358802</td>\n",
       "    </tr>\n",
       "    <tr>\n",
       "      <th>2</th>\n",
       "      <td>0.559030</td>\n",
       "      <td>False</td>\n",
       "      <td>1.047554</td>\n",
       "    </tr>\n",
       "    <tr>\n",
       "      <th>3</th>\n",
       "      <td>1.515037</td>\n",
       "      <td>False</td>\n",
       "      <td>4.069826</td>\n",
       "    </tr>\n",
       "    <tr>\n",
       "      <th>4</th>\n",
       "      <td>0.735085</td>\n",
       "      <td>True</td>\n",
       "      <td>8.443400</td>\n",
       "    </tr>\n",
       "    <tr>\n",
       "      <th>...</th>\n",
       "      <td>...</td>\n",
       "      <td>...</td>\n",
       "      <td>...</td>\n",
       "    </tr>\n",
       "    <tr>\n",
       "      <th>995</th>\n",
       "      <td>0.703817</td>\n",
       "      <td>True</td>\n",
       "      <td>6.872143</td>\n",
       "    </tr>\n",
       "    <tr>\n",
       "      <th>996</th>\n",
       "      <td>0.785805</td>\n",
       "      <td>True</td>\n",
       "      <td>8.544829</td>\n",
       "    </tr>\n",
       "    <tr>\n",
       "      <th>997</th>\n",
       "      <td>2.107539</td>\n",
       "      <td>True</td>\n",
       "      <td>12.385694</td>\n",
       "    </tr>\n",
       "    <tr>\n",
       "      <th>998</th>\n",
       "      <td>0.523446</td>\n",
       "      <td>True</td>\n",
       "      <td>7.775213</td>\n",
       "    </tr>\n",
       "    <tr>\n",
       "      <th>999</th>\n",
       "      <td>1.369752</td>\n",
       "      <td>False</td>\n",
       "      <td>2.556037</td>\n",
       "    </tr>\n",
       "  </tbody>\n",
       "</table>\n",
       "<p>1000 rows × 3 columns</p>\n",
       "</div>"
      ],
      "text/plain": [
       "           W0     v0          y\n",
       "0    0.306997   True   5.706136\n",
       "1    1.630734   True   9.358802\n",
       "2    0.559030  False   1.047554\n",
       "3    1.515037  False   4.069826\n",
       "4    0.735085   True   8.443400\n",
       "..        ...    ...        ...\n",
       "995  0.703817   True   6.872143\n",
       "996  0.785805   True   8.544829\n",
       "997  2.107539   True  12.385694\n",
       "998  0.523446   True   7.775213\n",
       "999  1.369752  False   2.556037\n",
       "\n",
       "[1000 rows x 3 columns]"
      ]
     },
     "execution_count": 2,
     "metadata": {},
     "output_type": "execute_result"
    }
   ],
   "source": [
    "data = dowhy.datasets.linear_dataset(beta=5,\n",
    "        num_common_causes=1,\n",
    "        num_instruments = 0,\n",
    "        num_samples=1000,\n",
    "        treatment_is_binary=True)\n",
    "df = data['df']\n",
    "df['y'] = df['y'] + np.random.normal(size=len(df)) # Adding noise to data. Without noise, the variance in Y|X, Z is zero, and mcmc fails.\n",
    "#data['dot_graph'] = 'digraph { v ->y;X0-> v;X0-> y;}'\n",
    "\n",
    "treatment= data[\"treatment_name\"][0]\n",
    "outcome = data[\"outcome_name\"][0]\n",
    "common_cause = data[\"common_causes_names\"][0]\n",
    "df"
   ]
  },
  {
   "cell_type": "code",
   "execution_count": 3,
   "metadata": {
    "execution": {
     "iopub.execute_input": "2022-08-12T19:55:26.697849Z",
     "iopub.status.busy": "2022-08-12T19:55:26.697517Z",
     "iopub.status.idle": "2022-08-12T19:55:27.436479Z",
     "shell.execute_reply": "2022-08-12T19:55:27.435883Z"
    }
   },
   "outputs": [
    {
     "data": {
      "text/plain": [
       "<AxesSubplot:xlabel='v0'>"
      ]
     },
     "execution_count": 3,
     "metadata": {},
     "output_type": "execute_result"
    },
    {
     "data": {
      "image/png": "[encoded data removed]",
      "text/plain": [
       "<Figure size 432x288 with 1 Axes>"
      ]
     },
     "metadata": {
      "needs_background": "light"
     },
     "output_type": "display_data"
    }
   ],
   "source": [
    "# data['df'] is just a regular pandas.DataFrame\n",
    "df.causal.do(x=treatment,\n",
    "                     variable_types={treatment: 'b', outcome: 'c', common_cause: 'c'},\n",
    "                     outcome=outcome,\n",
    "                     common_causes=[common_cause],\n",
    "                     proceed_when_unidentifiable=True).groupby(treatment).mean().plot(y=outcome, kind='bar')"
   ]
  },
  {
   "cell_type": "code",
   "execution_count": 4,
   "metadata": {
    "execution": {
     "iopub.execute_input": "2022-08-12T19:55:27.439868Z",
     "iopub.status.busy": "2022-08-12T19:55:27.439415Z",
     "iopub.status.idle": "2022-08-12T19:55:27.544264Z",
     "shell.execute_reply": "2022-08-12T19:55:27.543743Z"
    }
   },
   "outputs": [
    {
     "data": {
      "text/plain": [
       "<AxesSubplot:xlabel='v0'>"
      ]
     },
     "execution_count": 4,
     "metadata": {},
     "output_type": "execute_result"
    },
    {
     "data": {
      "image/png": "[encoded data removed]",
      "text/plain": [
       "<Figure size 432x288 with 1 Axes>"
      ]
     },
     "metadata": {
      "needs_background": "light"
     },
     "output_type": "display_data"
    }
   ],
   "source": [
    "df.causal.do(x={treatment: 1}, \n",
    "              variable_types={treatment:'b', outcome: 'c', common_cause: 'c'}, \n",
    "              outcome=outcome,\n",
    "              method='weighting', \n",
    "              common_causes=[common_cause],\n",
    "              proceed_when_unidentifiable=True).groupby(treatment).mean().plot(y=outcome, kind='bar')"
   ]
  },
  {
   "cell_type": "code",
   "execution_count": 5,
   "metadata": {
    "execution": {
     "iopub.execute_input": "2022-08-12T19:55:27.548296Z",
     "iopub.status.busy": "2022-08-12T19:55:27.547319Z",
     "iopub.status.idle": "2022-08-12T19:55:27.577858Z",
     "shell.execute_reply": "2022-08-12T19:55:27.577278Z"
    }
   },
   "outputs": [],
   "source": [
    "cdf_1 = df.causal.do(x={treatment: 1}, \n",
    "              variable_types={treatment: 'b', outcome: 'c', common_cause: 'c'}, \n",
    "              outcome=outcome, \n",
    "              dot_graph=data['dot_graph'],\n",
    "              proceed_when_unidentifiable=True)\n",
    "\n",
    "cdf_0 = df.causal.do(x={treatment: 0}, \n",
    "              variable_types={treatment: 'b', outcome: 'c', common_cause: 'c'}, \n",
    "              outcome=outcome, \n",
    "              dot_graph=data['dot_graph'],\n",
    "              proceed_when_unidentifiable=True)\n"
   ]
  },
  {
   "cell_type": "code",
   "execution_count": 6,
   "metadata": {
    "execution": {
     "iopub.execute_input": "2022-08-12T19:55:27.580936Z",
     "iopub.status.busy": "2022-08-12T19:55:27.580397Z",
     "iopub.status.idle": "2022-08-12T19:55:27.592447Z",
     "shell.execute_reply": "2022-08-12T19:55:27.591920Z"
    },
    "scrolled": true
   },
   "outputs": [
    {
     "data": {
      "text/html": [
       "<div>\n",
       "<style scoped>\n",
       "    .dataframe tbody tr th:only-of-type {\n",
       "        vertical-align: middle;\n",
       "    }\n",
       "\n",
       "    .dataframe tbody tr th {\n",
       "        vertical-align: top;\n",
       "    }\n",
       "\n",
       "    .dataframe thead th {\n",
       "        text-align: right;\n",
       "    }\n",
       "</style>\n",
       "<table border=\"1\" class=\"dataframe\">\n",
       "  <thead>\n",
       "    <tr style=\"text-align: right;\">\n",
       "      <th></th>\n",
       "      <th>W0</th>\n",
       "      <th>v0</th>\n",
       "      <th>y</th>\n",
       "      <th>propensity_score</th>\n",
       "      <th>weight</th>\n",
       "    </tr>\n",
       "  </thead>\n",
       "  <tbody>\n",
       "    <tr>\n",
       "      <th>0</th>\n",
       "      <td>2.607081</td>\n",
       "      <td>False</td>\n",
       "      <td>6.404911</td>\n",
       "      <td>0.449612</td>\n",
       "      <td>2.224141</td>\n",
       "    </tr>\n",
       "    <tr>\n",
       "      <th>1</th>\n",
       "      <td>0.888944</td>\n",
       "      <td>False</td>\n",
       "      <td>1.787793</td>\n",
       "      <td>0.473374</td>\n",
       "      <td>2.112495</td>\n",
       "    </tr>\n",
       "    <tr>\n",
       "      <th>2</th>\n",
       "      <td>-0.450483</td>\n",
       "      <td>False</td>\n",
       "      <td>-0.390594</td>\n",
       "      <td>0.491988</td>\n",
       "      <td>2.032570</td>\n",
       "    </tr>\n",
       "    <tr>\n",
       "      <th>3</th>\n",
       "      <td>1.085846</td>\n",
       "      <td>False</td>\n",
       "      <td>2.404779</td>\n",
       "      <td>0.470643</td>\n",
       "      <td>2.124755</td>\n",
       "    </tr>\n",
       "    <tr>\n",
       "      <th>4</th>\n",
       "      <td>0.681040</td>\n",
       "      <td>False</td>\n",
       "      <td>1.832274</td>\n",
       "      <td>0.476260</td>\n",
       "      <td>2.099695</td>\n",
       "    </tr>\n",
       "    <tr>\n",
       "      <th>...</th>\n",
       "      <td>...</td>\n",
       "      <td>...</td>\n",
       "      <td>...</td>\n",
       "      <td>...</td>\n",
       "      <td>...</td>\n",
       "    </tr>\n",
       "    <tr>\n",
       "      <th>995</th>\n",
       "      <td>1.776587</td>\n",
       "      <td>False</td>\n",
       "      <td>6.000066</td>\n",
       "      <td>0.461076</td>\n",
       "      <td>2.168841</td>\n",
       "    </tr>\n",
       "    <tr>\n",
       "      <th>996</th>\n",
       "      <td>2.016825</td>\n",
       "      <td>False</td>\n",
       "      <td>5.242795</td>\n",
       "      <td>0.457755</td>\n",
       "      <td>2.184576</td>\n",
       "    </tr>\n",
       "    <tr>\n",
       "      <th>997</th>\n",
       "      <td>-0.251294</td>\n",
       "      <td>False</td>\n",
       "      <td>-1.037672</td>\n",
       "      <td>0.489217</td>\n",
       "      <td>2.044082</td>\n",
       "    </tr>\n",
       "    <tr>\n",
       "      <th>998</th>\n",
       "      <td>-0.129405</td>\n",
       "      <td>False</td>\n",
       "      <td>-0.683385</td>\n",
       "      <td>0.487522</td>\n",
       "      <td>2.051189</td>\n",
       "    </tr>\n",
       "    <tr>\n",
       "      <th>999</th>\n",
       "      <td>0.177897</td>\n",
       "      <td>False</td>\n",
       "      <td>0.925918</td>\n",
       "      <td>0.483249</td>\n",
       "      <td>2.069325</td>\n",
       "    </tr>\n",
       "  </tbody>\n",
       "</table>\n",
       "<p>1000 rows × 5 columns</p>\n",
       "</div>"
      ],
      "text/plain": [
       "           W0     v0         y  propensity_score    weight\n",
       "0    2.607081  False  6.404911          0.449612  2.224141\n",
       "1    0.888944  False  1.787793          0.473374  2.112495\n",
       "2   -0.450483  False -0.390594          0.491988  2.032570\n",
       "3    1.085846  False  2.404779          0.470643  2.124755\n",
       "4    0.681040  False  1.832274          0.476260  2.099695\n",
       "..        ...    ...       ...               ...       ...\n",
       "995  1.776587  False  6.000066          0.461076  2.168841\n",
       "996  2.016825  False  5.242795          0.457755  2.184576\n",
       "997 -0.251294  False -1.037672          0.489217  2.044082\n",
       "998 -0.129405  False -0.683385          0.487522  2.051189\n",
       "999  0.177897  False  0.925918          0.483249  2.069325\n",
       "\n",
       "[1000 rows x 5 columns]"
      ]
     },
     "execution_count": 6,
     "metadata": {},
     "output_type": "execute_result"
    }
   ],
   "source": [
    "cdf_0"
   ]
  },
  {
   "cell_type": "code",
   "execution_count": 7,
   "metadata": {
    "execution": {
     "iopub.execute_input": "2022-08-12T19:55:27.595415Z",
     "iopub.status.busy": "2022-08-12T19:55:27.594955Z",
     "iopub.status.idle": "2022-08-12T19:55:27.606296Z",
     "shell.execute_reply": "2022-08-12T19:55:27.605767Z"
    }
   },
   "outputs": [
    {
     "data": {
      "text/html": [
       "<div>\n",
       "<style scoped>\n",
       "    .dataframe tbody tr th:only-of-type {\n",
       "        vertical-align: middle;\n",
       "    }\n",
       "\n",
       "    .dataframe tbody tr th {\n",
       "        vertical-align: top;\n",
       "    }\n",
       "\n",
       "    .dataframe thead th {\n",
       "        text-align: right;\n",
       "    }\n",
       "</style>\n",
       "<table border=\"1\" class=\"dataframe\">\n",
       "  <thead>\n",
       "    <tr style=\"text-align: right;\">\n",
       "      <th></th>\n",
       "      <th>W0</th>\n",
       "      <th>v0</th>\n",
       "      <th>y</th>\n",
       "      <th>propensity_score</th>\n",
       "      <th>weight</th>\n",
       "    </tr>\n",
       "  </thead>\n",
       "  <tbody>\n",
       "    <tr>\n",
       "      <th>0</th>\n",
       "      <td>0.818505</td>\n",
       "      <td>True</td>\n",
       "      <td>6.664785</td>\n",
       "      <td>0.525649</td>\n",
       "      <td>1.902412</td>\n",
       "    </tr>\n",
       "    <tr>\n",
       "      <th>1</th>\n",
       "      <td>-0.940454</td>\n",
       "      <td>True</td>\n",
       "      <td>1.029534</td>\n",
       "      <td>0.501195</td>\n",
       "      <td>1.995233</td>\n",
       "    </tr>\n",
       "    <tr>\n",
       "      <th>2</th>\n",
       "      <td>-1.755966</td>\n",
       "      <td>True</td>\n",
       "      <td>0.765128</td>\n",
       "      <td>0.489848</td>\n",
       "      <td>2.041450</td>\n",
       "    </tr>\n",
       "    <tr>\n",
       "      <th>3</th>\n",
       "      <td>2.152420</td>\n",
       "      <td>True</td>\n",
       "      <td>11.827785</td>\n",
       "      <td>0.544118</td>\n",
       "      <td>1.837837</td>\n",
       "    </tr>\n",
       "    <tr>\n",
       "      <th>4</th>\n",
       "      <td>0.970638</td>\n",
       "      <td>True</td>\n",
       "      <td>8.463239</td>\n",
       "      <td>0.527760</td>\n",
       "      <td>1.894802</td>\n",
       "    </tr>\n",
       "    <tr>\n",
       "      <th>...</th>\n",
       "      <td>...</td>\n",
       "      <td>...</td>\n",
       "      <td>...</td>\n",
       "      <td>...</td>\n",
       "      <td>...</td>\n",
       "    </tr>\n",
       "    <tr>\n",
       "      <th>995</th>\n",
       "      <td>1.935231</td>\n",
       "      <td>True</td>\n",
       "      <td>8.877541</td>\n",
       "      <td>0.541118</td>\n",
       "      <td>1.848027</td>\n",
       "    </tr>\n",
       "    <tr>\n",
       "      <th>996</th>\n",
       "      <td>1.174251</td>\n",
       "      <td>True</td>\n",
       "      <td>8.020753</td>\n",
       "      <td>0.530583</td>\n",
       "      <td>1.884718</td>\n",
       "    </tr>\n",
       "    <tr>\n",
       "      <th>997</th>\n",
       "      <td>1.523967</td>\n",
       "      <td>True</td>\n",
       "      <td>8.445390</td>\n",
       "      <td>0.535428</td>\n",
       "      <td>1.867663</td>\n",
       "    </tr>\n",
       "    <tr>\n",
       "      <th>998</th>\n",
       "      <td>2.217313</td>\n",
       "      <td>True</td>\n",
       "      <td>11.321477</td>\n",
       "      <td>0.545014</td>\n",
       "      <td>1.834816</td>\n",
       "    </tr>\n",
       "    <tr>\n",
       "      <th>999</th>\n",
       "      <td>0.179447</td>\n",
       "      <td>True</td>\n",
       "      <td>3.874875</td>\n",
       "      <td>0.516772</td>\n",
       "      <td>1.935089</td>\n",
       "    </tr>\n",
       "  </tbody>\n",
       "</table>\n",
       "<p>1000 rows × 5 columns</p>\n",
       "</div>"
      ],
      "text/plain": [
       "           W0    v0          y  propensity_score    weight\n",
       "0    0.818505  True   6.664785          0.525649  1.902412\n",
       "1   -0.940454  True   1.029534          0.501195  1.995233\n",
       "2   -1.755966  True   0.765128          0.489848  2.041450\n",
       "3    2.152420  True  11.827785          0.544118  1.837837\n",
       "4    0.970638  True   8.463239          0.527760  1.894802\n",
       "..        ...   ...        ...               ...       ...\n",
       "995  1.935231  True   8.877541          0.541118  1.848027\n",
       "996  1.174251  True   8.020753          0.530583  1.884718\n",
       "997  1.523967  True   8.445390          0.535428  1.867663\n",
       "998  2.217313  True  11.321477          0.545014  1.834816\n",
       "999  0.179447  True   3.874875          0.516772  1.935089\n",
       "\n",
       "[1000 rows x 5 columns]"
      ]
     },
     "execution_count": 7,
     "metadata": {},
     "output_type": "execute_result"
    }
   ],
   "source": [
    "cdf_1"
   ]
  },
  {
   "cell_type": "markdown",
   "metadata": {},
   "source": [
    "## Comparing the estimate to Linear Regression\n",
    "First, estimating the effect using the causal data frame, and the 95% confidence interval."
   ]
  },
  {
   "cell_type": "code",
   "execution_count": 8,
   "metadata": {
    "execution": {
     "iopub.execute_input": "2022-08-12T19:55:27.608888Z",
     "iopub.status.busy": "2022-08-12T19:55:27.608670Z",
     "iopub.status.idle": "2022-08-12T19:55:27.706436Z",
     "shell.execute_reply": "2022-08-12T19:55:27.705797Z"
    }
   },
   "outputs": [
    {
     "data": {
      "image/png": "[encoded data removed]",
      "text/latex": [
       "$\\displaystyle 4.98506051393587$"
      ],
      "text/plain": [
       "4.985060513935867"
      ]
     },
     "execution_count": 8,
     "metadata": {},
     "output_type": "execute_result"
    }
   ],
   "source": [
    "(cdf_1['y'] - cdf_0['y']).mean()"
   ]
  },
  {
   "cell_type": "code",
   "execution_count": 9,
   "metadata": {
    "execution": {
     "iopub.execute_input": "2022-08-12T19:55:27.709257Z",
     "iopub.status.busy": "2022-08-12T19:55:27.708923Z",
     "iopub.status.idle": "2022-08-12T19:55:27.735918Z",
     "shell.execute_reply": "2022-08-12T19:55:27.735325Z"
    }
   },
   "outputs": [
    {
     "data": {
      "image/png": "[encoded data removed]",
      "text/latex": [
       "$\\displaystyle 0.261621987891593$"
      ],
      "text/plain": [
       "0.26162198789159347"
      ]
     },
     "execution_count": 9,
     "metadata": {},
     "output_type": "execute_result"
    }
   ],
   "source": [
    "1.96*(cdf_1['y'] - cdf_0['y']).std() / np.sqrt(len(df))"
   ]
  },
  {
   "cell_type": "markdown",
   "metadata": {},
   "source": [
    "Comparing to the estimate from OLS."
   ]
  },
  {
   "cell_type": "code",
   "execution_count": 10,
   "metadata": {
    "execution": {
     "iopub.execute_input": "2022-08-12T19:55:27.738878Z",
     "iopub.status.busy": "2022-08-12T19:55:27.738492Z",
     "iopub.status.idle": "2022-08-12T19:55:27.755062Z",
     "shell.execute_reply": "2022-08-12T19:55:27.754304Z"
    }
   },
   "outputs": [
    {
     "data": {
      "text/html": [
       "<table class=\"simpletable\">\n",
       "<caption>OLS Regression Results</caption>\n",
       "<tr>\n",
       "  <th>Dep. Variable:</th>            <td>y</td>        <th>  R-squared (uncentered):</th>      <td>   0.976</td> \n",
       "</tr>\n",
       "<tr>\n",
       "  <th>Model:</th>                   <td>OLS</td>       <th>  Adj. R-squared (uncentered):</th> <td>   0.976</td> \n",
       "</tr>\n",
       "<tr>\n",
       "  <th>Method:</th>             <td>Least Squares</td>  <th>  F-statistic:       </th>          <td>1.994e+04</td>\n",
       "</tr>\n",
       "<tr>\n",
       "  <th>Date:</th>             <td>Fri, 12 Aug 2022</td> <th>  Prob (F-statistic):</th>           <td>  0.00</td>  \n",
       "</tr>\n",
       "<tr>\n",
       "  <th>Time:</th>                 <td>19:55:27</td>     <th>  Log-Likelihood:    </th>          <td> -1452.1</td> \n",
       "</tr>\n",
       "<tr>\n",
       "  <th>No. Observations:</th>      <td>  1000</td>      <th>  AIC:               </th>          <td>   2908.</td> \n",
       "</tr>\n",
       "<tr>\n",
       "  <th>Df Residuals:</th>          <td>   998</td>      <th>  BIC:               </th>          <td>   2918.</td> \n",
       "</tr>\n",
       "<tr>\n",
       "  <th>Df Model:</th>              <td>     2</td>      <th>                     </th>              <td> </td>    \n",
       "</tr>\n",
       "<tr>\n",
       "  <th>Covariance Type:</th>      <td>nonrobust</td>    <th>                     </th>              <td> </td>    \n",
       "</tr>\n",
       "</table>\n",
       "<table class=\"simpletable\">\n",
       "<tr>\n",
       "   <td></td>     <th>coef</th>     <th>std err</th>      <th>t</th>      <th>P>|t|</th>  <th>[0.025</th>    <th>0.975]</th>  \n",
       "</tr>\n",
       "<tr>\n",
       "  <th>x1</th> <td>    2.7043</td> <td>    0.027</td> <td>  100.502</td> <td> 0.000</td> <td>    2.652</td> <td>    2.757</td>\n",
       "</tr>\n",
       "<tr>\n",
       "  <th>x2</th> <td>    5.0199</td> <td>    0.053</td> <td>   95.257</td> <td> 0.000</td> <td>    4.917</td> <td>    5.123</td>\n",
       "</tr>\n",
       "</table>\n",
       "<table class=\"simpletable\">\n",
       "<tr>\n",
       "  <th>Omnibus:</th>       <td> 2.923</td> <th>  Durbin-Watson:     </th> <td>   1.994</td>\n",
       "</tr>\n",
       "<tr>\n",
       "  <th>Prob(Omnibus):</th> <td> 0.232</td> <th>  Jarque-Bera (JB):  </th> <td>   2.769</td>\n",
       "</tr>\n",
       "<tr>\n",
       "  <th>Skew:</th>          <td> 0.077</td> <th>  Prob(JB):          </th> <td>   0.250</td>\n",
       "</tr>\n",
       "<tr>\n",
       "  <th>Kurtosis:</th>      <td> 2.794</td> <th>  Cond. No.          </th> <td>    2.49</td>\n",
       "</tr>\n",
       "</table><br/><br/>Notes:<br/>[1] R² is computed without centering (uncentered) since the model does not contain a constant.<br/>[2] Standard Errors assume that the covariance matrix of the errors is correctly specified."
      ],
      "text/plain": [
       "<class 'statsmodels.iolib.summary.Summary'>\n",
       "\"\"\"\n",
       "                                 OLS Regression Results                                \n",
       "=======================================================================================\n",
       "Dep. Variable:                      y   R-squared (uncentered):                   0.976\n",
       "Model:                            OLS   Adj. R-squared (uncentered):              0.976\n",
       "Method:                 Least Squares   F-statistic:                          1.994e+04\n",
       "Date:                Fri, 12 Aug 2022   Prob (F-statistic):                        0.00\n",
       "Time:                        19:55:27   Log-Likelihood:                         -1452.1\n",
       "No. Observations:                1000   AIC:                                      2908.\n",
       "Df Residuals:                     998   BIC:                                      2918.\n",
       "Df Model:                           2                                                  \n",
       "Covariance Type:            nonrobust                                                  \n",
       "==============================================================================\n",
       "                 coef    std err          t      P>|t|      [0.025      0.975]\n",
       "------------------------------------------------------------------------------\n",
       "x1             2.7043      0.027    100.502      0.000       2.652       2.757\n",
       "x2             5.0199      0.053     95.257      0.000       4.917       5.123\n",
       "==============================================================================\n",
       "Omnibus:                        2.923   Durbin-Watson:                   1.994\n",
       "Prob(Omnibus):                  0.232   Jarque-Bera (JB):                2.769\n",
       "Skew:                           0.077   Prob(JB):                        0.250\n",
       "Kurtosis:                       2.794   Cond. No.                         2.49\n",
       "==============================================================================\n",
       "\n",
       "Notes:\n",
       "[1] R² is computed without centering (uncentered) since the model does not contain a constant.\n",
       "[2] Standard Errors assume that the covariance matrix of the errors is correctly specified.\n",
       "\"\"\""
      ]
     },
     "execution_count": 10,
     "metadata": {},
     "output_type": "execute_result"
    }
   ],
   "source": [
    "model = OLS(np.asarray(df[outcome]), np.asarray(df[[common_cause, treatment]], dtype=np.float64))\n",
    "result = model.fit()\n",
    "result.summary()"
   ]
  }
 ],
 "metadata": {
  "kernelspec": {
   "display_name": "Python 3",
   "language": "python",
   "name": "python3"
  },
  "language_info": {
   "codemirror_mode": {
    "name": "ipython",
    "version": 3
   },
   "file_extension": ".py",
   "mimetype": "text/x-python",
   "name": "python",
   "nbconvert_exporter": "python",
   "pygments_lexer": "ipython3",
   "version": "3.8.10"
  },
  "toc": {
   "base_numbering": 1,
   "nav_menu": {},
   "number_sections": false,
   "sideBar": true,
   "skip_h1_title": true,
   "title_cell": "Table of Contents",
   "title_sidebar": "Contents",
   "toc_cell": false,
   "toc_position": {},
   "toc_section_display": true,
   "toc_window_display": false
  }
 },
 "nbformat": 4,
 "nbformat_minor": 4
}
