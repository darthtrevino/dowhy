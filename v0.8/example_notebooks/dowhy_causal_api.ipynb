{
 "cells": [
  {
   "cell_type": "markdown",
   "metadata": {},
   "source": [
    "# Demo for the DoWhy causal API\n",
    "We show a simple example of adding a causal extension to any dataframe. "
   ]
  },
  {
   "cell_type": "code",
   "execution_count": 1,
   "metadata": {
    "execution": {
     "iopub.execute_input": "2022-09-01T17:18:14.570184Z",
     "iopub.status.busy": "2022-09-01T17:18:14.569632Z",
     "iopub.status.idle": "2022-09-01T17:18:15.640407Z",
     "shell.execute_reply": "2022-09-01T17:18:15.639773Z"
    }
   },
   "outputs": [],
   "source": [
    "import dowhy.datasets\n",
    "import dowhy.api\n",
    "\n",
    "import numpy as np\n",
    "import pandas as pd\n",
    "\n",
    "from statsmodels.api import OLS"
   ]
  },
  {
   "cell_type": "code",
   "execution_count": 2,
   "metadata": {
    "execution": {
     "iopub.execute_input": "2022-09-01T17:18:15.644502Z",
     "iopub.status.busy": "2022-09-01T17:18:15.643852Z",
     "iopub.status.idle": "2022-09-01T17:18:15.684477Z",
     "shell.execute_reply": "2022-09-01T17:18:15.683918Z"
    }
   },
   "outputs": [
    {
     "data": {
      "text/html": [
       "<div>\n",
       "<style scoped>\n",
       "    .dataframe tbody tr th:only-of-type {\n",
       "        vertical-align: middle;\n",
       "    }\n",
       "\n",
       "    .dataframe tbody tr th {\n",
       "        vertical-align: top;\n",
       "    }\n",
       "\n",
       "    .dataframe thead th {\n",
       "        text-align: right;\n",
       "    }\n",
       "</style>\n",
       "<table border=\"1\" class=\"dataframe\">\n",
       "  <thead>\n",
       "    <tr style=\"text-align: right;\">\n",
       "      <th></th>\n",
       "      <th>W0</th>\n",
       "      <th>v0</th>\n",
       "      <th>y</th>\n",
       "    </tr>\n",
       "  </thead>\n",
       "  <tbody>\n",
       "    <tr>\n",
       "      <th>0</th>\n",
       "      <td>0.741086</td>\n",
       "      <td>True</td>\n",
       "      <td>7.054174</td>\n",
       "    </tr>\n",
       "    <tr>\n",
       "      <th>1</th>\n",
       "      <td>0.730361</td>\n",
       "      <td>False</td>\n",
       "      <td>-0.203298</td>\n",
       "    </tr>\n",
       "    <tr>\n",
       "      <th>2</th>\n",
       "      <td>1.970057</td>\n",
       "      <td>True</td>\n",
       "      <td>6.320687</td>\n",
       "    </tr>\n",
       "    <tr>\n",
       "      <th>3</th>\n",
       "      <td>0.100670</td>\n",
       "      <td>False</td>\n",
       "      <td>-2.137791</td>\n",
       "    </tr>\n",
       "    <tr>\n",
       "      <th>4</th>\n",
       "      <td>0.311545</td>\n",
       "      <td>False</td>\n",
       "      <td>-0.229810</td>\n",
       "    </tr>\n",
       "    <tr>\n",
       "      <th>...</th>\n",
       "      <td>...</td>\n",
       "      <td>...</td>\n",
       "      <td>...</td>\n",
       "    </tr>\n",
       "    <tr>\n",
       "      <th>995</th>\n",
       "      <td>2.397114</td>\n",
       "      <td>True</td>\n",
       "      <td>8.286518</td>\n",
       "    </tr>\n",
       "    <tr>\n",
       "      <th>996</th>\n",
       "      <td>1.428930</td>\n",
       "      <td>True</td>\n",
       "      <td>4.587663</td>\n",
       "    </tr>\n",
       "    <tr>\n",
       "      <th>997</th>\n",
       "      <td>0.951938</td>\n",
       "      <td>True</td>\n",
       "      <td>5.326942</td>\n",
       "    </tr>\n",
       "    <tr>\n",
       "      <th>998</th>\n",
       "      <td>0.572114</td>\n",
       "      <td>True</td>\n",
       "      <td>7.067889</td>\n",
       "    </tr>\n",
       "    <tr>\n",
       "      <th>999</th>\n",
       "      <td>0.859261</td>\n",
       "      <td>True</td>\n",
       "      <td>6.187408</td>\n",
       "    </tr>\n",
       "  </tbody>\n",
       "</table>\n",
       "<p>1000 rows × 3 columns</p>\n",
       "</div>"
      ],
      "text/plain": [
       "           W0     v0         y\n",
       "0    0.741086   True  7.054174\n",
       "1    0.730361  False -0.203298\n",
       "2    1.970057   True  6.320687\n",
       "3    0.100670  False -2.137791\n",
       "4    0.311545  False -0.229810\n",
       "..        ...    ...       ...\n",
       "995  2.397114   True  8.286518\n",
       "996  1.428930   True  4.587663\n",
       "997  0.951938   True  5.326942\n",
       "998  0.572114   True  7.067889\n",
       "999  0.859261   True  6.187408\n",
       "\n",
       "[1000 rows x 3 columns]"
      ]
     },
     "execution_count": 2,
     "metadata": {},
     "output_type": "execute_result"
    }
   ],
   "source": [
    "data = dowhy.datasets.linear_dataset(beta=5,\n",
    "        num_common_causes=1,\n",
    "        num_instruments = 0,\n",
    "        num_samples=1000,\n",
    "        treatment_is_binary=True)\n",
    "df = data['df']\n",
    "df['y'] = df['y'] + np.random.normal(size=len(df)) # Adding noise to data. Without noise, the variance in Y|X, Z is zero, and mcmc fails.\n",
    "#data['dot_graph'] = 'digraph { v ->y;X0-> v;X0-> y;}'\n",
    "\n",
    "treatment= data[\"treatment_name\"][0]\n",
    "outcome = data[\"outcome_name\"][0]\n",
    "common_cause = data[\"common_causes_names\"][0]\n",
    "df"
   ]
  },
  {
   "cell_type": "code",
   "execution_count": 3,
   "metadata": {
    "execution": {
     "iopub.execute_input": "2022-09-01T17:18:15.687433Z",
     "iopub.status.busy": "2022-09-01T17:18:15.687104Z",
     "iopub.status.idle": "2022-09-01T17:18:16.423197Z",
     "shell.execute_reply": "2022-09-01T17:18:16.422659Z"
    }
   },
   "outputs": [
    {
     "data": {
      "text/plain": [
       "<AxesSubplot:xlabel='v0'>"
      ]
     },
     "execution_count": 3,
     "metadata": {},
     "output_type": "execute_result"
    },
    {
     "data": {
      "image/png": "[encoded data removed]",
      "text/plain": [
       "<Figure size 640x480 with 1 Axes>"
      ]
     },
     "metadata": {},
     "output_type": "display_data"
    }
   ],
   "source": [
    "# data['df'] is just a regular pandas.DataFrame\n",
    "df.causal.do(x=treatment,\n",
    "                     variable_types={treatment: 'b', outcome: 'c', common_cause: 'c'},\n",
    "                     outcome=outcome,\n",
    "                     common_causes=[common_cause],\n",
    "                     proceed_when_unidentifiable=True).groupby(treatment).mean().plot(y=outcome, kind='bar')"
   ]
  },
  {
   "cell_type": "code",
   "execution_count": 4,
   "metadata": {
    "execution": {
     "iopub.execute_input": "2022-09-01T17:18:16.427600Z",
     "iopub.status.busy": "2022-09-01T17:18:16.426241Z",
     "iopub.status.idle": "2022-09-01T17:18:16.532307Z",
     "shell.execute_reply": "2022-09-01T17:18:16.531799Z"
    }
   },
   "outputs": [
    {
     "data": {
      "text/plain": [
       "<AxesSubplot:xlabel='v0'>"
      ]
     },
     "execution_count": 4,
     "metadata": {},
     "output_type": "execute_result"
    },
    {
     "data": {
      "image/png": "[encoded data removed]",
      "text/plain": [
       "<Figure size 640x480 with 1 Axes>"
      ]
     },
     "metadata": {},
     "output_type": "display_data"
    }
   ],
   "source": [
    "df.causal.do(x={treatment: 1}, \n",
    "              variable_types={treatment:'b', outcome: 'c', common_cause: 'c'}, \n",
    "              outcome=outcome,\n",
    "              method='weighting', \n",
    "              common_causes=[common_cause],\n",
    "              proceed_when_unidentifiable=True).groupby(treatment).mean().plot(y=outcome, kind='bar')"
   ]
  },
  {
   "cell_type": "code",
   "execution_count": 5,
   "metadata": {
    "execution": {
     "iopub.execute_input": "2022-09-01T17:18:16.536324Z",
     "iopub.status.busy": "2022-09-01T17:18:16.535164Z",
     "iopub.status.idle": "2022-09-01T17:18:16.565597Z",
     "shell.execute_reply": "2022-09-01T17:18:16.565044Z"
    }
   },
   "outputs": [],
   "source": [
    "cdf_1 = df.causal.do(x={treatment: 1}, \n",
    "              variable_types={treatment: 'b', outcome: 'c', common_cause: 'c'}, \n",
    "              outcome=outcome, \n",
    "              dot_graph=data['dot_graph'],\n",
    "              proceed_when_unidentifiable=True)\n",
    "\n",
    "cdf_0 = df.causal.do(x={treatment: 0}, \n",
    "              variable_types={treatment: 'b', outcome: 'c', common_cause: 'c'}, \n",
    "              outcome=outcome, \n",
    "              dot_graph=data['dot_graph'],\n",
    "              proceed_when_unidentifiable=True)\n"
   ]
  },
  {
   "cell_type": "code",
   "execution_count": 6,
   "metadata": {
    "execution": {
     "iopub.execute_input": "2022-09-01T17:18:16.568580Z",
     "iopub.status.busy": "2022-09-01T17:18:16.568265Z",
     "iopub.status.idle": "2022-09-01T17:18:16.580968Z",
     "shell.execute_reply": "2022-09-01T17:18:16.580397Z"
    },
    "scrolled": true
   },
   "outputs": [
    {
     "data": {
      "text/html": [
       "<div>\n",
       "<style scoped>\n",
       "    .dataframe tbody tr th:only-of-type {\n",
       "        vertical-align: middle;\n",
       "    }\n",
       "\n",
       "    .dataframe tbody tr th {\n",
       "        vertical-align: top;\n",
       "    }\n",
       "\n",
       "    .dataframe thead th {\n",
       "        text-align: right;\n",
       "    }\n",
       "</style>\n",
       "<table border=\"1\" class=\"dataframe\">\n",
       "  <thead>\n",
       "    <tr style=\"text-align: right;\">\n",
       "      <th></th>\n",
       "      <th>W0</th>\n",
       "      <th>v0</th>\n",
       "      <th>y</th>\n",
       "      <th>propensity_score</th>\n",
       "      <th>weight</th>\n",
       "    </tr>\n",
       "  </thead>\n",
       "  <tbody>\n",
       "    <tr>\n",
       "      <th>0</th>\n",
       "      <td>0.616998</td>\n",
       "      <td>False</td>\n",
       "      <td>1.443324</td>\n",
       "      <td>0.214074</td>\n",
       "      <td>4.671283</td>\n",
       "    </tr>\n",
       "    <tr>\n",
       "      <th>1</th>\n",
       "      <td>0.531676</td>\n",
       "      <td>False</td>\n",
       "      <td>0.652158</td>\n",
       "      <td>0.247845</td>\n",
       "      <td>4.034772</td>\n",
       "    </tr>\n",
       "    <tr>\n",
       "      <th>2</th>\n",
       "      <td>0.087670</td>\n",
       "      <td>False</td>\n",
       "      <td>-0.426195</td>\n",
       "      <td>0.470212</td>\n",
       "      <td>2.126699</td>\n",
       "    </tr>\n",
       "    <tr>\n",
       "      <th>3</th>\n",
       "      <td>1.284312</td>\n",
       "      <td>False</td>\n",
       "      <td>2.812675</td>\n",
       "      <td>0.057882</td>\n",
       "      <td>17.276491</td>\n",
       "    </tr>\n",
       "    <tr>\n",
       "      <th>4</th>\n",
       "      <td>1.673335</td>\n",
       "      <td>False</td>\n",
       "      <td>-0.617396</td>\n",
       "      <td>0.025139</td>\n",
       "      <td>39.778547</td>\n",
       "    </tr>\n",
       "    <tr>\n",
       "      <th>...</th>\n",
       "      <td>...</td>\n",
       "      <td>...</td>\n",
       "      <td>...</td>\n",
       "      <td>...</td>\n",
       "      <td>...</td>\n",
       "    </tr>\n",
       "    <tr>\n",
       "      <th>995</th>\n",
       "      <td>-0.516609</td>\n",
       "      <td>False</td>\n",
       "      <td>-0.856019</td>\n",
       "      <td>0.773682</td>\n",
       "      <td>1.292521</td>\n",
       "    </tr>\n",
       "    <tr>\n",
       "      <th>996</th>\n",
       "      <td>1.020380</td>\n",
       "      <td>False</td>\n",
       "      <td>1.232339</td>\n",
       "      <td>0.099685</td>\n",
       "      <td>10.031607</td>\n",
       "    </tr>\n",
       "    <tr>\n",
       "      <th>997</th>\n",
       "      <td>0.782937</td>\n",
       "      <td>False</td>\n",
       "      <td>1.676757</td>\n",
       "      <td>0.158310</td>\n",
       "      <td>6.316701</td>\n",
       "    </tr>\n",
       "    <tr>\n",
       "      <th>998</th>\n",
       "      <td>0.334783</td>\n",
       "      <td>False</td>\n",
       "      <td>-0.226060</td>\n",
       "      <td>0.338329</td>\n",
       "      <td>2.955701</td>\n",
       "    </tr>\n",
       "    <tr>\n",
       "      <th>999</th>\n",
       "      <td>1.246863</td>\n",
       "      <td>False</td>\n",
       "      <td>1.342796</td>\n",
       "      <td>0.062611</td>\n",
       "      <td>15.971542</td>\n",
       "    </tr>\n",
       "  </tbody>\n",
       "</table>\n",
       "<p>1000 rows × 5 columns</p>\n",
       "</div>"
      ],
      "text/plain": [
       "           W0     v0         y  propensity_score     weight\n",
       "0    0.616998  False  1.443324          0.214074   4.671283\n",
       "1    0.531676  False  0.652158          0.247845   4.034772\n",
       "2    0.087670  False -0.426195          0.470212   2.126699\n",
       "3    1.284312  False  2.812675          0.057882  17.276491\n",
       "4    1.673335  False -0.617396          0.025139  39.778547\n",
       "..        ...    ...       ...               ...        ...\n",
       "995 -0.516609  False -0.856019          0.773682   1.292521\n",
       "996  1.020380  False  1.232339          0.099685  10.031607\n",
       "997  0.782937  False  1.676757          0.158310   6.316701\n",
       "998  0.334783  False -0.226060          0.338329   2.955701\n",
       "999  1.246863  False  1.342796          0.062611  15.971542\n",
       "\n",
       "[1000 rows x 5 columns]"
      ]
     },
     "execution_count": 6,
     "metadata": {},
     "output_type": "execute_result"
    }
   ],
   "source": [
    "cdf_0"
   ]
  },
  {
   "cell_type": "code",
   "execution_count": 7,
   "metadata": {
    "execution": {
     "iopub.execute_input": "2022-09-01T17:18:16.583822Z",
     "iopub.status.busy": "2022-09-01T17:18:16.583519Z",
     "iopub.status.idle": "2022-09-01T17:18:16.596006Z",
     "shell.execute_reply": "2022-09-01T17:18:16.595004Z"
    }
   },
   "outputs": [
    {
     "data": {
      "text/html": [
       "<div>\n",
       "<style scoped>\n",
       "    .dataframe tbody tr th:only-of-type {\n",
       "        vertical-align: middle;\n",
       "    }\n",
       "\n",
       "    .dataframe tbody tr th {\n",
       "        vertical-align: top;\n",
       "    }\n",
       "\n",
       "    .dataframe thead th {\n",
       "        text-align: right;\n",
       "    }\n",
       "</style>\n",
       "<table border=\"1\" class=\"dataframe\">\n",
       "  <thead>\n",
       "    <tr style=\"text-align: right;\">\n",
       "      <th></th>\n",
       "      <th>W0</th>\n",
       "      <th>v0</th>\n",
       "      <th>y</th>\n",
       "      <th>propensity_score</th>\n",
       "      <th>weight</th>\n",
       "    </tr>\n",
       "  </thead>\n",
       "  <tbody>\n",
       "    <tr>\n",
       "      <th>0</th>\n",
       "      <td>0.803909</td>\n",
       "      <td>True</td>\n",
       "      <td>5.343005</td>\n",
       "      <td>0.847826</td>\n",
       "      <td>1.179487</td>\n",
       "    </tr>\n",
       "    <tr>\n",
       "      <th>1</th>\n",
       "      <td>0.202923</td>\n",
       "      <td>True</td>\n",
       "      <td>6.439316</td>\n",
       "      <td>0.593026</td>\n",
       "      <td>1.686266</td>\n",
       "    </tr>\n",
       "    <tr>\n",
       "      <th>2</th>\n",
       "      <td>1.324367</td>\n",
       "      <td>True</td>\n",
       "      <td>6.741620</td>\n",
       "      <td>0.946804</td>\n",
       "      <td>1.056185</td>\n",
       "    </tr>\n",
       "    <tr>\n",
       "      <th>3</th>\n",
       "      <td>1.064998</td>\n",
       "      <td>True</td>\n",
       "      <td>6.773536</td>\n",
       "      <td>0.908902</td>\n",
       "      <td>1.100229</td>\n",
       "    </tr>\n",
       "    <tr>\n",
       "      <th>4</th>\n",
       "      <td>-0.049402</td>\n",
       "      <td>True</td>\n",
       "      <td>7.197514</td>\n",
       "      <td>0.453485</td>\n",
       "      <td>2.205145</td>\n",
       "    </tr>\n",
       "    <tr>\n",
       "      <th>...</th>\n",
       "      <td>...</td>\n",
       "      <td>...</td>\n",
       "      <td>...</td>\n",
       "      <td>...</td>\n",
       "      <td>...</td>\n",
       "    </tr>\n",
       "    <tr>\n",
       "      <th>995</th>\n",
       "      <td>-0.510964</td>\n",
       "      <td>True</td>\n",
       "      <td>5.179475</td>\n",
       "      <td>0.228531</td>\n",
       "      <td>4.375773</td>\n",
       "    </tr>\n",
       "    <tr>\n",
       "      <th>996</th>\n",
       "      <td>1.903106</td>\n",
       "      <td>True</td>\n",
       "      <td>6.059092</td>\n",
       "      <td>0.984792</td>\n",
       "      <td>1.015443</td>\n",
       "    </tr>\n",
       "    <tr>\n",
       "      <th>997</th>\n",
       "      <td>0.676631</td>\n",
       "      <td>True</td>\n",
       "      <td>5.348730</td>\n",
       "      <td>0.807465</td>\n",
       "      <td>1.238444</td>\n",
       "    </tr>\n",
       "    <tr>\n",
       "      <th>998</th>\n",
       "      <td>0.074596</td>\n",
       "      <td>True</td>\n",
       "      <td>5.834224</td>\n",
       "      <td>0.522514</td>\n",
       "      <td>1.913825</td>\n",
       "    </tr>\n",
       "    <tr>\n",
       "      <th>999</th>\n",
       "      <td>0.814465</td>\n",
       "      <td>True</td>\n",
       "      <td>5.657257</td>\n",
       "      <td>0.850841</td>\n",
       "      <td>1.175308</td>\n",
       "    </tr>\n",
       "  </tbody>\n",
       "</table>\n",
       "<p>1000 rows × 5 columns</p>\n",
       "</div>"
      ],
      "text/plain": [
       "           W0    v0         y  propensity_score    weight\n",
       "0    0.803909  True  5.343005          0.847826  1.179487\n",
       "1    0.202923  True  6.439316          0.593026  1.686266\n",
       "2    1.324367  True  6.741620          0.946804  1.056185\n",
       "3    1.064998  True  6.773536          0.908902  1.100229\n",
       "4   -0.049402  True  7.197514          0.453485  2.205145\n",
       "..        ...   ...       ...               ...       ...\n",
       "995 -0.510964  True  5.179475          0.228531  4.375773\n",
       "996  1.903106  True  6.059092          0.984792  1.015443\n",
       "997  0.676631  True  5.348730          0.807465  1.238444\n",
       "998  0.074596  True  5.834224          0.522514  1.913825\n",
       "999  0.814465  True  5.657257          0.850841  1.175308\n",
       "\n",
       "[1000 rows x 5 columns]"
      ]
     },
     "execution_count": 7,
     "metadata": {},
     "output_type": "execute_result"
    }
   ],
   "source": [
    "cdf_1"
   ]
  },
  {
   "cell_type": "markdown",
   "metadata": {},
   "source": [
    "## Comparing the estimate to Linear Regression\n",
    "First, estimating the effect using the causal data frame, and the 95% confidence interval."
   ]
  },
  {
   "cell_type": "code",
   "execution_count": 8,
   "metadata": {
    "execution": {
     "iopub.execute_input": "2022-09-01T17:18:16.598995Z",
     "iopub.status.busy": "2022-09-01T17:18:16.598677Z",
     "iopub.status.idle": "2022-09-01T17:18:16.695754Z",
     "shell.execute_reply": "2022-09-01T17:18:16.695155Z"
    }
   },
   "outputs": [
    {
     "data": {
      "image/png": "[encoded data removed]",
      "text/latex": [
       "$\\displaystyle 5.30642232689292$"
      ],
      "text/plain": [
       "5.3064223268929185"
      ]
     },
     "execution_count": 8,
     "metadata": {},
     "output_type": "execute_result"
    }
   ],
   "source": [
    "(cdf_1['y'] - cdf_0['y']).mean()"
   ]
  },
  {
   "cell_type": "code",
   "execution_count": 9,
   "metadata": {
    "execution": {
     "iopub.execute_input": "2022-09-01T17:18:16.699047Z",
     "iopub.status.busy": "2022-09-01T17:18:16.698714Z",
     "iopub.status.idle": "2022-09-01T17:18:16.724377Z",
     "shell.execute_reply": "2022-09-01T17:18:16.723378Z"
    }
   },
   "outputs": [
    {
     "data": {
      "image/png": "[encoded data removed]",
      "text/latex": [
       "$\\displaystyle 0.13686453219274$"
      ],
      "text/plain": [
       "0.13686453219273995"
      ]
     },
     "execution_count": 9,
     "metadata": {},
     "output_type": "execute_result"
    }
   ],
   "source": [
    "1.96*(cdf_1['y'] - cdf_0['y']).std() / np.sqrt(len(df))"
   ]
  },
  {
   "cell_type": "markdown",
   "metadata": {},
   "source": [
    "Comparing to the estimate from OLS."
   ]
  },
  {
   "cell_type": "code",
   "execution_count": 10,
   "metadata": {
    "execution": {
     "iopub.execute_input": "2022-09-01T17:18:16.727594Z",
     "iopub.status.busy": "2022-09-01T17:18:16.727282Z",
     "iopub.status.idle": "2022-09-01T17:18:16.744522Z",
     "shell.execute_reply": "2022-09-01T17:18:16.743983Z"
    }
   },
   "outputs": [
    {
     "data": {
      "text/html": [
       "<table class=\"simpletable\">\n",
       "<caption>OLS Regression Results</caption>\n",
       "<tr>\n",
       "  <th>Dep. Variable:</th>            <td>y</td>        <th>  R-squared (uncentered):</th>      <td>   0.966</td> \n",
       "</tr>\n",
       "<tr>\n",
       "  <th>Model:</th>                   <td>OLS</td>       <th>  Adj. R-squared (uncentered):</th> <td>   0.966</td> \n",
       "</tr>\n",
       "<tr>\n",
       "  <th>Method:</th>             <td>Least Squares</td>  <th>  F-statistic:       </th>          <td>1.431e+04</td>\n",
       "</tr>\n",
       "<tr>\n",
       "  <th>Date:</th>             <td>Thu, 01 Sep 2022</td> <th>  Prob (F-statistic):</th>           <td>  0.00</td>  \n",
       "</tr>\n",
       "<tr>\n",
       "  <th>Time:</th>                 <td>17:18:16</td>     <th>  Log-Likelihood:    </th>          <td> -1397.8</td> \n",
       "</tr>\n",
       "<tr>\n",
       "  <th>No. Observations:</th>      <td>  1000</td>      <th>  AIC:               </th>          <td>   2800.</td> \n",
       "</tr>\n",
       "<tr>\n",
       "  <th>Df Residuals:</th>          <td>   998</td>      <th>  BIC:               </th>          <td>   2809.</td> \n",
       "</tr>\n",
       "<tr>\n",
       "  <th>Df Model:</th>              <td>     2</td>      <th>                     </th>              <td> </td>    \n",
       "</tr>\n",
       "<tr>\n",
       "  <th>Covariance Type:</th>      <td>nonrobust</td>    <th>                     </th>              <td> </td>    \n",
       "</tr>\n",
       "</table>\n",
       "<table class=\"simpletable\">\n",
       "<tr>\n",
       "   <td></td>     <th>coef</th>     <th>std err</th>      <th>t</th>      <th>P>|t|</th>  <th>[0.025</th>    <th>0.975]</th>  \n",
       "</tr>\n",
       "<tr>\n",
       "  <th>x1</th> <td>    1.2942</td> <td>    0.039</td> <td>   33.260</td> <td> 0.000</td> <td>    1.218</td> <td>    1.371</td>\n",
       "</tr>\n",
       "<tr>\n",
       "  <th>x2</th> <td>    4.9218</td> <td>    0.055</td> <td>   89.739</td> <td> 0.000</td> <td>    4.814</td> <td>    5.029</td>\n",
       "</tr>\n",
       "</table>\n",
       "<table class=\"simpletable\">\n",
       "<tr>\n",
       "  <th>Omnibus:</th>       <td> 1.568</td> <th>  Durbin-Watson:     </th> <td>   2.041</td>\n",
       "</tr>\n",
       "<tr>\n",
       "  <th>Prob(Omnibus):</th> <td> 0.457</td> <th>  Jarque-Bera (JB):  </th> <td>   1.643</td>\n",
       "</tr>\n",
       "<tr>\n",
       "  <th>Skew:</th>          <td>-0.081</td> <th>  Prob(JB):          </th> <td>   0.440</td>\n",
       "</tr>\n",
       "<tr>\n",
       "  <th>Kurtosis:</th>      <td> 2.885</td> <th>  Cond. No.          </th> <td>    2.72</td>\n",
       "</tr>\n",
       "</table><br/><br/>Notes:<br/>[1] R² is computed without centering (uncentered) since the model does not contain a constant.<br/>[2] Standard Errors assume that the covariance matrix of the errors is correctly specified."
      ],
      "text/plain": [
       "<class 'statsmodels.iolib.summary.Summary'>\n",
       "\"\"\"\n",
       "                                 OLS Regression Results                                \n",
       "=======================================================================================\n",
       "Dep. Variable:                      y   R-squared (uncentered):                   0.966\n",
       "Model:                            OLS   Adj. R-squared (uncentered):              0.966\n",
       "Method:                 Least Squares   F-statistic:                          1.431e+04\n",
       "Date:                Thu, 01 Sep 2022   Prob (F-statistic):                        0.00\n",
       "Time:                        17:18:16   Log-Likelihood:                         -1397.8\n",
       "No. Observations:                1000   AIC:                                      2800.\n",
       "Df Residuals:                     998   BIC:                                      2809.\n",
       "Df Model:                           2                                                  \n",
       "Covariance Type:            nonrobust                                                  \n",
       "==============================================================================\n",
       "                 coef    std err          t      P>|t|      [0.025      0.975]\n",
       "------------------------------------------------------------------------------\n",
       "x1             1.2942      0.039     33.260      0.000       1.218       1.371\n",
       "x2             4.9218      0.055     89.739      0.000       4.814       5.029\n",
       "==============================================================================\n",
       "Omnibus:                        1.568   Durbin-Watson:                   2.041\n",
       "Prob(Omnibus):                  0.457   Jarque-Bera (JB):                1.643\n",
       "Skew:                          -0.081   Prob(JB):                        0.440\n",
       "Kurtosis:                       2.885   Cond. No.                         2.72\n",
       "==============================================================================\n",
       "\n",
       "Notes:\n",
       "[1] R² is computed without centering (uncentered) since the model does not contain a constant.\n",
       "[2] Standard Errors assume that the covariance matrix of the errors is correctly specified.\n",
       "\"\"\""
      ]
     },
     "execution_count": 10,
     "metadata": {},
     "output_type": "execute_result"
    }
   ],
   "source": [
    "model = OLS(np.asarray(df[outcome]), np.asarray(df[[common_cause, treatment]], dtype=np.float64))\n",
    "result = model.fit()\n",
    "result.summary()"
   ]
  }
 ],
 "metadata": {
  "kernelspec": {
   "display_name": "Python 3",
   "language": "python",
   "name": "python3"
  },
  "language_info": {
   "codemirror_mode": {
    "name": "ipython",
    "version": 3
   },
   "file_extension": ".py",
   "mimetype": "text/x-python",
   "name": "python",
   "nbconvert_exporter": "python",
   "pygments_lexer": "ipython3",
   "version": "3.8.10"
  },
  "toc": {
   "base_numbering": 1,
   "nav_menu": {},
   "number_sections": false,
   "sideBar": true,
   "skip_h1_title": true,
   "title_cell": "Table of Contents",
   "title_sidebar": "Contents",
   "toc_cell": false,
   "toc_position": {},
   "toc_section_display": true,
   "toc_window_display": false
  }
 },
 "nbformat": 4,
 "nbformat_minor": 4
}
