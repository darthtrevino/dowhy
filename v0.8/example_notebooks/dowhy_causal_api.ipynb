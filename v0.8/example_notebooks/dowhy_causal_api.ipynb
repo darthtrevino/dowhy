{
 "cells": [
  {
   "cell_type": "markdown",
   "metadata": {},
   "source": [
    "# Demo for the DoWhy causal API\n",
    "We show a simple example of adding a causal extension to any dataframe. "
   ]
  },
  {
   "cell_type": "code",
   "execution_count": 1,
   "metadata": {
    "execution": {
     "iopub.execute_input": "2022-09-01T17:04:35.424496Z",
     "iopub.status.busy": "2022-09-01T17:04:35.423988Z",
     "iopub.status.idle": "2022-09-01T17:04:36.945927Z",
     "shell.execute_reply": "2022-09-01T17:04:36.944791Z"
    }
   },
   "outputs": [],
   "source": [
    "import dowhy.datasets\n",
    "import dowhy.api\n",
    "\n",
    "import numpy as np\n",
    "import pandas as pd\n",
    "\n",
    "from statsmodels.api import OLS"
   ]
  },
  {
   "cell_type": "code",
   "execution_count": 2,
   "metadata": {
    "execution": {
     "iopub.execute_input": "2022-09-01T17:04:36.950850Z",
     "iopub.status.busy": "2022-09-01T17:04:36.950390Z",
     "iopub.status.idle": "2022-09-01T17:04:37.018136Z",
     "shell.execute_reply": "2022-09-01T17:04:37.017138Z"
    }
   },
   "outputs": [
    {
     "data": {
      "text/html": [
       "<div>\n",
       "<style scoped>\n",
       "    .dataframe tbody tr th:only-of-type {\n",
       "        vertical-align: middle;\n",
       "    }\n",
       "\n",
       "    .dataframe tbody tr th {\n",
       "        vertical-align: top;\n",
       "    }\n",
       "\n",
       "    .dataframe thead th {\n",
       "        text-align: right;\n",
       "    }\n",
       "</style>\n",
       "<table border=\"1\" class=\"dataframe\">\n",
       "  <thead>\n",
       "    <tr style=\"text-align: right;\">\n",
       "      <th></th>\n",
       "      <th>W0</th>\n",
       "      <th>v0</th>\n",
       "      <th>y</th>\n",
       "    </tr>\n",
       "  </thead>\n",
       "  <tbody>\n",
       "    <tr>\n",
       "      <th>0</th>\n",
       "      <td>0.900038</td>\n",
       "      <td>True</td>\n",
       "      <td>6.845459</td>\n",
       "    </tr>\n",
       "    <tr>\n",
       "      <th>1</th>\n",
       "      <td>-1.236128</td>\n",
       "      <td>True</td>\n",
       "      <td>-1.506835</td>\n",
       "    </tr>\n",
       "    <tr>\n",
       "      <th>2</th>\n",
       "      <td>1.499761</td>\n",
       "      <td>True</td>\n",
       "      <td>9.864456</td>\n",
       "    </tr>\n",
       "    <tr>\n",
       "      <th>3</th>\n",
       "      <td>-0.271229</td>\n",
       "      <td>False</td>\n",
       "      <td>-1.502530</td>\n",
       "    </tr>\n",
       "    <tr>\n",
       "      <th>4</th>\n",
       "      <td>0.841570</td>\n",
       "      <td>True</td>\n",
       "      <td>6.080452</td>\n",
       "    </tr>\n",
       "    <tr>\n",
       "      <th>...</th>\n",
       "      <td>...</td>\n",
       "      <td>...</td>\n",
       "      <td>...</td>\n",
       "    </tr>\n",
       "    <tr>\n",
       "      <th>995</th>\n",
       "      <td>0.355837</td>\n",
       "      <td>True</td>\n",
       "      <td>6.426948</td>\n",
       "    </tr>\n",
       "    <tr>\n",
       "      <th>996</th>\n",
       "      <td>-3.102562</td>\n",
       "      <td>False</td>\n",
       "      <td>-8.022928</td>\n",
       "    </tr>\n",
       "    <tr>\n",
       "      <th>997</th>\n",
       "      <td>1.876890</td>\n",
       "      <td>True</td>\n",
       "      <td>9.204710</td>\n",
       "    </tr>\n",
       "    <tr>\n",
       "      <th>998</th>\n",
       "      <td>-0.734564</td>\n",
       "      <td>False</td>\n",
       "      <td>-0.378092</td>\n",
       "    </tr>\n",
       "    <tr>\n",
       "      <th>999</th>\n",
       "      <td>2.115834</td>\n",
       "      <td>True</td>\n",
       "      <td>10.307136</td>\n",
       "    </tr>\n",
       "  </tbody>\n",
       "</table>\n",
       "<p>1000 rows × 3 columns</p>\n",
       "</div>"
      ],
      "text/plain": [
       "           W0     v0          y\n",
       "0    0.900038   True   6.845459\n",
       "1   -1.236128   True  -1.506835\n",
       "2    1.499761   True   9.864456\n",
       "3   -0.271229  False  -1.502530\n",
       "4    0.841570   True   6.080452\n",
       "..        ...    ...        ...\n",
       "995  0.355837   True   6.426948\n",
       "996 -3.102562  False  -8.022928\n",
       "997  1.876890   True   9.204710\n",
       "998 -0.734564  False  -0.378092\n",
       "999  2.115834   True  10.307136\n",
       "\n",
       "[1000 rows x 3 columns]"
      ]
     },
     "execution_count": 2,
     "metadata": {},
     "output_type": "execute_result"
    }
   ],
   "source": [
    "data = dowhy.datasets.linear_dataset(beta=5,\n",
    "        num_common_causes=1,\n",
    "        num_instruments = 0,\n",
    "        num_samples=1000,\n",
    "        treatment_is_binary=True)\n",
    "df = data['df']\n",
    "df['y'] = df['y'] + np.random.normal(size=len(df)) # Adding noise to data. Without noise, the variance in Y|X, Z is zero, and mcmc fails.\n",
    "#data['dot_graph'] = 'digraph { v ->y;X0-> v;X0-> y;}'\n",
    "\n",
    "treatment= data[\"treatment_name\"][0]\n",
    "outcome = data[\"outcome_name\"][0]\n",
    "common_cause = data[\"common_causes_names\"][0]\n",
    "df"
   ]
  },
  {
   "cell_type": "code",
   "execution_count": 3,
   "metadata": {
    "execution": {
     "iopub.execute_input": "2022-09-01T17:04:37.022452Z",
     "iopub.status.busy": "2022-09-01T17:04:37.021728Z",
     "iopub.status.idle": "2022-09-01T17:04:38.033203Z",
     "shell.execute_reply": "2022-09-01T17:04:38.032169Z"
    }
   },
   "outputs": [
    {
     "data": {
      "text/plain": [
       "<AxesSubplot:xlabel='v0'>"
      ]
     },
     "execution_count": 3,
     "metadata": {},
     "output_type": "execute_result"
    },
    {
     "data": {
      "image/png": "[encoded data removed]",
      "text/plain": [
       "<Figure size 640x480 with 1 Axes>"
      ]
     },
     "metadata": {},
     "output_type": "display_data"
    }
   ],
   "source": [
    "# data['df'] is just a regular pandas.DataFrame\n",
    "df.causal.do(x=treatment,\n",
    "                     variable_types={treatment: 'b', outcome: 'c', common_cause: 'c'},\n",
    "                     outcome=outcome,\n",
    "                     common_causes=[common_cause],\n",
    "                     proceed_when_unidentifiable=True).groupby(treatment).mean().plot(y=outcome, kind='bar')"
   ]
  },
  {
   "cell_type": "code",
   "execution_count": 4,
   "metadata": {
    "execution": {
     "iopub.execute_input": "2022-09-01T17:04:38.038733Z",
     "iopub.status.busy": "2022-09-01T17:04:38.037250Z",
     "iopub.status.idle": "2022-09-01T17:04:38.168740Z",
     "shell.execute_reply": "2022-09-01T17:04:38.168057Z"
    }
   },
   "outputs": [
    {
     "data": {
      "text/plain": [
       "<AxesSubplot:xlabel='v0'>"
      ]
     },
     "execution_count": 4,
     "metadata": {},
     "output_type": "execute_result"
    },
    {
     "data": {
      "image/png": "[encoded data removed]",
      "text/plain": [
       "<Figure size 640x480 with 1 Axes>"
      ]
     },
     "metadata": {},
     "output_type": "display_data"
    }
   ],
   "source": [
    "df.causal.do(x={treatment: 1}, \n",
    "              variable_types={treatment:'b', outcome: 'c', common_cause: 'c'}, \n",
    "              outcome=outcome,\n",
    "              method='weighting', \n",
    "              common_causes=[common_cause],\n",
    "              proceed_when_unidentifiable=True).groupby(treatment).mean().plot(y=outcome, kind='bar')"
   ]
  },
  {
   "cell_type": "code",
   "execution_count": 5,
   "metadata": {
    "execution": {
     "iopub.execute_input": "2022-09-01T17:04:38.173695Z",
     "iopub.status.busy": "2022-09-01T17:04:38.172445Z",
     "iopub.status.idle": "2022-09-01T17:04:38.217879Z",
     "shell.execute_reply": "2022-09-01T17:04:38.217054Z"
    }
   },
   "outputs": [],
   "source": [
    "cdf_1 = df.causal.do(x={treatment: 1}, \n",
    "              variable_types={treatment: 'b', outcome: 'c', common_cause: 'c'}, \n",
    "              outcome=outcome, \n",
    "              dot_graph=data['dot_graph'],\n",
    "              proceed_when_unidentifiable=True)\n",
    "\n",
    "cdf_0 = df.causal.do(x={treatment: 0}, \n",
    "              variable_types={treatment: 'b', outcome: 'c', common_cause: 'c'}, \n",
    "              outcome=outcome, \n",
    "              dot_graph=data['dot_graph'],\n",
    "              proceed_when_unidentifiable=True)\n"
   ]
  },
  {
   "cell_type": "code",
   "execution_count": 6,
   "metadata": {
    "execution": {
     "iopub.execute_input": "2022-09-01T17:04:38.224213Z",
     "iopub.status.busy": "2022-09-01T17:04:38.222625Z",
     "iopub.status.idle": "2022-09-01T17:04:38.238812Z",
     "shell.execute_reply": "2022-09-01T17:04:38.238057Z"
    },
    "scrolled": true
   },
   "outputs": [
    {
     "data": {
      "text/html": [
       "<div>\n",
       "<style scoped>\n",
       "    .dataframe tbody tr th:only-of-type {\n",
       "        vertical-align: middle;\n",
       "    }\n",
       "\n",
       "    .dataframe tbody tr th {\n",
       "        vertical-align: top;\n",
       "    }\n",
       "\n",
       "    .dataframe thead th {\n",
       "        text-align: right;\n",
       "    }\n",
       "</style>\n",
       "<table border=\"1\" class=\"dataframe\">\n",
       "  <thead>\n",
       "    <tr style=\"text-align: right;\">\n",
       "      <th></th>\n",
       "      <th>W0</th>\n",
       "      <th>v0</th>\n",
       "      <th>y</th>\n",
       "      <th>propensity_score</th>\n",
       "      <th>weight</th>\n",
       "    </tr>\n",
       "  </thead>\n",
       "  <tbody>\n",
       "    <tr>\n",
       "      <th>0</th>\n",
       "      <td>0.187817</td>\n",
       "      <td>False</td>\n",
       "      <td>2.689469</td>\n",
       "      <td>0.489307</td>\n",
       "      <td>2.043708</td>\n",
       "    </tr>\n",
       "    <tr>\n",
       "      <th>1</th>\n",
       "      <td>-0.852150</td>\n",
       "      <td>False</td>\n",
       "      <td>-2.157291</td>\n",
       "      <td>0.641160</td>\n",
       "      <td>1.559673</td>\n",
       "    </tr>\n",
       "    <tr>\n",
       "      <th>2</th>\n",
       "      <td>-1.007518</td>\n",
       "      <td>False</td>\n",
       "      <td>-2.535518</td>\n",
       "      <td>0.662287</td>\n",
       "      <td>1.509919</td>\n",
       "    </tr>\n",
       "    <tr>\n",
       "      <th>3</th>\n",
       "      <td>0.460081</td>\n",
       "      <td>False</td>\n",
       "      <td>0.999806</td>\n",
       "      <td>0.448699</td>\n",
       "      <td>2.228665</td>\n",
       "    </tr>\n",
       "    <tr>\n",
       "      <th>4</th>\n",
       "      <td>0.541909</td>\n",
       "      <td>False</td>\n",
       "      <td>4.067251</td>\n",
       "      <td>0.436603</td>\n",
       "      <td>2.290413</td>\n",
       "    </tr>\n",
       "    <tr>\n",
       "      <th>...</th>\n",
       "      <td>...</td>\n",
       "      <td>...</td>\n",
       "      <td>...</td>\n",
       "      <td>...</td>\n",
       "      <td>...</td>\n",
       "    </tr>\n",
       "    <tr>\n",
       "      <th>995</th>\n",
       "      <td>-0.883674</td>\n",
       "      <td>False</td>\n",
       "      <td>-2.190034</td>\n",
       "      <td>0.645494</td>\n",
       "      <td>1.549200</td>\n",
       "    </tr>\n",
       "    <tr>\n",
       "      <th>996</th>\n",
       "      <td>-0.779049</td>\n",
       "      <td>False</td>\n",
       "      <td>-2.772102</td>\n",
       "      <td>0.631021</td>\n",
       "      <td>1.584734</td>\n",
       "    </tr>\n",
       "    <tr>\n",
       "      <th>997</th>\n",
       "      <td>-1.101801</td>\n",
       "      <td>False</td>\n",
       "      <td>-3.352473</td>\n",
       "      <td>0.674806</td>\n",
       "      <td>1.481908</td>\n",
       "    </tr>\n",
       "    <tr>\n",
       "      <th>998</th>\n",
       "      <td>-0.268489</td>\n",
       "      <td>False</td>\n",
       "      <td>-0.212429</td>\n",
       "      <td>0.557409</td>\n",
       "      <td>1.794014</td>\n",
       "    </tr>\n",
       "    <tr>\n",
       "      <th>999</th>\n",
       "      <td>-0.049636</td>\n",
       "      <td>False</td>\n",
       "      <td>1.118933</td>\n",
       "      <td>0.524857</td>\n",
       "      <td>1.905280</td>\n",
       "    </tr>\n",
       "  </tbody>\n",
       "</table>\n",
       "<p>1000 rows × 5 columns</p>\n",
       "</div>"
      ],
      "text/plain": [
       "           W0     v0         y  propensity_score    weight\n",
       "0    0.187817  False  2.689469          0.489307  2.043708\n",
       "1   -0.852150  False -2.157291          0.641160  1.559673\n",
       "2   -1.007518  False -2.535518          0.662287  1.509919\n",
       "3    0.460081  False  0.999806          0.448699  2.228665\n",
       "4    0.541909  False  4.067251          0.436603  2.290413\n",
       "..        ...    ...       ...               ...       ...\n",
       "995 -0.883674  False -2.190034          0.645494  1.549200\n",
       "996 -0.779049  False -2.772102          0.631021  1.584734\n",
       "997 -1.101801  False -3.352473          0.674806  1.481908\n",
       "998 -0.268489  False -0.212429          0.557409  1.794014\n",
       "999 -0.049636  False  1.118933          0.524857  1.905280\n",
       "\n",
       "[1000 rows x 5 columns]"
      ]
     },
     "execution_count": 6,
     "metadata": {},
     "output_type": "execute_result"
    }
   ],
   "source": [
    "cdf_0"
   ]
  },
  {
   "cell_type": "code",
   "execution_count": 7,
   "metadata": {
    "execution": {
     "iopub.execute_input": "2022-09-01T17:04:38.243102Z",
     "iopub.status.busy": "2022-09-01T17:04:38.242523Z",
     "iopub.status.idle": "2022-09-01T17:04:38.260244Z",
     "shell.execute_reply": "2022-09-01T17:04:38.259480Z"
    }
   },
   "outputs": [
    {
     "data": {
      "text/html": [
       "<div>\n",
       "<style scoped>\n",
       "    .dataframe tbody tr th:only-of-type {\n",
       "        vertical-align: middle;\n",
       "    }\n",
       "\n",
       "    .dataframe tbody tr th {\n",
       "        vertical-align: top;\n",
       "    }\n",
       "\n",
       "    .dataframe thead th {\n",
       "        text-align: right;\n",
       "    }\n",
       "</style>\n",
       "<table border=\"1\" class=\"dataframe\">\n",
       "  <thead>\n",
       "    <tr style=\"text-align: right;\">\n",
       "      <th></th>\n",
       "      <th>W0</th>\n",
       "      <th>v0</th>\n",
       "      <th>y</th>\n",
       "      <th>propensity_score</th>\n",
       "      <th>weight</th>\n",
       "    </tr>\n",
       "  </thead>\n",
       "  <tbody>\n",
       "    <tr>\n",
       "      <th>0</th>\n",
       "      <td>-1.772859</td>\n",
       "      <td>True</td>\n",
       "      <td>2.741134</td>\n",
       "      <td>0.243770</td>\n",
       "      <td>4.102229</td>\n",
       "    </tr>\n",
       "    <tr>\n",
       "      <th>1</th>\n",
       "      <td>0.719592</td>\n",
       "      <td>True</td>\n",
       "      <td>6.723296</td>\n",
       "      <td>0.589388</td>\n",
       "      <td>1.696675</td>\n",
       "    </tr>\n",
       "    <tr>\n",
       "      <th>2</th>\n",
       "      <td>-1.874612</td>\n",
       "      <td>True</td>\n",
       "      <td>0.980969</td>\n",
       "      <td>0.232706</td>\n",
       "      <td>4.297269</td>\n",
       "    </tr>\n",
       "    <tr>\n",
       "      <th>3</th>\n",
       "      <td>0.236150</td>\n",
       "      <td>True</td>\n",
       "      <td>5.130268</td>\n",
       "      <td>0.517928</td>\n",
       "      <td>1.930771</td>\n",
       "    </tr>\n",
       "    <tr>\n",
       "      <th>4</th>\n",
       "      <td>-2.311892</td>\n",
       "      <td>True</td>\n",
       "      <td>-0.929296</td>\n",
       "      <td>0.189214</td>\n",
       "      <td>5.285026</td>\n",
       "    </tr>\n",
       "    <tr>\n",
       "      <th>...</th>\n",
       "      <td>...</td>\n",
       "      <td>...</td>\n",
       "      <td>...</td>\n",
       "      <td>...</td>\n",
       "      <td>...</td>\n",
       "    </tr>\n",
       "    <tr>\n",
       "      <th>995</th>\n",
       "      <td>0.110461</td>\n",
       "      <td>True</td>\n",
       "      <td>5.222962</td>\n",
       "      <td>0.499106</td>\n",
       "      <td>2.003581</td>\n",
       "    </tr>\n",
       "    <tr>\n",
       "      <th>996</th>\n",
       "      <td>0.154722</td>\n",
       "      <td>True</td>\n",
       "      <td>4.345454</td>\n",
       "      <td>0.505737</td>\n",
       "      <td>1.977314</td>\n",
       "    </tr>\n",
       "    <tr>\n",
       "      <th>997</th>\n",
       "      <td>-0.518679</td>\n",
       "      <td>True</td>\n",
       "      <td>2.918938</td>\n",
       "      <td>0.405988</td>\n",
       "      <td>2.463127</td>\n",
       "    </tr>\n",
       "    <tr>\n",
       "      <th>998</th>\n",
       "      <td>-0.092023</td>\n",
       "      <td>True</td>\n",
       "      <td>4.630142</td>\n",
       "      <td>0.468813</td>\n",
       "      <td>2.133046</td>\n",
       "    </tr>\n",
       "    <tr>\n",
       "      <th>999</th>\n",
       "      <td>-0.759131</td>\n",
       "      <td>True</td>\n",
       "      <td>2.535651</td>\n",
       "      <td>0.371763</td>\n",
       "      <td>2.689888</td>\n",
       "    </tr>\n",
       "  </tbody>\n",
       "</table>\n",
       "<p>1000 rows × 5 columns</p>\n",
       "</div>"
      ],
      "text/plain": [
       "           W0    v0         y  propensity_score    weight\n",
       "0   -1.772859  True  2.741134          0.243770  4.102229\n",
       "1    0.719592  True  6.723296          0.589388  1.696675\n",
       "2   -1.874612  True  0.980969          0.232706  4.297269\n",
       "3    0.236150  True  5.130268          0.517928  1.930771\n",
       "4   -2.311892  True -0.929296          0.189214  5.285026\n",
       "..        ...   ...       ...               ...       ...\n",
       "995  0.110461  True  5.222962          0.499106  2.003581\n",
       "996  0.154722  True  4.345454          0.505737  1.977314\n",
       "997 -0.518679  True  2.918938          0.405988  2.463127\n",
       "998 -0.092023  True  4.630142          0.468813  2.133046\n",
       "999 -0.759131  True  2.535651          0.371763  2.689888\n",
       "\n",
       "[1000 rows x 5 columns]"
      ]
     },
     "execution_count": 7,
     "metadata": {},
     "output_type": "execute_result"
    }
   ],
   "source": [
    "cdf_1"
   ]
  },
  {
   "cell_type": "markdown",
   "metadata": {},
   "source": [
    "## Comparing the estimate to Linear Regression\n",
    "First, estimating the effect using the causal data frame, and the 95% confidence interval."
   ]
  },
  {
   "cell_type": "code",
   "execution_count": 8,
   "metadata": {
    "execution": {
     "iopub.execute_input": "2022-09-01T17:04:38.264217Z",
     "iopub.status.busy": "2022-09-01T17:04:38.263535Z",
     "iopub.status.idle": "2022-09-01T17:04:38.385780Z",
     "shell.execute_reply": "2022-09-01T17:04:38.384574Z"
    }
   },
   "outputs": [
    {
     "data": {
      "image/png": "[encoded data removed]",
      "text/latex": [
       "$\\displaystyle 5.1366155320258$"
      ],
      "text/plain": [
       "5.136615532025803"
      ]
     },
     "execution_count": 8,
     "metadata": {},
     "output_type": "execute_result"
    }
   ],
   "source": [
    "(cdf_1['y'] - cdf_0['y']).mean()"
   ]
  },
  {
   "cell_type": "code",
   "execution_count": 9,
   "metadata": {
    "execution": {
     "iopub.execute_input": "2022-09-01T17:04:38.393012Z",
     "iopub.status.busy": "2022-09-01T17:04:38.392241Z",
     "iopub.status.idle": "2022-09-01T17:04:38.428545Z",
     "shell.execute_reply": "2022-09-01T17:04:38.427532Z"
    }
   },
   "outputs": [
    {
     "data": {
      "image/png": "[encoded data removed]",
      "text/latex": [
       "$\\displaystyle 0.244338065464564$"
      ],
      "text/plain": [
       "0.24433806546456424"
      ]
     },
     "execution_count": 9,
     "metadata": {},
     "output_type": "execute_result"
    }
   ],
   "source": [
    "1.96*(cdf_1['y'] - cdf_0['y']).std() / np.sqrt(len(df))"
   ]
  },
  {
   "cell_type": "markdown",
   "metadata": {},
   "source": [
    "Comparing to the estimate from OLS."
   ]
  },
  {
   "cell_type": "code",
   "execution_count": 10,
   "metadata": {
    "execution": {
     "iopub.execute_input": "2022-09-01T17:04:38.433929Z",
     "iopub.status.busy": "2022-09-01T17:04:38.433316Z",
     "iopub.status.idle": "2022-09-01T17:04:38.455085Z",
     "shell.execute_reply": "2022-09-01T17:04:38.454193Z"
    }
   },
   "outputs": [
    {
     "data": {
      "text/html": [
       "<table class=\"simpletable\">\n",
       "<caption>OLS Regression Results</caption>\n",
       "<tr>\n",
       "  <th>Dep. Variable:</th>            <td>y</td>        <th>  R-squared (uncentered):</th>      <td>   0.960</td> \n",
       "</tr>\n",
       "<tr>\n",
       "  <th>Model:</th>                   <td>OLS</td>       <th>  Adj. R-squared (uncentered):</th> <td>   0.960</td> \n",
       "</tr>\n",
       "<tr>\n",
       "  <th>Method:</th>             <td>Least Squares</td>  <th>  F-statistic:       </th>          <td>1.205e+04</td>\n",
       "</tr>\n",
       "<tr>\n",
       "  <th>Date:</th>             <td>Thu, 01 Sep 2022</td> <th>  Prob (F-statistic):</th>           <td>  0.00</td>  \n",
       "</tr>\n",
       "<tr>\n",
       "  <th>Time:</th>                 <td>17:04:38</td>     <th>  Log-Likelihood:    </th>          <td> -1391.3</td> \n",
       "</tr>\n",
       "<tr>\n",
       "  <th>No. Observations:</th>      <td>  1000</td>      <th>  AIC:               </th>          <td>   2787.</td> \n",
       "</tr>\n",
       "<tr>\n",
       "  <th>Df Residuals:</th>          <td>   998</td>      <th>  BIC:               </th>          <td>   2796.</td> \n",
       "</tr>\n",
       "<tr>\n",
       "  <th>Df Model:</th>              <td>     2</td>      <th>                     </th>              <td> </td>    \n",
       "</tr>\n",
       "<tr>\n",
       "  <th>Covariance Type:</th>      <td>nonrobust</td>    <th>                     </th>              <td> </td>    \n",
       "</tr>\n",
       "</table>\n",
       "<table class=\"simpletable\">\n",
       "<tr>\n",
       "   <td></td>     <th>coef</th>     <th>std err</th>      <th>t</th>      <th>P>|t|</th>  <th>[0.025</th>    <th>0.975]</th>  \n",
       "</tr>\n",
       "<tr>\n",
       "  <th>x1</th> <td>    2.6325</td> <td>    0.031</td> <td>   85.127</td> <td> 0.000</td> <td>    2.572</td> <td>    2.693</td>\n",
       "</tr>\n",
       "<tr>\n",
       "  <th>x2</th> <td>    4.9799</td> <td>    0.045</td> <td>  110.110</td> <td> 0.000</td> <td>    4.891</td> <td>    5.069</td>\n",
       "</tr>\n",
       "</table>\n",
       "<table class=\"simpletable\">\n",
       "<tr>\n",
       "  <th>Omnibus:</th>       <td> 1.971</td> <th>  Durbin-Watson:     </th> <td>   2.057</td>\n",
       "</tr>\n",
       "<tr>\n",
       "  <th>Prob(Omnibus):</th> <td> 0.373</td> <th>  Jarque-Bera (JB):  </th> <td>   1.832</td>\n",
       "</tr>\n",
       "<tr>\n",
       "  <th>Skew:</th>          <td>-0.093</td> <th>  Prob(JB):          </th> <td>   0.400</td>\n",
       "</tr>\n",
       "<tr>\n",
       "  <th>Kurtosis:</th>      <td> 3.096</td> <th>  Cond. No.          </th> <td>    1.54</td>\n",
       "</tr>\n",
       "</table><br/><br/>Notes:<br/>[1] R² is computed without centering (uncentered) since the model does not contain a constant.<br/>[2] Standard Errors assume that the covariance matrix of the errors is correctly specified."
      ],
      "text/plain": [
       "<class 'statsmodels.iolib.summary.Summary'>\n",
       "\"\"\"\n",
       "                                 OLS Regression Results                                \n",
       "=======================================================================================\n",
       "Dep. Variable:                      y   R-squared (uncentered):                   0.960\n",
       "Model:                            OLS   Adj. R-squared (uncentered):              0.960\n",
       "Method:                 Least Squares   F-statistic:                          1.205e+04\n",
       "Date:                Thu, 01 Sep 2022   Prob (F-statistic):                        0.00\n",
       "Time:                        17:04:38   Log-Likelihood:                         -1391.3\n",
       "No. Observations:                1000   AIC:                                      2787.\n",
       "Df Residuals:                     998   BIC:                                      2796.\n",
       "Df Model:                           2                                                  \n",
       "Covariance Type:            nonrobust                                                  \n",
       "==============================================================================\n",
       "                 coef    std err          t      P>|t|      [0.025      0.975]\n",
       "------------------------------------------------------------------------------\n",
       "x1             2.6325      0.031     85.127      0.000       2.572       2.693\n",
       "x2             4.9799      0.045    110.110      0.000       4.891       5.069\n",
       "==============================================================================\n",
       "Omnibus:                        1.971   Durbin-Watson:                   2.057\n",
       "Prob(Omnibus):                  0.373   Jarque-Bera (JB):                1.832\n",
       "Skew:                          -0.093   Prob(JB):                        0.400\n",
       "Kurtosis:                       3.096   Cond. No.                         1.54\n",
       "==============================================================================\n",
       "\n",
       "Notes:\n",
       "[1] R² is computed without centering (uncentered) since the model does not contain a constant.\n",
       "[2] Standard Errors assume that the covariance matrix of the errors is correctly specified.\n",
       "\"\"\""
      ]
     },
     "execution_count": 10,
     "metadata": {},
     "output_type": "execute_result"
    }
   ],
   "source": [
    "model = OLS(np.asarray(df[outcome]), np.asarray(df[[common_cause, treatment]], dtype=np.float64))\n",
    "result = model.fit()\n",
    "result.summary()"
   ]
  }
 ],
 "metadata": {
  "kernelspec": {
   "display_name": "Python 3",
   "language": "python",
   "name": "python3"
  },
  "language_info": {
   "codemirror_mode": {
    "name": "ipython",
    "version": 3
   },
   "file_extension": ".py",
   "mimetype": "text/x-python",
   "name": "python",
   "nbconvert_exporter": "python",
   "pygments_lexer": "ipython3",
   "version": "3.8.10"
  },
  "toc": {
   "base_numbering": 1,
   "nav_menu": {},
   "number_sections": false,
   "sideBar": true,
   "skip_h1_title": true,
   "title_cell": "Table of Contents",
   "title_sidebar": "Contents",
   "toc_cell": false,
   "toc_position": {},
   "toc_section_display": true,
   "toc_window_display": false
  }
 },
 "nbformat": 4,
 "nbformat_minor": 4
}
