{
 "cells": [
  {
   "cell_type": "markdown",
   "id": "7b45716a",
   "metadata": {},
   "source": [
    "# DoWhy: Interpreters for Causal Estimators\n",
    "\n",
    "This is a quick introduction to the use of interpreters in the DoWhy causal inference library.\n",
    "We will load in a sample dataset, use different methods for estimating the causal effect of a (pre-specified)treatment variable on a (pre-specified) outcome variable and demonstrate how to interpret the obtained results.\n",
    "\n",
    "First, let us add the required path for Python to find the DoWhy code and load all required packages"
   ]
  },
  {
   "cell_type": "code",
   "execution_count": 1,
   "id": "ccba7f3d",
   "metadata": {
    "execution": {
     "iopub.execute_input": "2022-09-01T16:56:59.804297Z",
     "iopub.status.busy": "2022-09-01T16:56:59.804055Z",
     "iopub.status.idle": "2022-09-01T16:56:59.819646Z",
     "shell.execute_reply": "2022-09-01T16:56:59.819085Z"
    }
   },
   "outputs": [],
   "source": [
    "%load_ext autoreload\n",
    "%autoreload 2"
   ]
  },
  {
   "cell_type": "code",
   "execution_count": 2,
   "id": "d7c77270",
   "metadata": {
    "execution": {
     "iopub.execute_input": "2022-09-01T16:56:59.822556Z",
     "iopub.status.busy": "2022-09-01T16:56:59.822355Z",
     "iopub.status.idle": "2022-09-01T16:57:00.776469Z",
     "shell.execute_reply": "2022-09-01T16:57:00.775782Z"
    }
   },
   "outputs": [],
   "source": [
    "import numpy as np\n",
    "import pandas as pd\n",
    "import logging\n",
    "\n",
    "import dowhy\n",
    "from dowhy import CausalModel\n",
    "import dowhy.datasets "
   ]
  },
  {
   "cell_type": "markdown",
   "id": "c5a00096",
   "metadata": {},
   "source": [
    "Now, let us load a dataset. For simplicity, we simulate a dataset with linear relationships between common causes and treatment, and common causes and outcome.\n",
    "\n",
    "Beta is the true causal effect."
   ]
  },
  {
   "cell_type": "code",
   "execution_count": 3,
   "id": "64a70417",
   "metadata": {
    "execution": {
     "iopub.execute_input": "2022-09-01T16:57:00.780443Z",
     "iopub.status.busy": "2022-09-01T16:57:00.779964Z",
     "iopub.status.idle": "2022-09-01T16:57:01.051127Z",
     "shell.execute_reply": "2022-09-01T16:57:01.050291Z"
    }
   },
   "outputs": [
    {
     "name": "stdout",
     "output_type": "stream",
     "text": [
      "8716\n"
     ]
    },
    {
     "data": {
      "text/html": [
       "<div>\n",
       "<style scoped>\n",
       "    .dataframe tbody tr th:only-of-type {\n",
       "        vertical-align: middle;\n",
       "    }\n",
       "\n",
       "    .dataframe tbody tr th {\n",
       "        vertical-align: top;\n",
       "    }\n",
       "\n",
       "    .dataframe thead th {\n",
       "        text-align: right;\n",
       "    }\n",
       "</style>\n",
       "<table border=\"1\" class=\"dataframe\">\n",
       "  <thead>\n",
       "    <tr style=\"text-align: right;\">\n",
       "      <th></th>\n",
       "      <th>Z0</th>\n",
       "      <th>Z1</th>\n",
       "      <th>W0</th>\n",
       "      <th>W1</th>\n",
       "      <th>W2</th>\n",
       "      <th>W3</th>\n",
       "      <th>W4</th>\n",
       "      <th>v0</th>\n",
       "      <th>y</th>\n",
       "    </tr>\n",
       "  </thead>\n",
       "  <tbody>\n",
       "    <tr>\n",
       "      <th>0</th>\n",
       "      <td>1.0</td>\n",
       "      <td>0.107575</td>\n",
       "      <td>-1.177779</td>\n",
       "      <td>0.790967</td>\n",
       "      <td>-2.565376</td>\n",
       "      <td>-1.124089</td>\n",
       "      <td>0</td>\n",
       "      <td>False</td>\n",
       "      <td>-1.304098</td>\n",
       "    </tr>\n",
       "    <tr>\n",
       "      <th>1</th>\n",
       "      <td>1.0</td>\n",
       "      <td>0.048240</td>\n",
       "      <td>-1.524060</td>\n",
       "      <td>1.070619</td>\n",
       "      <td>-0.974973</td>\n",
       "      <td>0.208505</td>\n",
       "      <td>2</td>\n",
       "      <td>False</td>\n",
       "      <td>0.914093</td>\n",
       "    </tr>\n",
       "    <tr>\n",
       "      <th>2</th>\n",
       "      <td>1.0</td>\n",
       "      <td>0.011160</td>\n",
       "      <td>-0.866833</td>\n",
       "      <td>1.539340</td>\n",
       "      <td>-0.638353</td>\n",
       "      <td>2.514108</td>\n",
       "      <td>3</td>\n",
       "      <td>True</td>\n",
       "      <td>4.716508</td>\n",
       "    </tr>\n",
       "    <tr>\n",
       "      <th>3</th>\n",
       "      <td>0.0</td>\n",
       "      <td>0.659812</td>\n",
       "      <td>0.113834</td>\n",
       "      <td>0.011011</td>\n",
       "      <td>-0.990630</td>\n",
       "      <td>-0.540659</td>\n",
       "      <td>1</td>\n",
       "      <td>False</td>\n",
       "      <td>-0.033881</td>\n",
       "    </tr>\n",
       "    <tr>\n",
       "      <th>4</th>\n",
       "      <td>1.0</td>\n",
       "      <td>0.237701</td>\n",
       "      <td>-1.577283</td>\n",
       "      <td>0.800930</td>\n",
       "      <td>-0.754558</td>\n",
       "      <td>0.422902</td>\n",
       "      <td>0</td>\n",
       "      <td>True</td>\n",
       "      <td>0.975143</td>\n",
       "    </tr>\n",
       "    <tr>\n",
       "      <th>...</th>\n",
       "      <td>...</td>\n",
       "      <td>...</td>\n",
       "      <td>...</td>\n",
       "      <td>...</td>\n",
       "      <td>...</td>\n",
       "      <td>...</td>\n",
       "      <td>...</td>\n",
       "      <td>...</td>\n",
       "      <td>...</td>\n",
       "    </tr>\n",
       "    <tr>\n",
       "      <th>9995</th>\n",
       "      <td>1.0</td>\n",
       "      <td>0.331330</td>\n",
       "      <td>-0.202030</td>\n",
       "      <td>0.039116</td>\n",
       "      <td>-0.096156</td>\n",
       "      <td>-0.917119</td>\n",
       "      <td>1</td>\n",
       "      <td>True</td>\n",
       "      <td>0.697560</td>\n",
       "    </tr>\n",
       "    <tr>\n",
       "      <th>9996</th>\n",
       "      <td>1.0</td>\n",
       "      <td>0.392186</td>\n",
       "      <td>-0.965463</td>\n",
       "      <td>0.773121</td>\n",
       "      <td>-0.772061</td>\n",
       "      <td>-2.170689</td>\n",
       "      <td>3</td>\n",
       "      <td>True</td>\n",
       "      <td>0.672487</td>\n",
       "    </tr>\n",
       "    <tr>\n",
       "      <th>9997</th>\n",
       "      <td>1.0</td>\n",
       "      <td>0.376718</td>\n",
       "      <td>-2.502125</td>\n",
       "      <td>2.162387</td>\n",
       "      <td>0.405286</td>\n",
       "      <td>0.931158</td>\n",
       "      <td>2</td>\n",
       "      <td>True</td>\n",
       "      <td>2.871795</td>\n",
       "    </tr>\n",
       "    <tr>\n",
       "      <th>9998</th>\n",
       "      <td>1.0</td>\n",
       "      <td>0.127351</td>\n",
       "      <td>-0.111891</td>\n",
       "      <td>-0.710671</td>\n",
       "      <td>-2.240763</td>\n",
       "      <td>-0.262808</td>\n",
       "      <td>2</td>\n",
       "      <td>True</td>\n",
       "      <td>0.947098</td>\n",
       "    </tr>\n",
       "    <tr>\n",
       "      <th>9999</th>\n",
       "      <td>1.0</td>\n",
       "      <td>0.756877</td>\n",
       "      <td>-0.502670</td>\n",
       "      <td>-1.344878</td>\n",
       "      <td>-0.234787</td>\n",
       "      <td>1.384179</td>\n",
       "      <td>0</td>\n",
       "      <td>True</td>\n",
       "      <td>1.055565</td>\n",
       "    </tr>\n",
       "  </tbody>\n",
       "</table>\n",
       "<p>10000 rows × 9 columns</p>\n",
       "</div>"
      ],
      "text/plain": [
       "       Z0        Z1        W0        W1        W2        W3 W4     v0  \\\n",
       "0     1.0  0.107575 -1.177779  0.790967 -2.565376 -1.124089  0  False   \n",
       "1     1.0  0.048240 -1.524060  1.070619 -0.974973  0.208505  2  False   \n",
       "2     1.0  0.011160 -0.866833  1.539340 -0.638353  2.514108  3   True   \n",
       "3     0.0  0.659812  0.113834  0.011011 -0.990630 -0.540659  1  False   \n",
       "4     1.0  0.237701 -1.577283  0.800930 -0.754558  0.422902  0   True   \n",
       "...   ...       ...       ...       ...       ...       ... ..    ...   \n",
       "9995  1.0  0.331330 -0.202030  0.039116 -0.096156 -0.917119  1   True   \n",
       "9996  1.0  0.392186 -0.965463  0.773121 -0.772061 -2.170689  3   True   \n",
       "9997  1.0  0.376718 -2.502125  2.162387  0.405286  0.931158  2   True   \n",
       "9998  1.0  0.127351 -0.111891 -0.710671 -2.240763 -0.262808  2   True   \n",
       "9999  1.0  0.756877 -0.502670 -1.344878 -0.234787  1.384179  0   True   \n",
       "\n",
       "             y  \n",
       "0    -1.304098  \n",
       "1     0.914093  \n",
       "2     4.716508  \n",
       "3    -0.033881  \n",
       "4     0.975143  \n",
       "...        ...  \n",
       "9995  0.697560  \n",
       "9996  0.672487  \n",
       "9997  2.871795  \n",
       "9998  0.947098  \n",
       "9999  1.055565  \n",
       "\n",
       "[10000 rows x 9 columns]"
      ]
     },
     "execution_count": 3,
     "metadata": {},
     "output_type": "execute_result"
    }
   ],
   "source": [
    "data = dowhy.datasets.linear_dataset(beta=1,\n",
    "        num_common_causes=5, \n",
    "        num_instruments = 2,\n",
    "        num_treatments=1,\n",
    "        num_discrete_common_causes=1,\n",
    "        num_samples=10000,\n",
    "        treatment_is_binary=True,\n",
    "        outcome_is_binary=False)\n",
    "df = data[\"df\"]\n",
    "print(df[df.v0==True].shape[0])\n",
    "df"
   ]
  },
  {
   "cell_type": "markdown",
   "id": "38eccdc0",
   "metadata": {},
   "source": [
    "Note that we are using a pandas dataframe to load the data."
   ]
  },
  {
   "cell_type": "markdown",
   "id": "6ee397f4",
   "metadata": {},
   "source": [
    "## Identifying the causal estimand"
   ]
  },
  {
   "cell_type": "markdown",
   "id": "dea26c41",
   "metadata": {},
   "source": [
    "We now input a causal graph in the GML graph format."
   ]
  },
  {
   "cell_type": "code",
   "execution_count": 4,
   "id": "f24c68b0",
   "metadata": {
    "execution": {
     "iopub.execute_input": "2022-09-01T16:57:01.054431Z",
     "iopub.status.busy": "2022-09-01T16:57:01.054203Z",
     "iopub.status.idle": "2022-09-01T16:57:01.078320Z",
     "shell.execute_reply": "2022-09-01T16:57:01.077682Z"
    }
   },
   "outputs": [],
   "source": [
    "# With graph\n",
    "model=CausalModel(\n",
    "        data = df,\n",
    "        treatment=data[\"treatment_name\"],\n",
    "        outcome=data[\"outcome_name\"],\n",
    "        graph=data[\"gml_graph\"],\n",
    "        instruments=data[\"instrument_names\"]\n",
    "        )"
   ]
  },
  {
   "cell_type": "code",
   "execution_count": 5,
   "id": "d01dc6e3",
   "metadata": {
    "execution": {
     "iopub.execute_input": "2022-09-01T16:57:01.081430Z",
     "iopub.status.busy": "2022-09-01T16:57:01.081163Z",
     "iopub.status.idle": "2022-09-01T16:57:01.134756Z",
     "shell.execute_reply": "2022-09-01T16:57:01.134142Z"
    }
   },
   "outputs": [],
   "source": [
    "model.view_model()"
   ]
  },
  {
   "cell_type": "code",
   "execution_count": 6,
   "id": "d50d7836",
   "metadata": {
    "execution": {
     "iopub.execute_input": "2022-09-01T16:57:01.138280Z",
     "iopub.status.busy": "2022-09-01T16:57:01.137716Z",
     "iopub.status.idle": "2022-09-01T16:57:01.162459Z",
     "shell.execute_reply": "2022-09-01T16:57:01.161886Z"
    }
   },
   "outputs": [
    {
     "data": {
      "image/png": "[encoded data removed]",
      "text/plain": [
       "<IPython.core.display.Image object>"
      ]
     },
     "metadata": {},
     "output_type": "display_data"
    }
   ],
   "source": [
    "from IPython.display import Image, display\n",
    "display(Image(filename=\"causal_model.png\"))"
   ]
  },
  {
   "cell_type": "markdown",
   "id": "b287d09e",
   "metadata": {},
   "source": [
    "We get a causal graph. Now identification and estimation is done."
   ]
  },
  {
   "cell_type": "code",
   "execution_count": 7,
   "id": "5cf0e4c7",
   "metadata": {
    "execution": {
     "iopub.execute_input": "2022-09-01T16:57:01.165751Z",
     "iopub.status.busy": "2022-09-01T16:57:01.165236Z",
     "iopub.status.idle": "2022-09-01T16:57:01.382338Z",
     "shell.execute_reply": "2022-09-01T16:57:01.381684Z"
    }
   },
   "outputs": [
    {
     "name": "stdout",
     "output_type": "stream",
     "text": [
      "Estimand type: nonparametric-ate\n",
      "\n",
      "### Estimand : 1\n",
      "Estimand name: backdoor\n",
      "Estimand expression:\n",
      "  d                       \n",
      "─────(E[y|W4,W0,W3,W2,W1])\n",
      "d[v₀]                     \n",
      "Estimand assumption 1, Unconfoundedness: If U→{v0} and U→y then P(y|v0,W4,W0,W3,W2,W1,U) = P(y|v0,W4,W0,W3,W2,W1)\n",
      "\n",
      "### Estimand : 2\n",
      "Estimand name: iv\n",
      "Estimand expression:\n",
      " ⎡                              -1⎤\n",
      " ⎢    d        ⎛    d          ⎞  ⎥\n",
      "E⎢─────────(y)⋅⎜─────────([v₀])⎟  ⎥\n",
      " ⎣d[Z₀  Z₁]    ⎝d[Z₀  Z₁]      ⎠  ⎦\n",
      "Estimand assumption 1, As-if-random: If U→→y then ¬(U →→{Z0,Z1})\n",
      "Estimand assumption 2, Exclusion: If we remove {Z0,Z1}→{v0}, then ¬({Z0,Z1}→y)\n",
      "\n",
      "### Estimand : 3\n",
      "Estimand name: frontdoor\n",
      "No such variable(s) found!\n",
      "\n"
     ]
    }
   ],
   "source": [
    "identified_estimand = model.identify_effect(proceed_when_unidentifiable=True)\n",
    "print(identified_estimand)"
   ]
  },
  {
   "cell_type": "markdown",
   "id": "1c1ce7a4",
   "metadata": {},
   "source": [
    "## Method 1: Propensity Score Stratification\n",
    "\n",
    "We will be using propensity scores to stratify units in the data."
   ]
  },
  {
   "cell_type": "code",
   "execution_count": 8,
   "id": "dbc6f537",
   "metadata": {
    "execution": {
     "iopub.execute_input": "2022-09-01T16:57:01.386578Z",
     "iopub.status.busy": "2022-09-01T16:57:01.385422Z",
     "iopub.status.idle": "2022-09-01T16:57:01.999924Z",
     "shell.execute_reply": "2022-09-01T16:57:01.999269Z"
    }
   },
   "outputs": [
    {
     "name": "stdout",
     "output_type": "stream",
     "text": [
      "*** Causal Estimate ***\n",
      "\n",
      "## Identified estimand\n",
      "Estimand type: nonparametric-ate\n",
      "\n",
      "### Estimand : 1\n",
      "Estimand name: backdoor\n",
      "Estimand expression:\n",
      "  d                       \n",
      "─────(E[y|W4,W0,W3,W2,W1])\n",
      "d[v₀]                     \n",
      "Estimand assumption 1, Unconfoundedness: If U→{v0} and U→y then P(y|v0,W4,W0,W3,W2,W1,U) = P(y|v0,W4,W0,W3,W2,W1)\n",
      "\n",
      "## Realized estimand\n",
      "b: y~v0+W4+W0+W3+W2+W1\n",
      "Target units: att\n",
      "\n",
      "## Estimate\n",
      "Mean value: 0.9983273047901378\n",
      "\n",
      "Causal Estimate is 0.9983273047901378\n"
     ]
    }
   ],
   "source": [
    "causal_estimate_strat = model.estimate_effect(identified_estimand,\n",
    "                                              method_name=\"backdoor.propensity_score_stratification\",\n",
    "                                              target_units=\"att\")\n",
    "print(causal_estimate_strat)\n",
    "print(\"Causal Estimate is \" + str(causal_estimate_strat.value))"
   ]
  },
  {
   "cell_type": "markdown",
   "id": "abb8a5a0",
   "metadata": {},
   "source": [
    "### Textual Interpreter\n",
    "\n",
    "The textual Interpreter describes (in words) the effect of unit change in the treatment variable on the outcome variable."
   ]
  },
  {
   "cell_type": "code",
   "execution_count": 9,
   "id": "4f916ab5",
   "metadata": {
    "execution": {
     "iopub.execute_input": "2022-09-01T16:57:02.004336Z",
     "iopub.status.busy": "2022-09-01T16:57:02.003776Z",
     "iopub.status.idle": "2022-09-01T16:57:02.028585Z",
     "shell.execute_reply": "2022-09-01T16:57:02.027989Z"
    }
   },
   "outputs": [
    {
     "name": "stdout",
     "output_type": "stream",
     "text": [
      "Increasing the treatment variable(s) [v0] from 0 to 1 causes an increase of 0.9983273047901378 in the expected value of the outcome [y], over the data distribution/population represented by the dataset.\n"
     ]
    }
   ],
   "source": [
    "# Textual Interpreter\n",
    "interpretation = causal_estimate_strat.interpret(method_name=\"textual_effect_interpreter\")"
   ]
  },
  {
   "cell_type": "markdown",
   "id": "b57ed66a",
   "metadata": {},
   "source": [
    "### Visual Interpreter\n",
    "\n",
    "The visual interpreter plots the change in the standardized mean difference (SMD) before and after Propensity Score based adjustment of the dataset. The formula for SMD is given below.\n",
    "\n",
    "\n",
    "$SMD = \\frac{\\bar X_{1} - \\bar X_{2}}{\\sqrt{(S_{1}^{2} + S_{2}^{2})/2}}$\n",
    "\n",
    "Here, $\\bar X_{1}$ and $\\bar X_{2}$ are the sample mean for the treated and control groups.\n"
   ]
  },
  {
   "cell_type": "code",
   "execution_count": 10,
   "id": "b2d74e8c",
   "metadata": {
    "execution": {
     "iopub.execute_input": "2022-09-01T16:57:02.031929Z",
     "iopub.status.busy": "2022-09-01T16:57:02.031404Z",
     "iopub.status.idle": "2022-09-01T16:57:03.046789Z",
     "shell.execute_reply": "2022-09-01T16:57:03.046178Z"
    }
   },
   "outputs": [
    {
     "data": {
      "image/png": "[encoded data removed]",
      "text/plain": [
       "<Figure size 640x480 with 1 Axes>"
      ]
     },
     "metadata": {},
     "output_type": "display_data"
    }
   ],
   "source": [
    "# Visual Interpreter\n",
    "interpretation = causal_estimate_strat.interpret(method_name=\"propensity_balance_interpreter\")"
   ]
  },
  {
   "cell_type": "markdown",
   "id": "a005c537",
   "metadata": {},
   "source": [
    "This plot shows how the SMD decreases from the unadjusted to the stratified units. "
   ]
  },
  {
   "cell_type": "markdown",
   "id": "164bd970",
   "metadata": {},
   "source": [
    "## Method 2: Propensity Score Matching\n",
    "\n",
    "We will be using propensity scores to match units in the data."
   ]
  },
  {
   "cell_type": "code",
   "execution_count": 11,
   "id": "52b72c2f",
   "metadata": {
    "execution": {
     "iopub.execute_input": "2022-09-01T16:57:03.050584Z",
     "iopub.status.busy": "2022-09-01T16:57:03.050235Z",
     "iopub.status.idle": "2022-09-01T16:57:06.548980Z",
     "shell.execute_reply": "2022-09-01T16:57:06.548430Z"
    }
   },
   "outputs": [
    {
     "name": "stdout",
     "output_type": "stream",
     "text": [
      "*** Causal Estimate ***\n",
      "\n",
      "## Identified estimand\n",
      "Estimand type: nonparametric-ate\n",
      "\n",
      "### Estimand : 1\n",
      "Estimand name: backdoor\n",
      "Estimand expression:\n",
      "  d                       \n",
      "─────(E[y|W4,W0,W3,W2,W1])\n",
      "d[v₀]                     \n",
      "Estimand assumption 1, Unconfoundedness: If U→{v0} and U→y then P(y|v0,W4,W0,W3,W2,W1,U) = P(y|v0,W4,W0,W3,W2,W1)\n",
      "\n",
      "## Realized estimand\n",
      "b: y~v0+W4+W0+W3+W2+W1\n",
      "Target units: atc\n",
      "\n",
      "## Estimate\n",
      "Mean value: 0.9990063731842298\n",
      "\n",
      "Causal Estimate is 0.9990063731842298\n"
     ]
    }
   ],
   "source": [
    "causal_estimate_match = model.estimate_effect(identified_estimand,\n",
    "                                              method_name=\"backdoor.propensity_score_matching\",\n",
    "                                              target_units=\"atc\")\n",
    "print(causal_estimate_match)\n",
    "print(\"Causal Estimate is \" + str(causal_estimate_match.value))"
   ]
  },
  {
   "cell_type": "code",
   "execution_count": 12,
   "id": "e94d34be",
   "metadata": {
    "execution": {
     "iopub.execute_input": "2022-09-01T16:57:06.551945Z",
     "iopub.status.busy": "2022-09-01T16:57:06.551707Z",
     "iopub.status.idle": "2022-09-01T16:57:06.576094Z",
     "shell.execute_reply": "2022-09-01T16:57:06.575243Z"
    }
   },
   "outputs": [
    {
     "name": "stdout",
     "output_type": "stream",
     "text": [
      "Increasing the treatment variable(s) [v0] from 0 to 1 causes an increase of 0.9990063731842298 in the expected value of the outcome [y], over the data distribution/population represented by the dataset.\n"
     ]
    }
   ],
   "source": [
    "# Textual Interpreter\n",
    "interpretation = causal_estimate_match.interpret(method_name=\"textual_effect_interpreter\")"
   ]
  },
  {
   "cell_type": "markdown",
   "id": "bb7f7a23",
   "metadata": {},
   "source": [
    "Cannot use propensity balance interpretor here since the interpreter method only supports propensity score stratification estimator."
   ]
  },
  {
   "cell_type": "markdown",
   "id": "09198d15",
   "metadata": {},
   "source": [
    "## Method 3: Weighting\n",
    "\n",
    "We will be using (inverse) propensity scores to assign weights to units in the data. DoWhy supports a few different weighting schemes:\n",
    "1. Vanilla Inverse Propensity Score weighting (IPS) (weighting_scheme=\"ips_weight\")\n",
    "2. Self-normalized IPS weighting (also known as the Hajek estimator) (weighting_scheme=\"ips_normalized_weight\")\n",
    "3. Stabilized IPS weighting (weighting_scheme = \"ips_stabilized_weight\")"
   ]
  },
  {
   "cell_type": "code",
   "execution_count": 13,
   "id": "8e4a9681",
   "metadata": {
    "execution": {
     "iopub.execute_input": "2022-09-01T16:57:06.580137Z",
     "iopub.status.busy": "2022-09-01T16:57:06.579897Z",
     "iopub.status.idle": "2022-09-01T16:57:06.637118Z",
     "shell.execute_reply": "2022-09-01T16:57:06.636470Z"
    }
   },
   "outputs": [
    {
     "name": "stdout",
     "output_type": "stream",
     "text": [
      "*** Causal Estimate ***\n",
      "\n",
      "## Identified estimand\n",
      "Estimand type: nonparametric-ate\n",
      "\n",
      "### Estimand : 1\n",
      "Estimand name: backdoor\n",
      "Estimand expression:\n",
      "  d                       \n",
      "─────(E[y|W4,W0,W3,W2,W1])\n",
      "d[v₀]                     \n",
      "Estimand assumption 1, Unconfoundedness: If U→{v0} and U→y then P(y|v0,W4,W0,W3,W2,W1,U) = P(y|v0,W4,W0,W3,W2,W1)\n",
      "\n",
      "## Realized estimand\n",
      "b: y~v0+W4+W0+W3+W2+W1\n",
      "Target units: ate\n",
      "\n",
      "## Estimate\n",
      "Mean value: 1.1364593606898206\n",
      "\n",
      "Causal Estimate is 1.1364593606898206\n"
     ]
    }
   ],
   "source": [
    "causal_estimate_ipw = model.estimate_effect(identified_estimand,\n",
    "                                            method_name=\"backdoor.propensity_score_weighting\",\n",
    "                                            target_units = \"ate\",\n",
    "                                            method_params={\"weighting_scheme\":\"ips_weight\"})\n",
    "print(causal_estimate_ipw)\n",
    "print(\"Causal Estimate is \" + str(causal_estimate_ipw.value))"
   ]
  },
  {
   "cell_type": "code",
   "execution_count": 14,
   "id": "de5a5daa",
   "metadata": {
    "execution": {
     "iopub.execute_input": "2022-09-01T16:57:06.640350Z",
     "iopub.status.busy": "2022-09-01T16:57:06.640115Z",
     "iopub.status.idle": "2022-09-01T16:57:06.664109Z",
     "shell.execute_reply": "2022-09-01T16:57:06.663444Z"
    }
   },
   "outputs": [
    {
     "name": "stdout",
     "output_type": "stream",
     "text": [
      "Increasing the treatment variable(s) [v0] from 0 to 1 causes an increase of 1.1364593606898206 in the expected value of the outcome [y], over the data distribution/population represented by the dataset.\n"
     ]
    }
   ],
   "source": [
    "# Textual Interpreter\n",
    "interpretation = causal_estimate_ipw.interpret(method_name=\"textual_effect_interpreter\")"
   ]
  },
  {
   "cell_type": "code",
   "execution_count": 15,
   "id": "71e2b2a5",
   "metadata": {
    "execution": {
     "iopub.execute_input": "2022-09-01T16:57:06.666895Z",
     "iopub.status.busy": "2022-09-01T16:57:06.666664Z",
     "iopub.status.idle": "2022-09-01T16:57:06.909316Z",
     "shell.execute_reply": "2022-09-01T16:57:06.908675Z"
    }
   },
   "outputs": [
    {
     "data": {
      "image/png": "[encoded data removed]",
      "text/plain": [
       "<Figure size 800x800 with 2 Axes>"
      ]
     },
     "metadata": {},
     "output_type": "display_data"
    }
   ],
   "source": [
    "interpretation = causal_estimate_ipw.interpret(method_name=\"confounder_distribution_interpreter\", fig_size=(8,8), font_size=12, var_name='W4', var_type='discrete')"
   ]
  },
  {
   "cell_type": "code",
   "execution_count": null,
   "id": "7b363574",
   "metadata": {},
   "outputs": [],
   "source": []
  }
 ],
 "metadata": {
  "kernelspec": {
   "display_name": "Python 3",
   "language": "python",
   "name": "python3"
  },
  "language_info": {
   "codemirror_mode": {
    "name": "ipython",
    "version": 3
   },
   "file_extension": ".py",
   "mimetype": "text/x-python",
   "name": "python",
   "nbconvert_exporter": "python",
   "pygments_lexer": "ipython3",
   "version": "3.8.10"
  },
  "toc": {
   "base_numbering": 1,
   "nav_menu": {},
   "number_sections": false,
   "sideBar": true,
   "skip_h1_title": true,
   "title_cell": "Table of Contents",
   "title_sidebar": "Contents",
   "toc_cell": false,
   "toc_position": {},
   "toc_section_display": true,
   "toc_window_display": false
  }
 },
 "nbformat": 4,
 "nbformat_minor": 5
}
