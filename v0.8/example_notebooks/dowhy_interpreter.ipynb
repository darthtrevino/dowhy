{
 "cells": [
  {
   "cell_type": "markdown",
   "id": "eafe1c00",
   "metadata": {},
   "source": [
    "# DoWhy: Interpreters for Causal Estimators\n",
    "\n",
    "This is a quick introduction to the use of interpreters in the DoWhy causal inference library.\n",
    "We will load in a sample dataset, use different methods for estimating the causal effect of a (pre-specified)treatment variable on a (pre-specified) outcome variable and demonstrate how to interpret the obtained results.\n",
    "\n",
    "First, let us add the required path for Python to find the DoWhy code and load all required packages"
   ]
  },
  {
   "cell_type": "code",
   "execution_count": 1,
   "id": "cb237d97",
   "metadata": {
    "execution": {
     "iopub.execute_input": "2022-09-01T17:18:58.180654Z",
     "iopub.status.busy": "2022-09-01T17:18:58.180249Z",
     "iopub.status.idle": "2022-09-01T17:18:58.196021Z",
     "shell.execute_reply": "2022-09-01T17:18:58.195482Z"
    }
   },
   "outputs": [],
   "source": [
    "%load_ext autoreload\n",
    "%autoreload 2"
   ]
  },
  {
   "cell_type": "code",
   "execution_count": 2,
   "id": "9050957d",
   "metadata": {
    "execution": {
     "iopub.execute_input": "2022-09-01T17:18:58.198886Z",
     "iopub.status.busy": "2022-09-01T17:18:58.198685Z",
     "iopub.status.idle": "2022-09-01T17:18:59.139841Z",
     "shell.execute_reply": "2022-09-01T17:18:59.139211Z"
    }
   },
   "outputs": [],
   "source": [
    "import numpy as np\n",
    "import pandas as pd\n",
    "import logging\n",
    "\n",
    "import dowhy\n",
    "from dowhy import CausalModel\n",
    "import dowhy.datasets "
   ]
  },
  {
   "cell_type": "markdown",
   "id": "029b5748",
   "metadata": {},
   "source": [
    "Now, let us load a dataset. For simplicity, we simulate a dataset with linear relationships between common causes and treatment, and common causes and outcome.\n",
    "\n",
    "Beta is the true causal effect."
   ]
  },
  {
   "cell_type": "code",
   "execution_count": 3,
   "id": "624ff2be",
   "metadata": {
    "execution": {
     "iopub.execute_input": "2022-09-01T17:18:59.143925Z",
     "iopub.status.busy": "2022-09-01T17:18:59.143304Z",
     "iopub.status.idle": "2022-09-01T17:18:59.410799Z",
     "shell.execute_reply": "2022-09-01T17:18:59.410221Z"
    }
   },
   "outputs": [
    {
     "name": "stdout",
     "output_type": "stream",
     "text": [
      "9714\n"
     ]
    },
    {
     "data": {
      "text/html": [
       "<div>\n",
       "<style scoped>\n",
       "    .dataframe tbody tr th:only-of-type {\n",
       "        vertical-align: middle;\n",
       "    }\n",
       "\n",
       "    .dataframe tbody tr th {\n",
       "        vertical-align: top;\n",
       "    }\n",
       "\n",
       "    .dataframe thead th {\n",
       "        text-align: right;\n",
       "    }\n",
       "</style>\n",
       "<table border=\"1\" class=\"dataframe\">\n",
       "  <thead>\n",
       "    <tr style=\"text-align: right;\">\n",
       "      <th></th>\n",
       "      <th>Z0</th>\n",
       "      <th>Z1</th>\n",
       "      <th>W0</th>\n",
       "      <th>W1</th>\n",
       "      <th>W2</th>\n",
       "      <th>W3</th>\n",
       "      <th>W4</th>\n",
       "      <th>v0</th>\n",
       "      <th>y</th>\n",
       "    </tr>\n",
       "  </thead>\n",
       "  <tbody>\n",
       "    <tr>\n",
       "      <th>0</th>\n",
       "      <td>1.0</td>\n",
       "      <td>0.192255</td>\n",
       "      <td>-1.514317</td>\n",
       "      <td>1.347205</td>\n",
       "      <td>0.417155</td>\n",
       "      <td>0.157157</td>\n",
       "      <td>1</td>\n",
       "      <td>False</td>\n",
       "      <td>0.213593</td>\n",
       "    </tr>\n",
       "    <tr>\n",
       "      <th>1</th>\n",
       "      <td>1.0</td>\n",
       "      <td>0.274911</td>\n",
       "      <td>1.400523</td>\n",
       "      <td>0.792387</td>\n",
       "      <td>-0.356177</td>\n",
       "      <td>0.223237</td>\n",
       "      <td>2</td>\n",
       "      <td>True</td>\n",
       "      <td>2.071736</td>\n",
       "    </tr>\n",
       "    <tr>\n",
       "      <th>2</th>\n",
       "      <td>1.0</td>\n",
       "      <td>0.756509</td>\n",
       "      <td>-0.209297</td>\n",
       "      <td>1.349454</td>\n",
       "      <td>-0.566771</td>\n",
       "      <td>-0.836796</td>\n",
       "      <td>0</td>\n",
       "      <td>False</td>\n",
       "      <td>-0.277825</td>\n",
       "    </tr>\n",
       "    <tr>\n",
       "      <th>3</th>\n",
       "      <td>1.0</td>\n",
       "      <td>0.055001</td>\n",
       "      <td>1.035587</td>\n",
       "      <td>2.087633</td>\n",
       "      <td>-1.080399</td>\n",
       "      <td>1.459818</td>\n",
       "      <td>2</td>\n",
       "      <td>True</td>\n",
       "      <td>2.317903</td>\n",
       "    </tr>\n",
       "    <tr>\n",
       "      <th>4</th>\n",
       "      <td>0.0</td>\n",
       "      <td>0.100548</td>\n",
       "      <td>0.810470</td>\n",
       "      <td>-0.720913</td>\n",
       "      <td>-0.142942</td>\n",
       "      <td>0.424959</td>\n",
       "      <td>2</td>\n",
       "      <td>True</td>\n",
       "      <td>1.356851</td>\n",
       "    </tr>\n",
       "    <tr>\n",
       "      <th>...</th>\n",
       "      <td>...</td>\n",
       "      <td>...</td>\n",
       "      <td>...</td>\n",
       "      <td>...</td>\n",
       "      <td>...</td>\n",
       "      <td>...</td>\n",
       "      <td>...</td>\n",
       "      <td>...</td>\n",
       "      <td>...</td>\n",
       "    </tr>\n",
       "    <tr>\n",
       "      <th>9995</th>\n",
       "      <td>1.0</td>\n",
       "      <td>0.159324</td>\n",
       "      <td>1.298071</td>\n",
       "      <td>1.633704</td>\n",
       "      <td>-0.719113</td>\n",
       "      <td>1.287841</td>\n",
       "      <td>0</td>\n",
       "      <td>True</td>\n",
       "      <td>2.304160</td>\n",
       "    </tr>\n",
       "    <tr>\n",
       "      <th>9996</th>\n",
       "      <td>1.0</td>\n",
       "      <td>0.320759</td>\n",
       "      <td>0.824410</td>\n",
       "      <td>1.539161</td>\n",
       "      <td>-0.488354</td>\n",
       "      <td>0.220798</td>\n",
       "      <td>3</td>\n",
       "      <td>True</td>\n",
       "      <td>2.041546</td>\n",
       "    </tr>\n",
       "    <tr>\n",
       "      <th>9997</th>\n",
       "      <td>1.0</td>\n",
       "      <td>0.305438</td>\n",
       "      <td>0.963360</td>\n",
       "      <td>0.204136</td>\n",
       "      <td>0.568758</td>\n",
       "      <td>1.045808</td>\n",
       "      <td>3</td>\n",
       "      <td>True</td>\n",
       "      <td>2.650025</td>\n",
       "    </tr>\n",
       "    <tr>\n",
       "      <th>9998</th>\n",
       "      <td>1.0</td>\n",
       "      <td>0.431542</td>\n",
       "      <td>1.199258</td>\n",
       "      <td>0.069183</td>\n",
       "      <td>0.628050</td>\n",
       "      <td>0.160477</td>\n",
       "      <td>2</td>\n",
       "      <td>True</td>\n",
       "      <td>2.359120</td>\n",
       "    </tr>\n",
       "    <tr>\n",
       "      <th>9999</th>\n",
       "      <td>0.0</td>\n",
       "      <td>0.212351</td>\n",
       "      <td>0.095112</td>\n",
       "      <td>-0.742691</td>\n",
       "      <td>-1.269509</td>\n",
       "      <td>0.018358</td>\n",
       "      <td>0</td>\n",
       "      <td>True</td>\n",
       "      <td>-0.174459</td>\n",
       "    </tr>\n",
       "  </tbody>\n",
       "</table>\n",
       "<p>10000 rows × 9 columns</p>\n",
       "</div>"
      ],
      "text/plain": [
       "       Z0        Z1        W0        W1        W2        W3 W4     v0  \\\n",
       "0     1.0  0.192255 -1.514317  1.347205  0.417155  0.157157  1  False   \n",
       "1     1.0  0.274911  1.400523  0.792387 -0.356177  0.223237  2   True   \n",
       "2     1.0  0.756509 -0.209297  1.349454 -0.566771 -0.836796  0  False   \n",
       "3     1.0  0.055001  1.035587  2.087633 -1.080399  1.459818  2   True   \n",
       "4     0.0  0.100548  0.810470 -0.720913 -0.142942  0.424959  2   True   \n",
       "...   ...       ...       ...       ...       ...       ... ..    ...   \n",
       "9995  1.0  0.159324  1.298071  1.633704 -0.719113  1.287841  0   True   \n",
       "9996  1.0  0.320759  0.824410  1.539161 -0.488354  0.220798  3   True   \n",
       "9997  1.0  0.305438  0.963360  0.204136  0.568758  1.045808  3   True   \n",
       "9998  1.0  0.431542  1.199258  0.069183  0.628050  0.160477  2   True   \n",
       "9999  0.0  0.212351  0.095112 -0.742691 -1.269509  0.018358  0   True   \n",
       "\n",
       "             y  \n",
       "0     0.213593  \n",
       "1     2.071736  \n",
       "2    -0.277825  \n",
       "3     2.317903  \n",
       "4     1.356851  \n",
       "...        ...  \n",
       "9995  2.304160  \n",
       "9996  2.041546  \n",
       "9997  2.650025  \n",
       "9998  2.359120  \n",
       "9999 -0.174459  \n",
       "\n",
       "[10000 rows x 9 columns]"
      ]
     },
     "execution_count": 3,
     "metadata": {},
     "output_type": "execute_result"
    }
   ],
   "source": [
    "data = dowhy.datasets.linear_dataset(beta=1,\n",
    "        num_common_causes=5, \n",
    "        num_instruments = 2,\n",
    "        num_treatments=1,\n",
    "        num_discrete_common_causes=1,\n",
    "        num_samples=10000,\n",
    "        treatment_is_binary=True,\n",
    "        outcome_is_binary=False)\n",
    "df = data[\"df\"]\n",
    "print(df[df.v0==True].shape[0])\n",
    "df"
   ]
  },
  {
   "cell_type": "markdown",
   "id": "4174c181",
   "metadata": {},
   "source": [
    "Note that we are using a pandas dataframe to load the data."
   ]
  },
  {
   "cell_type": "markdown",
   "id": "e7b4ac67",
   "metadata": {},
   "source": [
    "## Identifying the causal estimand"
   ]
  },
  {
   "cell_type": "markdown",
   "id": "b818a960",
   "metadata": {},
   "source": [
    "We now input a causal graph in the GML graph format."
   ]
  },
  {
   "cell_type": "code",
   "execution_count": 4,
   "id": "b60f284e",
   "metadata": {
    "execution": {
     "iopub.execute_input": "2022-09-01T17:18:59.415256Z",
     "iopub.status.busy": "2022-09-01T17:18:59.414201Z",
     "iopub.status.idle": "2022-09-01T17:18:59.438729Z",
     "shell.execute_reply": "2022-09-01T17:18:59.438232Z"
    }
   },
   "outputs": [],
   "source": [
    "# With graph\n",
    "model=CausalModel(\n",
    "        data = df,\n",
    "        treatment=data[\"treatment_name\"],\n",
    "        outcome=data[\"outcome_name\"],\n",
    "        graph=data[\"gml_graph\"],\n",
    "        instruments=data[\"instrument_names\"]\n",
    "        )"
   ]
  },
  {
   "cell_type": "code",
   "execution_count": 5,
   "id": "5e5461e7",
   "metadata": {
    "execution": {
     "iopub.execute_input": "2022-09-01T17:18:59.442601Z",
     "iopub.status.busy": "2022-09-01T17:18:59.441606Z",
     "iopub.status.idle": "2022-09-01T17:18:59.493378Z",
     "shell.execute_reply": "2022-09-01T17:18:59.492799Z"
    }
   },
   "outputs": [],
   "source": [
    "model.view_model()"
   ]
  },
  {
   "cell_type": "code",
   "execution_count": 6,
   "id": "6217e049",
   "metadata": {
    "execution": {
     "iopub.execute_input": "2022-09-01T17:18:59.496478Z",
     "iopub.status.busy": "2022-09-01T17:18:59.495958Z",
     "iopub.status.idle": "2022-09-01T17:18:59.520161Z",
     "shell.execute_reply": "2022-09-01T17:18:59.519354Z"
    }
   },
   "outputs": [
    {
     "data": {
      "image/png": "[encoded data removed]",
      "text/plain": [
       "<IPython.core.display.Image object>"
      ]
     },
     "metadata": {},
     "output_type": "display_data"
    }
   ],
   "source": [
    "from IPython.display import Image, display\n",
    "display(Image(filename=\"causal_model.png\"))"
   ]
  },
  {
   "cell_type": "markdown",
   "id": "1563b80c",
   "metadata": {},
   "source": [
    "We get a causal graph. Now identification and estimation is done."
   ]
  },
  {
   "cell_type": "code",
   "execution_count": 7,
   "id": "60af82df",
   "metadata": {
    "execution": {
     "iopub.execute_input": "2022-09-01T17:18:59.523242Z",
     "iopub.status.busy": "2022-09-01T17:18:59.522761Z",
     "iopub.status.idle": "2022-09-01T17:18:59.737197Z",
     "shell.execute_reply": "2022-09-01T17:18:59.736134Z"
    }
   },
   "outputs": [
    {
     "name": "stdout",
     "output_type": "stream",
     "text": [
      "Estimand type: nonparametric-ate\n",
      "\n",
      "### Estimand : 1\n",
      "Estimand name: backdoor\n",
      "Estimand expression:\n",
      "  d                       \n",
      "─────(E[y|W4,W3,W1,W2,W0])\n",
      "d[v₀]                     \n",
      "Estimand assumption 1, Unconfoundedness: If U→{v0} and U→y then P(y|v0,W4,W3,W1,W2,W0,U) = P(y|v0,W4,W3,W1,W2,W0)\n",
      "\n",
      "### Estimand : 2\n",
      "Estimand name: iv\n",
      "Estimand expression:\n",
      " ⎡                              -1⎤\n",
      " ⎢    d        ⎛    d          ⎞  ⎥\n",
      "E⎢─────────(y)⋅⎜─────────([v₀])⎟  ⎥\n",
      " ⎣d[Z₁  Z₀]    ⎝d[Z₁  Z₀]      ⎠  ⎦\n",
      "Estimand assumption 1, As-if-random: If U→→y then ¬(U →→{Z1,Z0})\n",
      "Estimand assumption 2, Exclusion: If we remove {Z1,Z0}→{v0}, then ¬({Z1,Z0}→y)\n",
      "\n",
      "### Estimand : 3\n",
      "Estimand name: frontdoor\n",
      "No such variable(s) found!\n",
      "\n"
     ]
    }
   ],
   "source": [
    "identified_estimand = model.identify_effect(proceed_when_unidentifiable=True)\n",
    "print(identified_estimand)"
   ]
  },
  {
   "cell_type": "markdown",
   "id": "61b88df9",
   "metadata": {},
   "source": [
    "## Method 1: Propensity Score Stratification\n",
    "\n",
    "We will be using propensity scores to stratify units in the data."
   ]
  },
  {
   "cell_type": "code",
   "execution_count": 8,
   "id": "93516d46",
   "metadata": {
    "execution": {
     "iopub.execute_input": "2022-09-01T17:18:59.740395Z",
     "iopub.status.busy": "2022-09-01T17:18:59.739873Z",
     "iopub.status.idle": "2022-09-01T17:19:00.441928Z",
     "shell.execute_reply": "2022-09-01T17:19:00.441285Z"
    }
   },
   "outputs": [
    {
     "name": "stdout",
     "output_type": "stream",
     "text": [
      "*** Causal Estimate ***\n",
      "\n",
      "## Identified estimand\n",
      "Estimand type: nonparametric-ate\n",
      "\n",
      "### Estimand : 1\n",
      "Estimand name: backdoor\n",
      "Estimand expression:\n",
      "  d                       \n",
      "─────(E[y|W4,W3,W1,W2,W0])\n",
      "d[v₀]                     \n",
      "Estimand assumption 1, Unconfoundedness: If U→{v0} and U→y then P(y|v0,W4,W3,W1,W2,W0,U) = P(y|v0,W4,W3,W1,W2,W0)\n",
      "\n",
      "## Realized estimand\n",
      "b: y~v0+W4+W3+W1+W2+W0\n",
      "Target units: att\n",
      "\n",
      "## Estimate\n",
      "Mean value: 0.9455654596891685\n",
      "\n",
      "Causal Estimate is 0.9455654596891685\n"
     ]
    }
   ],
   "source": [
    "causal_estimate_strat = model.estimate_effect(identified_estimand,\n",
    "                                              method_name=\"backdoor.propensity_score_stratification\",\n",
    "                                              target_units=\"att\")\n",
    "print(causal_estimate_strat)\n",
    "print(\"Causal Estimate is \" + str(causal_estimate_strat.value))"
   ]
  },
  {
   "cell_type": "markdown",
   "id": "bbbf847c",
   "metadata": {},
   "source": [
    "### Textual Interpreter\n",
    "\n",
    "The textual Interpreter describes (in words) the effect of unit change in the treatment variable on the outcome variable."
   ]
  },
  {
   "cell_type": "code",
   "execution_count": 9,
   "id": "3fa88334",
   "metadata": {
    "execution": {
     "iopub.execute_input": "2022-09-01T17:19:00.445543Z",
     "iopub.status.busy": "2022-09-01T17:19:00.445035Z",
     "iopub.status.idle": "2022-09-01T17:19:00.469494Z",
     "shell.execute_reply": "2022-09-01T17:19:00.468904Z"
    }
   },
   "outputs": [
    {
     "name": "stdout",
     "output_type": "stream",
     "text": [
      "Increasing the treatment variable(s) [v0] from 0 to 1 causes an increase of 0.9455654596891685 in the expected value of the outcome [y], over the data distribution/population represented by the dataset.\n"
     ]
    }
   ],
   "source": [
    "# Textual Interpreter\n",
    "interpretation = causal_estimate_strat.interpret(method_name=\"textual_effect_interpreter\")"
   ]
  },
  {
   "cell_type": "markdown",
   "id": "9f9b3089",
   "metadata": {},
   "source": [
    "### Visual Interpreter\n",
    "\n",
    "The visual interpreter plots the change in the standardized mean difference (SMD) before and after Propensity Score based adjustment of the dataset. The formula for SMD is given below.\n",
    "\n",
    "\n",
    "$SMD = \\frac{\\bar X_{1} - \\bar X_{2}}{\\sqrt{(S_{1}^{2} + S_{2}^{2})/2}}$\n",
    "\n",
    "Here, $\\bar X_{1}$ and $\\bar X_{2}$ are the sample mean for the treated and control groups.\n"
   ]
  },
  {
   "cell_type": "code",
   "execution_count": 10,
   "id": "8089987e",
   "metadata": {
    "execution": {
     "iopub.execute_input": "2022-09-01T17:19:00.472521Z",
     "iopub.status.busy": "2022-09-01T17:19:00.472208Z",
     "iopub.status.idle": "2022-09-01T17:19:01.330358Z",
     "shell.execute_reply": "2022-09-01T17:19:01.329691Z"
    }
   },
   "outputs": [
    {
     "data": {
      "image/png": "[encoded data removed]",
      "text/plain": [
       "<Figure size 640x480 with 1 Axes>"
      ]
     },
     "metadata": {},
     "output_type": "display_data"
    }
   ],
   "source": [
    "# Visual Interpreter\n",
    "interpretation = causal_estimate_strat.interpret(method_name=\"propensity_balance_interpreter\")"
   ]
  },
  {
   "cell_type": "markdown",
   "id": "a0f3b091",
   "metadata": {},
   "source": [
    "This plot shows how the SMD decreases from the unadjusted to the stratified units. "
   ]
  },
  {
   "cell_type": "markdown",
   "id": "3a0f3c55",
   "metadata": {},
   "source": [
    "## Method 2: Propensity Score Matching\n",
    "\n",
    "We will be using propensity scores to match units in the data."
   ]
  },
  {
   "cell_type": "code",
   "execution_count": 11,
   "id": "cd5302af",
   "metadata": {
    "execution": {
     "iopub.execute_input": "2022-09-01T17:19:01.333399Z",
     "iopub.status.busy": "2022-09-01T17:19:01.333049Z",
     "iopub.status.idle": "2022-09-01T17:19:04.851293Z",
     "shell.execute_reply": "2022-09-01T17:19:04.850480Z"
    }
   },
   "outputs": [
    {
     "name": "stdout",
     "output_type": "stream",
     "text": [
      "*** Causal Estimate ***\n",
      "\n",
      "## Identified estimand\n",
      "Estimand type: nonparametric-ate\n",
      "\n",
      "### Estimand : 1\n",
      "Estimand name: backdoor\n",
      "Estimand expression:\n",
      "  d                       \n",
      "─────(E[y|W4,W3,W1,W2,W0])\n",
      "d[v₀]                     \n",
      "Estimand assumption 1, Unconfoundedness: If U→{v0} and U→y then P(y|v0,W4,W3,W1,W2,W0,U) = P(y|v0,W4,W3,W1,W2,W0)\n",
      "\n",
      "## Realized estimand\n",
      "b: y~v0+W4+W3+W1+W2+W0\n",
      "Target units: atc\n",
      "\n",
      "## Estimate\n",
      "Mean value: 1.0007481606061532\n",
      "\n",
      "Causal Estimate is 1.0007481606061532\n"
     ]
    }
   ],
   "source": [
    "causal_estimate_match = model.estimate_effect(identified_estimand,\n",
    "                                              method_name=\"backdoor.propensity_score_matching\",\n",
    "                                              target_units=\"atc\")\n",
    "print(causal_estimate_match)\n",
    "print(\"Causal Estimate is \" + str(causal_estimate_match.value))"
   ]
  },
  {
   "cell_type": "code",
   "execution_count": 12,
   "id": "3349cd04",
   "metadata": {
    "execution": {
     "iopub.execute_input": "2022-09-01T17:19:04.854625Z",
     "iopub.status.busy": "2022-09-01T17:19:04.854274Z",
     "iopub.status.idle": "2022-09-01T17:19:04.881210Z",
     "shell.execute_reply": "2022-09-01T17:19:04.879518Z"
    }
   },
   "outputs": [
    {
     "name": "stdout",
     "output_type": "stream",
     "text": [
      "Increasing the treatment variable(s) [v0] from 0 to 1 causes an increase of 1.0007481606061532 in the expected value of the outcome [y], over the data distribution/population represented by the dataset.\n"
     ]
    }
   ],
   "source": [
    "# Textual Interpreter\n",
    "interpretation = causal_estimate_match.interpret(method_name=\"textual_effect_interpreter\")"
   ]
  },
  {
   "cell_type": "markdown",
   "id": "450a7329",
   "metadata": {},
   "source": [
    "Cannot use propensity balance interpretor here since the interpreter method only supports propensity score stratification estimator."
   ]
  },
  {
   "cell_type": "markdown",
   "id": "2ded643a",
   "metadata": {},
   "source": [
    "## Method 3: Weighting\n",
    "\n",
    "We will be using (inverse) propensity scores to assign weights to units in the data. DoWhy supports a few different weighting schemes:\n",
    "1. Vanilla Inverse Propensity Score weighting (IPS) (weighting_scheme=\"ips_weight\")\n",
    "2. Self-normalized IPS weighting (also known as the Hajek estimator) (weighting_scheme=\"ips_normalized_weight\")\n",
    "3. Stabilized IPS weighting (weighting_scheme = \"ips_stabilized_weight\")"
   ]
  },
  {
   "cell_type": "code",
   "execution_count": 13,
   "id": "7e9a9095",
   "metadata": {
    "execution": {
     "iopub.execute_input": "2022-09-01T17:19:04.884423Z",
     "iopub.status.busy": "2022-09-01T17:19:04.883898Z",
     "iopub.status.idle": "2022-09-01T17:19:04.945102Z",
     "shell.execute_reply": "2022-09-01T17:19:04.944480Z"
    }
   },
   "outputs": [
    {
     "name": "stdout",
     "output_type": "stream",
     "text": [
      "*** Causal Estimate ***\n",
      "\n",
      "## Identified estimand\n",
      "Estimand type: nonparametric-ate\n",
      "\n",
      "### Estimand : 1\n",
      "Estimand name: backdoor\n",
      "Estimand expression:\n",
      "  d                       \n",
      "─────(E[y|W4,W3,W1,W2,W0])\n",
      "d[v₀]                     \n",
      "Estimand assumption 1, Unconfoundedness: If U→{v0} and U→y then P(y|v0,W4,W3,W1,W2,W0,U) = P(y|v0,W4,W3,W1,W2,W0)\n",
      "\n",
      "## Realized estimand\n",
      "b: y~v0+W4+W3+W1+W2+W0\n",
      "Target units: ate\n",
      "\n",
      "## Estimate\n",
      "Mean value: 1.4531706287314603\n",
      "\n",
      "Causal Estimate is 1.4531706287314603\n"
     ]
    }
   ],
   "source": [
    "causal_estimate_ipw = model.estimate_effect(identified_estimand,\n",
    "                                            method_name=\"backdoor.propensity_score_weighting\",\n",
    "                                            target_units = \"ate\",\n",
    "                                            method_params={\"weighting_scheme\":\"ips_weight\"})\n",
    "print(causal_estimate_ipw)\n",
    "print(\"Causal Estimate is \" + str(causal_estimate_ipw.value))"
   ]
  },
  {
   "cell_type": "code",
   "execution_count": 14,
   "id": "291dd41c",
   "metadata": {
    "execution": {
     "iopub.execute_input": "2022-09-01T17:19:04.948219Z",
     "iopub.status.busy": "2022-09-01T17:19:04.947996Z",
     "iopub.status.idle": "2022-09-01T17:19:04.973057Z",
     "shell.execute_reply": "2022-09-01T17:19:04.972476Z"
    }
   },
   "outputs": [
    {
     "name": "stdout",
     "output_type": "stream",
     "text": [
      "Increasing the treatment variable(s) [v0] from 0 to 1 causes an increase of 1.4531706287314603 in the expected value of the outcome [y], over the data distribution/population represented by the dataset.\n"
     ]
    }
   ],
   "source": [
    "# Textual Interpreter\n",
    "interpretation = causal_estimate_ipw.interpret(method_name=\"textual_effect_interpreter\")"
   ]
  },
  {
   "cell_type": "code",
   "execution_count": 15,
   "id": "d03e273d",
   "metadata": {
    "execution": {
     "iopub.execute_input": "2022-09-01T17:19:04.975977Z",
     "iopub.status.busy": "2022-09-01T17:19:04.975759Z",
     "iopub.status.idle": "2022-09-01T17:19:05.219684Z",
     "shell.execute_reply": "2022-09-01T17:19:05.219096Z"
    }
   },
   "outputs": [
    {
     "data": {
      "image/png": "[encoded data removed]",
      "text/plain": [
       "<Figure size 800x800 with 2 Axes>"
      ]
     },
     "metadata": {},
     "output_type": "display_data"
    }
   ],
   "source": [
    "interpretation = causal_estimate_ipw.interpret(method_name=\"confounder_distribution_interpreter\", fig_size=(8,8), font_size=12, var_name='W4', var_type='discrete')"
   ]
  },
  {
   "cell_type": "code",
   "execution_count": null,
   "id": "25404082",
   "metadata": {},
   "outputs": [],
   "source": []
  }
 ],
 "metadata": {
  "kernelspec": {
   "display_name": "Python 3",
   "language": "python",
   "name": "python3"
  },
  "language_info": {
   "codemirror_mode": {
    "name": "ipython",
    "version": 3
   },
   "file_extension": ".py",
   "mimetype": "text/x-python",
   "name": "python",
   "nbconvert_exporter": "python",
   "pygments_lexer": "ipython3",
   "version": "3.8.10"
  },
  "toc": {
   "base_numbering": 1,
   "nav_menu": {},
   "number_sections": false,
   "sideBar": true,
   "skip_h1_title": true,
   "title_cell": "Table of Contents",
   "title_sidebar": "Contents",
   "toc_cell": false,
   "toc_position": {},
   "toc_section_display": true,
   "toc_window_display": false
  }
 },
 "nbformat": 4,
 "nbformat_minor": 5
}
