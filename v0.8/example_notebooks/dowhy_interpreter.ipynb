{
 "cells": [
  {
   "cell_type": "markdown",
   "id": "84c14844",
   "metadata": {},
   "source": [
    "# DoWhy: Interpreters for Causal Estimators\n",
    "\n",
    "This is a quick introduction to the use of interpreters in the DoWhy causal inference library.\n",
    "We will load in a sample dataset, use different methods for estimating the causal effect of a (pre-specified)treatment variable on a (pre-specified) outcome variable and demonstrate how to interpret the obtained results.\n",
    "\n",
    "First, let us add the required path for Python to find the DoWhy code and load all required packages"
   ]
  },
  {
   "cell_type": "code",
   "execution_count": 1,
   "id": "9da9bc2b",
   "metadata": {
    "execution": {
     "iopub.execute_input": "2022-08-12T21:41:06.733954Z",
     "iopub.status.busy": "2022-08-12T21:41:06.733590Z",
     "iopub.status.idle": "2022-08-12T21:41:06.749221Z",
     "shell.execute_reply": "2022-08-12T21:41:06.748650Z"
    }
   },
   "outputs": [],
   "source": [
    "%load_ext autoreload\n",
    "%autoreload 2"
   ]
  },
  {
   "cell_type": "code",
   "execution_count": 2,
   "id": "b2b8fc79",
   "metadata": {
    "execution": {
     "iopub.execute_input": "2022-08-12T21:41:06.752054Z",
     "iopub.status.busy": "2022-08-12T21:41:06.751857Z",
     "iopub.status.idle": "2022-08-12T21:41:07.673110Z",
     "shell.execute_reply": "2022-08-12T21:41:07.672473Z"
    }
   },
   "outputs": [],
   "source": [
    "import numpy as np\n",
    "import pandas as pd\n",
    "import logging\n",
    "\n",
    "import dowhy\n",
    "from dowhy import CausalModel\n",
    "import dowhy.datasets "
   ]
  },
  {
   "cell_type": "markdown",
   "id": "53f2e81f",
   "metadata": {},
   "source": [
    "Now, let us load a dataset. For simplicity, we simulate a dataset with linear relationships between common causes and treatment, and common causes and outcome.\n",
    "\n",
    "Beta is the true causal effect."
   ]
  },
  {
   "cell_type": "code",
   "execution_count": 3,
   "id": "0c962e7e",
   "metadata": {
    "execution": {
     "iopub.execute_input": "2022-08-12T21:41:07.676495Z",
     "iopub.status.busy": "2022-08-12T21:41:07.676157Z",
     "iopub.status.idle": "2022-08-12T21:41:07.946735Z",
     "shell.execute_reply": "2022-08-12T21:41:07.946148Z"
    }
   },
   "outputs": [
    {
     "name": "stdout",
     "output_type": "stream",
     "text": [
      "9435\n"
     ]
    },
    {
     "data": {
      "text/html": [
       "<div>\n",
       "<style scoped>\n",
       "    .dataframe tbody tr th:only-of-type {\n",
       "        vertical-align: middle;\n",
       "    }\n",
       "\n",
       "    .dataframe tbody tr th {\n",
       "        vertical-align: top;\n",
       "    }\n",
       "\n",
       "    .dataframe thead th {\n",
       "        text-align: right;\n",
       "    }\n",
       "</style>\n",
       "<table border=\"1\" class=\"dataframe\">\n",
       "  <thead>\n",
       "    <tr style=\"text-align: right;\">\n",
       "      <th></th>\n",
       "      <th>Z0</th>\n",
       "      <th>Z1</th>\n",
       "      <th>W0</th>\n",
       "      <th>W1</th>\n",
       "      <th>W2</th>\n",
       "      <th>W3</th>\n",
       "      <th>W4</th>\n",
       "      <th>v0</th>\n",
       "      <th>y</th>\n",
       "    </tr>\n",
       "  </thead>\n",
       "  <tbody>\n",
       "    <tr>\n",
       "      <th>0</th>\n",
       "      <td>1.0</td>\n",
       "      <td>0.828531</td>\n",
       "      <td>-0.471901</td>\n",
       "      <td>-0.971586</td>\n",
       "      <td>-1.131505</td>\n",
       "      <td>0.413841</td>\n",
       "      <td>1</td>\n",
       "      <td>True</td>\n",
       "      <td>0.633480</td>\n",
       "    </tr>\n",
       "    <tr>\n",
       "      <th>1</th>\n",
       "      <td>1.0</td>\n",
       "      <td>0.795325</td>\n",
       "      <td>0.728878</td>\n",
       "      <td>-1.092193</td>\n",
       "      <td>1.528408</td>\n",
       "      <td>2.504125</td>\n",
       "      <td>2</td>\n",
       "      <td>True</td>\n",
       "      <td>2.353563</td>\n",
       "    </tr>\n",
       "    <tr>\n",
       "      <th>2</th>\n",
       "      <td>1.0</td>\n",
       "      <td>0.812074</td>\n",
       "      <td>-0.036065</td>\n",
       "      <td>0.515233</td>\n",
       "      <td>0.691242</td>\n",
       "      <td>1.408371</td>\n",
       "      <td>0</td>\n",
       "      <td>True</td>\n",
       "      <td>1.215218</td>\n",
       "    </tr>\n",
       "    <tr>\n",
       "      <th>3</th>\n",
       "      <td>1.0</td>\n",
       "      <td>0.961418</td>\n",
       "      <td>-0.490923</td>\n",
       "      <td>-2.012922</td>\n",
       "      <td>1.177336</td>\n",
       "      <td>0.333554</td>\n",
       "      <td>3</td>\n",
       "      <td>True</td>\n",
       "      <td>0.867368</td>\n",
       "    </tr>\n",
       "    <tr>\n",
       "      <th>4</th>\n",
       "      <td>1.0</td>\n",
       "      <td>0.556790</td>\n",
       "      <td>-0.584346</td>\n",
       "      <td>-0.221059</td>\n",
       "      <td>0.553782</td>\n",
       "      <td>1.538289</td>\n",
       "      <td>2</td>\n",
       "      <td>True</td>\n",
       "      <td>0.845006</td>\n",
       "    </tr>\n",
       "    <tr>\n",
       "      <th>...</th>\n",
       "      <td>...</td>\n",
       "      <td>...</td>\n",
       "      <td>...</td>\n",
       "      <td>...</td>\n",
       "      <td>...</td>\n",
       "      <td>...</td>\n",
       "      <td>...</td>\n",
       "      <td>...</td>\n",
       "      <td>...</td>\n",
       "    </tr>\n",
       "    <tr>\n",
       "      <th>9995</th>\n",
       "      <td>1.0</td>\n",
       "      <td>0.079567</td>\n",
       "      <td>0.095691</td>\n",
       "      <td>-1.354411</td>\n",
       "      <td>1.714912</td>\n",
       "      <td>-0.588534</td>\n",
       "      <td>1</td>\n",
       "      <td>True</td>\n",
       "      <td>1.131142</td>\n",
       "    </tr>\n",
       "    <tr>\n",
       "      <th>9996</th>\n",
       "      <td>1.0</td>\n",
       "      <td>0.072744</td>\n",
       "      <td>-0.688809</td>\n",
       "      <td>-1.544777</td>\n",
       "      <td>0.901887</td>\n",
       "      <td>-0.573209</td>\n",
       "      <td>0</td>\n",
       "      <td>True</td>\n",
       "      <td>0.235618</td>\n",
       "    </tr>\n",
       "    <tr>\n",
       "      <th>9997</th>\n",
       "      <td>1.0</td>\n",
       "      <td>0.939996</td>\n",
       "      <td>-0.779011</td>\n",
       "      <td>-1.155388</td>\n",
       "      <td>0.859059</td>\n",
       "      <td>0.564226</td>\n",
       "      <td>0</td>\n",
       "      <td>True</td>\n",
       "      <td>0.322218</td>\n",
       "    </tr>\n",
       "    <tr>\n",
       "      <th>9998</th>\n",
       "      <td>0.0</td>\n",
       "      <td>0.750851</td>\n",
       "      <td>0.445578</td>\n",
       "      <td>0.137663</td>\n",
       "      <td>-0.004399</td>\n",
       "      <td>0.673568</td>\n",
       "      <td>1</td>\n",
       "      <td>True</td>\n",
       "      <td>1.651461</td>\n",
       "    </tr>\n",
       "    <tr>\n",
       "      <th>9999</th>\n",
       "      <td>1.0</td>\n",
       "      <td>0.444482</td>\n",
       "      <td>1.015110</td>\n",
       "      <td>-0.461901</td>\n",
       "      <td>1.547702</td>\n",
       "      <td>-1.268529</td>\n",
       "      <td>2</td>\n",
       "      <td>True</td>\n",
       "      <td>2.057650</td>\n",
       "    </tr>\n",
       "  </tbody>\n",
       "</table>\n",
       "<p>10000 rows × 9 columns</p>\n",
       "</div>"
      ],
      "text/plain": [
       "       Z0        Z1        W0        W1        W2        W3 W4    v0         y\n",
       "0     1.0  0.828531 -0.471901 -0.971586 -1.131505  0.413841  1  True  0.633480\n",
       "1     1.0  0.795325  0.728878 -1.092193  1.528408  2.504125  2  True  2.353563\n",
       "2     1.0  0.812074 -0.036065  0.515233  0.691242  1.408371  0  True  1.215218\n",
       "3     1.0  0.961418 -0.490923 -2.012922  1.177336  0.333554  3  True  0.867368\n",
       "4     1.0  0.556790 -0.584346 -0.221059  0.553782  1.538289  2  True  0.845006\n",
       "...   ...       ...       ...       ...       ...       ... ..   ...       ...\n",
       "9995  1.0  0.079567  0.095691 -1.354411  1.714912 -0.588534  1  True  1.131142\n",
       "9996  1.0  0.072744 -0.688809 -1.544777  0.901887 -0.573209  0  True  0.235618\n",
       "9997  1.0  0.939996 -0.779011 -1.155388  0.859059  0.564226  0  True  0.322218\n",
       "9998  0.0  0.750851  0.445578  0.137663 -0.004399  0.673568  1  True  1.651461\n",
       "9999  1.0  0.444482  1.015110 -0.461901  1.547702 -1.268529  2  True  2.057650\n",
       "\n",
       "[10000 rows x 9 columns]"
      ]
     },
     "execution_count": 3,
     "metadata": {},
     "output_type": "execute_result"
    }
   ],
   "source": [
    "data = dowhy.datasets.linear_dataset(beta=1,\n",
    "        num_common_causes=5, \n",
    "        num_instruments = 2,\n",
    "        num_treatments=1,\n",
    "        num_discrete_common_causes=1,\n",
    "        num_samples=10000,\n",
    "        treatment_is_binary=True,\n",
    "        outcome_is_binary=False)\n",
    "df = data[\"df\"]\n",
    "print(df[df.v0==True].shape[0])\n",
    "df"
   ]
  },
  {
   "cell_type": "markdown",
   "id": "10bc1da5",
   "metadata": {},
   "source": [
    "Note that we are using a pandas dataframe to load the data."
   ]
  },
  {
   "cell_type": "markdown",
   "id": "22fcbaa2",
   "metadata": {},
   "source": [
    "## Identifying the causal estimand"
   ]
  },
  {
   "cell_type": "markdown",
   "id": "f9405e46",
   "metadata": {},
   "source": [
    "We now input a causal graph in the GML graph format."
   ]
  },
  {
   "cell_type": "code",
   "execution_count": 4,
   "id": "c49ae219",
   "metadata": {
    "execution": {
     "iopub.execute_input": "2022-08-12T21:41:07.951289Z",
     "iopub.status.busy": "2022-08-12T21:41:07.950044Z",
     "iopub.status.idle": "2022-08-12T21:41:07.974460Z",
     "shell.execute_reply": "2022-08-12T21:41:07.973964Z"
    }
   },
   "outputs": [],
   "source": [
    "# With graph\n",
    "model=CausalModel(\n",
    "        data = df,\n",
    "        treatment=data[\"treatment_name\"],\n",
    "        outcome=data[\"outcome_name\"],\n",
    "        graph=data[\"gml_graph\"],\n",
    "        instruments=data[\"instrument_names\"]\n",
    "        )"
   ]
  },
  {
   "cell_type": "code",
   "execution_count": 5,
   "id": "057125d8",
   "metadata": {
    "execution": {
     "iopub.execute_input": "2022-08-12T21:41:07.977759Z",
     "iopub.status.busy": "2022-08-12T21:41:07.977372Z",
     "iopub.status.idle": "2022-08-12T21:41:08.033764Z",
     "shell.execute_reply": "2022-08-12T21:41:08.033097Z"
    }
   },
   "outputs": [],
   "source": [
    "model.view_model()"
   ]
  },
  {
   "cell_type": "code",
   "execution_count": 6,
   "id": "8bc585d4",
   "metadata": {
    "execution": {
     "iopub.execute_input": "2022-08-12T21:41:08.037306Z",
     "iopub.status.busy": "2022-08-12T21:41:08.037036Z",
     "iopub.status.idle": "2022-08-12T21:41:08.062352Z",
     "shell.execute_reply": "2022-08-12T21:41:08.061740Z"
    }
   },
   "outputs": [
    {
     "data": {
      "image/png": "[encoded data removed]",
      "text/plain": [
       "<IPython.core.display.Image object>"
      ]
     },
     "metadata": {},
     "output_type": "display_data"
    }
   ],
   "source": [
    "from IPython.display import Image, display\n",
    "display(Image(filename=\"causal_model.png\"))"
   ]
  },
  {
   "cell_type": "markdown",
   "id": "00274132",
   "metadata": {},
   "source": [
    "We get a causal graph. Now identification and estimation is done."
   ]
  },
  {
   "cell_type": "code",
   "execution_count": 7,
   "id": "7e4f8285",
   "metadata": {
    "execution": {
     "iopub.execute_input": "2022-08-12T21:41:08.065232Z",
     "iopub.status.busy": "2022-08-12T21:41:08.064999Z",
     "iopub.status.idle": "2022-08-12T21:41:08.280579Z",
     "shell.execute_reply": "2022-08-12T21:41:08.279955Z"
    }
   },
   "outputs": [
    {
     "name": "stdout",
     "output_type": "stream",
     "text": [
      "Estimand type: nonparametric-ate\n",
      "\n",
      "### Estimand : 1\n",
      "Estimand name: backdoor\n",
      "Estimand expression:\n",
      "  d                       \n",
      "─────(E[y|W3,W0,W4,W1,W2])\n",
      "d[v₀]                     \n",
      "Estimand assumption 1, Unconfoundedness: If U→{v0} and U→y then P(y|v0,W3,W0,W4,W1,W2,U) = P(y|v0,W3,W0,W4,W1,W2)\n",
      "\n",
      "### Estimand : 2\n",
      "Estimand name: iv\n",
      "Estimand expression:\n",
      " ⎡                              -1⎤\n",
      " ⎢    d        ⎛    d          ⎞  ⎥\n",
      "E⎢─────────(y)⋅⎜─────────([v₀])⎟  ⎥\n",
      " ⎣d[Z₁  Z₀]    ⎝d[Z₁  Z₀]      ⎠  ⎦\n",
      "Estimand assumption 1, As-if-random: If U→→y then ¬(U →→{Z1,Z0})\n",
      "Estimand assumption 2, Exclusion: If we remove {Z1,Z0}→{v0}, then ¬({Z1,Z0}→y)\n",
      "\n",
      "### Estimand : 3\n",
      "Estimand name: frontdoor\n",
      "No such variable(s) found!\n",
      "\n"
     ]
    }
   ],
   "source": [
    "identified_estimand = model.identify_effect(proceed_when_unidentifiable=True)\n",
    "print(identified_estimand)"
   ]
  },
  {
   "cell_type": "markdown",
   "id": "02323188",
   "metadata": {},
   "source": [
    "## Method 1: Propensity Score Stratification\n",
    "\n",
    "We will be using propensity scores to stratify units in the data."
   ]
  },
  {
   "cell_type": "code",
   "execution_count": 8,
   "id": "749eebd4",
   "metadata": {
    "execution": {
     "iopub.execute_input": "2022-08-12T21:41:08.284080Z",
     "iopub.status.busy": "2022-08-12T21:41:08.283565Z",
     "iopub.status.idle": "2022-08-12T21:41:08.976286Z",
     "shell.execute_reply": "2022-08-12T21:41:08.975669Z"
    }
   },
   "outputs": [
    {
     "name": "stdout",
     "output_type": "stream",
     "text": [
      "propensity_score_stratification\n"
     ]
    },
    {
     "name": "stderr",
     "output_type": "stream",
     "text": [
      "/github/home/.cache/pypoetry/virtualenvs/dowhy-oN2hW5jr-py3.8/lib/python3.8/site-packages/sklearn/utils/validation.py:993: DataConversionWarning: A column-vector y was passed when a 1d array was expected. Please change the shape of y to (n_samples, ), for example using ravel().\n",
      "  y = column_or_1d(y, warn=True)\n"
     ]
    },
    {
     "name": "stdout",
     "output_type": "stream",
     "text": [
      "*** Causal Estimate ***\n",
      "\n",
      "## Identified estimand\n",
      "Estimand type: nonparametric-ate\n",
      "\n",
      "### Estimand : 1\n",
      "Estimand name: backdoor\n",
      "Estimand expression:\n",
      "  d                       \n",
      "─────(E[y|W3,W0,W4,W1,W2])\n",
      "d[v₀]                     \n",
      "Estimand assumption 1, Unconfoundedness: If U→{v0} and U→y then P(y|v0,W3,W0,W4,W1,W2,U) = P(y|v0,W3,W0,W4,W1,W2)\n",
      "\n",
      "## Realized estimand\n",
      "b: y~v0+W3+W0+W4+W1+W2\n",
      "Target units: att\n",
      "\n",
      "## Estimate\n",
      "Mean value: 1.00056235021409\n",
      "\n",
      "Causal Estimate is 1.00056235021409\n"
     ]
    }
   ],
   "source": [
    "causal_estimate_strat = model.estimate_effect(identified_estimand,\n",
    "                                              method_name=\"backdoor.propensity_score_stratification\",\n",
    "                                              target_units=\"att\")\n",
    "print(causal_estimate_strat)\n",
    "print(\"Causal Estimate is \" + str(causal_estimate_strat.value))"
   ]
  },
  {
   "cell_type": "markdown",
   "id": "36d4ad34",
   "metadata": {},
   "source": [
    "### Textual Interpreter\n",
    "\n",
    "The textual Interpreter describes (in words) the effect of unit change in the treatment variable on the outcome variable."
   ]
  },
  {
   "cell_type": "code",
   "execution_count": 9,
   "id": "d18f79aa",
   "metadata": {
    "execution": {
     "iopub.execute_input": "2022-08-12T21:41:08.979816Z",
     "iopub.status.busy": "2022-08-12T21:41:08.979320Z",
     "iopub.status.idle": "2022-08-12T21:41:09.003724Z",
     "shell.execute_reply": "2022-08-12T21:41:09.003142Z"
    }
   },
   "outputs": [
    {
     "name": "stdout",
     "output_type": "stream",
     "text": [
      "Increasing the treatment variable(s) [v0] from 0 to 1 causes an increase of 1.00056235021409 in the expected value of the outcome [y], over the data distribution/population represented by the dataset.\n"
     ]
    }
   ],
   "source": [
    "# Textual Interpreter\n",
    "interpretation = causal_estimate_strat.interpret(method_name=\"textual_effect_interpreter\")"
   ]
  },
  {
   "cell_type": "markdown",
   "id": "af48be59",
   "metadata": {},
   "source": [
    "### Visual Interpreter\n",
    "\n",
    "The visual interpreter plots the change in the standardized mean difference (SMD) before and after Propensity Score based adjustment of the dataset. The formula for SMD is given below.\n",
    "\n",
    "\n",
    "$SMD = \\frac{\\bar X_{1} - \\bar X_{2}}{\\sqrt{(S_{1}^{2} + S_{2}^{2})/2}}$\n",
    "\n",
    "Here, $\\bar X_{1}$ and $\\bar X_{2}$ are the sample mean for the treated and control groups.\n"
   ]
  },
  {
   "cell_type": "code",
   "execution_count": 10,
   "id": "8d4d0a86",
   "metadata": {
    "execution": {
     "iopub.execute_input": "2022-08-12T21:41:09.006376Z",
     "iopub.status.busy": "2022-08-12T21:41:09.006164Z",
     "iopub.status.idle": "2022-08-12T21:41:09.912891Z",
     "shell.execute_reply": "2022-08-12T21:41:09.912301Z"
    }
   },
   "outputs": [
    {
     "data": {
      "image/png": "[encoded data removed]",
      "text/plain": [
       "<Figure size 432x288 with 1 Axes>"
      ]
     },
     "metadata": {
      "needs_background": "light"
     },
     "output_type": "display_data"
    }
   ],
   "source": [
    "# Visual Interpreter\n",
    "interpretation = causal_estimate_strat.interpret(method_name=\"propensity_balance_interpreter\")"
   ]
  },
  {
   "cell_type": "markdown",
   "id": "59229108",
   "metadata": {},
   "source": [
    "This plot shows how the SMD decreases from the unadjusted to the stratified units. "
   ]
  },
  {
   "cell_type": "markdown",
   "id": "f5ac35e8",
   "metadata": {},
   "source": [
    "## Method 2: Propensity Score Matching\n",
    "\n",
    "We will be using propensity scores to match units in the data."
   ]
  },
  {
   "cell_type": "code",
   "execution_count": 11,
   "id": "35a8db01",
   "metadata": {
    "execution": {
     "iopub.execute_input": "2022-08-12T21:41:09.916332Z",
     "iopub.status.busy": "2022-08-12T21:41:09.915821Z",
     "iopub.status.idle": "2022-08-12T21:41:13.554001Z",
     "shell.execute_reply": "2022-08-12T21:41:13.553368Z"
    }
   },
   "outputs": [
    {
     "name": "stdout",
     "output_type": "stream",
     "text": [
      "propensity_score_matching\n"
     ]
    },
    {
     "name": "stderr",
     "output_type": "stream",
     "text": [
      "/github/home/.cache/pypoetry/virtualenvs/dowhy-oN2hW5jr-py3.8/lib/python3.8/site-packages/sklearn/utils/validation.py:993: DataConversionWarning: A column-vector y was passed when a 1d array was expected. Please change the shape of y to (n_samples, ), for example using ravel().\n",
      "  y = column_or_1d(y, warn=True)\n"
     ]
    },
    {
     "name": "stdout",
     "output_type": "stream",
     "text": [
      "*** Causal Estimate ***\n",
      "\n",
      "## Identified estimand\n",
      "Estimand type: nonparametric-ate\n",
      "\n",
      "### Estimand : 1\n",
      "Estimand name: backdoor\n",
      "Estimand expression:\n",
      "  d                       \n",
      "─────(E[y|W3,W0,W4,W1,W2])\n",
      "d[v₀]                     \n",
      "Estimand assumption 1, Unconfoundedness: If U→{v0} and U→y then P(y|v0,W3,W0,W4,W1,W2,U) = P(y|v0,W3,W0,W4,W1,W2)\n",
      "\n",
      "## Realized estimand\n",
      "b: y~v0+W3+W0+W4+W1+W2\n",
      "Target units: atc\n",
      "\n",
      "## Estimate\n",
      "Mean value: 0.9868539379101529\n",
      "\n",
      "Causal Estimate is 0.9868539379101529\n"
     ]
    }
   ],
   "source": [
    "causal_estimate_match = model.estimate_effect(identified_estimand,\n",
    "                                              method_name=\"backdoor.propensity_score_matching\",\n",
    "                                              target_units=\"atc\")\n",
    "print(causal_estimate_match)\n",
    "print(\"Causal Estimate is \" + str(causal_estimate_match.value))"
   ]
  },
  {
   "cell_type": "code",
   "execution_count": 12,
   "id": "b174af83",
   "metadata": {
    "execution": {
     "iopub.execute_input": "2022-08-12T21:41:13.556782Z",
     "iopub.status.busy": "2022-08-12T21:41:13.556554Z",
     "iopub.status.idle": "2022-08-12T21:41:13.581104Z",
     "shell.execute_reply": "2022-08-12T21:41:13.580535Z"
    }
   },
   "outputs": [
    {
     "name": "stdout",
     "output_type": "stream",
     "text": [
      "Increasing the treatment variable(s) [v0] from 0 to 1 causes an increase of 0.9868539379101529 in the expected value of the outcome [y], over the data distribution/population represented by the dataset.\n"
     ]
    }
   ],
   "source": [
    "# Textual Interpreter\n",
    "interpretation = causal_estimate_match.interpret(method_name=\"textual_effect_interpreter\")"
   ]
  },
  {
   "cell_type": "markdown",
   "id": "4fd68186",
   "metadata": {},
   "source": [
    "Cannot use propensity balance interpretor here since the interpreter method only supports propensity score stratification estimator."
   ]
  },
  {
   "cell_type": "markdown",
   "id": "1605d00c",
   "metadata": {},
   "source": [
    "## Method 3: Weighting\n",
    "\n",
    "We will be using (inverse) propensity scores to assign weights to units in the data. DoWhy supports a few different weighting schemes:\n",
    "1. Vanilla Inverse Propensity Score weighting (IPS) (weighting_scheme=\"ips_weight\")\n",
    "2. Self-normalized IPS weighting (also known as the Hajek estimator) (weighting_scheme=\"ips_normalized_weight\")\n",
    "3. Stabilized IPS weighting (weighting_scheme = \"ips_stabilized_weight\")"
   ]
  },
  {
   "cell_type": "code",
   "execution_count": 13,
   "id": "2df3493a",
   "metadata": {
    "execution": {
     "iopub.execute_input": "2022-08-12T21:41:13.584277Z",
     "iopub.status.busy": "2022-08-12T21:41:13.583940Z",
     "iopub.status.idle": "2022-08-12T21:41:13.643201Z",
     "shell.execute_reply": "2022-08-12T21:41:13.641680Z"
    }
   },
   "outputs": [
    {
     "name": "stdout",
     "output_type": "stream",
     "text": [
      "propensity_score_weighting\n",
      "*** Causal Estimate ***\n",
      "\n",
      "## Identified estimand\n",
      "Estimand type: nonparametric-ate\n",
      "\n",
      "### Estimand : 1\n",
      "Estimand name: backdoor\n",
      "Estimand expression:\n",
      "  d                       \n",
      "─────(E[y|W3,W0,W4,W1,W2])\n",
      "d[v₀]                     \n",
      "Estimand assumption 1, Unconfoundedness: If U→{v0} and U→y then P(y|v0,W3,W0,W4,W1,W2,U) = P(y|v0,W3,W0,W4,W1,W2)\n",
      "\n",
      "## Realized estimand\n",
      "b: y~v0+W3+W0+W4+W1+W2\n",
      "Target units: ate\n",
      "\n",
      "## Estimate\n",
      "Mean value: 1.0787561196323316\n",
      "\n",
      "Causal Estimate is 1.0787561196323316\n"
     ]
    },
    {
     "name": "stderr",
     "output_type": "stream",
     "text": [
      "/github/home/.cache/pypoetry/virtualenvs/dowhy-oN2hW5jr-py3.8/lib/python3.8/site-packages/sklearn/utils/validation.py:993: DataConversionWarning: A column-vector y was passed when a 1d array was expected. Please change the shape of y to (n_samples, ), for example using ravel().\n",
      "  y = column_or_1d(y, warn=True)\n"
     ]
    }
   ],
   "source": [
    "causal_estimate_ipw = model.estimate_effect(identified_estimand,\n",
    "                                            method_name=\"backdoor.propensity_score_weighting\",\n",
    "                                            target_units = \"ate\",\n",
    "                                            method_params={\"weighting_scheme\":\"ips_weight\"})\n",
    "print(causal_estimate_ipw)\n",
    "print(\"Causal Estimate is \" + str(causal_estimate_ipw.value))"
   ]
  },
  {
   "cell_type": "code",
   "execution_count": 14,
   "id": "db6f4c5d",
   "metadata": {
    "execution": {
     "iopub.execute_input": "2022-08-12T21:41:13.645837Z",
     "iopub.status.busy": "2022-08-12T21:41:13.645578Z",
     "iopub.status.idle": "2022-08-12T21:41:13.676946Z",
     "shell.execute_reply": "2022-08-12T21:41:13.676465Z"
    }
   },
   "outputs": [
    {
     "name": "stdout",
     "output_type": "stream",
     "text": [
      "Increasing the treatment variable(s) [v0] from 0 to 1 causes an increase of 1.0787561196323316 in the expected value of the outcome [y], over the data distribution/population represented by the dataset.\n"
     ]
    }
   ],
   "source": [
    "# Textual Interpreter\n",
    "interpretation = causal_estimate_ipw.interpret(method_name=\"textual_effect_interpreter\")"
   ]
  },
  {
   "cell_type": "code",
   "execution_count": 15,
   "id": "d667d4a2",
   "metadata": {
    "execution": {
     "iopub.execute_input": "2022-08-12T21:41:13.680699Z",
     "iopub.status.busy": "2022-08-12T21:41:13.679721Z",
     "iopub.status.idle": "2022-08-12T21:41:13.906717Z",
     "shell.execute_reply": "2022-08-12T21:41:13.906094Z"
    }
   },
   "outputs": [
    {
     "data": {
      "image/png": "[encoded data removed]",
      "text/plain": [
       "<Figure size 576x576 with 2 Axes>"
      ]
     },
     "metadata": {
      "needs_background": "light"
     },
     "output_type": "display_data"
    }
   ],
   "source": [
    "interpretation = causal_estimate_ipw.interpret(method_name=\"confounder_distribution_interpreter\", fig_size=(8,8), font_size=12, var_name='W4', var_type='discrete')"
   ]
  },
  {
   "cell_type": "code",
   "execution_count": null,
   "id": "b0ad5ecb",
   "metadata": {},
   "outputs": [],
   "source": []
  }
 ],
 "metadata": {
  "kernelspec": {
   "display_name": "Python 3",
   "language": "python",
   "name": "python3"
  },
  "language_info": {
   "codemirror_mode": {
    "name": "ipython",
    "version": 3
   },
   "file_extension": ".py",
   "mimetype": "text/x-python",
   "name": "python",
   "nbconvert_exporter": "python",
   "pygments_lexer": "ipython3",
   "version": "3.8.10"
  },
  "toc": {
   "base_numbering": 1,
   "nav_menu": {},
   "number_sections": false,
   "sideBar": true,
   "skip_h1_title": true,
   "title_cell": "Table of Contents",
   "title_sidebar": "Contents",
   "toc_cell": false,
   "toc_position": {},
   "toc_section_display": true,
   "toc_window_display": false
  }
 },
 "nbformat": 4,
 "nbformat_minor": 5
}
