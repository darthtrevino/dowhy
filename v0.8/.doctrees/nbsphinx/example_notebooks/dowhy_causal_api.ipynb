{
 "cells": [
  {
   "cell_type": "markdown",
   "metadata": {},
   "source": [
    "# Demo for the DoWhy causal API\n",
    "We show a simple example of adding a causal extension to any dataframe. "
   ]
  },
  {
   "cell_type": "code",
   "execution_count": 1,
   "metadata": {
    "execution": {
     "iopub.execute_input": "2022-08-12T21:40:24.420313Z",
     "iopub.status.busy": "2022-08-12T21:40:24.419723Z",
     "iopub.status.idle": "2022-08-12T21:40:25.469804Z",
     "shell.execute_reply": "2022-08-12T21:40:25.468744Z"
    }
   },
   "outputs": [],
   "source": [
    "import dowhy.datasets\n",
    "import dowhy.api\n",
    "\n",
    "import numpy as np\n",
    "import pandas as pd\n",
    "\n",
    "from statsmodels.api import OLS"
   ]
  },
  {
   "cell_type": "code",
   "execution_count": 2,
   "metadata": {
    "execution": {
     "iopub.execute_input": "2022-08-12T21:40:25.473780Z",
     "iopub.status.busy": "2022-08-12T21:40:25.473176Z",
     "iopub.status.idle": "2022-08-12T21:40:25.514589Z",
     "shell.execute_reply": "2022-08-12T21:40:25.513529Z"
    }
   },
   "outputs": [
    {
     "data": {
      "text/html": [
       "<div>\n",
       "<style scoped>\n",
       "    .dataframe tbody tr th:only-of-type {\n",
       "        vertical-align: middle;\n",
       "    }\n",
       "\n",
       "    .dataframe tbody tr th {\n",
       "        vertical-align: top;\n",
       "    }\n",
       "\n",
       "    .dataframe thead th {\n",
       "        text-align: right;\n",
       "    }\n",
       "</style>\n",
       "<table border=\"1\" class=\"dataframe\">\n",
       "  <thead>\n",
       "    <tr style=\"text-align: right;\">\n",
       "      <th></th>\n",
       "      <th>W0</th>\n",
       "      <th>v0</th>\n",
       "      <th>y</th>\n",
       "    </tr>\n",
       "  </thead>\n",
       "  <tbody>\n",
       "    <tr>\n",
       "      <th>0</th>\n",
       "      <td>0.688348</td>\n",
       "      <td>True</td>\n",
       "      <td>7.193955</td>\n",
       "    </tr>\n",
       "    <tr>\n",
       "      <th>1</th>\n",
       "      <td>-0.797998</td>\n",
       "      <td>False</td>\n",
       "      <td>0.617240</td>\n",
       "    </tr>\n",
       "    <tr>\n",
       "      <th>2</th>\n",
       "      <td>-0.353316</td>\n",
       "      <td>False</td>\n",
       "      <td>0.291418</td>\n",
       "    </tr>\n",
       "    <tr>\n",
       "      <th>3</th>\n",
       "      <td>1.193718</td>\n",
       "      <td>True</td>\n",
       "      <td>6.298116</td>\n",
       "    </tr>\n",
       "    <tr>\n",
       "      <th>4</th>\n",
       "      <td>-0.368082</td>\n",
       "      <td>False</td>\n",
       "      <td>1.261607</td>\n",
       "    </tr>\n",
       "    <tr>\n",
       "      <th>...</th>\n",
       "      <td>...</td>\n",
       "      <td>...</td>\n",
       "      <td>...</td>\n",
       "    </tr>\n",
       "    <tr>\n",
       "      <th>995</th>\n",
       "      <td>-0.831889</td>\n",
       "      <td>False</td>\n",
       "      <td>-0.946847</td>\n",
       "    </tr>\n",
       "    <tr>\n",
       "      <th>996</th>\n",
       "      <td>0.976684</td>\n",
       "      <td>True</td>\n",
       "      <td>7.917534</td>\n",
       "    </tr>\n",
       "    <tr>\n",
       "      <th>997</th>\n",
       "      <td>-0.513582</td>\n",
       "      <td>False</td>\n",
       "      <td>0.289778</td>\n",
       "    </tr>\n",
       "    <tr>\n",
       "      <th>998</th>\n",
       "      <td>1.150319</td>\n",
       "      <td>True</td>\n",
       "      <td>5.587233</td>\n",
       "    </tr>\n",
       "    <tr>\n",
       "      <th>999</th>\n",
       "      <td>0.419046</td>\n",
       "      <td>True</td>\n",
       "      <td>5.487686</td>\n",
       "    </tr>\n",
       "  </tbody>\n",
       "</table>\n",
       "<p>1000 rows × 3 columns</p>\n",
       "</div>"
      ],
      "text/plain": [
       "           W0     v0         y\n",
       "0    0.688348   True  7.193955\n",
       "1   -0.797998  False  0.617240\n",
       "2   -0.353316  False  0.291418\n",
       "3    1.193718   True  6.298116\n",
       "4   -0.368082  False  1.261607\n",
       "..        ...    ...       ...\n",
       "995 -0.831889  False -0.946847\n",
       "996  0.976684   True  7.917534\n",
       "997 -0.513582  False  0.289778\n",
       "998  1.150319   True  5.587233\n",
       "999  0.419046   True  5.487686\n",
       "\n",
       "[1000 rows x 3 columns]"
      ]
     },
     "execution_count": 2,
     "metadata": {},
     "output_type": "execute_result"
    }
   ],
   "source": [
    "data = dowhy.datasets.linear_dataset(beta=5,\n",
    "        num_common_causes=1,\n",
    "        num_instruments = 0,\n",
    "        num_samples=1000,\n",
    "        treatment_is_binary=True)\n",
    "df = data['df']\n",
    "df['y'] = df['y'] + np.random.normal(size=len(df)) # Adding noise to data. Without noise, the variance in Y|X, Z is zero, and mcmc fails.\n",
    "#data['dot_graph'] = 'digraph { v ->y;X0-> v;X0-> y;}'\n",
    "\n",
    "treatment= data[\"treatment_name\"][0]\n",
    "outcome = data[\"outcome_name\"][0]\n",
    "common_cause = data[\"common_causes_names\"][0]\n",
    "df"
   ]
  },
  {
   "cell_type": "code",
   "execution_count": 3,
   "metadata": {
    "execution": {
     "iopub.execute_input": "2022-08-12T21:40:25.517655Z",
     "iopub.status.busy": "2022-08-12T21:40:25.517181Z",
     "iopub.status.idle": "2022-08-12T21:40:26.234107Z",
     "shell.execute_reply": "2022-08-12T21:40:26.233503Z"
    }
   },
   "outputs": [
    {
     "data": {
      "text/plain": [
       "<AxesSubplot:xlabel='v0'>"
      ]
     },
     "execution_count": 3,
     "metadata": {},
     "output_type": "execute_result"
    },
    {
     "data": {
      "image/png": "[encoded data removed]",
      "text/plain": [
       "<Figure size 432x288 with 1 Axes>"
      ]
     },
     "metadata": {
      "needs_background": "light"
     },
     "output_type": "display_data"
    }
   ],
   "source": [
    "# data['df'] is just a regular pandas.DataFrame\n",
    "df.causal.do(x=treatment,\n",
    "                     variable_types={treatment: 'b', outcome: 'c', common_cause: 'c'},\n",
    "                     outcome=outcome,\n",
    "                     common_causes=[common_cause],\n",
    "                     proceed_when_unidentifiable=True).groupby(treatment).mean().plot(y=outcome, kind='bar')"
   ]
  },
  {
   "cell_type": "code",
   "execution_count": 4,
   "metadata": {
    "execution": {
     "iopub.execute_input": "2022-08-12T21:40:26.238373Z",
     "iopub.status.busy": "2022-08-12T21:40:26.236981Z",
     "iopub.status.idle": "2022-08-12T21:40:26.332922Z",
     "shell.execute_reply": "2022-08-12T21:40:26.332419Z"
    }
   },
   "outputs": [
    {
     "data": {
      "text/plain": [
       "<AxesSubplot:xlabel='v0'>"
      ]
     },
     "execution_count": 4,
     "metadata": {},
     "output_type": "execute_result"
    },
    {
     "data": {
      "image/png": "[encoded data removed]",
      "text/plain": [
       "<Figure size 432x288 with 1 Axes>"
      ]
     },
     "metadata": {
      "needs_background": "light"
     },
     "output_type": "display_data"
    }
   ],
   "source": [
    "df.causal.do(x={treatment: 1}, \n",
    "              variable_types={treatment:'b', outcome: 'c', common_cause: 'c'}, \n",
    "              outcome=outcome,\n",
    "              method='weighting', \n",
    "              common_causes=[common_cause],\n",
    "              proceed_when_unidentifiable=True).groupby(treatment).mean().plot(y=outcome, kind='bar')"
   ]
  },
  {
   "cell_type": "code",
   "execution_count": 5,
   "metadata": {
    "execution": {
     "iopub.execute_input": "2022-08-12T21:40:26.336863Z",
     "iopub.status.busy": "2022-08-12T21:40:26.335692Z",
     "iopub.status.idle": "2022-08-12T21:40:26.366001Z",
     "shell.execute_reply": "2022-08-12T21:40:26.365452Z"
    }
   },
   "outputs": [],
   "source": [
    "cdf_1 = df.causal.do(x={treatment: 1}, \n",
    "              variable_types={treatment: 'b', outcome: 'c', common_cause: 'c'}, \n",
    "              outcome=outcome, \n",
    "              dot_graph=data['dot_graph'],\n",
    "              proceed_when_unidentifiable=True)\n",
    "\n",
    "cdf_0 = df.causal.do(x={treatment: 0}, \n",
    "              variable_types={treatment: 'b', outcome: 'c', common_cause: 'c'}, \n",
    "              outcome=outcome, \n",
    "              dot_graph=data['dot_graph'],\n",
    "              proceed_when_unidentifiable=True)\n"
   ]
  },
  {
   "cell_type": "code",
   "execution_count": 6,
   "metadata": {
    "execution": {
     "iopub.execute_input": "2022-08-12T21:40:26.368914Z",
     "iopub.status.busy": "2022-08-12T21:40:26.368600Z",
     "iopub.status.idle": "2022-08-12T21:40:26.380818Z",
     "shell.execute_reply": "2022-08-12T21:40:26.380290Z"
    },
    "scrolled": true
   },
   "outputs": [
    {
     "data": {
      "text/html": [
       "<div>\n",
       "<style scoped>\n",
       "    .dataframe tbody tr th:only-of-type {\n",
       "        vertical-align: middle;\n",
       "    }\n",
       "\n",
       "    .dataframe tbody tr th {\n",
       "        vertical-align: top;\n",
       "    }\n",
       "\n",
       "    .dataframe thead th {\n",
       "        text-align: right;\n",
       "    }\n",
       "</style>\n",
       "<table border=\"1\" class=\"dataframe\">\n",
       "  <thead>\n",
       "    <tr style=\"text-align: right;\">\n",
       "      <th></th>\n",
       "      <th>W0</th>\n",
       "      <th>v0</th>\n",
       "      <th>y</th>\n",
       "      <th>propensity_score</th>\n",
       "      <th>weight</th>\n",
       "    </tr>\n",
       "  </thead>\n",
       "  <tbody>\n",
       "    <tr>\n",
       "      <th>0</th>\n",
       "      <td>-0.377580</td>\n",
       "      <td>False</td>\n",
       "      <td>-1.095144</td>\n",
       "      <td>0.710585</td>\n",
       "      <td>1.407290</td>\n",
       "    </tr>\n",
       "    <tr>\n",
       "      <th>1</th>\n",
       "      <td>-0.229745</td>\n",
       "      <td>False</td>\n",
       "      <td>-1.301415</td>\n",
       "      <td>0.638374</td>\n",
       "      <td>1.566480</td>\n",
       "    </tr>\n",
       "    <tr>\n",
       "      <th>2</th>\n",
       "      <td>-0.015565</td>\n",
       "      <td>False</td>\n",
       "      <td>-0.621863</td>\n",
       "      <td>0.522570</td>\n",
       "      <td>1.913621</td>\n",
       "    </tr>\n",
       "    <tr>\n",
       "      <th>3</th>\n",
       "      <td>-0.065029</td>\n",
       "      <td>False</td>\n",
       "      <td>0.773319</td>\n",
       "      <td>0.550014</td>\n",
       "      <td>1.818136</td>\n",
       "    </tr>\n",
       "    <tr>\n",
       "      <th>4</th>\n",
       "      <td>-0.644089</td>\n",
       "      <td>False</td>\n",
       "      <td>-0.483459</td>\n",
       "      <td>0.816525</td>\n",
       "      <td>1.224702</td>\n",
       "    </tr>\n",
       "    <tr>\n",
       "      <th>...</th>\n",
       "      <td>...</td>\n",
       "      <td>...</td>\n",
       "      <td>...</td>\n",
       "      <td>...</td>\n",
       "      <td>...</td>\n",
       "    </tr>\n",
       "    <tr>\n",
       "      <th>995</th>\n",
       "      <td>-0.417553</td>\n",
       "      <td>False</td>\n",
       "      <td>-0.479161</td>\n",
       "      <td>0.728581</td>\n",
       "      <td>1.372532</td>\n",
       "    </tr>\n",
       "    <tr>\n",
       "      <th>996</th>\n",
       "      <td>-0.028015</td>\n",
       "      <td>False</td>\n",
       "      <td>1.661720</td>\n",
       "      <td>0.529497</td>\n",
       "      <td>1.888586</td>\n",
       "    </tr>\n",
       "    <tr>\n",
       "      <th>997</th>\n",
       "      <td>0.631591</td>\n",
       "      <td>False</td>\n",
       "      <td>2.257412</td>\n",
       "      <td>0.205237</td>\n",
       "      <td>4.872416</td>\n",
       "    </tr>\n",
       "    <tr>\n",
       "      <th>998</th>\n",
       "      <td>-0.506494</td>\n",
       "      <td>False</td>\n",
       "      <td>-0.244950</td>\n",
       "      <td>0.766010</td>\n",
       "      <td>1.305466</td>\n",
       "    </tr>\n",
       "    <tr>\n",
       "      <th>999</th>\n",
       "      <td>1.001613</td>\n",
       "      <td>False</td>\n",
       "      <td>0.349465</td>\n",
       "      <td>0.101594</td>\n",
       "      <td>9.843086</td>\n",
       "    </tr>\n",
       "  </tbody>\n",
       "</table>\n",
       "<p>1000 rows × 5 columns</p>\n",
       "</div>"
      ],
      "text/plain": [
       "           W0     v0         y  propensity_score    weight\n",
       "0   -0.377580  False -1.095144          0.710585  1.407290\n",
       "1   -0.229745  False -1.301415          0.638374  1.566480\n",
       "2   -0.015565  False -0.621863          0.522570  1.913621\n",
       "3   -0.065029  False  0.773319          0.550014  1.818136\n",
       "4   -0.644089  False -0.483459          0.816525  1.224702\n",
       "..        ...    ...       ...               ...       ...\n",
       "995 -0.417553  False -0.479161          0.728581  1.372532\n",
       "996 -0.028015  False  1.661720          0.529497  1.888586\n",
       "997  0.631591  False  2.257412          0.205237  4.872416\n",
       "998 -0.506494  False -0.244950          0.766010  1.305466\n",
       "999  1.001613  False  0.349465          0.101594  9.843086\n",
       "\n",
       "[1000 rows x 5 columns]"
      ]
     },
     "execution_count": 6,
     "metadata": {},
     "output_type": "execute_result"
    }
   ],
   "source": [
    "cdf_0"
   ]
  },
  {
   "cell_type": "code",
   "execution_count": 7,
   "metadata": {
    "execution": {
     "iopub.execute_input": "2022-08-12T21:40:26.383257Z",
     "iopub.status.busy": "2022-08-12T21:40:26.383053Z",
     "iopub.status.idle": "2022-08-12T21:40:26.394087Z",
     "shell.execute_reply": "2022-08-12T21:40:26.393547Z"
    }
   },
   "outputs": [
    {
     "data": {
      "text/html": [
       "<div>\n",
       "<style scoped>\n",
       "    .dataframe tbody tr th:only-of-type {\n",
       "        vertical-align: middle;\n",
       "    }\n",
       "\n",
       "    .dataframe tbody tr th {\n",
       "        vertical-align: top;\n",
       "    }\n",
       "\n",
       "    .dataframe thead th {\n",
       "        text-align: right;\n",
       "    }\n",
       "</style>\n",
       "<table border=\"1\" class=\"dataframe\">\n",
       "  <thead>\n",
       "    <tr style=\"text-align: right;\">\n",
       "      <th></th>\n",
       "      <th>W0</th>\n",
       "      <th>v0</th>\n",
       "      <th>y</th>\n",
       "      <th>propensity_score</th>\n",
       "      <th>weight</th>\n",
       "    </tr>\n",
       "  </thead>\n",
       "  <tbody>\n",
       "    <tr>\n",
       "      <th>0</th>\n",
       "      <td>1.503212</td>\n",
       "      <td>True</td>\n",
       "      <td>6.179304</td>\n",
       "      <td>0.964395</td>\n",
       "      <td>1.036919</td>\n",
       "    </tr>\n",
       "    <tr>\n",
       "      <th>1</th>\n",
       "      <td>1.266922</td>\n",
       "      <td>True</td>\n",
       "      <td>5.936373</td>\n",
       "      <td>0.941128</td>\n",
       "      <td>1.062555</td>\n",
       "    </tr>\n",
       "    <tr>\n",
       "      <th>2</th>\n",
       "      <td>0.956517</td>\n",
       "      <td>True</td>\n",
       "      <td>5.625072</td>\n",
       "      <td>0.888845</td>\n",
       "      <td>1.125056</td>\n",
       "    </tr>\n",
       "    <tr>\n",
       "      <th>3</th>\n",
       "      <td>2.760795</td>\n",
       "      <td>True</td>\n",
       "      <td>6.918581</td>\n",
       "      <td>0.997774</td>\n",
       "      <td>1.002231</td>\n",
       "    </tr>\n",
       "    <tr>\n",
       "      <th>4</th>\n",
       "      <td>1.072839</td>\n",
       "      <td>True</td>\n",
       "      <td>6.172794</td>\n",
       "      <td>0.912023</td>\n",
       "      <td>1.096464</td>\n",
       "    </tr>\n",
       "    <tr>\n",
       "      <th>...</th>\n",
       "      <td>...</td>\n",
       "      <td>...</td>\n",
       "      <td>...</td>\n",
       "      <td>...</td>\n",
       "      <td>...</td>\n",
       "    </tr>\n",
       "    <tr>\n",
       "      <th>995</th>\n",
       "      <td>2.007095</td>\n",
       "      <td>True</td>\n",
       "      <td>6.132486</td>\n",
       "      <td>0.988150</td>\n",
       "      <td>1.011992</td>\n",
       "    </tr>\n",
       "    <tr>\n",
       "      <th>996</th>\n",
       "      <td>0.892980</td>\n",
       "      <td>True</td>\n",
       "      <td>5.291443</td>\n",
       "      <td>0.874045</td>\n",
       "      <td>1.144106</td>\n",
       "    </tr>\n",
       "    <tr>\n",
       "      <th>997</th>\n",
       "      <td>-0.744275</td>\n",
       "      <td>True</td>\n",
       "      <td>6.488553</td>\n",
       "      <td>0.152315</td>\n",
       "      <td>6.565341</td>\n",
       "    </tr>\n",
       "    <tr>\n",
       "      <th>998</th>\n",
       "      <td>1.252529</td>\n",
       "      <td>True</td>\n",
       "      <td>5.538856</td>\n",
       "      <td>0.939323</td>\n",
       "      <td>1.064597</td>\n",
       "    </tr>\n",
       "    <tr>\n",
       "      <th>999</th>\n",
       "      <td>-0.910358</td>\n",
       "      <td>True</td>\n",
       "      <td>4.972788</td>\n",
       "      <td>0.110348</td>\n",
       "      <td>9.062277</td>\n",
       "    </tr>\n",
       "  </tbody>\n",
       "</table>\n",
       "<p>1000 rows × 5 columns</p>\n",
       "</div>"
      ],
      "text/plain": [
       "           W0    v0         y  propensity_score    weight\n",
       "0    1.503212  True  6.179304          0.964395  1.036919\n",
       "1    1.266922  True  5.936373          0.941128  1.062555\n",
       "2    0.956517  True  5.625072          0.888845  1.125056\n",
       "3    2.760795  True  6.918581          0.997774  1.002231\n",
       "4    1.072839  True  6.172794          0.912023  1.096464\n",
       "..        ...   ...       ...               ...       ...\n",
       "995  2.007095  True  6.132486          0.988150  1.011992\n",
       "996  0.892980  True  5.291443          0.874045  1.144106\n",
       "997 -0.744275  True  6.488553          0.152315  6.565341\n",
       "998  1.252529  True  5.538856          0.939323  1.064597\n",
       "999 -0.910358  True  4.972788          0.110348  9.062277\n",
       "\n",
       "[1000 rows x 5 columns]"
      ]
     },
     "execution_count": 7,
     "metadata": {},
     "output_type": "execute_result"
    }
   ],
   "source": [
    "cdf_1"
   ]
  },
  {
   "cell_type": "markdown",
   "metadata": {},
   "source": [
    "## Comparing the estimate to Linear Regression\n",
    "First, estimating the effect using the causal data frame, and the 95% confidence interval."
   ]
  },
  {
   "cell_type": "code",
   "execution_count": 8,
   "metadata": {
    "execution": {
     "iopub.execute_input": "2022-08-12T21:40:26.396591Z",
     "iopub.status.busy": "2022-08-12T21:40:26.396385Z",
     "iopub.status.idle": "2022-08-12T21:40:26.492897Z",
     "shell.execute_reply": "2022-08-12T21:40:26.492245Z"
    }
   },
   "outputs": [
    {
     "data": {
      "image/png": "[encoded data removed]",
      "text/latex": [
       "$\\displaystyle 5.32753161646603$"
      ],
      "text/plain": [
       "5.327531616466032"
      ]
     },
     "execution_count": 8,
     "metadata": {},
     "output_type": "execute_result"
    }
   ],
   "source": [
    "(cdf_1['y'] - cdf_0['y']).mean()"
   ]
  },
  {
   "cell_type": "code",
   "execution_count": 9,
   "metadata": {
    "execution": {
     "iopub.execute_input": "2022-08-12T21:40:26.496110Z",
     "iopub.status.busy": "2022-08-12T21:40:26.495608Z",
     "iopub.status.idle": "2022-08-12T21:40:26.519857Z",
     "shell.execute_reply": "2022-08-12T21:40:26.519278Z"
    }
   },
   "outputs": [
    {
     "data": {
      "image/png": "[encoded data removed]",
      "text/latex": [
       "$\\displaystyle 0.106421235009362$"
      ],
      "text/plain": [
       "0.10642123500936236"
      ]
     },
     "execution_count": 9,
     "metadata": {},
     "output_type": "execute_result"
    }
   ],
   "source": [
    "1.96*(cdf_1['y'] - cdf_0['y']).std() / np.sqrt(len(df))"
   ]
  },
  {
   "cell_type": "markdown",
   "metadata": {},
   "source": [
    "Comparing to the estimate from OLS."
   ]
  },
  {
   "cell_type": "code",
   "execution_count": 10,
   "metadata": {
    "execution": {
     "iopub.execute_input": "2022-08-12T21:40:26.524627Z",
     "iopub.status.busy": "2022-08-12T21:40:26.524079Z",
     "iopub.status.idle": "2022-08-12T21:40:26.538811Z",
     "shell.execute_reply": "2022-08-12T21:40:26.538243Z"
    }
   },
   "outputs": [
    {
     "data": {
      "text/html": [
       "<table class=\"simpletable\">\n",
       "<caption>OLS Regression Results</caption>\n",
       "<tr>\n",
       "  <th>Dep. Variable:</th>            <td>y</td>        <th>  R-squared (uncentered):</th>      <td>   0.950</td>\n",
       "</tr>\n",
       "<tr>\n",
       "  <th>Model:</th>                   <td>OLS</td>       <th>  Adj. R-squared (uncentered):</th> <td>   0.950</td>\n",
       "</tr>\n",
       "<tr>\n",
       "  <th>Method:</th>             <td>Least Squares</td>  <th>  F-statistic:       </th>          <td>   9529.</td>\n",
       "</tr>\n",
       "<tr>\n",
       "  <th>Date:</th>             <td>Fri, 12 Aug 2022</td> <th>  Prob (F-statistic):</th>           <td>  0.00</td> \n",
       "</tr>\n",
       "<tr>\n",
       "  <th>Time:</th>                 <td>21:40:26</td>     <th>  Log-Likelihood:    </th>          <td> -1417.8</td>\n",
       "</tr>\n",
       "<tr>\n",
       "  <th>No. Observations:</th>      <td>  1000</td>      <th>  AIC:               </th>          <td>   2840.</td>\n",
       "</tr>\n",
       "<tr>\n",
       "  <th>Df Residuals:</th>          <td>   998</td>      <th>  BIC:               </th>          <td>   2849.</td>\n",
       "</tr>\n",
       "<tr>\n",
       "  <th>Df Model:</th>              <td>     2</td>      <th>                     </th>              <td> </td>   \n",
       "</tr>\n",
       "<tr>\n",
       "  <th>Covariance Type:</th>      <td>nonrobust</td>    <th>                     </th>              <td> </td>   \n",
       "</tr>\n",
       "</table>\n",
       "<table class=\"simpletable\">\n",
       "<tr>\n",
       "   <td></td>     <th>coef</th>     <th>std err</th>      <th>t</th>      <th>P>|t|</th>  <th>[0.025</th>    <th>0.975]</th>  \n",
       "</tr>\n",
       "<tr>\n",
       "  <th>x1</th> <td>    0.9309</td> <td>    0.037</td> <td>   24.902</td> <td> 0.000</td> <td>    0.858</td> <td>    1.004</td>\n",
       "</tr>\n",
       "<tr>\n",
       "  <th>x2</th> <td>    4.9847</td> <td>    0.051</td> <td>   97.360</td> <td> 0.000</td> <td>    4.884</td> <td>    5.085</td>\n",
       "</tr>\n",
       "</table>\n",
       "<table class=\"simpletable\">\n",
       "<tr>\n",
       "  <th>Omnibus:</th>       <td> 0.568</td> <th>  Durbin-Watson:     </th> <td>   1.921</td>\n",
       "</tr>\n",
       "<tr>\n",
       "  <th>Prob(Omnibus):</th> <td> 0.753</td> <th>  Jarque-Bera (JB):  </th> <td>   0.625</td>\n",
       "</tr>\n",
       "<tr>\n",
       "  <th>Skew:</th>          <td> 0.054</td> <th>  Prob(JB):          </th> <td>   0.732</td>\n",
       "</tr>\n",
       "<tr>\n",
       "  <th>Kurtosis:</th>      <td> 2.944</td> <th>  Cond. No.          </th> <td>    2.07</td>\n",
       "</tr>\n",
       "</table><br/><br/>Notes:<br/>[1] R² is computed without centering (uncentered) since the model does not contain a constant.<br/>[2] Standard Errors assume that the covariance matrix of the errors is correctly specified."
      ],
      "text/plain": [
       "<class 'statsmodels.iolib.summary.Summary'>\n",
       "\"\"\"\n",
       "                                 OLS Regression Results                                \n",
       "=======================================================================================\n",
       "Dep. Variable:                      y   R-squared (uncentered):                   0.950\n",
       "Model:                            OLS   Adj. R-squared (uncentered):              0.950\n",
       "Method:                 Least Squares   F-statistic:                              9529.\n",
       "Date:                Fri, 12 Aug 2022   Prob (F-statistic):                        0.00\n",
       "Time:                        21:40:26   Log-Likelihood:                         -1417.8\n",
       "No. Observations:                1000   AIC:                                      2840.\n",
       "Df Residuals:                     998   BIC:                                      2849.\n",
       "Df Model:                           2                                                  \n",
       "Covariance Type:            nonrobust                                                  \n",
       "==============================================================================\n",
       "                 coef    std err          t      P>|t|      [0.025      0.975]\n",
       "------------------------------------------------------------------------------\n",
       "x1             0.9309      0.037     24.902      0.000       0.858       1.004\n",
       "x2             4.9847      0.051     97.360      0.000       4.884       5.085\n",
       "==============================================================================\n",
       "Omnibus:                        0.568   Durbin-Watson:                   1.921\n",
       "Prob(Omnibus):                  0.753   Jarque-Bera (JB):                0.625\n",
       "Skew:                           0.054   Prob(JB):                        0.732\n",
       "Kurtosis:                       2.944   Cond. No.                         2.07\n",
       "==============================================================================\n",
       "\n",
       "Notes:\n",
       "[1] R² is computed without centering (uncentered) since the model does not contain a constant.\n",
       "[2] Standard Errors assume that the covariance matrix of the errors is correctly specified.\n",
       "\"\"\""
      ]
     },
     "execution_count": 10,
     "metadata": {},
     "output_type": "execute_result"
    }
   ],
   "source": [
    "model = OLS(np.asarray(df[outcome]), np.asarray(df[[common_cause, treatment]], dtype=np.float64))\n",
    "result = model.fit()\n",
    "result.summary()"
   ]
  }
 ],
 "metadata": {
  "kernelspec": {
   "display_name": "Python 3",
   "language": "python",
   "name": "python3"
  },
  "language_info": {
   "codemirror_mode": {
    "name": "ipython",
    "version": 3
   },
   "file_extension": ".py",
   "mimetype": "text/x-python",
   "name": "python",
   "nbconvert_exporter": "python",
   "pygments_lexer": "ipython3",
   "version": "3.8.10"
  },
  "toc": {
   "base_numbering": 1,
   "nav_menu": {},
   "number_sections": false,
   "sideBar": true,
   "skip_h1_title": true,
   "title_cell": "Table of Contents",
   "title_sidebar": "Contents",
   "toc_cell": false,
   "toc_position": {},
   "toc_section_display": true,
   "toc_window_display": false
  }
 },
 "nbformat": 4,
 "nbformat_minor": 4
}
