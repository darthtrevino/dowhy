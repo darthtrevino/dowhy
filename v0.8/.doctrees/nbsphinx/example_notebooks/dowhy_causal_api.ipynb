{
 "cells": [
  {
   "cell_type": "markdown",
   "metadata": {},
   "source": [
    "# Demo for the DoWhy causal API\n",
    "We show a simple example of adding a causal extension to any dataframe. "
   ]
  },
  {
   "cell_type": "code",
   "execution_count": 1,
   "metadata": {
    "execution": {
     "iopub.execute_input": "2022-09-01T16:56:15.656443Z",
     "iopub.status.busy": "2022-09-01T16:56:15.656012Z",
     "iopub.status.idle": "2022-09-01T16:56:16.747591Z",
     "shell.execute_reply": "2022-09-01T16:56:16.746973Z"
    }
   },
   "outputs": [],
   "source": [
    "import dowhy.datasets\n",
    "import dowhy.api\n",
    "\n",
    "import numpy as np\n",
    "import pandas as pd\n",
    "\n",
    "from statsmodels.api import OLS"
   ]
  },
  {
   "cell_type": "code",
   "execution_count": 2,
   "metadata": {
    "execution": {
     "iopub.execute_input": "2022-09-01T16:56:16.751049Z",
     "iopub.status.busy": "2022-09-01T16:56:16.750488Z",
     "iopub.status.idle": "2022-09-01T16:56:16.793211Z",
     "shell.execute_reply": "2022-09-01T16:56:16.792582Z"
    }
   },
   "outputs": [
    {
     "data": {
      "text/html": [
       "<div>\n",
       "<style scoped>\n",
       "    .dataframe tbody tr th:only-of-type {\n",
       "        vertical-align: middle;\n",
       "    }\n",
       "\n",
       "    .dataframe tbody tr th {\n",
       "        vertical-align: top;\n",
       "    }\n",
       "\n",
       "    .dataframe thead th {\n",
       "        text-align: right;\n",
       "    }\n",
       "</style>\n",
       "<table border=\"1\" class=\"dataframe\">\n",
       "  <thead>\n",
       "    <tr style=\"text-align: right;\">\n",
       "      <th></th>\n",
       "      <th>W0</th>\n",
       "      <th>v0</th>\n",
       "      <th>y</th>\n",
       "    </tr>\n",
       "  </thead>\n",
       "  <tbody>\n",
       "    <tr>\n",
       "      <th>0</th>\n",
       "      <td>-0.531865</td>\n",
       "      <td>True</td>\n",
       "      <td>4.191465</td>\n",
       "    </tr>\n",
       "    <tr>\n",
       "      <th>1</th>\n",
       "      <td>-1.106618</td>\n",
       "      <td>False</td>\n",
       "      <td>-1.145425</td>\n",
       "    </tr>\n",
       "    <tr>\n",
       "      <th>2</th>\n",
       "      <td>-1.849962</td>\n",
       "      <td>False</td>\n",
       "      <td>-3.126156</td>\n",
       "    </tr>\n",
       "    <tr>\n",
       "      <th>3</th>\n",
       "      <td>0.472878</td>\n",
       "      <td>True</td>\n",
       "      <td>5.347417</td>\n",
       "    </tr>\n",
       "    <tr>\n",
       "      <th>4</th>\n",
       "      <td>-0.008585</td>\n",
       "      <td>True</td>\n",
       "      <td>6.738515</td>\n",
       "    </tr>\n",
       "    <tr>\n",
       "      <th>...</th>\n",
       "      <td>...</td>\n",
       "      <td>...</td>\n",
       "      <td>...</td>\n",
       "    </tr>\n",
       "    <tr>\n",
       "      <th>995</th>\n",
       "      <td>-0.333174</td>\n",
       "      <td>False</td>\n",
       "      <td>-0.746872</td>\n",
       "    </tr>\n",
       "    <tr>\n",
       "      <th>996</th>\n",
       "      <td>-0.093443</td>\n",
       "      <td>False</td>\n",
       "      <td>0.136523</td>\n",
       "    </tr>\n",
       "    <tr>\n",
       "      <th>997</th>\n",
       "      <td>-2.085294</td>\n",
       "      <td>False</td>\n",
       "      <td>-2.990689</td>\n",
       "    </tr>\n",
       "    <tr>\n",
       "      <th>998</th>\n",
       "      <td>0.456578</td>\n",
       "      <td>False</td>\n",
       "      <td>0.765652</td>\n",
       "    </tr>\n",
       "    <tr>\n",
       "      <th>999</th>\n",
       "      <td>-0.269663</td>\n",
       "      <td>True</td>\n",
       "      <td>3.529325</td>\n",
       "    </tr>\n",
       "  </tbody>\n",
       "</table>\n",
       "<p>1000 rows × 3 columns</p>\n",
       "</div>"
      ],
      "text/plain": [
       "           W0     v0         y\n",
       "0   -0.531865   True  4.191465\n",
       "1   -1.106618  False -1.145425\n",
       "2   -1.849962  False -3.126156\n",
       "3    0.472878   True  5.347417\n",
       "4   -0.008585   True  6.738515\n",
       "..        ...    ...       ...\n",
       "995 -0.333174  False -0.746872\n",
       "996 -0.093443  False  0.136523\n",
       "997 -2.085294  False -2.990689\n",
       "998  0.456578  False  0.765652\n",
       "999 -0.269663   True  3.529325\n",
       "\n",
       "[1000 rows x 3 columns]"
      ]
     },
     "execution_count": 2,
     "metadata": {},
     "output_type": "execute_result"
    }
   ],
   "source": [
    "data = dowhy.datasets.linear_dataset(beta=5,\n",
    "        num_common_causes=1,\n",
    "        num_instruments = 0,\n",
    "        num_samples=1000,\n",
    "        treatment_is_binary=True)\n",
    "df = data['df']\n",
    "df['y'] = df['y'] + np.random.normal(size=len(df)) # Adding noise to data. Without noise, the variance in Y|X, Z is zero, and mcmc fails.\n",
    "#data['dot_graph'] = 'digraph { v ->y;X0-> v;X0-> y;}'\n",
    "\n",
    "treatment= data[\"treatment_name\"][0]\n",
    "outcome = data[\"outcome_name\"][0]\n",
    "common_cause = data[\"common_causes_names\"][0]\n",
    "df"
   ]
  },
  {
   "cell_type": "code",
   "execution_count": 3,
   "metadata": {
    "execution": {
     "iopub.execute_input": "2022-09-01T16:56:16.796007Z",
     "iopub.status.busy": "2022-09-01T16:56:16.795770Z",
     "iopub.status.idle": "2022-09-01T16:56:17.536591Z",
     "shell.execute_reply": "2022-09-01T16:56:17.535984Z"
    }
   },
   "outputs": [
    {
     "data": {
      "text/plain": [
       "<AxesSubplot:xlabel='v0'>"
      ]
     },
     "execution_count": 3,
     "metadata": {},
     "output_type": "execute_result"
    },
    {
     "data": {
      "image/png": "[encoded data removed]",
      "text/plain": [
       "<Figure size 640x480 with 1 Axes>"
      ]
     },
     "metadata": {},
     "output_type": "display_data"
    }
   ],
   "source": [
    "# data['df'] is just a regular pandas.DataFrame\n",
    "df.causal.do(x=treatment,\n",
    "                     variable_types={treatment: 'b', outcome: 'c', common_cause: 'c'},\n",
    "                     outcome=outcome,\n",
    "                     common_causes=[common_cause],\n",
    "                     proceed_when_unidentifiable=True).groupby(treatment).mean().plot(y=outcome, kind='bar')"
   ]
  },
  {
   "cell_type": "code",
   "execution_count": 4,
   "metadata": {
    "execution": {
     "iopub.execute_input": "2022-09-01T16:56:17.539554Z",
     "iopub.status.busy": "2022-09-01T16:56:17.539206Z",
     "iopub.status.idle": "2022-09-01T16:56:17.637244Z",
     "shell.execute_reply": "2022-09-01T16:56:17.636726Z"
    }
   },
   "outputs": [
    {
     "data": {
      "text/plain": [
       "<AxesSubplot:xlabel='v0'>"
      ]
     },
     "execution_count": 4,
     "metadata": {},
     "output_type": "execute_result"
    },
    {
     "data": {
      "image/png": "[encoded data removed]",
      "text/plain": [
       "<Figure size 640x480 with 1 Axes>"
      ]
     },
     "metadata": {},
     "output_type": "display_data"
    }
   ],
   "source": [
    "df.causal.do(x={treatment: 1}, \n",
    "              variable_types={treatment:'b', outcome: 'c', common_cause: 'c'}, \n",
    "              outcome=outcome,\n",
    "              method='weighting', \n",
    "              common_causes=[common_cause],\n",
    "              proceed_when_unidentifiable=True).groupby(treatment).mean().plot(y=outcome, kind='bar')"
   ]
  },
  {
   "cell_type": "code",
   "execution_count": 5,
   "metadata": {
    "execution": {
     "iopub.execute_input": "2022-09-01T16:56:17.640221Z",
     "iopub.status.busy": "2022-09-01T16:56:17.639790Z",
     "iopub.status.idle": "2022-09-01T16:56:17.669501Z",
     "shell.execute_reply": "2022-09-01T16:56:17.668883Z"
    }
   },
   "outputs": [],
   "source": [
    "cdf_1 = df.causal.do(x={treatment: 1}, \n",
    "              variable_types={treatment: 'b', outcome: 'c', common_cause: 'c'}, \n",
    "              outcome=outcome, \n",
    "              dot_graph=data['dot_graph'],\n",
    "              proceed_when_unidentifiable=True)\n",
    "\n",
    "cdf_0 = df.causal.do(x={treatment: 0}, \n",
    "              variable_types={treatment: 'b', outcome: 'c', common_cause: 'c'}, \n",
    "              outcome=outcome, \n",
    "              dot_graph=data['dot_graph'],\n",
    "              proceed_when_unidentifiable=True)\n"
   ]
  },
  {
   "cell_type": "code",
   "execution_count": 6,
   "metadata": {
    "execution": {
     "iopub.execute_input": "2022-09-01T16:56:17.672351Z",
     "iopub.status.busy": "2022-09-01T16:56:17.671964Z",
     "iopub.status.idle": "2022-09-01T16:56:17.683592Z",
     "shell.execute_reply": "2022-09-01T16:56:17.683044Z"
    },
    "scrolled": true
   },
   "outputs": [
    {
     "data": {
      "text/html": [
       "<div>\n",
       "<style scoped>\n",
       "    .dataframe tbody tr th:only-of-type {\n",
       "        vertical-align: middle;\n",
       "    }\n",
       "\n",
       "    .dataframe tbody tr th {\n",
       "        vertical-align: top;\n",
       "    }\n",
       "\n",
       "    .dataframe thead th {\n",
       "        text-align: right;\n",
       "    }\n",
       "</style>\n",
       "<table border=\"1\" class=\"dataframe\">\n",
       "  <thead>\n",
       "    <tr style=\"text-align: right;\">\n",
       "      <th></th>\n",
       "      <th>W0</th>\n",
       "      <th>v0</th>\n",
       "      <th>y</th>\n",
       "      <th>propensity_score</th>\n",
       "      <th>weight</th>\n",
       "    </tr>\n",
       "  </thead>\n",
       "  <tbody>\n",
       "    <tr>\n",
       "      <th>0</th>\n",
       "      <td>0.494714</td>\n",
       "      <td>False</td>\n",
       "      <td>1.355634</td>\n",
       "      <td>0.387110</td>\n",
       "      <td>2.583244</td>\n",
       "    </tr>\n",
       "    <tr>\n",
       "      <th>1</th>\n",
       "      <td>-0.765517</td>\n",
       "      <td>False</td>\n",
       "      <td>-1.274911</td>\n",
       "      <td>0.616625</td>\n",
       "      <td>1.621732</td>\n",
       "    </tr>\n",
       "    <tr>\n",
       "      <th>2</th>\n",
       "      <td>0.603402</td>\n",
       "      <td>False</td>\n",
       "      <td>-1.436375</td>\n",
       "      <td>0.368167</td>\n",
       "      <td>2.716161</td>\n",
       "    </tr>\n",
       "    <tr>\n",
       "      <th>3</th>\n",
       "      <td>-1.295829</td>\n",
       "      <td>False</td>\n",
       "      <td>-2.238021</td>\n",
       "      <td>0.704450</td>\n",
       "      <td>1.419546</td>\n",
       "    </tr>\n",
       "    <tr>\n",
       "      <th>4</th>\n",
       "      <td>-1.479032</td>\n",
       "      <td>False</td>\n",
       "      <td>-1.493501</td>\n",
       "      <td>0.731935</td>\n",
       "      <td>1.366241</td>\n",
       "    </tr>\n",
       "    <tr>\n",
       "      <th>...</th>\n",
       "      <td>...</td>\n",
       "      <td>...</td>\n",
       "      <td>...</td>\n",
       "      <td>...</td>\n",
       "      <td>...</td>\n",
       "    </tr>\n",
       "    <tr>\n",
       "      <th>995</th>\n",
       "      <td>-0.815855</td>\n",
       "      <td>False</td>\n",
       "      <td>-1.275508</td>\n",
       "      <td>0.625412</td>\n",
       "      <td>1.598947</td>\n",
       "    </tr>\n",
       "    <tr>\n",
       "      <th>996</th>\n",
       "      <td>-0.968026</td>\n",
       "      <td>False</td>\n",
       "      <td>-1.810018</td>\n",
       "      <td>0.651456</td>\n",
       "      <td>1.535022</td>\n",
       "    </tr>\n",
       "    <tr>\n",
       "      <th>997</th>\n",
       "      <td>-1.023059</td>\n",
       "      <td>False</td>\n",
       "      <td>-1.813410</td>\n",
       "      <td>0.660667</td>\n",
       "      <td>1.513623</td>\n",
       "    </tr>\n",
       "    <tr>\n",
       "      <th>998</th>\n",
       "      <td>0.236901</td>\n",
       "      <td>False</td>\n",
       "      <td>0.168007</td>\n",
       "      <td>0.433336</td>\n",
       "      <td>2.307680</td>\n",
       "    </tr>\n",
       "    <tr>\n",
       "      <th>999</th>\n",
       "      <td>0.197121</td>\n",
       "      <td>False</td>\n",
       "      <td>0.977737</td>\n",
       "      <td>0.440595</td>\n",
       "      <td>2.269660</td>\n",
       "    </tr>\n",
       "  </tbody>\n",
       "</table>\n",
       "<p>1000 rows × 5 columns</p>\n",
       "</div>"
      ],
      "text/plain": [
       "           W0     v0         y  propensity_score    weight\n",
       "0    0.494714  False  1.355634          0.387110  2.583244\n",
       "1   -0.765517  False -1.274911          0.616625  1.621732\n",
       "2    0.603402  False -1.436375          0.368167  2.716161\n",
       "3   -1.295829  False -2.238021          0.704450  1.419546\n",
       "4   -1.479032  False -1.493501          0.731935  1.366241\n",
       "..        ...    ...       ...               ...       ...\n",
       "995 -0.815855  False -1.275508          0.625412  1.598947\n",
       "996 -0.968026  False -1.810018          0.651456  1.535022\n",
       "997 -1.023059  False -1.813410          0.660667  1.513623\n",
       "998  0.236901  False  0.168007          0.433336  2.307680\n",
       "999  0.197121  False  0.977737          0.440595  2.269660\n",
       "\n",
       "[1000 rows x 5 columns]"
      ]
     },
     "execution_count": 6,
     "metadata": {},
     "output_type": "execute_result"
    }
   ],
   "source": [
    "cdf_0"
   ]
  },
  {
   "cell_type": "code",
   "execution_count": 7,
   "metadata": {
    "execution": {
     "iopub.execute_input": "2022-09-01T16:56:17.686362Z",
     "iopub.status.busy": "2022-09-01T16:56:17.686145Z",
     "iopub.status.idle": "2022-09-01T16:56:17.696613Z",
     "shell.execute_reply": "2022-09-01T16:56:17.696015Z"
    }
   },
   "outputs": [
    {
     "data": {
      "text/html": [
       "<div>\n",
       "<style scoped>\n",
       "    .dataframe tbody tr th:only-of-type {\n",
       "        vertical-align: middle;\n",
       "    }\n",
       "\n",
       "    .dataframe tbody tr th {\n",
       "        vertical-align: top;\n",
       "    }\n",
       "\n",
       "    .dataframe thead th {\n",
       "        text-align: right;\n",
       "    }\n",
       "</style>\n",
       "<table border=\"1\" class=\"dataframe\">\n",
       "  <thead>\n",
       "    <tr style=\"text-align: right;\">\n",
       "      <th></th>\n",
       "      <th>W0</th>\n",
       "      <th>v0</th>\n",
       "      <th>y</th>\n",
       "      <th>propensity_score</th>\n",
       "      <th>weight</th>\n",
       "    </tr>\n",
       "  </thead>\n",
       "  <tbody>\n",
       "    <tr>\n",
       "      <th>0</th>\n",
       "      <td>-1.326729</td>\n",
       "      <td>True</td>\n",
       "      <td>3.431142</td>\n",
       "      <td>0.290800</td>\n",
       "      <td>3.438785</td>\n",
       "    </tr>\n",
       "    <tr>\n",
       "      <th>1</th>\n",
       "      <td>-1.021954</td>\n",
       "      <td>True</td>\n",
       "      <td>4.701100</td>\n",
       "      <td>0.339517</td>\n",
       "      <td>2.945358</td>\n",
       "    </tr>\n",
       "    <tr>\n",
       "      <th>2</th>\n",
       "      <td>0.602324</td>\n",
       "      <td>True</td>\n",
       "      <td>6.343483</td>\n",
       "      <td>0.631647</td>\n",
       "      <td>1.583162</td>\n",
       "    </tr>\n",
       "    <tr>\n",
       "      <th>3</th>\n",
       "      <td>-2.034653</td>\n",
       "      <td>True</td>\n",
       "      <td>4.136265</td>\n",
       "      <td>0.195200</td>\n",
       "      <td>5.122962</td>\n",
       "    </tr>\n",
       "    <tr>\n",
       "      <th>4</th>\n",
       "      <td>0.810188</td>\n",
       "      <td>True</td>\n",
       "      <td>4.889690</td>\n",
       "      <td>0.666737</td>\n",
       "      <td>1.499841</td>\n",
       "    </tr>\n",
       "    <tr>\n",
       "      <th>...</th>\n",
       "      <td>...</td>\n",
       "      <td>...</td>\n",
       "      <td>...</td>\n",
       "      <td>...</td>\n",
       "      <td>...</td>\n",
       "    </tr>\n",
       "    <tr>\n",
       "      <th>995</th>\n",
       "      <td>1.268453</td>\n",
       "      <td>True</td>\n",
       "      <td>7.284094</td>\n",
       "      <td>0.737567</td>\n",
       "      <td>1.355809</td>\n",
       "    </tr>\n",
       "    <tr>\n",
       "      <th>996</th>\n",
       "      <td>-1.673314</td>\n",
       "      <td>True</td>\n",
       "      <td>2.606717</td>\n",
       "      <td>0.240751</td>\n",
       "      <td>4.153662</td>\n",
       "    </tr>\n",
       "    <tr>\n",
       "      <th>997</th>\n",
       "      <td>0.019167</td>\n",
       "      <td>True</td>\n",
       "      <td>4.614147</td>\n",
       "      <td>0.526665</td>\n",
       "      <td>1.898741</td>\n",
       "    </tr>\n",
       "    <tr>\n",
       "      <th>998</th>\n",
       "      <td>-0.720381</td>\n",
       "      <td>True</td>\n",
       "      <td>6.040132</td>\n",
       "      <td>0.391320</td>\n",
       "      <td>2.555454</td>\n",
       "    </tr>\n",
       "    <tr>\n",
       "      <th>999</th>\n",
       "      <td>-0.966384</td>\n",
       "      <td>True</td>\n",
       "      <td>4.405247</td>\n",
       "      <td>0.348820</td>\n",
       "      <td>2.866808</td>\n",
       "    </tr>\n",
       "  </tbody>\n",
       "</table>\n",
       "<p>1000 rows × 5 columns</p>\n",
       "</div>"
      ],
      "text/plain": [
       "           W0    v0         y  propensity_score    weight\n",
       "0   -1.326729  True  3.431142          0.290800  3.438785\n",
       "1   -1.021954  True  4.701100          0.339517  2.945358\n",
       "2    0.602324  True  6.343483          0.631647  1.583162\n",
       "3   -2.034653  True  4.136265          0.195200  5.122962\n",
       "4    0.810188  True  4.889690          0.666737  1.499841\n",
       "..        ...   ...       ...               ...       ...\n",
       "995  1.268453  True  7.284094          0.737567  1.355809\n",
       "996 -1.673314  True  2.606717          0.240751  4.153662\n",
       "997  0.019167  True  4.614147          0.526665  1.898741\n",
       "998 -0.720381  True  6.040132          0.391320  2.555454\n",
       "999 -0.966384  True  4.405247          0.348820  2.866808\n",
       "\n",
       "[1000 rows x 5 columns]"
      ]
     },
     "execution_count": 7,
     "metadata": {},
     "output_type": "execute_result"
    }
   ],
   "source": [
    "cdf_1"
   ]
  },
  {
   "cell_type": "markdown",
   "metadata": {},
   "source": [
    "## Comparing the estimate to Linear Regression\n",
    "First, estimating the effect using the causal data frame, and the 95% confidence interval."
   ]
  },
  {
   "cell_type": "code",
   "execution_count": 8,
   "metadata": {
    "execution": {
     "iopub.execute_input": "2022-09-01T16:56:17.699387Z",
     "iopub.status.busy": "2022-09-01T16:56:17.699176Z",
     "iopub.status.idle": "2022-09-01T16:56:17.795810Z",
     "shell.execute_reply": "2022-09-01T16:56:17.795193Z"
    }
   },
   "outputs": [
    {
     "data": {
      "image/png": "[encoded data removed]",
      "text/latex": [
       "$\\displaystyle 5.04531322558177$"
      ],
      "text/plain": [
       "5.0453132255817685"
      ]
     },
     "execution_count": 8,
     "metadata": {},
     "output_type": "execute_result"
    }
   ],
   "source": [
    "(cdf_1['y'] - cdf_0['y']).mean()"
   ]
  },
  {
   "cell_type": "code",
   "execution_count": 9,
   "metadata": {
    "execution": {
     "iopub.execute_input": "2022-09-01T16:56:17.799030Z",
     "iopub.status.busy": "2022-09-01T16:56:17.798673Z",
     "iopub.status.idle": "2022-09-01T16:56:17.825234Z",
     "shell.execute_reply": "2022-09-01T16:56:17.824596Z"
    }
   },
   "outputs": [
    {
     "data": {
      "image/png": "[encoded data removed]",
      "text/latex": [
       "$\\displaystyle 0.125286662263895$"
      ],
      "text/plain": [
       "0.12528666226389468"
      ]
     },
     "execution_count": 9,
     "metadata": {},
     "output_type": "execute_result"
    }
   ],
   "source": [
    "1.96*(cdf_1['y'] - cdf_0['y']).std() / np.sqrt(len(df))"
   ]
  },
  {
   "cell_type": "markdown",
   "metadata": {},
   "source": [
    "Comparing to the estimate from OLS."
   ]
  },
  {
   "cell_type": "code",
   "execution_count": 10,
   "metadata": {
    "execution": {
     "iopub.execute_input": "2022-09-01T16:56:17.828884Z",
     "iopub.status.busy": "2022-09-01T16:56:17.828397Z",
     "iopub.status.idle": "2022-09-01T16:56:17.844863Z",
     "shell.execute_reply": "2022-09-01T16:56:17.844227Z"
    }
   },
   "outputs": [
    {
     "data": {
      "text/html": [
       "<table class=\"simpletable\">\n",
       "<caption>OLS Regression Results</caption>\n",
       "<tr>\n",
       "  <th>Dep. Variable:</th>            <td>y</td>        <th>  R-squared (uncentered):</th>      <td>   0.922</td>\n",
       "</tr>\n",
       "<tr>\n",
       "  <th>Model:</th>                   <td>OLS</td>       <th>  Adj. R-squared (uncentered):</th> <td>   0.922</td>\n",
       "</tr>\n",
       "<tr>\n",
       "  <th>Method:</th>             <td>Least Squares</td>  <th>  F-statistic:       </th>          <td>   5904.</td>\n",
       "</tr>\n",
       "<tr>\n",
       "  <th>Date:</th>             <td>Thu, 01 Sep 2022</td> <th>  Prob (F-statistic):</th>           <td>  0.00</td> \n",
       "</tr>\n",
       "<tr>\n",
       "  <th>Time:</th>                 <td>16:56:17</td>     <th>  Log-Likelihood:    </th>          <td> -1455.0</td>\n",
       "</tr>\n",
       "<tr>\n",
       "  <th>No. Observations:</th>      <td>  1000</td>      <th>  AIC:               </th>          <td>   2914.</td>\n",
       "</tr>\n",
       "<tr>\n",
       "  <th>Df Residuals:</th>          <td>   998</td>      <th>  BIC:               </th>          <td>   2924.</td>\n",
       "</tr>\n",
       "<tr>\n",
       "  <th>Df Model:</th>              <td>     2</td>      <th>                     </th>              <td> </td>   \n",
       "</tr>\n",
       "<tr>\n",
       "  <th>Covariance Type:</th>      <td>nonrobust</td>    <th>                     </th>              <td> </td>   \n",
       "</tr>\n",
       "</table>\n",
       "<table class=\"simpletable\">\n",
       "<tr>\n",
       "   <td></td>     <th>coef</th>     <th>std err</th>      <th>t</th>      <th>P>|t|</th>  <th>[0.025</th>    <th>0.975]</th>  \n",
       "</tr>\n",
       "<tr>\n",
       "  <th>x1</th> <td>    1.0779</td> <td>    0.031</td> <td>   34.285</td> <td> 0.000</td> <td>    1.016</td> <td>    1.140</td>\n",
       "</tr>\n",
       "<tr>\n",
       "  <th>x2</th> <td>    5.0472</td> <td>    0.049</td> <td>  103.940</td> <td> 0.000</td> <td>    4.952</td> <td>    5.142</td>\n",
       "</tr>\n",
       "</table>\n",
       "<table class=\"simpletable\">\n",
       "<tr>\n",
       "  <th>Omnibus:</th>       <td> 1.244</td> <th>  Durbin-Watson:     </th> <td>   2.029</td>\n",
       "</tr>\n",
       "<tr>\n",
       "  <th>Prob(Omnibus):</th> <td> 0.537</td> <th>  Jarque-Bera (JB):  </th> <td>   1.127</td>\n",
       "</tr>\n",
       "<tr>\n",
       "  <th>Skew:</th>          <td> 0.032</td> <th>  Prob(JB):          </th> <td>   0.569</td>\n",
       "</tr>\n",
       "<tr>\n",
       "  <th>Kurtosis:</th>      <td> 3.152</td> <th>  Cond. No.          </th> <td>    1.55</td>\n",
       "</tr>\n",
       "</table><br/><br/>Notes:<br/>[1] R² is computed without centering (uncentered) since the model does not contain a constant.<br/>[2] Standard Errors assume that the covariance matrix of the errors is correctly specified."
      ],
      "text/plain": [
       "<class 'statsmodels.iolib.summary.Summary'>\n",
       "\"\"\"\n",
       "                                 OLS Regression Results                                \n",
       "=======================================================================================\n",
       "Dep. Variable:                      y   R-squared (uncentered):                   0.922\n",
       "Model:                            OLS   Adj. R-squared (uncentered):              0.922\n",
       "Method:                 Least Squares   F-statistic:                              5904.\n",
       "Date:                Thu, 01 Sep 2022   Prob (F-statistic):                        0.00\n",
       "Time:                        16:56:17   Log-Likelihood:                         -1455.0\n",
       "No. Observations:                1000   AIC:                                      2914.\n",
       "Df Residuals:                     998   BIC:                                      2924.\n",
       "Df Model:                           2                                                  \n",
       "Covariance Type:            nonrobust                                                  \n",
       "==============================================================================\n",
       "                 coef    std err          t      P>|t|      [0.025      0.975]\n",
       "------------------------------------------------------------------------------\n",
       "x1             1.0779      0.031     34.285      0.000       1.016       1.140\n",
       "x2             5.0472      0.049    103.940      0.000       4.952       5.142\n",
       "==============================================================================\n",
       "Omnibus:                        1.244   Durbin-Watson:                   2.029\n",
       "Prob(Omnibus):                  0.537   Jarque-Bera (JB):                1.127\n",
       "Skew:                           0.032   Prob(JB):                        0.569\n",
       "Kurtosis:                       3.152   Cond. No.                         1.55\n",
       "==============================================================================\n",
       "\n",
       "Notes:\n",
       "[1] R² is computed without centering (uncentered) since the model does not contain a constant.\n",
       "[2] Standard Errors assume that the covariance matrix of the errors is correctly specified.\n",
       "\"\"\""
      ]
     },
     "execution_count": 10,
     "metadata": {},
     "output_type": "execute_result"
    }
   ],
   "source": [
    "model = OLS(np.asarray(df[outcome]), np.asarray(df[[common_cause, treatment]], dtype=np.float64))\n",
    "result = model.fit()\n",
    "result.summary()"
   ]
  }
 ],
 "metadata": {
  "kernelspec": {
   "display_name": "Python 3",
   "language": "python",
   "name": "python3"
  },
  "language_info": {
   "codemirror_mode": {
    "name": "ipython",
    "version": 3
   },
   "file_extension": ".py",
   "mimetype": "text/x-python",
   "name": "python",
   "nbconvert_exporter": "python",
   "pygments_lexer": "ipython3",
   "version": "3.8.10"
  },
  "toc": {
   "base_numbering": 1,
   "nav_menu": {},
   "number_sections": false,
   "sideBar": true,
   "skip_h1_title": true,
   "title_cell": "Table of Contents",
   "title_sidebar": "Contents",
   "toc_cell": false,
   "toc_position": {},
   "toc_section_display": true,
   "toc_window_display": false
  }
 },
 "nbformat": 4,
 "nbformat_minor": 4
}
