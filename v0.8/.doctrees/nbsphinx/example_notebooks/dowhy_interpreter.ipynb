{
 "cells": [
  {
   "cell_type": "markdown",
   "id": "f92861d6",
   "metadata": {},
   "source": [
    "# DoWhy: Interpreters for Causal Estimators\n",
    "\n",
    "This is a quick introduction to the use of interpreters in the DoWhy causal inference library.\n",
    "We will load in a sample dataset, use different methods for estimating the causal effect of a (pre-specified)treatment variable on a (pre-specified) outcome variable and demonstrate how to interpret the obtained results.\n",
    "\n",
    "First, let us add the required path for Python to find the DoWhy code and load all required packages"
   ]
  },
  {
   "cell_type": "code",
   "execution_count": 1,
   "id": "1f8a624b",
   "metadata": {
    "execution": {
     "iopub.execute_input": "2022-08-12T19:56:09.494837Z",
     "iopub.status.busy": "2022-08-12T19:56:09.494463Z",
     "iopub.status.idle": "2022-08-12T19:56:09.510316Z",
     "shell.execute_reply": "2022-08-12T19:56:09.509782Z"
    }
   },
   "outputs": [],
   "source": [
    "%load_ext autoreload\n",
    "%autoreload 2"
   ]
  },
  {
   "cell_type": "code",
   "execution_count": 2,
   "id": "1a0f531f",
   "metadata": {
    "execution": {
     "iopub.execute_input": "2022-08-12T19:56:09.513039Z",
     "iopub.status.busy": "2022-08-12T19:56:09.512837Z",
     "iopub.status.idle": "2022-08-12T19:56:10.436782Z",
     "shell.execute_reply": "2022-08-12T19:56:10.435853Z"
    }
   },
   "outputs": [],
   "source": [
    "import numpy as np\n",
    "import pandas as pd\n",
    "import logging\n",
    "\n",
    "import dowhy\n",
    "from dowhy import CausalModel\n",
    "import dowhy.datasets "
   ]
  },
  {
   "cell_type": "markdown",
   "id": "413eb06c",
   "metadata": {},
   "source": [
    "Now, let us load a dataset. For simplicity, we simulate a dataset with linear relationships between common causes and treatment, and common causes and outcome.\n",
    "\n",
    "Beta is the true causal effect."
   ]
  },
  {
   "cell_type": "code",
   "execution_count": 3,
   "id": "08d6ef93",
   "metadata": {
    "execution": {
     "iopub.execute_input": "2022-08-12T19:56:10.440621Z",
     "iopub.status.busy": "2022-08-12T19:56:10.440168Z",
     "iopub.status.idle": "2022-08-12T19:56:10.711224Z",
     "shell.execute_reply": "2022-08-12T19:56:10.710639Z"
    }
   },
   "outputs": [
    {
     "name": "stdout",
     "output_type": "stream",
     "text": [
      "8584\n"
     ]
    },
    {
     "data": {
      "text/html": [
       "<div>\n",
       "<style scoped>\n",
       "    .dataframe tbody tr th:only-of-type {\n",
       "        vertical-align: middle;\n",
       "    }\n",
       "\n",
       "    .dataframe tbody tr th {\n",
       "        vertical-align: top;\n",
       "    }\n",
       "\n",
       "    .dataframe thead th {\n",
       "        text-align: right;\n",
       "    }\n",
       "</style>\n",
       "<table border=\"1\" class=\"dataframe\">\n",
       "  <thead>\n",
       "    <tr style=\"text-align: right;\">\n",
       "      <th></th>\n",
       "      <th>Z0</th>\n",
       "      <th>Z1</th>\n",
       "      <th>W0</th>\n",
       "      <th>W1</th>\n",
       "      <th>W2</th>\n",
       "      <th>W3</th>\n",
       "      <th>W4</th>\n",
       "      <th>v0</th>\n",
       "      <th>y</th>\n",
       "    </tr>\n",
       "  </thead>\n",
       "  <tbody>\n",
       "    <tr>\n",
       "      <th>0</th>\n",
       "      <td>1.0</td>\n",
       "      <td>0.837306</td>\n",
       "      <td>-1.023906</td>\n",
       "      <td>2.077274</td>\n",
       "      <td>-0.737261</td>\n",
       "      <td>0.401885</td>\n",
       "      <td>0</td>\n",
       "      <td>True</td>\n",
       "      <td>1.249534</td>\n",
       "    </tr>\n",
       "    <tr>\n",
       "      <th>1</th>\n",
       "      <td>0.0</td>\n",
       "      <td>0.369158</td>\n",
       "      <td>-1.390137</td>\n",
       "      <td>0.748051</td>\n",
       "      <td>-0.029027</td>\n",
       "      <td>0.851313</td>\n",
       "      <td>3</td>\n",
       "      <td>True</td>\n",
       "      <td>1.928302</td>\n",
       "    </tr>\n",
       "    <tr>\n",
       "      <th>2</th>\n",
       "      <td>1.0</td>\n",
       "      <td>0.519445</td>\n",
       "      <td>-0.689940</td>\n",
       "      <td>-0.159584</td>\n",
       "      <td>1.396469</td>\n",
       "      <td>0.216081</td>\n",
       "      <td>1</td>\n",
       "      <td>True</td>\n",
       "      <td>2.130887</td>\n",
       "    </tr>\n",
       "    <tr>\n",
       "      <th>3</th>\n",
       "      <td>0.0</td>\n",
       "      <td>0.218438</td>\n",
       "      <td>-0.869715</td>\n",
       "      <td>-0.856462</td>\n",
       "      <td>-0.607472</td>\n",
       "      <td>1.972014</td>\n",
       "      <td>1</td>\n",
       "      <td>True</td>\n",
       "      <td>1.028004</td>\n",
       "    </tr>\n",
       "    <tr>\n",
       "      <th>4</th>\n",
       "      <td>0.0</td>\n",
       "      <td>0.110568</td>\n",
       "      <td>-0.379654</td>\n",
       "      <td>0.116386</td>\n",
       "      <td>-1.362954</td>\n",
       "      <td>0.471676</td>\n",
       "      <td>1</td>\n",
       "      <td>True</td>\n",
       "      <td>0.152552</td>\n",
       "    </tr>\n",
       "    <tr>\n",
       "      <th>...</th>\n",
       "      <td>...</td>\n",
       "      <td>...</td>\n",
       "      <td>...</td>\n",
       "      <td>...</td>\n",
       "      <td>...</td>\n",
       "      <td>...</td>\n",
       "      <td>...</td>\n",
       "      <td>...</td>\n",
       "      <td>...</td>\n",
       "    </tr>\n",
       "    <tr>\n",
       "      <th>9995</th>\n",
       "      <td>1.0</td>\n",
       "      <td>0.469283</td>\n",
       "      <td>0.199337</td>\n",
       "      <td>2.338317</td>\n",
       "      <td>-1.291220</td>\n",
       "      <td>1.106754</td>\n",
       "      <td>1</td>\n",
       "      <td>True</td>\n",
       "      <td>2.776735</td>\n",
       "    </tr>\n",
       "    <tr>\n",
       "      <th>9996</th>\n",
       "      <td>1.0</td>\n",
       "      <td>0.870475</td>\n",
       "      <td>-0.087981</td>\n",
       "      <td>0.616712</td>\n",
       "      <td>1.203511</td>\n",
       "      <td>-0.318385</td>\n",
       "      <td>3</td>\n",
       "      <td>True</td>\n",
       "      <td>3.069152</td>\n",
       "    </tr>\n",
       "    <tr>\n",
       "      <th>9997</th>\n",
       "      <td>1.0</td>\n",
       "      <td>0.269432</td>\n",
       "      <td>0.302460</td>\n",
       "      <td>1.362852</td>\n",
       "      <td>1.313164</td>\n",
       "      <td>1.327629</td>\n",
       "      <td>1</td>\n",
       "      <td>True</td>\n",
       "      <td>4.859143</td>\n",
       "    </tr>\n",
       "    <tr>\n",
       "      <th>9998</th>\n",
       "      <td>0.0</td>\n",
       "      <td>0.534479</td>\n",
       "      <td>-0.952339</td>\n",
       "      <td>-0.022918</td>\n",
       "      <td>-1.155139</td>\n",
       "      <td>0.239652</td>\n",
       "      <td>3</td>\n",
       "      <td>True</td>\n",
       "      <td>0.122125</td>\n",
       "    </tr>\n",
       "    <tr>\n",
       "      <th>9999</th>\n",
       "      <td>0.0</td>\n",
       "      <td>0.496447</td>\n",
       "      <td>-0.222589</td>\n",
       "      <td>1.090969</td>\n",
       "      <td>-0.151011</td>\n",
       "      <td>0.900924</td>\n",
       "      <td>1</td>\n",
       "      <td>True</td>\n",
       "      <td>2.463103</td>\n",
       "    </tr>\n",
       "  </tbody>\n",
       "</table>\n",
       "<p>10000 rows × 9 columns</p>\n",
       "</div>"
      ],
      "text/plain": [
       "       Z0        Z1        W0        W1        W2        W3 W4    v0         y\n",
       "0     1.0  0.837306 -1.023906  2.077274 -0.737261  0.401885  0  True  1.249534\n",
       "1     0.0  0.369158 -1.390137  0.748051 -0.029027  0.851313  3  True  1.928302\n",
       "2     1.0  0.519445 -0.689940 -0.159584  1.396469  0.216081  1  True  2.130887\n",
       "3     0.0  0.218438 -0.869715 -0.856462 -0.607472  1.972014  1  True  1.028004\n",
       "4     0.0  0.110568 -0.379654  0.116386 -1.362954  0.471676  1  True  0.152552\n",
       "...   ...       ...       ...       ...       ...       ... ..   ...       ...\n",
       "9995  1.0  0.469283  0.199337  2.338317 -1.291220  1.106754  1  True  2.776735\n",
       "9996  1.0  0.870475 -0.087981  0.616712  1.203511 -0.318385  3  True  3.069152\n",
       "9997  1.0  0.269432  0.302460  1.362852  1.313164  1.327629  1  True  4.859143\n",
       "9998  0.0  0.534479 -0.952339 -0.022918 -1.155139  0.239652  3  True  0.122125\n",
       "9999  0.0  0.496447 -0.222589  1.090969 -0.151011  0.900924  1  True  2.463103\n",
       "\n",
       "[10000 rows x 9 columns]"
      ]
     },
     "execution_count": 3,
     "metadata": {},
     "output_type": "execute_result"
    }
   ],
   "source": [
    "data = dowhy.datasets.linear_dataset(beta=1,\n",
    "        num_common_causes=5, \n",
    "        num_instruments = 2,\n",
    "        num_treatments=1,\n",
    "        num_discrete_common_causes=1,\n",
    "        num_samples=10000,\n",
    "        treatment_is_binary=True,\n",
    "        outcome_is_binary=False)\n",
    "df = data[\"df\"]\n",
    "print(df[df.v0==True].shape[0])\n",
    "df"
   ]
  },
  {
   "cell_type": "markdown",
   "id": "ca316305",
   "metadata": {},
   "source": [
    "Note that we are using a pandas dataframe to load the data."
   ]
  },
  {
   "cell_type": "markdown",
   "id": "efacfd1e",
   "metadata": {},
   "source": [
    "## Identifying the causal estimand"
   ]
  },
  {
   "cell_type": "markdown",
   "id": "df8be55f",
   "metadata": {},
   "source": [
    "We now input a causal graph in the GML graph format."
   ]
  },
  {
   "cell_type": "code",
   "execution_count": 4,
   "id": "ee7eebc7",
   "metadata": {
    "execution": {
     "iopub.execute_input": "2022-08-12T19:56:10.714289Z",
     "iopub.status.busy": "2022-08-12T19:56:10.714066Z",
     "iopub.status.idle": "2022-08-12T19:56:10.737005Z",
     "shell.execute_reply": "2022-08-12T19:56:10.736452Z"
    }
   },
   "outputs": [],
   "source": [
    "# With graph\n",
    "model=CausalModel(\n",
    "        data = df,\n",
    "        treatment=data[\"treatment_name\"],\n",
    "        outcome=data[\"outcome_name\"],\n",
    "        graph=data[\"gml_graph\"],\n",
    "        instruments=data[\"instrument_names\"]\n",
    "        )"
   ]
  },
  {
   "cell_type": "code",
   "execution_count": 5,
   "id": "c97318b0",
   "metadata": {
    "execution": {
     "iopub.execute_input": "2022-08-12T19:56:10.740016Z",
     "iopub.status.busy": "2022-08-12T19:56:10.739787Z",
     "iopub.status.idle": "2022-08-12T19:56:10.792580Z",
     "shell.execute_reply": "2022-08-12T19:56:10.791660Z"
    }
   },
   "outputs": [],
   "source": [
    "model.view_model()"
   ]
  },
  {
   "cell_type": "code",
   "execution_count": 6,
   "id": "8c5ecf82",
   "metadata": {
    "execution": {
     "iopub.execute_input": "2022-08-12T19:56:10.795331Z",
     "iopub.status.busy": "2022-08-12T19:56:10.795122Z",
     "iopub.status.idle": "2022-08-12T19:56:10.818351Z",
     "shell.execute_reply": "2022-08-12T19:56:10.817811Z"
    }
   },
   "outputs": [
    {
     "data": {
      "image/png": "[encoded data removed]",
      "text/plain": [
       "<IPython.core.display.Image object>"
      ]
     },
     "metadata": {},
     "output_type": "display_data"
    }
   ],
   "source": [
    "from IPython.display import Image, display\n",
    "display(Image(filename=\"causal_model.png\"))"
   ]
  },
  {
   "cell_type": "markdown",
   "id": "6640110e",
   "metadata": {},
   "source": [
    "We get a causal graph. Now identification and estimation is done."
   ]
  },
  {
   "cell_type": "code",
   "execution_count": 7,
   "id": "9ccc999e",
   "metadata": {
    "execution": {
     "iopub.execute_input": "2022-08-12T19:56:10.821059Z",
     "iopub.status.busy": "2022-08-12T19:56:10.820854Z",
     "iopub.status.idle": "2022-08-12T19:56:11.033126Z",
     "shell.execute_reply": "2022-08-12T19:56:11.032594Z"
    }
   },
   "outputs": [
    {
     "name": "stdout",
     "output_type": "stream",
     "text": [
      "Estimand type: nonparametric-ate\n",
      "\n",
      "### Estimand : 1\n",
      "Estimand name: backdoor\n",
      "Estimand expression:\n",
      "  d                       \n",
      "─────(E[y|W2,W4,W0,W3,W1])\n",
      "d[v₀]                     \n",
      "Estimand assumption 1, Unconfoundedness: If U→{v0} and U→y then P(y|v0,W2,W4,W0,W3,W1,U) = P(y|v0,W2,W4,W0,W3,W1)\n",
      "\n",
      "### Estimand : 2\n",
      "Estimand name: iv\n",
      "Estimand expression:\n",
      " ⎡                              -1⎤\n",
      " ⎢    d        ⎛    d          ⎞  ⎥\n",
      "E⎢─────────(y)⋅⎜─────────([v₀])⎟  ⎥\n",
      " ⎣d[Z₀  Z₁]    ⎝d[Z₀  Z₁]      ⎠  ⎦\n",
      "Estimand assumption 1, As-if-random: If U→→y then ¬(U →→{Z0,Z1})\n",
      "Estimand assumption 2, Exclusion: If we remove {Z0,Z1}→{v0}, then ¬({Z0,Z1}→y)\n",
      "\n",
      "### Estimand : 3\n",
      "Estimand name: frontdoor\n",
      "No such variable(s) found!\n",
      "\n"
     ]
    }
   ],
   "source": [
    "identified_estimand = model.identify_effect(proceed_when_unidentifiable=True)\n",
    "print(identified_estimand)"
   ]
  },
  {
   "cell_type": "markdown",
   "id": "8257165b",
   "metadata": {},
   "source": [
    "## Method 1: Propensity Score Stratification\n",
    "\n",
    "We will be using propensity scores to stratify units in the data."
   ]
  },
  {
   "cell_type": "code",
   "execution_count": 8,
   "id": "839a95e1",
   "metadata": {
    "execution": {
     "iopub.execute_input": "2022-08-12T19:56:11.036612Z",
     "iopub.status.busy": "2022-08-12T19:56:11.036266Z",
     "iopub.status.idle": "2022-08-12T19:56:11.672344Z",
     "shell.execute_reply": "2022-08-12T19:56:11.671716Z"
    }
   },
   "outputs": [
    {
     "name": "stdout",
     "output_type": "stream",
     "text": [
      "propensity_score_stratification\n"
     ]
    },
    {
     "name": "stderr",
     "output_type": "stream",
     "text": [
      "/github/home/.cache/pypoetry/virtualenvs/dowhy-oN2hW5jr-py3.8/lib/python3.8/site-packages/sklearn/utils/validation.py:993: DataConversionWarning: A column-vector y was passed when a 1d array was expected. Please change the shape of y to (n_samples, ), for example using ravel().\n",
      "  y = column_or_1d(y, warn=True)\n"
     ]
    },
    {
     "name": "stdout",
     "output_type": "stream",
     "text": [
      "*** Causal Estimate ***\n",
      "\n",
      "## Identified estimand\n",
      "Estimand type: nonparametric-ate\n",
      "\n",
      "### Estimand : 1\n",
      "Estimand name: backdoor\n",
      "Estimand expression:\n",
      "  d                       \n",
      "─────(E[y|W2,W4,W0,W3,W1])\n",
      "d[v₀]                     \n",
      "Estimand assumption 1, Unconfoundedness: If U→{v0} and U→y then P(y|v0,W2,W4,W0,W3,W1,U) = P(y|v0,W2,W4,W0,W3,W1)\n",
      "\n",
      "## Realized estimand\n",
      "b: y~v0+W2+W4+W0+W3+W1\n",
      "Target units: att\n",
      "\n",
      "## Estimate\n",
      "Mean value: 1.0032814710450921\n",
      "\n",
      "Causal Estimate is 1.0032814710450921\n"
     ]
    }
   ],
   "source": [
    "causal_estimate_strat = model.estimate_effect(identified_estimand,\n",
    "                                              method_name=\"backdoor.propensity_score_stratification\",\n",
    "                                              target_units=\"att\")\n",
    "print(causal_estimate_strat)\n",
    "print(\"Causal Estimate is \" + str(causal_estimate_strat.value))"
   ]
  },
  {
   "cell_type": "markdown",
   "id": "6a386156",
   "metadata": {},
   "source": [
    "### Textual Interpreter\n",
    "\n",
    "The textual Interpreter describes (in words) the effect of unit change in the treatment variable on the outcome variable."
   ]
  },
  {
   "cell_type": "code",
   "execution_count": 9,
   "id": "33b986a8",
   "metadata": {
    "execution": {
     "iopub.execute_input": "2022-08-12T19:56:11.675383Z",
     "iopub.status.busy": "2022-08-12T19:56:11.675043Z",
     "iopub.status.idle": "2022-08-12T19:56:11.699306Z",
     "shell.execute_reply": "2022-08-12T19:56:11.698748Z"
    }
   },
   "outputs": [
    {
     "name": "stdout",
     "output_type": "stream",
     "text": [
      "Increasing the treatment variable(s) [v0] from 0 to 1 causes an increase of 1.0032814710450921 in the expected value of the outcome [y], over the data distribution/population represented by the dataset.\n"
     ]
    }
   ],
   "source": [
    "# Textual Interpreter\n",
    "interpretation = causal_estimate_strat.interpret(method_name=\"textual_effect_interpreter\")"
   ]
  },
  {
   "cell_type": "markdown",
   "id": "f45fdc78",
   "metadata": {},
   "source": [
    "### Visual Interpreter\n",
    "\n",
    "The visual interpreter plots the change in the standardized mean difference (SMD) before and after Propensity Score based adjustment of the dataset. The formula for SMD is given below.\n",
    "\n",
    "\n",
    "$SMD = \\frac{\\bar X_{1} - \\bar X_{2}}{\\sqrt{(S_{1}^{2} + S_{2}^{2})/2}}$\n",
    "\n",
    "Here, $\\bar X_{1}$ and $\\bar X_{2}$ are the sample mean for the treated and control groups.\n"
   ]
  },
  {
   "cell_type": "code",
   "execution_count": 10,
   "id": "d803df8f",
   "metadata": {
    "execution": {
     "iopub.execute_input": "2022-08-12T19:56:11.702520Z",
     "iopub.status.busy": "2022-08-12T19:56:11.702024Z",
     "iopub.status.idle": "2022-08-12T19:56:12.694320Z",
     "shell.execute_reply": "2022-08-12T19:56:12.693734Z"
    }
   },
   "outputs": [
    {
     "data": {
      "image/png": "[encoded data removed]",
      "text/plain": [
       "<Figure size 432x288 with 1 Axes>"
      ]
     },
     "metadata": {
      "needs_background": "light"
     },
     "output_type": "display_data"
    }
   ],
   "source": [
    "# Visual Interpreter\n",
    "interpretation = causal_estimate_strat.interpret(method_name=\"propensity_balance_interpreter\")"
   ]
  },
  {
   "cell_type": "markdown",
   "id": "2ae0f6a1",
   "metadata": {},
   "source": [
    "This plot shows how the SMD decreases from the unadjusted to the stratified units. "
   ]
  },
  {
   "cell_type": "markdown",
   "id": "7266220e",
   "metadata": {},
   "source": [
    "## Method 2: Propensity Score Matching\n",
    "\n",
    "We will be using propensity scores to match units in the data."
   ]
  },
  {
   "cell_type": "code",
   "execution_count": 11,
   "id": "92120409",
   "metadata": {
    "execution": {
     "iopub.execute_input": "2022-08-12T19:56:12.697483Z",
     "iopub.status.busy": "2022-08-12T19:56:12.696942Z",
     "iopub.status.idle": "2022-08-12T19:56:16.290048Z",
     "shell.execute_reply": "2022-08-12T19:56:16.289454Z"
    }
   },
   "outputs": [
    {
     "name": "stdout",
     "output_type": "stream",
     "text": [
      "propensity_score_matching\n"
     ]
    },
    {
     "name": "stderr",
     "output_type": "stream",
     "text": [
      "/github/home/.cache/pypoetry/virtualenvs/dowhy-oN2hW5jr-py3.8/lib/python3.8/site-packages/sklearn/utils/validation.py:993: DataConversionWarning: A column-vector y was passed when a 1d array was expected. Please change the shape of y to (n_samples, ), for example using ravel().\n",
      "  y = column_or_1d(y, warn=True)\n"
     ]
    },
    {
     "name": "stdout",
     "output_type": "stream",
     "text": [
      "*** Causal Estimate ***\n",
      "\n",
      "## Identified estimand\n",
      "Estimand type: nonparametric-ate\n",
      "\n",
      "### Estimand : 1\n",
      "Estimand name: backdoor\n",
      "Estimand expression:\n",
      "  d                       \n",
      "─────(E[y|W2,W4,W0,W3,W1])\n",
      "d[v₀]                     \n",
      "Estimand assumption 1, Unconfoundedness: If U→{v0} and U→y then P(y|v0,W2,W4,W0,W3,W1,U) = P(y|v0,W2,W4,W0,W3,W1)\n",
      "\n",
      "## Realized estimand\n",
      "b: y~v0+W2+W4+W0+W3+W1\n",
      "Target units: atc\n",
      "\n",
      "## Estimate\n",
      "Mean value: 1.0231798183683818\n",
      "\n",
      "Causal Estimate is 1.0231798183683818\n"
     ]
    }
   ],
   "source": [
    "causal_estimate_match = model.estimate_effect(identified_estimand,\n",
    "                                              method_name=\"backdoor.propensity_score_matching\",\n",
    "                                              target_units=\"atc\")\n",
    "print(causal_estimate_match)\n",
    "print(\"Causal Estimate is \" + str(causal_estimate_match.value))"
   ]
  },
  {
   "cell_type": "code",
   "execution_count": 12,
   "id": "5c1b28dc",
   "metadata": {
    "execution": {
     "iopub.execute_input": "2022-08-12T19:56:16.293347Z",
     "iopub.status.busy": "2022-08-12T19:56:16.293000Z",
     "iopub.status.idle": "2022-08-12T19:56:16.316892Z",
     "shell.execute_reply": "2022-08-12T19:56:16.316299Z"
    }
   },
   "outputs": [
    {
     "name": "stdout",
     "output_type": "stream",
     "text": [
      "Increasing the treatment variable(s) [v0] from 0 to 1 causes an increase of 1.0231798183683818 in the expected value of the outcome [y], over the data distribution/population represented by the dataset.\n"
     ]
    }
   ],
   "source": [
    "# Textual Interpreter\n",
    "interpretation = causal_estimate_match.interpret(method_name=\"textual_effect_interpreter\")"
   ]
  },
  {
   "cell_type": "markdown",
   "id": "bbbfce54",
   "metadata": {},
   "source": [
    "Cannot use propensity balance interpretor here since the interpreter method only supports propensity score stratification estimator."
   ]
  },
  {
   "cell_type": "markdown",
   "id": "7049471b",
   "metadata": {},
   "source": [
    "## Method 3: Weighting\n",
    "\n",
    "We will be using (inverse) propensity scores to assign weights to units in the data. DoWhy supports a few different weighting schemes:\n",
    "1. Vanilla Inverse Propensity Score weighting (IPS) (weighting_scheme=\"ips_weight\")\n",
    "2. Self-normalized IPS weighting (also known as the Hajek estimator) (weighting_scheme=\"ips_normalized_weight\")\n",
    "3. Stabilized IPS weighting (weighting_scheme = \"ips_stabilized_weight\")"
   ]
  },
  {
   "cell_type": "code",
   "execution_count": 13,
   "id": "32ff5068",
   "metadata": {
    "execution": {
     "iopub.execute_input": "2022-08-12T19:56:16.319643Z",
     "iopub.status.busy": "2022-08-12T19:56:16.319442Z",
     "iopub.status.idle": "2022-08-12T19:56:16.375268Z",
     "shell.execute_reply": "2022-08-12T19:56:16.373826Z"
    }
   },
   "outputs": [
    {
     "name": "stdout",
     "output_type": "stream",
     "text": [
      "propensity_score_weighting\n",
      "*** Causal Estimate ***\n",
      "\n",
      "## Identified estimand\n",
      "Estimand type: nonparametric-ate\n",
      "\n",
      "### Estimand : 1\n",
      "Estimand name: backdoor\n",
      "Estimand expression:\n",
      "  d                       \n",
      "─────(E[y|W2,W4,W0,W3,W1])\n",
      "d[v₀]                     \n",
      "Estimand assumption 1, Unconfoundedness: If U→{v0} and U→y then P(y|v0,W2,W4,W0,W3,W1,U) = P(y|v0,W2,W4,W0,W3,W1)\n",
      "\n",
      "## Realized estimand\n",
      "b: y~v0+W2+W4+W0+W3+W1\n",
      "Target units: ate\n",
      "\n",
      "## Estimate\n",
      "Mean value: 1.171858484233586\n",
      "\n",
      "Causal Estimate is 1.171858484233586\n"
     ]
    },
    {
     "name": "stderr",
     "output_type": "stream",
     "text": [
      "/github/home/.cache/pypoetry/virtualenvs/dowhy-oN2hW5jr-py3.8/lib/python3.8/site-packages/sklearn/utils/validation.py:993: DataConversionWarning: A column-vector y was passed when a 1d array was expected. Please change the shape of y to (n_samples, ), for example using ravel().\n",
      "  y = column_or_1d(y, warn=True)\n"
     ]
    }
   ],
   "source": [
    "causal_estimate_ipw = model.estimate_effect(identified_estimand,\n",
    "                                            method_name=\"backdoor.propensity_score_weighting\",\n",
    "                                            target_units = \"ate\",\n",
    "                                            method_params={\"weighting_scheme\":\"ips_weight\"})\n",
    "print(causal_estimate_ipw)\n",
    "print(\"Causal Estimate is \" + str(causal_estimate_ipw.value))"
   ]
  },
  {
   "cell_type": "code",
   "execution_count": 14,
   "id": "ce49bd80",
   "metadata": {
    "execution": {
     "iopub.execute_input": "2022-08-12T19:56:16.377996Z",
     "iopub.status.busy": "2022-08-12T19:56:16.377636Z",
     "iopub.status.idle": "2022-08-12T19:56:16.399502Z",
     "shell.execute_reply": "2022-08-12T19:56:16.398916Z"
    }
   },
   "outputs": [
    {
     "name": "stdout",
     "output_type": "stream",
     "text": [
      "Increasing the treatment variable(s) [v0] from 0 to 1 causes an increase of 1.171858484233586 in the expected value of the outcome [y], over the data distribution/population represented by the dataset.\n"
     ]
    }
   ],
   "source": [
    "# Textual Interpreter\n",
    "interpretation = causal_estimate_ipw.interpret(method_name=\"textual_effect_interpreter\")"
   ]
  },
  {
   "cell_type": "code",
   "execution_count": 15,
   "id": "c1e6fc42",
   "metadata": {
    "execution": {
     "iopub.execute_input": "2022-08-12T19:56:16.401926Z",
     "iopub.status.busy": "2022-08-12T19:56:16.401721Z",
     "iopub.status.idle": "2022-08-12T19:56:16.624599Z",
     "shell.execute_reply": "2022-08-12T19:56:16.624039Z"
    }
   },
   "outputs": [
    {
     "data": {
      "image/png": "[encoded data removed]",
      "text/plain": [
       "<Figure size 576x576 with 2 Axes>"
      ]
     },
     "metadata": {
      "needs_background": "light"
     },
     "output_type": "display_data"
    }
   ],
   "source": [
    "interpretation = causal_estimate_ipw.interpret(method_name=\"confounder_distribution_interpreter\", fig_size=(8,8), font_size=12, var_name='W4', var_type='discrete')"
   ]
  },
  {
   "cell_type": "code",
   "execution_count": null,
   "id": "29267bbd",
   "metadata": {},
   "outputs": [],
   "source": []
  }
 ],
 "metadata": {
  "kernelspec": {
   "display_name": "Python 3",
   "language": "python",
   "name": "python3"
  },
  "language_info": {
   "codemirror_mode": {
    "name": "ipython",
    "version": 3
   },
   "file_extension": ".py",
   "mimetype": "text/x-python",
   "name": "python",
   "nbconvert_exporter": "python",
   "pygments_lexer": "ipython3",
   "version": "3.8.10"
  },
  "toc": {
   "base_numbering": 1,
   "nav_menu": {},
   "number_sections": false,
   "sideBar": true,
   "skip_h1_title": true,
   "title_cell": "Table of Contents",
   "title_sidebar": "Contents",
   "toc_cell": false,
   "toc_position": {},
   "toc_section_display": true,
   "toc_window_display": false
  }
 },
 "nbformat": 4,
 "nbformat_minor": 5
}
