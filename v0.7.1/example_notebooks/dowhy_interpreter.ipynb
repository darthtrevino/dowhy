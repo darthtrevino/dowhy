{
 "cells": [
  {
   "cell_type": "markdown",
   "id": "9abd4804",
   "metadata": {},
   "source": [
    "# DoWhy: Interpreters for Causal Estimators\n",
    "\n",
    "This is a quick introduction to the use of interpreters in the DoWhy causal inference library.\n",
    "We will load in a sample dataset, use different methods for estimating the causal effect of a (pre-specified)treatment variable on a (pre-specified) outcome variable and demonstrate how to interpret the obtained results.\n",
    "\n",
    "First, let us add the required path for Python to find the DoWhy code and load all required packages"
   ]
  },
  {
   "cell_type": "code",
   "execution_count": 1,
   "id": "d06316fa",
   "metadata": {
    "execution": {
     "iopub.execute_input": "2022-09-01T16:34:02.554044Z",
     "iopub.status.busy": "2022-09-01T16:34:02.553696Z",
     "iopub.status.idle": "2022-09-01T16:34:02.573199Z",
     "shell.execute_reply": "2022-09-01T16:34:02.572200Z"
    }
   },
   "outputs": [],
   "source": [
    "%load_ext autoreload\n",
    "%autoreload 2"
   ]
  },
  {
   "cell_type": "code",
   "execution_count": 2,
   "id": "7aaf767e",
   "metadata": {
    "execution": {
     "iopub.execute_input": "2022-09-01T16:34:02.577975Z",
     "iopub.status.busy": "2022-09-01T16:34:02.577692Z",
     "iopub.status.idle": "2022-09-01T16:34:03.840638Z",
     "shell.execute_reply": "2022-09-01T16:34:03.839605Z"
    }
   },
   "outputs": [],
   "source": [
    "import numpy as np\n",
    "import pandas as pd\n",
    "import logging\n",
    "\n",
    "import dowhy\n",
    "from dowhy import CausalModel\n",
    "import dowhy.datasets "
   ]
  },
  {
   "cell_type": "markdown",
   "id": "381de31c",
   "metadata": {},
   "source": [
    "Now, let us load a dataset. For simplicity, we simulate a dataset with linear relationships between common causes and treatment, and common causes and outcome.\n",
    "\n",
    "Beta is the true causal effect."
   ]
  },
  {
   "cell_type": "code",
   "execution_count": 3,
   "id": "5d2cce14",
   "metadata": {
    "execution": {
     "iopub.execute_input": "2022-09-01T16:34:03.850162Z",
     "iopub.status.busy": "2022-09-01T16:34:03.849089Z",
     "iopub.status.idle": "2022-09-01T16:34:04.210411Z",
     "shell.execute_reply": "2022-09-01T16:34:04.209610Z"
    }
   },
   "outputs": [
    {
     "name": "stdout",
     "output_type": "stream",
     "text": [
      "8868\n"
     ]
    },
    {
     "data": {
      "text/html": [
       "<div>\n",
       "<style scoped>\n",
       "    .dataframe tbody tr th:only-of-type {\n",
       "        vertical-align: middle;\n",
       "    }\n",
       "\n",
       "    .dataframe tbody tr th {\n",
       "        vertical-align: top;\n",
       "    }\n",
       "\n",
       "    .dataframe thead th {\n",
       "        text-align: right;\n",
       "    }\n",
       "</style>\n",
       "<table border=\"1\" class=\"dataframe\">\n",
       "  <thead>\n",
       "    <tr style=\"text-align: right;\">\n",
       "      <th></th>\n",
       "      <th>Z0</th>\n",
       "      <th>Z1</th>\n",
       "      <th>W0</th>\n",
       "      <th>W1</th>\n",
       "      <th>W2</th>\n",
       "      <th>W3</th>\n",
       "      <th>W4</th>\n",
       "      <th>v0</th>\n",
       "      <th>y</th>\n",
       "    </tr>\n",
       "  </thead>\n",
       "  <tbody>\n",
       "    <tr>\n",
       "      <th>0</th>\n",
       "      <td>1.0</td>\n",
       "      <td>0.908703</td>\n",
       "      <td>-0.131383</td>\n",
       "      <td>0.353668</td>\n",
       "      <td>-0.813893</td>\n",
       "      <td>-0.664703</td>\n",
       "      <td>2</td>\n",
       "      <td>True</td>\n",
       "      <td>0.632114</td>\n",
       "    </tr>\n",
       "    <tr>\n",
       "      <th>1</th>\n",
       "      <td>0.0</td>\n",
       "      <td>0.938683</td>\n",
       "      <td>1.694489</td>\n",
       "      <td>1.905517</td>\n",
       "      <td>-0.142640</td>\n",
       "      <td>0.555354</td>\n",
       "      <td>3</td>\n",
       "      <td>True</td>\n",
       "      <td>4.118531</td>\n",
       "    </tr>\n",
       "    <tr>\n",
       "      <th>2</th>\n",
       "      <td>0.0</td>\n",
       "      <td>0.273415</td>\n",
       "      <td>-1.147300</td>\n",
       "      <td>-0.846290</td>\n",
       "      <td>-0.215623</td>\n",
       "      <td>-0.595529</td>\n",
       "      <td>1</td>\n",
       "      <td>True</td>\n",
       "      <td>-0.437635</td>\n",
       "    </tr>\n",
       "    <tr>\n",
       "      <th>3</th>\n",
       "      <td>0.0</td>\n",
       "      <td>0.875328</td>\n",
       "      <td>1.863971</td>\n",
       "      <td>1.509548</td>\n",
       "      <td>-1.888058</td>\n",
       "      <td>1.153651</td>\n",
       "      <td>3</td>\n",
       "      <td>True</td>\n",
       "      <td>3.413490</td>\n",
       "    </tr>\n",
       "    <tr>\n",
       "      <th>4</th>\n",
       "      <td>1.0</td>\n",
       "      <td>0.099693</td>\n",
       "      <td>0.902135</td>\n",
       "      <td>1.546409</td>\n",
       "      <td>-0.465290</td>\n",
       "      <td>-1.239578</td>\n",
       "      <td>3</td>\n",
       "      <td>False</td>\n",
       "      <td>0.766114</td>\n",
       "    </tr>\n",
       "    <tr>\n",
       "      <th>...</th>\n",
       "      <td>...</td>\n",
       "      <td>...</td>\n",
       "      <td>...</td>\n",
       "      <td>...</td>\n",
       "      <td>...</td>\n",
       "      <td>...</td>\n",
       "      <td>...</td>\n",
       "      <td>...</td>\n",
       "      <td>...</td>\n",
       "    </tr>\n",
       "    <tr>\n",
       "      <th>9995</th>\n",
       "      <td>1.0</td>\n",
       "      <td>0.292938</td>\n",
       "      <td>0.918168</td>\n",
       "      <td>1.536746</td>\n",
       "      <td>-0.478113</td>\n",
       "      <td>0.639611</td>\n",
       "      <td>3</td>\n",
       "      <td>True</td>\n",
       "      <td>3.440833</td>\n",
       "    </tr>\n",
       "    <tr>\n",
       "      <th>9996</th>\n",
       "      <td>0.0</td>\n",
       "      <td>0.879790</td>\n",
       "      <td>1.183901</td>\n",
       "      <td>2.008565</td>\n",
       "      <td>0.300195</td>\n",
       "      <td>-0.906802</td>\n",
       "      <td>0</td>\n",
       "      <td>True</td>\n",
       "      <td>2.200378</td>\n",
       "    </tr>\n",
       "    <tr>\n",
       "      <th>9997</th>\n",
       "      <td>1.0</td>\n",
       "      <td>0.330104</td>\n",
       "      <td>0.448525</td>\n",
       "      <td>-0.539199</td>\n",
       "      <td>-0.234594</td>\n",
       "      <td>-2.464935</td>\n",
       "      <td>0</td>\n",
       "      <td>True</td>\n",
       "      <td>-1.543307</td>\n",
       "    </tr>\n",
       "    <tr>\n",
       "      <th>9998</th>\n",
       "      <td>0.0</td>\n",
       "      <td>0.031466</td>\n",
       "      <td>-2.849878</td>\n",
       "      <td>0.358928</td>\n",
       "      <td>-1.617228</td>\n",
       "      <td>0.506219</td>\n",
       "      <td>1</td>\n",
       "      <td>True</td>\n",
       "      <td>-0.088218</td>\n",
       "    </tr>\n",
       "    <tr>\n",
       "      <th>9999</th>\n",
       "      <td>1.0</td>\n",
       "      <td>0.142848</td>\n",
       "      <td>0.549731</td>\n",
       "      <td>1.471778</td>\n",
       "      <td>-1.773665</td>\n",
       "      <td>-0.948684</td>\n",
       "      <td>3</td>\n",
       "      <td>True</td>\n",
       "      <td>1.108068</td>\n",
       "    </tr>\n",
       "  </tbody>\n",
       "</table>\n",
       "<p>10000 rows × 9 columns</p>\n",
       "</div>"
      ],
      "text/plain": [
       "       Z0        Z1        W0        W1        W2        W3 W4     v0  \\\n",
       "0     1.0  0.908703 -0.131383  0.353668 -0.813893 -0.664703  2   True   \n",
       "1     0.0  0.938683  1.694489  1.905517 -0.142640  0.555354  3   True   \n",
       "2     0.0  0.273415 -1.147300 -0.846290 -0.215623 -0.595529  1   True   \n",
       "3     0.0  0.875328  1.863971  1.509548 -1.888058  1.153651  3   True   \n",
       "4     1.0  0.099693  0.902135  1.546409 -0.465290 -1.239578  3  False   \n",
       "...   ...       ...       ...       ...       ...       ... ..    ...   \n",
       "9995  1.0  0.292938  0.918168  1.536746 -0.478113  0.639611  3   True   \n",
       "9996  0.0  0.879790  1.183901  2.008565  0.300195 -0.906802  0   True   \n",
       "9997  1.0  0.330104  0.448525 -0.539199 -0.234594 -2.464935  0   True   \n",
       "9998  0.0  0.031466 -2.849878  0.358928 -1.617228  0.506219  1   True   \n",
       "9999  1.0  0.142848  0.549731  1.471778 -1.773665 -0.948684  3   True   \n",
       "\n",
       "             y  \n",
       "0     0.632114  \n",
       "1     4.118531  \n",
       "2    -0.437635  \n",
       "3     3.413490  \n",
       "4     0.766114  \n",
       "...        ...  \n",
       "9995  3.440833  \n",
       "9996  2.200378  \n",
       "9997 -1.543307  \n",
       "9998 -0.088218  \n",
       "9999  1.108068  \n",
       "\n",
       "[10000 rows x 9 columns]"
      ]
     },
     "execution_count": 3,
     "metadata": {},
     "output_type": "execute_result"
    }
   ],
   "source": [
    "data = dowhy.datasets.linear_dataset(beta=1,\n",
    "        num_common_causes=5, \n",
    "        num_instruments = 2,\n",
    "        num_treatments=1,\n",
    "        num_discrete_common_causes=1,\n",
    "        num_samples=10000,\n",
    "        treatment_is_binary=True,\n",
    "        outcome_is_binary=False)\n",
    "df = data[\"df\"]\n",
    "print(df[df.v0==True].shape[0])\n",
    "df"
   ]
  },
  {
   "cell_type": "markdown",
   "id": "aa1691ac",
   "metadata": {},
   "source": [
    "Note that we are using a pandas dataframe to load the data."
   ]
  },
  {
   "cell_type": "markdown",
   "id": "515e4df9",
   "metadata": {},
   "source": [
    "## Identifying the causal estimand"
   ]
  },
  {
   "cell_type": "markdown",
   "id": "acea46dd",
   "metadata": {},
   "source": [
    "We now input a causal graph in the GML graph format."
   ]
  },
  {
   "cell_type": "code",
   "execution_count": 4,
   "id": "7d6675e0",
   "metadata": {
    "execution": {
     "iopub.execute_input": "2022-09-01T16:34:04.214797Z",
     "iopub.status.busy": "2022-09-01T16:34:04.214507Z",
     "iopub.status.idle": "2022-09-01T16:34:04.245078Z",
     "shell.execute_reply": "2022-09-01T16:34:04.244278Z"
    }
   },
   "outputs": [],
   "source": [
    "# With graph\n",
    "model=CausalModel(\n",
    "        data = df,\n",
    "        treatment=data[\"treatment_name\"],\n",
    "        outcome=data[\"outcome_name\"],\n",
    "        graph=data[\"gml_graph\"],\n",
    "        instruments=data[\"instrument_names\"]\n",
    "        )"
   ]
  },
  {
   "cell_type": "code",
   "execution_count": 5,
   "id": "d7854271",
   "metadata": {
    "execution": {
     "iopub.execute_input": "2022-09-01T16:34:04.249353Z",
     "iopub.status.busy": "2022-09-01T16:34:04.249046Z",
     "iopub.status.idle": "2022-09-01T16:34:04.315513Z",
     "shell.execute_reply": "2022-09-01T16:34:04.314714Z"
    }
   },
   "outputs": [],
   "source": [
    "model.view_model()"
   ]
  },
  {
   "cell_type": "code",
   "execution_count": 6,
   "id": "e70834b2",
   "metadata": {
    "execution": {
     "iopub.execute_input": "2022-09-01T16:34:04.319755Z",
     "iopub.status.busy": "2022-09-01T16:34:04.318996Z",
     "iopub.status.idle": "2022-09-01T16:34:04.350809Z",
     "shell.execute_reply": "2022-09-01T16:34:04.350098Z"
    }
   },
   "outputs": [
    {
     "data": {
      "image/png": "[encoded data removed]",
      "text/plain": [
       "<IPython.core.display.Image object>"
      ]
     },
     "metadata": {},
     "output_type": "display_data"
    }
   ],
   "source": [
    "from IPython.display import Image, display\n",
    "display(Image(filename=\"causal_model.png\"))"
   ]
  },
  {
   "cell_type": "markdown",
   "id": "352c09d1",
   "metadata": {},
   "source": [
    "We get a causal graph. Now identification and estimation is done."
   ]
  },
  {
   "cell_type": "code",
   "execution_count": 7,
   "id": "d2d398d0",
   "metadata": {
    "execution": {
     "iopub.execute_input": "2022-09-01T16:34:04.354975Z",
     "iopub.status.busy": "2022-09-01T16:34:04.354213Z",
     "iopub.status.idle": "2022-09-01T16:34:04.618648Z",
     "shell.execute_reply": "2022-09-01T16:34:04.617694Z"
    }
   },
   "outputs": [
    {
     "name": "stdout",
     "output_type": "stream",
     "text": [
      "Estimand type: nonparametric-ate\n",
      "\n",
      "### Estimand : 1\n",
      "Estimand name: backdoor\n",
      "Estimand expression:\n",
      "  d                       \n",
      "─────(E[y|W2,W3,W4,W1,W0])\n",
      "d[v₀]                     \n",
      "Estimand assumption 1, Unconfoundedness: If U→{v0} and U→y then P(y|v0,W2,W3,W4,W1,W0,U) = P(y|v0,W2,W3,W4,W1,W0)\n",
      "\n",
      "### Estimand : 2\n",
      "Estimand name: iv\n",
      "Estimand expression:\n",
      " ⎡                              -1⎤\n",
      " ⎢    d        ⎛    d          ⎞  ⎥\n",
      "E⎢─────────(y)⋅⎜─────────([v₀])⎟  ⎥\n",
      " ⎣d[Z₀  Z₁]    ⎝d[Z₀  Z₁]      ⎠  ⎦\n",
      "Estimand assumption 1, As-if-random: If U→→y then ¬(U →→{Z0,Z1})\n",
      "Estimand assumption 2, Exclusion: If we remove {Z0,Z1}→{v0}, then ¬({Z0,Z1}→y)\n",
      "\n",
      "### Estimand : 3\n",
      "Estimand name: frontdoor\n",
      "No such variable(s) found!\n",
      "\n"
     ]
    }
   ],
   "source": [
    "identified_estimand = model.identify_effect(proceed_when_unidentifiable=True)\n",
    "print(identified_estimand)"
   ]
  },
  {
   "cell_type": "markdown",
   "id": "01c7ef83",
   "metadata": {},
   "source": [
    "## Method 1: Propensity Score Stratification\n",
    "\n",
    "We will be using propensity scores to stratify units in the data."
   ]
  },
  {
   "cell_type": "code",
   "execution_count": 8,
   "id": "638e8f46",
   "metadata": {
    "execution": {
     "iopub.execute_input": "2022-09-01T16:34:04.623132Z",
     "iopub.status.busy": "2022-09-01T16:34:04.622586Z",
     "iopub.status.idle": "2022-09-01T16:34:05.521028Z",
     "shell.execute_reply": "2022-09-01T16:34:05.519821Z"
    }
   },
   "outputs": [
    {
     "name": "stdout",
     "output_type": "stream",
     "text": [
      "*** Causal Estimate ***\n",
      "\n",
      "## Identified estimand\n",
      "Estimand type: nonparametric-ate\n",
      "\n",
      "### Estimand : 1\n",
      "Estimand name: backdoor\n",
      "Estimand expression:\n",
      "  d                       \n",
      "─────(E[y|W2,W3,W4,W1,W0])\n",
      "d[v₀]                     \n",
      "Estimand assumption 1, Unconfoundedness: If U→{v0} and U→y then P(y|v0,W2,W3,W4,W1,W0,U) = P(y|v0,W2,W3,W4,W1,W0)\n",
      "\n",
      "## Realized estimand\n",
      "b: y~v0+W2+W3+W4+W1+W0\n",
      "Target units: att\n",
      "\n",
      "## Estimate\n",
      "Mean value: 1.0082118724091236\n",
      "\n",
      "Causal Estimate is 1.0082118724091236\n"
     ]
    }
   ],
   "source": [
    "causal_estimate_strat = model.estimate_effect(identified_estimand,\n",
    "                                              method_name=\"backdoor.propensity_score_stratification\",\n",
    "                                              target_units=\"att\")\n",
    "print(causal_estimate_strat)\n",
    "print(\"Causal Estimate is \" + str(causal_estimate_strat.value))"
   ]
  },
  {
   "cell_type": "markdown",
   "id": "df00e0f0",
   "metadata": {},
   "source": [
    "### Textual Interpreter\n",
    "\n",
    "The textual Interpreter describes (in words) the effect of unit change in the treatment variable on the outcome variable."
   ]
  },
  {
   "cell_type": "code",
   "execution_count": 9,
   "id": "8ec51b83",
   "metadata": {
    "execution": {
     "iopub.execute_input": "2022-09-01T16:34:05.526019Z",
     "iopub.status.busy": "2022-09-01T16:34:05.525161Z",
     "iopub.status.idle": "2022-09-01T16:34:05.556847Z",
     "shell.execute_reply": "2022-09-01T16:34:05.556012Z"
    }
   },
   "outputs": [
    {
     "name": "stdout",
     "output_type": "stream",
     "text": [
      "Increasing the treatment variable(s) [v0] from 0 to 1 causes an increase of 1.0082118724091236 in the expected value of the outcome [y], over the data distribution/population represented by the dataset.\n"
     ]
    }
   ],
   "source": [
    "# Textual Interpreter\n",
    "interpretation = causal_estimate_strat.interpret(method_name=\"textual_effect_interpreter\")"
   ]
  },
  {
   "cell_type": "markdown",
   "id": "ebdb25e0",
   "metadata": {},
   "source": [
    "### Visual Interpreter\n",
    "\n",
    "The visual interpreter plots the change in the standardized mean difference (SMD) before and after Propensity Score based adjustment of the dataset. The formula for SMD is given below.\n",
    "\n",
    "\n",
    "$SMD = \\frac{\\bar X_{1} - \\bar X_{2}}{\\sqrt{(S_{1}^{2} + S_{2}^{2})/2}}$\n",
    "\n",
    "Here, $\\bar X_{1}$ and $\\bar X_{2}$ are the sample mean for the treated and control groups.\n"
   ]
  },
  {
   "cell_type": "code",
   "execution_count": 10,
   "id": "a91b319e",
   "metadata": {
    "execution": {
     "iopub.execute_input": "2022-09-01T16:34:05.560903Z",
     "iopub.status.busy": "2022-09-01T16:34:05.560427Z",
     "iopub.status.idle": "2022-09-01T16:34:06.874648Z",
     "shell.execute_reply": "2022-09-01T16:34:06.873589Z"
    }
   },
   "outputs": [
    {
     "data": {
      "image/png": "[encoded data removed]",
      "text/plain": [
       "<Figure size 640x480 with 1 Axes>"
      ]
     },
     "metadata": {},
     "output_type": "display_data"
    }
   ],
   "source": [
    "# Visual Interpreter\n",
    "interpretation = causal_estimate_strat.interpret(method_name=\"propensity_balance_interpreter\")"
   ]
  },
  {
   "cell_type": "markdown",
   "id": "1b98a69a",
   "metadata": {},
   "source": [
    "This plot shows how the SMD decreases from the unadjusted to the stratified units. "
   ]
  },
  {
   "cell_type": "markdown",
   "id": "d9dafc08",
   "metadata": {},
   "source": [
    "## Method 2: Propensity Score Matching\n",
    "\n",
    "We will be using propensity scores to match units in the data."
   ]
  },
  {
   "cell_type": "code",
   "execution_count": 11,
   "id": "40ecda62",
   "metadata": {
    "execution": {
     "iopub.execute_input": "2022-09-01T16:34:06.880831Z",
     "iopub.status.busy": "2022-09-01T16:34:06.879450Z",
     "iopub.status.idle": "2022-09-01T16:34:11.985881Z",
     "shell.execute_reply": "2022-09-01T16:34:11.985098Z"
    }
   },
   "outputs": [
    {
     "name": "stdout",
     "output_type": "stream",
     "text": [
      "*** Causal Estimate ***\n",
      "\n",
      "## Identified estimand\n",
      "Estimand type: nonparametric-ate\n",
      "\n",
      "### Estimand : 1\n",
      "Estimand name: backdoor\n",
      "Estimand expression:\n",
      "  d                       \n",
      "─────(E[y|W2,W3,W4,W1,W0])\n",
      "d[v₀]                     \n",
      "Estimand assumption 1, Unconfoundedness: If U→{v0} and U→y then P(y|v0,W2,W3,W4,W1,W0,U) = P(y|v0,W2,W3,W4,W1,W0)\n",
      "\n",
      "## Realized estimand\n",
      "b: y~v0+W2+W3+W4+W1+W0\n",
      "Target units: atc\n",
      "\n",
      "## Estimate\n",
      "Mean value: 0.9995516662268056\n",
      "\n",
      "Causal Estimate is 0.9995516662268056\n"
     ]
    }
   ],
   "source": [
    "causal_estimate_match = model.estimate_effect(identified_estimand,\n",
    "                                              method_name=\"backdoor.propensity_score_matching\",\n",
    "                                              target_units=\"atc\")\n",
    "print(causal_estimate_match)\n",
    "print(\"Causal Estimate is \" + str(causal_estimate_match.value))"
   ]
  },
  {
   "cell_type": "code",
   "execution_count": 12,
   "id": "d329222a",
   "metadata": {
    "execution": {
     "iopub.execute_input": "2022-09-01T16:34:11.989990Z",
     "iopub.status.busy": "2022-09-01T16:34:11.989385Z",
     "iopub.status.idle": "2022-09-01T16:34:12.022042Z",
     "shell.execute_reply": "2022-09-01T16:34:12.021091Z"
    }
   },
   "outputs": [
    {
     "name": "stdout",
     "output_type": "stream",
     "text": [
      "Increasing the treatment variable(s) [v0] from 0 to 1 causes an increase of 0.9995516662268056 in the expected value of the outcome [y], over the data distribution/population represented by the dataset.\n"
     ]
    }
   ],
   "source": [
    "# Textual Interpreter\n",
    "interpretation = causal_estimate_match.interpret(method_name=\"textual_effect_interpreter\")"
   ]
  },
  {
   "cell_type": "markdown",
   "id": "aa1b327e",
   "metadata": {},
   "source": [
    "Cannot use propensity balance interpretor here since the interpreter method only supports propensity score stratification estimator."
   ]
  },
  {
   "cell_type": "markdown",
   "id": "45b1f9a5",
   "metadata": {},
   "source": [
    "## Method 3: Weighting\n",
    "\n",
    "We will be using (inverse) propensity scores to assign weights to units in the data. DoWhy supports a few different weighting schemes:\n",
    "1. Vanilla Inverse Propensity Score weighting (IPS) (weighting_scheme=\"ips_weight\")\n",
    "2. Self-normalized IPS weighting (also known as the Hajek estimator) (weighting_scheme=\"ips_normalized_weight\")\n",
    "3. Stabilized IPS weighting (weighting_scheme = \"ips_stabilized_weight\")"
   ]
  },
  {
   "cell_type": "code",
   "execution_count": 13,
   "id": "9ce02c17",
   "metadata": {
    "execution": {
     "iopub.execute_input": "2022-09-01T16:34:12.027592Z",
     "iopub.status.busy": "2022-09-01T16:34:12.026081Z",
     "iopub.status.idle": "2022-09-01T16:34:12.106792Z",
     "shell.execute_reply": "2022-09-01T16:34:12.104879Z"
    }
   },
   "outputs": [
    {
     "name": "stdout",
     "output_type": "stream",
     "text": [
      "*** Causal Estimate ***\n",
      "\n",
      "## Identified estimand\n",
      "Estimand type: nonparametric-ate\n",
      "\n",
      "### Estimand : 1\n",
      "Estimand name: backdoor\n",
      "Estimand expression:\n",
      "  d                       \n",
      "─────(E[y|W2,W3,W4,W1,W0])\n",
      "d[v₀]                     \n",
      "Estimand assumption 1, Unconfoundedness: If U→{v0} and U→y then P(y|v0,W2,W3,W4,W1,W0,U) = P(y|v0,W2,W3,W4,W1,W0)\n",
      "\n",
      "## Realized estimand\n",
      "b: y~v0+W2+W3+W4+W1+W0\n",
      "Target units: ate\n",
      "\n",
      "## Estimate\n",
      "Mean value: 1.2201976317944088\n",
      "\n",
      "Causal Estimate is 1.2201976317944088\n"
     ]
    }
   ],
   "source": [
    "causal_estimate_ipw = model.estimate_effect(identified_estimand,\n",
    "                                            method_name=\"backdoor.propensity_score_weighting\",\n",
    "                                            target_units = \"ate\",\n",
    "                                            method_params={\"weighting_scheme\":\"ips_weight\"})\n",
    "print(causal_estimate_ipw)\n",
    "print(\"Causal Estimate is \" + str(causal_estimate_ipw.value))"
   ]
  },
  {
   "cell_type": "code",
   "execution_count": 14,
   "id": "72d8ba61",
   "metadata": {
    "execution": {
     "iopub.execute_input": "2022-09-01T16:34:12.110981Z",
     "iopub.status.busy": "2022-09-01T16:34:12.110571Z",
     "iopub.status.idle": "2022-09-01T16:34:12.159858Z",
     "shell.execute_reply": "2022-09-01T16:34:12.159155Z"
    }
   },
   "outputs": [
    {
     "name": "stdout",
     "output_type": "stream",
     "text": [
      "Increasing the treatment variable(s) [v0] from 0 to 1 causes an increase of 1.2201976317944088 in the expected value of the outcome [y], over the data distribution/population represented by the dataset.\n"
     ]
    }
   ],
   "source": [
    "# Textual Interpreter\n",
    "interpretation = causal_estimate_ipw.interpret(method_name=\"textual_effect_interpreter\")"
   ]
  },
  {
   "cell_type": "code",
   "execution_count": 15,
   "id": "b668fada",
   "metadata": {
    "execution": {
     "iopub.execute_input": "2022-09-01T16:34:12.165145Z",
     "iopub.status.busy": "2022-09-01T16:34:12.163861Z",
     "iopub.status.idle": "2022-09-01T16:34:12.467847Z",
     "shell.execute_reply": "2022-09-01T16:34:12.466748Z"
    }
   },
   "outputs": [
    {
     "data": {
      "image/png": "[encoded data removed]",
      "text/plain": [
       "<Figure size 800x800 with 2 Axes>"
      ]
     },
     "metadata": {},
     "output_type": "display_data"
    }
   ],
   "source": [
    "interpretation = causal_estimate_ipw.interpret(method_name=\"confounder_distribution_interpreter\", fig_size=(8,8), font_size=12, var_name='W4', var_type='discrete')"
   ]
  },
  {
   "cell_type": "code",
   "execution_count": null,
   "id": "9d205ba4",
   "metadata": {},
   "outputs": [],
   "source": []
  }
 ],
 "metadata": {
  "kernelspec": {
   "display_name": "Python 3",
   "language": "python",
   "name": "python3"
  },
  "language_info": {
   "codemirror_mode": {
    "name": "ipython",
    "version": 3
   },
   "file_extension": ".py",
   "mimetype": "text/x-python",
   "name": "python",
   "nbconvert_exporter": "python",
   "pygments_lexer": "ipython3",
   "version": "3.8.10"
  },
  "toc": {
   "base_numbering": 1,
   "nav_menu": {},
   "number_sections": false,
   "sideBar": true,
   "skip_h1_title": true,
   "title_cell": "Table of Contents",
   "title_sidebar": "Contents",
   "toc_cell": false,
   "toc_position": {},
   "toc_section_display": true,
   "toc_window_display": false
  }
 },
 "nbformat": 4,
 "nbformat_minor": 5
}
