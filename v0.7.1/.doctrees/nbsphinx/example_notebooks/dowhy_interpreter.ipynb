{
 "cells": [
  {
   "cell_type": "markdown",
   "id": "8db7c4dc",
   "metadata": {},
   "source": [
    "# DoWhy: Interpreters for Causal Estimators\n",
    "\n",
    "This is a quick introduction to the use of interpreters in the DoWhy causal inference library.\n",
    "We will load in a sample dataset, use different methods for estimating the causal effect of a (pre-specified)treatment variable on a (pre-specified) outcome variable and demonstrate how to interpret the obtained results.\n",
    "\n",
    "First, let us add the required path for Python to find the DoWhy code and load all required packages"
   ]
  },
  {
   "cell_type": "code",
   "execution_count": 1,
   "id": "1b4dc288",
   "metadata": {
    "execution": {
     "iopub.execute_input": "2022-08-12T21:14:22.582656Z",
     "iopub.status.busy": "2022-08-12T21:14:22.582410Z",
     "iopub.status.idle": "2022-08-12T21:14:22.597947Z",
     "shell.execute_reply": "2022-08-12T21:14:22.597391Z"
    }
   },
   "outputs": [],
   "source": [
    "%load_ext autoreload\n",
    "%autoreload 2"
   ]
  },
  {
   "cell_type": "code",
   "execution_count": 2,
   "id": "d11c6c3c",
   "metadata": {
    "execution": {
     "iopub.execute_input": "2022-08-12T21:14:22.600693Z",
     "iopub.status.busy": "2022-08-12T21:14:22.600485Z",
     "iopub.status.idle": "2022-08-12T21:14:23.545580Z",
     "shell.execute_reply": "2022-08-12T21:14:23.544933Z"
    }
   },
   "outputs": [],
   "source": [
    "import numpy as np\n",
    "import pandas as pd\n",
    "import logging\n",
    "\n",
    "import dowhy\n",
    "from dowhy import CausalModel\n",
    "import dowhy.datasets "
   ]
  },
  {
   "cell_type": "markdown",
   "id": "f5a7d3ba",
   "metadata": {},
   "source": [
    "Now, let us load a dataset. For simplicity, we simulate a dataset with linear relationships between common causes and treatment, and common causes and outcome.\n",
    "\n",
    "Beta is the true causal effect."
   ]
  },
  {
   "cell_type": "code",
   "execution_count": 3,
   "id": "99595cdc",
   "metadata": {
    "execution": {
     "iopub.execute_input": "2022-08-12T21:14:23.549596Z",
     "iopub.status.busy": "2022-08-12T21:14:23.548929Z",
     "iopub.status.idle": "2022-08-12T21:14:23.816213Z",
     "shell.execute_reply": "2022-08-12T21:14:23.815595Z"
    }
   },
   "outputs": [
    {
     "name": "stdout",
     "output_type": "stream",
     "text": [
      "8442\n"
     ]
    },
    {
     "data": {
      "text/html": [
       "<div>\n",
       "<style scoped>\n",
       "    .dataframe tbody tr th:only-of-type {\n",
       "        vertical-align: middle;\n",
       "    }\n",
       "\n",
       "    .dataframe tbody tr th {\n",
       "        vertical-align: top;\n",
       "    }\n",
       "\n",
       "    .dataframe thead th {\n",
       "        text-align: right;\n",
       "    }\n",
       "</style>\n",
       "<table border=\"1\" class=\"dataframe\">\n",
       "  <thead>\n",
       "    <tr style=\"text-align: right;\">\n",
       "      <th></th>\n",
       "      <th>Z0</th>\n",
       "      <th>Z1</th>\n",
       "      <th>W0</th>\n",
       "      <th>W1</th>\n",
       "      <th>W2</th>\n",
       "      <th>W3</th>\n",
       "      <th>W4</th>\n",
       "      <th>v0</th>\n",
       "      <th>y</th>\n",
       "    </tr>\n",
       "  </thead>\n",
       "  <tbody>\n",
       "    <tr>\n",
       "      <th>0</th>\n",
       "      <td>0.0</td>\n",
       "      <td>0.473889</td>\n",
       "      <td>0.161376</td>\n",
       "      <td>0.867042</td>\n",
       "      <td>0.371586</td>\n",
       "      <td>-1.066301</td>\n",
       "      <td>3</td>\n",
       "      <td>True</td>\n",
       "      <td>2.424080</td>\n",
       "    </tr>\n",
       "    <tr>\n",
       "      <th>1</th>\n",
       "      <td>0.0</td>\n",
       "      <td>0.017460</td>\n",
       "      <td>-2.487753</td>\n",
       "      <td>0.901836</td>\n",
       "      <td>-0.973021</td>\n",
       "      <td>0.594602</td>\n",
       "      <td>2</td>\n",
       "      <td>True</td>\n",
       "      <td>1.103296</td>\n",
       "    </tr>\n",
       "    <tr>\n",
       "      <th>2</th>\n",
       "      <td>1.0</td>\n",
       "      <td>0.533479</td>\n",
       "      <td>-1.300794</td>\n",
       "      <td>-0.926063</td>\n",
       "      <td>-0.059875</td>\n",
       "      <td>-1.473821</td>\n",
       "      <td>2</td>\n",
       "      <td>True</td>\n",
       "      <td>0.025776</td>\n",
       "    </tr>\n",
       "    <tr>\n",
       "      <th>3</th>\n",
       "      <td>0.0</td>\n",
       "      <td>0.513628</td>\n",
       "      <td>-1.741902</td>\n",
       "      <td>-1.441672</td>\n",
       "      <td>-2.318848</td>\n",
       "      <td>-1.579816</td>\n",
       "      <td>1</td>\n",
       "      <td>True</td>\n",
       "      <td>-1.382295</td>\n",
       "    </tr>\n",
       "    <tr>\n",
       "      <th>4</th>\n",
       "      <td>1.0</td>\n",
       "      <td>0.012596</td>\n",
       "      <td>-1.311019</td>\n",
       "      <td>0.891431</td>\n",
       "      <td>1.036212</td>\n",
       "      <td>-1.167036</td>\n",
       "      <td>2</td>\n",
       "      <td>True</td>\n",
       "      <td>1.539842</td>\n",
       "    </tr>\n",
       "    <tr>\n",
       "      <th>...</th>\n",
       "      <td>...</td>\n",
       "      <td>...</td>\n",
       "      <td>...</td>\n",
       "      <td>...</td>\n",
       "      <td>...</td>\n",
       "      <td>...</td>\n",
       "      <td>...</td>\n",
       "      <td>...</td>\n",
       "      <td>...</td>\n",
       "    </tr>\n",
       "    <tr>\n",
       "      <th>9995</th>\n",
       "      <td>0.0</td>\n",
       "      <td>0.337673</td>\n",
       "      <td>-1.037515</td>\n",
       "      <td>-0.205281</td>\n",
       "      <td>-0.777979</td>\n",
       "      <td>-0.580181</td>\n",
       "      <td>2</td>\n",
       "      <td>True</td>\n",
       "      <td>0.733308</td>\n",
       "    </tr>\n",
       "    <tr>\n",
       "      <th>9996</th>\n",
       "      <td>1.0</td>\n",
       "      <td>0.631994</td>\n",
       "      <td>-0.176322</td>\n",
       "      <td>1.821385</td>\n",
       "      <td>-0.836248</td>\n",
       "      <td>0.435763</td>\n",
       "      <td>1</td>\n",
       "      <td>True</td>\n",
       "      <td>2.381827</td>\n",
       "    </tr>\n",
       "    <tr>\n",
       "      <th>9997</th>\n",
       "      <td>0.0</td>\n",
       "      <td>0.535659</td>\n",
       "      <td>0.341772</td>\n",
       "      <td>1.481259</td>\n",
       "      <td>-2.618284</td>\n",
       "      <td>-0.365813</td>\n",
       "      <td>0</td>\n",
       "      <td>False</td>\n",
       "      <td>0.410131</td>\n",
       "    </tr>\n",
       "    <tr>\n",
       "      <th>9998</th>\n",
       "      <td>0.0</td>\n",
       "      <td>0.224274</td>\n",
       "      <td>-0.570180</td>\n",
       "      <td>-0.709010</td>\n",
       "      <td>-2.311382</td>\n",
       "      <td>-1.781388</td>\n",
       "      <td>1</td>\n",
       "      <td>False</td>\n",
       "      <td>-1.438794</td>\n",
       "    </tr>\n",
       "    <tr>\n",
       "      <th>9999</th>\n",
       "      <td>0.0</td>\n",
       "      <td>0.083014</td>\n",
       "      <td>0.343749</td>\n",
       "      <td>-0.664035</td>\n",
       "      <td>0.382733</td>\n",
       "      <td>-0.009786</td>\n",
       "      <td>1</td>\n",
       "      <td>True</td>\n",
       "      <td>1.140765</td>\n",
       "    </tr>\n",
       "  </tbody>\n",
       "</table>\n",
       "<p>10000 rows × 9 columns</p>\n",
       "</div>"
      ],
      "text/plain": [
       "       Z0        Z1        W0        W1        W2        W3 W4     v0  \\\n",
       "0     0.0  0.473889  0.161376  0.867042  0.371586 -1.066301  3   True   \n",
       "1     0.0  0.017460 -2.487753  0.901836 -0.973021  0.594602  2   True   \n",
       "2     1.0  0.533479 -1.300794 -0.926063 -0.059875 -1.473821  2   True   \n",
       "3     0.0  0.513628 -1.741902 -1.441672 -2.318848 -1.579816  1   True   \n",
       "4     1.0  0.012596 -1.311019  0.891431  1.036212 -1.167036  2   True   \n",
       "...   ...       ...       ...       ...       ...       ... ..    ...   \n",
       "9995  0.0  0.337673 -1.037515 -0.205281 -0.777979 -0.580181  2   True   \n",
       "9996  1.0  0.631994 -0.176322  1.821385 -0.836248  0.435763  1   True   \n",
       "9997  0.0  0.535659  0.341772  1.481259 -2.618284 -0.365813  0  False   \n",
       "9998  0.0  0.224274 -0.570180 -0.709010 -2.311382 -1.781388  1  False   \n",
       "9999  0.0  0.083014  0.343749 -0.664035  0.382733 -0.009786  1   True   \n",
       "\n",
       "             y  \n",
       "0     2.424080  \n",
       "1     1.103296  \n",
       "2     0.025776  \n",
       "3    -1.382295  \n",
       "4     1.539842  \n",
       "...        ...  \n",
       "9995  0.733308  \n",
       "9996  2.381827  \n",
       "9997  0.410131  \n",
       "9998 -1.438794  \n",
       "9999  1.140765  \n",
       "\n",
       "[10000 rows x 9 columns]"
      ]
     },
     "execution_count": 3,
     "metadata": {},
     "output_type": "execute_result"
    }
   ],
   "source": [
    "data = dowhy.datasets.linear_dataset(beta=1,\n",
    "        num_common_causes=5, \n",
    "        num_instruments = 2,\n",
    "        num_treatments=1,\n",
    "        num_discrete_common_causes=1,\n",
    "        num_samples=10000,\n",
    "        treatment_is_binary=True,\n",
    "        outcome_is_binary=False)\n",
    "df = data[\"df\"]\n",
    "print(df[df.v0==True].shape[0])\n",
    "df"
   ]
  },
  {
   "cell_type": "markdown",
   "id": "0e4d2cd0",
   "metadata": {},
   "source": [
    "Note that we are using a pandas dataframe to load the data."
   ]
  },
  {
   "cell_type": "markdown",
   "id": "2acfe42a",
   "metadata": {},
   "source": [
    "## Identifying the causal estimand"
   ]
  },
  {
   "cell_type": "markdown",
   "id": "ce9f118a",
   "metadata": {},
   "source": [
    "We now input a causal graph in the GML graph format."
   ]
  },
  {
   "cell_type": "code",
   "execution_count": 4,
   "id": "19099428",
   "metadata": {
    "execution": {
     "iopub.execute_input": "2022-08-12T21:14:23.819652Z",
     "iopub.status.busy": "2022-08-12T21:14:23.819417Z",
     "iopub.status.idle": "2022-08-12T21:14:23.843907Z",
     "shell.execute_reply": "2022-08-12T21:14:23.843270Z"
    }
   },
   "outputs": [],
   "source": [
    "# With graph\n",
    "model=CausalModel(\n",
    "        data = df,\n",
    "        treatment=data[\"treatment_name\"],\n",
    "        outcome=data[\"outcome_name\"],\n",
    "        graph=data[\"gml_graph\"],\n",
    "        instruments=data[\"instrument_names\"]\n",
    "        )"
   ]
  },
  {
   "cell_type": "code",
   "execution_count": 5,
   "id": "54afa71e",
   "metadata": {
    "execution": {
     "iopub.execute_input": "2022-08-12T21:14:23.847273Z",
     "iopub.status.busy": "2022-08-12T21:14:23.847028Z",
     "iopub.status.idle": "2022-08-12T21:14:23.902236Z",
     "shell.execute_reply": "2022-08-12T21:14:23.901596Z"
    }
   },
   "outputs": [],
   "source": [
    "model.view_model()"
   ]
  },
  {
   "cell_type": "code",
   "execution_count": 6,
   "id": "b727ba18",
   "metadata": {
    "execution": {
     "iopub.execute_input": "2022-08-12T21:14:23.905624Z",
     "iopub.status.busy": "2022-08-12T21:14:23.905277Z",
     "iopub.status.idle": "2022-08-12T21:14:23.930280Z",
     "shell.execute_reply": "2022-08-12T21:14:23.929753Z"
    }
   },
   "outputs": [
    {
     "data": {
      "image/png": "[encoded data removed]",
      "text/plain": [
       "<IPython.core.display.Image object>"
      ]
     },
     "metadata": {},
     "output_type": "display_data"
    }
   ],
   "source": [
    "from IPython.display import Image, display\n",
    "display(Image(filename=\"causal_model.png\"))"
   ]
  },
  {
   "cell_type": "markdown",
   "id": "10b85369",
   "metadata": {},
   "source": [
    "We get a causal graph. Now identification and estimation is done."
   ]
  },
  {
   "cell_type": "code",
   "execution_count": 7,
   "id": "6e73fa60",
   "metadata": {
    "execution": {
     "iopub.execute_input": "2022-08-12T21:14:23.932957Z",
     "iopub.status.busy": "2022-08-12T21:14:23.932743Z",
     "iopub.status.idle": "2022-08-12T21:14:24.148206Z",
     "shell.execute_reply": "2022-08-12T21:14:24.146830Z"
    }
   },
   "outputs": [
    {
     "name": "stdout",
     "output_type": "stream",
     "text": [
      "Estimand type: nonparametric-ate\n",
      "\n",
      "### Estimand : 1\n",
      "Estimand name: backdoor\n",
      "Estimand expression:\n",
      "  d                       \n",
      "─────(E[y|W0,W1,W3,W2,W4])\n",
      "d[v₀]                     \n",
      "Estimand assumption 1, Unconfoundedness: If U→{v0} and U→y then P(y|v0,W0,W1,W3,W2,W4,U) = P(y|v0,W0,W1,W3,W2,W4)\n",
      "\n",
      "### Estimand : 2\n",
      "Estimand name: iv\n",
      "Estimand expression:\n",
      " ⎡                              -1⎤\n",
      " ⎢    d        ⎛    d          ⎞  ⎥\n",
      "E⎢─────────(y)⋅⎜─────────([v₀])⎟  ⎥\n",
      " ⎣d[Z₁  Z₀]    ⎝d[Z₁  Z₀]      ⎠  ⎦\n",
      "Estimand assumption 1, As-if-random: If U→→y then ¬(U →→{Z1,Z0})\n",
      "Estimand assumption 2, Exclusion: If we remove {Z1,Z0}→{v0}, then ¬({Z1,Z0}→y)\n",
      "\n",
      "### Estimand : 3\n",
      "Estimand name: frontdoor\n",
      "No such variable(s) found!\n",
      "\n"
     ]
    }
   ],
   "source": [
    "identified_estimand = model.identify_effect(proceed_when_unidentifiable=True)\n",
    "print(identified_estimand)"
   ]
  },
  {
   "cell_type": "markdown",
   "id": "1025a1c0",
   "metadata": {},
   "source": [
    "## Method 1: Propensity Score Stratification\n",
    "\n",
    "We will be using propensity scores to stratify units in the data."
   ]
  },
  {
   "cell_type": "code",
   "execution_count": 8,
   "id": "7c97fb21",
   "metadata": {
    "execution": {
     "iopub.execute_input": "2022-08-12T21:14:24.151240Z",
     "iopub.status.busy": "2022-08-12T21:14:24.150735Z",
     "iopub.status.idle": "2022-08-12T21:14:24.789493Z",
     "shell.execute_reply": "2022-08-12T21:14:24.788684Z"
    }
   },
   "outputs": [
    {
     "name": "stdout",
     "output_type": "stream",
     "text": [
      "propensity_score_stratification\n"
     ]
    },
    {
     "name": "stderr",
     "output_type": "stream",
     "text": [
      "/github/home/.cache/pypoetry/virtualenvs/dowhy-oN2hW5jr-py3.8/lib/python3.8/site-packages/sklearn/utils/validation.py:993: DataConversionWarning: A column-vector y was passed when a 1d array was expected. Please change the shape of y to (n_samples, ), for example using ravel().\n",
      "  y = column_or_1d(y, warn=True)\n"
     ]
    },
    {
     "name": "stdout",
     "output_type": "stream",
     "text": [
      "*** Causal Estimate ***\n",
      "\n",
      "## Identified estimand\n",
      "Estimand type: nonparametric-ate\n",
      "\n",
      "### Estimand : 1\n",
      "Estimand name: backdoor\n",
      "Estimand expression:\n",
      "  d                       \n",
      "─────(E[y|W0,W1,W3,W2,W4])\n",
      "d[v₀]                     \n",
      "Estimand assumption 1, Unconfoundedness: If U→{v0} and U→y then P(y|v0,W0,W1,W3,W2,W4,U) = P(y|v0,W0,W1,W3,W2,W4)\n",
      "\n",
      "## Realized estimand\n",
      "b: y~v0+W0+W1+W3+W2+W4\n",
      "Target units: att\n",
      "\n",
      "## Estimate\n",
      "Mean value: 0.9948875819460478\n",
      "\n",
      "Causal Estimate is 0.9948875819460478\n"
     ]
    }
   ],
   "source": [
    "causal_estimate_strat = model.estimate_effect(identified_estimand,\n",
    "                                              method_name=\"backdoor.propensity_score_stratification\",\n",
    "                                              target_units=\"att\")\n",
    "print(causal_estimate_strat)\n",
    "print(\"Causal Estimate is \" + str(causal_estimate_strat.value))"
   ]
  },
  {
   "cell_type": "markdown",
   "id": "5879b51a",
   "metadata": {},
   "source": [
    "### Textual Interpreter\n",
    "\n",
    "The textual Interpreter describes (in words) the effect of unit change in the treatment variable on the outcome variable."
   ]
  },
  {
   "cell_type": "code",
   "execution_count": 9,
   "id": "48bd7a55",
   "metadata": {
    "execution": {
     "iopub.execute_input": "2022-08-12T21:14:24.792922Z",
     "iopub.status.busy": "2022-08-12T21:14:24.792439Z",
     "iopub.status.idle": "2022-08-12T21:14:24.818038Z",
     "shell.execute_reply": "2022-08-12T21:14:24.817417Z"
    }
   },
   "outputs": [
    {
     "name": "stdout",
     "output_type": "stream",
     "text": [
      "Increasing the treatment variable(s) [v0] from 0 to 1 causes an increase of 0.9948875819460478 in the expected value of the outcome [y], over the data distribution/population represented by the dataset.\n"
     ]
    }
   ],
   "source": [
    "# Textual Interpreter\n",
    "interpretation = causal_estimate_strat.interpret(method_name=\"textual_effect_interpreter\")"
   ]
  },
  {
   "cell_type": "markdown",
   "id": "7663dd30",
   "metadata": {},
   "source": [
    "### Visual Interpreter\n",
    "\n",
    "The visual interpreter plots the change in the standardized mean difference (SMD) before and after Propensity Score based adjustment of the dataset. The formula for SMD is given below.\n",
    "\n",
    "\n",
    "$SMD = \\frac{\\bar X_{1} - \\bar X_{2}}{\\sqrt{(S_{1}^{2} + S_{2}^{2})/2}}$\n",
    "\n",
    "Here, $\\bar X_{1}$ and $\\bar X_{2}$ are the sample mean for the treated and control groups.\n"
   ]
  },
  {
   "cell_type": "code",
   "execution_count": 10,
   "id": "9075aa59",
   "metadata": {
    "execution": {
     "iopub.execute_input": "2022-08-12T21:14:24.821449Z",
     "iopub.status.busy": "2022-08-12T21:14:24.820919Z",
     "iopub.status.idle": "2022-08-12T21:14:25.830442Z",
     "shell.execute_reply": "2022-08-12T21:14:25.829762Z"
    }
   },
   "outputs": [
    {
     "data": {
      "image/png": "[encoded data removed]",
      "text/plain": [
       "<Figure size 432x288 with 1 Axes>"
      ]
     },
     "metadata": {
      "needs_background": "light"
     },
     "output_type": "display_data"
    }
   ],
   "source": [
    "# Visual Interpreter\n",
    "interpretation = causal_estimate_strat.interpret(method_name=\"propensity_balance_interpreter\")"
   ]
  },
  {
   "cell_type": "markdown",
   "id": "614a7fc1",
   "metadata": {},
   "source": [
    "This plot shows how the SMD decreases from the unadjusted to the stratified units. "
   ]
  },
  {
   "cell_type": "markdown",
   "id": "8a0c881a",
   "metadata": {},
   "source": [
    "## Method 2: Propensity Score Matching\n",
    "\n",
    "We will be using propensity scores to match units in the data."
   ]
  },
  {
   "cell_type": "code",
   "execution_count": 11,
   "id": "63392899",
   "metadata": {
    "execution": {
     "iopub.execute_input": "2022-08-12T21:14:25.833695Z",
     "iopub.status.busy": "2022-08-12T21:14:25.833330Z",
     "iopub.status.idle": "2022-08-12T21:14:29.481064Z",
     "shell.execute_reply": "2022-08-12T21:14:29.480415Z"
    }
   },
   "outputs": [
    {
     "name": "stdout",
     "output_type": "stream",
     "text": [
      "propensity_score_matching\n"
     ]
    },
    {
     "name": "stderr",
     "output_type": "stream",
     "text": [
      "/github/home/.cache/pypoetry/virtualenvs/dowhy-oN2hW5jr-py3.8/lib/python3.8/site-packages/sklearn/utils/validation.py:993: DataConversionWarning: A column-vector y was passed when a 1d array was expected. Please change the shape of y to (n_samples, ), for example using ravel().\n",
      "  y = column_or_1d(y, warn=True)\n"
     ]
    },
    {
     "name": "stdout",
     "output_type": "stream",
     "text": [
      "*** Causal Estimate ***\n",
      "\n",
      "## Identified estimand\n",
      "Estimand type: nonparametric-ate\n",
      "\n",
      "### Estimand : 1\n",
      "Estimand name: backdoor\n",
      "Estimand expression:\n",
      "  d                       \n",
      "─────(E[y|W0,W1,W3,W2,W4])\n",
      "d[v₀]                     \n",
      "Estimand assumption 1, Unconfoundedness: If U→{v0} and U→y then P(y|v0,W0,W1,W3,W2,W4,U) = P(y|v0,W0,W1,W3,W2,W4)\n",
      "\n",
      "## Realized estimand\n",
      "b: y~v0+W0+W1+W3+W2+W4\n",
      "Target units: atc\n",
      "\n",
      "## Estimate\n",
      "Mean value: 0.9987335514821235\n",
      "\n",
      "Causal Estimate is 0.9987335514821235\n"
     ]
    }
   ],
   "source": [
    "causal_estimate_match = model.estimate_effect(identified_estimand,\n",
    "                                              method_name=\"backdoor.propensity_score_matching\",\n",
    "                                              target_units=\"atc\")\n",
    "print(causal_estimate_match)\n",
    "print(\"Causal Estimate is \" + str(causal_estimate_match.value))"
   ]
  },
  {
   "cell_type": "code",
   "execution_count": 12,
   "id": "89dfa671",
   "metadata": {
    "execution": {
     "iopub.execute_input": "2022-08-12T21:14:29.484403Z",
     "iopub.status.busy": "2022-08-12T21:14:29.483888Z",
     "iopub.status.idle": "2022-08-12T21:14:29.509401Z",
     "shell.execute_reply": "2022-08-12T21:14:29.508750Z"
    }
   },
   "outputs": [
    {
     "name": "stdout",
     "output_type": "stream",
     "text": [
      "Increasing the treatment variable(s) [v0] from 0 to 1 causes an increase of 0.9987335514821235 in the expected value of the outcome [y], over the data distribution/population represented by the dataset.\n"
     ]
    }
   ],
   "source": [
    "# Textual Interpreter\n",
    "interpretation = causal_estimate_match.interpret(method_name=\"textual_effect_interpreter\")"
   ]
  },
  {
   "cell_type": "markdown",
   "id": "65a4ba40",
   "metadata": {},
   "source": [
    "Cannot use propensity balance interpretor here since the interpreter method only supports propensity score stratification estimator."
   ]
  },
  {
   "cell_type": "markdown",
   "id": "5584220b",
   "metadata": {},
   "source": [
    "## Method 3: Weighting\n",
    "\n",
    "We will be using (inverse) propensity scores to assign weights to units in the data. DoWhy supports a few different weighting schemes:\n",
    "1. Vanilla Inverse Propensity Score weighting (IPS) (weighting_scheme=\"ips_weight\")\n",
    "2. Self-normalized IPS weighting (also known as the Hajek estimator) (weighting_scheme=\"ips_normalized_weight\")\n",
    "3. Stabilized IPS weighting (weighting_scheme = \"ips_stabilized_weight\")"
   ]
  },
  {
   "cell_type": "code",
   "execution_count": 13,
   "id": "1aad4f83",
   "metadata": {
    "execution": {
     "iopub.execute_input": "2022-08-12T21:14:29.513031Z",
     "iopub.status.busy": "2022-08-12T21:14:29.512614Z",
     "iopub.status.idle": "2022-08-12T21:14:29.573007Z",
     "shell.execute_reply": "2022-08-12T21:14:29.571490Z"
    }
   },
   "outputs": [
    {
     "name": "stdout",
     "output_type": "stream",
     "text": [
      "propensity_score_weighting\n",
      "*** Causal Estimate ***\n",
      "\n",
      "## Identified estimand\n",
      "Estimand type: nonparametric-ate\n",
      "\n",
      "### Estimand : 1\n",
      "Estimand name: backdoor\n",
      "Estimand expression:\n",
      "  d                       \n",
      "─────(E[y|W0,W1,W3,W2,W4])\n",
      "d[v₀]                     \n",
      "Estimand assumption 1, Unconfoundedness: If U→{v0} and U→y then P(y|v0,W0,W1,W3,W2,W4,U) = P(y|v0,W0,W1,W3,W2,W4)\n",
      "\n",
      "## Realized estimand\n",
      "b: y~v0+W0+W1+W3+W2+W4\n",
      "Target units: ate\n",
      "\n",
      "## Estimate\n",
      "Mean value: 1.117939037453648\n",
      "\n",
      "Causal Estimate is 1.117939037453648\n"
     ]
    },
    {
     "name": "stderr",
     "output_type": "stream",
     "text": [
      "/github/home/.cache/pypoetry/virtualenvs/dowhy-oN2hW5jr-py3.8/lib/python3.8/site-packages/sklearn/utils/validation.py:993: DataConversionWarning: A column-vector y was passed when a 1d array was expected. Please change the shape of y to (n_samples, ), for example using ravel().\n",
      "  y = column_or_1d(y, warn=True)\n"
     ]
    }
   ],
   "source": [
    "causal_estimate_ipw = model.estimate_effect(identified_estimand,\n",
    "                                            method_name=\"backdoor.propensity_score_weighting\",\n",
    "                                            target_units = \"ate\",\n",
    "                                            method_params={\"weighting_scheme\":\"ips_weight\"})\n",
    "print(causal_estimate_ipw)\n",
    "print(\"Causal Estimate is \" + str(causal_estimate_ipw.value))"
   ]
  },
  {
   "cell_type": "code",
   "execution_count": 14,
   "id": "dfa99caa",
   "metadata": {
    "execution": {
     "iopub.execute_input": "2022-08-12T21:14:29.576699Z",
     "iopub.status.busy": "2022-08-12T21:14:29.576453Z",
     "iopub.status.idle": "2022-08-12T21:14:29.601423Z",
     "shell.execute_reply": "2022-08-12T21:14:29.600783Z"
    }
   },
   "outputs": [
    {
     "name": "stdout",
     "output_type": "stream",
     "text": [
      "Increasing the treatment variable(s) [v0] from 0 to 1 causes an increase of 1.117939037453648 in the expected value of the outcome [y], over the data distribution/population represented by the dataset.\n"
     ]
    }
   ],
   "source": [
    "# Textual Interpreter\n",
    "interpretation = causal_estimate_ipw.interpret(method_name=\"textual_effect_interpreter\")"
   ]
  },
  {
   "cell_type": "code",
   "execution_count": 15,
   "id": "2e478314",
   "metadata": {
    "execution": {
     "iopub.execute_input": "2022-08-12T21:14:29.604529Z",
     "iopub.status.busy": "2022-08-12T21:14:29.604298Z",
     "iopub.status.idle": "2022-08-12T21:14:29.836595Z",
     "shell.execute_reply": "2022-08-12T21:14:29.836004Z"
    }
   },
   "outputs": [
    {
     "data": {
      "image/png": "[encoded data removed]",
      "text/plain": [
       "<Figure size 576x576 with 2 Axes>"
      ]
     },
     "metadata": {
      "needs_background": "light"
     },
     "output_type": "display_data"
    }
   ],
   "source": [
    "interpretation = causal_estimate_ipw.interpret(method_name=\"confounder_distribution_interpreter\", fig_size=(8,8), font_size=12, var_name='W4', var_type='discrete')"
   ]
  },
  {
   "cell_type": "code",
   "execution_count": null,
   "id": "073e8267",
   "metadata": {},
   "outputs": [],
   "source": []
  }
 ],
 "metadata": {
  "kernelspec": {
   "display_name": "Python 3",
   "language": "python",
   "name": "python3"
  },
  "language_info": {
   "codemirror_mode": {
    "name": "ipython",
    "version": 3
   },
   "file_extension": ".py",
   "mimetype": "text/x-python",
   "name": "python",
   "nbconvert_exporter": "python",
   "pygments_lexer": "ipython3",
   "version": "3.8.10"
  },
  "toc": {
   "base_numbering": 1,
   "nav_menu": {},
   "number_sections": false,
   "sideBar": true,
   "skip_h1_title": true,
   "title_cell": "Table of Contents",
   "title_sidebar": "Contents",
   "toc_cell": false,
   "toc_position": {},
   "toc_section_display": true,
   "toc_window_display": false
  }
 },
 "nbformat": 4,
 "nbformat_minor": 5
}
