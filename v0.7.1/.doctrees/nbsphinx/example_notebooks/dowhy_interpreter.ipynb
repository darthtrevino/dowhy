{
 "cells": [
  {
   "cell_type": "markdown",
   "id": "6420e8dd",
   "metadata": {},
   "source": [
    "# DoWhy: Interpreters for Causal Estimators\n",
    "\n",
    "This is a quick introduction to the use of interpreters in the DoWhy causal inference library.\n",
    "We will load in a sample dataset, use different methods for estimating the causal effect of a (pre-specified)treatment variable on a (pre-specified) outcome variable and demonstrate how to interpret the obtained results.\n",
    "\n",
    "First, let us add the required path for Python to find the DoWhy code and load all required packages"
   ]
  },
  {
   "cell_type": "code",
   "execution_count": 1,
   "id": "3cdd45be",
   "metadata": {
    "execution": {
     "iopub.execute_input": "2022-08-12T19:29:41.642982Z",
     "iopub.status.busy": "2022-08-12T19:29:41.642579Z",
     "iopub.status.idle": "2022-08-12T19:29:41.658347Z",
     "shell.execute_reply": "2022-08-12T19:29:41.657800Z"
    }
   },
   "outputs": [],
   "source": [
    "%load_ext autoreload\n",
    "%autoreload 2"
   ]
  },
  {
   "cell_type": "code",
   "execution_count": 2,
   "id": "e4b917f3",
   "metadata": {
    "execution": {
     "iopub.execute_input": "2022-08-12T19:29:41.661009Z",
     "iopub.status.busy": "2022-08-12T19:29:41.660811Z",
     "iopub.status.idle": "2022-08-12T19:29:42.590355Z",
     "shell.execute_reply": "2022-08-12T19:29:42.589732Z"
    }
   },
   "outputs": [],
   "source": [
    "import numpy as np\n",
    "import pandas as pd\n",
    "import logging\n",
    "\n",
    "import dowhy\n",
    "from dowhy import CausalModel\n",
    "import dowhy.datasets "
   ]
  },
  {
   "cell_type": "markdown",
   "id": "57844c64",
   "metadata": {},
   "source": [
    "Now, let us load a dataset. For simplicity, we simulate a dataset with linear relationships between common causes and treatment, and common causes and outcome.\n",
    "\n",
    "Beta is the true causal effect."
   ]
  },
  {
   "cell_type": "code",
   "execution_count": 3,
   "id": "9c2be89e",
   "metadata": {
    "execution": {
     "iopub.execute_input": "2022-08-12T19:29:42.594403Z",
     "iopub.status.busy": "2022-08-12T19:29:42.593786Z",
     "iopub.status.idle": "2022-08-12T19:29:42.863445Z",
     "shell.execute_reply": "2022-08-12T19:29:42.862863Z"
    }
   },
   "outputs": [
    {
     "name": "stdout",
     "output_type": "stream",
     "text": [
      "8571\n"
     ]
    },
    {
     "data": {
      "text/html": [
       "<div>\n",
       "<style scoped>\n",
       "    .dataframe tbody tr th:only-of-type {\n",
       "        vertical-align: middle;\n",
       "    }\n",
       "\n",
       "    .dataframe tbody tr th {\n",
       "        vertical-align: top;\n",
       "    }\n",
       "\n",
       "    .dataframe thead th {\n",
       "        text-align: right;\n",
       "    }\n",
       "</style>\n",
       "<table border=\"1\" class=\"dataframe\">\n",
       "  <thead>\n",
       "    <tr style=\"text-align: right;\">\n",
       "      <th></th>\n",
       "      <th>Z0</th>\n",
       "      <th>Z1</th>\n",
       "      <th>W0</th>\n",
       "      <th>W1</th>\n",
       "      <th>W2</th>\n",
       "      <th>W3</th>\n",
       "      <th>W4</th>\n",
       "      <th>v0</th>\n",
       "      <th>y</th>\n",
       "    </tr>\n",
       "  </thead>\n",
       "  <tbody>\n",
       "    <tr>\n",
       "      <th>0</th>\n",
       "      <td>0.0</td>\n",
       "      <td>0.444995</td>\n",
       "      <td>-0.521716</td>\n",
       "      <td>0.570786</td>\n",
       "      <td>1.420659</td>\n",
       "      <td>3.119910</td>\n",
       "      <td>2</td>\n",
       "      <td>True</td>\n",
       "      <td>4.654119</td>\n",
       "    </tr>\n",
       "    <tr>\n",
       "      <th>1</th>\n",
       "      <td>0.0</td>\n",
       "      <td>0.048570</td>\n",
       "      <td>0.393915</td>\n",
       "      <td>0.417996</td>\n",
       "      <td>-0.247063</td>\n",
       "      <td>0.673101</td>\n",
       "      <td>2</td>\n",
       "      <td>True</td>\n",
       "      <td>3.515482</td>\n",
       "    </tr>\n",
       "    <tr>\n",
       "      <th>2</th>\n",
       "      <td>0.0</td>\n",
       "      <td>0.216354</td>\n",
       "      <td>-1.284081</td>\n",
       "      <td>-1.595243</td>\n",
       "      <td>0.898529</td>\n",
       "      <td>0.334250</td>\n",
       "      <td>2</td>\n",
       "      <td>False</td>\n",
       "      <td>0.723503</td>\n",
       "    </tr>\n",
       "    <tr>\n",
       "      <th>3</th>\n",
       "      <td>0.0</td>\n",
       "      <td>0.819881</td>\n",
       "      <td>1.635701</td>\n",
       "      <td>-1.875344</td>\n",
       "      <td>0.147267</td>\n",
       "      <td>0.679509</td>\n",
       "      <td>3</td>\n",
       "      <td>True</td>\n",
       "      <td>3.871284</td>\n",
       "    </tr>\n",
       "    <tr>\n",
       "      <th>4</th>\n",
       "      <td>1.0</td>\n",
       "      <td>0.930318</td>\n",
       "      <td>0.808311</td>\n",
       "      <td>0.137649</td>\n",
       "      <td>1.496135</td>\n",
       "      <td>2.514674</td>\n",
       "      <td>0</td>\n",
       "      <td>True</td>\n",
       "      <td>3.037032</td>\n",
       "    </tr>\n",
       "    <tr>\n",
       "      <th>...</th>\n",
       "      <td>...</td>\n",
       "      <td>...</td>\n",
       "      <td>...</td>\n",
       "      <td>...</td>\n",
       "      <td>...</td>\n",
       "      <td>...</td>\n",
       "      <td>...</td>\n",
       "      <td>...</td>\n",
       "      <td>...</td>\n",
       "    </tr>\n",
       "    <tr>\n",
       "      <th>9995</th>\n",
       "      <td>1.0</td>\n",
       "      <td>0.026351</td>\n",
       "      <td>0.821467</td>\n",
       "      <td>-1.620446</td>\n",
       "      <td>1.077690</td>\n",
       "      <td>0.872199</td>\n",
       "      <td>2</td>\n",
       "      <td>True</td>\n",
       "      <td>3.167164</td>\n",
       "    </tr>\n",
       "    <tr>\n",
       "      <th>9996</th>\n",
       "      <td>0.0</td>\n",
       "      <td>0.184036</td>\n",
       "      <td>-1.143076</td>\n",
       "      <td>-1.165927</td>\n",
       "      <td>1.299578</td>\n",
       "      <td>0.780338</td>\n",
       "      <td>1</td>\n",
       "      <td>False</td>\n",
       "      <td>0.454158</td>\n",
       "    </tr>\n",
       "    <tr>\n",
       "      <th>9997</th>\n",
       "      <td>1.0</td>\n",
       "      <td>0.505003</td>\n",
       "      <td>-0.380326</td>\n",
       "      <td>0.079223</td>\n",
       "      <td>2.313638</td>\n",
       "      <td>1.107375</td>\n",
       "      <td>3</td>\n",
       "      <td>True</td>\n",
       "      <td>5.339940</td>\n",
       "    </tr>\n",
       "    <tr>\n",
       "      <th>9998</th>\n",
       "      <td>0.0</td>\n",
       "      <td>0.556548</td>\n",
       "      <td>-1.246748</td>\n",
       "      <td>-1.852262</td>\n",
       "      <td>1.406597</td>\n",
       "      <td>-0.064626</td>\n",
       "      <td>1</td>\n",
       "      <td>True</td>\n",
       "      <td>0.789210</td>\n",
       "    </tr>\n",
       "    <tr>\n",
       "      <th>9999</th>\n",
       "      <td>0.0</td>\n",
       "      <td>0.254585</td>\n",
       "      <td>1.251923</td>\n",
       "      <td>-2.996424</td>\n",
       "      <td>1.395385</td>\n",
       "      <td>1.033624</td>\n",
       "      <td>0</td>\n",
       "      <td>True</td>\n",
       "      <td>0.742178</td>\n",
       "    </tr>\n",
       "  </tbody>\n",
       "</table>\n",
       "<p>10000 rows × 9 columns</p>\n",
       "</div>"
      ],
      "text/plain": [
       "       Z0        Z1        W0        W1        W2        W3 W4     v0  \\\n",
       "0     0.0  0.444995 -0.521716  0.570786  1.420659  3.119910  2   True   \n",
       "1     0.0  0.048570  0.393915  0.417996 -0.247063  0.673101  2   True   \n",
       "2     0.0  0.216354 -1.284081 -1.595243  0.898529  0.334250  2  False   \n",
       "3     0.0  0.819881  1.635701 -1.875344  0.147267  0.679509  3   True   \n",
       "4     1.0  0.930318  0.808311  0.137649  1.496135  2.514674  0   True   \n",
       "...   ...       ...       ...       ...       ...       ... ..    ...   \n",
       "9995  1.0  0.026351  0.821467 -1.620446  1.077690  0.872199  2   True   \n",
       "9996  0.0  0.184036 -1.143076 -1.165927  1.299578  0.780338  1  False   \n",
       "9997  1.0  0.505003 -0.380326  0.079223  2.313638  1.107375  3   True   \n",
       "9998  0.0  0.556548 -1.246748 -1.852262  1.406597 -0.064626  1   True   \n",
       "9999  0.0  0.254585  1.251923 -2.996424  1.395385  1.033624  0   True   \n",
       "\n",
       "             y  \n",
       "0     4.654119  \n",
       "1     3.515482  \n",
       "2     0.723503  \n",
       "3     3.871284  \n",
       "4     3.037032  \n",
       "...        ...  \n",
       "9995  3.167164  \n",
       "9996  0.454158  \n",
       "9997  5.339940  \n",
       "9998  0.789210  \n",
       "9999  0.742178  \n",
       "\n",
       "[10000 rows x 9 columns]"
      ]
     },
     "execution_count": 3,
     "metadata": {},
     "output_type": "execute_result"
    }
   ],
   "source": [
    "data = dowhy.datasets.linear_dataset(beta=1,\n",
    "        num_common_causes=5, \n",
    "        num_instruments = 2,\n",
    "        num_treatments=1,\n",
    "        num_discrete_common_causes=1,\n",
    "        num_samples=10000,\n",
    "        treatment_is_binary=True,\n",
    "        outcome_is_binary=False)\n",
    "df = data[\"df\"]\n",
    "print(df[df.v0==True].shape[0])\n",
    "df"
   ]
  },
  {
   "cell_type": "markdown",
   "id": "c000a752",
   "metadata": {},
   "source": [
    "Note that we are using a pandas dataframe to load the data."
   ]
  },
  {
   "cell_type": "markdown",
   "id": "86e72e17",
   "metadata": {},
   "source": [
    "## Identifying the causal estimand"
   ]
  },
  {
   "cell_type": "markdown",
   "id": "f3b6ea1e",
   "metadata": {},
   "source": [
    "We now input a causal graph in the GML graph format."
   ]
  },
  {
   "cell_type": "code",
   "execution_count": 4,
   "id": "92aa0b7f",
   "metadata": {
    "execution": {
     "iopub.execute_input": "2022-08-12T19:29:42.867123Z",
     "iopub.status.busy": "2022-08-12T19:29:42.866644Z",
     "iopub.status.idle": "2022-08-12T19:29:42.891004Z",
     "shell.execute_reply": "2022-08-12T19:29:42.890462Z"
    }
   },
   "outputs": [],
   "source": [
    "# With graph\n",
    "model=CausalModel(\n",
    "        data = df,\n",
    "        treatment=data[\"treatment_name\"],\n",
    "        outcome=data[\"outcome_name\"],\n",
    "        graph=data[\"gml_graph\"],\n",
    "        instruments=data[\"instrument_names\"]\n",
    "        )"
   ]
  },
  {
   "cell_type": "code",
   "execution_count": 5,
   "id": "afa7b5d7",
   "metadata": {
    "execution": {
     "iopub.execute_input": "2022-08-12T19:29:42.894021Z",
     "iopub.status.busy": "2022-08-12T19:29:42.893591Z",
     "iopub.status.idle": "2022-08-12T19:29:42.948245Z",
     "shell.execute_reply": "2022-08-12T19:29:42.947607Z"
    }
   },
   "outputs": [],
   "source": [
    "model.view_model()"
   ]
  },
  {
   "cell_type": "code",
   "execution_count": 6,
   "id": "89512dba",
   "metadata": {
    "execution": {
     "iopub.execute_input": "2022-08-12T19:29:42.952132Z",
     "iopub.status.busy": "2022-08-12T19:29:42.951577Z",
     "iopub.status.idle": "2022-08-12T19:29:42.976601Z",
     "shell.execute_reply": "2022-08-12T19:29:42.976044Z"
    }
   },
   "outputs": [
    {
     "data": {
      "image/png": "[encoded data removed]",
      "text/plain": [
       "<IPython.core.display.Image object>"
      ]
     },
     "metadata": {},
     "output_type": "display_data"
    }
   ],
   "source": [
    "from IPython.display import Image, display\n",
    "display(Image(filename=\"causal_model.png\"))"
   ]
  },
  {
   "cell_type": "markdown",
   "id": "d7ec0707",
   "metadata": {},
   "source": [
    "We get a causal graph. Now identification and estimation is done."
   ]
  },
  {
   "cell_type": "code",
   "execution_count": 7,
   "id": "0e4eeaa9",
   "metadata": {
    "execution": {
     "iopub.execute_input": "2022-08-12T19:29:42.979864Z",
     "iopub.status.busy": "2022-08-12T19:29:42.979394Z",
     "iopub.status.idle": "2022-08-12T19:29:43.191312Z",
     "shell.execute_reply": "2022-08-12T19:29:43.190684Z"
    }
   },
   "outputs": [
    {
     "name": "stdout",
     "output_type": "stream",
     "text": [
      "Estimand type: nonparametric-ate\n",
      "\n",
      "### Estimand : 1\n",
      "Estimand name: backdoor\n",
      "Estimand expression:\n",
      "  d                       \n",
      "─────(E[y|W4,W3,W2,W0,W1])\n",
      "d[v₀]                     \n",
      "Estimand assumption 1, Unconfoundedness: If U→{v0} and U→y then P(y|v0,W4,W3,W2,W0,W1,U) = P(y|v0,W4,W3,W2,W0,W1)\n",
      "\n",
      "### Estimand : 2\n",
      "Estimand name: iv\n",
      "Estimand expression:\n",
      " ⎡                              -1⎤\n",
      " ⎢    d        ⎛    d          ⎞  ⎥\n",
      "E⎢─────────(y)⋅⎜─────────([v₀])⎟  ⎥\n",
      " ⎣d[Z₁  Z₀]    ⎝d[Z₁  Z₀]      ⎠  ⎦\n",
      "Estimand assumption 1, As-if-random: If U→→y then ¬(U →→{Z1,Z0})\n",
      "Estimand assumption 2, Exclusion: If we remove {Z1,Z0}→{v0}, then ¬({Z1,Z0}→y)\n",
      "\n",
      "### Estimand : 3\n",
      "Estimand name: frontdoor\n",
      "No such variable(s) found!\n",
      "\n"
     ]
    }
   ],
   "source": [
    "identified_estimand = model.identify_effect(proceed_when_unidentifiable=True)\n",
    "print(identified_estimand)"
   ]
  },
  {
   "cell_type": "markdown",
   "id": "1eb8e460",
   "metadata": {},
   "source": [
    "## Method 1: Propensity Score Stratification\n",
    "\n",
    "We will be using propensity scores to stratify units in the data."
   ]
  },
  {
   "cell_type": "code",
   "execution_count": 8,
   "id": "a14eb59e",
   "metadata": {
    "execution": {
     "iopub.execute_input": "2022-08-12T19:29:43.195619Z",
     "iopub.status.busy": "2022-08-12T19:29:43.194471Z",
     "iopub.status.idle": "2022-08-12T19:29:43.852096Z",
     "shell.execute_reply": "2022-08-12T19:29:43.851493Z"
    }
   },
   "outputs": [
    {
     "name": "stdout",
     "output_type": "stream",
     "text": [
      "propensity_score_stratification\n"
     ]
    },
    {
     "name": "stderr",
     "output_type": "stream",
     "text": [
      "/github/home/.cache/pypoetry/virtualenvs/dowhy-oN2hW5jr-py3.8/lib/python3.8/site-packages/sklearn/utils/validation.py:993: DataConversionWarning: A column-vector y was passed when a 1d array was expected. Please change the shape of y to (n_samples, ), for example using ravel().\n",
      "  y = column_or_1d(y, warn=True)\n"
     ]
    },
    {
     "name": "stdout",
     "output_type": "stream",
     "text": [
      "*** Causal Estimate ***\n",
      "\n",
      "## Identified estimand\n",
      "Estimand type: nonparametric-ate\n",
      "\n",
      "### Estimand : 1\n",
      "Estimand name: backdoor\n",
      "Estimand expression:\n",
      "  d                       \n",
      "─────(E[y|W4,W3,W2,W0,W1])\n",
      "d[v₀]                     \n",
      "Estimand assumption 1, Unconfoundedness: If U→{v0} and U→y then P(y|v0,W4,W3,W2,W0,W1,U) = P(y|v0,W4,W3,W2,W0,W1)\n",
      "\n",
      "## Realized estimand\n",
      "b: y~v0+W4+W3+W2+W0+W1\n",
      "Target units: att\n",
      "\n",
      "## Estimate\n",
      "Mean value: 0.9906454621506684\n",
      "\n",
      "Causal Estimate is 0.9906454621506684\n"
     ]
    }
   ],
   "source": [
    "causal_estimate_strat = model.estimate_effect(identified_estimand,\n",
    "                                              method_name=\"backdoor.propensity_score_stratification\",\n",
    "                                              target_units=\"att\")\n",
    "print(causal_estimate_strat)\n",
    "print(\"Causal Estimate is \" + str(causal_estimate_strat.value))"
   ]
  },
  {
   "cell_type": "markdown",
   "id": "c526cf11",
   "metadata": {},
   "source": [
    "### Textual Interpreter\n",
    "\n",
    "The textual Interpreter describes (in words) the effect of unit change in the treatment variable on the outcome variable."
   ]
  },
  {
   "cell_type": "code",
   "execution_count": 9,
   "id": "50209e09",
   "metadata": {
    "execution": {
     "iopub.execute_input": "2022-08-12T19:29:43.854919Z",
     "iopub.status.busy": "2022-08-12T19:29:43.854583Z",
     "iopub.status.idle": "2022-08-12T19:29:43.880508Z",
     "shell.execute_reply": "2022-08-12T19:29:43.879935Z"
    }
   },
   "outputs": [
    {
     "name": "stdout",
     "output_type": "stream",
     "text": [
      "Increasing the treatment variable(s) [v0] from 0 to 1 causes an increase of 0.9906454621506684 in the expected value of the outcome [y], over the data distribution/population represented by the dataset.\n"
     ]
    }
   ],
   "source": [
    "# Textual Interpreter\n",
    "interpretation = causal_estimate_strat.interpret(method_name=\"textual_effect_interpreter\")"
   ]
  },
  {
   "cell_type": "markdown",
   "id": "c669ae80",
   "metadata": {},
   "source": [
    "### Visual Interpreter\n",
    "\n",
    "The visual interpreter plots the change in the standardized mean difference (SMD) before and after Propensity Score based adjustment of the dataset. The formula for SMD is given below.\n",
    "\n",
    "\n",
    "$SMD = \\frac{\\bar X_{1} - \\bar X_{2}}{\\sqrt{(S_{1}^{2} + S_{2}^{2})/2}}$\n",
    "\n",
    "Here, $\\bar X_{1}$ and $\\bar X_{2}$ are the sample mean for the treated and control groups.\n"
   ]
  },
  {
   "cell_type": "code",
   "execution_count": 10,
   "id": "17c71984",
   "metadata": {
    "execution": {
     "iopub.execute_input": "2022-08-12T19:29:43.883604Z",
     "iopub.status.busy": "2022-08-12T19:29:43.883285Z",
     "iopub.status.idle": "2022-08-12T19:29:44.884114Z",
     "shell.execute_reply": "2022-08-12T19:29:44.883497Z"
    }
   },
   "outputs": [
    {
     "data": {
      "image/png": "[encoded data removed]",
      "text/plain": [
       "<Figure size 432x288 with 1 Axes>"
      ]
     },
     "metadata": {
      "needs_background": "light"
     },
     "output_type": "display_data"
    }
   ],
   "source": [
    "# Visual Interpreter\n",
    "interpretation = causal_estimate_strat.interpret(method_name=\"propensity_balance_interpreter\")"
   ]
  },
  {
   "cell_type": "markdown",
   "id": "ed7dfb26",
   "metadata": {},
   "source": [
    "This plot shows how the SMD decreases from the unadjusted to the stratified units. "
   ]
  },
  {
   "cell_type": "markdown",
   "id": "38252781",
   "metadata": {},
   "source": [
    "## Method 2: Propensity Score Matching\n",
    "\n",
    "We will be using propensity scores to match units in the data."
   ]
  },
  {
   "cell_type": "code",
   "execution_count": 11,
   "id": "184f65c8",
   "metadata": {
    "execution": {
     "iopub.execute_input": "2022-08-12T19:29:44.887979Z",
     "iopub.status.busy": "2022-08-12T19:29:44.887324Z",
     "iopub.status.idle": "2022-08-12T19:29:48.480847Z",
     "shell.execute_reply": "2022-08-12T19:29:48.480220Z"
    }
   },
   "outputs": [
    {
     "name": "stdout",
     "output_type": "stream",
     "text": [
      "propensity_score_matching\n"
     ]
    },
    {
     "name": "stderr",
     "output_type": "stream",
     "text": [
      "/github/home/.cache/pypoetry/virtualenvs/dowhy-oN2hW5jr-py3.8/lib/python3.8/site-packages/sklearn/utils/validation.py:993: DataConversionWarning: A column-vector y was passed when a 1d array was expected. Please change the shape of y to (n_samples, ), for example using ravel().\n",
      "  y = column_or_1d(y, warn=True)\n"
     ]
    },
    {
     "name": "stdout",
     "output_type": "stream",
     "text": [
      "*** Causal Estimate ***\n",
      "\n",
      "## Identified estimand\n",
      "Estimand type: nonparametric-ate\n",
      "\n",
      "### Estimand : 1\n",
      "Estimand name: backdoor\n",
      "Estimand expression:\n",
      "  d                       \n",
      "─────(E[y|W4,W3,W2,W0,W1])\n",
      "d[v₀]                     \n",
      "Estimand assumption 1, Unconfoundedness: If U→{v0} and U→y then P(y|v0,W4,W3,W2,W0,W1,U) = P(y|v0,W4,W3,W2,W0,W1)\n",
      "\n",
      "## Realized estimand\n",
      "b: y~v0+W4+W3+W2+W0+W1\n",
      "Target units: atc\n",
      "\n",
      "## Estimate\n",
      "Mean value: 0.9742496367864077\n",
      "\n",
      "Causal Estimate is 0.9742496367864077\n"
     ]
    }
   ],
   "source": [
    "causal_estimate_match = model.estimate_effect(identified_estimand,\n",
    "                                              method_name=\"backdoor.propensity_score_matching\",\n",
    "                                              target_units=\"atc\")\n",
    "print(causal_estimate_match)\n",
    "print(\"Causal Estimate is \" + str(causal_estimate_match.value))"
   ]
  },
  {
   "cell_type": "code",
   "execution_count": 12,
   "id": "adde21da",
   "metadata": {
    "execution": {
     "iopub.execute_input": "2022-08-12T19:29:48.483982Z",
     "iopub.status.busy": "2022-08-12T19:29:48.483631Z",
     "iopub.status.idle": "2022-08-12T19:29:48.507704Z",
     "shell.execute_reply": "2022-08-12T19:29:48.507131Z"
    }
   },
   "outputs": [
    {
     "name": "stdout",
     "output_type": "stream",
     "text": [
      "Increasing the treatment variable(s) [v0] from 0 to 1 causes an increase of 0.9742496367864077 in the expected value of the outcome [y], over the data distribution/population represented by the dataset.\n"
     ]
    }
   ],
   "source": [
    "# Textual Interpreter\n",
    "interpretation = causal_estimate_match.interpret(method_name=\"textual_effect_interpreter\")"
   ]
  },
  {
   "cell_type": "markdown",
   "id": "338b5b59",
   "metadata": {},
   "source": [
    "Cannot use propensity balance interpretor here since the interpreter method only supports propensity score stratification estimator."
   ]
  },
  {
   "cell_type": "markdown",
   "id": "d5f939ec",
   "metadata": {},
   "source": [
    "## Method 3: Weighting\n",
    "\n",
    "We will be using (inverse) propensity scores to assign weights to units in the data. DoWhy supports a few different weighting schemes:\n",
    "1. Vanilla Inverse Propensity Score weighting (IPS) (weighting_scheme=\"ips_weight\")\n",
    "2. Self-normalized IPS weighting (also known as the Hajek estimator) (weighting_scheme=\"ips_normalized_weight\")\n",
    "3. Stabilized IPS weighting (weighting_scheme = \"ips_stabilized_weight\")"
   ]
  },
  {
   "cell_type": "code",
   "execution_count": 13,
   "id": "2a303fa5",
   "metadata": {
    "execution": {
     "iopub.execute_input": "2022-08-12T19:29:48.510724Z",
     "iopub.status.busy": "2022-08-12T19:29:48.510400Z",
     "iopub.status.idle": "2022-08-12T19:29:48.567827Z",
     "shell.execute_reply": "2022-08-12T19:29:48.567199Z"
    }
   },
   "outputs": [
    {
     "name": "stdout",
     "output_type": "stream",
     "text": [
      "propensity_score_weighting\n",
      "*** Causal Estimate ***\n",
      "\n",
      "## Identified estimand\n",
      "Estimand type: nonparametric-ate\n",
      "\n",
      "### Estimand : 1\n",
      "Estimand name: backdoor\n",
      "Estimand expression:\n",
      "  d                       \n",
      "─────(E[y|W4,W3,W2,W0,W1])\n",
      "d[v₀]                     \n",
      "Estimand assumption 1, Unconfoundedness: If U→{v0} and U→y then P(y|v0,W4,W3,W2,W0,W1,U) = P(y|v0,W4,W3,W2,W0,W1)\n",
      "\n",
      "## Realized estimand\n",
      "b: y~v0+W4+W3+W2+W0+W1\n",
      "Target units: ate\n",
      "\n",
      "## Estimate\n",
      "Mean value: 1.106192566933264\n",
      "\n",
      "Causal Estimate is 1.106192566933264\n"
     ]
    },
    {
     "name": "stderr",
     "output_type": "stream",
     "text": [
      "/github/home/.cache/pypoetry/virtualenvs/dowhy-oN2hW5jr-py3.8/lib/python3.8/site-packages/sklearn/utils/validation.py:993: DataConversionWarning: A column-vector y was passed when a 1d array was expected. Please change the shape of y to (n_samples, ), for example using ravel().\n",
      "  y = column_or_1d(y, warn=True)\n"
     ]
    }
   ],
   "source": [
    "causal_estimate_ipw = model.estimate_effect(identified_estimand,\n",
    "                                            method_name=\"backdoor.propensity_score_weighting\",\n",
    "                                            target_units = \"ate\",\n",
    "                                            method_params={\"weighting_scheme\":\"ips_weight\"})\n",
    "print(causal_estimate_ipw)\n",
    "print(\"Causal Estimate is \" + str(causal_estimate_ipw.value))"
   ]
  },
  {
   "cell_type": "code",
   "execution_count": 14,
   "id": "51a1c260",
   "metadata": {
    "execution": {
     "iopub.execute_input": "2022-08-12T19:29:48.570819Z",
     "iopub.status.busy": "2022-08-12T19:29:48.570595Z",
     "iopub.status.idle": "2022-08-12T19:29:48.595064Z",
     "shell.execute_reply": "2022-08-12T19:29:48.594504Z"
    }
   },
   "outputs": [
    {
     "name": "stdout",
     "output_type": "stream",
     "text": [
      "Increasing the treatment variable(s) [v0] from 0 to 1 causes an increase of 1.106192566933264 in the expected value of the outcome [y], over the data distribution/population represented by the dataset.\n"
     ]
    }
   ],
   "source": [
    "# Textual Interpreter\n",
    "interpretation = causal_estimate_ipw.interpret(method_name=\"textual_effect_interpreter\")"
   ]
  },
  {
   "cell_type": "code",
   "execution_count": 15,
   "id": "897f1035",
   "metadata": {
    "execution": {
     "iopub.execute_input": "2022-08-12T19:29:48.597969Z",
     "iopub.status.busy": "2022-08-12T19:29:48.597753Z",
     "iopub.status.idle": "2022-08-12T19:29:48.827775Z",
     "shell.execute_reply": "2022-08-12T19:29:48.827174Z"
    }
   },
   "outputs": [
    {
     "data": {
      "image/png": "[encoded data removed]",
      "text/plain": [
       "<Figure size 576x576 with 2 Axes>"
      ]
     },
     "metadata": {
      "needs_background": "light"
     },
     "output_type": "display_data"
    }
   ],
   "source": [
    "interpretation = causal_estimate_ipw.interpret(method_name=\"confounder_distribution_interpreter\", fig_size=(8,8), font_size=12, var_name='W4', var_type='discrete')"
   ]
  },
  {
   "cell_type": "code",
   "execution_count": null,
   "id": "0e6ed426",
   "metadata": {},
   "outputs": [],
   "source": []
  }
 ],
 "metadata": {
  "kernelspec": {
   "display_name": "Python 3",
   "language": "python",
   "name": "python3"
  },
  "language_info": {
   "codemirror_mode": {
    "name": "ipython",
    "version": 3
   },
   "file_extension": ".py",
   "mimetype": "text/x-python",
   "name": "python",
   "nbconvert_exporter": "python",
   "pygments_lexer": "ipython3",
   "version": "3.8.10"
  },
  "toc": {
   "base_numbering": 1,
   "nav_menu": {},
   "number_sections": false,
   "sideBar": true,
   "skip_h1_title": true,
   "title_cell": "Table of Contents",
   "title_sidebar": "Contents",
   "toc_cell": false,
   "toc_position": {},
   "toc_section_display": true,
   "toc_window_display": false
  }
 },
 "nbformat": 4,
 "nbformat_minor": 5
}
