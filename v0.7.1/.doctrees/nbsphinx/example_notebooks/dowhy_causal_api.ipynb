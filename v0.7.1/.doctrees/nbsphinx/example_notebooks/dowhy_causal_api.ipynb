{
 "cells": [
  {
   "cell_type": "markdown",
   "metadata": {},
   "source": [
    "# Demo for the DoWhy causal API\n",
    "We show a simple example of adding a causal extension to any dataframe. "
   ]
  },
  {
   "cell_type": "code",
   "execution_count": 1,
   "metadata": {
    "execution": {
     "iopub.execute_input": "2022-09-01T16:51:05.557880Z",
     "iopub.status.busy": "2022-09-01T16:51:05.557634Z",
     "iopub.status.idle": "2022-09-01T16:51:06.629001Z",
     "shell.execute_reply": "2022-09-01T16:51:06.628350Z"
    }
   },
   "outputs": [],
   "source": [
    "import dowhy.datasets\n",
    "import dowhy.api\n",
    "\n",
    "import numpy as np\n",
    "import pandas as pd\n",
    "\n",
    "from statsmodels.api import OLS"
   ]
  },
  {
   "cell_type": "code",
   "execution_count": 2,
   "metadata": {
    "execution": {
     "iopub.execute_input": "2022-09-01T16:51:06.633015Z",
     "iopub.status.busy": "2022-09-01T16:51:06.632353Z",
     "iopub.status.idle": "2022-09-01T16:51:06.673639Z",
     "shell.execute_reply": "2022-09-01T16:51:06.673050Z"
    }
   },
   "outputs": [
    {
     "data": {
      "text/html": [
       "<div>\n",
       "<style scoped>\n",
       "    .dataframe tbody tr th:only-of-type {\n",
       "        vertical-align: middle;\n",
       "    }\n",
       "\n",
       "    .dataframe tbody tr th {\n",
       "        vertical-align: top;\n",
       "    }\n",
       "\n",
       "    .dataframe thead th {\n",
       "        text-align: right;\n",
       "    }\n",
       "</style>\n",
       "<table border=\"1\" class=\"dataframe\">\n",
       "  <thead>\n",
       "    <tr style=\"text-align: right;\">\n",
       "      <th></th>\n",
       "      <th>W0</th>\n",
       "      <th>v0</th>\n",
       "      <th>y</th>\n",
       "    </tr>\n",
       "  </thead>\n",
       "  <tbody>\n",
       "    <tr>\n",
       "      <th>0</th>\n",
       "      <td>0.043442</td>\n",
       "      <td>False</td>\n",
       "      <td>0.951002</td>\n",
       "    </tr>\n",
       "    <tr>\n",
       "      <th>1</th>\n",
       "      <td>-1.499520</td>\n",
       "      <td>False</td>\n",
       "      <td>-4.136193</td>\n",
       "    </tr>\n",
       "    <tr>\n",
       "      <th>2</th>\n",
       "      <td>-0.304240</td>\n",
       "      <td>False</td>\n",
       "      <td>0.278873</td>\n",
       "    </tr>\n",
       "    <tr>\n",
       "      <th>3</th>\n",
       "      <td>0.716820</td>\n",
       "      <td>False</td>\n",
       "      <td>0.965639</td>\n",
       "    </tr>\n",
       "    <tr>\n",
       "      <th>4</th>\n",
       "      <td>-0.020028</td>\n",
       "      <td>False</td>\n",
       "      <td>0.354954</td>\n",
       "    </tr>\n",
       "    <tr>\n",
       "      <th>...</th>\n",
       "      <td>...</td>\n",
       "      <td>...</td>\n",
       "      <td>...</td>\n",
       "    </tr>\n",
       "    <tr>\n",
       "      <th>995</th>\n",
       "      <td>-0.696504</td>\n",
       "      <td>False</td>\n",
       "      <td>-2.461603</td>\n",
       "    </tr>\n",
       "    <tr>\n",
       "      <th>996</th>\n",
       "      <td>-0.928783</td>\n",
       "      <td>False</td>\n",
       "      <td>-1.393188</td>\n",
       "    </tr>\n",
       "    <tr>\n",
       "      <th>997</th>\n",
       "      <td>1.254098</td>\n",
       "      <td>True</td>\n",
       "      <td>7.919285</td>\n",
       "    </tr>\n",
       "    <tr>\n",
       "      <th>998</th>\n",
       "      <td>0.113046</td>\n",
       "      <td>False</td>\n",
       "      <td>0.827747</td>\n",
       "    </tr>\n",
       "    <tr>\n",
       "      <th>999</th>\n",
       "      <td>-0.520308</td>\n",
       "      <td>False</td>\n",
       "      <td>-1.507353</td>\n",
       "    </tr>\n",
       "  </tbody>\n",
       "</table>\n",
       "<p>1000 rows × 3 columns</p>\n",
       "</div>"
      ],
      "text/plain": [
       "           W0     v0         y\n",
       "0    0.043442  False  0.951002\n",
       "1   -1.499520  False -4.136193\n",
       "2   -0.304240  False  0.278873\n",
       "3    0.716820  False  0.965639\n",
       "4   -0.020028  False  0.354954\n",
       "..        ...    ...       ...\n",
       "995 -0.696504  False -2.461603\n",
       "996 -0.928783  False -1.393188\n",
       "997  1.254098   True  7.919285\n",
       "998  0.113046  False  0.827747\n",
       "999 -0.520308  False -1.507353\n",
       "\n",
       "[1000 rows x 3 columns]"
      ]
     },
     "execution_count": 2,
     "metadata": {},
     "output_type": "execute_result"
    }
   ],
   "source": [
    "data = dowhy.datasets.linear_dataset(beta=5,\n",
    "        num_common_causes=1,\n",
    "        num_instruments = 0,\n",
    "        num_samples=1000,\n",
    "        treatment_is_binary=True)\n",
    "df = data['df']\n",
    "df['y'] = df['y'] + np.random.normal(size=len(df)) # Adding noise to data. Without noise, the variance in Y|X, Z is zero, and mcmc fails.\n",
    "#data['dot_graph'] = 'digraph { v ->y;X0-> v;X0-> y;}'\n",
    "\n",
    "treatment= data[\"treatment_name\"][0]\n",
    "outcome = data[\"outcome_name\"][0]\n",
    "common_cause = data[\"common_causes_names\"][0]\n",
    "df"
   ]
  },
  {
   "cell_type": "code",
   "execution_count": 3,
   "metadata": {
    "execution": {
     "iopub.execute_input": "2022-09-01T16:51:06.677511Z",
     "iopub.status.busy": "2022-09-01T16:51:06.676350Z",
     "iopub.status.idle": "2022-09-01T16:51:07.421226Z",
     "shell.execute_reply": "2022-09-01T16:51:07.420675Z"
    }
   },
   "outputs": [
    {
     "data": {
      "text/plain": [
       "<AxesSubplot:xlabel='v0'>"
      ]
     },
     "execution_count": 3,
     "metadata": {},
     "output_type": "execute_result"
    },
    {
     "data": {
      "image/png": "[encoded data removed]",
      "text/plain": [
       "<Figure size 640x480 with 1 Axes>"
      ]
     },
     "metadata": {},
     "output_type": "display_data"
    }
   ],
   "source": [
    "# data['df'] is just a regular pandas.DataFrame\n",
    "df.causal.do(x=treatment,\n",
    "                     variable_types={treatment: 'b', outcome: 'c', common_cause: 'c'},\n",
    "                     outcome=outcome,\n",
    "                     common_causes=[common_cause],\n",
    "                     proceed_when_unidentifiable=True).groupby(treatment).mean().plot(y=outcome, kind='bar')"
   ]
  },
  {
   "cell_type": "code",
   "execution_count": 4,
   "metadata": {
    "execution": {
     "iopub.execute_input": "2022-09-01T16:51:07.424125Z",
     "iopub.status.busy": "2022-09-01T16:51:07.423594Z",
     "iopub.status.idle": "2022-09-01T16:51:07.523519Z",
     "shell.execute_reply": "2022-09-01T16:51:07.522930Z"
    }
   },
   "outputs": [
    {
     "data": {
      "text/plain": [
       "<AxesSubplot:xlabel='v0'>"
      ]
     },
     "execution_count": 4,
     "metadata": {},
     "output_type": "execute_result"
    },
    {
     "data": {
      "image/png": "[encoded data removed]",
      "text/plain": [
       "<Figure size 640x480 with 1 Axes>"
      ]
     },
     "metadata": {},
     "output_type": "display_data"
    }
   ],
   "source": [
    "df.causal.do(x={treatment: 1}, \n",
    "              variable_types={treatment:'b', outcome: 'c', common_cause: 'c'}, \n",
    "              outcome=outcome,\n",
    "              method='weighting', \n",
    "              common_causes=[common_cause],\n",
    "              proceed_when_unidentifiable=True).groupby(treatment).mean().plot(y=outcome, kind='bar')"
   ]
  },
  {
   "cell_type": "code",
   "execution_count": 5,
   "metadata": {
    "execution": {
     "iopub.execute_input": "2022-09-01T16:51:07.527782Z",
     "iopub.status.busy": "2022-09-01T16:51:07.526577Z",
     "iopub.status.idle": "2022-09-01T16:51:07.557116Z",
     "shell.execute_reply": "2022-09-01T16:51:07.556496Z"
    }
   },
   "outputs": [],
   "source": [
    "cdf_1 = df.causal.do(x={treatment: 1}, \n",
    "              variable_types={treatment: 'b', outcome: 'c', common_cause: 'c'}, \n",
    "              outcome=outcome, \n",
    "              dot_graph=data['dot_graph'],\n",
    "              proceed_when_unidentifiable=True)\n",
    "\n",
    "cdf_0 = df.causal.do(x={treatment: 0}, \n",
    "              variable_types={treatment: 'b', outcome: 'c', common_cause: 'c'}, \n",
    "              outcome=outcome, \n",
    "              dot_graph=data['dot_graph'],\n",
    "              proceed_when_unidentifiable=True)\n"
   ]
  },
  {
   "cell_type": "code",
   "execution_count": 6,
   "metadata": {
    "execution": {
     "iopub.execute_input": "2022-09-01T16:51:07.560301Z",
     "iopub.status.busy": "2022-09-01T16:51:07.559970Z",
     "iopub.status.idle": "2022-09-01T16:51:07.571883Z",
     "shell.execute_reply": "2022-09-01T16:51:07.571320Z"
    },
    "scrolled": true
   },
   "outputs": [
    {
     "data": {
      "text/html": [
       "<div>\n",
       "<style scoped>\n",
       "    .dataframe tbody tr th:only-of-type {\n",
       "        vertical-align: middle;\n",
       "    }\n",
       "\n",
       "    .dataframe tbody tr th {\n",
       "        vertical-align: top;\n",
       "    }\n",
       "\n",
       "    .dataframe thead th {\n",
       "        text-align: right;\n",
       "    }\n",
       "</style>\n",
       "<table border=\"1\" class=\"dataframe\">\n",
       "  <thead>\n",
       "    <tr style=\"text-align: right;\">\n",
       "      <th></th>\n",
       "      <th>W0</th>\n",
       "      <th>v0</th>\n",
       "      <th>y</th>\n",
       "      <th>propensity_score</th>\n",
       "      <th>weight</th>\n",
       "    </tr>\n",
       "  </thead>\n",
       "  <tbody>\n",
       "    <tr>\n",
       "      <th>0</th>\n",
       "      <td>-1.560016</td>\n",
       "      <td>False</td>\n",
       "      <td>-3.694463</td>\n",
       "      <td>0.651513</td>\n",
       "      <td>1.534889</td>\n",
       "    </tr>\n",
       "    <tr>\n",
       "      <th>1</th>\n",
       "      <td>0.817575</td>\n",
       "      <td>False</td>\n",
       "      <td>0.839890</td>\n",
       "      <td>0.431016</td>\n",
       "      <td>2.320100</td>\n",
       "    </tr>\n",
       "    <tr>\n",
       "      <th>2</th>\n",
       "      <td>0.816961</td>\n",
       "      <td>False</td>\n",
       "      <td>0.048199</td>\n",
       "      <td>0.431073</td>\n",
       "      <td>2.319792</td>\n",
       "    </tr>\n",
       "    <tr>\n",
       "      <th>3</th>\n",
       "      <td>1.305865</td>\n",
       "      <td>False</td>\n",
       "      <td>3.394389</td>\n",
       "      <td>0.386217</td>\n",
       "      <td>2.589216</td>\n",
       "    </tr>\n",
       "    <tr>\n",
       "      <th>4</th>\n",
       "      <td>-0.817016</td>\n",
       "      <td>False</td>\n",
       "      <td>-3.745344</td>\n",
       "      <td>0.585012</td>\n",
       "      <td>1.709368</td>\n",
       "    </tr>\n",
       "    <tr>\n",
       "      <th>...</th>\n",
       "      <td>...</td>\n",
       "      <td>...</td>\n",
       "      <td>...</td>\n",
       "      <td>...</td>\n",
       "      <td>...</td>\n",
       "    </tr>\n",
       "    <tr>\n",
       "      <th>995</th>\n",
       "      <td>0.076379</td>\n",
       "      <td>False</td>\n",
       "      <td>1.763547</td>\n",
       "      <td>0.500980</td>\n",
       "      <td>1.996086</td>\n",
       "    </tr>\n",
       "    <tr>\n",
       "      <th>996</th>\n",
       "      <td>1.173692</td>\n",
       "      <td>False</td>\n",
       "      <td>2.687989</td>\n",
       "      <td>0.398188</td>\n",
       "      <td>2.511374</td>\n",
       "    </tr>\n",
       "    <tr>\n",
       "      <th>997</th>\n",
       "      <td>-0.627517</td>\n",
       "      <td>False</td>\n",
       "      <td>-1.268152</td>\n",
       "      <td>0.567431</td>\n",
       "      <td>1.762328</td>\n",
       "    </tr>\n",
       "    <tr>\n",
       "      <th>998</th>\n",
       "      <td>3.128447</td>\n",
       "      <td>False</td>\n",
       "      <td>7.014053</td>\n",
       "      <td>0.239439</td>\n",
       "      <td>4.176433</td>\n",
       "    </tr>\n",
       "    <tr>\n",
       "      <th>999</th>\n",
       "      <td>0.269882</td>\n",
       "      <td>False</td>\n",
       "      <td>1.918052</td>\n",
       "      <td>0.482606</td>\n",
       "      <td>2.072082</td>\n",
       "    </tr>\n",
       "  </tbody>\n",
       "</table>\n",
       "<p>1000 rows × 5 columns</p>\n",
       "</div>"
      ],
      "text/plain": [
       "           W0     v0         y  propensity_score    weight\n",
       "0   -1.560016  False -3.694463          0.651513  1.534889\n",
       "1    0.817575  False  0.839890          0.431016  2.320100\n",
       "2    0.816961  False  0.048199          0.431073  2.319792\n",
       "3    1.305865  False  3.394389          0.386217  2.589216\n",
       "4   -0.817016  False -3.745344          0.585012  1.709368\n",
       "..        ...    ...       ...               ...       ...\n",
       "995  0.076379  False  1.763547          0.500980  1.996086\n",
       "996  1.173692  False  2.687989          0.398188  2.511374\n",
       "997 -0.627517  False -1.268152          0.567431  1.762328\n",
       "998  3.128447  False  7.014053          0.239439  4.176433\n",
       "999  0.269882  False  1.918052          0.482606  2.072082\n",
       "\n",
       "[1000 rows x 5 columns]"
      ]
     },
     "execution_count": 6,
     "metadata": {},
     "output_type": "execute_result"
    }
   ],
   "source": [
    "cdf_0"
   ]
  },
  {
   "cell_type": "code",
   "execution_count": 7,
   "metadata": {
    "execution": {
     "iopub.execute_input": "2022-09-01T16:51:07.574356Z",
     "iopub.status.busy": "2022-09-01T16:51:07.574151Z",
     "iopub.status.idle": "2022-09-01T16:51:07.585227Z",
     "shell.execute_reply": "2022-09-01T16:51:07.584670Z"
    }
   },
   "outputs": [
    {
     "data": {
      "text/html": [
       "<div>\n",
       "<style scoped>\n",
       "    .dataframe tbody tr th:only-of-type {\n",
       "        vertical-align: middle;\n",
       "    }\n",
       "\n",
       "    .dataframe tbody tr th {\n",
       "        vertical-align: top;\n",
       "    }\n",
       "\n",
       "    .dataframe thead th {\n",
       "        text-align: right;\n",
       "    }\n",
       "</style>\n",
       "<table border=\"1\" class=\"dataframe\">\n",
       "  <thead>\n",
       "    <tr style=\"text-align: right;\">\n",
       "      <th></th>\n",
       "      <th>W0</th>\n",
       "      <th>v0</th>\n",
       "      <th>y</th>\n",
       "      <th>propensity_score</th>\n",
       "      <th>weight</th>\n",
       "    </tr>\n",
       "  </thead>\n",
       "  <tbody>\n",
       "    <tr>\n",
       "      <th>0</th>\n",
       "      <td>-0.744927</td>\n",
       "      <td>True</td>\n",
       "      <td>2.929574</td>\n",
       "      <td>0.421653</td>\n",
       "      <td>2.371616</td>\n",
       "    </tr>\n",
       "    <tr>\n",
       "      <th>1</th>\n",
       "      <td>1.004274</td>\n",
       "      <td>True</td>\n",
       "      <td>7.630994</td>\n",
       "      <td>0.586289</td>\n",
       "      <td>1.705643</td>\n",
       "    </tr>\n",
       "    <tr>\n",
       "      <th>2</th>\n",
       "      <td>-3.156799</td>\n",
       "      <td>True</td>\n",
       "      <td>-1.359255</td>\n",
       "      <td>0.225758</td>\n",
       "      <td>4.429512</td>\n",
       "    </tr>\n",
       "    <tr>\n",
       "      <th>3</th>\n",
       "      <td>1.243691</td>\n",
       "      <td>True</td>\n",
       "      <td>6.012126</td>\n",
       "      <td>0.608168</td>\n",
       "      <td>1.644283</td>\n",
       "    </tr>\n",
       "    <tr>\n",
       "      <th>4</th>\n",
       "      <td>0.581280</td>\n",
       "      <td>True</td>\n",
       "      <td>6.807686</td>\n",
       "      <td>0.546843</td>\n",
       "      <td>1.828678</td>\n",
       "    </tr>\n",
       "    <tr>\n",
       "      <th>...</th>\n",
       "      <td>...</td>\n",
       "      <td>...</td>\n",
       "      <td>...</td>\n",
       "      <td>...</td>\n",
       "      <td>...</td>\n",
       "    </tr>\n",
       "    <tr>\n",
       "      <th>995</th>\n",
       "      <td>-0.758252</td>\n",
       "      <td>True</td>\n",
       "      <td>3.724444</td>\n",
       "      <td>0.420419</td>\n",
       "      <td>2.378578</td>\n",
       "    </tr>\n",
       "    <tr>\n",
       "      <th>996</th>\n",
       "      <td>0.829744</td>\n",
       "      <td>True</td>\n",
       "      <td>5.973774</td>\n",
       "      <td>0.570118</td>\n",
       "      <td>1.754024</td>\n",
       "    </tr>\n",
       "    <tr>\n",
       "      <th>997</th>\n",
       "      <td>-0.744927</td>\n",
       "      <td>True</td>\n",
       "      <td>2.929574</td>\n",
       "      <td>0.421653</td>\n",
       "      <td>2.371616</td>\n",
       "    </tr>\n",
       "    <tr>\n",
       "      <th>998</th>\n",
       "      <td>-0.630831</td>\n",
       "      <td>True</td>\n",
       "      <td>5.016888</td>\n",
       "      <td>0.432260</td>\n",
       "      <td>2.313424</td>\n",
       "    </tr>\n",
       "    <tr>\n",
       "      <th>999</th>\n",
       "      <td>0.021369</td>\n",
       "      <td>True</td>\n",
       "      <td>4.615781</td>\n",
       "      <td>0.493794</td>\n",
       "      <td>2.025134</td>\n",
       "    </tr>\n",
       "  </tbody>\n",
       "</table>\n",
       "<p>1000 rows × 5 columns</p>\n",
       "</div>"
      ],
      "text/plain": [
       "           W0    v0         y  propensity_score    weight\n",
       "0   -0.744927  True  2.929574          0.421653  2.371616\n",
       "1    1.004274  True  7.630994          0.586289  1.705643\n",
       "2   -3.156799  True -1.359255          0.225758  4.429512\n",
       "3    1.243691  True  6.012126          0.608168  1.644283\n",
       "4    0.581280  True  6.807686          0.546843  1.828678\n",
       "..        ...   ...       ...               ...       ...\n",
       "995 -0.758252  True  3.724444          0.420419  2.378578\n",
       "996  0.829744  True  5.973774          0.570118  1.754024\n",
       "997 -0.744927  True  2.929574          0.421653  2.371616\n",
       "998 -0.630831  True  5.016888          0.432260  2.313424\n",
       "999  0.021369  True  4.615781          0.493794  2.025134\n",
       "\n",
       "[1000 rows x 5 columns]"
      ]
     },
     "execution_count": 7,
     "metadata": {},
     "output_type": "execute_result"
    }
   ],
   "source": [
    "cdf_1"
   ]
  },
  {
   "cell_type": "markdown",
   "metadata": {},
   "source": [
    "## Comparing the estimate to Linear Regression\n",
    "First, estimating the effect using the causal data frame, and the 95% confidence interval."
   ]
  },
  {
   "cell_type": "code",
   "execution_count": 8,
   "metadata": {
    "execution": {
     "iopub.execute_input": "2022-09-01T16:51:07.587789Z",
     "iopub.status.busy": "2022-09-01T16:51:07.587589Z",
     "iopub.status.idle": "2022-09-01T16:51:07.682428Z",
     "shell.execute_reply": "2022-09-01T16:51:07.681759Z"
    }
   },
   "outputs": [
    {
     "data": {
      "image/png": "[encoded data removed]",
      "text/latex": [
       "$\\displaystyle 4.92804530690066$"
      ],
      "text/plain": [
       "4.9280453069006604"
      ]
     },
     "execution_count": 8,
     "metadata": {},
     "output_type": "execute_result"
    }
   ],
   "source": [
    "(cdf_1['y'] - cdf_0['y']).mean()"
   ]
  },
  {
   "cell_type": "code",
   "execution_count": 9,
   "metadata": {
    "execution": {
     "iopub.execute_input": "2022-09-01T16:51:07.685088Z",
     "iopub.status.busy": "2022-09-01T16:51:07.684843Z",
     "iopub.status.idle": "2022-09-01T16:51:07.710279Z",
     "shell.execute_reply": "2022-09-01T16:51:07.709678Z"
    }
   },
   "outputs": [
    {
     "data": {
      "image/png": "[encoded data removed]",
      "text/latex": [
       "$\\displaystyle 0.202183073008022$"
      ],
      "text/plain": [
       "0.20218307300802216"
      ]
     },
     "execution_count": 9,
     "metadata": {},
     "output_type": "execute_result"
    }
   ],
   "source": [
    "1.96*(cdf_1['y'] - cdf_0['y']).std() / np.sqrt(len(df))"
   ]
  },
  {
   "cell_type": "markdown",
   "metadata": {},
   "source": [
    "Comparing to the estimate from OLS."
   ]
  },
  {
   "cell_type": "code",
   "execution_count": 10,
   "metadata": {
    "execution": {
     "iopub.execute_input": "2022-09-01T16:51:07.713162Z",
     "iopub.status.busy": "2022-09-01T16:51:07.712944Z",
     "iopub.status.idle": "2022-09-01T16:51:07.729277Z",
     "shell.execute_reply": "2022-09-01T16:51:07.728728Z"
    }
   },
   "outputs": [
    {
     "data": {
      "text/html": [
       "<table class=\"simpletable\">\n",
       "<caption>OLS Regression Results</caption>\n",
       "<tr>\n",
       "  <th>Dep. Variable:</th>            <td>y</td>        <th>  R-squared (uncentered):</th>      <td>   0.953</td> \n",
       "</tr>\n",
       "<tr>\n",
       "  <th>Model:</th>                   <td>OLS</td>       <th>  Adj. R-squared (uncentered):</th> <td>   0.953</td> \n",
       "</tr>\n",
       "<tr>\n",
       "  <th>Method:</th>             <td>Least Squares</td>  <th>  F-statistic:       </th>          <td>1.023e+04</td>\n",
       "</tr>\n",
       "<tr>\n",
       "  <th>Date:</th>             <td>Thu, 01 Sep 2022</td> <th>  Prob (F-statistic):</th>           <td>  0.00</td>  \n",
       "</tr>\n",
       "<tr>\n",
       "  <th>Time:</th>                 <td>16:51:07</td>     <th>  Log-Likelihood:    </th>          <td> -1457.0</td> \n",
       "</tr>\n",
       "<tr>\n",
       "  <th>No. Observations:</th>      <td>  1000</td>      <th>  AIC:               </th>          <td>   2918.</td> \n",
       "</tr>\n",
       "<tr>\n",
       "  <th>Df Residuals:</th>          <td>   998</td>      <th>  BIC:               </th>          <td>   2928.</td> \n",
       "</tr>\n",
       "<tr>\n",
       "  <th>Df Model:</th>              <td>     2</td>      <th>                     </th>              <td> </td>    \n",
       "</tr>\n",
       "<tr>\n",
       "  <th>Covariance Type:</th>      <td>nonrobust</td>    <th>                     </th>              <td> </td>    \n",
       "</tr>\n",
       "</table>\n",
       "<table class=\"simpletable\">\n",
       "<tr>\n",
       "   <td></td>     <th>coef</th>     <th>std err</th>      <th>t</th>      <th>P>|t|</th>  <th>[0.025</th>    <th>0.975]</th>  \n",
       "</tr>\n",
       "<tr>\n",
       "  <th>x1</th> <td>    2.1629</td> <td>    0.035</td> <td>   62.197</td> <td> 0.000</td> <td>    2.095</td> <td>    2.231</td>\n",
       "</tr>\n",
       "<tr>\n",
       "  <th>x2</th> <td>    5.0062</td> <td>    0.048</td> <td>  104.223</td> <td> 0.000</td> <td>    4.912</td> <td>    5.100</td>\n",
       "</tr>\n",
       "</table>\n",
       "<table class=\"simpletable\">\n",
       "<tr>\n",
       "  <th>Omnibus:</th>       <td> 2.050</td> <th>  Durbin-Watson:     </th> <td>   1.975</td>\n",
       "</tr>\n",
       "<tr>\n",
       "  <th>Prob(Omnibus):</th> <td> 0.359</td> <th>  Jarque-Bera (JB):  </th> <td>   1.911</td>\n",
       "</tr>\n",
       "<tr>\n",
       "  <th>Skew:</th>          <td> 0.096</td> <th>  Prob(JB):          </th> <td>   0.385</td>\n",
       "</tr>\n",
       "<tr>\n",
       "  <th>Kurtosis:</th>      <td> 3.096</td> <th>  Cond. No.          </th> <td>    1.57</td>\n",
       "</tr>\n",
       "</table><br/><br/>Notes:<br/>[1] R² is computed without centering (uncentered) since the model does not contain a constant.<br/>[2] Standard Errors assume that the covariance matrix of the errors is correctly specified."
      ],
      "text/plain": [
       "<class 'statsmodels.iolib.summary.Summary'>\n",
       "\"\"\"\n",
       "                                 OLS Regression Results                                \n",
       "=======================================================================================\n",
       "Dep. Variable:                      y   R-squared (uncentered):                   0.953\n",
       "Model:                            OLS   Adj. R-squared (uncentered):              0.953\n",
       "Method:                 Least Squares   F-statistic:                          1.023e+04\n",
       "Date:                Thu, 01 Sep 2022   Prob (F-statistic):                        0.00\n",
       "Time:                        16:51:07   Log-Likelihood:                         -1457.0\n",
       "No. Observations:                1000   AIC:                                      2918.\n",
       "Df Residuals:                     998   BIC:                                      2928.\n",
       "Df Model:                           2                                                  \n",
       "Covariance Type:            nonrobust                                                  \n",
       "==============================================================================\n",
       "                 coef    std err          t      P>|t|      [0.025      0.975]\n",
       "------------------------------------------------------------------------------\n",
       "x1             2.1629      0.035     62.197      0.000       2.095       2.231\n",
       "x2             5.0062      0.048    104.223      0.000       4.912       5.100\n",
       "==============================================================================\n",
       "Omnibus:                        2.050   Durbin-Watson:                   1.975\n",
       "Prob(Omnibus):                  0.359   Jarque-Bera (JB):                1.911\n",
       "Skew:                           0.096   Prob(JB):                        0.385\n",
       "Kurtosis:                       3.096   Cond. No.                         1.57\n",
       "==============================================================================\n",
       "\n",
       "Notes:\n",
       "[1] R² is computed without centering (uncentered) since the model does not contain a constant.\n",
       "[2] Standard Errors assume that the covariance matrix of the errors is correctly specified.\n",
       "\"\"\""
      ]
     },
     "execution_count": 10,
     "metadata": {},
     "output_type": "execute_result"
    }
   ],
   "source": [
    "model = OLS(np.asarray(df[outcome]), np.asarray(df[[common_cause, treatment]], dtype=np.float64))\n",
    "result = model.fit()\n",
    "result.summary()"
   ]
  }
 ],
 "metadata": {
  "kernelspec": {
   "display_name": "Python 3",
   "language": "python",
   "name": "python3"
  },
  "language_info": {
   "codemirror_mode": {
    "name": "ipython",
    "version": 3
   },
   "file_extension": ".py",
   "mimetype": "text/x-python",
   "name": "python",
   "nbconvert_exporter": "python",
   "pygments_lexer": "ipython3",
   "version": "3.8.10"
  },
  "toc": {
   "base_numbering": 1,
   "nav_menu": {},
   "number_sections": false,
   "sideBar": true,
   "skip_h1_title": true,
   "title_cell": "Table of Contents",
   "title_sidebar": "Contents",
   "toc_cell": false,
   "toc_position": {},
   "toc_section_display": true,
   "toc_window_display": false
  }
 },
 "nbformat": 4,
 "nbformat_minor": 4
}
