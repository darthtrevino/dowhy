{
 "cells": [
  {
   "cell_type": "markdown",
   "metadata": {},
   "source": [
    "# Demo for the DoWhy causal API\n",
    "We show a simple example of adding a causal extension to any dataframe. "
   ]
  },
  {
   "cell_type": "code",
   "execution_count": 1,
   "metadata": {
    "execution": {
     "iopub.execute_input": "2022-08-12T19:28:59.125868Z",
     "iopub.status.busy": "2022-08-12T19:28:59.125497Z",
     "iopub.status.idle": "2022-08-12T19:29:00.192884Z",
     "shell.execute_reply": "2022-08-12T19:29:00.192206Z"
    }
   },
   "outputs": [],
   "source": [
    "import dowhy.datasets\n",
    "import dowhy.api\n",
    "\n",
    "import numpy as np\n",
    "import pandas as pd\n",
    "\n",
    "from statsmodels.api import OLS"
   ]
  },
  {
   "cell_type": "code",
   "execution_count": 2,
   "metadata": {
    "execution": {
     "iopub.execute_input": "2022-08-12T19:29:00.197313Z",
     "iopub.status.busy": "2022-08-12T19:29:00.195994Z",
     "iopub.status.idle": "2022-08-12T19:29:00.237103Z",
     "shell.execute_reply": "2022-08-12T19:29:00.236456Z"
    }
   },
   "outputs": [
    {
     "data": {
      "text/html": [
       "<div>\n",
       "<style scoped>\n",
       "    .dataframe tbody tr th:only-of-type {\n",
       "        vertical-align: middle;\n",
       "    }\n",
       "\n",
       "    .dataframe tbody tr th {\n",
       "        vertical-align: top;\n",
       "    }\n",
       "\n",
       "    .dataframe thead th {\n",
       "        text-align: right;\n",
       "    }\n",
       "</style>\n",
       "<table border=\"1\" class=\"dataframe\">\n",
       "  <thead>\n",
       "    <tr style=\"text-align: right;\">\n",
       "      <th></th>\n",
       "      <th>W0</th>\n",
       "      <th>v0</th>\n",
       "      <th>y</th>\n",
       "    </tr>\n",
       "  </thead>\n",
       "  <tbody>\n",
       "    <tr>\n",
       "      <th>0</th>\n",
       "      <td>0.208719</td>\n",
       "      <td>False</td>\n",
       "      <td>1.891938</td>\n",
       "    </tr>\n",
       "    <tr>\n",
       "      <th>1</th>\n",
       "      <td>-1.147622</td>\n",
       "      <td>True</td>\n",
       "      <td>2.486369</td>\n",
       "    </tr>\n",
       "    <tr>\n",
       "      <th>2</th>\n",
       "      <td>-0.108037</td>\n",
       "      <td>True</td>\n",
       "      <td>2.756183</td>\n",
       "    </tr>\n",
       "    <tr>\n",
       "      <th>3</th>\n",
       "      <td>-0.137112</td>\n",
       "      <td>True</td>\n",
       "      <td>6.292265</td>\n",
       "    </tr>\n",
       "    <tr>\n",
       "      <th>4</th>\n",
       "      <td>-3.177042</td>\n",
       "      <td>False</td>\n",
       "      <td>-7.992284</td>\n",
       "    </tr>\n",
       "    <tr>\n",
       "      <th>...</th>\n",
       "      <td>...</td>\n",
       "      <td>...</td>\n",
       "      <td>...</td>\n",
       "    </tr>\n",
       "    <tr>\n",
       "      <th>995</th>\n",
       "      <td>-2.607299</td>\n",
       "      <td>True</td>\n",
       "      <td>-2.514279</td>\n",
       "    </tr>\n",
       "    <tr>\n",
       "      <th>996</th>\n",
       "      <td>0.337554</td>\n",
       "      <td>False</td>\n",
       "      <td>1.846308</td>\n",
       "    </tr>\n",
       "    <tr>\n",
       "      <th>997</th>\n",
       "      <td>-1.147474</td>\n",
       "      <td>True</td>\n",
       "      <td>3.927873</td>\n",
       "    </tr>\n",
       "    <tr>\n",
       "      <th>998</th>\n",
       "      <td>-1.081519</td>\n",
       "      <td>False</td>\n",
       "      <td>-2.581914</td>\n",
       "    </tr>\n",
       "    <tr>\n",
       "      <th>999</th>\n",
       "      <td>-1.725007</td>\n",
       "      <td>False</td>\n",
       "      <td>-5.130244</td>\n",
       "    </tr>\n",
       "  </tbody>\n",
       "</table>\n",
       "<p>1000 rows × 3 columns</p>\n",
       "</div>"
      ],
      "text/plain": [
       "           W0     v0         y\n",
       "0    0.208719  False  1.891938\n",
       "1   -1.147622   True  2.486369\n",
       "2   -0.108037   True  2.756183\n",
       "3   -0.137112   True  6.292265\n",
       "4   -3.177042  False -7.992284\n",
       "..        ...    ...       ...\n",
       "995 -2.607299   True -2.514279\n",
       "996  0.337554  False  1.846308\n",
       "997 -1.147474   True  3.927873\n",
       "998 -1.081519  False -2.581914\n",
       "999 -1.725007  False -5.130244\n",
       "\n",
       "[1000 rows x 3 columns]"
      ]
     },
     "execution_count": 2,
     "metadata": {},
     "output_type": "execute_result"
    }
   ],
   "source": [
    "data = dowhy.datasets.linear_dataset(beta=5,\n",
    "        num_common_causes=1,\n",
    "        num_instruments = 0,\n",
    "        num_samples=1000,\n",
    "        treatment_is_binary=True)\n",
    "df = data['df']\n",
    "df['y'] = df['y'] + np.random.normal(size=len(df)) # Adding noise to data. Without noise, the variance in Y|X, Z is zero, and mcmc fails.\n",
    "#data['dot_graph'] = 'digraph { v ->y;X0-> v;X0-> y;}'\n",
    "\n",
    "treatment= data[\"treatment_name\"][0]\n",
    "outcome = data[\"outcome_name\"][0]\n",
    "common_cause = data[\"common_causes_names\"][0]\n",
    "df"
   ]
  },
  {
   "cell_type": "code",
   "execution_count": 3,
   "metadata": {
    "execution": {
     "iopub.execute_input": "2022-08-12T19:29:00.240027Z",
     "iopub.status.busy": "2022-08-12T19:29:00.239804Z",
     "iopub.status.idle": "2022-08-12T19:29:00.983529Z",
     "shell.execute_reply": "2022-08-12T19:29:00.982925Z"
    }
   },
   "outputs": [
    {
     "data": {
      "text/plain": [
       "<AxesSubplot:xlabel='v0'>"
      ]
     },
     "execution_count": 3,
     "metadata": {},
     "output_type": "execute_result"
    },
    {
     "data": {
      "image/png": "[encoded data removed]",
      "text/plain": [
       "<Figure size 432x288 with 1 Axes>"
      ]
     },
     "metadata": {
      "needs_background": "light"
     },
     "output_type": "display_data"
    }
   ],
   "source": [
    "# data['df'] is just a regular pandas.DataFrame\n",
    "df.causal.do(x=treatment,\n",
    "                     variable_types={treatment: 'b', outcome: 'c', common_cause: 'c'},\n",
    "                     outcome=outcome,\n",
    "                     common_causes=[common_cause],\n",
    "                     proceed_when_unidentifiable=True).groupby(treatment).mean().plot(y=outcome, kind='bar')"
   ]
  },
  {
   "cell_type": "code",
   "execution_count": 4,
   "metadata": {
    "execution": {
     "iopub.execute_input": "2022-08-12T19:29:00.986812Z",
     "iopub.status.busy": "2022-08-12T19:29:00.986468Z",
     "iopub.status.idle": "2022-08-12T19:29:01.087363Z",
     "shell.execute_reply": "2022-08-12T19:29:01.086842Z"
    }
   },
   "outputs": [
    {
     "data": {
      "text/plain": [
       "<AxesSubplot:xlabel='v0'>"
      ]
     },
     "execution_count": 4,
     "metadata": {},
     "output_type": "execute_result"
    },
    {
     "data": {
      "image/png": "[encoded data removed]",
      "text/plain": [
       "<Figure size 432x288 with 1 Axes>"
      ]
     },
     "metadata": {
      "needs_background": "light"
     },
     "output_type": "display_data"
    }
   ],
   "source": [
    "df.causal.do(x={treatment: 1}, \n",
    "              variable_types={treatment:'b', outcome: 'c', common_cause: 'c'}, \n",
    "              outcome=outcome,\n",
    "              method='weighting', \n",
    "              common_causes=[common_cause],\n",
    "              proceed_when_unidentifiable=True).groupby(treatment).mean().plot(y=outcome, kind='bar')"
   ]
  },
  {
   "cell_type": "code",
   "execution_count": 5,
   "metadata": {
    "execution": {
     "iopub.execute_input": "2022-08-12T19:29:01.091400Z",
     "iopub.status.busy": "2022-08-12T19:29:01.090435Z",
     "iopub.status.idle": "2022-08-12T19:29:01.120332Z",
     "shell.execute_reply": "2022-08-12T19:29:01.119780Z"
    }
   },
   "outputs": [],
   "source": [
    "cdf_1 = df.causal.do(x={treatment: 1}, \n",
    "              variable_types={treatment: 'b', outcome: 'c', common_cause: 'c'}, \n",
    "              outcome=outcome, \n",
    "              dot_graph=data['dot_graph'],\n",
    "              proceed_when_unidentifiable=True)\n",
    "\n",
    "cdf_0 = df.causal.do(x={treatment: 0}, \n",
    "              variable_types={treatment: 'b', outcome: 'c', common_cause: 'c'}, \n",
    "              outcome=outcome, \n",
    "              dot_graph=data['dot_graph'],\n",
    "              proceed_when_unidentifiable=True)\n"
   ]
  },
  {
   "cell_type": "code",
   "execution_count": 6,
   "metadata": {
    "execution": {
     "iopub.execute_input": "2022-08-12T19:29:01.123339Z",
     "iopub.status.busy": "2022-08-12T19:29:01.123015Z",
     "iopub.status.idle": "2022-08-12T19:29:01.132946Z",
     "shell.execute_reply": "2022-08-12T19:29:01.132496Z"
    },
    "scrolled": true
   },
   "outputs": [
    {
     "data": {
      "text/html": [
       "<div>\n",
       "<style scoped>\n",
       "    .dataframe tbody tr th:only-of-type {\n",
       "        vertical-align: middle;\n",
       "    }\n",
       "\n",
       "    .dataframe tbody tr th {\n",
       "        vertical-align: top;\n",
       "    }\n",
       "\n",
       "    .dataframe thead th {\n",
       "        text-align: right;\n",
       "    }\n",
       "</style>\n",
       "<table border=\"1\" class=\"dataframe\">\n",
       "  <thead>\n",
       "    <tr style=\"text-align: right;\">\n",
       "      <th></th>\n",
       "      <th>W0</th>\n",
       "      <th>v0</th>\n",
       "      <th>y</th>\n",
       "      <th>propensity_score</th>\n",
       "      <th>weight</th>\n",
       "    </tr>\n",
       "  </thead>\n",
       "  <tbody>\n",
       "    <tr>\n",
       "      <th>0</th>\n",
       "      <td>0.563751</td>\n",
       "      <td>False</td>\n",
       "      <td>1.504854</td>\n",
       "      <td>0.431427</td>\n",
       "      <td>2.317891</td>\n",
       "    </tr>\n",
       "    <tr>\n",
       "      <th>1</th>\n",
       "      <td>0.634255</td>\n",
       "      <td>False</td>\n",
       "      <td>1.174328</td>\n",
       "      <td>0.424974</td>\n",
       "      <td>2.353087</td>\n",
       "    </tr>\n",
       "    <tr>\n",
       "      <th>2</th>\n",
       "      <td>-0.497257</td>\n",
       "      <td>False</td>\n",
       "      <td>-1.424488</td>\n",
       "      <td>0.530114</td>\n",
       "      <td>1.886386</td>\n",
       "    </tr>\n",
       "    <tr>\n",
       "      <th>3</th>\n",
       "      <td>0.659123</td>\n",
       "      <td>False</td>\n",
       "      <td>2.625052</td>\n",
       "      <td>0.422703</td>\n",
       "      <td>2.365725</td>\n",
       "    </tr>\n",
       "    <tr>\n",
       "      <th>4</th>\n",
       "      <td>-0.884390</td>\n",
       "      <td>False</td>\n",
       "      <td>-1.979470</td>\n",
       "      <td>0.565944</td>\n",
       "      <td>1.766958</td>\n",
       "    </tr>\n",
       "    <tr>\n",
       "      <th>...</th>\n",
       "      <td>...</td>\n",
       "      <td>...</td>\n",
       "      <td>...</td>\n",
       "      <td>...</td>\n",
       "      <td>...</td>\n",
       "    </tr>\n",
       "    <tr>\n",
       "      <th>995</th>\n",
       "      <td>-0.772886</td>\n",
       "      <td>False</td>\n",
       "      <td>-2.469237</td>\n",
       "      <td>0.555678</td>\n",
       "      <td>1.799603</td>\n",
       "    </tr>\n",
       "    <tr>\n",
       "      <th>996</th>\n",
       "      <td>-1.018761</td>\n",
       "      <td>False</td>\n",
       "      <td>-2.455540</td>\n",
       "      <td>0.578241</td>\n",
       "      <td>1.729384</td>\n",
       "    </tr>\n",
       "    <tr>\n",
       "      <th>997</th>\n",
       "      <td>-0.443588</td>\n",
       "      <td>False</td>\n",
       "      <td>-1.496007</td>\n",
       "      <td>0.525114</td>\n",
       "      <td>1.904350</td>\n",
       "    </tr>\n",
       "    <tr>\n",
       "      <th>998</th>\n",
       "      <td>0.827226</td>\n",
       "      <td>False</td>\n",
       "      <td>1.431407</td>\n",
       "      <td>0.407448</td>\n",
       "      <td>2.454303</td>\n",
       "    </tr>\n",
       "    <tr>\n",
       "      <th>999</th>\n",
       "      <td>-0.147915</td>\n",
       "      <td>False</td>\n",
       "      <td>-0.613960</td>\n",
       "      <td>0.497502</td>\n",
       "      <td>2.010042</td>\n",
       "    </tr>\n",
       "  </tbody>\n",
       "</table>\n",
       "<p>1000 rows × 5 columns</p>\n",
       "</div>"
      ],
      "text/plain": [
       "           W0     v0         y  propensity_score    weight\n",
       "0    0.563751  False  1.504854          0.431427  2.317891\n",
       "1    0.634255  False  1.174328          0.424974  2.353087\n",
       "2   -0.497257  False -1.424488          0.530114  1.886386\n",
       "3    0.659123  False  2.625052          0.422703  2.365725\n",
       "4   -0.884390  False -1.979470          0.565944  1.766958\n",
       "..        ...    ...       ...               ...       ...\n",
       "995 -0.772886  False -2.469237          0.555678  1.799603\n",
       "996 -1.018761  False -2.455540          0.578241  1.729384\n",
       "997 -0.443588  False -1.496007          0.525114  1.904350\n",
       "998  0.827226  False  1.431407          0.407448  2.454303\n",
       "999 -0.147915  False -0.613960          0.497502  2.010042\n",
       "\n",
       "[1000 rows x 5 columns]"
      ]
     },
     "execution_count": 6,
     "metadata": {},
     "output_type": "execute_result"
    }
   ],
   "source": [
    "cdf_0"
   ]
  },
  {
   "cell_type": "code",
   "execution_count": 7,
   "metadata": {
    "execution": {
     "iopub.execute_input": "2022-08-12T19:29:01.136424Z",
     "iopub.status.busy": "2022-08-12T19:29:01.135244Z",
     "iopub.status.idle": "2022-08-12T19:29:01.147077Z",
     "shell.execute_reply": "2022-08-12T19:29:01.146556Z"
    }
   },
   "outputs": [
    {
     "data": {
      "text/html": [
       "<div>\n",
       "<style scoped>\n",
       "    .dataframe tbody tr th:only-of-type {\n",
       "        vertical-align: middle;\n",
       "    }\n",
       "\n",
       "    .dataframe tbody tr th {\n",
       "        vertical-align: top;\n",
       "    }\n",
       "\n",
       "    .dataframe thead th {\n",
       "        text-align: right;\n",
       "    }\n",
       "</style>\n",
       "<table border=\"1\" class=\"dataframe\">\n",
       "  <thead>\n",
       "    <tr style=\"text-align: right;\">\n",
       "      <th></th>\n",
       "      <th>W0</th>\n",
       "      <th>v0</th>\n",
       "      <th>y</th>\n",
       "      <th>propensity_score</th>\n",
       "      <th>weight</th>\n",
       "    </tr>\n",
       "  </thead>\n",
       "  <tbody>\n",
       "    <tr>\n",
       "      <th>0</th>\n",
       "      <td>-2.446439</td>\n",
       "      <td>True</td>\n",
       "      <td>-1.473736</td>\n",
       "      <td>0.299588</td>\n",
       "      <td>3.337918</td>\n",
       "    </tr>\n",
       "    <tr>\n",
       "      <th>1</th>\n",
       "      <td>-0.573989</td>\n",
       "      <td>True</td>\n",
       "      <td>5.071731</td>\n",
       "      <td>0.462748</td>\n",
       "      <td>2.161006</td>\n",
       "    </tr>\n",
       "    <tr>\n",
       "      <th>2</th>\n",
       "      <td>-0.440078</td>\n",
       "      <td>True</td>\n",
       "      <td>4.410054</td>\n",
       "      <td>0.475214</td>\n",
       "      <td>2.104317</td>\n",
       "    </tr>\n",
       "    <tr>\n",
       "      <th>3</th>\n",
       "      <td>-2.892499</td>\n",
       "      <td>True</td>\n",
       "      <td>-3.171898</td>\n",
       "      <td>0.265805</td>\n",
       "      <td>3.762154</td>\n",
       "    </tr>\n",
       "    <tr>\n",
       "      <th>4</th>\n",
       "      <td>-0.536212</td>\n",
       "      <td>True</td>\n",
       "      <td>3.070451</td>\n",
       "      <td>0.466260</td>\n",
       "      <td>2.144725</td>\n",
       "    </tr>\n",
       "    <tr>\n",
       "      <th>...</th>\n",
       "      <td>...</td>\n",
       "      <td>...</td>\n",
       "      <td>...</td>\n",
       "      <td>...</td>\n",
       "      <td>...</td>\n",
       "    </tr>\n",
       "    <tr>\n",
       "      <th>995</th>\n",
       "      <td>-0.602445</td>\n",
       "      <td>True</td>\n",
       "      <td>4.453360</td>\n",
       "      <td>0.460104</td>\n",
       "      <td>2.173422</td>\n",
       "    </tr>\n",
       "    <tr>\n",
       "      <th>996</th>\n",
       "      <td>-1.782701</td>\n",
       "      <td>True</td>\n",
       "      <td>0.451006</td>\n",
       "      <td>0.354084</td>\n",
       "      <td>2.824192</td>\n",
       "    </tr>\n",
       "    <tr>\n",
       "      <th>997</th>\n",
       "      <td>-1.635257</td>\n",
       "      <td>True</td>\n",
       "      <td>-0.587289</td>\n",
       "      <td>0.366789</td>\n",
       "      <td>2.726365</td>\n",
       "    </tr>\n",
       "    <tr>\n",
       "      <th>998</th>\n",
       "      <td>-1.629622</td>\n",
       "      <td>True</td>\n",
       "      <td>1.179624</td>\n",
       "      <td>0.367278</td>\n",
       "      <td>2.722733</td>\n",
       "    </tr>\n",
       "    <tr>\n",
       "      <th>999</th>\n",
       "      <td>-2.394730</td>\n",
       "      <td>True</td>\n",
       "      <td>-0.435766</td>\n",
       "      <td>0.303660</td>\n",
       "      <td>3.293159</td>\n",
       "    </tr>\n",
       "  </tbody>\n",
       "</table>\n",
       "<p>1000 rows × 5 columns</p>\n",
       "</div>"
      ],
      "text/plain": [
       "           W0    v0         y  propensity_score    weight\n",
       "0   -2.446439  True -1.473736          0.299588  3.337918\n",
       "1   -0.573989  True  5.071731          0.462748  2.161006\n",
       "2   -0.440078  True  4.410054          0.475214  2.104317\n",
       "3   -2.892499  True -3.171898          0.265805  3.762154\n",
       "4   -0.536212  True  3.070451          0.466260  2.144725\n",
       "..        ...   ...       ...               ...       ...\n",
       "995 -0.602445  True  4.453360          0.460104  2.173422\n",
       "996 -1.782701  True  0.451006          0.354084  2.824192\n",
       "997 -1.635257  True -0.587289          0.366789  2.726365\n",
       "998 -1.629622  True  1.179624          0.367278  2.722733\n",
       "999 -2.394730  True -0.435766          0.303660  3.293159\n",
       "\n",
       "[1000 rows x 5 columns]"
      ]
     },
     "execution_count": 7,
     "metadata": {},
     "output_type": "execute_result"
    }
   ],
   "source": [
    "cdf_1"
   ]
  },
  {
   "cell_type": "markdown",
   "metadata": {},
   "source": [
    "## Comparing the estimate to Linear Regression\n",
    "First, estimating the effect using the causal data frame, and the 95% confidence interval."
   ]
  },
  {
   "cell_type": "code",
   "execution_count": 8,
   "metadata": {
    "execution": {
     "iopub.execute_input": "2022-08-12T19:29:01.150189Z",
     "iopub.status.busy": "2022-08-12T19:29:01.149875Z",
     "iopub.status.idle": "2022-08-12T19:29:01.249095Z",
     "shell.execute_reply": "2022-08-12T19:29:01.248465Z"
    }
   },
   "outputs": [
    {
     "data": {
      "image/png": "[encoded data removed]",
      "text/latex": [
       "$\\displaystyle 4.85277487185983$"
      ],
      "text/plain": [
       "4.8527748718598325"
      ]
     },
     "execution_count": 8,
     "metadata": {},
     "output_type": "execute_result"
    }
   ],
   "source": [
    "(cdf_1['y'] - cdf_0['y']).mean()"
   ]
  },
  {
   "cell_type": "code",
   "execution_count": 9,
   "metadata": {
    "execution": {
     "iopub.execute_input": "2022-08-12T19:29:01.251909Z",
     "iopub.status.busy": "2022-08-12T19:29:01.251678Z",
     "iopub.status.idle": "2022-08-12T19:29:01.276896Z",
     "shell.execute_reply": "2022-08-12T19:29:01.276326Z"
    }
   },
   "outputs": [
    {
     "data": {
      "image/png": "[encoded data removed]",
      "text/latex": [
       "$\\displaystyle 0.225902096609144$"
      ],
      "text/plain": [
       "0.22590209660914368"
      ]
     },
     "execution_count": 9,
     "metadata": {},
     "output_type": "execute_result"
    }
   ],
   "source": [
    "1.96*(cdf_1['y'] - cdf_0['y']).std() / np.sqrt(len(df))"
   ]
  },
  {
   "cell_type": "markdown",
   "metadata": {},
   "source": [
    "Comparing to the estimate from OLS."
   ]
  },
  {
   "cell_type": "code",
   "execution_count": 10,
   "metadata": {
    "execution": {
     "iopub.execute_input": "2022-08-12T19:29:01.279742Z",
     "iopub.status.busy": "2022-08-12T19:29:01.279498Z",
     "iopub.status.idle": "2022-08-12T19:29:01.296631Z",
     "shell.execute_reply": "2022-08-12T19:29:01.296072Z"
    }
   },
   "outputs": [
    {
     "data": {
      "text/html": [
       "<table class=\"simpletable\">\n",
       "<caption>OLS Regression Results</caption>\n",
       "<tr>\n",
       "  <th>Dep. Variable:</th>            <td>y</td>        <th>  R-squared (uncentered):</th>      <td>   0.932</td>\n",
       "</tr>\n",
       "<tr>\n",
       "  <th>Model:</th>                   <td>OLS</td>       <th>  Adj. R-squared (uncentered):</th> <td>   0.932</td>\n",
       "</tr>\n",
       "<tr>\n",
       "  <th>Method:</th>             <td>Least Squares</td>  <th>  F-statistic:       </th>          <td>   6815.</td>\n",
       "</tr>\n",
       "<tr>\n",
       "  <th>Date:</th>             <td>Fri, 12 Aug 2022</td> <th>  Prob (F-statistic):</th>           <td>  0.00</td> \n",
       "</tr>\n",
       "<tr>\n",
       "  <th>Time:</th>                 <td>19:29:01</td>     <th>  Log-Likelihood:    </th>          <td> -1432.6</td>\n",
       "</tr>\n",
       "<tr>\n",
       "  <th>No. Observations:</th>      <td>  1000</td>      <th>  AIC:               </th>          <td>   2869.</td>\n",
       "</tr>\n",
       "<tr>\n",
       "  <th>Df Residuals:</th>          <td>   998</td>      <th>  BIC:               </th>          <td>   2879.</td>\n",
       "</tr>\n",
       "<tr>\n",
       "  <th>Df Model:</th>              <td>     2</td>      <th>                     </th>              <td> </td>   \n",
       "</tr>\n",
       "<tr>\n",
       "  <th>Covariance Type:</th>      <td>nonrobust</td>    <th>                     </th>              <td> </td>   \n",
       "</tr>\n",
       "</table>\n",
       "<table class=\"simpletable\">\n",
       "<tr>\n",
       "   <td></td>     <th>coef</th>     <th>std err</th>      <th>t</th>      <th>P>|t|</th>  <th>[0.025</th>    <th>0.975]</th>  \n",
       "</tr>\n",
       "<tr>\n",
       "  <th>x1</th> <td>    2.4038</td> <td>    0.026</td> <td>   90.832</td> <td> 0.000</td> <td>    2.352</td> <td>    2.456</td>\n",
       "</tr>\n",
       "<tr>\n",
       "  <th>x2</th> <td>    5.0001</td> <td>    0.051</td> <td>   98.359</td> <td> 0.000</td> <td>    4.900</td> <td>    5.100</td>\n",
       "</tr>\n",
       "</table>\n",
       "<table class=\"simpletable\">\n",
       "<tr>\n",
       "  <th>Omnibus:</th>       <td> 5.354</td> <th>  Durbin-Watson:     </th> <td>   2.050</td>\n",
       "</tr>\n",
       "<tr>\n",
       "  <th>Prob(Omnibus):</th> <td> 0.069</td> <th>  Jarque-Bera (JB):  </th> <td>   5.247</td>\n",
       "</tr>\n",
       "<tr>\n",
       "  <th>Skew:</th>          <td> 0.174</td> <th>  Prob(JB):          </th> <td>  0.0725</td>\n",
       "</tr>\n",
       "<tr>\n",
       "  <th>Kurtosis:</th>      <td> 3.072</td> <th>  Cond. No.          </th> <td>    2.10</td>\n",
       "</tr>\n",
       "</table><br/><br/>Notes:<br/>[1] R² is computed without centering (uncentered) since the model does not contain a constant.<br/>[2] Standard Errors assume that the covariance matrix of the errors is correctly specified."
      ],
      "text/plain": [
       "<class 'statsmodels.iolib.summary.Summary'>\n",
       "\"\"\"\n",
       "                                 OLS Regression Results                                \n",
       "=======================================================================================\n",
       "Dep. Variable:                      y   R-squared (uncentered):                   0.932\n",
       "Model:                            OLS   Adj. R-squared (uncentered):              0.932\n",
       "Method:                 Least Squares   F-statistic:                              6815.\n",
       "Date:                Fri, 12 Aug 2022   Prob (F-statistic):                        0.00\n",
       "Time:                        19:29:01   Log-Likelihood:                         -1432.6\n",
       "No. Observations:                1000   AIC:                                      2869.\n",
       "Df Residuals:                     998   BIC:                                      2879.\n",
       "Df Model:                           2                                                  \n",
       "Covariance Type:            nonrobust                                                  \n",
       "==============================================================================\n",
       "                 coef    std err          t      P>|t|      [0.025      0.975]\n",
       "------------------------------------------------------------------------------\n",
       "x1             2.4038      0.026     90.832      0.000       2.352       2.456\n",
       "x2             5.0001      0.051     98.359      0.000       4.900       5.100\n",
       "==============================================================================\n",
       "Omnibus:                        5.354   Durbin-Watson:                   2.050\n",
       "Prob(Omnibus):                  0.069   Jarque-Bera (JB):                5.247\n",
       "Skew:                           0.174   Prob(JB):                       0.0725\n",
       "Kurtosis:                       3.072   Cond. No.                         2.10\n",
       "==============================================================================\n",
       "\n",
       "Notes:\n",
       "[1] R² is computed without centering (uncentered) since the model does not contain a constant.\n",
       "[2] Standard Errors assume that the covariance matrix of the errors is correctly specified.\n",
       "\"\"\""
      ]
     },
     "execution_count": 10,
     "metadata": {},
     "output_type": "execute_result"
    }
   ],
   "source": [
    "model = OLS(np.asarray(df[outcome]), np.asarray(df[[common_cause, treatment]], dtype=np.float64))\n",
    "result = model.fit()\n",
    "result.summary()"
   ]
  }
 ],
 "metadata": {
  "kernelspec": {
   "display_name": "Python 3",
   "language": "python",
   "name": "python3"
  },
  "language_info": {
   "codemirror_mode": {
    "name": "ipython",
    "version": 3
   },
   "file_extension": ".py",
   "mimetype": "text/x-python",
   "name": "python",
   "nbconvert_exporter": "python",
   "pygments_lexer": "ipython3",
   "version": "3.8.10"
  },
  "toc": {
   "base_numbering": 1,
   "nav_menu": {},
   "number_sections": false,
   "sideBar": true,
   "skip_h1_title": true,
   "title_cell": "Table of Contents",
   "title_sidebar": "Contents",
   "toc_cell": false,
   "toc_position": {},
   "toc_section_display": true,
   "toc_window_display": false
  }
 },
 "nbformat": 4,
 "nbformat_minor": 4
}
