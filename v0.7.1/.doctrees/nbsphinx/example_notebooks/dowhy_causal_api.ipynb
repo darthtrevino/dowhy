{
 "cells": [
  {
   "cell_type": "markdown",
   "metadata": {},
   "source": [
    "# Demo for the DoWhy causal API\n",
    "We show a simple example of adding a causal extension to any dataframe. "
   ]
  },
  {
   "cell_type": "code",
   "execution_count": 1,
   "metadata": {
    "execution": {
     "iopub.execute_input": "2022-08-12T21:13:38.781412Z",
     "iopub.status.busy": "2022-08-12T21:13:38.780995Z",
     "iopub.status.idle": "2022-08-12T21:13:39.856724Z",
     "shell.execute_reply": "2022-08-12T21:13:39.856072Z"
    }
   },
   "outputs": [],
   "source": [
    "import dowhy.datasets\n",
    "import dowhy.api\n",
    "\n",
    "import numpy as np\n",
    "import pandas as pd\n",
    "\n",
    "from statsmodels.api import OLS"
   ]
  },
  {
   "cell_type": "code",
   "execution_count": 2,
   "metadata": {
    "execution": {
     "iopub.execute_input": "2022-08-12T21:13:39.860706Z",
     "iopub.status.busy": "2022-08-12T21:13:39.860066Z",
     "iopub.status.idle": "2022-08-12T21:13:39.901181Z",
     "shell.execute_reply": "2022-08-12T21:13:39.900600Z"
    }
   },
   "outputs": [
    {
     "data": {
      "text/html": [
       "<div>\n",
       "<style scoped>\n",
       "    .dataframe tbody tr th:only-of-type {\n",
       "        vertical-align: middle;\n",
       "    }\n",
       "\n",
       "    .dataframe tbody tr th {\n",
       "        vertical-align: top;\n",
       "    }\n",
       "\n",
       "    .dataframe thead th {\n",
       "        text-align: right;\n",
       "    }\n",
       "</style>\n",
       "<table border=\"1\" class=\"dataframe\">\n",
       "  <thead>\n",
       "    <tr style=\"text-align: right;\">\n",
       "      <th></th>\n",
       "      <th>W0</th>\n",
       "      <th>v0</th>\n",
       "      <th>y</th>\n",
       "    </tr>\n",
       "  </thead>\n",
       "  <tbody>\n",
       "    <tr>\n",
       "      <th>0</th>\n",
       "      <td>-1.302983</td>\n",
       "      <td>False</td>\n",
       "      <td>-2.534255</td>\n",
       "    </tr>\n",
       "    <tr>\n",
       "      <th>1</th>\n",
       "      <td>-0.394080</td>\n",
       "      <td>True</td>\n",
       "      <td>5.133011</td>\n",
       "    </tr>\n",
       "    <tr>\n",
       "      <th>2</th>\n",
       "      <td>-0.185101</td>\n",
       "      <td>False</td>\n",
       "      <td>-0.372530</td>\n",
       "    </tr>\n",
       "    <tr>\n",
       "      <th>3</th>\n",
       "      <td>-0.663932</td>\n",
       "      <td>True</td>\n",
       "      <td>4.849763</td>\n",
       "    </tr>\n",
       "    <tr>\n",
       "      <th>4</th>\n",
       "      <td>-0.332730</td>\n",
       "      <td>False</td>\n",
       "      <td>0.177322</td>\n",
       "    </tr>\n",
       "    <tr>\n",
       "      <th>...</th>\n",
       "      <td>...</td>\n",
       "      <td>...</td>\n",
       "      <td>...</td>\n",
       "    </tr>\n",
       "    <tr>\n",
       "      <th>995</th>\n",
       "      <td>1.577526</td>\n",
       "      <td>True</td>\n",
       "      <td>6.017716</td>\n",
       "    </tr>\n",
       "    <tr>\n",
       "      <th>996</th>\n",
       "      <td>-0.100380</td>\n",
       "      <td>False</td>\n",
       "      <td>-0.497787</td>\n",
       "    </tr>\n",
       "    <tr>\n",
       "      <th>997</th>\n",
       "      <td>-1.277537</td>\n",
       "      <td>False</td>\n",
       "      <td>-1.994353</td>\n",
       "    </tr>\n",
       "    <tr>\n",
       "      <th>998</th>\n",
       "      <td>-1.929935</td>\n",
       "      <td>False</td>\n",
       "      <td>-3.051819</td>\n",
       "    </tr>\n",
       "    <tr>\n",
       "      <th>999</th>\n",
       "      <td>-2.299629</td>\n",
       "      <td>False</td>\n",
       "      <td>0.078988</td>\n",
       "    </tr>\n",
       "  </tbody>\n",
       "</table>\n",
       "<p>1000 rows × 3 columns</p>\n",
       "</div>"
      ],
      "text/plain": [
       "           W0     v0         y\n",
       "0   -1.302983  False -2.534255\n",
       "1   -0.394080   True  5.133011\n",
       "2   -0.185101  False -0.372530\n",
       "3   -0.663932   True  4.849763\n",
       "4   -0.332730  False  0.177322\n",
       "..        ...    ...       ...\n",
       "995  1.577526   True  6.017716\n",
       "996 -0.100380  False -0.497787\n",
       "997 -1.277537  False -1.994353\n",
       "998 -1.929935  False -3.051819\n",
       "999 -2.299629  False  0.078988\n",
       "\n",
       "[1000 rows x 3 columns]"
      ]
     },
     "execution_count": 2,
     "metadata": {},
     "output_type": "execute_result"
    }
   ],
   "source": [
    "data = dowhy.datasets.linear_dataset(beta=5,\n",
    "        num_common_causes=1,\n",
    "        num_instruments = 0,\n",
    "        num_samples=1000,\n",
    "        treatment_is_binary=True)\n",
    "df = data['df']\n",
    "df['y'] = df['y'] + np.random.normal(size=len(df)) # Adding noise to data. Without noise, the variance in Y|X, Z is zero, and mcmc fails.\n",
    "#data['dot_graph'] = 'digraph { v ->y;X0-> v;X0-> y;}'\n",
    "\n",
    "treatment= data[\"treatment_name\"][0]\n",
    "outcome = data[\"outcome_name\"][0]\n",
    "common_cause = data[\"common_causes_names\"][0]\n",
    "df"
   ]
  },
  {
   "cell_type": "code",
   "execution_count": 3,
   "metadata": {
    "execution": {
     "iopub.execute_input": "2022-08-12T21:13:39.904381Z",
     "iopub.status.busy": "2022-08-12T21:13:39.903908Z",
     "iopub.status.idle": "2022-08-12T21:13:40.640483Z",
     "shell.execute_reply": "2022-08-12T21:13:40.639961Z"
    }
   },
   "outputs": [
    {
     "data": {
      "text/plain": [
       "<AxesSubplot:xlabel='v0'>"
      ]
     },
     "execution_count": 3,
     "metadata": {},
     "output_type": "execute_result"
    },
    {
     "data": {
      "image/png": "[encoded data removed]",
      "text/plain": [
       "<Figure size 432x288 with 1 Axes>"
      ]
     },
     "metadata": {
      "needs_background": "light"
     },
     "output_type": "display_data"
    }
   ],
   "source": [
    "# data['df'] is just a regular pandas.DataFrame\n",
    "df.causal.do(x=treatment,\n",
    "                     variable_types={treatment: 'b', outcome: 'c', common_cause: 'c'},\n",
    "                     outcome=outcome,\n",
    "                     common_causes=[common_cause],\n",
    "                     proceed_when_unidentifiable=True).groupby(treatment).mean().plot(y=outcome, kind='bar')"
   ]
  },
  {
   "cell_type": "code",
   "execution_count": 4,
   "metadata": {
    "execution": {
     "iopub.execute_input": "2022-08-12T21:13:40.643742Z",
     "iopub.status.busy": "2022-08-12T21:13:40.643199Z",
     "iopub.status.idle": "2022-08-12T21:13:40.738724Z",
     "shell.execute_reply": "2022-08-12T21:13:40.738214Z"
    }
   },
   "outputs": [
    {
     "data": {
      "text/plain": [
       "<AxesSubplot:xlabel='v0'>"
      ]
     },
     "execution_count": 4,
     "metadata": {},
     "output_type": "execute_result"
    },
    {
     "data": {
      "image/png": "[encoded data removed]",
      "text/plain": [
       "<Figure size 432x288 with 1 Axes>"
      ]
     },
     "metadata": {
      "needs_background": "light"
     },
     "output_type": "display_data"
    }
   ],
   "source": [
    "df.causal.do(x={treatment: 1}, \n",
    "              variable_types={treatment:'b', outcome: 'c', common_cause: 'c'}, \n",
    "              outcome=outcome,\n",
    "              method='weighting', \n",
    "              common_causes=[common_cause],\n",
    "              proceed_when_unidentifiable=True).groupby(treatment).mean().plot(y=outcome, kind='bar')"
   ]
  },
  {
   "cell_type": "code",
   "execution_count": 5,
   "metadata": {
    "execution": {
     "iopub.execute_input": "2022-08-12T21:13:40.742741Z",
     "iopub.status.busy": "2022-08-12T21:13:40.741572Z",
     "iopub.status.idle": "2022-08-12T21:13:40.772412Z",
     "shell.execute_reply": "2022-08-12T21:13:40.771824Z"
    }
   },
   "outputs": [],
   "source": [
    "cdf_1 = df.causal.do(x={treatment: 1}, \n",
    "              variable_types={treatment: 'b', outcome: 'c', common_cause: 'c'}, \n",
    "              outcome=outcome, \n",
    "              dot_graph=data['dot_graph'],\n",
    "              proceed_when_unidentifiable=True)\n",
    "\n",
    "cdf_0 = df.causal.do(x={treatment: 0}, \n",
    "              variable_types={treatment: 'b', outcome: 'c', common_cause: 'c'}, \n",
    "              outcome=outcome, \n",
    "              dot_graph=data['dot_graph'],\n",
    "              proceed_when_unidentifiable=True)\n"
   ]
  },
  {
   "cell_type": "code",
   "execution_count": 6,
   "metadata": {
    "execution": {
     "iopub.execute_input": "2022-08-12T21:13:40.775786Z",
     "iopub.status.busy": "2022-08-12T21:13:40.775460Z",
     "iopub.status.idle": "2022-08-12T21:13:40.787571Z",
     "shell.execute_reply": "2022-08-12T21:13:40.787032Z"
    },
    "scrolled": true
   },
   "outputs": [
    {
     "data": {
      "text/html": [
       "<div>\n",
       "<style scoped>\n",
       "    .dataframe tbody tr th:only-of-type {\n",
       "        vertical-align: middle;\n",
       "    }\n",
       "\n",
       "    .dataframe tbody tr th {\n",
       "        vertical-align: top;\n",
       "    }\n",
       "\n",
       "    .dataframe thead th {\n",
       "        text-align: right;\n",
       "    }\n",
       "</style>\n",
       "<table border=\"1\" class=\"dataframe\">\n",
       "  <thead>\n",
       "    <tr style=\"text-align: right;\">\n",
       "      <th></th>\n",
       "      <th>W0</th>\n",
       "      <th>v0</th>\n",
       "      <th>y</th>\n",
       "      <th>propensity_score</th>\n",
       "      <th>weight</th>\n",
       "    </tr>\n",
       "  </thead>\n",
       "  <tbody>\n",
       "    <tr>\n",
       "      <th>0</th>\n",
       "      <td>-0.413411</td>\n",
       "      <td>False</td>\n",
       "      <td>-3.011550</td>\n",
       "      <td>0.718065</td>\n",
       "      <td>1.392632</td>\n",
       "    </tr>\n",
       "    <tr>\n",
       "      <th>1</th>\n",
       "      <td>-0.503486</td>\n",
       "      <td>False</td>\n",
       "      <td>-0.723673</td>\n",
       "      <td>0.758362</td>\n",
       "      <td>1.318631</td>\n",
       "    </tr>\n",
       "    <tr>\n",
       "      <th>2</th>\n",
       "      <td>-1.109065</td>\n",
       "      <td>False</td>\n",
       "      <td>-1.185229</td>\n",
       "      <td>0.927422</td>\n",
       "      <td>1.078257</td>\n",
       "    </tr>\n",
       "    <tr>\n",
       "      <th>3</th>\n",
       "      <td>-0.689446</td>\n",
       "      <td>False</td>\n",
       "      <td>-0.059338</td>\n",
       "      <td>0.828477</td>\n",
       "      <td>1.207035</td>\n",
       "    </tr>\n",
       "    <tr>\n",
       "      <th>4</th>\n",
       "      <td>-0.234609</td>\n",
       "      <td>False</td>\n",
       "      <td>0.550175</td>\n",
       "      <td>0.627225</td>\n",
       "      <td>1.594325</td>\n",
       "    </tr>\n",
       "    <tr>\n",
       "      <th>...</th>\n",
       "      <td>...</td>\n",
       "      <td>...</td>\n",
       "      <td>...</td>\n",
       "      <td>...</td>\n",
       "      <td>...</td>\n",
       "    </tr>\n",
       "    <tr>\n",
       "      <th>995</th>\n",
       "      <td>-1.052660</td>\n",
       "      <td>False</td>\n",
       "      <td>-2.134502</td>\n",
       "      <td>0.918113</td>\n",
       "      <td>1.089191</td>\n",
       "    </tr>\n",
       "    <tr>\n",
       "      <th>996</th>\n",
       "      <td>0.630880</td>\n",
       "      <td>False</td>\n",
       "      <td>-0.036196</td>\n",
       "      <td>0.184477</td>\n",
       "      <td>5.420726</td>\n",
       "    </tr>\n",
       "    <tr>\n",
       "      <th>997</th>\n",
       "      <td>-0.340382</td>\n",
       "      <td>False</td>\n",
       "      <td>0.629278</td>\n",
       "      <td>0.682560</td>\n",
       "      <td>1.465072</td>\n",
       "    </tr>\n",
       "    <tr>\n",
       "      <th>998</th>\n",
       "      <td>-1.706485</td>\n",
       "      <td>False</td>\n",
       "      <td>-2.135956</td>\n",
       "      <td>0.980789</td>\n",
       "      <td>1.019587</td>\n",
       "    </tr>\n",
       "    <tr>\n",
       "      <th>999</th>\n",
       "      <td>0.971068</td>\n",
       "      <td>False</td>\n",
       "      <td>1.462291</td>\n",
       "      <td>0.093212</td>\n",
       "      <td>10.728202</td>\n",
       "    </tr>\n",
       "  </tbody>\n",
       "</table>\n",
       "<p>1000 rows × 5 columns</p>\n",
       "</div>"
      ],
      "text/plain": [
       "           W0     v0         y  propensity_score     weight\n",
       "0   -0.413411  False -3.011550          0.718065   1.392632\n",
       "1   -0.503486  False -0.723673          0.758362   1.318631\n",
       "2   -1.109065  False -1.185229          0.927422   1.078257\n",
       "3   -0.689446  False -0.059338          0.828477   1.207035\n",
       "4   -0.234609  False  0.550175          0.627225   1.594325\n",
       "..        ...    ...       ...               ...        ...\n",
       "995 -1.052660  False -2.134502          0.918113   1.089191\n",
       "996  0.630880  False -0.036196          0.184477   5.420726\n",
       "997 -0.340382  False  0.629278          0.682560   1.465072\n",
       "998 -1.706485  False -2.135956          0.980789   1.019587\n",
       "999  0.971068  False  1.462291          0.093212  10.728202\n",
       "\n",
       "[1000 rows x 5 columns]"
      ]
     },
     "execution_count": 6,
     "metadata": {},
     "output_type": "execute_result"
    }
   ],
   "source": [
    "cdf_0"
   ]
  },
  {
   "cell_type": "code",
   "execution_count": 7,
   "metadata": {
    "execution": {
     "iopub.execute_input": "2022-08-12T21:13:40.790118Z",
     "iopub.status.busy": "2022-08-12T21:13:40.789903Z",
     "iopub.status.idle": "2022-08-12T21:13:40.801437Z",
     "shell.execute_reply": "2022-08-12T21:13:40.800870Z"
    }
   },
   "outputs": [
    {
     "data": {
      "text/html": [
       "<div>\n",
       "<style scoped>\n",
       "    .dataframe tbody tr th:only-of-type {\n",
       "        vertical-align: middle;\n",
       "    }\n",
       "\n",
       "    .dataframe tbody tr th {\n",
       "        vertical-align: top;\n",
       "    }\n",
       "\n",
       "    .dataframe thead th {\n",
       "        text-align: right;\n",
       "    }\n",
       "</style>\n",
       "<table border=\"1\" class=\"dataframe\">\n",
       "  <thead>\n",
       "    <tr style=\"text-align: right;\">\n",
       "      <th></th>\n",
       "      <th>W0</th>\n",
       "      <th>v0</th>\n",
       "      <th>y</th>\n",
       "      <th>propensity_score</th>\n",
       "      <th>weight</th>\n",
       "    </tr>\n",
       "  </thead>\n",
       "  <tbody>\n",
       "    <tr>\n",
       "      <th>0</th>\n",
       "      <td>0.637850</td>\n",
       "      <td>True</td>\n",
       "      <td>6.357383</td>\n",
       "      <td>0.817942</td>\n",
       "      <td>1.222581</td>\n",
       "    </tr>\n",
       "    <tr>\n",
       "      <th>1</th>\n",
       "      <td>-0.339625</td>\n",
       "      <td>True</td>\n",
       "      <td>3.751875</td>\n",
       "      <td>0.317820</td>\n",
       "      <td>3.146436</td>\n",
       "    </tr>\n",
       "    <tr>\n",
       "      <th>2</th>\n",
       "      <td>-0.301255</td>\n",
       "      <td>True</td>\n",
       "      <td>4.089082</td>\n",
       "      <td>0.337412</td>\n",
       "      <td>2.963737</td>\n",
       "    </tr>\n",
       "    <tr>\n",
       "      <th>3</th>\n",
       "      <td>-0.794561</td>\n",
       "      <td>True</td>\n",
       "      <td>4.453677</td>\n",
       "      <td>0.139605</td>\n",
       "      <td>7.163087</td>\n",
       "    </tr>\n",
       "    <tr>\n",
       "      <th>4</th>\n",
       "      <td>0.690220</td>\n",
       "      <td>True</td>\n",
       "      <td>4.805532</td>\n",
       "      <td>0.835330</td>\n",
       "      <td>1.197132</td>\n",
       "    </tr>\n",
       "    <tr>\n",
       "      <th>...</th>\n",
       "      <td>...</td>\n",
       "      <td>...</td>\n",
       "      <td>...</td>\n",
       "      <td>...</td>\n",
       "      <td>...</td>\n",
       "    </tr>\n",
       "    <tr>\n",
       "      <th>995</th>\n",
       "      <td>0.920459</td>\n",
       "      <td>True</td>\n",
       "      <td>6.346192</td>\n",
       "      <td>0.896385</td>\n",
       "      <td>1.115592</td>\n",
       "    </tr>\n",
       "    <tr>\n",
       "      <th>996</th>\n",
       "      <td>-0.284072</td>\n",
       "      <td>True</td>\n",
       "      <td>6.897859</td>\n",
       "      <td>0.346376</td>\n",
       "      <td>2.887039</td>\n",
       "    </tr>\n",
       "    <tr>\n",
       "      <th>997</th>\n",
       "      <td>1.611058</td>\n",
       "      <td>True</td>\n",
       "      <td>6.970666</td>\n",
       "      <td>0.977220</td>\n",
       "      <td>1.023311</td>\n",
       "    </tr>\n",
       "    <tr>\n",
       "      <th>998</th>\n",
       "      <td>-0.607393</td>\n",
       "      <td>True</td>\n",
       "      <td>4.716431</td>\n",
       "      <td>0.200267</td>\n",
       "      <td>4.993341</td>\n",
       "    </tr>\n",
       "    <tr>\n",
       "      <th>999</th>\n",
       "      <td>-1.787815</td>\n",
       "      <td>True</td>\n",
       "      <td>2.750805</td>\n",
       "      <td>0.015962</td>\n",
       "      <td>62.647537</td>\n",
       "    </tr>\n",
       "  </tbody>\n",
       "</table>\n",
       "<p>1000 rows × 5 columns</p>\n",
       "</div>"
      ],
      "text/plain": [
       "           W0    v0         y  propensity_score     weight\n",
       "0    0.637850  True  6.357383          0.817942   1.222581\n",
       "1   -0.339625  True  3.751875          0.317820   3.146436\n",
       "2   -0.301255  True  4.089082          0.337412   2.963737\n",
       "3   -0.794561  True  4.453677          0.139605   7.163087\n",
       "4    0.690220  True  4.805532          0.835330   1.197132\n",
       "..        ...   ...       ...               ...        ...\n",
       "995  0.920459  True  6.346192          0.896385   1.115592\n",
       "996 -0.284072  True  6.897859          0.346376   2.887039\n",
       "997  1.611058  True  6.970666          0.977220   1.023311\n",
       "998 -0.607393  True  4.716431          0.200267   4.993341\n",
       "999 -1.787815  True  2.750805          0.015962  62.647537\n",
       "\n",
       "[1000 rows x 5 columns]"
      ]
     },
     "execution_count": 7,
     "metadata": {},
     "output_type": "execute_result"
    }
   ],
   "source": [
    "cdf_1"
   ]
  },
  {
   "cell_type": "markdown",
   "metadata": {},
   "source": [
    "## Comparing the estimate to Linear Regression\n",
    "First, estimating the effect using the causal data frame, and the 95% confidence interval."
   ]
  },
  {
   "cell_type": "code",
   "execution_count": 8,
   "metadata": {
    "execution": {
     "iopub.execute_input": "2022-08-12T21:13:40.804063Z",
     "iopub.status.busy": "2022-08-12T21:13:40.803845Z",
     "iopub.status.idle": "2022-08-12T21:13:40.901851Z",
     "shell.execute_reply": "2022-08-12T21:13:40.901233Z"
    }
   },
   "outputs": [
    {
     "data": {
      "image/png": "[encoded data removed]",
      "text/latex": [
       "$\\displaystyle 5.19989395600647$"
      ],
      "text/plain": [
       "5.19989395600647"
      ]
     },
     "execution_count": 8,
     "metadata": {},
     "output_type": "execute_result"
    }
   ],
   "source": [
    "(cdf_1['y'] - cdf_0['y']).mean()"
   ]
  },
  {
   "cell_type": "code",
   "execution_count": 9,
   "metadata": {
    "execution": {
     "iopub.execute_input": "2022-08-12T21:13:40.904676Z",
     "iopub.status.busy": "2022-08-12T21:13:40.904335Z",
     "iopub.status.idle": "2022-08-12T21:13:40.928529Z",
     "shell.execute_reply": "2022-08-12T21:13:40.927928Z"
    }
   },
   "outputs": [
    {
     "data": {
      "image/png": "[encoded data removed]",
      "text/latex": [
       "$\\displaystyle 0.111691929165291$"
      ],
      "text/plain": [
       "0.11169192916529087"
      ]
     },
     "execution_count": 9,
     "metadata": {},
     "output_type": "execute_result"
    }
   ],
   "source": [
    "1.96*(cdf_1['y'] - cdf_0['y']).std() / np.sqrt(len(df))"
   ]
  },
  {
   "cell_type": "markdown",
   "metadata": {},
   "source": [
    "Comparing to the estimate from OLS."
   ]
  },
  {
   "cell_type": "code",
   "execution_count": 10,
   "metadata": {
    "execution": {
     "iopub.execute_input": "2022-08-12T21:13:40.931464Z",
     "iopub.status.busy": "2022-08-12T21:13:40.930899Z",
     "iopub.status.idle": "2022-08-12T21:13:40.946209Z",
     "shell.execute_reply": "2022-08-12T21:13:40.945615Z"
    }
   },
   "outputs": [
    {
     "data": {
      "text/html": [
       "<table class=\"simpletable\">\n",
       "<caption>OLS Regression Results</caption>\n",
       "<tr>\n",
       "  <th>Dep. Variable:</th>            <td>y</td>        <th>  R-squared (uncentered):</th>      <td>   0.931</td>\n",
       "</tr>\n",
       "<tr>\n",
       "  <th>Model:</th>                   <td>OLS</td>       <th>  Adj. R-squared (uncentered):</th> <td>   0.931</td>\n",
       "</tr>\n",
       "<tr>\n",
       "  <th>Method:</th>             <td>Least Squares</td>  <th>  F-statistic:       </th>          <td>   6738.</td>\n",
       "</tr>\n",
       "<tr>\n",
       "  <th>Date:</th>             <td>Fri, 12 Aug 2022</td> <th>  Prob (F-statistic):</th>           <td>  0.00</td> \n",
       "</tr>\n",
       "<tr>\n",
       "  <th>Time:</th>                 <td>21:13:40</td>     <th>  Log-Likelihood:    </th>          <td> -1402.9</td>\n",
       "</tr>\n",
       "<tr>\n",
       "  <th>No. Observations:</th>      <td>  1000</td>      <th>  AIC:               </th>          <td>   2810.</td>\n",
       "</tr>\n",
       "<tr>\n",
       "  <th>Df Residuals:</th>          <td>   998</td>      <th>  BIC:               </th>          <td>   2820.</td>\n",
       "</tr>\n",
       "<tr>\n",
       "  <th>Df Model:</th>              <td>     2</td>      <th>                     </th>              <td> </td>   \n",
       "</tr>\n",
       "<tr>\n",
       "  <th>Covariance Type:</th>      <td>nonrobust</td>    <th>                     </th>              <td> </td>   \n",
       "</tr>\n",
       "</table>\n",
       "<table class=\"simpletable\">\n",
       "<tr>\n",
       "   <td></td>     <th>coef</th>     <th>std err</th>      <th>t</th>      <th>P>|t|</th>  <th>[0.025</th>    <th>0.975]</th>  \n",
       "</tr>\n",
       "<tr>\n",
       "  <th>x1</th> <td>    0.8508</td> <td>    0.032</td> <td>   26.562</td> <td> 0.000</td> <td>    0.788</td> <td>    0.914</td>\n",
       "</tr>\n",
       "<tr>\n",
       "  <th>x2</th> <td>    5.0237</td> <td>    0.050</td> <td>  100.302</td> <td> 0.000</td> <td>    4.925</td> <td>    5.122</td>\n",
       "</tr>\n",
       "</table>\n",
       "<table class=\"simpletable\">\n",
       "<tr>\n",
       "  <th>Omnibus:</th>       <td> 0.299</td> <th>  Durbin-Watson:     </th> <td>   2.040</td>\n",
       "</tr>\n",
       "<tr>\n",
       "  <th>Prob(Omnibus):</th> <td> 0.861</td> <th>  Jarque-Bera (JB):  </th> <td>   0.326</td>\n",
       "</tr>\n",
       "<tr>\n",
       "  <th>Skew:</th>          <td> 0.042</td> <th>  Prob(JB):          </th> <td>   0.849</td>\n",
       "</tr>\n",
       "<tr>\n",
       "  <th>Kurtosis:</th>      <td> 2.969</td> <th>  Cond. No.          </th> <td>    1.72</td>\n",
       "</tr>\n",
       "</table><br/><br/>Notes:<br/>[1] R² is computed without centering (uncentered) since the model does not contain a constant.<br/>[2] Standard Errors assume that the covariance matrix of the errors is correctly specified."
      ],
      "text/plain": [
       "<class 'statsmodels.iolib.summary.Summary'>\n",
       "\"\"\"\n",
       "                                 OLS Regression Results                                \n",
       "=======================================================================================\n",
       "Dep. Variable:                      y   R-squared (uncentered):                   0.931\n",
       "Model:                            OLS   Adj. R-squared (uncentered):              0.931\n",
       "Method:                 Least Squares   F-statistic:                              6738.\n",
       "Date:                Fri, 12 Aug 2022   Prob (F-statistic):                        0.00\n",
       "Time:                        21:13:40   Log-Likelihood:                         -1402.9\n",
       "No. Observations:                1000   AIC:                                      2810.\n",
       "Df Residuals:                     998   BIC:                                      2820.\n",
       "Df Model:                           2                                                  \n",
       "Covariance Type:            nonrobust                                                  \n",
       "==============================================================================\n",
       "                 coef    std err          t      P>|t|      [0.025      0.975]\n",
       "------------------------------------------------------------------------------\n",
       "x1             0.8508      0.032     26.562      0.000       0.788       0.914\n",
       "x2             5.0237      0.050    100.302      0.000       4.925       5.122\n",
       "==============================================================================\n",
       "Omnibus:                        0.299   Durbin-Watson:                   2.040\n",
       "Prob(Omnibus):                  0.861   Jarque-Bera (JB):                0.326\n",
       "Skew:                           0.042   Prob(JB):                        0.849\n",
       "Kurtosis:                       2.969   Cond. No.                         1.72\n",
       "==============================================================================\n",
       "\n",
       "Notes:\n",
       "[1] R² is computed without centering (uncentered) since the model does not contain a constant.\n",
       "[2] Standard Errors assume that the covariance matrix of the errors is correctly specified.\n",
       "\"\"\""
      ]
     },
     "execution_count": 10,
     "metadata": {},
     "output_type": "execute_result"
    }
   ],
   "source": [
    "model = OLS(np.asarray(df[outcome]), np.asarray(df[[common_cause, treatment]], dtype=np.float64))\n",
    "result = model.fit()\n",
    "result.summary()"
   ]
  }
 ],
 "metadata": {
  "kernelspec": {
   "display_name": "Python 3",
   "language": "python",
   "name": "python3"
  },
  "language_info": {
   "codemirror_mode": {
    "name": "ipython",
    "version": 3
   },
   "file_extension": ".py",
   "mimetype": "text/x-python",
   "name": "python",
   "nbconvert_exporter": "python",
   "pygments_lexer": "ipython3",
   "version": "3.8.10"
  },
  "toc": {
   "base_numbering": 1,
   "nav_menu": {},
   "number_sections": false,
   "sideBar": true,
   "skip_h1_title": true,
   "title_cell": "Table of Contents",
   "title_sidebar": "Contents",
   "toc_cell": false,
   "toc_position": {},
   "toc_section_display": true,
   "toc_window_display": false
  }
 },
 "nbformat": 4,
 "nbformat_minor": 4
}
