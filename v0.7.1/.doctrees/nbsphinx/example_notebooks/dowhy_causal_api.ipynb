{
 "cells": [
  {
   "cell_type": "markdown",
   "metadata": {},
   "source": [
    "# Demo for the DoWhy causal API\n",
    "We show a simple example of adding a causal extension to any dataframe. "
   ]
  },
  {
   "cell_type": "code",
   "execution_count": 1,
   "metadata": {
    "execution": {
     "iopub.execute_input": "2022-09-01T16:33:05.781400Z",
     "iopub.status.busy": "2022-09-01T16:33:05.781066Z",
     "iopub.status.idle": "2022-09-01T16:33:07.186217Z",
     "shell.execute_reply": "2022-09-01T16:33:07.185285Z"
    }
   },
   "outputs": [],
   "source": [
    "import dowhy.datasets\n",
    "import dowhy.api\n",
    "\n",
    "import numpy as np\n",
    "import pandas as pd\n",
    "\n",
    "from statsmodels.api import OLS"
   ]
  },
  {
   "cell_type": "code",
   "execution_count": 2,
   "metadata": {
    "execution": {
     "iopub.execute_input": "2022-09-01T16:33:07.190672Z",
     "iopub.status.busy": "2022-09-01T16:33:07.190190Z",
     "iopub.status.idle": "2022-09-01T16:33:07.243594Z",
     "shell.execute_reply": "2022-09-01T16:33:07.242464Z"
    }
   },
   "outputs": [
    {
     "data": {
      "text/html": [
       "<div>\n",
       "<style scoped>\n",
       "    .dataframe tbody tr th:only-of-type {\n",
       "        vertical-align: middle;\n",
       "    }\n",
       "\n",
       "    .dataframe tbody tr th {\n",
       "        vertical-align: top;\n",
       "    }\n",
       "\n",
       "    .dataframe thead th {\n",
       "        text-align: right;\n",
       "    }\n",
       "</style>\n",
       "<table border=\"1\" class=\"dataframe\">\n",
       "  <thead>\n",
       "    <tr style=\"text-align: right;\">\n",
       "      <th></th>\n",
       "      <th>W0</th>\n",
       "      <th>v0</th>\n",
       "      <th>y</th>\n",
       "    </tr>\n",
       "  </thead>\n",
       "  <tbody>\n",
       "    <tr>\n",
       "      <th>0</th>\n",
       "      <td>2.112003</td>\n",
       "      <td>True</td>\n",
       "      <td>6.185237</td>\n",
       "    </tr>\n",
       "    <tr>\n",
       "      <th>1</th>\n",
       "      <td>0.184925</td>\n",
       "      <td>False</td>\n",
       "      <td>-1.578231</td>\n",
       "    </tr>\n",
       "    <tr>\n",
       "      <th>2</th>\n",
       "      <td>0.952604</td>\n",
       "      <td>False</td>\n",
       "      <td>1.449819</td>\n",
       "    </tr>\n",
       "    <tr>\n",
       "      <th>3</th>\n",
       "      <td>0.946551</td>\n",
       "      <td>True</td>\n",
       "      <td>8.404735</td>\n",
       "    </tr>\n",
       "    <tr>\n",
       "      <th>4</th>\n",
       "      <td>0.356712</td>\n",
       "      <td>True</td>\n",
       "      <td>5.772946</td>\n",
       "    </tr>\n",
       "    <tr>\n",
       "      <th>...</th>\n",
       "      <td>...</td>\n",
       "      <td>...</td>\n",
       "      <td>...</td>\n",
       "    </tr>\n",
       "    <tr>\n",
       "      <th>995</th>\n",
       "      <td>0.915931</td>\n",
       "      <td>True</td>\n",
       "      <td>5.927939</td>\n",
       "    </tr>\n",
       "    <tr>\n",
       "      <th>996</th>\n",
       "      <td>-1.097095</td>\n",
       "      <td>False</td>\n",
       "      <td>-1.231371</td>\n",
       "    </tr>\n",
       "    <tr>\n",
       "      <th>997</th>\n",
       "      <td>0.607962</td>\n",
       "      <td>True</td>\n",
       "      <td>2.862744</td>\n",
       "    </tr>\n",
       "    <tr>\n",
       "      <th>998</th>\n",
       "      <td>0.680794</td>\n",
       "      <td>True</td>\n",
       "      <td>5.167180</td>\n",
       "    </tr>\n",
       "    <tr>\n",
       "      <th>999</th>\n",
       "      <td>0.383996</td>\n",
       "      <td>True</td>\n",
       "      <td>5.125728</td>\n",
       "    </tr>\n",
       "  </tbody>\n",
       "</table>\n",
       "<p>1000 rows × 3 columns</p>\n",
       "</div>"
      ],
      "text/plain": [
       "           W0     v0         y\n",
       "0    2.112003   True  6.185237\n",
       "1    0.184925  False -1.578231\n",
       "2    0.952604  False  1.449819\n",
       "3    0.946551   True  8.404735\n",
       "4    0.356712   True  5.772946\n",
       "..        ...    ...       ...\n",
       "995  0.915931   True  5.927939\n",
       "996 -1.097095  False -1.231371\n",
       "997  0.607962   True  2.862744\n",
       "998  0.680794   True  5.167180\n",
       "999  0.383996   True  5.125728\n",
       "\n",
       "[1000 rows x 3 columns]"
      ]
     },
     "execution_count": 2,
     "metadata": {},
     "output_type": "execute_result"
    }
   ],
   "source": [
    "data = dowhy.datasets.linear_dataset(beta=5,\n",
    "        num_common_causes=1,\n",
    "        num_instruments = 0,\n",
    "        num_samples=1000,\n",
    "        treatment_is_binary=True)\n",
    "df = data['df']\n",
    "df['y'] = df['y'] + np.random.normal(size=len(df)) # Adding noise to data. Without noise, the variance in Y|X, Z is zero, and mcmc fails.\n",
    "#data['dot_graph'] = 'digraph { v ->y;X0-> v;X0-> y;}'\n",
    "\n",
    "treatment= data[\"treatment_name\"][0]\n",
    "outcome = data[\"outcome_name\"][0]\n",
    "common_cause = data[\"common_causes_names\"][0]\n",
    "df"
   ]
  },
  {
   "cell_type": "code",
   "execution_count": 3,
   "metadata": {
    "execution": {
     "iopub.execute_input": "2022-09-01T16:33:07.247886Z",
     "iopub.status.busy": "2022-09-01T16:33:07.247169Z",
     "iopub.status.idle": "2022-09-01T16:33:08.185435Z",
     "shell.execute_reply": "2022-09-01T16:33:08.184633Z"
    }
   },
   "outputs": [
    {
     "data": {
      "text/plain": [
       "<AxesSubplot:xlabel='v0'>"
      ]
     },
     "execution_count": 3,
     "metadata": {},
     "output_type": "execute_result"
    },
    {
     "data": {
      "image/png": "[encoded data removed]",
      "text/plain": [
       "<Figure size 640x480 with 1 Axes>"
      ]
     },
     "metadata": {},
     "output_type": "display_data"
    }
   ],
   "source": [
    "# data['df'] is just a regular pandas.DataFrame\n",
    "df.causal.do(x=treatment,\n",
    "                     variable_types={treatment: 'b', outcome: 'c', common_cause: 'c'},\n",
    "                     outcome=outcome,\n",
    "                     common_causes=[common_cause],\n",
    "                     proceed_when_unidentifiable=True).groupby(treatment).mean().plot(y=outcome, kind='bar')"
   ]
  },
  {
   "cell_type": "code",
   "execution_count": 4,
   "metadata": {
    "execution": {
     "iopub.execute_input": "2022-09-01T16:33:08.191159Z",
     "iopub.status.busy": "2022-09-01T16:33:08.190534Z",
     "iopub.status.idle": "2022-09-01T16:33:08.321340Z",
     "shell.execute_reply": "2022-09-01T16:33:08.320574Z"
    }
   },
   "outputs": [
    {
     "data": {
      "text/plain": [
       "<AxesSubplot:xlabel='v0'>"
      ]
     },
     "execution_count": 4,
     "metadata": {},
     "output_type": "execute_result"
    },
    {
     "data": {
      "image/png": "[encoded data removed]",
      "text/plain": [
       "<Figure size 640x480 with 1 Axes>"
      ]
     },
     "metadata": {},
     "output_type": "display_data"
    }
   ],
   "source": [
    "df.causal.do(x={treatment: 1}, \n",
    "              variable_types={treatment:'b', outcome: 'c', common_cause: 'c'}, \n",
    "              outcome=outcome,\n",
    "              method='weighting', \n",
    "              common_causes=[common_cause],\n",
    "              proceed_when_unidentifiable=True).groupby(treatment).mean().plot(y=outcome, kind='bar')"
   ]
  },
  {
   "cell_type": "code",
   "execution_count": 5,
   "metadata": {
    "execution": {
     "iopub.execute_input": "2022-09-01T16:33:08.324889Z",
     "iopub.status.busy": "2022-09-01T16:33:08.324388Z",
     "iopub.status.idle": "2022-09-01T16:33:08.362410Z",
     "shell.execute_reply": "2022-09-01T16:33:08.361567Z"
    }
   },
   "outputs": [],
   "source": [
    "cdf_1 = df.causal.do(x={treatment: 1}, \n",
    "              variable_types={treatment: 'b', outcome: 'c', common_cause: 'c'}, \n",
    "              outcome=outcome, \n",
    "              dot_graph=data['dot_graph'],\n",
    "              proceed_when_unidentifiable=True)\n",
    "\n",
    "cdf_0 = df.causal.do(x={treatment: 0}, \n",
    "              variable_types={treatment: 'b', outcome: 'c', common_cause: 'c'}, \n",
    "              outcome=outcome, \n",
    "              dot_graph=data['dot_graph'],\n",
    "              proceed_when_unidentifiable=True)\n"
   ]
  },
  {
   "cell_type": "code",
   "execution_count": 6,
   "metadata": {
    "execution": {
     "iopub.execute_input": "2022-09-01T16:33:08.366328Z",
     "iopub.status.busy": "2022-09-01T16:33:08.365779Z",
     "iopub.status.idle": "2022-09-01T16:33:08.380957Z",
     "shell.execute_reply": "2022-09-01T16:33:08.380262Z"
    },
    "scrolled": true
   },
   "outputs": [
    {
     "data": {
      "text/html": [
       "<div>\n",
       "<style scoped>\n",
       "    .dataframe tbody tr th:only-of-type {\n",
       "        vertical-align: middle;\n",
       "    }\n",
       "\n",
       "    .dataframe tbody tr th {\n",
       "        vertical-align: top;\n",
       "    }\n",
       "\n",
       "    .dataframe thead th {\n",
       "        text-align: right;\n",
       "    }\n",
       "</style>\n",
       "<table border=\"1\" class=\"dataframe\">\n",
       "  <thead>\n",
       "    <tr style=\"text-align: right;\">\n",
       "      <th></th>\n",
       "      <th>W0</th>\n",
       "      <th>v0</th>\n",
       "      <th>y</th>\n",
       "      <th>propensity_score</th>\n",
       "      <th>weight</th>\n",
       "    </tr>\n",
       "  </thead>\n",
       "  <tbody>\n",
       "    <tr>\n",
       "      <th>0</th>\n",
       "      <td>1.043345</td>\n",
       "      <td>False</td>\n",
       "      <td>1.343102</td>\n",
       "      <td>0.067201</td>\n",
       "      <td>14.880738</td>\n",
       "    </tr>\n",
       "    <tr>\n",
       "      <th>1</th>\n",
       "      <td>1.471761</td>\n",
       "      <td>False</td>\n",
       "      <td>2.576858</td>\n",
       "      <td>0.022312</td>\n",
       "      <td>44.818637</td>\n",
       "    </tr>\n",
       "    <tr>\n",
       "      <th>2</th>\n",
       "      <td>1.471761</td>\n",
       "      <td>False</td>\n",
       "      <td>2.576858</td>\n",
       "      <td>0.022312</td>\n",
       "      <td>44.818637</td>\n",
       "    </tr>\n",
       "    <tr>\n",
       "      <th>3</th>\n",
       "      <td>-1.023744</td>\n",
       "      <td>False</td>\n",
       "      <td>-1.114682</td>\n",
       "      <td>0.948635</td>\n",
       "      <td>1.054147</td>\n",
       "    </tr>\n",
       "    <tr>\n",
       "      <th>4</th>\n",
       "      <td>1.312429</td>\n",
       "      <td>False</td>\n",
       "      <td>0.256365</td>\n",
       "      <td>0.033813</td>\n",
       "      <td>29.574846</td>\n",
       "    </tr>\n",
       "    <tr>\n",
       "      <th>...</th>\n",
       "      <td>...</td>\n",
       "      <td>...</td>\n",
       "      <td>...</td>\n",
       "      <td>...</td>\n",
       "      <td>...</td>\n",
       "    </tr>\n",
       "    <tr>\n",
       "      <th>995</th>\n",
       "      <td>1.043345</td>\n",
       "      <td>False</td>\n",
       "      <td>1.343102</td>\n",
       "      <td>0.067201</td>\n",
       "      <td>14.880738</td>\n",
       "    </tr>\n",
       "    <tr>\n",
       "      <th>996</th>\n",
       "      <td>0.841934</td>\n",
       "      <td>False</td>\n",
       "      <td>0.626565</td>\n",
       "      <td>0.110067</td>\n",
       "      <td>9.085411</td>\n",
       "    </tr>\n",
       "    <tr>\n",
       "      <th>997</th>\n",
       "      <td>1.134521</td>\n",
       "      <td>False</td>\n",
       "      <td>1.508177</td>\n",
       "      <td>0.053396</td>\n",
       "      <td>18.728101</td>\n",
       "    </tr>\n",
       "    <tr>\n",
       "      <th>998</th>\n",
       "      <td>-1.000468</td>\n",
       "      <td>False</td>\n",
       "      <td>-2.114149</td>\n",
       "      <td>0.945505</td>\n",
       "      <td>1.057636</td>\n",
       "    </tr>\n",
       "    <tr>\n",
       "      <th>999</th>\n",
       "      <td>-0.295329</td>\n",
       "      <td>False</td>\n",
       "      <td>-1.419593</td>\n",
       "      <td>0.723427</td>\n",
       "      <td>1.382309</td>\n",
       "    </tr>\n",
       "  </tbody>\n",
       "</table>\n",
       "<p>1000 rows × 5 columns</p>\n",
       "</div>"
      ],
      "text/plain": [
       "           W0     v0         y  propensity_score     weight\n",
       "0    1.043345  False  1.343102          0.067201  14.880738\n",
       "1    1.471761  False  2.576858          0.022312  44.818637\n",
       "2    1.471761  False  2.576858          0.022312  44.818637\n",
       "3   -1.023744  False -1.114682          0.948635   1.054147\n",
       "4    1.312429  False  0.256365          0.033813  29.574846\n",
       "..        ...    ...       ...               ...        ...\n",
       "995  1.043345  False  1.343102          0.067201  14.880738\n",
       "996  0.841934  False  0.626565          0.110067   9.085411\n",
       "997  1.134521  False  1.508177          0.053396  18.728101\n",
       "998 -1.000468  False -2.114149          0.945505   1.057636\n",
       "999 -0.295329  False -1.419593          0.723427   1.382309\n",
       "\n",
       "[1000 rows x 5 columns]"
      ]
     },
     "execution_count": 6,
     "metadata": {},
     "output_type": "execute_result"
    }
   ],
   "source": [
    "cdf_0"
   ]
  },
  {
   "cell_type": "code",
   "execution_count": 7,
   "metadata": {
    "execution": {
     "iopub.execute_input": "2022-09-01T16:33:08.384366Z",
     "iopub.status.busy": "2022-09-01T16:33:08.383933Z",
     "iopub.status.idle": "2022-09-01T16:33:08.398838Z",
     "shell.execute_reply": "2022-09-01T16:33:08.397981Z"
    }
   },
   "outputs": [
    {
     "data": {
      "text/html": [
       "<div>\n",
       "<style scoped>\n",
       "    .dataframe tbody tr th:only-of-type {\n",
       "        vertical-align: middle;\n",
       "    }\n",
       "\n",
       "    .dataframe tbody tr th {\n",
       "        vertical-align: top;\n",
       "    }\n",
       "\n",
       "    .dataframe thead th {\n",
       "        text-align: right;\n",
       "    }\n",
       "</style>\n",
       "<table border=\"1\" class=\"dataframe\">\n",
       "  <thead>\n",
       "    <tr style=\"text-align: right;\">\n",
       "      <th></th>\n",
       "      <th>W0</th>\n",
       "      <th>v0</th>\n",
       "      <th>y</th>\n",
       "      <th>propensity_score</th>\n",
       "      <th>weight</th>\n",
       "    </tr>\n",
       "  </thead>\n",
       "  <tbody>\n",
       "    <tr>\n",
       "      <th>0</th>\n",
       "      <td>-1.213307</td>\n",
       "      <td>True</td>\n",
       "      <td>4.183742</td>\n",
       "      <td>0.031532</td>\n",
       "      <td>31.713741</td>\n",
       "    </tr>\n",
       "    <tr>\n",
       "      <th>1</th>\n",
       "      <td>3.812234</td>\n",
       "      <td>True</td>\n",
       "      <td>5.742081</td>\n",
       "      <td>0.999957</td>\n",
       "      <td>1.000043</td>\n",
       "    </tr>\n",
       "    <tr>\n",
       "      <th>2</th>\n",
       "      <td>0.736457</td>\n",
       "      <td>True</td>\n",
       "      <td>4.128071</td>\n",
       "      <td>0.859004</td>\n",
       "      <td>1.164139</td>\n",
       "    </tr>\n",
       "    <tr>\n",
       "      <th>3</th>\n",
       "      <td>1.613649</td>\n",
       "      <td>True</td>\n",
       "      <td>6.301445</td>\n",
       "      <td>0.984644</td>\n",
       "      <td>1.015595</td>\n",
       "    </tr>\n",
       "    <tr>\n",
       "      <th>4</th>\n",
       "      <td>0.199173</td>\n",
       "      <td>True</td>\n",
       "      <td>7.112640</td>\n",
       "      <td>0.590337</td>\n",
       "      <td>1.693947</td>\n",
       "    </tr>\n",
       "    <tr>\n",
       "      <th>...</th>\n",
       "      <td>...</td>\n",
       "      <td>...</td>\n",
       "      <td>...</td>\n",
       "      <td>...</td>\n",
       "      <td>...</td>\n",
       "    </tr>\n",
       "    <tr>\n",
       "      <th>995</th>\n",
       "      <td>0.486798</td>\n",
       "      <td>True</td>\n",
       "      <td>6.304761</td>\n",
       "      <td>0.757153</td>\n",
       "      <td>1.320736</td>\n",
       "    </tr>\n",
       "    <tr>\n",
       "      <th>996</th>\n",
       "      <td>-0.232262</td>\n",
       "      <td>True</td>\n",
       "      <td>5.387088</td>\n",
       "      <td>0.311675</td>\n",
       "      <td>3.208466</td>\n",
       "    </tr>\n",
       "    <tr>\n",
       "      <th>997</th>\n",
       "      <td>0.406203</td>\n",
       "      <td>True</td>\n",
       "      <td>6.780357</td>\n",
       "      <td>0.715221</td>\n",
       "      <td>1.398170</td>\n",
       "    </tr>\n",
       "    <tr>\n",
       "      <th>998</th>\n",
       "      <td>1.148272</td>\n",
       "      <td>True</td>\n",
       "      <td>6.450302</td>\n",
       "      <td>0.948439</td>\n",
       "      <td>1.054364</td>\n",
       "    </tr>\n",
       "    <tr>\n",
       "      <th>999</th>\n",
       "      <td>1.604908</td>\n",
       "      <td>True</td>\n",
       "      <td>5.928425</td>\n",
       "      <td>0.984285</td>\n",
       "      <td>1.015965</td>\n",
       "    </tr>\n",
       "  </tbody>\n",
       "</table>\n",
       "<p>1000 rows × 5 columns</p>\n",
       "</div>"
      ],
      "text/plain": [
       "           W0    v0         y  propensity_score     weight\n",
       "0   -1.213307  True  4.183742          0.031532  31.713741\n",
       "1    3.812234  True  5.742081          0.999957   1.000043\n",
       "2    0.736457  True  4.128071          0.859004   1.164139\n",
       "3    1.613649  True  6.301445          0.984644   1.015595\n",
       "4    0.199173  True  7.112640          0.590337   1.693947\n",
       "..        ...   ...       ...               ...        ...\n",
       "995  0.486798  True  6.304761          0.757153   1.320736\n",
       "996 -0.232262  True  5.387088          0.311675   3.208466\n",
       "997  0.406203  True  6.780357          0.715221   1.398170\n",
       "998  1.148272  True  6.450302          0.948439   1.054364\n",
       "999  1.604908  True  5.928425          0.984285   1.015965\n",
       "\n",
       "[1000 rows x 5 columns]"
      ]
     },
     "execution_count": 7,
     "metadata": {},
     "output_type": "execute_result"
    }
   ],
   "source": [
    "cdf_1"
   ]
  },
  {
   "cell_type": "markdown",
   "metadata": {},
   "source": [
    "## Comparing the estimate to Linear Regression\n",
    "First, estimating the effect using the causal data frame, and the 95% confidence interval."
   ]
  },
  {
   "cell_type": "code",
   "execution_count": 8,
   "metadata": {
    "execution": {
     "iopub.execute_input": "2022-09-01T16:33:08.402678Z",
     "iopub.status.busy": "2022-09-01T16:33:08.402396Z",
     "iopub.status.idle": "2022-09-01T16:33:08.523026Z",
     "shell.execute_reply": "2022-09-01T16:33:08.522257Z"
    }
   },
   "outputs": [
    {
     "data": {
      "image/png": "[encoded data removed]",
      "text/latex": [
       "$\\displaystyle 5.08001475529476$"
      ],
      "text/plain": [
       "5.0800147552947585"
      ]
     },
     "execution_count": 8,
     "metadata": {},
     "output_type": "execute_result"
    }
   ],
   "source": [
    "(cdf_1['y'] - cdf_0['y']).mean()"
   ]
  },
  {
   "cell_type": "code",
   "execution_count": 9,
   "metadata": {
    "execution": {
     "iopub.execute_input": "2022-09-01T16:33:08.527220Z",
     "iopub.status.busy": "2022-09-01T16:33:08.526595Z",
     "iopub.status.idle": "2022-09-01T16:33:08.559269Z",
     "shell.execute_reply": "2022-09-01T16:33:08.558468Z"
    }
   },
   "outputs": [
    {
     "data": {
      "image/png": "[encoded data removed]",
      "text/latex": [
       "$\\displaystyle 0.116153750272971$"
      ],
      "text/plain": [
       "0.11615375027297133"
      ]
     },
     "execution_count": 9,
     "metadata": {},
     "output_type": "execute_result"
    }
   ],
   "source": [
    "1.96*(cdf_1['y'] - cdf_0['y']).std() / np.sqrt(len(df))"
   ]
  },
  {
   "cell_type": "markdown",
   "metadata": {},
   "source": [
    "Comparing to the estimate from OLS."
   ]
  },
  {
   "cell_type": "code",
   "execution_count": 10,
   "metadata": {
    "execution": {
     "iopub.execute_input": "2022-09-01T16:33:08.565229Z",
     "iopub.status.busy": "2022-09-01T16:33:08.563750Z",
     "iopub.status.idle": "2022-09-01T16:33:08.591187Z",
     "shell.execute_reply": "2022-09-01T16:33:08.590288Z"
    }
   },
   "outputs": [
    {
     "data": {
      "text/html": [
       "<table class=\"simpletable\">\n",
       "<caption>OLS Regression Results</caption>\n",
       "<tr>\n",
       "  <th>Dep. Variable:</th>            <td>y</td>        <th>  R-squared (uncentered):</th>      <td>   0.964</td> \n",
       "</tr>\n",
       "<tr>\n",
       "  <th>Model:</th>                   <td>OLS</td>       <th>  Adj. R-squared (uncentered):</th> <td>   0.963</td> \n",
       "</tr>\n",
       "<tr>\n",
       "  <th>Method:</th>             <td>Least Squares</td>  <th>  F-statistic:       </th>          <td>1.317e+04</td>\n",
       "</tr>\n",
       "<tr>\n",
       "  <th>Date:</th>             <td>Thu, 01 Sep 2022</td> <th>  Prob (F-statistic):</th>           <td>  0.00</td>  \n",
       "</tr>\n",
       "<tr>\n",
       "  <th>Time:</th>                 <td>16:33:08</td>     <th>  Log-Likelihood:    </th>          <td> -1405.3</td> \n",
       "</tr>\n",
       "<tr>\n",
       "  <th>No. Observations:</th>      <td>  1000</td>      <th>  AIC:               </th>          <td>   2815.</td> \n",
       "</tr>\n",
       "<tr>\n",
       "  <th>Df Residuals:</th>          <td>   998</td>      <th>  BIC:               </th>          <td>   2824.</td> \n",
       "</tr>\n",
       "<tr>\n",
       "  <th>Df Model:</th>              <td>     2</td>      <th>                     </th>              <td> </td>    \n",
       "</tr>\n",
       "<tr>\n",
       "  <th>Covariance Type:</th>      <td>nonrobust</td>    <th>                     </th>              <td> </td>    \n",
       "</tr>\n",
       "</table>\n",
       "<table class=\"simpletable\">\n",
       "<tr>\n",
       "   <td></td>     <th>coef</th>     <th>std err</th>      <th>t</th>      <th>P>|t|</th>  <th>[0.025</th>    <th>0.975]</th>  \n",
       "</tr>\n",
       "<tr>\n",
       "  <th>x1</th> <td>    0.7189</td> <td>    0.040</td> <td>   17.957</td> <td> 0.000</td> <td>    0.640</td> <td>    0.798</td>\n",
       "</tr>\n",
       "<tr>\n",
       "  <th>x2</th> <td>    5.0809</td> <td>    0.059</td> <td>   85.788</td> <td> 0.000</td> <td>    4.965</td> <td>    5.197</td>\n",
       "</tr>\n",
       "</table>\n",
       "<table class=\"simpletable\">\n",
       "<tr>\n",
       "  <th>Omnibus:</th>       <td> 0.414</td> <th>  Durbin-Watson:     </th> <td>   1.962</td>\n",
       "</tr>\n",
       "<tr>\n",
       "  <th>Prob(Omnibus):</th> <td> 0.813</td> <th>  Jarque-Bera (JB):  </th> <td>   0.468</td>\n",
       "</tr>\n",
       "<tr>\n",
       "  <th>Skew:</th>          <td> 0.046</td> <th>  Prob(JB):          </th> <td>   0.791</td>\n",
       "</tr>\n",
       "<tr>\n",
       "  <th>Kurtosis:</th>      <td> 2.948</td> <th>  Cond. No.          </th> <td>    3.16</td>\n",
       "</tr>\n",
       "</table><br/><br/>Notes:<br/>[1] R² is computed without centering (uncentered) since the model does not contain a constant.<br/>[2] Standard Errors assume that the covariance matrix of the errors is correctly specified."
      ],
      "text/plain": [
       "<class 'statsmodels.iolib.summary.Summary'>\n",
       "\"\"\"\n",
       "                                 OLS Regression Results                                \n",
       "=======================================================================================\n",
       "Dep. Variable:                      y   R-squared (uncentered):                   0.964\n",
       "Model:                            OLS   Adj. R-squared (uncentered):              0.963\n",
       "Method:                 Least Squares   F-statistic:                          1.317e+04\n",
       "Date:                Thu, 01 Sep 2022   Prob (F-statistic):                        0.00\n",
       "Time:                        16:33:08   Log-Likelihood:                         -1405.3\n",
       "No. Observations:                1000   AIC:                                      2815.\n",
       "Df Residuals:                     998   BIC:                                      2824.\n",
       "Df Model:                           2                                                  \n",
       "Covariance Type:            nonrobust                                                  \n",
       "==============================================================================\n",
       "                 coef    std err          t      P>|t|      [0.025      0.975]\n",
       "------------------------------------------------------------------------------\n",
       "x1             0.7189      0.040     17.957      0.000       0.640       0.798\n",
       "x2             5.0809      0.059     85.788      0.000       4.965       5.197\n",
       "==============================================================================\n",
       "Omnibus:                        0.414   Durbin-Watson:                   1.962\n",
       "Prob(Omnibus):                  0.813   Jarque-Bera (JB):                0.468\n",
       "Skew:                           0.046   Prob(JB):                        0.791\n",
       "Kurtosis:                       2.948   Cond. No.                         3.16\n",
       "==============================================================================\n",
       "\n",
       "Notes:\n",
       "[1] R² is computed without centering (uncentered) since the model does not contain a constant.\n",
       "[2] Standard Errors assume that the covariance matrix of the errors is correctly specified.\n",
       "\"\"\""
      ]
     },
     "execution_count": 10,
     "metadata": {},
     "output_type": "execute_result"
    }
   ],
   "source": [
    "model = OLS(np.asarray(df[outcome]), np.asarray(df[[common_cause, treatment]], dtype=np.float64))\n",
    "result = model.fit()\n",
    "result.summary()"
   ]
  }
 ],
 "metadata": {
  "kernelspec": {
   "display_name": "Python 3",
   "language": "python",
   "name": "python3"
  },
  "language_info": {
   "codemirror_mode": {
    "name": "ipython",
    "version": 3
   },
   "file_extension": ".py",
   "mimetype": "text/x-python",
   "name": "python",
   "nbconvert_exporter": "python",
   "pygments_lexer": "ipython3",
   "version": "3.8.10"
  },
  "toc": {
   "base_numbering": 1,
   "nav_menu": {},
   "number_sections": false,
   "sideBar": true,
   "skip_h1_title": true,
   "title_cell": "Table of Contents",
   "title_sidebar": "Contents",
   "toc_cell": false,
   "toc_position": {},
   "toc_section_display": true,
   "toc_window_display": false
  }
 },
 "nbformat": 4,
 "nbformat_minor": 4
}
