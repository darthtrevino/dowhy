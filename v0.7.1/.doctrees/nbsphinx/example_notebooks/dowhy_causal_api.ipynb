{
 "cells": [
  {
   "cell_type": "markdown",
   "metadata": {},
   "source": [
    "# Demo for the DoWhy causal API\n",
    "We show a simple example of adding a causal extension to any dataframe. "
   ]
  },
  {
   "cell_type": "code",
   "execution_count": 1,
   "metadata": {
    "execution": {
     "iopub.execute_input": "2022-09-01T16:29:21.946896Z",
     "iopub.status.busy": "2022-09-01T16:29:21.946525Z",
     "iopub.status.idle": "2022-09-01T16:29:23.043912Z",
     "shell.execute_reply": "2022-09-01T16:29:23.043227Z"
    }
   },
   "outputs": [],
   "source": [
    "import dowhy.datasets\n",
    "import dowhy.api\n",
    "\n",
    "import numpy as np\n",
    "import pandas as pd\n",
    "\n",
    "from statsmodels.api import OLS"
   ]
  },
  {
   "cell_type": "code",
   "execution_count": 2,
   "metadata": {
    "execution": {
     "iopub.execute_input": "2022-09-01T16:29:23.048017Z",
     "iopub.status.busy": "2022-09-01T16:29:23.047420Z",
     "iopub.status.idle": "2022-09-01T16:29:23.089243Z",
     "shell.execute_reply": "2022-09-01T16:29:23.088591Z"
    }
   },
   "outputs": [
    {
     "data": {
      "text/html": [
       "<div>\n",
       "<style scoped>\n",
       "    .dataframe tbody tr th:only-of-type {\n",
       "        vertical-align: middle;\n",
       "    }\n",
       "\n",
       "    .dataframe tbody tr th {\n",
       "        vertical-align: top;\n",
       "    }\n",
       "\n",
       "    .dataframe thead th {\n",
       "        text-align: right;\n",
       "    }\n",
       "</style>\n",
       "<table border=\"1\" class=\"dataframe\">\n",
       "  <thead>\n",
       "    <tr style=\"text-align: right;\">\n",
       "      <th></th>\n",
       "      <th>W0</th>\n",
       "      <th>v0</th>\n",
       "      <th>y</th>\n",
       "    </tr>\n",
       "  </thead>\n",
       "  <tbody>\n",
       "    <tr>\n",
       "      <th>0</th>\n",
       "      <td>-0.277311</td>\n",
       "      <td>True</td>\n",
       "      <td>3.174569</td>\n",
       "    </tr>\n",
       "    <tr>\n",
       "      <th>1</th>\n",
       "      <td>-0.704029</td>\n",
       "      <td>True</td>\n",
       "      <td>2.769239</td>\n",
       "    </tr>\n",
       "    <tr>\n",
       "      <th>2</th>\n",
       "      <td>-1.649341</td>\n",
       "      <td>False</td>\n",
       "      <td>-1.984300</td>\n",
       "    </tr>\n",
       "    <tr>\n",
       "      <th>3</th>\n",
       "      <td>-0.507771</td>\n",
       "      <td>False</td>\n",
       "      <td>-0.265239</td>\n",
       "    </tr>\n",
       "    <tr>\n",
       "      <th>4</th>\n",
       "      <td>0.035020</td>\n",
       "      <td>True</td>\n",
       "      <td>4.679703</td>\n",
       "    </tr>\n",
       "    <tr>\n",
       "      <th>...</th>\n",
       "      <td>...</td>\n",
       "      <td>...</td>\n",
       "      <td>...</td>\n",
       "    </tr>\n",
       "    <tr>\n",
       "      <th>995</th>\n",
       "      <td>1.298021</td>\n",
       "      <td>True</td>\n",
       "      <td>5.265690</td>\n",
       "    </tr>\n",
       "    <tr>\n",
       "      <th>996</th>\n",
       "      <td>-0.715655</td>\n",
       "      <td>False</td>\n",
       "      <td>-1.234270</td>\n",
       "    </tr>\n",
       "    <tr>\n",
       "      <th>997</th>\n",
       "      <td>0.437491</td>\n",
       "      <td>False</td>\n",
       "      <td>-0.225403</td>\n",
       "    </tr>\n",
       "    <tr>\n",
       "      <th>998</th>\n",
       "      <td>-0.581838</td>\n",
       "      <td>False</td>\n",
       "      <td>-1.420814</td>\n",
       "    </tr>\n",
       "    <tr>\n",
       "      <th>999</th>\n",
       "      <td>1.446015</td>\n",
       "      <td>True</td>\n",
       "      <td>7.222858</td>\n",
       "    </tr>\n",
       "  </tbody>\n",
       "</table>\n",
       "<p>1000 rows × 3 columns</p>\n",
       "</div>"
      ],
      "text/plain": [
       "           W0     v0         y\n",
       "0   -0.277311   True  3.174569\n",
       "1   -0.704029   True  2.769239\n",
       "2   -1.649341  False -1.984300\n",
       "3   -0.507771  False -0.265239\n",
       "4    0.035020   True  4.679703\n",
       "..        ...    ...       ...\n",
       "995  1.298021   True  5.265690\n",
       "996 -0.715655  False -1.234270\n",
       "997  0.437491  False -0.225403\n",
       "998 -0.581838  False -1.420814\n",
       "999  1.446015   True  7.222858\n",
       "\n",
       "[1000 rows x 3 columns]"
      ]
     },
     "execution_count": 2,
     "metadata": {},
     "output_type": "execute_result"
    }
   ],
   "source": [
    "data = dowhy.datasets.linear_dataset(beta=5,\n",
    "        num_common_causes=1,\n",
    "        num_instruments = 0,\n",
    "        num_samples=1000,\n",
    "        treatment_is_binary=True)\n",
    "df = data['df']\n",
    "df['y'] = df['y'] + np.random.normal(size=len(df)) # Adding noise to data. Without noise, the variance in Y|X, Z is zero, and mcmc fails.\n",
    "#data['dot_graph'] = 'digraph { v ->y;X0-> v;X0-> y;}'\n",
    "\n",
    "treatment= data[\"treatment_name\"][0]\n",
    "outcome = data[\"outcome_name\"][0]\n",
    "common_cause = data[\"common_causes_names\"][0]\n",
    "df"
   ]
  },
  {
   "cell_type": "code",
   "execution_count": 3,
   "metadata": {
    "execution": {
     "iopub.execute_input": "2022-09-01T16:29:23.091930Z",
     "iopub.status.busy": "2022-09-01T16:29:23.091705Z",
     "iopub.status.idle": "2022-09-01T16:29:23.852021Z",
     "shell.execute_reply": "2022-09-01T16:29:23.851432Z"
    }
   },
   "outputs": [
    {
     "data": {
      "text/plain": [
       "<AxesSubplot:xlabel='v0'>"
      ]
     },
     "execution_count": 3,
     "metadata": {},
     "output_type": "execute_result"
    },
    {
     "data": {
      "image/png": "[encoded data removed]",
      "text/plain": [
       "<Figure size 640x480 with 1 Axes>"
      ]
     },
     "metadata": {},
     "output_type": "display_data"
    }
   ],
   "source": [
    "# data['df'] is just a regular pandas.DataFrame\n",
    "df.causal.do(x=treatment,\n",
    "                     variable_types={treatment: 'b', outcome: 'c', common_cause: 'c'},\n",
    "                     outcome=outcome,\n",
    "                     common_causes=[common_cause],\n",
    "                     proceed_when_unidentifiable=True).groupby(treatment).mean().plot(y=outcome, kind='bar')"
   ]
  },
  {
   "cell_type": "code",
   "execution_count": 4,
   "metadata": {
    "execution": {
     "iopub.execute_input": "2022-09-01T16:29:23.856531Z",
     "iopub.status.busy": "2022-09-01T16:29:23.855384Z",
     "iopub.status.idle": "2022-09-01T16:29:23.963641Z",
     "shell.execute_reply": "2022-09-01T16:29:23.963106Z"
    }
   },
   "outputs": [
    {
     "data": {
      "text/plain": [
       "<AxesSubplot:xlabel='v0'>"
      ]
     },
     "execution_count": 4,
     "metadata": {},
     "output_type": "execute_result"
    },
    {
     "data": {
      "image/png": "[encoded data removed]",
      "text/plain": [
       "<Figure size 640x480 with 1 Axes>"
      ]
     },
     "metadata": {},
     "output_type": "display_data"
    }
   ],
   "source": [
    "df.causal.do(x={treatment: 1}, \n",
    "              variable_types={treatment:'b', outcome: 'c', common_cause: 'c'}, \n",
    "              outcome=outcome,\n",
    "              method='weighting', \n",
    "              common_causes=[common_cause],\n",
    "              proceed_when_unidentifiable=True).groupby(treatment).mean().plot(y=outcome, kind='bar')"
   ]
  },
  {
   "cell_type": "code",
   "execution_count": 5,
   "metadata": {
    "execution": {
     "iopub.execute_input": "2022-09-01T16:29:23.967015Z",
     "iopub.status.busy": "2022-09-01T16:29:23.966596Z",
     "iopub.status.idle": "2022-09-01T16:29:23.996873Z",
     "shell.execute_reply": "2022-09-01T16:29:23.996241Z"
    }
   },
   "outputs": [],
   "source": [
    "cdf_1 = df.causal.do(x={treatment: 1}, \n",
    "              variable_types={treatment: 'b', outcome: 'c', common_cause: 'c'}, \n",
    "              outcome=outcome, \n",
    "              dot_graph=data['dot_graph'],\n",
    "              proceed_when_unidentifiable=True)\n",
    "\n",
    "cdf_0 = df.causal.do(x={treatment: 0}, \n",
    "              variable_types={treatment: 'b', outcome: 'c', common_cause: 'c'}, \n",
    "              outcome=outcome, \n",
    "              dot_graph=data['dot_graph'],\n",
    "              proceed_when_unidentifiable=True)\n"
   ]
  },
  {
   "cell_type": "code",
   "execution_count": 6,
   "metadata": {
    "execution": {
     "iopub.execute_input": "2022-09-01T16:29:24.000567Z",
     "iopub.status.busy": "2022-09-01T16:29:24.000023Z",
     "iopub.status.idle": "2022-09-01T16:29:24.012920Z",
     "shell.execute_reply": "2022-09-01T16:29:24.012331Z"
    },
    "scrolled": true
   },
   "outputs": [
    {
     "data": {
      "text/html": [
       "<div>\n",
       "<style scoped>\n",
       "    .dataframe tbody tr th:only-of-type {\n",
       "        vertical-align: middle;\n",
       "    }\n",
       "\n",
       "    .dataframe tbody tr th {\n",
       "        vertical-align: top;\n",
       "    }\n",
       "\n",
       "    .dataframe thead th {\n",
       "        text-align: right;\n",
       "    }\n",
       "</style>\n",
       "<table border=\"1\" class=\"dataframe\">\n",
       "  <thead>\n",
       "    <tr style=\"text-align: right;\">\n",
       "      <th></th>\n",
       "      <th>W0</th>\n",
       "      <th>v0</th>\n",
       "      <th>y</th>\n",
       "      <th>propensity_score</th>\n",
       "      <th>weight</th>\n",
       "    </tr>\n",
       "  </thead>\n",
       "  <tbody>\n",
       "    <tr>\n",
       "      <th>0</th>\n",
       "      <td>-0.154328</td>\n",
       "      <td>False</td>\n",
       "      <td>-0.597742</td>\n",
       "      <td>0.554613</td>\n",
       "      <td>1.803060</td>\n",
       "    </tr>\n",
       "    <tr>\n",
       "      <th>1</th>\n",
       "      <td>1.168937</td>\n",
       "      <td>False</td>\n",
       "      <td>2.427070</td>\n",
       "      <td>0.103976</td>\n",
       "      <td>9.617646</td>\n",
       "    </tr>\n",
       "    <tr>\n",
       "      <th>2</th>\n",
       "      <td>0.497096</td>\n",
       "      <td>False</td>\n",
       "      <td>-0.176167</td>\n",
       "      <td>0.279099</td>\n",
       "      <td>3.582961</td>\n",
       "    </tr>\n",
       "    <tr>\n",
       "      <th>3</th>\n",
       "      <td>0.689775</td>\n",
       "      <td>False</td>\n",
       "      <td>2.251229</td>\n",
       "      <td>0.215094</td>\n",
       "      <td>4.649120</td>\n",
       "    </tr>\n",
       "    <tr>\n",
       "      <th>4</th>\n",
       "      <td>-0.677846</td>\n",
       "      <td>False</td>\n",
       "      <td>-0.926560</td>\n",
       "      <td>0.761005</td>\n",
       "      <td>1.314051</td>\n",
       "    </tr>\n",
       "    <tr>\n",
       "      <th>...</th>\n",
       "      <td>...</td>\n",
       "      <td>...</td>\n",
       "      <td>...</td>\n",
       "      <td>...</td>\n",
       "      <td>...</td>\n",
       "    </tr>\n",
       "    <tr>\n",
       "      <th>995</th>\n",
       "      <td>1.003350</td>\n",
       "      <td>False</td>\n",
       "      <td>-0.010709</td>\n",
       "      <td>0.135071</td>\n",
       "      <td>7.403526</td>\n",
       "    </tr>\n",
       "    <tr>\n",
       "      <th>996</th>\n",
       "      <td>0.324687</td>\n",
       "      <td>False</td>\n",
       "      <td>1.089527</td>\n",
       "      <td>0.345306</td>\n",
       "      <td>2.895986</td>\n",
       "    </tr>\n",
       "    <tr>\n",
       "      <th>997</th>\n",
       "      <td>1.847102</td>\n",
       "      <td>False</td>\n",
       "      <td>1.995969</td>\n",
       "      <td>0.033245</td>\n",
       "      <td>30.079410</td>\n",
       "    </tr>\n",
       "    <tr>\n",
       "      <th>998</th>\n",
       "      <td>0.849710</td>\n",
       "      <td>False</td>\n",
       "      <td>2.032636</td>\n",
       "      <td>0.170610</td>\n",
       "      <td>5.861332</td>\n",
       "    </tr>\n",
       "    <tr>\n",
       "      <th>999</th>\n",
       "      <td>-0.133137</td>\n",
       "      <td>False</td>\n",
       "      <td>-1.391372</td>\n",
       "      <td>0.545206</td>\n",
       "      <td>1.834168</td>\n",
       "    </tr>\n",
       "  </tbody>\n",
       "</table>\n",
       "<p>1000 rows × 5 columns</p>\n",
       "</div>"
      ],
      "text/plain": [
       "           W0     v0         y  propensity_score     weight\n",
       "0   -0.154328  False -0.597742          0.554613   1.803060\n",
       "1    1.168937  False  2.427070          0.103976   9.617646\n",
       "2    0.497096  False -0.176167          0.279099   3.582961\n",
       "3    0.689775  False  2.251229          0.215094   4.649120\n",
       "4   -0.677846  False -0.926560          0.761005   1.314051\n",
       "..        ...    ...       ...               ...        ...\n",
       "995  1.003350  False -0.010709          0.135071   7.403526\n",
       "996  0.324687  False  1.089527          0.345306   2.895986\n",
       "997  1.847102  False  1.995969          0.033245  30.079410\n",
       "998  0.849710  False  2.032636          0.170610   5.861332\n",
       "999 -0.133137  False -1.391372          0.545206   1.834168\n",
       "\n",
       "[1000 rows x 5 columns]"
      ]
     },
     "execution_count": 6,
     "metadata": {},
     "output_type": "execute_result"
    }
   ],
   "source": [
    "cdf_0"
   ]
  },
  {
   "cell_type": "code",
   "execution_count": 7,
   "metadata": {
    "execution": {
     "iopub.execute_input": "2022-09-01T16:29:24.015629Z",
     "iopub.status.busy": "2022-09-01T16:29:24.015307Z",
     "iopub.status.idle": "2022-09-01T16:29:24.025023Z",
     "shell.execute_reply": "2022-09-01T16:29:24.024559Z"
    }
   },
   "outputs": [
    {
     "data": {
      "text/html": [
       "<div>\n",
       "<style scoped>\n",
       "    .dataframe tbody tr th:only-of-type {\n",
       "        vertical-align: middle;\n",
       "    }\n",
       "\n",
       "    .dataframe tbody tr th {\n",
       "        vertical-align: top;\n",
       "    }\n",
       "\n",
       "    .dataframe thead th {\n",
       "        text-align: right;\n",
       "    }\n",
       "</style>\n",
       "<table border=\"1\" class=\"dataframe\">\n",
       "  <thead>\n",
       "    <tr style=\"text-align: right;\">\n",
       "      <th></th>\n",
       "      <th>W0</th>\n",
       "      <th>v0</th>\n",
       "      <th>y</th>\n",
       "      <th>propensity_score</th>\n",
       "      <th>weight</th>\n",
       "    </tr>\n",
       "  </thead>\n",
       "  <tbody>\n",
       "    <tr>\n",
       "      <th>0</th>\n",
       "      <td>1.600815</td>\n",
       "      <td>True</td>\n",
       "      <td>7.523792</td>\n",
       "      <td>0.949230</td>\n",
       "      <td>1.053486</td>\n",
       "    </tr>\n",
       "    <tr>\n",
       "      <th>1</th>\n",
       "      <td>1.638261</td>\n",
       "      <td>True</td>\n",
       "      <td>7.525737</td>\n",
       "      <td>0.952370</td>\n",
       "      <td>1.050012</td>\n",
       "    </tr>\n",
       "    <tr>\n",
       "      <th>2</th>\n",
       "      <td>-0.304114</td>\n",
       "      <td>True</td>\n",
       "      <td>5.404912</td>\n",
       "      <td>0.380377</td>\n",
       "      <td>2.628973</td>\n",
       "    </tr>\n",
       "    <tr>\n",
       "      <th>3</th>\n",
       "      <td>-0.865347</td>\n",
       "      <td>True</td>\n",
       "      <td>2.001182</td>\n",
       "      <td>0.183253</td>\n",
       "      <td>5.456939</td>\n",
       "    </tr>\n",
       "    <tr>\n",
       "      <th>4</th>\n",
       "      <td>-1.079495</td>\n",
       "      <td>True</td>\n",
       "      <td>2.476834</td>\n",
       "      <td>0.132560</td>\n",
       "      <td>7.543770</td>\n",
       "    </tr>\n",
       "    <tr>\n",
       "      <th>...</th>\n",
       "      <td>...</td>\n",
       "      <td>...</td>\n",
       "      <td>...</td>\n",
       "      <td>...</td>\n",
       "      <td>...</td>\n",
       "    </tr>\n",
       "    <tr>\n",
       "      <th>995</th>\n",
       "      <td>-0.807990</td>\n",
       "      <td>True</td>\n",
       "      <td>3.422206</td>\n",
       "      <td>0.199153</td>\n",
       "      <td>5.021275</td>\n",
       "    </tr>\n",
       "    <tr>\n",
       "      <th>996</th>\n",
       "      <td>1.362396</td>\n",
       "      <td>True</td>\n",
       "      <td>7.015923</td>\n",
       "      <td>0.924195</td>\n",
       "      <td>1.082023</td>\n",
       "    </tr>\n",
       "    <tr>\n",
       "      <th>997</th>\n",
       "      <td>0.409565</td>\n",
       "      <td>True</td>\n",
       "      <td>5.454001</td>\n",
       "      <td>0.688252</td>\n",
       "      <td>1.452957</td>\n",
       "    </tr>\n",
       "    <tr>\n",
       "      <th>998</th>\n",
       "      <td>-0.807990</td>\n",
       "      <td>True</td>\n",
       "      <td>3.422206</td>\n",
       "      <td>0.199153</td>\n",
       "      <td>5.021275</td>\n",
       "    </tr>\n",
       "    <tr>\n",
       "      <th>999</th>\n",
       "      <td>-0.304114</td>\n",
       "      <td>True</td>\n",
       "      <td>5.404912</td>\n",
       "      <td>0.380377</td>\n",
       "      <td>2.628973</td>\n",
       "    </tr>\n",
       "  </tbody>\n",
       "</table>\n",
       "<p>1000 rows × 5 columns</p>\n",
       "</div>"
      ],
      "text/plain": [
       "           W0    v0         y  propensity_score    weight\n",
       "0    1.600815  True  7.523792          0.949230  1.053486\n",
       "1    1.638261  True  7.525737          0.952370  1.050012\n",
       "2   -0.304114  True  5.404912          0.380377  2.628973\n",
       "3   -0.865347  True  2.001182          0.183253  5.456939\n",
       "4   -1.079495  True  2.476834          0.132560  7.543770\n",
       "..        ...   ...       ...               ...       ...\n",
       "995 -0.807990  True  3.422206          0.199153  5.021275\n",
       "996  1.362396  True  7.015923          0.924195  1.082023\n",
       "997  0.409565  True  5.454001          0.688252  1.452957\n",
       "998 -0.807990  True  3.422206          0.199153  5.021275\n",
       "999 -0.304114  True  5.404912          0.380377  2.628973\n",
       "\n",
       "[1000 rows x 5 columns]"
      ]
     },
     "execution_count": 7,
     "metadata": {},
     "output_type": "execute_result"
    }
   ],
   "source": [
    "cdf_1"
   ]
  },
  {
   "cell_type": "markdown",
   "metadata": {},
   "source": [
    "## Comparing the estimate to Linear Regression\n",
    "First, estimating the effect using the causal data frame, and the 95% confidence interval."
   ]
  },
  {
   "cell_type": "code",
   "execution_count": 8,
   "metadata": {
    "execution": {
     "iopub.execute_input": "2022-09-01T16:29:24.027925Z",
     "iopub.status.busy": "2022-09-01T16:29:24.027584Z",
     "iopub.status.idle": "2022-09-01T16:29:24.124336Z",
     "shell.execute_reply": "2022-09-01T16:29:24.123674Z"
    }
   },
   "outputs": [
    {
     "data": {
      "image/png": "[encoded data removed]",
      "text/latex": [
       "$\\displaystyle 5.16837933787803$"
      ],
      "text/plain": [
       "5.168379337878027"
      ]
     },
     "execution_count": 8,
     "metadata": {},
     "output_type": "execute_result"
    }
   ],
   "source": [
    "(cdf_1['y'] - cdf_0['y']).mean()"
   ]
  },
  {
   "cell_type": "code",
   "execution_count": 9,
   "metadata": {
    "execution": {
     "iopub.execute_input": "2022-09-01T16:29:24.127180Z",
     "iopub.status.busy": "2022-09-01T16:29:24.126834Z",
     "iopub.status.idle": "2022-09-01T16:29:24.152024Z",
     "shell.execute_reply": "2022-09-01T16:29:24.151371Z"
    }
   },
   "outputs": [
    {
     "data": {
      "image/png": "[encoded data removed]",
      "text/latex": [
       "$\\displaystyle 0.175528402040428$"
      ],
      "text/plain": [
       "0.17552840204042755"
      ]
     },
     "execution_count": 9,
     "metadata": {},
     "output_type": "execute_result"
    }
   ],
   "source": [
    "1.96*(cdf_1['y'] - cdf_0['y']).std() / np.sqrt(len(df))"
   ]
  },
  {
   "cell_type": "markdown",
   "metadata": {},
   "source": [
    "Comparing to the estimate from OLS."
   ]
  },
  {
   "cell_type": "code",
   "execution_count": 10,
   "metadata": {
    "execution": {
     "iopub.execute_input": "2022-09-01T16:29:24.155042Z",
     "iopub.status.busy": "2022-09-01T16:29:24.154634Z",
     "iopub.status.idle": "2022-09-01T16:29:24.169819Z",
     "shell.execute_reply": "2022-09-01T16:29:24.169200Z"
    }
   },
   "outputs": [
    {
     "data": {
      "text/html": [
       "<table class=\"simpletable\">\n",
       "<caption>OLS Regression Results</caption>\n",
       "<tr>\n",
       "  <th>Dep. Variable:</th>            <td>y</td>        <th>  R-squared (uncentered):</th>      <td>   0.968</td> \n",
       "</tr>\n",
       "<tr>\n",
       "  <th>Model:</th>                   <td>OLS</td>       <th>  Adj. R-squared (uncentered):</th> <td>   0.968</td> \n",
       "</tr>\n",
       "<tr>\n",
       "  <th>Method:</th>             <td>Least Squares</td>  <th>  F-statistic:       </th>          <td>1.524e+04</td>\n",
       "</tr>\n",
       "<tr>\n",
       "  <th>Date:</th>             <td>Thu, 01 Sep 2022</td> <th>  Prob (F-statistic):</th>           <td>  0.00</td>  \n",
       "</tr>\n",
       "<tr>\n",
       "  <th>Time:</th>                 <td>16:29:24</td>     <th>  Log-Likelihood:    </th>          <td> -1387.9</td> \n",
       "</tr>\n",
       "<tr>\n",
       "  <th>No. Observations:</th>      <td>  1000</td>      <th>  AIC:               </th>          <td>   2780.</td> \n",
       "</tr>\n",
       "<tr>\n",
       "  <th>Df Residuals:</th>          <td>   998</td>      <th>  BIC:               </th>          <td>   2790.</td> \n",
       "</tr>\n",
       "<tr>\n",
       "  <th>Df Model:</th>              <td>     2</td>      <th>                     </th>              <td> </td>    \n",
       "</tr>\n",
       "<tr>\n",
       "  <th>Covariance Type:</th>      <td>nonrobust</td>    <th>                     </th>              <td> </td>    \n",
       "</tr>\n",
       "</table>\n",
       "<table class=\"simpletable\">\n",
       "<tr>\n",
       "   <td></td>     <th>coef</th>     <th>std err</th>      <th>t</th>      <th>P>|t|</th>  <th>[0.025</th>    <th>0.975]</th>  \n",
       "</tr>\n",
       "<tr>\n",
       "  <th>x1</th> <td>    1.9269</td> <td>    0.037</td> <td>   51.410</td> <td> 0.000</td> <td>    1.853</td> <td>    2.000</td>\n",
       "</tr>\n",
       "<tr>\n",
       "  <th>x2</th> <td>    5.0162</td> <td>    0.049</td> <td>  102.260</td> <td> 0.000</td> <td>    4.920</td> <td>    5.112</td>\n",
       "</tr>\n",
       "</table>\n",
       "<table class=\"simpletable\">\n",
       "<tr>\n",
       "  <th>Omnibus:</th>       <td> 2.657</td> <th>  Durbin-Watson:     </th> <td>   1.961</td>\n",
       "</tr>\n",
       "<tr>\n",
       "  <th>Prob(Omnibus):</th> <td> 0.265</td> <th>  Jarque-Bera (JB):  </th> <td>   2.413</td>\n",
       "</tr>\n",
       "<tr>\n",
       "  <th>Skew:</th>          <td>-0.046</td> <th>  Prob(JB):          </th> <td>   0.299</td>\n",
       "</tr>\n",
       "<tr>\n",
       "  <th>Kurtosis:</th>      <td> 2.778</td> <th>  Cond. No.          </th> <td>    2.13</td>\n",
       "</tr>\n",
       "</table><br/><br/>Notes:<br/>[1] R² is computed without centering (uncentered) since the model does not contain a constant.<br/>[2] Standard Errors assume that the covariance matrix of the errors is correctly specified."
      ],
      "text/plain": [
       "<class 'statsmodels.iolib.summary.Summary'>\n",
       "\"\"\"\n",
       "                                 OLS Regression Results                                \n",
       "=======================================================================================\n",
       "Dep. Variable:                      y   R-squared (uncentered):                   0.968\n",
       "Model:                            OLS   Adj. R-squared (uncentered):              0.968\n",
       "Method:                 Least Squares   F-statistic:                          1.524e+04\n",
       "Date:                Thu, 01 Sep 2022   Prob (F-statistic):                        0.00\n",
       "Time:                        16:29:24   Log-Likelihood:                         -1387.9\n",
       "No. Observations:                1000   AIC:                                      2780.\n",
       "Df Residuals:                     998   BIC:                                      2790.\n",
       "Df Model:                           2                                                  \n",
       "Covariance Type:            nonrobust                                                  \n",
       "==============================================================================\n",
       "                 coef    std err          t      P>|t|      [0.025      0.975]\n",
       "------------------------------------------------------------------------------\n",
       "x1             1.9269      0.037     51.410      0.000       1.853       2.000\n",
       "x2             5.0162      0.049    102.260      0.000       4.920       5.112\n",
       "==============================================================================\n",
       "Omnibus:                        2.657   Durbin-Watson:                   1.961\n",
       "Prob(Omnibus):                  0.265   Jarque-Bera (JB):                2.413\n",
       "Skew:                          -0.046   Prob(JB):                        0.299\n",
       "Kurtosis:                       2.778   Cond. No.                         2.13\n",
       "==============================================================================\n",
       "\n",
       "Notes:\n",
       "[1] R² is computed without centering (uncentered) since the model does not contain a constant.\n",
       "[2] Standard Errors assume that the covariance matrix of the errors is correctly specified.\n",
       "\"\"\""
      ]
     },
     "execution_count": 10,
     "metadata": {},
     "output_type": "execute_result"
    }
   ],
   "source": [
    "model = OLS(np.asarray(df[outcome]), np.asarray(df[[common_cause, treatment]], dtype=np.float64))\n",
    "result = model.fit()\n",
    "result.summary()"
   ]
  }
 ],
 "metadata": {
  "kernelspec": {
   "display_name": "Python 3",
   "language": "python",
   "name": "python3"
  },
  "language_info": {
   "codemirror_mode": {
    "name": "ipython",
    "version": 3
   },
   "file_extension": ".py",
   "mimetype": "text/x-python",
   "name": "python",
   "nbconvert_exporter": "python",
   "pygments_lexer": "ipython3",
   "version": "3.8.10"
  },
  "toc": {
   "base_numbering": 1,
   "nav_menu": {},
   "number_sections": false,
   "sideBar": true,
   "skip_h1_title": true,
   "title_cell": "Table of Contents",
   "title_sidebar": "Contents",
   "toc_cell": false,
   "toc_position": {},
   "toc_section_display": true,
   "toc_window_display": false
  }
 },
 "nbformat": 4,
 "nbformat_minor": 4
}
