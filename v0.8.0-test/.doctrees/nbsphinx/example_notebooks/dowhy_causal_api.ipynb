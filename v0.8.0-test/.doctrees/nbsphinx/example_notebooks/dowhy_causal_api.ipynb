{
 "cells": [
  {
   "cell_type": "markdown",
   "metadata": {},
   "source": [
    "# Demo for the DoWhy causal API\n",
    "We show a simple example of adding a causal extension to any dataframe. "
   ]
  },
  {
   "cell_type": "code",
   "execution_count": 1,
   "metadata": {
    "execution": {
     "iopub.execute_input": "2022-09-01T17:48:45.570925Z",
     "iopub.status.busy": "2022-09-01T17:48:45.570508Z",
     "iopub.status.idle": "2022-09-01T17:48:47.002521Z",
     "shell.execute_reply": "2022-09-01T17:48:47.001508Z"
    }
   },
   "outputs": [],
   "source": [
    "import dowhy.datasets\n",
    "import dowhy.api\n",
    "\n",
    "import numpy as np\n",
    "import pandas as pd\n",
    "\n",
    "from statsmodels.api import OLS"
   ]
  },
  {
   "cell_type": "code",
   "execution_count": 2,
   "metadata": {
    "execution": {
     "iopub.execute_input": "2022-09-01T17:48:47.008738Z",
     "iopub.status.busy": "2022-09-01T17:48:47.006909Z",
     "iopub.status.idle": "2022-09-01T17:48:47.059571Z",
     "shell.execute_reply": "2022-09-01T17:48:47.058510Z"
    }
   },
   "outputs": [
    {
     "data": {
      "text/html": [
       "<div>\n",
       "<style scoped>\n",
       "    .dataframe tbody tr th:only-of-type {\n",
       "        vertical-align: middle;\n",
       "    }\n",
       "\n",
       "    .dataframe tbody tr th {\n",
       "        vertical-align: top;\n",
       "    }\n",
       "\n",
       "    .dataframe thead th {\n",
       "        text-align: right;\n",
       "    }\n",
       "</style>\n",
       "<table border=\"1\" class=\"dataframe\">\n",
       "  <thead>\n",
       "    <tr style=\"text-align: right;\">\n",
       "      <th></th>\n",
       "      <th>W0</th>\n",
       "      <th>v0</th>\n",
       "      <th>y</th>\n",
       "    </tr>\n",
       "  </thead>\n",
       "  <tbody>\n",
       "    <tr>\n",
       "      <th>0</th>\n",
       "      <td>1.298744</td>\n",
       "      <td>True</td>\n",
       "      <td>4.734315</td>\n",
       "    </tr>\n",
       "    <tr>\n",
       "      <th>1</th>\n",
       "      <td>1.897935</td>\n",
       "      <td>False</td>\n",
       "      <td>-0.248138</td>\n",
       "    </tr>\n",
       "    <tr>\n",
       "      <th>2</th>\n",
       "      <td>0.865948</td>\n",
       "      <td>False</td>\n",
       "      <td>0.709972</td>\n",
       "    </tr>\n",
       "    <tr>\n",
       "      <th>3</th>\n",
       "      <td>0.002909</td>\n",
       "      <td>True</td>\n",
       "      <td>2.744047</td>\n",
       "    </tr>\n",
       "    <tr>\n",
       "      <th>4</th>\n",
       "      <td>2.002586</td>\n",
       "      <td>True</td>\n",
       "      <td>6.070389</td>\n",
       "    </tr>\n",
       "    <tr>\n",
       "      <th>...</th>\n",
       "      <td>...</td>\n",
       "      <td>...</td>\n",
       "      <td>...</td>\n",
       "    </tr>\n",
       "    <tr>\n",
       "      <th>995</th>\n",
       "      <td>0.835879</td>\n",
       "      <td>False</td>\n",
       "      <td>0.051443</td>\n",
       "    </tr>\n",
       "    <tr>\n",
       "      <th>996</th>\n",
       "      <td>1.544201</td>\n",
       "      <td>True</td>\n",
       "      <td>4.774908</td>\n",
       "    </tr>\n",
       "    <tr>\n",
       "      <th>997</th>\n",
       "      <td>-0.063051</td>\n",
       "      <td>False</td>\n",
       "      <td>-0.639709</td>\n",
       "    </tr>\n",
       "    <tr>\n",
       "      <th>998</th>\n",
       "      <td>0.860892</td>\n",
       "      <td>True</td>\n",
       "      <td>5.796355</td>\n",
       "    </tr>\n",
       "    <tr>\n",
       "      <th>999</th>\n",
       "      <td>0.117330</td>\n",
       "      <td>False</td>\n",
       "      <td>0.914986</td>\n",
       "    </tr>\n",
       "  </tbody>\n",
       "</table>\n",
       "<p>1000 rows × 3 columns</p>\n",
       "</div>"
      ],
      "text/plain": [
       "           W0     v0         y\n",
       "0    1.298744   True  4.734315\n",
       "1    1.897935  False -0.248138\n",
       "2    0.865948  False  0.709972\n",
       "3    0.002909   True  2.744047\n",
       "4    2.002586   True  6.070389\n",
       "..        ...    ...       ...\n",
       "995  0.835879  False  0.051443\n",
       "996  1.544201   True  4.774908\n",
       "997 -0.063051  False -0.639709\n",
       "998  0.860892   True  5.796355\n",
       "999  0.117330  False  0.914986\n",
       "\n",
       "[1000 rows x 3 columns]"
      ]
     },
     "execution_count": 2,
     "metadata": {},
     "output_type": "execute_result"
    }
   ],
   "source": [
    "data = dowhy.datasets.linear_dataset(beta=5,\n",
    "        num_common_causes=1,\n",
    "        num_instruments = 0,\n",
    "        num_samples=1000,\n",
    "        treatment_is_binary=True)\n",
    "df = data['df']\n",
    "df['y'] = df['y'] + np.random.normal(size=len(df)) # Adding noise to data. Without noise, the variance in Y|X, Z is zero, and mcmc fails.\n",
    "#data['dot_graph'] = 'digraph { v ->y;X0-> v;X0-> y;}'\n",
    "\n",
    "treatment= data[\"treatment_name\"][0]\n",
    "outcome = data[\"outcome_name\"][0]\n",
    "common_cause = data[\"common_causes_names\"][0]\n",
    "df"
   ]
  },
  {
   "cell_type": "code",
   "execution_count": 3,
   "metadata": {
    "execution": {
     "iopub.execute_input": "2022-09-01T17:48:47.064380Z",
     "iopub.status.busy": "2022-09-01T17:48:47.063429Z",
     "iopub.status.idle": "2022-09-01T17:48:47.960611Z",
     "shell.execute_reply": "2022-09-01T17:48:47.959921Z"
    }
   },
   "outputs": [
    {
     "data": {
      "text/plain": [
       "<AxesSubplot:xlabel='v0'>"
      ]
     },
     "execution_count": 3,
     "metadata": {},
     "output_type": "execute_result"
    },
    {
     "data": {
      "image/png": "[encoded data removed]",
      "text/plain": [
       "<Figure size 640x480 with 1 Axes>"
      ]
     },
     "metadata": {},
     "output_type": "display_data"
    }
   ],
   "source": [
    "# data['df'] is just a regular pandas.DataFrame\n",
    "df.causal.do(x=treatment,\n",
    "                     variable_types={treatment: 'b', outcome: 'c', common_cause: 'c'},\n",
    "                     outcome=outcome,\n",
    "                     common_causes=[common_cause],\n",
    "                     proceed_when_unidentifiable=True).groupby(treatment).mean().plot(y=outcome, kind='bar')"
   ]
  },
  {
   "cell_type": "code",
   "execution_count": 4,
   "metadata": {
    "execution": {
     "iopub.execute_input": "2022-09-01T17:48:47.965335Z",
     "iopub.status.busy": "2022-09-01T17:48:47.963719Z",
     "iopub.status.idle": "2022-09-01T17:48:48.090492Z",
     "shell.execute_reply": "2022-09-01T17:48:48.089846Z"
    }
   },
   "outputs": [
    {
     "data": {
      "text/plain": [
       "<AxesSubplot:xlabel='v0'>"
      ]
     },
     "execution_count": 4,
     "metadata": {},
     "output_type": "execute_result"
    },
    {
     "data": {
      "image/png": "[encoded data removed]",
      "text/plain": [
       "<Figure size 640x480 with 1 Axes>"
      ]
     },
     "metadata": {},
     "output_type": "display_data"
    }
   ],
   "source": [
    "df.causal.do(x={treatment: 1}, \n",
    "              variable_types={treatment:'b', outcome: 'c', common_cause: 'c'}, \n",
    "              outcome=outcome,\n",
    "              method='weighting', \n",
    "              common_causes=[common_cause],\n",
    "              proceed_when_unidentifiable=True).groupby(treatment).mean().plot(y=outcome, kind='bar')"
   ]
  },
  {
   "cell_type": "code",
   "execution_count": 5,
   "metadata": {
    "execution": {
     "iopub.execute_input": "2022-09-01T17:48:48.095738Z",
     "iopub.status.busy": "2022-09-01T17:48:48.094472Z",
     "iopub.status.idle": "2022-09-01T17:48:48.133395Z",
     "shell.execute_reply": "2022-09-01T17:48:48.132648Z"
    }
   },
   "outputs": [],
   "source": [
    "cdf_1 = df.causal.do(x={treatment: 1}, \n",
    "              variable_types={treatment: 'b', outcome: 'c', common_cause: 'c'}, \n",
    "              outcome=outcome, \n",
    "              dot_graph=data['dot_graph'],\n",
    "              proceed_when_unidentifiable=True)\n",
    "\n",
    "cdf_0 = df.causal.do(x={treatment: 0}, \n",
    "              variable_types={treatment: 'b', outcome: 'c', common_cause: 'c'}, \n",
    "              outcome=outcome, \n",
    "              dot_graph=data['dot_graph'],\n",
    "              proceed_when_unidentifiable=True)\n"
   ]
  },
  {
   "cell_type": "code",
   "execution_count": 6,
   "metadata": {
    "execution": {
     "iopub.execute_input": "2022-09-01T17:48:48.137669Z",
     "iopub.status.busy": "2022-09-01T17:48:48.136963Z",
     "iopub.status.idle": "2022-09-01T17:48:48.152474Z",
     "shell.execute_reply": "2022-09-01T17:48:48.151705Z"
    },
    "scrolled": true
   },
   "outputs": [
    {
     "data": {
      "text/html": [
       "<div>\n",
       "<style scoped>\n",
       "    .dataframe tbody tr th:only-of-type {\n",
       "        vertical-align: middle;\n",
       "    }\n",
       "\n",
       "    .dataframe tbody tr th {\n",
       "        vertical-align: top;\n",
       "    }\n",
       "\n",
       "    .dataframe thead th {\n",
       "        text-align: right;\n",
       "    }\n",
       "</style>\n",
       "<table border=\"1\" class=\"dataframe\">\n",
       "  <thead>\n",
       "    <tr style=\"text-align: right;\">\n",
       "      <th></th>\n",
       "      <th>W0</th>\n",
       "      <th>v0</th>\n",
       "      <th>y</th>\n",
       "      <th>propensity_score</th>\n",
       "      <th>weight</th>\n",
       "    </tr>\n",
       "  </thead>\n",
       "  <tbody>\n",
       "    <tr>\n",
       "      <th>0</th>\n",
       "      <td>1.639095</td>\n",
       "      <td>False</td>\n",
       "      <td>-1.339608</td>\n",
       "      <td>0.315263</td>\n",
       "      <td>3.171958</td>\n",
       "    </tr>\n",
       "    <tr>\n",
       "      <th>1</th>\n",
       "      <td>0.497256</td>\n",
       "      <td>False</td>\n",
       "      <td>-0.780597</td>\n",
       "      <td>0.460130</td>\n",
       "      <td>2.173301</td>\n",
       "    </tr>\n",
       "    <tr>\n",
       "      <th>2</th>\n",
       "      <td>1.199772</td>\n",
       "      <td>False</td>\n",
       "      <td>1.283749</td>\n",
       "      <td>0.368491</td>\n",
       "      <td>2.713772</td>\n",
       "    </tr>\n",
       "    <tr>\n",
       "      <th>3</th>\n",
       "      <td>1.023798</td>\n",
       "      <td>False</td>\n",
       "      <td>-1.116229</td>\n",
       "      <td>0.390838</td>\n",
       "      <td>2.558606</td>\n",
       "    </tr>\n",
       "    <tr>\n",
       "      <th>4</th>\n",
       "      <td>0.816575</td>\n",
       "      <td>False</td>\n",
       "      <td>0.345647</td>\n",
       "      <td>0.417746</td>\n",
       "      <td>2.393800</td>\n",
       "    </tr>\n",
       "    <tr>\n",
       "      <th>...</th>\n",
       "      <td>...</td>\n",
       "      <td>...</td>\n",
       "      <td>...</td>\n",
       "      <td>...</td>\n",
       "      <td>...</td>\n",
       "    </tr>\n",
       "    <tr>\n",
       "      <th>995</th>\n",
       "      <td>0.303222</td>\n",
       "      <td>False</td>\n",
       "      <td>-0.379699</td>\n",
       "      <td>0.486209</td>\n",
       "      <td>2.056727</td>\n",
       "    </tr>\n",
       "    <tr>\n",
       "      <th>996</th>\n",
       "      <td>1.920872</td>\n",
       "      <td>False</td>\n",
       "      <td>0.064591</td>\n",
       "      <td>0.283413</td>\n",
       "      <td>3.528422</td>\n",
       "    </tr>\n",
       "    <tr>\n",
       "      <th>997</th>\n",
       "      <td>0.360403</td>\n",
       "      <td>False</td>\n",
       "      <td>-0.681723</td>\n",
       "      <td>0.478510</td>\n",
       "      <td>2.089822</td>\n",
       "    </tr>\n",
       "    <tr>\n",
       "      <th>998</th>\n",
       "      <td>0.699636</td>\n",
       "      <td>False</td>\n",
       "      <td>0.149905</td>\n",
       "      <td>0.433161</td>\n",
       "      <td>2.308612</td>\n",
       "    </tr>\n",
       "    <tr>\n",
       "      <th>999</th>\n",
       "      <td>-0.358074</td>\n",
       "      <td>False</td>\n",
       "      <td>-0.383755</td>\n",
       "      <td>0.574802</td>\n",
       "      <td>1.739731</td>\n",
       "    </tr>\n",
       "  </tbody>\n",
       "</table>\n",
       "<p>1000 rows × 5 columns</p>\n",
       "</div>"
      ],
      "text/plain": [
       "           W0     v0         y  propensity_score    weight\n",
       "0    1.639095  False -1.339608          0.315263  3.171958\n",
       "1    0.497256  False -0.780597          0.460130  2.173301\n",
       "2    1.199772  False  1.283749          0.368491  2.713772\n",
       "3    1.023798  False -1.116229          0.390838  2.558606\n",
       "4    0.816575  False  0.345647          0.417746  2.393800\n",
       "..        ...    ...       ...               ...       ...\n",
       "995  0.303222  False -0.379699          0.486209  2.056727\n",
       "996  1.920872  False  0.064591          0.283413  3.528422\n",
       "997  0.360403  False -0.681723          0.478510  2.089822\n",
       "998  0.699636  False  0.149905          0.433161  2.308612\n",
       "999 -0.358074  False -0.383755          0.574802  1.739731\n",
       "\n",
       "[1000 rows x 5 columns]"
      ]
     },
     "execution_count": 6,
     "metadata": {},
     "output_type": "execute_result"
    }
   ],
   "source": [
    "cdf_0"
   ]
  },
  {
   "cell_type": "code",
   "execution_count": 7,
   "metadata": {
    "execution": {
     "iopub.execute_input": "2022-09-01T17:48:48.156519Z",
     "iopub.status.busy": "2022-09-01T17:48:48.155585Z",
     "iopub.status.idle": "2022-09-01T17:48:48.168545Z",
     "shell.execute_reply": "2022-09-01T17:48:48.167765Z"
    }
   },
   "outputs": [
    {
     "data": {
      "text/html": [
       "<div>\n",
       "<style scoped>\n",
       "    .dataframe tbody tr th:only-of-type {\n",
       "        vertical-align: middle;\n",
       "    }\n",
       "\n",
       "    .dataframe tbody tr th {\n",
       "        vertical-align: top;\n",
       "    }\n",
       "\n",
       "    .dataframe thead th {\n",
       "        text-align: right;\n",
       "    }\n",
       "</style>\n",
       "<table border=\"1\" class=\"dataframe\">\n",
       "  <thead>\n",
       "    <tr style=\"text-align: right;\">\n",
       "      <th></th>\n",
       "      <th>W0</th>\n",
       "      <th>v0</th>\n",
       "      <th>y</th>\n",
       "      <th>propensity_score</th>\n",
       "      <th>weight</th>\n",
       "    </tr>\n",
       "  </thead>\n",
       "  <tbody>\n",
       "    <tr>\n",
       "      <th>0</th>\n",
       "      <td>1.244843</td>\n",
       "      <td>True</td>\n",
       "      <td>4.039423</td>\n",
       "      <td>0.637147</td>\n",
       "      <td>1.569496</td>\n",
       "    </tr>\n",
       "    <tr>\n",
       "      <th>1</th>\n",
       "      <td>0.618073</td>\n",
       "      <td>True</td>\n",
       "      <td>6.589035</td>\n",
       "      <td>0.556009</td>\n",
       "      <td>1.798533</td>\n",
       "    </tr>\n",
       "    <tr>\n",
       "      <th>2</th>\n",
       "      <td>-0.791350</td>\n",
       "      <td>True</td>\n",
       "      <td>6.869509</td>\n",
       "      <td>0.369319</td>\n",
       "      <td>2.707688</td>\n",
       "    </tr>\n",
       "    <tr>\n",
       "      <th>3</th>\n",
       "      <td>1.316310</td>\n",
       "      <td>True</td>\n",
       "      <td>4.606458</td>\n",
       "      <td>0.646010</td>\n",
       "      <td>1.547963</td>\n",
       "    </tr>\n",
       "    <tr>\n",
       "      <th>4</th>\n",
       "      <td>1.232205</td>\n",
       "      <td>True</td>\n",
       "      <td>7.056832</td>\n",
       "      <td>0.635570</td>\n",
       "      <td>1.573390</td>\n",
       "    </tr>\n",
       "    <tr>\n",
       "      <th>...</th>\n",
       "      <td>...</td>\n",
       "      <td>...</td>\n",
       "      <td>...</td>\n",
       "      <td>...</td>\n",
       "      <td>...</td>\n",
       "    </tr>\n",
       "    <tr>\n",
       "      <th>995</th>\n",
       "      <td>2.786407</td>\n",
       "      <td>True</td>\n",
       "      <td>7.674133</td>\n",
       "      <td>0.801292</td>\n",
       "      <td>1.247985</td>\n",
       "    </tr>\n",
       "    <tr>\n",
       "      <th>996</th>\n",
       "      <td>0.992320</td>\n",
       "      <td>True</td>\n",
       "      <td>5.663483</td>\n",
       "      <td>0.605113</td>\n",
       "      <td>1.652584</td>\n",
       "    </tr>\n",
       "    <tr>\n",
       "      <th>997</th>\n",
       "      <td>-0.448801</td>\n",
       "      <td>True</td>\n",
       "      <td>4.482842</td>\n",
       "      <td>0.413286</td>\n",
       "      <td>2.419634</td>\n",
       "    </tr>\n",
       "    <tr>\n",
       "      <th>998</th>\n",
       "      <td>1.500618</td>\n",
       "      <td>True</td>\n",
       "      <td>8.282816</td>\n",
       "      <td>0.668398</td>\n",
       "      <td>1.496115</td>\n",
       "    </tr>\n",
       "    <tr>\n",
       "      <th>999</th>\n",
       "      <td>-1.082167</td>\n",
       "      <td>True</td>\n",
       "      <td>3.352011</td>\n",
       "      <td>0.333593</td>\n",
       "      <td>2.997669</td>\n",
       "    </tr>\n",
       "  </tbody>\n",
       "</table>\n",
       "<p>1000 rows × 5 columns</p>\n",
       "</div>"
      ],
      "text/plain": [
       "           W0    v0         y  propensity_score    weight\n",
       "0    1.244843  True  4.039423          0.637147  1.569496\n",
       "1    0.618073  True  6.589035          0.556009  1.798533\n",
       "2   -0.791350  True  6.869509          0.369319  2.707688\n",
       "3    1.316310  True  4.606458          0.646010  1.547963\n",
       "4    1.232205  True  7.056832          0.635570  1.573390\n",
       "..        ...   ...       ...               ...       ...\n",
       "995  2.786407  True  7.674133          0.801292  1.247985\n",
       "996  0.992320  True  5.663483          0.605113  1.652584\n",
       "997 -0.448801  True  4.482842          0.413286  2.419634\n",
       "998  1.500618  True  8.282816          0.668398  1.496115\n",
       "999 -1.082167  True  3.352011          0.333593  2.997669\n",
       "\n",
       "[1000 rows x 5 columns]"
      ]
     },
     "execution_count": 7,
     "metadata": {},
     "output_type": "execute_result"
    }
   ],
   "source": [
    "cdf_1"
   ]
  },
  {
   "cell_type": "markdown",
   "metadata": {},
   "source": [
    "## Comparing the estimate to Linear Regression\n",
    "First, estimating the effect using the causal data frame, and the 95% confidence interval."
   ]
  },
  {
   "cell_type": "code",
   "execution_count": 8,
   "metadata": {
    "execution": {
     "iopub.execute_input": "2022-09-01T17:48:48.172094Z",
     "iopub.status.busy": "2022-09-01T17:48:48.171601Z",
     "iopub.status.idle": "2022-09-01T17:48:48.285274Z",
     "shell.execute_reply": "2022-09-01T17:48:48.284190Z"
    }
   },
   "outputs": [
    {
     "data": {
      "image/png": "[encoded data removed]",
      "text/latex": [
       "$\\displaystyle 5.02306149027822$"
      ],
      "text/plain": [
       "5.02306149027822"
      ]
     },
     "execution_count": 8,
     "metadata": {},
     "output_type": "execute_result"
    }
   ],
   "source": [
    "(cdf_1['y'] - cdf_0['y']).mean()"
   ]
  },
  {
   "cell_type": "code",
   "execution_count": 9,
   "metadata": {
    "execution": {
     "iopub.execute_input": "2022-09-01T17:48:48.290957Z",
     "iopub.status.busy": "2022-09-01T17:48:48.290642Z",
     "iopub.status.idle": "2022-09-01T17:48:48.319183Z",
     "shell.execute_reply": "2022-09-01T17:48:48.318272Z"
    }
   },
   "outputs": [
    {
     "data": {
      "image/png": "[encoded data removed]",
      "text/latex": [
       "$\\displaystyle 0.0992419904555935$"
      ],
      "text/plain": [
       "0.09924199045559352"
      ]
     },
     "execution_count": 9,
     "metadata": {},
     "output_type": "execute_result"
    }
   ],
   "source": [
    "1.96*(cdf_1['y'] - cdf_0['y']).std() / np.sqrt(len(df))"
   ]
  },
  {
   "cell_type": "markdown",
   "metadata": {},
   "source": [
    "Comparing to the estimate from OLS."
   ]
  },
  {
   "cell_type": "code",
   "execution_count": 10,
   "metadata": {
    "execution": {
     "iopub.execute_input": "2022-09-01T17:48:48.323598Z",
     "iopub.status.busy": "2022-09-01T17:48:48.323107Z",
     "iopub.status.idle": "2022-09-01T17:48:48.340284Z",
     "shell.execute_reply": "2022-09-01T17:48:48.339605Z"
    }
   },
   "outputs": [
    {
     "data": {
      "text/html": [
       "<table class=\"simpletable\">\n",
       "<caption>OLS Regression Results</caption>\n",
       "<tr>\n",
       "  <th>Dep. Variable:</th>            <td>y</td>        <th>  R-squared (uncentered):</th>      <td>   0.944</td>\n",
       "</tr>\n",
       "<tr>\n",
       "  <th>Model:</th>                   <td>OLS</td>       <th>  Adj. R-squared (uncentered):</th> <td>   0.943</td>\n",
       "</tr>\n",
       "<tr>\n",
       "  <th>Method:</th>             <td>Least Squares</td>  <th>  F-statistic:       </th>          <td>   8346.</td>\n",
       "</tr>\n",
       "<tr>\n",
       "  <th>Date:</th>             <td>Thu, 01 Sep 2022</td> <th>  Prob (F-statistic):</th>           <td>  0.00</td> \n",
       "</tr>\n",
       "<tr>\n",
       "  <th>Time:</th>                 <td>17:48:48</td>     <th>  Log-Likelihood:    </th>          <td> -1417.5</td>\n",
       "</tr>\n",
       "<tr>\n",
       "  <th>No. Observations:</th>      <td>  1000</td>      <th>  AIC:               </th>          <td>   2839.</td>\n",
       "</tr>\n",
       "<tr>\n",
       "  <th>Df Residuals:</th>          <td>   998</td>      <th>  BIC:               </th>          <td>   2849.</td>\n",
       "</tr>\n",
       "<tr>\n",
       "  <th>Df Model:</th>              <td>     2</td>      <th>                     </th>              <td> </td>   \n",
       "</tr>\n",
       "<tr>\n",
       "  <th>Covariance Type:</th>      <td>nonrobust</td>    <th>                     </th>              <td> </td>   \n",
       "</tr>\n",
       "</table>\n",
       "<table class=\"simpletable\">\n",
       "<tr>\n",
       "   <td></td>     <th>coef</th>     <th>std err</th>      <th>t</th>      <th>P>|t|</th>  <th>[0.025</th>    <th>0.975]</th>  \n",
       "</tr>\n",
       "<tr>\n",
       "  <th>x1</th> <td>    0.4791</td> <td>    0.032</td> <td>   15.113</td> <td> 0.000</td> <td>    0.417</td> <td>    0.541</td>\n",
       "</tr>\n",
       "<tr>\n",
       "  <th>x2</th> <td>    4.9968</td> <td>    0.051</td> <td>   98.221</td> <td> 0.000</td> <td>    4.897</td> <td>    5.097</td>\n",
       "</tr>\n",
       "</table>\n",
       "<table class=\"simpletable\">\n",
       "<tr>\n",
       "  <th>Omnibus:</th>       <td> 3.371</td> <th>  Durbin-Watson:     </th> <td>   1.938</td>\n",
       "</tr>\n",
       "<tr>\n",
       "  <th>Prob(Omnibus):</th> <td> 0.185</td> <th>  Jarque-Bera (JB):  </th> <td>   3.430</td>\n",
       "</tr>\n",
       "<tr>\n",
       "  <th>Skew:</th>          <td> 0.083</td> <th>  Prob(JB):          </th> <td>   0.180</td>\n",
       "</tr>\n",
       "<tr>\n",
       "  <th>Kurtosis:</th>      <td> 3.234</td> <th>  Cond. No.          </th> <td>    2.23</td>\n",
       "</tr>\n",
       "</table><br/><br/>Notes:<br/>[1] R² is computed without centering (uncentered) since the model does not contain a constant.<br/>[2] Standard Errors assume that the covariance matrix of the errors is correctly specified."
      ],
      "text/plain": [
       "<class 'statsmodels.iolib.summary.Summary'>\n",
       "\"\"\"\n",
       "                                 OLS Regression Results                                \n",
       "=======================================================================================\n",
       "Dep. Variable:                      y   R-squared (uncentered):                   0.944\n",
       "Model:                            OLS   Adj. R-squared (uncentered):              0.943\n",
       "Method:                 Least Squares   F-statistic:                              8346.\n",
       "Date:                Thu, 01 Sep 2022   Prob (F-statistic):                        0.00\n",
       "Time:                        17:48:48   Log-Likelihood:                         -1417.5\n",
       "No. Observations:                1000   AIC:                                      2839.\n",
       "Df Residuals:                     998   BIC:                                      2849.\n",
       "Df Model:                           2                                                  \n",
       "Covariance Type:            nonrobust                                                  \n",
       "==============================================================================\n",
       "                 coef    std err          t      P>|t|      [0.025      0.975]\n",
       "------------------------------------------------------------------------------\n",
       "x1             0.4791      0.032     15.113      0.000       0.417       0.541\n",
       "x2             4.9968      0.051     98.221      0.000       4.897       5.097\n",
       "==============================================================================\n",
       "Omnibus:                        3.371   Durbin-Watson:                   1.938\n",
       "Prob(Omnibus):                  0.185   Jarque-Bera (JB):                3.430\n",
       "Skew:                           0.083   Prob(JB):                        0.180\n",
       "Kurtosis:                       3.234   Cond. No.                         2.23\n",
       "==============================================================================\n",
       "\n",
       "Notes:\n",
       "[1] R² is computed without centering (uncentered) since the model does not contain a constant.\n",
       "[2] Standard Errors assume that the covariance matrix of the errors is correctly specified.\n",
       "\"\"\""
      ]
     },
     "execution_count": 10,
     "metadata": {},
     "output_type": "execute_result"
    }
   ],
   "source": [
    "model = OLS(np.asarray(df[outcome]), np.asarray(df[[common_cause, treatment]], dtype=np.float64))\n",
    "result = model.fit()\n",
    "result.summary()"
   ]
  }
 ],
 "metadata": {
  "kernelspec": {
   "display_name": "Python 3",
   "language": "python",
   "name": "python3"
  },
  "language_info": {
   "codemirror_mode": {
    "name": "ipython",
    "version": 3
   },
   "file_extension": ".py",
   "mimetype": "text/x-python",
   "name": "python",
   "nbconvert_exporter": "python",
   "pygments_lexer": "ipython3",
   "version": "3.8.10"
  },
  "toc": {
   "base_numbering": 1,
   "nav_menu": {},
   "number_sections": false,
   "sideBar": true,
   "skip_h1_title": true,
   "title_cell": "Table of Contents",
   "title_sidebar": "Contents",
   "toc_cell": false,
   "toc_position": {},
   "toc_section_display": true,
   "toc_window_display": false
  }
 },
 "nbformat": 4,
 "nbformat_minor": 4
}
