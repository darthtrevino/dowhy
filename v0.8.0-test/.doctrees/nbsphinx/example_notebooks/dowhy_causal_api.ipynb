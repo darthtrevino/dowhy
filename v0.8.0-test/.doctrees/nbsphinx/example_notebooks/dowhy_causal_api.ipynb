{
 "cells": [
  {
   "cell_type": "markdown",
   "metadata": {},
   "source": [
    "# Demo for the DoWhy causal API\n",
    "We show a simple example of adding a causal extension to any dataframe. "
   ]
  },
  {
   "cell_type": "code",
   "execution_count": 1,
   "metadata": {
    "execution": {
     "iopub.execute_input": "2022-09-01T17:34:45.899907Z",
     "iopub.status.busy": "2022-09-01T17:34:45.899462Z",
     "iopub.status.idle": "2022-09-01T17:34:47.002574Z",
     "shell.execute_reply": "2022-09-01T17:34:47.001899Z"
    }
   },
   "outputs": [],
   "source": [
    "import dowhy.datasets\n",
    "import dowhy.api\n",
    "\n",
    "import numpy as np\n",
    "import pandas as pd\n",
    "\n",
    "from statsmodels.api import OLS"
   ]
  },
  {
   "cell_type": "code",
   "execution_count": 2,
   "metadata": {
    "execution": {
     "iopub.execute_input": "2022-09-01T17:34:47.006124Z",
     "iopub.status.busy": "2022-09-01T17:34:47.005762Z",
     "iopub.status.idle": "2022-09-01T17:34:47.046540Z",
     "shell.execute_reply": "2022-09-01T17:34:47.045953Z"
    }
   },
   "outputs": [
    {
     "data": {
      "text/html": [
       "<div>\n",
       "<style scoped>\n",
       "    .dataframe tbody tr th:only-of-type {\n",
       "        vertical-align: middle;\n",
       "    }\n",
       "\n",
       "    .dataframe tbody tr th {\n",
       "        vertical-align: top;\n",
       "    }\n",
       "\n",
       "    .dataframe thead th {\n",
       "        text-align: right;\n",
       "    }\n",
       "</style>\n",
       "<table border=\"1\" class=\"dataframe\">\n",
       "  <thead>\n",
       "    <tr style=\"text-align: right;\">\n",
       "      <th></th>\n",
       "      <th>W0</th>\n",
       "      <th>v0</th>\n",
       "      <th>y</th>\n",
       "    </tr>\n",
       "  </thead>\n",
       "  <tbody>\n",
       "    <tr>\n",
       "      <th>0</th>\n",
       "      <td>1.234165</td>\n",
       "      <td>True</td>\n",
       "      <td>8.570079</td>\n",
       "    </tr>\n",
       "    <tr>\n",
       "      <th>1</th>\n",
       "      <td>1.543155</td>\n",
       "      <td>False</td>\n",
       "      <td>3.829854</td>\n",
       "    </tr>\n",
       "    <tr>\n",
       "      <th>2</th>\n",
       "      <td>0.357019</td>\n",
       "      <td>True</td>\n",
       "      <td>6.281521</td>\n",
       "    </tr>\n",
       "    <tr>\n",
       "      <th>3</th>\n",
       "      <td>1.389560</td>\n",
       "      <td>True</td>\n",
       "      <td>6.493989</td>\n",
       "    </tr>\n",
       "    <tr>\n",
       "      <th>4</th>\n",
       "      <td>1.141525</td>\n",
       "      <td>True</td>\n",
       "      <td>12.246060</td>\n",
       "    </tr>\n",
       "    <tr>\n",
       "      <th>...</th>\n",
       "      <td>...</td>\n",
       "      <td>...</td>\n",
       "      <td>...</td>\n",
       "    </tr>\n",
       "    <tr>\n",
       "      <th>995</th>\n",
       "      <td>0.725644</td>\n",
       "      <td>True</td>\n",
       "      <td>7.631750</td>\n",
       "    </tr>\n",
       "    <tr>\n",
       "      <th>996</th>\n",
       "      <td>2.076285</td>\n",
       "      <td>False</td>\n",
       "      <td>5.775634</td>\n",
       "    </tr>\n",
       "    <tr>\n",
       "      <th>997</th>\n",
       "      <td>-0.053524</td>\n",
       "      <td>False</td>\n",
       "      <td>-1.155152</td>\n",
       "    </tr>\n",
       "    <tr>\n",
       "      <th>998</th>\n",
       "      <td>-1.066127</td>\n",
       "      <td>True</td>\n",
       "      <td>2.538604</td>\n",
       "    </tr>\n",
       "    <tr>\n",
       "      <th>999</th>\n",
       "      <td>0.904988</td>\n",
       "      <td>False</td>\n",
       "      <td>1.538469</td>\n",
       "    </tr>\n",
       "  </tbody>\n",
       "</table>\n",
       "<p>1000 rows × 3 columns</p>\n",
       "</div>"
      ],
      "text/plain": [
       "           W0     v0          y\n",
       "0    1.234165   True   8.570079\n",
       "1    1.543155  False   3.829854\n",
       "2    0.357019   True   6.281521\n",
       "3    1.389560   True   6.493989\n",
       "4    1.141525   True  12.246060\n",
       "..        ...    ...        ...\n",
       "995  0.725644   True   7.631750\n",
       "996  2.076285  False   5.775634\n",
       "997 -0.053524  False  -1.155152\n",
       "998 -1.066127   True   2.538604\n",
       "999  0.904988  False   1.538469\n",
       "\n",
       "[1000 rows x 3 columns]"
      ]
     },
     "execution_count": 2,
     "metadata": {},
     "output_type": "execute_result"
    }
   ],
   "source": [
    "data = dowhy.datasets.linear_dataset(beta=5,\n",
    "        num_common_causes=1,\n",
    "        num_instruments = 0,\n",
    "        num_samples=1000,\n",
    "        treatment_is_binary=True)\n",
    "df = data['df']\n",
    "df['y'] = df['y'] + np.random.normal(size=len(df)) # Adding noise to data. Without noise, the variance in Y|X, Z is zero, and mcmc fails.\n",
    "#data['dot_graph'] = 'digraph { v ->y;X0-> v;X0-> y;}'\n",
    "\n",
    "treatment= data[\"treatment_name\"][0]\n",
    "outcome = data[\"outcome_name\"][0]\n",
    "common_cause = data[\"common_causes_names\"][0]\n",
    "df"
   ]
  },
  {
   "cell_type": "code",
   "execution_count": 3,
   "metadata": {
    "execution": {
     "iopub.execute_input": "2022-09-01T17:34:47.049842Z",
     "iopub.status.busy": "2022-09-01T17:34:47.049323Z",
     "iopub.status.idle": "2022-09-01T17:34:47.795689Z",
     "shell.execute_reply": "2022-09-01T17:34:47.795157Z"
    }
   },
   "outputs": [
    {
     "data": {
      "text/plain": [
       "<AxesSubplot:xlabel='v0'>"
      ]
     },
     "execution_count": 3,
     "metadata": {},
     "output_type": "execute_result"
    },
    {
     "data": {
      "image/png": "[encoded data removed]",
      "text/plain": [
       "<Figure size 640x480 with 1 Axes>"
      ]
     },
     "metadata": {},
     "output_type": "display_data"
    }
   ],
   "source": [
    "# data['df'] is just a regular pandas.DataFrame\n",
    "df.causal.do(x=treatment,\n",
    "                     variable_types={treatment: 'b', outcome: 'c', common_cause: 'c'},\n",
    "                     outcome=outcome,\n",
    "                     common_causes=[common_cause],\n",
    "                     proceed_when_unidentifiable=True).groupby(treatment).mean().plot(y=outcome, kind='bar')"
   ]
  },
  {
   "cell_type": "code",
   "execution_count": 4,
   "metadata": {
    "execution": {
     "iopub.execute_input": "2022-09-01T17:34:47.799312Z",
     "iopub.status.busy": "2022-09-01T17:34:47.798681Z",
     "iopub.status.idle": "2022-09-01T17:34:47.911950Z",
     "shell.execute_reply": "2022-09-01T17:34:47.911348Z"
    }
   },
   "outputs": [
    {
     "data": {
      "text/plain": [
       "<AxesSubplot:xlabel='v0'>"
      ]
     },
     "execution_count": 4,
     "metadata": {},
     "output_type": "execute_result"
    },
    {
     "data": {
      "image/png": "[encoded data removed]",
      "text/plain": [
       "<Figure size 640x480 with 1 Axes>"
      ]
     },
     "metadata": {},
     "output_type": "display_data"
    }
   ],
   "source": [
    "df.causal.do(x={treatment: 1}, \n",
    "              variable_types={treatment:'b', outcome: 'c', common_cause: 'c'}, \n",
    "              outcome=outcome,\n",
    "              method='weighting', \n",
    "              common_causes=[common_cause],\n",
    "              proceed_when_unidentifiable=True).groupby(treatment).mean().plot(y=outcome, kind='bar')"
   ]
  },
  {
   "cell_type": "code",
   "execution_count": 5,
   "metadata": {
    "execution": {
     "iopub.execute_input": "2022-09-01T17:34:47.915410Z",
     "iopub.status.busy": "2022-09-01T17:34:47.914933Z",
     "iopub.status.idle": "2022-09-01T17:34:47.946168Z",
     "shell.execute_reply": "2022-09-01T17:34:47.945568Z"
    }
   },
   "outputs": [],
   "source": [
    "cdf_1 = df.causal.do(x={treatment: 1}, \n",
    "              variable_types={treatment: 'b', outcome: 'c', common_cause: 'c'}, \n",
    "              outcome=outcome, \n",
    "              dot_graph=data['dot_graph'],\n",
    "              proceed_when_unidentifiable=True)\n",
    "\n",
    "cdf_0 = df.causal.do(x={treatment: 0}, \n",
    "              variable_types={treatment: 'b', outcome: 'c', common_cause: 'c'}, \n",
    "              outcome=outcome, \n",
    "              dot_graph=data['dot_graph'],\n",
    "              proceed_when_unidentifiable=True)\n"
   ]
  },
  {
   "cell_type": "code",
   "execution_count": 6,
   "metadata": {
    "execution": {
     "iopub.execute_input": "2022-09-01T17:34:47.949649Z",
     "iopub.status.busy": "2022-09-01T17:34:47.949300Z",
     "iopub.status.idle": "2022-09-01T17:34:47.962057Z",
     "shell.execute_reply": "2022-09-01T17:34:47.961481Z"
    },
    "scrolled": true
   },
   "outputs": [
    {
     "data": {
      "text/html": [
       "<div>\n",
       "<style scoped>\n",
       "    .dataframe tbody tr th:only-of-type {\n",
       "        vertical-align: middle;\n",
       "    }\n",
       "\n",
       "    .dataframe tbody tr th {\n",
       "        vertical-align: top;\n",
       "    }\n",
       "\n",
       "    .dataframe thead th {\n",
       "        text-align: right;\n",
       "    }\n",
       "</style>\n",
       "<table border=\"1\" class=\"dataframe\">\n",
       "  <thead>\n",
       "    <tr style=\"text-align: right;\">\n",
       "      <th></th>\n",
       "      <th>W0</th>\n",
       "      <th>v0</th>\n",
       "      <th>y</th>\n",
       "      <th>propensity_score</th>\n",
       "      <th>weight</th>\n",
       "    </tr>\n",
       "  </thead>\n",
       "  <tbody>\n",
       "    <tr>\n",
       "      <th>0</th>\n",
       "      <td>0.597058</td>\n",
       "      <td>False</td>\n",
       "      <td>2.073183</td>\n",
       "      <td>0.421137</td>\n",
       "      <td>2.374526</td>\n",
       "    </tr>\n",
       "    <tr>\n",
       "      <th>1</th>\n",
       "      <td>0.867042</td>\n",
       "      <td>False</td>\n",
       "      <td>4.049314</td>\n",
       "      <td>0.389956</td>\n",
       "      <td>2.564389</td>\n",
       "    </tr>\n",
       "    <tr>\n",
       "      <th>2</th>\n",
       "      <td>-0.381352</td>\n",
       "      <td>False</td>\n",
       "      <td>0.188733</td>\n",
       "      <td>0.537624</td>\n",
       "      <td>1.860035</td>\n",
       "    </tr>\n",
       "    <tr>\n",
       "      <th>3</th>\n",
       "      <td>0.130813</td>\n",
       "      <td>False</td>\n",
       "      <td>-1.552430</td>\n",
       "      <td>0.476351</td>\n",
       "      <td>2.099293</td>\n",
       "    </tr>\n",
       "    <tr>\n",
       "      <th>4</th>\n",
       "      <td>0.505804</td>\n",
       "      <td>False</td>\n",
       "      <td>1.346932</td>\n",
       "      <td>0.431833</td>\n",
       "      <td>2.315710</td>\n",
       "    </tr>\n",
       "    <tr>\n",
       "      <th>...</th>\n",
       "      <td>...</td>\n",
       "      <td>...</td>\n",
       "      <td>...</td>\n",
       "      <td>...</td>\n",
       "      <td>...</td>\n",
       "    </tr>\n",
       "    <tr>\n",
       "      <th>995</th>\n",
       "      <td>1.022886</td>\n",
       "      <td>False</td>\n",
       "      <td>4.451887</td>\n",
       "      <td>0.372342</td>\n",
       "      <td>2.685701</td>\n",
       "    </tr>\n",
       "    <tr>\n",
       "      <th>996</th>\n",
       "      <td>0.852164</td>\n",
       "      <td>False</td>\n",
       "      <td>1.303248</td>\n",
       "      <td>0.391654</td>\n",
       "      <td>2.553274</td>\n",
       "    </tr>\n",
       "    <tr>\n",
       "      <th>997</th>\n",
       "      <td>0.997233</td>\n",
       "      <td>False</td>\n",
       "      <td>2.743467</td>\n",
       "      <td>0.375220</td>\n",
       "      <td>2.665104</td>\n",
       "    </tr>\n",
       "    <tr>\n",
       "      <th>998</th>\n",
       "      <td>0.384350</td>\n",
       "      <td>False</td>\n",
       "      <td>0.701378</td>\n",
       "      <td>0.446167</td>\n",
       "      <td>2.241315</td>\n",
       "    </tr>\n",
       "    <tr>\n",
       "      <th>999</th>\n",
       "      <td>0.192963</td>\n",
       "      <td>False</td>\n",
       "      <td>-0.423432</td>\n",
       "      <td>0.468927</td>\n",
       "      <td>2.132527</td>\n",
       "    </tr>\n",
       "  </tbody>\n",
       "</table>\n",
       "<p>1000 rows × 5 columns</p>\n",
       "</div>"
      ],
      "text/plain": [
       "           W0     v0         y  propensity_score    weight\n",
       "0    0.597058  False  2.073183          0.421137  2.374526\n",
       "1    0.867042  False  4.049314          0.389956  2.564389\n",
       "2   -0.381352  False  0.188733          0.537624  1.860035\n",
       "3    0.130813  False -1.552430          0.476351  2.099293\n",
       "4    0.505804  False  1.346932          0.431833  2.315710\n",
       "..        ...    ...       ...               ...       ...\n",
       "995  1.022886  False  4.451887          0.372342  2.685701\n",
       "996  0.852164  False  1.303248          0.391654  2.553274\n",
       "997  0.997233  False  2.743467          0.375220  2.665104\n",
       "998  0.384350  False  0.701378          0.446167  2.241315\n",
       "999  0.192963  False -0.423432          0.468927  2.132527\n",
       "\n",
       "[1000 rows x 5 columns]"
      ]
     },
     "execution_count": 6,
     "metadata": {},
     "output_type": "execute_result"
    }
   ],
   "source": [
    "cdf_0"
   ]
  },
  {
   "cell_type": "code",
   "execution_count": 7,
   "metadata": {
    "execution": {
     "iopub.execute_input": "2022-09-01T17:34:47.964806Z",
     "iopub.status.busy": "2022-09-01T17:34:47.964583Z",
     "iopub.status.idle": "2022-09-01T17:34:47.976224Z",
     "shell.execute_reply": "2022-09-01T17:34:47.975597Z"
    }
   },
   "outputs": [
    {
     "data": {
      "text/html": [
       "<div>\n",
       "<style scoped>\n",
       "    .dataframe tbody tr th:only-of-type {\n",
       "        vertical-align: middle;\n",
       "    }\n",
       "\n",
       "    .dataframe tbody tr th {\n",
       "        vertical-align: top;\n",
       "    }\n",
       "\n",
       "    .dataframe thead th {\n",
       "        text-align: right;\n",
       "    }\n",
       "</style>\n",
       "<table border=\"1\" class=\"dataframe\">\n",
       "  <thead>\n",
       "    <tr style=\"text-align: right;\">\n",
       "      <th></th>\n",
       "      <th>W0</th>\n",
       "      <th>v0</th>\n",
       "      <th>y</th>\n",
       "      <th>propensity_score</th>\n",
       "      <th>weight</th>\n",
       "    </tr>\n",
       "  </thead>\n",
       "  <tbody>\n",
       "    <tr>\n",
       "      <th>0</th>\n",
       "      <td>0.488024</td>\n",
       "      <td>True</td>\n",
       "      <td>5.820279</td>\n",
       "      <td>0.566075</td>\n",
       "      <td>1.766550</td>\n",
       "    </tr>\n",
       "    <tr>\n",
       "      <th>1</th>\n",
       "      <td>0.888367</td>\n",
       "      <td>True</td>\n",
       "      <td>7.542445</td>\n",
       "      <td>0.612472</td>\n",
       "      <td>1.632728</td>\n",
       "    </tr>\n",
       "    <tr>\n",
       "      <th>2</th>\n",
       "      <td>1.220067</td>\n",
       "      <td>True</td>\n",
       "      <td>6.451814</td>\n",
       "      <td>0.649463</td>\n",
       "      <td>1.539735</td>\n",
       "    </tr>\n",
       "    <tr>\n",
       "      <th>3</th>\n",
       "      <td>0.421520</td>\n",
       "      <td>True</td>\n",
       "      <td>4.095262</td>\n",
       "      <td>0.558231</td>\n",
       "      <td>1.791374</td>\n",
       "    </tr>\n",
       "    <tr>\n",
       "      <th>4</th>\n",
       "      <td>0.194693</td>\n",
       "      <td>True</td>\n",
       "      <td>3.982480</td>\n",
       "      <td>0.531279</td>\n",
       "      <td>1.882249</td>\n",
       "    </tr>\n",
       "    <tr>\n",
       "      <th>...</th>\n",
       "      <td>...</td>\n",
       "      <td>...</td>\n",
       "      <td>...</td>\n",
       "      <td>...</td>\n",
       "      <td>...</td>\n",
       "    </tr>\n",
       "    <tr>\n",
       "      <th>995</th>\n",
       "      <td>0.973654</td>\n",
       "      <td>True</td>\n",
       "      <td>7.442966</td>\n",
       "      <td>0.622127</td>\n",
       "      <td>1.607388</td>\n",
       "    </tr>\n",
       "    <tr>\n",
       "      <th>996</th>\n",
       "      <td>0.074251</td>\n",
       "      <td>True</td>\n",
       "      <td>4.923468</td>\n",
       "      <td>0.516884</td>\n",
       "      <td>1.934671</td>\n",
       "    </tr>\n",
       "    <tr>\n",
       "      <th>997</th>\n",
       "      <td>-0.637360</td>\n",
       "      <td>True</td>\n",
       "      <td>5.034369</td>\n",
       "      <td>0.432055</td>\n",
       "      <td>2.314518</td>\n",
       "    </tr>\n",
       "    <tr>\n",
       "      <th>998</th>\n",
       "      <td>-0.705459</td>\n",
       "      <td>True</td>\n",
       "      <td>3.266786</td>\n",
       "      <td>0.424066</td>\n",
       "      <td>2.358125</td>\n",
       "    </tr>\n",
       "    <tr>\n",
       "      <th>999</th>\n",
       "      <td>1.490163</td>\n",
       "      <td>True</td>\n",
       "      <td>10.816022</td>\n",
       "      <td>0.678332</td>\n",
       "      <td>1.474204</td>\n",
       "    </tr>\n",
       "  </tbody>\n",
       "</table>\n",
       "<p>1000 rows × 5 columns</p>\n",
       "</div>"
      ],
      "text/plain": [
       "           W0    v0          y  propensity_score    weight\n",
       "0    0.488024  True   5.820279          0.566075  1.766550\n",
       "1    0.888367  True   7.542445          0.612472  1.632728\n",
       "2    1.220067  True   6.451814          0.649463  1.539735\n",
       "3    0.421520  True   4.095262          0.558231  1.791374\n",
       "4    0.194693  True   3.982480          0.531279  1.882249\n",
       "..        ...   ...        ...               ...       ...\n",
       "995  0.973654  True   7.442966          0.622127  1.607388\n",
       "996  0.074251  True   4.923468          0.516884  1.934671\n",
       "997 -0.637360  True   5.034369          0.432055  2.314518\n",
       "998 -0.705459  True   3.266786          0.424066  2.358125\n",
       "999  1.490163  True  10.816022          0.678332  1.474204\n",
       "\n",
       "[1000 rows x 5 columns]"
      ]
     },
     "execution_count": 7,
     "metadata": {},
     "output_type": "execute_result"
    }
   ],
   "source": [
    "cdf_1"
   ]
  },
  {
   "cell_type": "markdown",
   "metadata": {},
   "source": [
    "## Comparing the estimate to Linear Regression\n",
    "First, estimating the effect using the causal data frame, and the 95% confidence interval."
   ]
  },
  {
   "cell_type": "code",
   "execution_count": 8,
   "metadata": {
    "execution": {
     "iopub.execute_input": "2022-09-01T17:34:47.979511Z",
     "iopub.status.busy": "2022-09-01T17:34:47.979181Z",
     "iopub.status.idle": "2022-09-01T17:34:48.076066Z",
     "shell.execute_reply": "2022-09-01T17:34:48.075447Z"
    }
   },
   "outputs": [
    {
     "data": {
      "image/png": "[encoded data removed]",
      "text/latex": [
       "$\\displaystyle 4.73559543124837$"
      ],
      "text/plain": [
       "4.735595431248369"
      ]
     },
     "execution_count": 8,
     "metadata": {},
     "output_type": "execute_result"
    }
   ],
   "source": [
    "(cdf_1['y'] - cdf_0['y']).mean()"
   ]
  },
  {
   "cell_type": "code",
   "execution_count": 9,
   "metadata": {
    "execution": {
     "iopub.execute_input": "2022-09-01T17:34:48.079308Z",
     "iopub.status.busy": "2022-09-01T17:34:48.078821Z",
     "iopub.status.idle": "2022-09-01T17:34:48.105217Z",
     "shell.execute_reply": "2022-09-01T17:34:48.104595Z"
    }
   },
   "outputs": [
    {
     "data": {
      "image/png": "[encoded data removed]",
      "text/latex": [
       "$\\displaystyle 0.239650576609022$"
      ],
      "text/plain": [
       "0.23965057660902192"
      ]
     },
     "execution_count": 9,
     "metadata": {},
     "output_type": "execute_result"
    }
   ],
   "source": [
    "1.96*(cdf_1['y'] - cdf_0['y']).std() / np.sqrt(len(df))"
   ]
  },
  {
   "cell_type": "markdown",
   "metadata": {},
   "source": [
    "Comparing to the estimate from OLS."
   ]
  },
  {
   "cell_type": "code",
   "execution_count": 10,
   "metadata": {
    "execution": {
     "iopub.execute_input": "2022-09-01T17:34:48.108501Z",
     "iopub.status.busy": "2022-09-01T17:34:48.108172Z",
     "iopub.status.idle": "2022-09-01T17:34:48.125828Z",
     "shell.execute_reply": "2022-09-01T17:34:48.125271Z"
    }
   },
   "outputs": [
    {
     "data": {
      "text/html": [
       "<table class=\"simpletable\">\n",
       "<caption>OLS Regression Results</caption>\n",
       "<tr>\n",
       "  <th>Dep. Variable:</th>            <td>y</td>        <th>  R-squared (uncentered):</th>      <td>   0.971</td> \n",
       "</tr>\n",
       "<tr>\n",
       "  <th>Model:</th>                   <td>OLS</td>       <th>  Adj. R-squared (uncentered):</th> <td>   0.971</td> \n",
       "</tr>\n",
       "<tr>\n",
       "  <th>Method:</th>             <td>Least Squares</td>  <th>  F-statistic:       </th>          <td>1.684e+04</td>\n",
       "</tr>\n",
       "<tr>\n",
       "  <th>Date:</th>             <td>Thu, 01 Sep 2022</td> <th>  Prob (F-statistic):</th>           <td>  0.00</td>  \n",
       "</tr>\n",
       "<tr>\n",
       "  <th>Time:</th>                 <td>17:34:48</td>     <th>  Log-Likelihood:    </th>          <td> -1438.1</td> \n",
       "</tr>\n",
       "<tr>\n",
       "  <th>No. Observations:</th>      <td>  1000</td>      <th>  AIC:               </th>          <td>   2880.</td> \n",
       "</tr>\n",
       "<tr>\n",
       "  <th>Df Residuals:</th>          <td>   998</td>      <th>  BIC:               </th>          <td>   2890.</td> \n",
       "</tr>\n",
       "<tr>\n",
       "  <th>Df Model:</th>              <td>     2</td>      <th>                     </th>              <td> </td>    \n",
       "</tr>\n",
       "<tr>\n",
       "  <th>Covariance Type:</th>      <td>nonrobust</td>    <th>                     </th>              <td> </td>    \n",
       "</tr>\n",
       "</table>\n",
       "<table class=\"simpletable\">\n",
       "<tr>\n",
       "   <td></td>     <th>coef</th>     <th>std err</th>      <th>t</th>      <th>P>|t|</th>  <th>[0.025</th>    <th>0.975]</th>  \n",
       "</tr>\n",
       "<tr>\n",
       "  <th>x1</th> <td>    2.4233</td> <td>    0.032</td> <td>   74.893</td> <td> 0.000</td> <td>    2.360</td> <td>    2.487</td>\n",
       "</tr>\n",
       "<tr>\n",
       "  <th>x2</th> <td>    5.0352</td> <td>    0.050</td> <td>   99.940</td> <td> 0.000</td> <td>    4.936</td> <td>    5.134</td>\n",
       "</tr>\n",
       "</table>\n",
       "<table class=\"simpletable\">\n",
       "<tr>\n",
       "  <th>Omnibus:</th>       <td> 1.139</td> <th>  Durbin-Watson:     </th> <td>   2.049</td>\n",
       "</tr>\n",
       "<tr>\n",
       "  <th>Prob(Omnibus):</th> <td> 0.566</td> <th>  Jarque-Bera (JB):  </th> <td>   1.006</td>\n",
       "</tr>\n",
       "<tr>\n",
       "  <th>Skew:</th>          <td> 0.059</td> <th>  Prob(JB):          </th> <td>   0.605</td>\n",
       "</tr>\n",
       "<tr>\n",
       "  <th>Kurtosis:</th>      <td> 3.101</td> <th>  Cond. No.          </th> <td>    2.16</td>\n",
       "</tr>\n",
       "</table><br/><br/>Notes:<br/>[1] R² is computed without centering (uncentered) since the model does not contain a constant.<br/>[2] Standard Errors assume that the covariance matrix of the errors is correctly specified."
      ],
      "text/plain": [
       "<class 'statsmodels.iolib.summary.Summary'>\n",
       "\"\"\"\n",
       "                                 OLS Regression Results                                \n",
       "=======================================================================================\n",
       "Dep. Variable:                      y   R-squared (uncentered):                   0.971\n",
       "Model:                            OLS   Adj. R-squared (uncentered):              0.971\n",
       "Method:                 Least Squares   F-statistic:                          1.684e+04\n",
       "Date:                Thu, 01 Sep 2022   Prob (F-statistic):                        0.00\n",
       "Time:                        17:34:48   Log-Likelihood:                         -1438.1\n",
       "No. Observations:                1000   AIC:                                      2880.\n",
       "Df Residuals:                     998   BIC:                                      2890.\n",
       "Df Model:                           2                                                  \n",
       "Covariance Type:            nonrobust                                                  \n",
       "==============================================================================\n",
       "                 coef    std err          t      P>|t|      [0.025      0.975]\n",
       "------------------------------------------------------------------------------\n",
       "x1             2.4233      0.032     74.893      0.000       2.360       2.487\n",
       "x2             5.0352      0.050     99.940      0.000       4.936       5.134\n",
       "==============================================================================\n",
       "Omnibus:                        1.139   Durbin-Watson:                   2.049\n",
       "Prob(Omnibus):                  0.566   Jarque-Bera (JB):                1.006\n",
       "Skew:                           0.059   Prob(JB):                        0.605\n",
       "Kurtosis:                       3.101   Cond. No.                         2.16\n",
       "==============================================================================\n",
       "\n",
       "Notes:\n",
       "[1] R² is computed without centering (uncentered) since the model does not contain a constant.\n",
       "[2] Standard Errors assume that the covariance matrix of the errors is correctly specified.\n",
       "\"\"\""
      ]
     },
     "execution_count": 10,
     "metadata": {},
     "output_type": "execute_result"
    }
   ],
   "source": [
    "model = OLS(np.asarray(df[outcome]), np.asarray(df[[common_cause, treatment]], dtype=np.float64))\n",
    "result = model.fit()\n",
    "result.summary()"
   ]
  }
 ],
 "metadata": {
  "kernelspec": {
   "display_name": "Python 3",
   "language": "python",
   "name": "python3"
  },
  "language_info": {
   "codemirror_mode": {
    "name": "ipython",
    "version": 3
   },
   "file_extension": ".py",
   "mimetype": "text/x-python",
   "name": "python",
   "nbconvert_exporter": "python",
   "pygments_lexer": "ipython3",
   "version": "3.8.10"
  },
  "toc": {
   "base_numbering": 1,
   "nav_menu": {},
   "number_sections": false,
   "sideBar": true,
   "skip_h1_title": true,
   "title_cell": "Table of Contents",
   "title_sidebar": "Contents",
   "toc_cell": false,
   "toc_position": {},
   "toc_section_display": true,
   "toc_window_display": false
  }
 },
 "nbformat": 4,
 "nbformat_minor": 4
}
