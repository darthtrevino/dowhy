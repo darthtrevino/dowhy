{
 "cells": [
  {
   "cell_type": "markdown",
   "metadata": {},
   "source": [
    "# Demo for the DoWhy causal API\n",
    "We show a simple example of adding a causal extension to any dataframe. "
   ]
  },
  {
   "cell_type": "code",
   "execution_count": 1,
   "metadata": {
    "execution": {
     "iopub.execute_input": "2022-09-01T17:56:56.057362Z",
     "iopub.status.busy": "2022-09-01T17:56:56.056924Z",
     "iopub.status.idle": "2022-09-01T17:56:57.135873Z",
     "shell.execute_reply": "2022-09-01T17:56:57.135234Z"
    }
   },
   "outputs": [],
   "source": [
    "import dowhy.datasets\n",
    "import dowhy.api\n",
    "\n",
    "import numpy as np\n",
    "import pandas as pd\n",
    "\n",
    "from statsmodels.api import OLS"
   ]
  },
  {
   "cell_type": "code",
   "execution_count": 2,
   "metadata": {
    "execution": {
     "iopub.execute_input": "2022-09-01T17:56:57.139455Z",
     "iopub.status.busy": "2022-09-01T17:56:57.138777Z",
     "iopub.status.idle": "2022-09-01T17:56:57.180475Z",
     "shell.execute_reply": "2022-09-01T17:56:57.179896Z"
    }
   },
   "outputs": [
    {
     "data": {
      "text/html": [
       "<div>\n",
       "<style scoped>\n",
       "    .dataframe tbody tr th:only-of-type {\n",
       "        vertical-align: middle;\n",
       "    }\n",
       "\n",
       "    .dataframe tbody tr th {\n",
       "        vertical-align: top;\n",
       "    }\n",
       "\n",
       "    .dataframe thead th {\n",
       "        text-align: right;\n",
       "    }\n",
       "</style>\n",
       "<table border=\"1\" class=\"dataframe\">\n",
       "  <thead>\n",
       "    <tr style=\"text-align: right;\">\n",
       "      <th></th>\n",
       "      <th>W0</th>\n",
       "      <th>v0</th>\n",
       "      <th>y</th>\n",
       "    </tr>\n",
       "  </thead>\n",
       "  <tbody>\n",
       "    <tr>\n",
       "      <th>0</th>\n",
       "      <td>1.124514</td>\n",
       "      <td>True</td>\n",
       "      <td>5.693451</td>\n",
       "    </tr>\n",
       "    <tr>\n",
       "      <th>1</th>\n",
       "      <td>-0.292190</td>\n",
       "      <td>True</td>\n",
       "      <td>4.062787</td>\n",
       "    </tr>\n",
       "    <tr>\n",
       "      <th>2</th>\n",
       "      <td>-1.385958</td>\n",
       "      <td>True</td>\n",
       "      <td>2.714415</td>\n",
       "    </tr>\n",
       "    <tr>\n",
       "      <th>3</th>\n",
       "      <td>-0.995467</td>\n",
       "      <td>True</td>\n",
       "      <td>2.267715</td>\n",
       "    </tr>\n",
       "    <tr>\n",
       "      <th>4</th>\n",
       "      <td>-0.823737</td>\n",
       "      <td>True</td>\n",
       "      <td>2.338058</td>\n",
       "    </tr>\n",
       "    <tr>\n",
       "      <th>...</th>\n",
       "      <td>...</td>\n",
       "      <td>...</td>\n",
       "      <td>...</td>\n",
       "    </tr>\n",
       "    <tr>\n",
       "      <th>995</th>\n",
       "      <td>-1.872320</td>\n",
       "      <td>True</td>\n",
       "      <td>0.520660</td>\n",
       "    </tr>\n",
       "    <tr>\n",
       "      <th>996</th>\n",
       "      <td>0.784960</td>\n",
       "      <td>False</td>\n",
       "      <td>0.398467</td>\n",
       "    </tr>\n",
       "    <tr>\n",
       "      <th>997</th>\n",
       "      <td>0.077604</td>\n",
       "      <td>True</td>\n",
       "      <td>3.799712</td>\n",
       "    </tr>\n",
       "    <tr>\n",
       "      <th>998</th>\n",
       "      <td>-0.140023</td>\n",
       "      <td>True</td>\n",
       "      <td>3.908738</td>\n",
       "    </tr>\n",
       "    <tr>\n",
       "      <th>999</th>\n",
       "      <td>0.228334</td>\n",
       "      <td>False</td>\n",
       "      <td>0.201323</td>\n",
       "    </tr>\n",
       "  </tbody>\n",
       "</table>\n",
       "<p>1000 rows × 3 columns</p>\n",
       "</div>"
      ],
      "text/plain": [
       "           W0     v0         y\n",
       "0    1.124514   True  5.693451\n",
       "1   -0.292190   True  4.062787\n",
       "2   -1.385958   True  2.714415\n",
       "3   -0.995467   True  2.267715\n",
       "4   -0.823737   True  2.338058\n",
       "..        ...    ...       ...\n",
       "995 -1.872320   True  0.520660\n",
       "996  0.784960  False  0.398467\n",
       "997  0.077604   True  3.799712\n",
       "998 -0.140023   True  3.908738\n",
       "999  0.228334  False  0.201323\n",
       "\n",
       "[1000 rows x 3 columns]"
      ]
     },
     "execution_count": 2,
     "metadata": {},
     "output_type": "execute_result"
    }
   ],
   "source": [
    "data = dowhy.datasets.linear_dataset(beta=5,\n",
    "        num_common_causes=1,\n",
    "        num_instruments = 0,\n",
    "        num_samples=1000,\n",
    "        treatment_is_binary=True)\n",
    "df = data['df']\n",
    "df['y'] = df['y'] + np.random.normal(size=len(df)) # Adding noise to data. Without noise, the variance in Y|X, Z is zero, and mcmc fails.\n",
    "#data['dot_graph'] = 'digraph { v ->y;X0-> v;X0-> y;}'\n",
    "\n",
    "treatment= data[\"treatment_name\"][0]\n",
    "outcome = data[\"outcome_name\"][0]\n",
    "common_cause = data[\"common_causes_names\"][0]\n",
    "df"
   ]
  },
  {
   "cell_type": "code",
   "execution_count": 3,
   "metadata": {
    "execution": {
     "iopub.execute_input": "2022-09-01T17:56:57.183681Z",
     "iopub.status.busy": "2022-09-01T17:56:57.183188Z",
     "iopub.status.idle": "2022-09-01T17:56:57.918785Z",
     "shell.execute_reply": "2022-09-01T17:56:57.918261Z"
    }
   },
   "outputs": [
    {
     "data": {
      "text/plain": [
       "<AxesSubplot:xlabel='v0'>"
      ]
     },
     "execution_count": 3,
     "metadata": {},
     "output_type": "execute_result"
    },
    {
     "data": {
      "image/png": "[encoded data removed]",
      "text/plain": [
       "<Figure size 640x480 with 1 Axes>"
      ]
     },
     "metadata": {},
     "output_type": "display_data"
    }
   ],
   "source": [
    "# data['df'] is just a regular pandas.DataFrame\n",
    "df.causal.do(x=treatment,\n",
    "                     variable_types={treatment: 'b', outcome: 'c', common_cause: 'c'},\n",
    "                     outcome=outcome,\n",
    "                     common_causes=[common_cause],\n",
    "                     proceed_when_unidentifiable=True).groupby(treatment).mean().plot(y=outcome, kind='bar')"
   ]
  },
  {
   "cell_type": "code",
   "execution_count": 4,
   "metadata": {
    "execution": {
     "iopub.execute_input": "2022-09-01T17:56:57.922308Z",
     "iopub.status.busy": "2022-09-01T17:56:57.921770Z",
     "iopub.status.idle": "2022-09-01T17:56:58.033830Z",
     "shell.execute_reply": "2022-09-01T17:56:58.033234Z"
    }
   },
   "outputs": [
    {
     "data": {
      "text/plain": [
       "<AxesSubplot:xlabel='v0'>"
      ]
     },
     "execution_count": 4,
     "metadata": {},
     "output_type": "execute_result"
    },
    {
     "data": {
      "image/png": "[encoded data removed]",
      "text/plain": [
       "<Figure size 640x480 with 1 Axes>"
      ]
     },
     "metadata": {},
     "output_type": "display_data"
    }
   ],
   "source": [
    "df.causal.do(x={treatment: 1}, \n",
    "              variable_types={treatment:'b', outcome: 'c', common_cause: 'c'}, \n",
    "              outcome=outcome,\n",
    "              method='weighting', \n",
    "              common_causes=[common_cause],\n",
    "              proceed_when_unidentifiable=True).groupby(treatment).mean().plot(y=outcome, kind='bar')"
   ]
  },
  {
   "cell_type": "code",
   "execution_count": 5,
   "metadata": {
    "execution": {
     "iopub.execute_input": "2022-09-01T17:56:58.038037Z",
     "iopub.status.busy": "2022-09-01T17:56:58.036996Z",
     "iopub.status.idle": "2022-09-01T17:56:58.067761Z",
     "shell.execute_reply": "2022-09-01T17:56:58.067178Z"
    }
   },
   "outputs": [],
   "source": [
    "cdf_1 = df.causal.do(x={treatment: 1}, \n",
    "              variable_types={treatment: 'b', outcome: 'c', common_cause: 'c'}, \n",
    "              outcome=outcome, \n",
    "              dot_graph=data['dot_graph'],\n",
    "              proceed_when_unidentifiable=True)\n",
    "\n",
    "cdf_0 = df.causal.do(x={treatment: 0}, \n",
    "              variable_types={treatment: 'b', outcome: 'c', common_cause: 'c'}, \n",
    "              outcome=outcome, \n",
    "              dot_graph=data['dot_graph'],\n",
    "              proceed_when_unidentifiable=True)\n"
   ]
  },
  {
   "cell_type": "code",
   "execution_count": 6,
   "metadata": {
    "execution": {
     "iopub.execute_input": "2022-09-01T17:56:58.070667Z",
     "iopub.status.busy": "2022-09-01T17:56:58.070269Z",
     "iopub.status.idle": "2022-09-01T17:56:58.082258Z",
     "shell.execute_reply": "2022-09-01T17:56:58.081674Z"
    },
    "scrolled": true
   },
   "outputs": [
    {
     "data": {
      "text/html": [
       "<div>\n",
       "<style scoped>\n",
       "    .dataframe tbody tr th:only-of-type {\n",
       "        vertical-align: middle;\n",
       "    }\n",
       "\n",
       "    .dataframe tbody tr th {\n",
       "        vertical-align: top;\n",
       "    }\n",
       "\n",
       "    .dataframe thead th {\n",
       "        text-align: right;\n",
       "    }\n",
       "</style>\n",
       "<table border=\"1\" class=\"dataframe\">\n",
       "  <thead>\n",
       "    <tr style=\"text-align: right;\">\n",
       "      <th></th>\n",
       "      <th>W0</th>\n",
       "      <th>v0</th>\n",
       "      <th>y</th>\n",
       "      <th>propensity_score</th>\n",
       "      <th>weight</th>\n",
       "    </tr>\n",
       "  </thead>\n",
       "  <tbody>\n",
       "    <tr>\n",
       "      <th>0</th>\n",
       "      <td>-0.230069</td>\n",
       "      <td>False</td>\n",
       "      <td>-1.092803</td>\n",
       "      <td>0.493784</td>\n",
       "      <td>2.025179</td>\n",
       "    </tr>\n",
       "    <tr>\n",
       "      <th>1</th>\n",
       "      <td>0.190424</td>\n",
       "      <td>False</td>\n",
       "      <td>-0.075805</td>\n",
       "      <td>0.448052</td>\n",
       "      <td>2.231885</td>\n",
       "    </tr>\n",
       "    <tr>\n",
       "      <th>2</th>\n",
       "      <td>0.041121</td>\n",
       "      <td>False</td>\n",
       "      <td>-0.459379</td>\n",
       "      <td>0.464229</td>\n",
       "      <td>2.154108</td>\n",
       "    </tr>\n",
       "    <tr>\n",
       "      <th>3</th>\n",
       "      <td>-0.742064</td>\n",
       "      <td>False</td>\n",
       "      <td>-1.240707</td>\n",
       "      <td>0.549532</td>\n",
       "      <td>1.819730</td>\n",
       "    </tr>\n",
       "    <tr>\n",
       "      <th>4</th>\n",
       "      <td>-2.511871</td>\n",
       "      <td>False</td>\n",
       "      <td>-3.947875</td>\n",
       "      <td>0.725491</td>\n",
       "      <td>1.378378</td>\n",
       "    </tr>\n",
       "    <tr>\n",
       "      <th>...</th>\n",
       "      <td>...</td>\n",
       "      <td>...</td>\n",
       "      <td>...</td>\n",
       "      <td>...</td>\n",
       "      <td>...</td>\n",
       "    </tr>\n",
       "    <tr>\n",
       "      <th>995</th>\n",
       "      <td>0.992927</td>\n",
       "      <td>False</td>\n",
       "      <td>2.332542</td>\n",
       "      <td>0.363757</td>\n",
       "      <td>2.749084</td>\n",
       "    </tr>\n",
       "    <tr>\n",
       "      <th>996</th>\n",
       "      <td>0.371767</td>\n",
       "      <td>False</td>\n",
       "      <td>1.659599</td>\n",
       "      <td>0.428553</td>\n",
       "      <td>2.333436</td>\n",
       "    </tr>\n",
       "    <tr>\n",
       "      <th>997</th>\n",
       "      <td>-0.325569</td>\n",
       "      <td>False</td>\n",
       "      <td>0.026338</td>\n",
       "      <td>0.504212</td>\n",
       "      <td>1.983292</td>\n",
       "    </tr>\n",
       "    <tr>\n",
       "      <th>998</th>\n",
       "      <td>-1.525208</td>\n",
       "      <td>False</td>\n",
       "      <td>-2.237504</td>\n",
       "      <td>0.632015</td>\n",
       "      <td>1.582241</td>\n",
       "    </tr>\n",
       "    <tr>\n",
       "      <th>999</th>\n",
       "      <td>-1.253668</td>\n",
       "      <td>False</td>\n",
       "      <td>-4.334630</td>\n",
       "      <td>0.604023</td>\n",
       "      <td>1.655565</td>\n",
       "    </tr>\n",
       "  </tbody>\n",
       "</table>\n",
       "<p>1000 rows × 5 columns</p>\n",
       "</div>"
      ],
      "text/plain": [
       "           W0     v0         y  propensity_score    weight\n",
       "0   -0.230069  False -1.092803          0.493784  2.025179\n",
       "1    0.190424  False -0.075805          0.448052  2.231885\n",
       "2    0.041121  False -0.459379          0.464229  2.154108\n",
       "3   -0.742064  False -1.240707          0.549532  1.819730\n",
       "4   -2.511871  False -3.947875          0.725491  1.378378\n",
       "..        ...    ...       ...               ...       ...\n",
       "995  0.992927  False  2.332542          0.363757  2.749084\n",
       "996  0.371767  False  1.659599          0.428553  2.333436\n",
       "997 -0.325569  False  0.026338          0.504212  1.983292\n",
       "998 -1.525208  False -2.237504          0.632015  1.582241\n",
       "999 -1.253668  False -4.334630          0.604023  1.655565\n",
       "\n",
       "[1000 rows x 5 columns]"
      ]
     },
     "execution_count": 6,
     "metadata": {},
     "output_type": "execute_result"
    }
   ],
   "source": [
    "cdf_0"
   ]
  },
  {
   "cell_type": "code",
   "execution_count": 7,
   "metadata": {
    "execution": {
     "iopub.execute_input": "2022-09-01T17:56:58.085095Z",
     "iopub.status.busy": "2022-09-01T17:56:58.084737Z",
     "iopub.status.idle": "2022-09-01T17:56:58.095786Z",
     "shell.execute_reply": "2022-09-01T17:56:58.095239Z"
    }
   },
   "outputs": [
    {
     "data": {
      "text/html": [
       "<div>\n",
       "<style scoped>\n",
       "    .dataframe tbody tr th:only-of-type {\n",
       "        vertical-align: middle;\n",
       "    }\n",
       "\n",
       "    .dataframe tbody tr th {\n",
       "        vertical-align: top;\n",
       "    }\n",
       "\n",
       "    .dataframe thead th {\n",
       "        text-align: right;\n",
       "    }\n",
       "</style>\n",
       "<table border=\"1\" class=\"dataframe\">\n",
       "  <thead>\n",
       "    <tr style=\"text-align: right;\">\n",
       "      <th></th>\n",
       "      <th>W0</th>\n",
       "      <th>v0</th>\n",
       "      <th>y</th>\n",
       "      <th>propensity_score</th>\n",
       "      <th>weight</th>\n",
       "    </tr>\n",
       "  </thead>\n",
       "  <tbody>\n",
       "    <tr>\n",
       "      <th>0</th>\n",
       "      <td>-1.131385</td>\n",
       "      <td>True</td>\n",
       "      <td>2.792901</td>\n",
       "      <td>0.408821</td>\n",
       "      <td>2.446060</td>\n",
       "    </tr>\n",
       "    <tr>\n",
       "      <th>1</th>\n",
       "      <td>-1.123238</td>\n",
       "      <td>True</td>\n",
       "      <td>3.470913</td>\n",
       "      <td>0.409681</td>\n",
       "      <td>2.440923</td>\n",
       "    </tr>\n",
       "    <tr>\n",
       "      <th>2</th>\n",
       "      <td>0.171730</td>\n",
       "      <td>True</td>\n",
       "      <td>4.131344</td>\n",
       "      <td>0.549928</td>\n",
       "      <td>1.818420</td>\n",
       "    </tr>\n",
       "    <tr>\n",
       "      <th>3</th>\n",
       "      <td>-0.953112</td>\n",
       "      <td>True</td>\n",
       "      <td>1.658473</td>\n",
       "      <td>0.427766</td>\n",
       "      <td>2.337725</td>\n",
       "    </tr>\n",
       "    <tr>\n",
       "      <th>4</th>\n",
       "      <td>-1.416675</td>\n",
       "      <td>True</td>\n",
       "      <td>1.341590</td>\n",
       "      <td>0.379078</td>\n",
       "      <td>2.637977</td>\n",
       "    </tr>\n",
       "    <tr>\n",
       "      <th>...</th>\n",
       "      <td>...</td>\n",
       "      <td>...</td>\n",
       "      <td>...</td>\n",
       "      <td>...</td>\n",
       "      <td>...</td>\n",
       "    </tr>\n",
       "    <tr>\n",
       "      <th>995</th>\n",
       "      <td>-0.039701</td>\n",
       "      <td>True</td>\n",
       "      <td>3.782035</td>\n",
       "      <td>0.526980</td>\n",
       "      <td>1.897607</td>\n",
       "    </tr>\n",
       "    <tr>\n",
       "      <th>996</th>\n",
       "      <td>-0.709182</td>\n",
       "      <td>True</td>\n",
       "      <td>3.387374</td>\n",
       "      <td>0.454026</td>\n",
       "      <td>2.202518</td>\n",
       "    </tr>\n",
       "    <tr>\n",
       "      <th>997</th>\n",
       "      <td>-0.072334</td>\n",
       "      <td>True</td>\n",
       "      <td>5.101251</td>\n",
       "      <td>0.523425</td>\n",
       "      <td>1.910494</td>\n",
       "    </tr>\n",
       "    <tr>\n",
       "      <th>998</th>\n",
       "      <td>-0.925324</td>\n",
       "      <td>True</td>\n",
       "      <td>2.901228</td>\n",
       "      <td>0.430740</td>\n",
       "      <td>2.321585</td>\n",
       "    </tr>\n",
       "    <tr>\n",
       "      <th>999</th>\n",
       "      <td>0.711327</td>\n",
       "      <td>True</td>\n",
       "      <td>5.935916</td>\n",
       "      <td>0.607326</td>\n",
       "      <td>1.646563</td>\n",
       "    </tr>\n",
       "  </tbody>\n",
       "</table>\n",
       "<p>1000 rows × 5 columns</p>\n",
       "</div>"
      ],
      "text/plain": [
       "           W0    v0         y  propensity_score    weight\n",
       "0   -1.131385  True  2.792901          0.408821  2.446060\n",
       "1   -1.123238  True  3.470913          0.409681  2.440923\n",
       "2    0.171730  True  4.131344          0.549928  1.818420\n",
       "3   -0.953112  True  1.658473          0.427766  2.337725\n",
       "4   -1.416675  True  1.341590          0.379078  2.637977\n",
       "..        ...   ...       ...               ...       ...\n",
       "995 -0.039701  True  3.782035          0.526980  1.897607\n",
       "996 -0.709182  True  3.387374          0.454026  2.202518\n",
       "997 -0.072334  True  5.101251          0.523425  1.910494\n",
       "998 -0.925324  True  2.901228          0.430740  2.321585\n",
       "999  0.711327  True  5.935916          0.607326  1.646563\n",
       "\n",
       "[1000 rows x 5 columns]"
      ]
     },
     "execution_count": 7,
     "metadata": {},
     "output_type": "execute_result"
    }
   ],
   "source": [
    "cdf_1"
   ]
  },
  {
   "cell_type": "markdown",
   "metadata": {},
   "source": [
    "## Comparing the estimate to Linear Regression\n",
    "First, estimating the effect using the causal data frame, and the 95% confidence interval."
   ]
  },
  {
   "cell_type": "code",
   "execution_count": 8,
   "metadata": {
    "execution": {
     "iopub.execute_input": "2022-09-01T17:56:58.098728Z",
     "iopub.status.busy": "2022-09-01T17:56:58.098412Z",
     "iopub.status.idle": "2022-09-01T17:56:58.194354Z",
     "shell.execute_reply": "2022-09-01T17:56:58.193699Z"
    }
   },
   "outputs": [
    {
     "data": {
      "image/png": "[encoded data removed]",
      "text/latex": [
       "$\\displaystyle 4.93202007797211$"
      ],
      "text/plain": [
       "4.932020077972106"
      ]
     },
     "execution_count": 8,
     "metadata": {},
     "output_type": "execute_result"
    }
   ],
   "source": [
    "(cdf_1['y'] - cdf_0['y']).mean()"
   ]
  },
  {
   "cell_type": "code",
   "execution_count": 9,
   "metadata": {
    "execution": {
     "iopub.execute_input": "2022-09-01T17:56:58.197145Z",
     "iopub.status.busy": "2022-09-01T17:56:58.196916Z",
     "iopub.status.idle": "2022-09-01T17:56:58.222100Z",
     "shell.execute_reply": "2022-09-01T17:56:58.221556Z"
    }
   },
   "outputs": [
    {
     "data": {
      "image/png": "[encoded data removed]",
      "text/latex": [
       "$\\displaystyle 0.184631349358639$"
      ],
      "text/plain": [
       "0.18463134935863942"
      ]
     },
     "execution_count": 9,
     "metadata": {},
     "output_type": "execute_result"
    }
   ],
   "source": [
    "1.96*(cdf_1['y'] - cdf_0['y']).std() / np.sqrt(len(df))"
   ]
  },
  {
   "cell_type": "markdown",
   "metadata": {},
   "source": [
    "Comparing to the estimate from OLS."
   ]
  },
  {
   "cell_type": "code",
   "execution_count": 10,
   "metadata": {
    "execution": {
     "iopub.execute_input": "2022-09-01T17:56:58.225174Z",
     "iopub.status.busy": "2022-09-01T17:56:58.224769Z",
     "iopub.status.idle": "2022-09-01T17:56:58.240697Z",
     "shell.execute_reply": "2022-09-01T17:56:58.240154Z"
    }
   },
   "outputs": [
    {
     "data": {
      "text/html": [
       "<table class=\"simpletable\">\n",
       "<caption>OLS Regression Results</caption>\n",
       "<tr>\n",
       "  <th>Dep. Variable:</th>            <td>y</td>        <th>  R-squared (uncentered):</th>      <td>   0.938</td>\n",
       "</tr>\n",
       "<tr>\n",
       "  <th>Model:</th>                   <td>OLS</td>       <th>  Adj. R-squared (uncentered):</th> <td>   0.937</td>\n",
       "</tr>\n",
       "<tr>\n",
       "  <th>Method:</th>             <td>Least Squares</td>  <th>  F-statistic:       </th>          <td>   7492.</td>\n",
       "</tr>\n",
       "<tr>\n",
       "  <th>Date:</th>             <td>Thu, 01 Sep 2022</td> <th>  Prob (F-statistic):</th>           <td>  0.00</td> \n",
       "</tr>\n",
       "<tr>\n",
       "  <th>Time:</th>                 <td>17:56:58</td>     <th>  Log-Likelihood:    </th>          <td> -1378.3</td>\n",
       "</tr>\n",
       "<tr>\n",
       "  <th>No. Observations:</th>      <td>  1000</td>      <th>  AIC:               </th>          <td>   2761.</td>\n",
       "</tr>\n",
       "<tr>\n",
       "  <th>Df Residuals:</th>          <td>   998</td>      <th>  BIC:               </th>          <td>   2770.</td>\n",
       "</tr>\n",
       "<tr>\n",
       "  <th>Df Model:</th>              <td>     2</td>      <th>                     </th>              <td> </td>   \n",
       "</tr>\n",
       "<tr>\n",
       "  <th>Covariance Type:</th>      <td>nonrobust</td>    <th>                     </th>              <td> </td>   \n",
       "</tr>\n",
       "</table>\n",
       "<table class=\"simpletable\">\n",
       "<tr>\n",
       "   <td></td>     <th>coef</th>     <th>std err</th>      <th>t</th>      <th>P>|t|</th>  <th>[0.025</th>    <th>0.975]</th>  \n",
       "</tr>\n",
       "<tr>\n",
       "  <th>x1</th> <td>    2.0291</td> <td>    0.027</td> <td>   75.872</td> <td> 0.000</td> <td>    1.977</td> <td>    2.082</td>\n",
       "</tr>\n",
       "<tr>\n",
       "  <th>x2</th> <td>    4.9900</td> <td>    0.045</td> <td>  109.905</td> <td> 0.000</td> <td>    4.901</td> <td>    5.079</td>\n",
       "</tr>\n",
       "</table>\n",
       "<table class=\"simpletable\">\n",
       "<tr>\n",
       "  <th>Omnibus:</th>       <td> 0.864</td> <th>  Durbin-Watson:     </th> <td>   2.065</td>\n",
       "</tr>\n",
       "<tr>\n",
       "  <th>Prob(Omnibus):</th> <td> 0.649</td> <th>  Jarque-Bera (JB):  </th> <td>   0.844</td>\n",
       "</tr>\n",
       "<tr>\n",
       "  <th>Skew:</th>          <td> 0.071</td> <th>  Prob(JB):          </th> <td>   0.656</td>\n",
       "</tr>\n",
       "<tr>\n",
       "  <th>Kurtosis:</th>      <td> 2.998</td> <th>  Cond. No.          </th> <td>    1.78</td>\n",
       "</tr>\n",
       "</table><br/><br/>Notes:<br/>[1] R² is computed without centering (uncentered) since the model does not contain a constant.<br/>[2] Standard Errors assume that the covariance matrix of the errors is correctly specified."
      ],
      "text/plain": [
       "<class 'statsmodels.iolib.summary.Summary'>\n",
       "\"\"\"\n",
       "                                 OLS Regression Results                                \n",
       "=======================================================================================\n",
       "Dep. Variable:                      y   R-squared (uncentered):                   0.938\n",
       "Model:                            OLS   Adj. R-squared (uncentered):              0.937\n",
       "Method:                 Least Squares   F-statistic:                              7492.\n",
       "Date:                Thu, 01 Sep 2022   Prob (F-statistic):                        0.00\n",
       "Time:                        17:56:58   Log-Likelihood:                         -1378.3\n",
       "No. Observations:                1000   AIC:                                      2761.\n",
       "Df Residuals:                     998   BIC:                                      2770.\n",
       "Df Model:                           2                                                  \n",
       "Covariance Type:            nonrobust                                                  \n",
       "==============================================================================\n",
       "                 coef    std err          t      P>|t|      [0.025      0.975]\n",
       "------------------------------------------------------------------------------\n",
       "x1             2.0291      0.027     75.872      0.000       1.977       2.082\n",
       "x2             4.9900      0.045    109.905      0.000       4.901       5.079\n",
       "==============================================================================\n",
       "Omnibus:                        0.864   Durbin-Watson:                   2.065\n",
       "Prob(Omnibus):                  0.649   Jarque-Bera (JB):                0.844\n",
       "Skew:                           0.071   Prob(JB):                        0.656\n",
       "Kurtosis:                       2.998   Cond. No.                         1.78\n",
       "==============================================================================\n",
       "\n",
       "Notes:\n",
       "[1] R² is computed without centering (uncentered) since the model does not contain a constant.\n",
       "[2] Standard Errors assume that the covariance matrix of the errors is correctly specified.\n",
       "\"\"\""
      ]
     },
     "execution_count": 10,
     "metadata": {},
     "output_type": "execute_result"
    }
   ],
   "source": [
    "model = OLS(np.asarray(df[outcome]), np.asarray(df[[common_cause, treatment]], dtype=np.float64))\n",
    "result = model.fit()\n",
    "result.summary()"
   ]
  }
 ],
 "metadata": {
  "kernelspec": {
   "display_name": "Python 3",
   "language": "python",
   "name": "python3"
  },
  "language_info": {
   "codemirror_mode": {
    "name": "ipython",
    "version": 3
   },
   "file_extension": ".py",
   "mimetype": "text/x-python",
   "name": "python",
   "nbconvert_exporter": "python",
   "pygments_lexer": "ipython3",
   "version": "3.8.10"
  },
  "toc": {
   "base_numbering": 1,
   "nav_menu": {},
   "number_sections": false,
   "sideBar": true,
   "skip_h1_title": true,
   "title_cell": "Table of Contents",
   "title_sidebar": "Contents",
   "toc_cell": false,
   "toc_position": {},
   "toc_section_display": true,
   "toc_window_display": false
  }
 },
 "nbformat": 4,
 "nbformat_minor": 4
}
