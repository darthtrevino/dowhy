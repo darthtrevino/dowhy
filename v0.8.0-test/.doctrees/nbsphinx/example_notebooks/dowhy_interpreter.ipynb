{
 "cells": [
  {
   "cell_type": "markdown",
   "id": "a55e9b91",
   "metadata": {},
   "source": [
    "# DoWhy: Interpreters for Causal Estimators\n",
    "\n",
    "This is a quick introduction to the use of interpreters in the DoWhy causal inference library.\n",
    "We will load in a sample dataset, use different methods for estimating the causal effect of a (pre-specified)treatment variable on a (pre-specified) outcome variable and demonstrate how to interpret the obtained results.\n",
    "\n",
    "First, let us add the required path for Python to find the DoWhy code and load all required packages"
   ]
  },
  {
   "cell_type": "code",
   "execution_count": 1,
   "id": "37939a0f",
   "metadata": {
    "execution": {
     "iopub.execute_input": "2022-08-12T22:19:07.148669Z",
     "iopub.status.busy": "2022-08-12T22:19:07.148428Z",
     "iopub.status.idle": "2022-08-12T22:19:07.164037Z",
     "shell.execute_reply": "2022-08-12T22:19:07.163499Z"
    }
   },
   "outputs": [],
   "source": [
    "%load_ext autoreload\n",
    "%autoreload 2"
   ]
  },
  {
   "cell_type": "code",
   "execution_count": 2,
   "id": "96580b3e",
   "metadata": {
    "execution": {
     "iopub.execute_input": "2022-08-12T22:19:07.166800Z",
     "iopub.status.busy": "2022-08-12T22:19:07.166599Z",
     "iopub.status.idle": "2022-08-12T22:19:08.108659Z",
     "shell.execute_reply": "2022-08-12T22:19:08.108008Z"
    }
   },
   "outputs": [],
   "source": [
    "import numpy as np\n",
    "import pandas as pd\n",
    "import logging\n",
    "\n",
    "import dowhy\n",
    "from dowhy import CausalModel\n",
    "import dowhy.datasets "
   ]
  },
  {
   "cell_type": "markdown",
   "id": "030fa7ed",
   "metadata": {},
   "source": [
    "Now, let us load a dataset. For simplicity, we simulate a dataset with linear relationships between common causes and treatment, and common causes and outcome.\n",
    "\n",
    "Beta is the true causal effect."
   ]
  },
  {
   "cell_type": "code",
   "execution_count": 3,
   "id": "de591472",
   "metadata": {
    "execution": {
     "iopub.execute_input": "2022-08-12T22:19:08.112015Z",
     "iopub.status.busy": "2022-08-12T22:19:08.111479Z",
     "iopub.status.idle": "2022-08-12T22:19:08.383163Z",
     "shell.execute_reply": "2022-08-12T22:19:08.382576Z"
    }
   },
   "outputs": [
    {
     "name": "stdout",
     "output_type": "stream",
     "text": [
      "9475\n"
     ]
    },
    {
     "data": {
      "text/html": [
       "<div>\n",
       "<style scoped>\n",
       "    .dataframe tbody tr th:only-of-type {\n",
       "        vertical-align: middle;\n",
       "    }\n",
       "\n",
       "    .dataframe tbody tr th {\n",
       "        vertical-align: top;\n",
       "    }\n",
       "\n",
       "    .dataframe thead th {\n",
       "        text-align: right;\n",
       "    }\n",
       "</style>\n",
       "<table border=\"1\" class=\"dataframe\">\n",
       "  <thead>\n",
       "    <tr style=\"text-align: right;\">\n",
       "      <th></th>\n",
       "      <th>Z0</th>\n",
       "      <th>Z1</th>\n",
       "      <th>W0</th>\n",
       "      <th>W1</th>\n",
       "      <th>W2</th>\n",
       "      <th>W3</th>\n",
       "      <th>W4</th>\n",
       "      <th>v0</th>\n",
       "      <th>y</th>\n",
       "    </tr>\n",
       "  </thead>\n",
       "  <tbody>\n",
       "    <tr>\n",
       "      <th>0</th>\n",
       "      <td>1.0</td>\n",
       "      <td>0.830978</td>\n",
       "      <td>-0.104680</td>\n",
       "      <td>0.494026</td>\n",
       "      <td>-0.318016</td>\n",
       "      <td>2.531683</td>\n",
       "      <td>1</td>\n",
       "      <td>True</td>\n",
       "      <td>1.807258</td>\n",
       "    </tr>\n",
       "    <tr>\n",
       "      <th>1</th>\n",
       "      <td>1.0</td>\n",
       "      <td>0.820297</td>\n",
       "      <td>0.463949</td>\n",
       "      <td>2.234754</td>\n",
       "      <td>-1.254845</td>\n",
       "      <td>1.064881</td>\n",
       "      <td>3</td>\n",
       "      <td>True</td>\n",
       "      <td>3.742007</td>\n",
       "    </tr>\n",
       "    <tr>\n",
       "      <th>2</th>\n",
       "      <td>1.0</td>\n",
       "      <td>0.128505</td>\n",
       "      <td>0.286983</td>\n",
       "      <td>0.072757</td>\n",
       "      <td>0.546795</td>\n",
       "      <td>0.322708</td>\n",
       "      <td>1</td>\n",
       "      <td>True</td>\n",
       "      <td>1.640343</td>\n",
       "    </tr>\n",
       "    <tr>\n",
       "      <th>3</th>\n",
       "      <td>1.0</td>\n",
       "      <td>0.526087</td>\n",
       "      <td>0.206063</td>\n",
       "      <td>0.960113</td>\n",
       "      <td>0.163482</td>\n",
       "      <td>1.225688</td>\n",
       "      <td>0</td>\n",
       "      <td>True</td>\n",
       "      <td>1.730899</td>\n",
       "    </tr>\n",
       "    <tr>\n",
       "      <th>4</th>\n",
       "      <td>1.0</td>\n",
       "      <td>0.513506</td>\n",
       "      <td>-1.022861</td>\n",
       "      <td>0.969350</td>\n",
       "      <td>1.344832</td>\n",
       "      <td>-0.695650</td>\n",
       "      <td>0</td>\n",
       "      <td>True</td>\n",
       "      <td>1.478458</td>\n",
       "    </tr>\n",
       "    <tr>\n",
       "      <th>...</th>\n",
       "      <td>...</td>\n",
       "      <td>...</td>\n",
       "      <td>...</td>\n",
       "      <td>...</td>\n",
       "      <td>...</td>\n",
       "      <td>...</td>\n",
       "      <td>...</td>\n",
       "      <td>...</td>\n",
       "      <td>...</td>\n",
       "    </tr>\n",
       "    <tr>\n",
       "      <th>9995</th>\n",
       "      <td>1.0</td>\n",
       "      <td>0.639900</td>\n",
       "      <td>1.633789</td>\n",
       "      <td>1.142474</td>\n",
       "      <td>-0.970534</td>\n",
       "      <td>1.638835</td>\n",
       "      <td>0</td>\n",
       "      <td>True</td>\n",
       "      <td>2.087362</td>\n",
       "    </tr>\n",
       "    <tr>\n",
       "      <th>9996</th>\n",
       "      <td>1.0</td>\n",
       "      <td>0.750605</td>\n",
       "      <td>0.966028</td>\n",
       "      <td>0.778953</td>\n",
       "      <td>-0.550131</td>\n",
       "      <td>-0.990599</td>\n",
       "      <td>2</td>\n",
       "      <td>True</td>\n",
       "      <td>2.498127</td>\n",
       "    </tr>\n",
       "    <tr>\n",
       "      <th>9997</th>\n",
       "      <td>1.0</td>\n",
       "      <td>0.899083</td>\n",
       "      <td>0.867802</td>\n",
       "      <td>0.144640</td>\n",
       "      <td>1.321085</td>\n",
       "      <td>1.422444</td>\n",
       "      <td>3</td>\n",
       "      <td>True</td>\n",
       "      <td>2.892447</td>\n",
       "    </tr>\n",
       "    <tr>\n",
       "      <th>9998</th>\n",
       "      <td>1.0</td>\n",
       "      <td>0.801991</td>\n",
       "      <td>0.590888</td>\n",
       "      <td>1.627901</td>\n",
       "      <td>-1.351480</td>\n",
       "      <td>-0.684850</td>\n",
       "      <td>0</td>\n",
       "      <td>True</td>\n",
       "      <td>1.954854</td>\n",
       "    </tr>\n",
       "    <tr>\n",
       "      <th>9999</th>\n",
       "      <td>1.0</td>\n",
       "      <td>0.925972</td>\n",
       "      <td>-0.172900</td>\n",
       "      <td>1.761431</td>\n",
       "      <td>-1.452823</td>\n",
       "      <td>1.007042</td>\n",
       "      <td>3</td>\n",
       "      <td>True</td>\n",
       "      <td>3.246525</td>\n",
       "    </tr>\n",
       "  </tbody>\n",
       "</table>\n",
       "<p>10000 rows × 9 columns</p>\n",
       "</div>"
      ],
      "text/plain": [
       "       Z0        Z1        W0        W1        W2        W3 W4    v0         y\n",
       "0     1.0  0.830978 -0.104680  0.494026 -0.318016  2.531683  1  True  1.807258\n",
       "1     1.0  0.820297  0.463949  2.234754 -1.254845  1.064881  3  True  3.742007\n",
       "2     1.0  0.128505  0.286983  0.072757  0.546795  0.322708  1  True  1.640343\n",
       "3     1.0  0.526087  0.206063  0.960113  0.163482  1.225688  0  True  1.730899\n",
       "4     1.0  0.513506 -1.022861  0.969350  1.344832 -0.695650  0  True  1.478458\n",
       "...   ...       ...       ...       ...       ...       ... ..   ...       ...\n",
       "9995  1.0  0.639900  1.633789  1.142474 -0.970534  1.638835  0  True  2.087362\n",
       "9996  1.0  0.750605  0.966028  0.778953 -0.550131 -0.990599  2  True  2.498127\n",
       "9997  1.0  0.899083  0.867802  0.144640  1.321085  1.422444  3  True  2.892447\n",
       "9998  1.0  0.801991  0.590888  1.627901 -1.351480 -0.684850  0  True  1.954854\n",
       "9999  1.0  0.925972 -0.172900  1.761431 -1.452823  1.007042  3  True  3.246525\n",
       "\n",
       "[10000 rows x 9 columns]"
      ]
     },
     "execution_count": 3,
     "metadata": {},
     "output_type": "execute_result"
    }
   ],
   "source": [
    "data = dowhy.datasets.linear_dataset(beta=1,\n",
    "        num_common_causes=5, \n",
    "        num_instruments = 2,\n",
    "        num_treatments=1,\n",
    "        num_discrete_common_causes=1,\n",
    "        num_samples=10000,\n",
    "        treatment_is_binary=True,\n",
    "        outcome_is_binary=False)\n",
    "df = data[\"df\"]\n",
    "print(df[df.v0==True].shape[0])\n",
    "df"
   ]
  },
  {
   "cell_type": "markdown",
   "id": "9cee1603",
   "metadata": {},
   "source": [
    "Note that we are using a pandas dataframe to load the data."
   ]
  },
  {
   "cell_type": "markdown",
   "id": "856d39c9",
   "metadata": {},
   "source": [
    "## Identifying the causal estimand"
   ]
  },
  {
   "cell_type": "markdown",
   "id": "6c0bbf74",
   "metadata": {},
   "source": [
    "We now input a causal graph in the GML graph format."
   ]
  },
  {
   "cell_type": "code",
   "execution_count": 4,
   "id": "a9ba51b7",
   "metadata": {
    "execution": {
     "iopub.execute_input": "2022-08-12T22:19:08.387554Z",
     "iopub.status.busy": "2022-08-12T22:19:08.386547Z",
     "iopub.status.idle": "2022-08-12T22:19:08.411264Z",
     "shell.execute_reply": "2022-08-12T22:19:08.410688Z"
    }
   },
   "outputs": [],
   "source": [
    "# With graph\n",
    "model=CausalModel(\n",
    "        data = df,\n",
    "        treatment=data[\"treatment_name\"],\n",
    "        outcome=data[\"outcome_name\"],\n",
    "        graph=data[\"gml_graph\"],\n",
    "        instruments=data[\"instrument_names\"]\n",
    "        )"
   ]
  },
  {
   "cell_type": "code",
   "execution_count": 5,
   "id": "b5740f53",
   "metadata": {
    "execution": {
     "iopub.execute_input": "2022-08-12T22:19:08.415342Z",
     "iopub.status.busy": "2022-08-12T22:19:08.414334Z",
     "iopub.status.idle": "2022-08-12T22:19:08.466851Z",
     "shell.execute_reply": "2022-08-12T22:19:08.466238Z"
    }
   },
   "outputs": [],
   "source": [
    "model.view_model()"
   ]
  },
  {
   "cell_type": "code",
   "execution_count": 6,
   "id": "b41f319d",
   "metadata": {
    "execution": {
     "iopub.execute_input": "2022-08-12T22:19:08.470532Z",
     "iopub.status.busy": "2022-08-12T22:19:08.469988Z",
     "iopub.status.idle": "2022-08-12T22:19:08.495445Z",
     "shell.execute_reply": "2022-08-12T22:19:08.494907Z"
    }
   },
   "outputs": [
    {
     "data": {
      "image/png": "[encoded data removed]",
      "text/plain": [
       "<IPython.core.display.Image object>"
      ]
     },
     "metadata": {},
     "output_type": "display_data"
    }
   ],
   "source": [
    "from IPython.display import Image, display\n",
    "display(Image(filename=\"causal_model.png\"))"
   ]
  },
  {
   "cell_type": "markdown",
   "id": "8bb4cf76",
   "metadata": {},
   "source": [
    "We get a causal graph. Now identification and estimation is done."
   ]
  },
  {
   "cell_type": "code",
   "execution_count": 7,
   "id": "0fd56e8f",
   "metadata": {
    "execution": {
     "iopub.execute_input": "2022-08-12T22:19:08.498385Z",
     "iopub.status.busy": "2022-08-12T22:19:08.497832Z",
     "iopub.status.idle": "2022-08-12T22:19:08.712970Z",
     "shell.execute_reply": "2022-08-12T22:19:08.712353Z"
    }
   },
   "outputs": [
    {
     "name": "stdout",
     "output_type": "stream",
     "text": [
      "Estimand type: nonparametric-ate\n",
      "\n",
      "### Estimand : 1\n",
      "Estimand name: backdoor\n",
      "Estimand expression:\n",
      "  d                       \n",
      "─────(E[y|W2,W3,W0,W4,W1])\n",
      "d[v₀]                     \n",
      "Estimand assumption 1, Unconfoundedness: If U→{v0} and U→y then P(y|v0,W2,W3,W0,W4,W1,U) = P(y|v0,W2,W3,W0,W4,W1)\n",
      "\n",
      "### Estimand : 2\n",
      "Estimand name: iv\n",
      "Estimand expression:\n",
      " ⎡                              -1⎤\n",
      " ⎢    d        ⎛    d          ⎞  ⎥\n",
      "E⎢─────────(y)⋅⎜─────────([v₀])⎟  ⎥\n",
      " ⎣d[Z₁  Z₀]    ⎝d[Z₁  Z₀]      ⎠  ⎦\n",
      "Estimand assumption 1, As-if-random: If U→→y then ¬(U →→{Z1,Z0})\n",
      "Estimand assumption 2, Exclusion: If we remove {Z1,Z0}→{v0}, then ¬({Z1,Z0}→y)\n",
      "\n",
      "### Estimand : 3\n",
      "Estimand name: frontdoor\n",
      "No such variable(s) found!\n",
      "\n"
     ]
    }
   ],
   "source": [
    "identified_estimand = model.identify_effect(proceed_when_unidentifiable=True)\n",
    "print(identified_estimand)"
   ]
  },
  {
   "cell_type": "markdown",
   "id": "2c5688e3",
   "metadata": {},
   "source": [
    "## Method 1: Propensity Score Stratification\n",
    "\n",
    "We will be using propensity scores to stratify units in the data."
   ]
  },
  {
   "cell_type": "code",
   "execution_count": 8,
   "id": "17c48c72",
   "metadata": {
    "execution": {
     "iopub.execute_input": "2022-08-12T22:19:08.717196Z",
     "iopub.status.busy": "2022-08-12T22:19:08.715996Z",
     "iopub.status.idle": "2022-08-12T22:19:09.384710Z",
     "shell.execute_reply": "2022-08-12T22:19:09.384089Z"
    }
   },
   "outputs": [
    {
     "name": "stdout",
     "output_type": "stream",
     "text": [
      "propensity_score_stratification\n"
     ]
    },
    {
     "name": "stderr",
     "output_type": "stream",
     "text": [
      "/github/home/.cache/pypoetry/virtualenvs/dowhy-oN2hW5jr-py3.8/lib/python3.8/site-packages/sklearn/utils/validation.py:993: DataConversionWarning: A column-vector y was passed when a 1d array was expected. Please change the shape of y to (n_samples, ), for example using ravel().\n",
      "  y = column_or_1d(y, warn=True)\n"
     ]
    },
    {
     "name": "stdout",
     "output_type": "stream",
     "text": [
      "*** Causal Estimate ***\n",
      "\n",
      "## Identified estimand\n",
      "Estimand type: nonparametric-ate\n",
      "\n",
      "### Estimand : 1\n",
      "Estimand name: backdoor\n",
      "Estimand expression:\n",
      "  d                       \n",
      "─────(E[y|W2,W3,W0,W4,W1])\n",
      "d[v₀]                     \n",
      "Estimand assumption 1, Unconfoundedness: If U→{v0} and U→y then P(y|v0,W2,W3,W0,W4,W1,U) = P(y|v0,W2,W3,W0,W4,W1)\n",
      "\n",
      "## Realized estimand\n",
      "b: y~v0+W2+W3+W0+W4+W1\n",
      "Target units: att\n",
      "\n",
      "## Estimate\n",
      "Mean value: 0.9796314285876687\n",
      "\n",
      "Causal Estimate is 0.9796314285876687\n"
     ]
    }
   ],
   "source": [
    "causal_estimate_strat = model.estimate_effect(identified_estimand,\n",
    "                                              method_name=\"backdoor.propensity_score_stratification\",\n",
    "                                              target_units=\"att\")\n",
    "print(causal_estimate_strat)\n",
    "print(\"Causal Estimate is \" + str(causal_estimate_strat.value))"
   ]
  },
  {
   "cell_type": "markdown",
   "id": "0e2e4853",
   "metadata": {},
   "source": [
    "### Textual Interpreter\n",
    "\n",
    "The textual Interpreter describes (in words) the effect of unit change in the treatment variable on the outcome variable."
   ]
  },
  {
   "cell_type": "code",
   "execution_count": 9,
   "id": "df0a355d",
   "metadata": {
    "execution": {
     "iopub.execute_input": "2022-08-12T22:19:09.387874Z",
     "iopub.status.busy": "2022-08-12T22:19:09.387466Z",
     "iopub.status.idle": "2022-08-12T22:19:09.412217Z",
     "shell.execute_reply": "2022-08-12T22:19:09.411648Z"
    }
   },
   "outputs": [
    {
     "name": "stdout",
     "output_type": "stream",
     "text": [
      "Increasing the treatment variable(s) [v0] from 0 to 1 causes an increase of 0.9796314285876687 in the expected value of the outcome [y], over the data distribution/population represented by the dataset.\n"
     ]
    }
   ],
   "source": [
    "# Textual Interpreter\n",
    "interpretation = causal_estimate_strat.interpret(method_name=\"textual_effect_interpreter\")"
   ]
  },
  {
   "cell_type": "markdown",
   "id": "7d9f189c",
   "metadata": {},
   "source": [
    "### Visual Interpreter\n",
    "\n",
    "The visual interpreter plots the change in the standardized mean difference (SMD) before and after Propensity Score based adjustment of the dataset. The formula for SMD is given below.\n",
    "\n",
    "\n",
    "$SMD = \\frac{\\bar X_{1} - \\bar X_{2}}{\\sqrt{(S_{1}^{2} + S_{2}^{2})/2}}$\n",
    "\n",
    "Here, $\\bar X_{1}$ and $\\bar X_{2}$ are the sample mean for the treated and control groups.\n"
   ]
  },
  {
   "cell_type": "code",
   "execution_count": 10,
   "id": "4de88104",
   "metadata": {
    "execution": {
     "iopub.execute_input": "2022-08-12T22:19:09.415158Z",
     "iopub.status.busy": "2022-08-12T22:19:09.414623Z",
     "iopub.status.idle": "2022-08-12T22:19:10.330424Z",
     "shell.execute_reply": "2022-08-12T22:19:10.329757Z"
    }
   },
   "outputs": [
    {
     "data": {
      "image/png": "[encoded data removed]",
      "text/plain": [
       "<Figure size 432x288 with 1 Axes>"
      ]
     },
     "metadata": {
      "needs_background": "light"
     },
     "output_type": "display_data"
    }
   ],
   "source": [
    "# Visual Interpreter\n",
    "interpretation = causal_estimate_strat.interpret(method_name=\"propensity_balance_interpreter\")"
   ]
  },
  {
   "cell_type": "markdown",
   "id": "d17f654b",
   "metadata": {},
   "source": [
    "This plot shows how the SMD decreases from the unadjusted to the stratified units. "
   ]
  },
  {
   "cell_type": "markdown",
   "id": "ad9b5e61",
   "metadata": {},
   "source": [
    "## Method 2: Propensity Score Matching\n",
    "\n",
    "We will be using propensity scores to match units in the data."
   ]
  },
  {
   "cell_type": "code",
   "execution_count": 11,
   "id": "7e02d7d4",
   "metadata": {
    "execution": {
     "iopub.execute_input": "2022-08-12T22:19:10.333803Z",
     "iopub.status.busy": "2022-08-12T22:19:10.333156Z",
     "iopub.status.idle": "2022-08-12T22:19:13.953109Z",
     "shell.execute_reply": "2022-08-12T22:19:13.952313Z"
    }
   },
   "outputs": [
    {
     "name": "stdout",
     "output_type": "stream",
     "text": [
      "propensity_score_matching\n"
     ]
    },
    {
     "name": "stderr",
     "output_type": "stream",
     "text": [
      "/github/home/.cache/pypoetry/virtualenvs/dowhy-oN2hW5jr-py3.8/lib/python3.8/site-packages/sklearn/utils/validation.py:993: DataConversionWarning: A column-vector y was passed when a 1d array was expected. Please change the shape of y to (n_samples, ), for example using ravel().\n",
      "  y = column_or_1d(y, warn=True)\n"
     ]
    },
    {
     "name": "stdout",
     "output_type": "stream",
     "text": [
      "*** Causal Estimate ***\n",
      "\n",
      "## Identified estimand\n",
      "Estimand type: nonparametric-ate\n",
      "\n",
      "### Estimand : 1\n",
      "Estimand name: backdoor\n",
      "Estimand expression:\n",
      "  d                       \n",
      "─────(E[y|W2,W3,W0,W4,W1])\n",
      "d[v₀]                     \n",
      "Estimand assumption 1, Unconfoundedness: If U→{v0} and U→y then P(y|v0,W2,W3,W0,W4,W1,U) = P(y|v0,W2,W3,W0,W4,W1)\n",
      "\n",
      "## Realized estimand\n",
      "b: y~v0+W2+W3+W0+W4+W1\n",
      "Target units: atc\n",
      "\n",
      "## Estimate\n",
      "Mean value: 1.0111354388861353\n",
      "\n",
      "Causal Estimate is 1.0111354388861353\n"
     ]
    }
   ],
   "source": [
    "causal_estimate_match = model.estimate_effect(identified_estimand,\n",
    "                                              method_name=\"backdoor.propensity_score_matching\",\n",
    "                                              target_units=\"atc\")\n",
    "print(causal_estimate_match)\n",
    "print(\"Causal Estimate is \" + str(causal_estimate_match.value))"
   ]
  },
  {
   "cell_type": "code",
   "execution_count": 12,
   "id": "89492293",
   "metadata": {
    "execution": {
     "iopub.execute_input": "2022-08-12T22:19:13.956221Z",
     "iopub.status.busy": "2022-08-12T22:19:13.955998Z",
     "iopub.status.idle": "2022-08-12T22:19:13.980172Z",
     "shell.execute_reply": "2022-08-12T22:19:13.979595Z"
    }
   },
   "outputs": [
    {
     "name": "stdout",
     "output_type": "stream",
     "text": [
      "Increasing the treatment variable(s) [v0] from 0 to 1 causes an increase of 1.0111354388861353 in the expected value of the outcome [y], over the data distribution/population represented by the dataset.\n"
     ]
    }
   ],
   "source": [
    "# Textual Interpreter\n",
    "interpretation = causal_estimate_match.interpret(method_name=\"textual_effect_interpreter\")"
   ]
  },
  {
   "cell_type": "markdown",
   "id": "2f4d3a31",
   "metadata": {},
   "source": [
    "Cannot use propensity balance interpretor here since the interpreter method only supports propensity score stratification estimator."
   ]
  },
  {
   "cell_type": "markdown",
   "id": "ba8b385a",
   "metadata": {},
   "source": [
    "## Method 3: Weighting\n",
    "\n",
    "We will be using (inverse) propensity scores to assign weights to units in the data. DoWhy supports a few different weighting schemes:\n",
    "1. Vanilla Inverse Propensity Score weighting (IPS) (weighting_scheme=\"ips_weight\")\n",
    "2. Self-normalized IPS weighting (also known as the Hajek estimator) (weighting_scheme=\"ips_normalized_weight\")\n",
    "3. Stabilized IPS weighting (weighting_scheme = \"ips_stabilized_weight\")"
   ]
  },
  {
   "cell_type": "code",
   "execution_count": 13,
   "id": "42e2d5fe",
   "metadata": {
    "execution": {
     "iopub.execute_input": "2022-08-12T22:19:13.983118Z",
     "iopub.status.busy": "2022-08-12T22:19:13.982615Z",
     "iopub.status.idle": "2022-08-12T22:19:14.041097Z",
     "shell.execute_reply": "2022-08-12T22:19:14.039681Z"
    }
   },
   "outputs": [
    {
     "name": "stdout",
     "output_type": "stream",
     "text": [
      "propensity_score_weighting\n",
      "*** Causal Estimate ***\n",
      "\n",
      "## Identified estimand\n",
      "Estimand type: nonparametric-ate\n",
      "\n",
      "### Estimand : 1\n",
      "Estimand name: backdoor\n",
      "Estimand expression:\n",
      "  d                       \n",
      "─────(E[y|W2,W3,W0,W4,W1])\n",
      "d[v₀]                     \n",
      "Estimand assumption 1, Unconfoundedness: If U→{v0} and U→y then P(y|v0,W2,W3,W0,W4,W1,U) = P(y|v0,W2,W3,W0,W4,W1)\n",
      "\n",
      "## Realized estimand\n",
      "b: y~v0+W2+W3+W0+W4+W1\n",
      "Target units: ate\n",
      "\n",
      "## Estimate\n",
      "Mean value: 1.2325796456090274\n",
      "\n",
      "Causal Estimate is 1.2325796456090274\n"
     ]
    },
    {
     "name": "stderr",
     "output_type": "stream",
     "text": [
      "/github/home/.cache/pypoetry/virtualenvs/dowhy-oN2hW5jr-py3.8/lib/python3.8/site-packages/sklearn/utils/validation.py:993: DataConversionWarning: A column-vector y was passed when a 1d array was expected. Please change the shape of y to (n_samples, ), for example using ravel().\n",
      "  y = column_or_1d(y, warn=True)\n"
     ]
    }
   ],
   "source": [
    "causal_estimate_ipw = model.estimate_effect(identified_estimand,\n",
    "                                            method_name=\"backdoor.propensity_score_weighting\",\n",
    "                                            target_units = \"ate\",\n",
    "                                            method_params={\"weighting_scheme\":\"ips_weight\"})\n",
    "print(causal_estimate_ipw)\n",
    "print(\"Causal Estimate is \" + str(causal_estimate_ipw.value))"
   ]
  },
  {
   "cell_type": "code",
   "execution_count": 14,
   "id": "0458bd8e",
   "metadata": {
    "execution": {
     "iopub.execute_input": "2022-08-12T22:19:14.043913Z",
     "iopub.status.busy": "2022-08-12T22:19:14.043540Z",
     "iopub.status.idle": "2022-08-12T22:19:14.067207Z",
     "shell.execute_reply": "2022-08-12T22:19:14.066586Z"
    }
   },
   "outputs": [
    {
     "name": "stdout",
     "output_type": "stream",
     "text": [
      "Increasing the treatment variable(s) [v0] from 0 to 1 causes an increase of 1.2325796456090274 in the expected value of the outcome [y], over the data distribution/population represented by the dataset.\n"
     ]
    }
   ],
   "source": [
    "# Textual Interpreter\n",
    "interpretation = causal_estimate_ipw.interpret(method_name=\"textual_effect_interpreter\")"
   ]
  },
  {
   "cell_type": "code",
   "execution_count": 15,
   "id": "3420e9a2",
   "metadata": {
    "execution": {
     "iopub.execute_input": "2022-08-12T22:19:14.069847Z",
     "iopub.status.busy": "2022-08-12T22:19:14.069519Z",
     "iopub.status.idle": "2022-08-12T22:19:14.298891Z",
     "shell.execute_reply": "2022-08-12T22:19:14.298282Z"
    }
   },
   "outputs": [
    {
     "data": {
      "image/png": "[encoded data removed]",
      "text/plain": [
       "<Figure size 576x576 with 2 Axes>"
      ]
     },
     "metadata": {
      "needs_background": "light"
     },
     "output_type": "display_data"
    }
   ],
   "source": [
    "interpretation = causal_estimate_ipw.interpret(method_name=\"confounder_distribution_interpreter\", fig_size=(8,8), font_size=12, var_name='W4', var_type='discrete')"
   ]
  },
  {
   "cell_type": "code",
   "execution_count": null,
   "id": "0ced2f6d",
   "metadata": {},
   "outputs": [],
   "source": []
  }
 ],
 "metadata": {
  "kernelspec": {
   "display_name": "Python 3",
   "language": "python",
   "name": "python3"
  },
  "language_info": {
   "codemirror_mode": {
    "name": "ipython",
    "version": 3
   },
   "file_extension": ".py",
   "mimetype": "text/x-python",
   "name": "python",
   "nbconvert_exporter": "python",
   "pygments_lexer": "ipython3",
   "version": "3.8.10"
  },
  "toc": {
   "base_numbering": 1,
   "nav_menu": {},
   "number_sections": false,
   "sideBar": true,
   "skip_h1_title": true,
   "title_cell": "Table of Contents",
   "title_sidebar": "Contents",
   "toc_cell": false,
   "toc_position": {},
   "toc_section_display": true,
   "toc_window_display": false
  }
 },
 "nbformat": 4,
 "nbformat_minor": 5
}
