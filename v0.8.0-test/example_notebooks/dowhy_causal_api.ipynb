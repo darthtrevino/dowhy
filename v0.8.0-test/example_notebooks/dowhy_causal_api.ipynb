{
 "cells": [
  {
   "cell_type": "markdown",
   "metadata": {},
   "source": [
    "# Demo for the DoWhy causal API\n",
    "We show a simple example of adding a causal extension to any dataframe. "
   ]
  },
  {
   "cell_type": "code",
   "execution_count": 1,
   "metadata": {
    "execution": {
     "iopub.execute_input": "2022-08-12T20:32:55.939216Z",
     "iopub.status.busy": "2022-08-12T20:32:55.938858Z",
     "iopub.status.idle": "2022-08-12T20:32:56.993537Z",
     "shell.execute_reply": "2022-08-12T20:32:56.992911Z"
    }
   },
   "outputs": [],
   "source": [
    "import dowhy.datasets\n",
    "import dowhy.api\n",
    "\n",
    "import numpy as np\n",
    "import pandas as pd\n",
    "\n",
    "from statsmodels.api import OLS"
   ]
  },
  {
   "cell_type": "code",
   "execution_count": 2,
   "metadata": {
    "execution": {
     "iopub.execute_input": "2022-08-12T20:32:56.996685Z",
     "iopub.status.busy": "2022-08-12T20:32:56.996361Z",
     "iopub.status.idle": "2022-08-12T20:32:57.041911Z",
     "shell.execute_reply": "2022-08-12T20:32:57.041360Z"
    }
   },
   "outputs": [
    {
     "data": {
      "text/html": [
       "<div>\n",
       "<style scoped>\n",
       "    .dataframe tbody tr th:only-of-type {\n",
       "        vertical-align: middle;\n",
       "    }\n",
       "\n",
       "    .dataframe tbody tr th {\n",
       "        vertical-align: top;\n",
       "    }\n",
       "\n",
       "    .dataframe thead th {\n",
       "        text-align: right;\n",
       "    }\n",
       "</style>\n",
       "<table border=\"1\" class=\"dataframe\">\n",
       "  <thead>\n",
       "    <tr style=\"text-align: right;\">\n",
       "      <th></th>\n",
       "      <th>W0</th>\n",
       "      <th>v0</th>\n",
       "      <th>y</th>\n",
       "    </tr>\n",
       "  </thead>\n",
       "  <tbody>\n",
       "    <tr>\n",
       "      <th>0</th>\n",
       "      <td>-1.909372</td>\n",
       "      <td>False</td>\n",
       "      <td>-3.816011</td>\n",
       "    </tr>\n",
       "    <tr>\n",
       "      <th>1</th>\n",
       "      <td>-0.898591</td>\n",
       "      <td>False</td>\n",
       "      <td>0.378916</td>\n",
       "    </tr>\n",
       "    <tr>\n",
       "      <th>2</th>\n",
       "      <td>-1.431050</td>\n",
       "      <td>False</td>\n",
       "      <td>-2.105012</td>\n",
       "    </tr>\n",
       "    <tr>\n",
       "      <th>3</th>\n",
       "      <td>0.819256</td>\n",
       "      <td>False</td>\n",
       "      <td>1.838267</td>\n",
       "    </tr>\n",
       "    <tr>\n",
       "      <th>4</th>\n",
       "      <td>-2.302500</td>\n",
       "      <td>False</td>\n",
       "      <td>-2.387011</td>\n",
       "    </tr>\n",
       "    <tr>\n",
       "      <th>...</th>\n",
       "      <td>...</td>\n",
       "      <td>...</td>\n",
       "      <td>...</td>\n",
       "    </tr>\n",
       "    <tr>\n",
       "      <th>995</th>\n",
       "      <td>0.220665</td>\n",
       "      <td>True</td>\n",
       "      <td>5.124087</td>\n",
       "    </tr>\n",
       "    <tr>\n",
       "      <th>996</th>\n",
       "      <td>-0.335086</td>\n",
       "      <td>False</td>\n",
       "      <td>-1.867750</td>\n",
       "    </tr>\n",
       "    <tr>\n",
       "      <th>997</th>\n",
       "      <td>-0.522384</td>\n",
       "      <td>True</td>\n",
       "      <td>5.446104</td>\n",
       "    </tr>\n",
       "    <tr>\n",
       "      <th>998</th>\n",
       "      <td>-2.361378</td>\n",
       "      <td>False</td>\n",
       "      <td>-4.322914</td>\n",
       "    </tr>\n",
       "    <tr>\n",
       "      <th>999</th>\n",
       "      <td>-0.849159</td>\n",
       "      <td>True</td>\n",
       "      <td>3.398367</td>\n",
       "    </tr>\n",
       "  </tbody>\n",
       "</table>\n",
       "<p>1000 rows × 3 columns</p>\n",
       "</div>"
      ],
      "text/plain": [
       "           W0     v0         y\n",
       "0   -1.909372  False -3.816011\n",
       "1   -0.898591  False  0.378916\n",
       "2   -1.431050  False -2.105012\n",
       "3    0.819256  False  1.838267\n",
       "4   -2.302500  False -2.387011\n",
       "..        ...    ...       ...\n",
       "995  0.220665   True  5.124087\n",
       "996 -0.335086  False -1.867750\n",
       "997 -0.522384   True  5.446104\n",
       "998 -2.361378  False -4.322914\n",
       "999 -0.849159   True  3.398367\n",
       "\n",
       "[1000 rows x 3 columns]"
      ]
     },
     "execution_count": 2,
     "metadata": {},
     "output_type": "execute_result"
    }
   ],
   "source": [
    "data = dowhy.datasets.linear_dataset(beta=5,\n",
    "        num_common_causes=1,\n",
    "        num_instruments = 0,\n",
    "        num_samples=1000,\n",
    "        treatment_is_binary=True)\n",
    "df = data['df']\n",
    "df['y'] = df['y'] + np.random.normal(size=len(df)) # Adding noise to data. Without noise, the variance in Y|X, Z is zero, and mcmc fails.\n",
    "#data['dot_graph'] = 'digraph { v ->y;X0-> v;X0-> y;}'\n",
    "\n",
    "treatment= data[\"treatment_name\"][0]\n",
    "outcome = data[\"outcome_name\"][0]\n",
    "common_cause = data[\"common_causes_names\"][0]\n",
    "df"
   ]
  },
  {
   "cell_type": "code",
   "execution_count": 3,
   "metadata": {
    "execution": {
     "iopub.execute_input": "2022-08-12T20:32:57.044472Z",
     "iopub.status.busy": "2022-08-12T20:32:57.044256Z",
     "iopub.status.idle": "2022-08-12T20:32:57.760519Z",
     "shell.execute_reply": "2022-08-12T20:32:57.759914Z"
    }
   },
   "outputs": [
    {
     "data": {
      "text/plain": [
       "<AxesSubplot:xlabel='v0'>"
      ]
     },
     "execution_count": 3,
     "metadata": {},
     "output_type": "execute_result"
    },
    {
     "data": {
      "image/png": "[encoded data removed]",
      "text/plain": [
       "<Figure size 432x288 with 1 Axes>"
      ]
     },
     "metadata": {
      "needs_background": "light"
     },
     "output_type": "display_data"
    }
   ],
   "source": [
    "# data['df'] is just a regular pandas.DataFrame\n",
    "df.causal.do(x=treatment,\n",
    "                     variable_types={treatment: 'b', outcome: 'c', common_cause: 'c'},\n",
    "                     outcome=outcome,\n",
    "                     common_causes=[common_cause],\n",
    "                     proceed_when_unidentifiable=True).groupby(treatment).mean().plot(y=outcome, kind='bar')"
   ]
  },
  {
   "cell_type": "code",
   "execution_count": 4,
   "metadata": {
    "execution": {
     "iopub.execute_input": "2022-08-12T20:32:57.763470Z",
     "iopub.status.busy": "2022-08-12T20:32:57.763130Z",
     "iopub.status.idle": "2022-08-12T20:32:57.866773Z",
     "shell.execute_reply": "2022-08-12T20:32:57.866265Z"
    }
   },
   "outputs": [
    {
     "data": {
      "text/plain": [
       "<AxesSubplot:xlabel='v0'>"
      ]
     },
     "execution_count": 4,
     "metadata": {},
     "output_type": "execute_result"
    },
    {
     "data": {
      "image/png": "[encoded data removed]",
      "text/plain": [
       "<Figure size 432x288 with 1 Axes>"
      ]
     },
     "metadata": {
      "needs_background": "light"
     },
     "output_type": "display_data"
    }
   ],
   "source": [
    "df.causal.do(x={treatment: 1}, \n",
    "              variable_types={treatment:'b', outcome: 'c', common_cause: 'c'}, \n",
    "              outcome=outcome,\n",
    "              method='weighting', \n",
    "              common_causes=[common_cause],\n",
    "              proceed_when_unidentifiable=True).groupby(treatment).mean().plot(y=outcome, kind='bar')"
   ]
  },
  {
   "cell_type": "code",
   "execution_count": 5,
   "metadata": {
    "execution": {
     "iopub.execute_input": "2022-08-12T20:32:57.870417Z",
     "iopub.status.busy": "2022-08-12T20:32:57.869439Z",
     "iopub.status.idle": "2022-08-12T20:32:57.899970Z",
     "shell.execute_reply": "2022-08-12T20:32:57.899405Z"
    }
   },
   "outputs": [],
   "source": [
    "cdf_1 = df.causal.do(x={treatment: 1}, \n",
    "              variable_types={treatment: 'b', outcome: 'c', common_cause: 'c'}, \n",
    "              outcome=outcome, \n",
    "              dot_graph=data['dot_graph'],\n",
    "              proceed_when_unidentifiable=True)\n",
    "\n",
    "cdf_0 = df.causal.do(x={treatment: 0}, \n",
    "              variable_types={treatment: 'b', outcome: 'c', common_cause: 'c'}, \n",
    "              outcome=outcome, \n",
    "              dot_graph=data['dot_graph'],\n",
    "              proceed_when_unidentifiable=True)\n"
   ]
  },
  {
   "cell_type": "code",
   "execution_count": 6,
   "metadata": {
    "execution": {
     "iopub.execute_input": "2022-08-12T20:32:57.903149Z",
     "iopub.status.busy": "2022-08-12T20:32:57.902829Z",
     "iopub.status.idle": "2022-08-12T20:32:57.915007Z",
     "shell.execute_reply": "2022-08-12T20:32:57.914483Z"
    },
    "scrolled": true
   },
   "outputs": [
    {
     "data": {
      "text/html": [
       "<div>\n",
       "<style scoped>\n",
       "    .dataframe tbody tr th:only-of-type {\n",
       "        vertical-align: middle;\n",
       "    }\n",
       "\n",
       "    .dataframe tbody tr th {\n",
       "        vertical-align: top;\n",
       "    }\n",
       "\n",
       "    .dataframe thead th {\n",
       "        text-align: right;\n",
       "    }\n",
       "</style>\n",
       "<table border=\"1\" class=\"dataframe\">\n",
       "  <thead>\n",
       "    <tr style=\"text-align: right;\">\n",
       "      <th></th>\n",
       "      <th>W0</th>\n",
       "      <th>v0</th>\n",
       "      <th>y</th>\n",
       "      <th>propensity_score</th>\n",
       "      <th>weight</th>\n",
       "    </tr>\n",
       "  </thead>\n",
       "  <tbody>\n",
       "    <tr>\n",
       "      <th>0</th>\n",
       "      <td>-2.337423</td>\n",
       "      <td>False</td>\n",
       "      <td>-2.701638</td>\n",
       "      <td>0.835793</td>\n",
       "      <td>1.196468</td>\n",
       "    </tr>\n",
       "    <tr>\n",
       "      <th>1</th>\n",
       "      <td>0.840838</td>\n",
       "      <td>False</td>\n",
       "      <td>2.161990</td>\n",
       "      <td>0.352237</td>\n",
       "      <td>2.838998</td>\n",
       "    </tr>\n",
       "    <tr>\n",
       "      <th>2</th>\n",
       "      <td>-1.563359</td>\n",
       "      <td>False</td>\n",
       "      <td>-0.938637</td>\n",
       "      <td>0.746978</td>\n",
       "      <td>1.338727</td>\n",
       "    </tr>\n",
       "    <tr>\n",
       "      <th>3</th>\n",
       "      <td>-0.782944</td>\n",
       "      <td>False</td>\n",
       "      <td>0.194310</td>\n",
       "      <td>0.630276</td>\n",
       "      <td>1.586607</td>\n",
       "    </tr>\n",
       "    <tr>\n",
       "      <th>4</th>\n",
       "      <td>0.508672</td>\n",
       "      <td>False</td>\n",
       "      <td>-0.041139</td>\n",
       "      <td>0.407217</td>\n",
       "      <td>2.455694</td>\n",
       "    </tr>\n",
       "    <tr>\n",
       "      <th>...</th>\n",
       "      <td>...</td>\n",
       "      <td>...</td>\n",
       "      <td>...</td>\n",
       "      <td>...</td>\n",
       "      <td>...</td>\n",
       "    </tr>\n",
       "    <tr>\n",
       "      <th>995</th>\n",
       "      <td>-1.786933</td>\n",
       "      <td>False</td>\n",
       "      <td>-2.775262</td>\n",
       "      <td>0.775544</td>\n",
       "      <td>1.289417</td>\n",
       "    </tr>\n",
       "    <tr>\n",
       "      <th>996</th>\n",
       "      <td>-0.264682</td>\n",
       "      <td>False</td>\n",
       "      <td>2.595709</td>\n",
       "      <td>0.542078</td>\n",
       "      <td>1.844754</td>\n",
       "    </tr>\n",
       "    <tr>\n",
       "      <th>997</th>\n",
       "      <td>-1.570611</td>\n",
       "      <td>False</td>\n",
       "      <td>-1.929112</td>\n",
       "      <td>0.747942</td>\n",
       "      <td>1.337002</td>\n",
       "    </tr>\n",
       "    <tr>\n",
       "      <th>998</th>\n",
       "      <td>-0.186154</td>\n",
       "      <td>False</td>\n",
       "      <td>1.156149</td>\n",
       "      <td>0.528333</td>\n",
       "      <td>1.892747</td>\n",
       "    </tr>\n",
       "    <tr>\n",
       "      <th>999</th>\n",
       "      <td>-0.211307</td>\n",
       "      <td>False</td>\n",
       "      <td>-0.127645</td>\n",
       "      <td>0.532741</td>\n",
       "      <td>1.877085</td>\n",
       "    </tr>\n",
       "  </tbody>\n",
       "</table>\n",
       "<p>1000 rows × 5 columns</p>\n",
       "</div>"
      ],
      "text/plain": [
       "           W0     v0         y  propensity_score    weight\n",
       "0   -2.337423  False -2.701638          0.835793  1.196468\n",
       "1    0.840838  False  2.161990          0.352237  2.838998\n",
       "2   -1.563359  False -0.938637          0.746978  1.338727\n",
       "3   -0.782944  False  0.194310          0.630276  1.586607\n",
       "4    0.508672  False -0.041139          0.407217  2.455694\n",
       "..        ...    ...       ...               ...       ...\n",
       "995 -1.786933  False -2.775262          0.775544  1.289417\n",
       "996 -0.264682  False  2.595709          0.542078  1.844754\n",
       "997 -1.570611  False -1.929112          0.747942  1.337002\n",
       "998 -0.186154  False  1.156149          0.528333  1.892747\n",
       "999 -0.211307  False -0.127645          0.532741  1.877085\n",
       "\n",
       "[1000 rows x 5 columns]"
      ]
     },
     "execution_count": 6,
     "metadata": {},
     "output_type": "execute_result"
    }
   ],
   "source": [
    "cdf_0"
   ]
  },
  {
   "cell_type": "code",
   "execution_count": 7,
   "metadata": {
    "execution": {
     "iopub.execute_input": "2022-08-12T20:32:57.917555Z",
     "iopub.status.busy": "2022-08-12T20:32:57.917344Z",
     "iopub.status.idle": "2022-08-12T20:32:57.928423Z",
     "shell.execute_reply": "2022-08-12T20:32:57.927901Z"
    }
   },
   "outputs": [
    {
     "data": {
      "text/html": [
       "<div>\n",
       "<style scoped>\n",
       "    .dataframe tbody tr th:only-of-type {\n",
       "        vertical-align: middle;\n",
       "    }\n",
       "\n",
       "    .dataframe tbody tr th {\n",
       "        vertical-align: top;\n",
       "    }\n",
       "\n",
       "    .dataframe thead th {\n",
       "        text-align: right;\n",
       "    }\n",
       "</style>\n",
       "<table border=\"1\" class=\"dataframe\">\n",
       "  <thead>\n",
       "    <tr style=\"text-align: right;\">\n",
       "      <th></th>\n",
       "      <th>W0</th>\n",
       "      <th>v0</th>\n",
       "      <th>y</th>\n",
       "      <th>propensity_score</th>\n",
       "      <th>weight</th>\n",
       "    </tr>\n",
       "  </thead>\n",
       "  <tbody>\n",
       "    <tr>\n",
       "      <th>0</th>\n",
       "      <td>-1.002054</td>\n",
       "      <td>True</td>\n",
       "      <td>4.199066</td>\n",
       "      <td>0.334571</td>\n",
       "      <td>2.988903</td>\n",
       "    </tr>\n",
       "    <tr>\n",
       "      <th>1</th>\n",
       "      <td>-1.985827</td>\n",
       "      <td>True</td>\n",
       "      <td>5.658613</td>\n",
       "      <td>0.201034</td>\n",
       "      <td>4.974279</td>\n",
       "    </tr>\n",
       "    <tr>\n",
       "      <th>2</th>\n",
       "      <td>-0.667286</td>\n",
       "      <td>True</td>\n",
       "      <td>3.486733</td>\n",
       "      <td>0.388882</td>\n",
       "      <td>2.571474</td>\n",
       "    </tr>\n",
       "    <tr>\n",
       "      <th>3</th>\n",
       "      <td>-1.555183</td>\n",
       "      <td>True</td>\n",
       "      <td>3.095015</td>\n",
       "      <td>0.254110</td>\n",
       "      <td>3.935296</td>\n",
       "    </tr>\n",
       "    <tr>\n",
       "      <th>4</th>\n",
       "      <td>-3.414442</td>\n",
       "      <td>True</td>\n",
       "      <td>1.005622</td>\n",
       "      <td>0.084314</td>\n",
       "      <td>11.860473</td>\n",
       "    </tr>\n",
       "    <tr>\n",
       "      <th>...</th>\n",
       "      <td>...</td>\n",
       "      <td>...</td>\n",
       "      <td>...</td>\n",
       "      <td>...</td>\n",
       "      <td>...</td>\n",
       "    </tr>\n",
       "    <tr>\n",
       "      <th>995</th>\n",
       "      <td>-1.036556</td>\n",
       "      <td>True</td>\n",
       "      <td>3.381018</td>\n",
       "      <td>0.329188</td>\n",
       "      <td>3.037782</td>\n",
       "    </tr>\n",
       "    <tr>\n",
       "      <th>996</th>\n",
       "      <td>0.417158</td>\n",
       "      <td>True</td>\n",
       "      <td>7.156251</td>\n",
       "      <td>0.577150</td>\n",
       "      <td>1.732651</td>\n",
       "    </tr>\n",
       "    <tr>\n",
       "      <th>997</th>\n",
       "      <td>-0.160388</td>\n",
       "      <td>True</td>\n",
       "      <td>6.417523</td>\n",
       "      <td>0.476188</td>\n",
       "      <td>2.100011</td>\n",
       "    </tr>\n",
       "    <tr>\n",
       "      <th>998</th>\n",
       "      <td>-0.900087</td>\n",
       "      <td>True</td>\n",
       "      <td>3.802231</td>\n",
       "      <td>0.350730</td>\n",
       "      <td>2.851195</td>\n",
       "    </tr>\n",
       "    <tr>\n",
       "      <th>999</th>\n",
       "      <td>-3.276860</td>\n",
       "      <td>True</td>\n",
       "      <td>1.871484</td>\n",
       "      <td>0.092095</td>\n",
       "      <td>10.858326</td>\n",
       "    </tr>\n",
       "  </tbody>\n",
       "</table>\n",
       "<p>1000 rows × 5 columns</p>\n",
       "</div>"
      ],
      "text/plain": [
       "           W0    v0         y  propensity_score     weight\n",
       "0   -1.002054  True  4.199066          0.334571   2.988903\n",
       "1   -1.985827  True  5.658613          0.201034   4.974279\n",
       "2   -0.667286  True  3.486733          0.388882   2.571474\n",
       "3   -1.555183  True  3.095015          0.254110   3.935296\n",
       "4   -3.414442  True  1.005622          0.084314  11.860473\n",
       "..        ...   ...       ...               ...        ...\n",
       "995 -1.036556  True  3.381018          0.329188   3.037782\n",
       "996  0.417158  True  7.156251          0.577150   1.732651\n",
       "997 -0.160388  True  6.417523          0.476188   2.100011\n",
       "998 -0.900087  True  3.802231          0.350730   2.851195\n",
       "999 -3.276860  True  1.871484          0.092095  10.858326\n",
       "\n",
       "[1000 rows x 5 columns]"
      ]
     },
     "execution_count": 7,
     "metadata": {},
     "output_type": "execute_result"
    }
   ],
   "source": [
    "cdf_1"
   ]
  },
  {
   "cell_type": "markdown",
   "metadata": {},
   "source": [
    "## Comparing the estimate to Linear Regression\n",
    "First, estimating the effect using the causal data frame, and the 95% confidence interval."
   ]
  },
  {
   "cell_type": "code",
   "execution_count": 8,
   "metadata": {
    "execution": {
     "iopub.execute_input": "2022-08-12T20:32:57.931068Z",
     "iopub.status.busy": "2022-08-12T20:32:57.930858Z",
     "iopub.status.idle": "2022-08-12T20:32:58.026747Z",
     "shell.execute_reply": "2022-08-12T20:32:58.026105Z"
    }
   },
   "outputs": [
    {
     "data": {
      "image/png": "[encoded data removed]",
      "text/latex": [
       "$\\displaystyle 5.07625805465622$"
      ],
      "text/plain": [
       "5.076258054656216"
      ]
     },
     "execution_count": 8,
     "metadata": {},
     "output_type": "execute_result"
    }
   ],
   "source": [
    "(cdf_1['y'] - cdf_0['y']).mean()"
   ]
  },
  {
   "cell_type": "code",
   "execution_count": 9,
   "metadata": {
    "execution": {
     "iopub.execute_input": "2022-08-12T20:32:58.029444Z",
     "iopub.status.busy": "2022-08-12T20:32:58.029235Z",
     "iopub.status.idle": "2022-08-12T20:32:58.053052Z",
     "shell.execute_reply": "2022-08-12T20:32:58.052469Z"
    }
   },
   "outputs": [
    {
     "data": {
      "image/png": "[encoded data removed]",
      "text/latex": [
       "$\\displaystyle 0.123341455862833$"
      ],
      "text/plain": [
       "0.12334145586283289"
      ]
     },
     "execution_count": 9,
     "metadata": {},
     "output_type": "execute_result"
    }
   ],
   "source": [
    "1.96*(cdf_1['y'] - cdf_0['y']).std() / np.sqrt(len(df))"
   ]
  },
  {
   "cell_type": "markdown",
   "metadata": {},
   "source": [
    "Comparing to the estimate from OLS."
   ]
  },
  {
   "cell_type": "code",
   "execution_count": 10,
   "metadata": {
    "execution": {
     "iopub.execute_input": "2022-08-12T20:32:58.055771Z",
     "iopub.status.busy": "2022-08-12T20:32:58.055544Z",
     "iopub.status.idle": "2022-08-12T20:32:58.070466Z",
     "shell.execute_reply": "2022-08-12T20:32:58.069872Z"
    }
   },
   "outputs": [
    {
     "data": {
      "text/html": [
       "<table class=\"simpletable\">\n",
       "<caption>OLS Regression Results</caption>\n",
       "<tr>\n",
       "  <th>Dep. Variable:</th>            <td>y</td>        <th>  R-squared (uncentered):</th>      <td>   0.897</td>\n",
       "</tr>\n",
       "<tr>\n",
       "  <th>Model:</th>                   <td>OLS</td>       <th>  Adj. R-squared (uncentered):</th> <td>   0.897</td>\n",
       "</tr>\n",
       "<tr>\n",
       "  <th>Method:</th>             <td>Least Squares</td>  <th>  F-statistic:       </th>          <td>   4340.</td>\n",
       "</tr>\n",
       "<tr>\n",
       "  <th>Date:</th>             <td>Fri, 12 Aug 2022</td> <th>  Prob (F-statistic):</th>           <td>  0.00</td> \n",
       "</tr>\n",
       "<tr>\n",
       "  <th>Time:</th>                 <td>20:32:58</td>     <th>  Log-Likelihood:    </th>          <td> -1422.9</td>\n",
       "</tr>\n",
       "<tr>\n",
       "  <th>No. Observations:</th>      <td>  1000</td>      <th>  AIC:               </th>          <td>   2850.</td>\n",
       "</tr>\n",
       "<tr>\n",
       "  <th>Df Residuals:</th>          <td>   998</td>      <th>  BIC:               </th>          <td>   2860.</td>\n",
       "</tr>\n",
       "<tr>\n",
       "  <th>Df Model:</th>              <td>     2</td>      <th>                     </th>              <td> </td>   \n",
       "</tr>\n",
       "<tr>\n",
       "  <th>Covariance Type:</th>      <td>nonrobust</td>    <th>                     </th>              <td> </td>   \n",
       "</tr>\n",
       "</table>\n",
       "<table class=\"simpletable\">\n",
       "<tr>\n",
       "   <td></td>     <th>coef</th>     <th>std err</th>      <th>t</th>      <th>P>|t|</th>  <th>[0.025</th>    <th>0.975]</th>  \n",
       "</tr>\n",
       "<tr>\n",
       "  <th>x1</th> <td>    1.0487</td> <td>    0.024</td> <td>   44.479</td> <td> 0.000</td> <td>    1.002</td> <td>    1.095</td>\n",
       "</tr>\n",
       "<tr>\n",
       "  <th>x2</th> <td>    5.0082</td> <td>    0.055</td> <td>   90.392</td> <td> 0.000</td> <td>    4.900</td> <td>    5.117</td>\n",
       "</tr>\n",
       "</table>\n",
       "<table class=\"simpletable\">\n",
       "<tr>\n",
       "  <th>Omnibus:</th>       <td> 1.017</td> <th>  Durbin-Watson:     </th> <td>   1.974</td>\n",
       "</tr>\n",
       "<tr>\n",
       "  <th>Prob(Omnibus):</th> <td> 0.602</td> <th>  Jarque-Bera (JB):  </th> <td>   1.062</td>\n",
       "</tr>\n",
       "<tr>\n",
       "  <th>Skew:</th>          <td> 0.025</td> <th>  Prob(JB):          </th> <td>   0.588</td>\n",
       "</tr>\n",
       "<tr>\n",
       "  <th>Kurtosis:</th>      <td> 2.849</td> <th>  Cond. No.          </th> <td>    2.46</td>\n",
       "</tr>\n",
       "</table><br/><br/>Notes:<br/>[1] R² is computed without centering (uncentered) since the model does not contain a constant.<br/>[2] Standard Errors assume that the covariance matrix of the errors is correctly specified."
      ],
      "text/plain": [
       "<class 'statsmodels.iolib.summary.Summary'>\n",
       "\"\"\"\n",
       "                                 OLS Regression Results                                \n",
       "=======================================================================================\n",
       "Dep. Variable:                      y   R-squared (uncentered):                   0.897\n",
       "Model:                            OLS   Adj. R-squared (uncentered):              0.897\n",
       "Method:                 Least Squares   F-statistic:                              4340.\n",
       "Date:                Fri, 12 Aug 2022   Prob (F-statistic):                        0.00\n",
       "Time:                        20:32:58   Log-Likelihood:                         -1422.9\n",
       "No. Observations:                1000   AIC:                                      2850.\n",
       "Df Residuals:                     998   BIC:                                      2860.\n",
       "Df Model:                           2                                                  \n",
       "Covariance Type:            nonrobust                                                  \n",
       "==============================================================================\n",
       "                 coef    std err          t      P>|t|      [0.025      0.975]\n",
       "------------------------------------------------------------------------------\n",
       "x1             1.0487      0.024     44.479      0.000       1.002       1.095\n",
       "x2             5.0082      0.055     90.392      0.000       4.900       5.117\n",
       "==============================================================================\n",
       "Omnibus:                        1.017   Durbin-Watson:                   1.974\n",
       "Prob(Omnibus):                  0.602   Jarque-Bera (JB):                1.062\n",
       "Skew:                           0.025   Prob(JB):                        0.588\n",
       "Kurtosis:                       2.849   Cond. No.                         2.46\n",
       "==============================================================================\n",
       "\n",
       "Notes:\n",
       "[1] R² is computed without centering (uncentered) since the model does not contain a constant.\n",
       "[2] Standard Errors assume that the covariance matrix of the errors is correctly specified.\n",
       "\"\"\""
      ]
     },
     "execution_count": 10,
     "metadata": {},
     "output_type": "execute_result"
    }
   ],
   "source": [
    "model = OLS(np.asarray(df[outcome]), np.asarray(df[[common_cause, treatment]], dtype=np.float64))\n",
    "result = model.fit()\n",
    "result.summary()"
   ]
  }
 ],
 "metadata": {
  "kernelspec": {
   "display_name": "Python 3",
   "language": "python",
   "name": "python3"
  },
  "language_info": {
   "codemirror_mode": {
    "name": "ipython",
    "version": 3
   },
   "file_extension": ".py",
   "mimetype": "text/x-python",
   "name": "python",
   "nbconvert_exporter": "python",
   "pygments_lexer": "ipython3",
   "version": "3.8.10"
  },
  "toc": {
   "base_numbering": 1,
   "nav_menu": {},
   "number_sections": false,
   "sideBar": true,
   "skip_h1_title": true,
   "title_cell": "Table of Contents",
   "title_sidebar": "Contents",
   "toc_cell": false,
   "toc_position": {},
   "toc_section_display": true,
   "toc_window_display": false
  }
 },
 "nbformat": 4,
 "nbformat_minor": 4
}
