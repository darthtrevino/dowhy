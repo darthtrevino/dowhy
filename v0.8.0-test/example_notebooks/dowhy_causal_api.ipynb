{
 "cells": [
  {
   "cell_type": "markdown",
   "metadata": {},
   "source": [
    "# Demo for the DoWhy causal API\n",
    "We show a simple example of adding a causal extension to any dataframe. "
   ]
  },
  {
   "cell_type": "code",
   "execution_count": 1,
   "metadata": {
    "execution": {
     "iopub.execute_input": "2022-08-12T22:18:19.118633Z",
     "iopub.status.busy": "2022-08-12T22:18:19.117788Z",
     "iopub.status.idle": "2022-08-12T22:18:20.318734Z",
     "shell.execute_reply": "2022-08-12T22:18:20.318064Z"
    }
   },
   "outputs": [],
   "source": [
    "import dowhy.datasets\n",
    "import dowhy.api\n",
    "\n",
    "import numpy as np\n",
    "import pandas as pd\n",
    "\n",
    "from statsmodels.api import OLS"
   ]
  },
  {
   "cell_type": "code",
   "execution_count": 2,
   "metadata": {
    "execution": {
     "iopub.execute_input": "2022-08-12T22:18:20.322425Z",
     "iopub.status.busy": "2022-08-12T22:18:20.321760Z",
     "iopub.status.idle": "2022-08-12T22:18:20.360788Z",
     "shell.execute_reply": "2022-08-12T22:18:20.360180Z"
    }
   },
   "outputs": [
    {
     "data": {
      "text/html": [
       "<div>\n",
       "<style scoped>\n",
       "    .dataframe tbody tr th:only-of-type {\n",
       "        vertical-align: middle;\n",
       "    }\n",
       "\n",
       "    .dataframe tbody tr th {\n",
       "        vertical-align: top;\n",
       "    }\n",
       "\n",
       "    .dataframe thead th {\n",
       "        text-align: right;\n",
       "    }\n",
       "</style>\n",
       "<table border=\"1\" class=\"dataframe\">\n",
       "  <thead>\n",
       "    <tr style=\"text-align: right;\">\n",
       "      <th></th>\n",
       "      <th>W0</th>\n",
       "      <th>v0</th>\n",
       "      <th>y</th>\n",
       "    </tr>\n",
       "  </thead>\n",
       "  <tbody>\n",
       "    <tr>\n",
       "      <th>0</th>\n",
       "      <td>-0.410274</td>\n",
       "      <td>True</td>\n",
       "      <td>3.675472</td>\n",
       "    </tr>\n",
       "    <tr>\n",
       "      <th>1</th>\n",
       "      <td>1.855836</td>\n",
       "      <td>True</td>\n",
       "      <td>6.601687</td>\n",
       "    </tr>\n",
       "    <tr>\n",
       "      <th>2</th>\n",
       "      <td>1.319158</td>\n",
       "      <td>True</td>\n",
       "      <td>5.644549</td>\n",
       "    </tr>\n",
       "    <tr>\n",
       "      <th>3</th>\n",
       "      <td>1.500462</td>\n",
       "      <td>True</td>\n",
       "      <td>7.575296</td>\n",
       "    </tr>\n",
       "    <tr>\n",
       "      <th>4</th>\n",
       "      <td>1.728572</td>\n",
       "      <td>True</td>\n",
       "      <td>8.543099</td>\n",
       "    </tr>\n",
       "    <tr>\n",
       "      <th>...</th>\n",
       "      <td>...</td>\n",
       "      <td>...</td>\n",
       "      <td>...</td>\n",
       "    </tr>\n",
       "    <tr>\n",
       "      <th>995</th>\n",
       "      <td>2.585477</td>\n",
       "      <td>True</td>\n",
       "      <td>9.100073</td>\n",
       "    </tr>\n",
       "    <tr>\n",
       "      <th>996</th>\n",
       "      <td>-0.067992</td>\n",
       "      <td>False</td>\n",
       "      <td>-0.239890</td>\n",
       "    </tr>\n",
       "    <tr>\n",
       "      <th>997</th>\n",
       "      <td>1.525346</td>\n",
       "      <td>True</td>\n",
       "      <td>6.770723</td>\n",
       "    </tr>\n",
       "    <tr>\n",
       "      <th>998</th>\n",
       "      <td>0.483875</td>\n",
       "      <td>True</td>\n",
       "      <td>5.658186</td>\n",
       "    </tr>\n",
       "    <tr>\n",
       "      <th>999</th>\n",
       "      <td>0.483068</td>\n",
       "      <td>True</td>\n",
       "      <td>6.069540</td>\n",
       "    </tr>\n",
       "  </tbody>\n",
       "</table>\n",
       "<p>1000 rows × 3 columns</p>\n",
       "</div>"
      ],
      "text/plain": [
       "           W0     v0         y\n",
       "0   -0.410274   True  3.675472\n",
       "1    1.855836   True  6.601687\n",
       "2    1.319158   True  5.644549\n",
       "3    1.500462   True  7.575296\n",
       "4    1.728572   True  8.543099\n",
       "..        ...    ...       ...\n",
       "995  2.585477   True  9.100073\n",
       "996 -0.067992  False -0.239890\n",
       "997  1.525346   True  6.770723\n",
       "998  0.483875   True  5.658186\n",
       "999  0.483068   True  6.069540\n",
       "\n",
       "[1000 rows x 3 columns]"
      ]
     },
     "execution_count": 2,
     "metadata": {},
     "output_type": "execute_result"
    }
   ],
   "source": [
    "data = dowhy.datasets.linear_dataset(beta=5,\n",
    "        num_common_causes=1,\n",
    "        num_instruments = 0,\n",
    "        num_samples=1000,\n",
    "        treatment_is_binary=True)\n",
    "df = data['df']\n",
    "df['y'] = df['y'] + np.random.normal(size=len(df)) # Adding noise to data. Without noise, the variance in Y|X, Z is zero, and mcmc fails.\n",
    "#data['dot_graph'] = 'digraph { v ->y;X0-> v;X0-> y;}'\n",
    "\n",
    "treatment= data[\"treatment_name\"][0]\n",
    "outcome = data[\"outcome_name\"][0]\n",
    "common_cause = data[\"common_causes_names\"][0]\n",
    "df"
   ]
  },
  {
   "cell_type": "code",
   "execution_count": 3,
   "metadata": {
    "execution": {
     "iopub.execute_input": "2022-08-12T22:18:20.363852Z",
     "iopub.status.busy": "2022-08-12T22:18:20.363643Z",
     "iopub.status.idle": "2022-08-12T22:18:21.089655Z",
     "shell.execute_reply": "2022-08-12T22:18:21.089044Z"
    }
   },
   "outputs": [
    {
     "data": {
      "text/plain": [
       "<AxesSubplot:xlabel='v0'>"
      ]
     },
     "execution_count": 3,
     "metadata": {},
     "output_type": "execute_result"
    },
    {
     "data": {
      "image/png": "[encoded data removed]",
      "text/plain": [
       "<Figure size 432x288 with 1 Axes>"
      ]
     },
     "metadata": {
      "needs_background": "light"
     },
     "output_type": "display_data"
    }
   ],
   "source": [
    "# data['df'] is just a regular pandas.DataFrame\n",
    "df.causal.do(x=treatment,\n",
    "                     variable_types={treatment: 'b', outcome: 'c', common_cause: 'c'},\n",
    "                     outcome=outcome,\n",
    "                     common_causes=[common_cause],\n",
    "                     proceed_when_unidentifiable=True).groupby(treatment).mean().plot(y=outcome, kind='bar')"
   ]
  },
  {
   "cell_type": "code",
   "execution_count": 4,
   "metadata": {
    "execution": {
     "iopub.execute_input": "2022-08-12T22:18:21.092610Z",
     "iopub.status.busy": "2022-08-12T22:18:21.092266Z",
     "iopub.status.idle": "2022-08-12T22:18:21.188898Z",
     "shell.execute_reply": "2022-08-12T22:18:21.188379Z"
    }
   },
   "outputs": [
    {
     "data": {
      "text/plain": [
       "<AxesSubplot:xlabel='v0'>"
      ]
     },
     "execution_count": 4,
     "metadata": {},
     "output_type": "execute_result"
    },
    {
     "data": {
      "image/png": "[encoded data removed]",
      "text/plain": [
       "<Figure size 432x288 with 1 Axes>"
      ]
     },
     "metadata": {
      "needs_background": "light"
     },
     "output_type": "display_data"
    }
   ],
   "source": [
    "df.causal.do(x={treatment: 1}, \n",
    "              variable_types={treatment:'b', outcome: 'c', common_cause: 'c'}, \n",
    "              outcome=outcome,\n",
    "              method='weighting', \n",
    "              common_causes=[common_cause],\n",
    "              proceed_when_unidentifiable=True).groupby(treatment).mean().plot(y=outcome, kind='bar')"
   ]
  },
  {
   "cell_type": "code",
   "execution_count": 5,
   "metadata": {
    "execution": {
     "iopub.execute_input": "2022-08-12T22:18:21.192035Z",
     "iopub.status.busy": "2022-08-12T22:18:21.191695Z",
     "iopub.status.idle": "2022-08-12T22:18:21.220733Z",
     "shell.execute_reply": "2022-08-12T22:18:21.220174Z"
    }
   },
   "outputs": [],
   "source": [
    "cdf_1 = df.causal.do(x={treatment: 1}, \n",
    "              variable_types={treatment: 'b', outcome: 'c', common_cause: 'c'}, \n",
    "              outcome=outcome, \n",
    "              dot_graph=data['dot_graph'],\n",
    "              proceed_when_unidentifiable=True)\n",
    "\n",
    "cdf_0 = df.causal.do(x={treatment: 0}, \n",
    "              variable_types={treatment: 'b', outcome: 'c', common_cause: 'c'}, \n",
    "              outcome=outcome, \n",
    "              dot_graph=data['dot_graph'],\n",
    "              proceed_when_unidentifiable=True)\n"
   ]
  },
  {
   "cell_type": "code",
   "execution_count": 6,
   "metadata": {
    "execution": {
     "iopub.execute_input": "2022-08-12T22:18:21.223508Z",
     "iopub.status.busy": "2022-08-12T22:18:21.223110Z",
     "iopub.status.idle": "2022-08-12T22:18:21.234951Z",
     "shell.execute_reply": "2022-08-12T22:18:21.234429Z"
    },
    "scrolled": true
   },
   "outputs": [
    {
     "data": {
      "text/html": [
       "<div>\n",
       "<style scoped>\n",
       "    .dataframe tbody tr th:only-of-type {\n",
       "        vertical-align: middle;\n",
       "    }\n",
       "\n",
       "    .dataframe tbody tr th {\n",
       "        vertical-align: top;\n",
       "    }\n",
       "\n",
       "    .dataframe thead th {\n",
       "        text-align: right;\n",
       "    }\n",
       "</style>\n",
       "<table border=\"1\" class=\"dataframe\">\n",
       "  <thead>\n",
       "    <tr style=\"text-align: right;\">\n",
       "      <th></th>\n",
       "      <th>W0</th>\n",
       "      <th>v0</th>\n",
       "      <th>y</th>\n",
       "      <th>propensity_score</th>\n",
       "      <th>weight</th>\n",
       "    </tr>\n",
       "  </thead>\n",
       "  <tbody>\n",
       "    <tr>\n",
       "      <th>0</th>\n",
       "      <td>1.386505</td>\n",
       "      <td>False</td>\n",
       "      <td>2.025023</td>\n",
       "      <td>0.084705</td>\n",
       "      <td>11.805609</td>\n",
       "    </tr>\n",
       "    <tr>\n",
       "      <th>1</th>\n",
       "      <td>1.921788</td>\n",
       "      <td>False</td>\n",
       "      <td>1.297468</td>\n",
       "      <td>0.036153</td>\n",
       "      <td>27.660060</td>\n",
       "    </tr>\n",
       "    <tr>\n",
       "      <th>2</th>\n",
       "      <td>0.481220</td>\n",
       "      <td>False</td>\n",
       "      <td>-0.909901</td>\n",
       "      <td>0.298863</td>\n",
       "      <td>3.346013</td>\n",
       "    </tr>\n",
       "    <tr>\n",
       "      <th>3</th>\n",
       "      <td>1.042176</td>\n",
       "      <td>False</td>\n",
       "      <td>1.524698</td>\n",
       "      <td>0.141957</td>\n",
       "      <td>7.044402</td>\n",
       "    </tr>\n",
       "    <tr>\n",
       "      <th>4</th>\n",
       "      <td>1.387393</td>\n",
       "      <td>False</td>\n",
       "      <td>0.431245</td>\n",
       "      <td>0.084589</td>\n",
       "      <td>11.821824</td>\n",
       "    </tr>\n",
       "    <tr>\n",
       "      <th>...</th>\n",
       "      <td>...</td>\n",
       "      <td>...</td>\n",
       "      <td>...</td>\n",
       "      <td>...</td>\n",
       "      <td>...</td>\n",
       "    </tr>\n",
       "    <tr>\n",
       "      <th>995</th>\n",
       "      <td>-0.628891</td>\n",
       "      <td>False</td>\n",
       "      <td>-0.484371</td>\n",
       "      <td>0.735012</td>\n",
       "      <td>1.360522</td>\n",
       "    </tr>\n",
       "    <tr>\n",
       "      <th>996</th>\n",
       "      <td>1.012281</td>\n",
       "      <td>False</td>\n",
       "      <td>0.396783</td>\n",
       "      <td>0.148212</td>\n",
       "      <td>6.747101</td>\n",
       "    </tr>\n",
       "    <tr>\n",
       "      <th>997</th>\n",
       "      <td>1.625321</td>\n",
       "      <td>False</td>\n",
       "      <td>2.024835</td>\n",
       "      <td>0.058251</td>\n",
       "      <td>17.167197</td>\n",
       "    </tr>\n",
       "    <tr>\n",
       "      <th>998</th>\n",
       "      <td>1.921788</td>\n",
       "      <td>False</td>\n",
       "      <td>1.297468</td>\n",
       "      <td>0.036153</td>\n",
       "      <td>27.660060</td>\n",
       "    </tr>\n",
       "    <tr>\n",
       "      <th>999</th>\n",
       "      <td>-0.064813</td>\n",
       "      <td>False</td>\n",
       "      <td>1.303524</td>\n",
       "      <td>0.517124</td>\n",
       "      <td>1.933774</td>\n",
       "    </tr>\n",
       "  </tbody>\n",
       "</table>\n",
       "<p>1000 rows × 5 columns</p>\n",
       "</div>"
      ],
      "text/plain": [
       "           W0     v0         y  propensity_score     weight\n",
       "0    1.386505  False  2.025023          0.084705  11.805609\n",
       "1    1.921788  False  1.297468          0.036153  27.660060\n",
       "2    0.481220  False -0.909901          0.298863   3.346013\n",
       "3    1.042176  False  1.524698          0.141957   7.044402\n",
       "4    1.387393  False  0.431245          0.084589  11.821824\n",
       "..        ...    ...       ...               ...        ...\n",
       "995 -0.628891  False -0.484371          0.735012   1.360522\n",
       "996  1.012281  False  0.396783          0.148212   6.747101\n",
       "997  1.625321  False  2.024835          0.058251  17.167197\n",
       "998  1.921788  False  1.297468          0.036153  27.660060\n",
       "999 -0.064813  False  1.303524          0.517124   1.933774\n",
       "\n",
       "[1000 rows x 5 columns]"
      ]
     },
     "execution_count": 6,
     "metadata": {},
     "output_type": "execute_result"
    }
   ],
   "source": [
    "cdf_0"
   ]
  },
  {
   "cell_type": "code",
   "execution_count": 7,
   "metadata": {
    "execution": {
     "iopub.execute_input": "2022-08-12T22:18:21.237530Z",
     "iopub.status.busy": "2022-08-12T22:18:21.237210Z",
     "iopub.status.idle": "2022-08-12T22:18:21.246779Z",
     "shell.execute_reply": "2022-08-12T22:18:21.246204Z"
    }
   },
   "outputs": [
    {
     "data": {
      "text/html": [
       "<div>\n",
       "<style scoped>\n",
       "    .dataframe tbody tr th:only-of-type {\n",
       "        vertical-align: middle;\n",
       "    }\n",
       "\n",
       "    .dataframe tbody tr th {\n",
       "        vertical-align: top;\n",
       "    }\n",
       "\n",
       "    .dataframe thead th {\n",
       "        text-align: right;\n",
       "    }\n",
       "</style>\n",
       "<table border=\"1\" class=\"dataframe\">\n",
       "  <thead>\n",
       "    <tr style=\"text-align: right;\">\n",
       "      <th></th>\n",
       "      <th>W0</th>\n",
       "      <th>v0</th>\n",
       "      <th>y</th>\n",
       "      <th>propensity_score</th>\n",
       "      <th>weight</th>\n",
       "    </tr>\n",
       "  </thead>\n",
       "  <tbody>\n",
       "    <tr>\n",
       "      <th>0</th>\n",
       "      <td>2.228865</td>\n",
       "      <td>True</td>\n",
       "      <td>9.431730</td>\n",
       "      <td>0.978145</td>\n",
       "      <td>1.022343</td>\n",
       "    </tr>\n",
       "    <tr>\n",
       "      <th>1</th>\n",
       "      <td>1.079395</td>\n",
       "      <td>True</td>\n",
       "      <td>6.661005</td>\n",
       "      <td>0.865521</td>\n",
       "      <td>1.155373</td>\n",
       "    </tr>\n",
       "    <tr>\n",
       "      <th>2</th>\n",
       "      <td>1.804144</td>\n",
       "      <td>True</td>\n",
       "      <td>5.954310</td>\n",
       "      <td>0.956257</td>\n",
       "      <td>1.045744</td>\n",
       "    </tr>\n",
       "    <tr>\n",
       "      <th>3</th>\n",
       "      <td>1.728563</td>\n",
       "      <td>True</td>\n",
       "      <td>6.330799</td>\n",
       "      <td>0.950601</td>\n",
       "      <td>1.051966</td>\n",
       "    </tr>\n",
       "    <tr>\n",
       "      <th>4</th>\n",
       "      <td>0.727510</td>\n",
       "      <td>True</td>\n",
       "      <td>5.352766</td>\n",
       "      <td>0.780442</td>\n",
       "      <td>1.281325</td>\n",
       "    </tr>\n",
       "    <tr>\n",
       "      <th>...</th>\n",
       "      <td>...</td>\n",
       "      <td>...</td>\n",
       "      <td>...</td>\n",
       "      <td>...</td>\n",
       "      <td>...</td>\n",
       "    </tr>\n",
       "    <tr>\n",
       "      <th>995</th>\n",
       "      <td>0.724866</td>\n",
       "      <td>True</td>\n",
       "      <td>5.710369</td>\n",
       "      <td>0.779677</td>\n",
       "      <td>1.282583</td>\n",
       "    </tr>\n",
       "    <tr>\n",
       "      <th>996</th>\n",
       "      <td>-0.140528</td>\n",
       "      <td>True</td>\n",
       "      <td>4.904026</td>\n",
       "      <td>0.451091</td>\n",
       "      <td>2.216845</td>\n",
       "    </tr>\n",
       "    <tr>\n",
       "      <th>997</th>\n",
       "      <td>0.931611</td>\n",
       "      <td>True</td>\n",
       "      <td>5.166575</td>\n",
       "      <td>0.833771</td>\n",
       "      <td>1.199370</td>\n",
       "    </tr>\n",
       "    <tr>\n",
       "      <th>998</th>\n",
       "      <td>0.706558</td>\n",
       "      <td>True</td>\n",
       "      <td>7.748839</td>\n",
       "      <td>0.774325</td>\n",
       "      <td>1.291448</td>\n",
       "    </tr>\n",
       "    <tr>\n",
       "      <th>999</th>\n",
       "      <td>0.762427</td>\n",
       "      <td>True</td>\n",
       "      <td>3.617393</td>\n",
       "      <td>0.790370</td>\n",
       "      <td>1.265231</td>\n",
       "    </tr>\n",
       "  </tbody>\n",
       "</table>\n",
       "<p>1000 rows × 5 columns</p>\n",
       "</div>"
      ],
      "text/plain": [
       "           W0    v0         y  propensity_score    weight\n",
       "0    2.228865  True  9.431730          0.978145  1.022343\n",
       "1    1.079395  True  6.661005          0.865521  1.155373\n",
       "2    1.804144  True  5.954310          0.956257  1.045744\n",
       "3    1.728563  True  6.330799          0.950601  1.051966\n",
       "4    0.727510  True  5.352766          0.780442  1.281325\n",
       "..        ...   ...       ...               ...       ...\n",
       "995  0.724866  True  5.710369          0.779677  1.282583\n",
       "996 -0.140528  True  4.904026          0.451091  2.216845\n",
       "997  0.931611  True  5.166575          0.833771  1.199370\n",
       "998  0.706558  True  7.748839          0.774325  1.291448\n",
       "999  0.762427  True  3.617393          0.790370  1.265231\n",
       "\n",
       "[1000 rows x 5 columns]"
      ]
     },
     "execution_count": 7,
     "metadata": {},
     "output_type": "execute_result"
    }
   ],
   "source": [
    "cdf_1"
   ]
  },
  {
   "cell_type": "markdown",
   "metadata": {},
   "source": [
    "## Comparing the estimate to Linear Regression\n",
    "First, estimating the effect using the causal data frame, and the 95% confidence interval."
   ]
  },
  {
   "cell_type": "code",
   "execution_count": 8,
   "metadata": {
    "execution": {
     "iopub.execute_input": "2022-08-12T22:18:21.249453Z",
     "iopub.status.busy": "2022-08-12T22:18:21.249253Z",
     "iopub.status.idle": "2022-08-12T22:18:21.346130Z",
     "shell.execute_reply": "2022-08-12T22:18:21.345519Z"
    }
   },
   "outputs": [
    {
     "data": {
      "image/png": "[encoded data removed]",
      "text/latex": [
       "$\\displaystyle 5.14395716404192$"
      ],
      "text/plain": [
       "5.143957164041924"
      ]
     },
     "execution_count": 8,
     "metadata": {},
     "output_type": "execute_result"
    }
   ],
   "source": [
    "(cdf_1['y'] - cdf_0['y']).mean()"
   ]
  },
  {
   "cell_type": "code",
   "execution_count": 9,
   "metadata": {
    "execution": {
     "iopub.execute_input": "2022-08-12T22:18:21.349068Z",
     "iopub.status.busy": "2022-08-12T22:18:21.348570Z",
     "iopub.status.idle": "2022-08-12T22:18:21.372772Z",
     "shell.execute_reply": "2022-08-12T22:18:21.372173Z"
    }
   },
   "outputs": [
    {
     "data": {
      "image/png": "[encoded data removed]",
      "text/latex": [
       "$\\displaystyle 0.130402914385446$"
      ],
      "text/plain": [
       "0.13040291438544557"
      ]
     },
     "execution_count": 9,
     "metadata": {},
     "output_type": "execute_result"
    }
   ],
   "source": [
    "1.96*(cdf_1['y'] - cdf_0['y']).std() / np.sqrt(len(df))"
   ]
  },
  {
   "cell_type": "markdown",
   "metadata": {},
   "source": [
    "Comparing to the estimate from OLS."
   ]
  },
  {
   "cell_type": "code",
   "execution_count": 10,
   "metadata": {
    "execution": {
     "iopub.execute_input": "2022-08-12T22:18:21.375795Z",
     "iopub.status.busy": "2022-08-12T22:18:21.375289Z",
     "iopub.status.idle": "2022-08-12T22:18:21.389908Z",
     "shell.execute_reply": "2022-08-12T22:18:21.389303Z"
    }
   },
   "outputs": [
    {
     "data": {
      "text/html": [
       "<table class=\"simpletable\">\n",
       "<caption>OLS Regression Results</caption>\n",
       "<tr>\n",
       "  <th>Dep. Variable:</th>            <td>y</td>        <th>  R-squared (uncentered):</th>      <td>   0.972</td> \n",
       "</tr>\n",
       "<tr>\n",
       "  <th>Model:</th>                   <td>OLS</td>       <th>  Adj. R-squared (uncentered):</th> <td>   0.972</td> \n",
       "</tr>\n",
       "<tr>\n",
       "  <th>Method:</th>             <td>Least Squares</td>  <th>  F-statistic:       </th>          <td>1.732e+04</td>\n",
       "</tr>\n",
       "<tr>\n",
       "  <th>Date:</th>             <td>Fri, 12 Aug 2022</td> <th>  Prob (F-statistic):</th>           <td>  0.00</td>  \n",
       "</tr>\n",
       "<tr>\n",
       "  <th>Time:</th>                 <td>22:18:21</td>     <th>  Log-Likelihood:    </th>          <td> -1376.3</td> \n",
       "</tr>\n",
       "<tr>\n",
       "  <th>No. Observations:</th>      <td>  1000</td>      <th>  AIC:               </th>          <td>   2757.</td> \n",
       "</tr>\n",
       "<tr>\n",
       "  <th>Df Residuals:</th>          <td>   998</td>      <th>  BIC:               </th>          <td>   2766.</td> \n",
       "</tr>\n",
       "<tr>\n",
       "  <th>Df Model:</th>              <td>     2</td>      <th>                     </th>              <td> </td>    \n",
       "</tr>\n",
       "<tr>\n",
       "  <th>Covariance Type:</th>      <td>nonrobust</td>    <th>                     </th>              <td> </td>    \n",
       "</tr>\n",
       "</table>\n",
       "<table class=\"simpletable\">\n",
       "<tr>\n",
       "   <td></td>     <th>coef</th>     <th>std err</th>      <th>t</th>      <th>P>|t|</th>  <th>[0.025</th>    <th>0.975]</th>  \n",
       "</tr>\n",
       "<tr>\n",
       "  <th>x1</th> <td>    1.2509</td> <td>    0.035</td> <td>   35.913</td> <td> 0.000</td> <td>    1.183</td> <td>    1.319</td>\n",
       "</tr>\n",
       "<tr>\n",
       "  <th>x2</th> <td>    4.9835</td> <td>    0.055</td> <td>   91.303</td> <td> 0.000</td> <td>    4.876</td> <td>    5.091</td>\n",
       "</tr>\n",
       "</table>\n",
       "<table class=\"simpletable\">\n",
       "<tr>\n",
       "  <th>Omnibus:</th>       <td> 1.070</td> <th>  Durbin-Watson:     </th> <td>   2.003</td>\n",
       "</tr>\n",
       "<tr>\n",
       "  <th>Prob(Omnibus):</th> <td> 0.586</td> <th>  Jarque-Bera (JB):  </th> <td>   0.971</td>\n",
       "</tr>\n",
       "<tr>\n",
       "  <th>Skew:</th>          <td> 0.071</td> <th>  Prob(JB):          </th> <td>   0.615</td>\n",
       "</tr>\n",
       "<tr>\n",
       "  <th>Kurtosis:</th>      <td> 3.055</td> <th>  Cond. No.          </th> <td>    3.07</td>\n",
       "</tr>\n",
       "</table><br/><br/>Notes:<br/>[1] R² is computed without centering (uncentered) since the model does not contain a constant.<br/>[2] Standard Errors assume that the covariance matrix of the errors is correctly specified."
      ],
      "text/plain": [
       "<class 'statsmodels.iolib.summary.Summary'>\n",
       "\"\"\"\n",
       "                                 OLS Regression Results                                \n",
       "=======================================================================================\n",
       "Dep. Variable:                      y   R-squared (uncentered):                   0.972\n",
       "Model:                            OLS   Adj. R-squared (uncentered):              0.972\n",
       "Method:                 Least Squares   F-statistic:                          1.732e+04\n",
       "Date:                Fri, 12 Aug 2022   Prob (F-statistic):                        0.00\n",
       "Time:                        22:18:21   Log-Likelihood:                         -1376.3\n",
       "No. Observations:                1000   AIC:                                      2757.\n",
       "Df Residuals:                     998   BIC:                                      2766.\n",
       "Df Model:                           2                                                  \n",
       "Covariance Type:            nonrobust                                                  \n",
       "==============================================================================\n",
       "                 coef    std err          t      P>|t|      [0.025      0.975]\n",
       "------------------------------------------------------------------------------\n",
       "x1             1.2509      0.035     35.913      0.000       1.183       1.319\n",
       "x2             4.9835      0.055     91.303      0.000       4.876       5.091\n",
       "==============================================================================\n",
       "Omnibus:                        1.070   Durbin-Watson:                   2.003\n",
       "Prob(Omnibus):                  0.586   Jarque-Bera (JB):                0.971\n",
       "Skew:                           0.071   Prob(JB):                        0.615\n",
       "Kurtosis:                       3.055   Cond. No.                         3.07\n",
       "==============================================================================\n",
       "\n",
       "Notes:\n",
       "[1] R² is computed without centering (uncentered) since the model does not contain a constant.\n",
       "[2] Standard Errors assume that the covariance matrix of the errors is correctly specified.\n",
       "\"\"\""
      ]
     },
     "execution_count": 10,
     "metadata": {},
     "output_type": "execute_result"
    }
   ],
   "source": [
    "model = OLS(np.asarray(df[outcome]), np.asarray(df[[common_cause, treatment]], dtype=np.float64))\n",
    "result = model.fit()\n",
    "result.summary()"
   ]
  }
 ],
 "metadata": {
  "kernelspec": {
   "display_name": "Python 3",
   "language": "python",
   "name": "python3"
  },
  "language_info": {
   "codemirror_mode": {
    "name": "ipython",
    "version": 3
   },
   "file_extension": ".py",
   "mimetype": "text/x-python",
   "name": "python",
   "nbconvert_exporter": "python",
   "pygments_lexer": "ipython3",
   "version": "3.8.10"
  },
  "toc": {
   "base_numbering": 1,
   "nav_menu": {},
   "number_sections": false,
   "sideBar": true,
   "skip_h1_title": true,
   "title_cell": "Table of Contents",
   "title_sidebar": "Contents",
   "toc_cell": false,
   "toc_position": {},
   "toc_section_display": true,
   "toc_window_display": false
  }
 },
 "nbformat": 4,
 "nbformat_minor": 4
}
