{
 "cells": [
  {
   "cell_type": "markdown",
   "id": "8540355b",
   "metadata": {},
   "source": [
    "# DoWhy: Interpreters for Causal Estimators\n",
    "\n",
    "This is a quick introduction to the use of interpreters in the DoWhy causal inference library.\n",
    "We will load in a sample dataset, use different methods for estimating the causal effect of a (pre-specified)treatment variable on a (pre-specified) outcome variable and demonstrate how to interpret the obtained results.\n",
    "\n",
    "First, let us add the required path for Python to find the DoWhy code and load all required packages"
   ]
  },
  {
   "cell_type": "code",
   "execution_count": 1,
   "id": "b22e9331",
   "metadata": {
    "execution": {
     "iopub.execute_input": "2022-09-01T17:35:36.714026Z",
     "iopub.status.busy": "2022-09-01T17:35:36.713605Z",
     "iopub.status.idle": "2022-09-01T17:35:36.729577Z",
     "shell.execute_reply": "2022-09-01T17:35:36.729023Z"
    }
   },
   "outputs": [],
   "source": [
    "%load_ext autoreload\n",
    "%autoreload 2"
   ]
  },
  {
   "cell_type": "code",
   "execution_count": 2,
   "id": "eaa4028d",
   "metadata": {
    "execution": {
     "iopub.execute_input": "2022-09-01T17:35:36.732387Z",
     "iopub.status.busy": "2022-09-01T17:35:36.732187Z",
     "iopub.status.idle": "2022-09-01T17:35:37.689410Z",
     "shell.execute_reply": "2022-09-01T17:35:37.688764Z"
    }
   },
   "outputs": [],
   "source": [
    "import numpy as np\n",
    "import pandas as pd\n",
    "import logging\n",
    "\n",
    "import dowhy\n",
    "from dowhy import CausalModel\n",
    "import dowhy.datasets "
   ]
  },
  {
   "cell_type": "markdown",
   "id": "c37396b1",
   "metadata": {},
   "source": [
    "Now, let us load a dataset. For simplicity, we simulate a dataset with linear relationships between common causes and treatment, and common causes and outcome.\n",
    "\n",
    "Beta is the true causal effect."
   ]
  },
  {
   "cell_type": "code",
   "execution_count": 3,
   "id": "33febce6",
   "metadata": {
    "execution": {
     "iopub.execute_input": "2022-09-01T17:35:37.693482Z",
     "iopub.status.busy": "2022-09-01T17:35:37.692848Z",
     "iopub.status.idle": "2022-09-01T17:35:37.961192Z",
     "shell.execute_reply": "2022-09-01T17:35:37.960299Z"
    }
   },
   "outputs": [
    {
     "name": "stdout",
     "output_type": "stream",
     "text": [
      "7697\n"
     ]
    },
    {
     "data": {
      "text/html": [
       "<div>\n",
       "<style scoped>\n",
       "    .dataframe tbody tr th:only-of-type {\n",
       "        vertical-align: middle;\n",
       "    }\n",
       "\n",
       "    .dataframe tbody tr th {\n",
       "        vertical-align: top;\n",
       "    }\n",
       "\n",
       "    .dataframe thead th {\n",
       "        text-align: right;\n",
       "    }\n",
       "</style>\n",
       "<table border=\"1\" class=\"dataframe\">\n",
       "  <thead>\n",
       "    <tr style=\"text-align: right;\">\n",
       "      <th></th>\n",
       "      <th>Z0</th>\n",
       "      <th>Z1</th>\n",
       "      <th>W0</th>\n",
       "      <th>W1</th>\n",
       "      <th>W2</th>\n",
       "      <th>W3</th>\n",
       "      <th>W4</th>\n",
       "      <th>v0</th>\n",
       "      <th>y</th>\n",
       "    </tr>\n",
       "  </thead>\n",
       "  <tbody>\n",
       "    <tr>\n",
       "      <th>0</th>\n",
       "      <td>0.0</td>\n",
       "      <td>0.206996</td>\n",
       "      <td>-0.628207</td>\n",
       "      <td>0.708951</td>\n",
       "      <td>0.325357</td>\n",
       "      <td>-0.682810</td>\n",
       "      <td>2</td>\n",
       "      <td>False</td>\n",
       "      <td>0.546136</td>\n",
       "    </tr>\n",
       "    <tr>\n",
       "      <th>1</th>\n",
       "      <td>0.0</td>\n",
       "      <td>0.831294</td>\n",
       "      <td>-0.658501</td>\n",
       "      <td>1.100420</td>\n",
       "      <td>0.493773</td>\n",
       "      <td>1.344907</td>\n",
       "      <td>1</td>\n",
       "      <td>False</td>\n",
       "      <td>2.016281</td>\n",
       "    </tr>\n",
       "    <tr>\n",
       "      <th>2</th>\n",
       "      <td>0.0</td>\n",
       "      <td>0.930050</td>\n",
       "      <td>1.077772</td>\n",
       "      <td>0.715019</td>\n",
       "      <td>1.150976</td>\n",
       "      <td>2.611443</td>\n",
       "      <td>2</td>\n",
       "      <td>True</td>\n",
       "      <td>5.127526</td>\n",
       "    </tr>\n",
       "    <tr>\n",
       "      <th>3</th>\n",
       "      <td>1.0</td>\n",
       "      <td>0.765813</td>\n",
       "      <td>-0.636822</td>\n",
       "      <td>-0.357843</td>\n",
       "      <td>0.218669</td>\n",
       "      <td>1.286571</td>\n",
       "      <td>2</td>\n",
       "      <td>True</td>\n",
       "      <td>1.554633</td>\n",
       "    </tr>\n",
       "    <tr>\n",
       "      <th>4</th>\n",
       "      <td>0.0</td>\n",
       "      <td>0.474450</td>\n",
       "      <td>-1.471415</td>\n",
       "      <td>1.328864</td>\n",
       "      <td>0.915551</td>\n",
       "      <td>0.083521</td>\n",
       "      <td>1</td>\n",
       "      <td>True</td>\n",
       "      <td>2.299495</td>\n",
       "    </tr>\n",
       "    <tr>\n",
       "      <th>...</th>\n",
       "      <td>...</td>\n",
       "      <td>...</td>\n",
       "      <td>...</td>\n",
       "      <td>...</td>\n",
       "      <td>...</td>\n",
       "      <td>...</td>\n",
       "      <td>...</td>\n",
       "      <td>...</td>\n",
       "      <td>...</td>\n",
       "    </tr>\n",
       "    <tr>\n",
       "      <th>9995</th>\n",
       "      <td>0.0</td>\n",
       "      <td>0.336828</td>\n",
       "      <td>2.070449</td>\n",
       "      <td>0.467815</td>\n",
       "      <td>-1.087008</td>\n",
       "      <td>0.041283</td>\n",
       "      <td>3</td>\n",
       "      <td>True</td>\n",
       "      <td>2.637949</td>\n",
       "    </tr>\n",
       "    <tr>\n",
       "      <th>9996</th>\n",
       "      <td>0.0</td>\n",
       "      <td>0.198180</td>\n",
       "      <td>-0.013437</td>\n",
       "      <td>0.889643</td>\n",
       "      <td>-1.204042</td>\n",
       "      <td>2.731916</td>\n",
       "      <td>0</td>\n",
       "      <td>True</td>\n",
       "      <td>2.631900</td>\n",
       "    </tr>\n",
       "    <tr>\n",
       "      <th>9997</th>\n",
       "      <td>0.0</td>\n",
       "      <td>0.365980</td>\n",
       "      <td>0.079152</td>\n",
       "      <td>-0.668741</td>\n",
       "      <td>0.369898</td>\n",
       "      <td>2.090321</td>\n",
       "      <td>3</td>\n",
       "      <td>True</td>\n",
       "      <td>2.472347</td>\n",
       "    </tr>\n",
       "    <tr>\n",
       "      <th>9998</th>\n",
       "      <td>0.0</td>\n",
       "      <td>0.844399</td>\n",
       "      <td>-0.494872</td>\n",
       "      <td>1.838174</td>\n",
       "      <td>-0.247320</td>\n",
       "      <td>2.447404</td>\n",
       "      <td>3</td>\n",
       "      <td>True</td>\n",
       "      <td>4.384398</td>\n",
       "    </tr>\n",
       "    <tr>\n",
       "      <th>9999</th>\n",
       "      <td>0.0</td>\n",
       "      <td>0.667059</td>\n",
       "      <td>1.389595</td>\n",
       "      <td>1.018613</td>\n",
       "      <td>0.119475</td>\n",
       "      <td>1.215873</td>\n",
       "      <td>2</td>\n",
       "      <td>True</td>\n",
       "      <td>4.102690</td>\n",
       "    </tr>\n",
       "  </tbody>\n",
       "</table>\n",
       "<p>10000 rows × 9 columns</p>\n",
       "</div>"
      ],
      "text/plain": [
       "       Z0        Z1        W0        W1        W2        W3 W4     v0  \\\n",
       "0     0.0  0.206996 -0.628207  0.708951  0.325357 -0.682810  2  False   \n",
       "1     0.0  0.831294 -0.658501  1.100420  0.493773  1.344907  1  False   \n",
       "2     0.0  0.930050  1.077772  0.715019  1.150976  2.611443  2   True   \n",
       "3     1.0  0.765813 -0.636822 -0.357843  0.218669  1.286571  2   True   \n",
       "4     0.0  0.474450 -1.471415  1.328864  0.915551  0.083521  1   True   \n",
       "...   ...       ...       ...       ...       ...       ... ..    ...   \n",
       "9995  0.0  0.336828  2.070449  0.467815 -1.087008  0.041283  3   True   \n",
       "9996  0.0  0.198180 -0.013437  0.889643 -1.204042  2.731916  0   True   \n",
       "9997  0.0  0.365980  0.079152 -0.668741  0.369898  2.090321  3   True   \n",
       "9998  0.0  0.844399 -0.494872  1.838174 -0.247320  2.447404  3   True   \n",
       "9999  0.0  0.667059  1.389595  1.018613  0.119475  1.215873  2   True   \n",
       "\n",
       "             y  \n",
       "0     0.546136  \n",
       "1     2.016281  \n",
       "2     5.127526  \n",
       "3     1.554633  \n",
       "4     2.299495  \n",
       "...        ...  \n",
       "9995  2.637949  \n",
       "9996  2.631900  \n",
       "9997  2.472347  \n",
       "9998  4.384398  \n",
       "9999  4.102690  \n",
       "\n",
       "[10000 rows x 9 columns]"
      ]
     },
     "execution_count": 3,
     "metadata": {},
     "output_type": "execute_result"
    }
   ],
   "source": [
    "data = dowhy.datasets.linear_dataset(beta=1,\n",
    "        num_common_causes=5, \n",
    "        num_instruments = 2,\n",
    "        num_treatments=1,\n",
    "        num_discrete_common_causes=1,\n",
    "        num_samples=10000,\n",
    "        treatment_is_binary=True,\n",
    "        outcome_is_binary=False)\n",
    "df = data[\"df\"]\n",
    "print(df[df.v0==True].shape[0])\n",
    "df"
   ]
  },
  {
   "cell_type": "markdown",
   "id": "48cd87aa",
   "metadata": {},
   "source": [
    "Note that we are using a pandas dataframe to load the data."
   ]
  },
  {
   "cell_type": "markdown",
   "id": "b63b7e94",
   "metadata": {},
   "source": [
    "## Identifying the causal estimand"
   ]
  },
  {
   "cell_type": "markdown",
   "id": "47227853",
   "metadata": {},
   "source": [
    "We now input a causal graph in the GML graph format."
   ]
  },
  {
   "cell_type": "code",
   "execution_count": 4,
   "id": "a5af9020",
   "metadata": {
    "execution": {
     "iopub.execute_input": "2022-09-01T17:35:37.964656Z",
     "iopub.status.busy": "2022-09-01T17:35:37.964228Z",
     "iopub.status.idle": "2022-09-01T17:35:37.989790Z",
     "shell.execute_reply": "2022-09-01T17:35:37.989158Z"
    }
   },
   "outputs": [],
   "source": [
    "# With graph\n",
    "model=CausalModel(\n",
    "        data = df,\n",
    "        treatment=data[\"treatment_name\"],\n",
    "        outcome=data[\"outcome_name\"],\n",
    "        graph=data[\"gml_graph\"],\n",
    "        instruments=data[\"instrument_names\"]\n",
    "        )"
   ]
  },
  {
   "cell_type": "code",
   "execution_count": 5,
   "id": "db765df8",
   "metadata": {
    "execution": {
     "iopub.execute_input": "2022-09-01T17:35:37.992824Z",
     "iopub.status.busy": "2022-09-01T17:35:37.992326Z",
     "iopub.status.idle": "2022-09-01T17:35:38.049253Z",
     "shell.execute_reply": "2022-09-01T17:35:38.048581Z"
    }
   },
   "outputs": [],
   "source": [
    "model.view_model()"
   ]
  },
  {
   "cell_type": "code",
   "execution_count": 6,
   "id": "e5a029fe",
   "metadata": {
    "execution": {
     "iopub.execute_input": "2022-09-01T17:35:38.052467Z",
     "iopub.status.busy": "2022-09-01T17:35:38.051897Z",
     "iopub.status.idle": "2022-09-01T17:35:38.076256Z",
     "shell.execute_reply": "2022-09-01T17:35:38.075581Z"
    }
   },
   "outputs": [
    {
     "data": {
      "image/png": "[encoded data removed]",
      "text/plain": [
       "<IPython.core.display.Image object>"
      ]
     },
     "metadata": {},
     "output_type": "display_data"
    }
   ],
   "source": [
    "from IPython.display import Image, display\n",
    "display(Image(filename=\"causal_model.png\"))"
   ]
  },
  {
   "cell_type": "markdown",
   "id": "e5832b84",
   "metadata": {},
   "source": [
    "We get a causal graph. Now identification and estimation is done."
   ]
  },
  {
   "cell_type": "code",
   "execution_count": 7,
   "id": "6e0d2a33",
   "metadata": {
    "execution": {
     "iopub.execute_input": "2022-09-01T17:35:38.079622Z",
     "iopub.status.busy": "2022-09-01T17:35:38.079204Z",
     "iopub.status.idle": "2022-09-01T17:35:38.298181Z",
     "shell.execute_reply": "2022-09-01T17:35:38.297629Z"
    }
   },
   "outputs": [
    {
     "name": "stdout",
     "output_type": "stream",
     "text": [
      "Estimand type: nonparametric-ate\n",
      "\n",
      "### Estimand : 1\n",
      "Estimand name: backdoor\n",
      "Estimand expression:\n",
      "  d                       \n",
      "─────(E[y|W1,W0,W4,W3,W2])\n",
      "d[v₀]                     \n",
      "Estimand assumption 1, Unconfoundedness: If U→{v0} and U→y then P(y|v0,W1,W0,W4,W3,W2,U) = P(y|v0,W1,W0,W4,W3,W2)\n",
      "\n",
      "### Estimand : 2\n",
      "Estimand name: iv\n",
      "Estimand expression:\n",
      " ⎡                              -1⎤\n",
      " ⎢    d        ⎛    d          ⎞  ⎥\n",
      "E⎢─────────(y)⋅⎜─────────([v₀])⎟  ⎥\n",
      " ⎣d[Z₁  Z₀]    ⎝d[Z₁  Z₀]      ⎠  ⎦\n",
      "Estimand assumption 1, As-if-random: If U→→y then ¬(U →→{Z1,Z0})\n",
      "Estimand assumption 2, Exclusion: If we remove {Z1,Z0}→{v0}, then ¬({Z1,Z0}→y)\n",
      "\n",
      "### Estimand : 3\n",
      "Estimand name: frontdoor\n",
      "No such variable(s) found!\n",
      "\n"
     ]
    }
   ],
   "source": [
    "identified_estimand = model.identify_effect(proceed_when_unidentifiable=True)\n",
    "print(identified_estimand)"
   ]
  },
  {
   "cell_type": "markdown",
   "id": "aed9f689",
   "metadata": {},
   "source": [
    "## Method 1: Propensity Score Stratification\n",
    "\n",
    "We will be using propensity scores to stratify units in the data."
   ]
  },
  {
   "cell_type": "code",
   "execution_count": 8,
   "id": "32c74685",
   "metadata": {
    "execution": {
     "iopub.execute_input": "2022-09-01T17:35:38.301306Z",
     "iopub.status.busy": "2022-09-01T17:35:38.301068Z",
     "iopub.status.idle": "2022-09-01T17:35:38.920435Z",
     "shell.execute_reply": "2022-09-01T17:35:38.919742Z"
    }
   },
   "outputs": [
    {
     "name": "stdout",
     "output_type": "stream",
     "text": [
      "*** Causal Estimate ***\n",
      "\n",
      "## Identified estimand\n",
      "Estimand type: nonparametric-ate\n",
      "\n",
      "### Estimand : 1\n",
      "Estimand name: backdoor\n",
      "Estimand expression:\n",
      "  d                       \n",
      "─────(E[y|W1,W0,W4,W3,W2])\n",
      "d[v₀]                     \n",
      "Estimand assumption 1, Unconfoundedness: If U→{v0} and U→y then P(y|v0,W1,W0,W4,W3,W2,U) = P(y|v0,W1,W0,W4,W3,W2)\n",
      "\n",
      "## Realized estimand\n",
      "b: y~v0+W1+W0+W4+W3+W2\n",
      "Target units: att\n",
      "\n",
      "## Estimate\n",
      "Mean value: 0.9752544283431014\n",
      "\n",
      "Causal Estimate is 0.9752544283431014\n"
     ]
    }
   ],
   "source": [
    "causal_estimate_strat = model.estimate_effect(identified_estimand,\n",
    "                                              method_name=\"backdoor.propensity_score_stratification\",\n",
    "                                              target_units=\"att\")\n",
    "print(causal_estimate_strat)\n",
    "print(\"Causal Estimate is \" + str(causal_estimate_strat.value))"
   ]
  },
  {
   "cell_type": "markdown",
   "id": "5c985c57",
   "metadata": {},
   "source": [
    "### Textual Interpreter\n",
    "\n",
    "The textual Interpreter describes (in words) the effect of unit change in the treatment variable on the outcome variable."
   ]
  },
  {
   "cell_type": "code",
   "execution_count": 9,
   "id": "fedc35fb",
   "metadata": {
    "execution": {
     "iopub.execute_input": "2022-09-01T17:35:38.923607Z",
     "iopub.status.busy": "2022-09-01T17:35:38.923085Z",
     "iopub.status.idle": "2022-09-01T17:35:38.947720Z",
     "shell.execute_reply": "2022-09-01T17:35:38.947096Z"
    }
   },
   "outputs": [
    {
     "name": "stdout",
     "output_type": "stream",
     "text": [
      "Increasing the treatment variable(s) [v0] from 0 to 1 causes an increase of 0.9752544283431014 in the expected value of the outcome [y], over the data distribution/population represented by the dataset.\n"
     ]
    }
   ],
   "source": [
    "# Textual Interpreter\n",
    "interpretation = causal_estimate_strat.interpret(method_name=\"textual_effect_interpreter\")"
   ]
  },
  {
   "cell_type": "markdown",
   "id": "e287e9ca",
   "metadata": {},
   "source": [
    "### Visual Interpreter\n",
    "\n",
    "The visual interpreter plots the change in the standardized mean difference (SMD) before and after Propensity Score based adjustment of the dataset. The formula for SMD is given below.\n",
    "\n",
    "\n",
    "$SMD = \\frac{\\bar X_{1} - \\bar X_{2}}{\\sqrt{(S_{1}^{2} + S_{2}^{2})/2}}$\n",
    "\n",
    "Here, $\\bar X_{1}$ and $\\bar X_{2}$ are the sample mean for the treated and control groups.\n"
   ]
  },
  {
   "cell_type": "code",
   "execution_count": 10,
   "id": "a47af79d",
   "metadata": {
    "execution": {
     "iopub.execute_input": "2022-09-01T17:35:38.950770Z",
     "iopub.status.busy": "2022-09-01T17:35:38.950261Z",
     "iopub.status.idle": "2022-09-01T17:35:40.162205Z",
     "shell.execute_reply": "2022-09-01T17:35:40.161389Z"
    }
   },
   "outputs": [
    {
     "data": {
      "image/png": "[encoded data removed]",
      "text/plain": [
       "<Figure size 640x480 with 1 Axes>"
      ]
     },
     "metadata": {},
     "output_type": "display_data"
    }
   ],
   "source": [
    "# Visual Interpreter\n",
    "interpretation = causal_estimate_strat.interpret(method_name=\"propensity_balance_interpreter\")"
   ]
  },
  {
   "cell_type": "markdown",
   "id": "f25b3f94",
   "metadata": {},
   "source": [
    "This plot shows how the SMD decreases from the unadjusted to the stratified units. "
   ]
  },
  {
   "cell_type": "markdown",
   "id": "f6af0a61",
   "metadata": {},
   "source": [
    "## Method 2: Propensity Score Matching\n",
    "\n",
    "We will be using propensity scores to match units in the data."
   ]
  },
  {
   "cell_type": "code",
   "execution_count": 11,
   "id": "502d3980",
   "metadata": {
    "execution": {
     "iopub.execute_input": "2022-09-01T17:35:40.165935Z",
     "iopub.status.busy": "2022-09-01T17:35:40.165390Z",
     "iopub.status.idle": "2022-09-01T17:35:43.642295Z",
     "shell.execute_reply": "2022-09-01T17:35:43.641522Z"
    }
   },
   "outputs": [
    {
     "name": "stdout",
     "output_type": "stream",
     "text": [
      "*** Causal Estimate ***\n",
      "\n",
      "## Identified estimand\n",
      "Estimand type: nonparametric-ate\n",
      "\n",
      "### Estimand : 1\n",
      "Estimand name: backdoor\n",
      "Estimand expression:\n",
      "  d                       \n",
      "─────(E[y|W1,W0,W4,W3,W2])\n",
      "d[v₀]                     \n",
      "Estimand assumption 1, Unconfoundedness: If U→{v0} and U→y then P(y|v0,W1,W0,W4,W3,W2,U) = P(y|v0,W1,W0,W4,W3,W2)\n",
      "\n",
      "## Realized estimand\n",
      "b: y~v0+W1+W0+W4+W3+W2\n",
      "Target units: atc\n",
      "\n",
      "## Estimate\n",
      "Mean value: 0.9833753027681407\n",
      "\n",
      "Causal Estimate is 0.9833753027681407\n"
     ]
    }
   ],
   "source": [
    "causal_estimate_match = model.estimate_effect(identified_estimand,\n",
    "                                              method_name=\"backdoor.propensity_score_matching\",\n",
    "                                              target_units=\"atc\")\n",
    "print(causal_estimate_match)\n",
    "print(\"Causal Estimate is \" + str(causal_estimate_match.value))"
   ]
  },
  {
   "cell_type": "code",
   "execution_count": 12,
   "id": "03f35fa8",
   "metadata": {
    "execution": {
     "iopub.execute_input": "2022-09-01T17:35:43.645977Z",
     "iopub.status.busy": "2022-09-01T17:35:43.645437Z",
     "iopub.status.idle": "2022-09-01T17:35:43.672897Z",
     "shell.execute_reply": "2022-09-01T17:35:43.672266Z"
    }
   },
   "outputs": [
    {
     "name": "stdout",
     "output_type": "stream",
     "text": [
      "Increasing the treatment variable(s) [v0] from 0 to 1 causes an increase of 0.9833753027681407 in the expected value of the outcome [y], over the data distribution/population represented by the dataset.\n"
     ]
    }
   ],
   "source": [
    "# Textual Interpreter\n",
    "interpretation = causal_estimate_match.interpret(method_name=\"textual_effect_interpreter\")"
   ]
  },
  {
   "cell_type": "markdown",
   "id": "2bf12513",
   "metadata": {},
   "source": [
    "Cannot use propensity balance interpretor here since the interpreter method only supports propensity score stratification estimator."
   ]
  },
  {
   "cell_type": "markdown",
   "id": "a166a2b1",
   "metadata": {},
   "source": [
    "## Method 3: Weighting\n",
    "\n",
    "We will be using (inverse) propensity scores to assign weights to units in the data. DoWhy supports a few different weighting schemes:\n",
    "1. Vanilla Inverse Propensity Score weighting (IPS) (weighting_scheme=\"ips_weight\")\n",
    "2. Self-normalized IPS weighting (also known as the Hajek estimator) (weighting_scheme=\"ips_normalized_weight\")\n",
    "3. Stabilized IPS weighting (weighting_scheme = \"ips_stabilized_weight\")"
   ]
  },
  {
   "cell_type": "code",
   "execution_count": 13,
   "id": "95fc3ca9",
   "metadata": {
    "execution": {
     "iopub.execute_input": "2022-09-01T17:35:43.676405Z",
     "iopub.status.busy": "2022-09-01T17:35:43.676056Z",
     "iopub.status.idle": "2022-09-01T17:35:43.735583Z",
     "shell.execute_reply": "2022-09-01T17:35:43.734909Z"
    }
   },
   "outputs": [
    {
     "name": "stdout",
     "output_type": "stream",
     "text": [
      "*** Causal Estimate ***\n",
      "\n",
      "## Identified estimand\n",
      "Estimand type: nonparametric-ate\n",
      "\n",
      "### Estimand : 1\n",
      "Estimand name: backdoor\n",
      "Estimand expression:\n",
      "  d                       \n",
      "─────(E[y|W1,W0,W4,W3,W2])\n",
      "d[v₀]                     \n",
      "Estimand assumption 1, Unconfoundedness: If U→{v0} and U→y then P(y|v0,W1,W0,W4,W3,W2,U) = P(y|v0,W1,W0,W4,W3,W2)\n",
      "\n",
      "## Realized estimand\n",
      "b: y~v0+W1+W0+W4+W3+W2\n",
      "Target units: ate\n",
      "\n",
      "## Estimate\n",
      "Mean value: 1.0596781310774217\n",
      "\n",
      "Causal Estimate is 1.0596781310774217\n"
     ]
    }
   ],
   "source": [
    "causal_estimate_ipw = model.estimate_effect(identified_estimand,\n",
    "                                            method_name=\"backdoor.propensity_score_weighting\",\n",
    "                                            target_units = \"ate\",\n",
    "                                            method_params={\"weighting_scheme\":\"ips_weight\"})\n",
    "print(causal_estimate_ipw)\n",
    "print(\"Causal Estimate is \" + str(causal_estimate_ipw.value))"
   ]
  },
  {
   "cell_type": "code",
   "execution_count": 14,
   "id": "564ac650",
   "metadata": {
    "execution": {
     "iopub.execute_input": "2022-09-01T17:35:43.739001Z",
     "iopub.status.busy": "2022-09-01T17:35:43.738761Z",
     "iopub.status.idle": "2022-09-01T17:35:43.765019Z",
     "shell.execute_reply": "2022-09-01T17:35:43.764342Z"
    }
   },
   "outputs": [
    {
     "name": "stdout",
     "output_type": "stream",
     "text": [
      "Increasing the treatment variable(s) [v0] from 0 to 1 causes an increase of 1.0596781310774217 in the expected value of the outcome [y], over the data distribution/population represented by the dataset.\n"
     ]
    }
   ],
   "source": [
    "# Textual Interpreter\n",
    "interpretation = causal_estimate_ipw.interpret(method_name=\"textual_effect_interpreter\")"
   ]
  },
  {
   "cell_type": "code",
   "execution_count": 15,
   "id": "16d4d244",
   "metadata": {
    "execution": {
     "iopub.execute_input": "2022-09-01T17:35:43.768251Z",
     "iopub.status.busy": "2022-09-01T17:35:43.768015Z",
     "iopub.status.idle": "2022-09-01T17:35:44.108708Z",
     "shell.execute_reply": "2022-09-01T17:35:44.108062Z"
    }
   },
   "outputs": [
    {
     "data": {
      "image/png": "[encoded data removed]",
      "text/plain": [
       "<Figure size 800x800 with 2 Axes>"
      ]
     },
     "metadata": {},
     "output_type": "display_data"
    }
   ],
   "source": [
    "interpretation = causal_estimate_ipw.interpret(method_name=\"confounder_distribution_interpreter\", fig_size=(8,8), font_size=12, var_name='W4', var_type='discrete')"
   ]
  },
  {
   "cell_type": "code",
   "execution_count": null,
   "id": "d966e2cd",
   "metadata": {},
   "outputs": [],
   "source": []
  }
 ],
 "metadata": {
  "kernelspec": {
   "display_name": "Python 3",
   "language": "python",
   "name": "python3"
  },
  "language_info": {
   "codemirror_mode": {
    "name": "ipython",
    "version": 3
   },
   "file_extension": ".py",
   "mimetype": "text/x-python",
   "name": "python",
   "nbconvert_exporter": "python",
   "pygments_lexer": "ipython3",
   "version": "3.8.10"
  },
  "toc": {
   "base_numbering": 1,
   "nav_menu": {},
   "number_sections": false,
   "sideBar": true,
   "skip_h1_title": true,
   "title_cell": "Table of Contents",
   "title_sidebar": "Contents",
   "toc_cell": false,
   "toc_position": {},
   "toc_section_display": true,
   "toc_window_display": false
  }
 },
 "nbformat": 4,
 "nbformat_minor": 5
}
