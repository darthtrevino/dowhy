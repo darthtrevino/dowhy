{
 "cells": [
  {
   "cell_type": "markdown",
   "id": "11432046",
   "metadata": {},
   "source": [
    "# DoWhy: Interpreters for Causal Estimators\n",
    "\n",
    "This is a quick introduction to the use of interpreters in the DoWhy causal inference library.\n",
    "We will load in a sample dataset, use different methods for estimating the causal effect of a (pre-specified)treatment variable on a (pre-specified) outcome variable and demonstrate how to interpret the obtained results.\n",
    "\n",
    "First, let us add the required path for Python to find the DoWhy code and load all required packages"
   ]
  },
  {
   "cell_type": "code",
   "execution_count": 1,
   "id": "ec9d7f42",
   "metadata": {
    "execution": {
     "iopub.execute_input": "2022-09-01T17:49:45.607138Z",
     "iopub.status.busy": "2022-09-01T17:49:45.606829Z",
     "iopub.status.idle": "2022-09-01T17:49:45.625012Z",
     "shell.execute_reply": "2022-09-01T17:49:45.624333Z"
    }
   },
   "outputs": [],
   "source": [
    "%load_ext autoreload\n",
    "%autoreload 2"
   ]
  },
  {
   "cell_type": "code",
   "execution_count": 2,
   "id": "9d61dab7",
   "metadata": {
    "execution": {
     "iopub.execute_input": "2022-09-01T17:49:45.628740Z",
     "iopub.status.busy": "2022-09-01T17:49:45.628252Z",
     "iopub.status.idle": "2022-09-01T17:49:46.844523Z",
     "shell.execute_reply": "2022-09-01T17:49:46.843235Z"
    }
   },
   "outputs": [],
   "source": [
    "import numpy as np\n",
    "import pandas as pd\n",
    "import logging\n",
    "\n",
    "import dowhy\n",
    "from dowhy import CausalModel\n",
    "import dowhy.datasets "
   ]
  },
  {
   "cell_type": "markdown",
   "id": "c13946e9",
   "metadata": {},
   "source": [
    "Now, let us load a dataset. For simplicity, we simulate a dataset with linear relationships between common causes and treatment, and common causes and outcome.\n",
    "\n",
    "Beta is the true causal effect."
   ]
  },
  {
   "cell_type": "code",
   "execution_count": 3,
   "id": "8245ba02",
   "metadata": {
    "execution": {
     "iopub.execute_input": "2022-09-01T17:49:46.850279Z",
     "iopub.status.busy": "2022-09-01T17:49:46.849821Z",
     "iopub.status.idle": "2022-09-01T17:49:47.186032Z",
     "shell.execute_reply": "2022-09-01T17:49:47.184832Z"
    }
   },
   "outputs": [
    {
     "name": "stdout",
     "output_type": "stream",
     "text": [
      "7584\n"
     ]
    },
    {
     "data": {
      "text/html": [
       "<div>\n",
       "<style scoped>\n",
       "    .dataframe tbody tr th:only-of-type {\n",
       "        vertical-align: middle;\n",
       "    }\n",
       "\n",
       "    .dataframe tbody tr th {\n",
       "        vertical-align: top;\n",
       "    }\n",
       "\n",
       "    .dataframe thead th {\n",
       "        text-align: right;\n",
       "    }\n",
       "</style>\n",
       "<table border=\"1\" class=\"dataframe\">\n",
       "  <thead>\n",
       "    <tr style=\"text-align: right;\">\n",
       "      <th></th>\n",
       "      <th>Z0</th>\n",
       "      <th>Z1</th>\n",
       "      <th>W0</th>\n",
       "      <th>W1</th>\n",
       "      <th>W2</th>\n",
       "      <th>W3</th>\n",
       "      <th>W4</th>\n",
       "      <th>v0</th>\n",
       "      <th>y</th>\n",
       "    </tr>\n",
       "  </thead>\n",
       "  <tbody>\n",
       "    <tr>\n",
       "      <th>0</th>\n",
       "      <td>0.0</td>\n",
       "      <td>0.600900</td>\n",
       "      <td>0.174024</td>\n",
       "      <td>-0.910192</td>\n",
       "      <td>1.116367</td>\n",
       "      <td>-1.446525</td>\n",
       "      <td>2</td>\n",
       "      <td>True</td>\n",
       "      <td>1.891172</td>\n",
       "    </tr>\n",
       "    <tr>\n",
       "      <th>1</th>\n",
       "      <td>0.0</td>\n",
       "      <td>0.030358</td>\n",
       "      <td>0.020753</td>\n",
       "      <td>-0.436580</td>\n",
       "      <td>-1.990258</td>\n",
       "      <td>-0.867516</td>\n",
       "      <td>3</td>\n",
       "      <td>False</td>\n",
       "      <td>-1.378524</td>\n",
       "    </tr>\n",
       "    <tr>\n",
       "      <th>2</th>\n",
       "      <td>0.0</td>\n",
       "      <td>0.971397</td>\n",
       "      <td>-0.016983</td>\n",
       "      <td>-0.013130</td>\n",
       "      <td>-0.946666</td>\n",
       "      <td>-0.511700</td>\n",
       "      <td>3</td>\n",
       "      <td>True</td>\n",
       "      <td>0.797753</td>\n",
       "    </tr>\n",
       "    <tr>\n",
       "      <th>3</th>\n",
       "      <td>0.0</td>\n",
       "      <td>0.641346</td>\n",
       "      <td>-2.047601</td>\n",
       "      <td>-0.066572</td>\n",
       "      <td>-1.276211</td>\n",
       "      <td>-0.740576</td>\n",
       "      <td>2</td>\n",
       "      <td>True</td>\n",
       "      <td>-1.470577</td>\n",
       "    </tr>\n",
       "    <tr>\n",
       "      <th>4</th>\n",
       "      <td>1.0</td>\n",
       "      <td>0.615061</td>\n",
       "      <td>-2.037959</td>\n",
       "      <td>-0.835994</td>\n",
       "      <td>0.200307</td>\n",
       "      <td>-0.073193</td>\n",
       "      <td>1</td>\n",
       "      <td>True</td>\n",
       "      <td>-0.305243</td>\n",
       "    </tr>\n",
       "    <tr>\n",
       "      <th>...</th>\n",
       "      <td>...</td>\n",
       "      <td>...</td>\n",
       "      <td>...</td>\n",
       "      <td>...</td>\n",
       "      <td>...</td>\n",
       "      <td>...</td>\n",
       "      <td>...</td>\n",
       "      <td>...</td>\n",
       "      <td>...</td>\n",
       "    </tr>\n",
       "    <tr>\n",
       "      <th>9995</th>\n",
       "      <td>0.0</td>\n",
       "      <td>0.313209</td>\n",
       "      <td>1.118009</td>\n",
       "      <td>0.184432</td>\n",
       "      <td>-1.216788</td>\n",
       "      <td>0.685647</td>\n",
       "      <td>2</td>\n",
       "      <td>True</td>\n",
       "      <td>1.704877</td>\n",
       "    </tr>\n",
       "    <tr>\n",
       "      <th>9996</th>\n",
       "      <td>0.0</td>\n",
       "      <td>0.052249</td>\n",
       "      <td>1.888512</td>\n",
       "      <td>-1.873878</td>\n",
       "      <td>-0.428098</td>\n",
       "      <td>-1.243483</td>\n",
       "      <td>1</td>\n",
       "      <td>True</td>\n",
       "      <td>1.298753</td>\n",
       "    </tr>\n",
       "    <tr>\n",
       "      <th>9997</th>\n",
       "      <td>0.0</td>\n",
       "      <td>0.577489</td>\n",
       "      <td>-0.647898</td>\n",
       "      <td>0.601959</td>\n",
       "      <td>0.643906</td>\n",
       "      <td>-1.200216</td>\n",
       "      <td>1</td>\n",
       "      <td>True</td>\n",
       "      <td>1.005689</td>\n",
       "    </tr>\n",
       "    <tr>\n",
       "      <th>9998</th>\n",
       "      <td>0.0</td>\n",
       "      <td>0.734708</td>\n",
       "      <td>-1.375441</td>\n",
       "      <td>1.163689</td>\n",
       "      <td>0.054258</td>\n",
       "      <td>-1.296239</td>\n",
       "      <td>3</td>\n",
       "      <td>True</td>\n",
       "      <td>0.632595</td>\n",
       "    </tr>\n",
       "    <tr>\n",
       "      <th>9999</th>\n",
       "      <td>0.0</td>\n",
       "      <td>0.091802</td>\n",
       "      <td>-0.656798</td>\n",
       "      <td>-0.393677</td>\n",
       "      <td>0.482510</td>\n",
       "      <td>0.581315</td>\n",
       "      <td>1</td>\n",
       "      <td>False</td>\n",
       "      <td>0.436021</td>\n",
       "    </tr>\n",
       "  </tbody>\n",
       "</table>\n",
       "<p>10000 rows × 9 columns</p>\n",
       "</div>"
      ],
      "text/plain": [
       "       Z0        Z1        W0        W1        W2        W3 W4     v0  \\\n",
       "0     0.0  0.600900  0.174024 -0.910192  1.116367 -1.446525  2   True   \n",
       "1     0.0  0.030358  0.020753 -0.436580 -1.990258 -0.867516  3  False   \n",
       "2     0.0  0.971397 -0.016983 -0.013130 -0.946666 -0.511700  3   True   \n",
       "3     0.0  0.641346 -2.047601 -0.066572 -1.276211 -0.740576  2   True   \n",
       "4     1.0  0.615061 -2.037959 -0.835994  0.200307 -0.073193  1   True   \n",
       "...   ...       ...       ...       ...       ...       ... ..    ...   \n",
       "9995  0.0  0.313209  1.118009  0.184432 -1.216788  0.685647  2   True   \n",
       "9996  0.0  0.052249  1.888512 -1.873878 -0.428098 -1.243483  1   True   \n",
       "9997  0.0  0.577489 -0.647898  0.601959  0.643906 -1.200216  1   True   \n",
       "9998  0.0  0.734708 -1.375441  1.163689  0.054258 -1.296239  3   True   \n",
       "9999  0.0  0.091802 -0.656798 -0.393677  0.482510  0.581315  1  False   \n",
       "\n",
       "             y  \n",
       "0     1.891172  \n",
       "1    -1.378524  \n",
       "2     0.797753  \n",
       "3    -1.470577  \n",
       "4    -0.305243  \n",
       "...        ...  \n",
       "9995  1.704877  \n",
       "9996  1.298753  \n",
       "9997  1.005689  \n",
       "9998  0.632595  \n",
       "9999  0.436021  \n",
       "\n",
       "[10000 rows x 9 columns]"
      ]
     },
     "execution_count": 3,
     "metadata": {},
     "output_type": "execute_result"
    }
   ],
   "source": [
    "data = dowhy.datasets.linear_dataset(beta=1,\n",
    "        num_common_causes=5, \n",
    "        num_instruments = 2,\n",
    "        num_treatments=1,\n",
    "        num_discrete_common_causes=1,\n",
    "        num_samples=10000,\n",
    "        treatment_is_binary=True,\n",
    "        outcome_is_binary=False)\n",
    "df = data[\"df\"]\n",
    "print(df[df.v0==True].shape[0])\n",
    "df"
   ]
  },
  {
   "cell_type": "markdown",
   "id": "fb85872b",
   "metadata": {},
   "source": [
    "Note that we are using a pandas dataframe to load the data."
   ]
  },
  {
   "cell_type": "markdown",
   "id": "009a0684",
   "metadata": {},
   "source": [
    "## Identifying the causal estimand"
   ]
  },
  {
   "cell_type": "markdown",
   "id": "6316ed14",
   "metadata": {},
   "source": [
    "We now input a causal graph in the GML graph format."
   ]
  },
  {
   "cell_type": "code",
   "execution_count": 4,
   "id": "75448222",
   "metadata": {
    "execution": {
     "iopub.execute_input": "2022-09-01T17:49:47.190052Z",
     "iopub.status.busy": "2022-09-01T17:49:47.189777Z",
     "iopub.status.idle": "2022-09-01T17:49:47.217782Z",
     "shell.execute_reply": "2022-09-01T17:49:47.217030Z"
    }
   },
   "outputs": [],
   "source": [
    "# With graph\n",
    "model=CausalModel(\n",
    "        data = df,\n",
    "        treatment=data[\"treatment_name\"],\n",
    "        outcome=data[\"outcome_name\"],\n",
    "        graph=data[\"gml_graph\"],\n",
    "        instruments=data[\"instrument_names\"]\n",
    "        )"
   ]
  },
  {
   "cell_type": "code",
   "execution_count": 5,
   "id": "053e7c34",
   "metadata": {
    "execution": {
     "iopub.execute_input": "2022-09-01T17:49:47.221708Z",
     "iopub.status.busy": "2022-09-01T17:49:47.221260Z",
     "iopub.status.idle": "2022-09-01T17:49:47.283372Z",
     "shell.execute_reply": "2022-09-01T17:49:47.282660Z"
    }
   },
   "outputs": [],
   "source": [
    "model.view_model()"
   ]
  },
  {
   "cell_type": "code",
   "execution_count": 6,
   "id": "6d576d6f",
   "metadata": {
    "execution": {
     "iopub.execute_input": "2022-09-01T17:49:47.287559Z",
     "iopub.status.busy": "2022-09-01T17:49:47.287003Z",
     "iopub.status.idle": "2022-09-01T17:49:47.315610Z",
     "shell.execute_reply": "2022-09-01T17:49:47.314783Z"
    }
   },
   "outputs": [
    {
     "data": {
      "image/png": "[encoded data removed]",
      "text/plain": [
       "<IPython.core.display.Image object>"
      ]
     },
     "metadata": {},
     "output_type": "display_data"
    }
   ],
   "source": [
    "from IPython.display import Image, display\n",
    "display(Image(filename=\"causal_model.png\"))"
   ]
  },
  {
   "cell_type": "markdown",
   "id": "d9425e74",
   "metadata": {},
   "source": [
    "We get a causal graph. Now identification and estimation is done."
   ]
  },
  {
   "cell_type": "code",
   "execution_count": 7,
   "id": "47bb025c",
   "metadata": {
    "execution": {
     "iopub.execute_input": "2022-09-01T17:49:47.320605Z",
     "iopub.status.busy": "2022-09-01T17:49:47.320067Z",
     "iopub.status.idle": "2022-09-01T17:49:47.568963Z",
     "shell.execute_reply": "2022-09-01T17:49:47.567678Z"
    }
   },
   "outputs": [
    {
     "name": "stdout",
     "output_type": "stream",
     "text": [
      "Estimand type: nonparametric-ate\n",
      "\n",
      "### Estimand : 1\n",
      "Estimand name: backdoor\n",
      "Estimand expression:\n",
      "  d                       \n",
      "─────(E[y|W1,W3,W4,W2,W0])\n",
      "d[v₀]                     \n",
      "Estimand assumption 1, Unconfoundedness: If U→{v0} and U→y then P(y|v0,W1,W3,W4,W2,W0,U) = P(y|v0,W1,W3,W4,W2,W0)\n",
      "\n",
      "### Estimand : 2\n",
      "Estimand name: iv\n",
      "Estimand expression:\n",
      " ⎡                              -1⎤\n",
      " ⎢    d        ⎛    d          ⎞  ⎥\n",
      "E⎢─────────(y)⋅⎜─────────([v₀])⎟  ⎥\n",
      " ⎣d[Z₀  Z₁]    ⎝d[Z₀  Z₁]      ⎠  ⎦\n",
      "Estimand assumption 1, As-if-random: If U→→y then ¬(U →→{Z0,Z1})\n",
      "Estimand assumption 2, Exclusion: If we remove {Z0,Z1}→{v0}, then ¬({Z0,Z1}→y)\n",
      "\n",
      "### Estimand : 3\n",
      "Estimand name: frontdoor\n",
      "No such variable(s) found!\n",
      "\n"
     ]
    }
   ],
   "source": [
    "identified_estimand = model.identify_effect(proceed_when_unidentifiable=True)\n",
    "print(identified_estimand)"
   ]
  },
  {
   "cell_type": "markdown",
   "id": "138e2549",
   "metadata": {},
   "source": [
    "## Method 1: Propensity Score Stratification\n",
    "\n",
    "We will be using propensity scores to stratify units in the data."
   ]
  },
  {
   "cell_type": "code",
   "execution_count": 8,
   "id": "b507eebc",
   "metadata": {
    "execution": {
     "iopub.execute_input": "2022-09-01T17:49:47.573039Z",
     "iopub.status.busy": "2022-09-01T17:49:47.572539Z",
     "iopub.status.idle": "2022-09-01T17:49:48.396849Z",
     "shell.execute_reply": "2022-09-01T17:49:48.395753Z"
    }
   },
   "outputs": [
    {
     "name": "stdout",
     "output_type": "stream",
     "text": [
      "*** Causal Estimate ***\n",
      "\n",
      "## Identified estimand\n",
      "Estimand type: nonparametric-ate\n",
      "\n",
      "### Estimand : 1\n",
      "Estimand name: backdoor\n",
      "Estimand expression:\n",
      "  d                       \n",
      "─────(E[y|W1,W3,W4,W2,W0])\n",
      "d[v₀]                     \n",
      "Estimand assumption 1, Unconfoundedness: If U→{v0} and U→y then P(y|v0,W1,W3,W4,W2,W0,U) = P(y|v0,W1,W3,W4,W2,W0)\n",
      "\n",
      "## Realized estimand\n",
      "b: y~v0+W1+W3+W4+W2+W0\n",
      "Target units: att\n",
      "\n",
      "## Estimate\n",
      "Mean value: 1.008404948885469\n",
      "\n",
      "Causal Estimate is 1.008404948885469\n"
     ]
    }
   ],
   "source": [
    "causal_estimate_strat = model.estimate_effect(identified_estimand,\n",
    "                                              method_name=\"backdoor.propensity_score_stratification\",\n",
    "                                              target_units=\"att\")\n",
    "print(causal_estimate_strat)\n",
    "print(\"Causal Estimate is \" + str(causal_estimate_strat.value))"
   ]
  },
  {
   "cell_type": "markdown",
   "id": "49e5c91d",
   "metadata": {},
   "source": [
    "### Textual Interpreter\n",
    "\n",
    "The textual Interpreter describes (in words) the effect of unit change in the treatment variable on the outcome variable."
   ]
  },
  {
   "cell_type": "code",
   "execution_count": 9,
   "id": "11b35e9f",
   "metadata": {
    "execution": {
     "iopub.execute_input": "2022-09-01T17:49:48.401402Z",
     "iopub.status.busy": "2022-09-01T17:49:48.400623Z",
     "iopub.status.idle": "2022-09-01T17:49:48.430395Z",
     "shell.execute_reply": "2022-09-01T17:49:48.429493Z"
    }
   },
   "outputs": [
    {
     "name": "stdout",
     "output_type": "stream",
     "text": [
      "Increasing the treatment variable(s) [v0] from 0 to 1 causes an increase of 1.008404948885469 in the expected value of the outcome [y], over the data distribution/population represented by the dataset.\n"
     ]
    }
   ],
   "source": [
    "# Textual Interpreter\n",
    "interpretation = causal_estimate_strat.interpret(method_name=\"textual_effect_interpreter\")"
   ]
  },
  {
   "cell_type": "markdown",
   "id": "ba68cc0c",
   "metadata": {},
   "source": [
    "### Visual Interpreter\n",
    "\n",
    "The visual interpreter plots the change in the standardized mean difference (SMD) before and after Propensity Score based adjustment of the dataset. The formula for SMD is given below.\n",
    "\n",
    "\n",
    "$SMD = \\frac{\\bar X_{1} - \\bar X_{2}}{\\sqrt{(S_{1}^{2} + S_{2}^{2})/2}}$\n",
    "\n",
    "Here, $\\bar X_{1}$ and $\\bar X_{2}$ are the sample mean for the treated and control groups.\n"
   ]
  },
  {
   "cell_type": "code",
   "execution_count": 10,
   "id": "b355d6fe",
   "metadata": {
    "execution": {
     "iopub.execute_input": "2022-09-01T17:49:48.434889Z",
     "iopub.status.busy": "2022-09-01T17:49:48.434366Z",
     "iopub.status.idle": "2022-09-01T17:49:49.938990Z",
     "shell.execute_reply": "2022-09-01T17:49:49.938101Z"
    }
   },
   "outputs": [
    {
     "data": {
      "image/png": "[encoded data removed]",
      "text/plain": [
       "<Figure size 640x480 with 1 Axes>"
      ]
     },
     "metadata": {},
     "output_type": "display_data"
    }
   ],
   "source": [
    "# Visual Interpreter\n",
    "interpretation = causal_estimate_strat.interpret(method_name=\"propensity_balance_interpreter\")"
   ]
  },
  {
   "cell_type": "markdown",
   "id": "dbe809af",
   "metadata": {},
   "source": [
    "This plot shows how the SMD decreases from the unadjusted to the stratified units. "
   ]
  },
  {
   "cell_type": "markdown",
   "id": "eef92eb9",
   "metadata": {},
   "source": [
    "## Method 2: Propensity Score Matching\n",
    "\n",
    "We will be using propensity scores to match units in the data."
   ]
  },
  {
   "cell_type": "code",
   "execution_count": 11,
   "id": "645542e5",
   "metadata": {
    "execution": {
     "iopub.execute_input": "2022-09-01T17:49:49.943323Z",
     "iopub.status.busy": "2022-09-01T17:49:49.942661Z",
     "iopub.status.idle": "2022-09-01T17:49:54.911338Z",
     "shell.execute_reply": "2022-09-01T17:49:54.910111Z"
    }
   },
   "outputs": [
    {
     "name": "stdout",
     "output_type": "stream",
     "text": [
      "*** Causal Estimate ***\n",
      "\n",
      "## Identified estimand\n",
      "Estimand type: nonparametric-ate\n",
      "\n",
      "### Estimand : 1\n",
      "Estimand name: backdoor\n",
      "Estimand expression:\n",
      "  d                       \n",
      "─────(E[y|W1,W3,W4,W2,W0])\n",
      "d[v₀]                     \n",
      "Estimand assumption 1, Unconfoundedness: If U→{v0} and U→y then P(y|v0,W1,W3,W4,W2,W0,U) = P(y|v0,W1,W3,W4,W2,W0)\n",
      "\n",
      "## Realized estimand\n",
      "b: y~v0+W1+W3+W4+W2+W0\n",
      "Target units: atc\n",
      "\n",
      "## Estimate\n",
      "Mean value: 0.9668632445776179\n",
      "\n",
      "Causal Estimate is 0.9668632445776179\n"
     ]
    }
   ],
   "source": [
    "causal_estimate_match = model.estimate_effect(identified_estimand,\n",
    "                                              method_name=\"backdoor.propensity_score_matching\",\n",
    "                                              target_units=\"atc\")\n",
    "print(causal_estimate_match)\n",
    "print(\"Causal Estimate is \" + str(causal_estimate_match.value))"
   ]
  },
  {
   "cell_type": "code",
   "execution_count": 12,
   "id": "b4dbf110",
   "metadata": {
    "execution": {
     "iopub.execute_input": "2022-09-01T17:49:54.915708Z",
     "iopub.status.busy": "2022-09-01T17:49:54.915230Z",
     "iopub.status.idle": "2022-09-01T17:49:54.947897Z",
     "shell.execute_reply": "2022-09-01T17:49:54.946938Z"
    }
   },
   "outputs": [
    {
     "name": "stdout",
     "output_type": "stream",
     "text": [
      "Increasing the treatment variable(s) [v0] from 0 to 1 causes an increase of 0.9668632445776179 in the expected value of the outcome [y], over the data distribution/population represented by the dataset.\n"
     ]
    }
   ],
   "source": [
    "# Textual Interpreter\n",
    "interpretation = causal_estimate_match.interpret(method_name=\"textual_effect_interpreter\")"
   ]
  },
  {
   "cell_type": "markdown",
   "id": "46f68a63",
   "metadata": {},
   "source": [
    "Cannot use propensity balance interpretor here since the interpreter method only supports propensity score stratification estimator."
   ]
  },
  {
   "cell_type": "markdown",
   "id": "ef2e272b",
   "metadata": {},
   "source": [
    "## Method 3: Weighting\n",
    "\n",
    "We will be using (inverse) propensity scores to assign weights to units in the data. DoWhy supports a few different weighting schemes:\n",
    "1. Vanilla Inverse Propensity Score weighting (IPS) (weighting_scheme=\"ips_weight\")\n",
    "2. Self-normalized IPS weighting (also known as the Hajek estimator) (weighting_scheme=\"ips_normalized_weight\")\n",
    "3. Stabilized IPS weighting (weighting_scheme = \"ips_stabilized_weight\")"
   ]
  },
  {
   "cell_type": "code",
   "execution_count": 13,
   "id": "7aca80df",
   "metadata": {
    "execution": {
     "iopub.execute_input": "2022-09-01T17:49:54.952140Z",
     "iopub.status.busy": "2022-09-01T17:49:54.951613Z",
     "iopub.status.idle": "2022-09-01T17:49:55.028809Z",
     "shell.execute_reply": "2022-09-01T17:49:55.027927Z"
    }
   },
   "outputs": [
    {
     "name": "stdout",
     "output_type": "stream",
     "text": [
      "*** Causal Estimate ***\n",
      "\n",
      "## Identified estimand\n",
      "Estimand type: nonparametric-ate\n",
      "\n",
      "### Estimand : 1\n",
      "Estimand name: backdoor\n",
      "Estimand expression:\n",
      "  d                       \n",
      "─────(E[y|W1,W3,W4,W2,W0])\n",
      "d[v₀]                     \n",
      "Estimand assumption 1, Unconfoundedness: If U→{v0} and U→y then P(y|v0,W1,W3,W4,W2,W0,U) = P(y|v0,W1,W3,W4,W2,W0)\n",
      "\n",
      "## Realized estimand\n",
      "b: y~v0+W1+W3+W4+W2+W0\n",
      "Target units: ate\n",
      "\n",
      "## Estimate\n",
      "Mean value: 1.096050977161452\n",
      "\n",
      "Causal Estimate is 1.096050977161452\n"
     ]
    }
   ],
   "source": [
    "causal_estimate_ipw = model.estimate_effect(identified_estimand,\n",
    "                                            method_name=\"backdoor.propensity_score_weighting\",\n",
    "                                            target_units = \"ate\",\n",
    "                                            method_params={\"weighting_scheme\":\"ips_weight\"})\n",
    "print(causal_estimate_ipw)\n",
    "print(\"Causal Estimate is \" + str(causal_estimate_ipw.value))"
   ]
  },
  {
   "cell_type": "code",
   "execution_count": 14,
   "id": "5d1dbb9e",
   "metadata": {
    "execution": {
     "iopub.execute_input": "2022-09-01T17:49:55.032704Z",
     "iopub.status.busy": "2022-09-01T17:49:55.032245Z",
     "iopub.status.idle": "2022-09-01T17:49:55.061550Z",
     "shell.execute_reply": "2022-09-01T17:49:55.060844Z"
    }
   },
   "outputs": [
    {
     "name": "stdout",
     "output_type": "stream",
     "text": [
      "Increasing the treatment variable(s) [v0] from 0 to 1 causes an increase of 1.096050977161452 in the expected value of the outcome [y], over the data distribution/population represented by the dataset.\n"
     ]
    }
   ],
   "source": [
    "# Textual Interpreter\n",
    "interpretation = causal_estimate_ipw.interpret(method_name=\"textual_effect_interpreter\")"
   ]
  },
  {
   "cell_type": "code",
   "execution_count": 15,
   "id": "b4885016",
   "metadata": {
    "execution": {
     "iopub.execute_input": "2022-09-01T17:49:55.065200Z",
     "iopub.status.busy": "2022-09-01T17:49:55.064667Z",
     "iopub.status.idle": "2022-09-01T17:49:55.487132Z",
     "shell.execute_reply": "2022-09-01T17:49:55.486443Z"
    }
   },
   "outputs": [
    {
     "data": {
      "image/png": "[encoded data removed]",
      "text/plain": [
       "<Figure size 800x800 with 2 Axes>"
      ]
     },
     "metadata": {},
     "output_type": "display_data"
    }
   ],
   "source": [
    "interpretation = causal_estimate_ipw.interpret(method_name=\"confounder_distribution_interpreter\", fig_size=(8,8), font_size=12, var_name='W4', var_type='discrete')"
   ]
  },
  {
   "cell_type": "code",
   "execution_count": null,
   "id": "cbcdc923",
   "metadata": {},
   "outputs": [],
   "source": []
  }
 ],
 "metadata": {
  "kernelspec": {
   "display_name": "Python 3",
   "language": "python",
   "name": "python3"
  },
  "language_info": {
   "codemirror_mode": {
    "name": "ipython",
    "version": 3
   },
   "file_extension": ".py",
   "mimetype": "text/x-python",
   "name": "python",
   "nbconvert_exporter": "python",
   "pygments_lexer": "ipython3",
   "version": "3.8.10"
  },
  "toc": {
   "base_numbering": 1,
   "nav_menu": {},
   "number_sections": false,
   "sideBar": true,
   "skip_h1_title": true,
   "title_cell": "Table of Contents",
   "title_sidebar": "Contents",
   "toc_cell": false,
   "toc_position": {},
   "toc_section_display": true,
   "toc_window_display": false
  }
 },
 "nbformat": 4,
 "nbformat_minor": 5
}
