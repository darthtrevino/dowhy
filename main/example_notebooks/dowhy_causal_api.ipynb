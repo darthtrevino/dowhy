{
 "cells": [
  {
   "cell_type": "markdown",
   "metadata": {},
   "source": [
    "# Demo for the DoWhy causal API\n",
    "We show a simple example of adding a causal extension to any dataframe. "
   ]
  },
  {
   "cell_type": "code",
   "execution_count": 1,
   "metadata": {
    "execution": {
     "iopub.execute_input": "2022-12-16T19:37:18.224884Z",
     "iopub.status.busy": "2022-12-16T19:37:18.224362Z",
     "iopub.status.idle": "2022-12-16T19:37:21.058335Z",
     "shell.execute_reply": "2022-12-16T19:37:21.057262Z"
    }
   },
   "outputs": [],
   "source": [
    "import dowhy.datasets\n",
    "import dowhy.api\n",
    "\n",
    "import numpy as np\n",
    "import pandas as pd\n",
    "\n",
    "from statsmodels.api import OLS"
   ]
  },
  {
   "cell_type": "code",
   "execution_count": 2,
   "metadata": {
    "execution": {
     "iopub.execute_input": "2022-12-16T19:37:21.064761Z",
     "iopub.status.busy": "2022-12-16T19:37:21.063885Z",
     "iopub.status.idle": "2022-12-16T19:37:21.137545Z",
     "shell.execute_reply": "2022-12-16T19:37:21.136468Z"
    }
   },
   "outputs": [
    {
     "data": {
      "text/html": [
       "<div>\n",
       "<style scoped>\n",
       "    .dataframe tbody tr th:only-of-type {\n",
       "        vertical-align: middle;\n",
       "    }\n",
       "\n",
       "    .dataframe tbody tr th {\n",
       "        vertical-align: top;\n",
       "    }\n",
       "\n",
       "    .dataframe thead th {\n",
       "        text-align: right;\n",
       "    }\n",
       "</style>\n",
       "<table border=\"1\" class=\"dataframe\">\n",
       "  <thead>\n",
       "    <tr style=\"text-align: right;\">\n",
       "      <th></th>\n",
       "      <th>W0</th>\n",
       "      <th>v0</th>\n",
       "      <th>y</th>\n",
       "    </tr>\n",
       "  </thead>\n",
       "  <tbody>\n",
       "    <tr>\n",
       "      <th>0</th>\n",
       "      <td>0.076236</td>\n",
       "      <td>True</td>\n",
       "      <td>5.553473</td>\n",
       "    </tr>\n",
       "    <tr>\n",
       "      <th>1</th>\n",
       "      <td>0.060844</td>\n",
       "      <td>False</td>\n",
       "      <td>0.368952</td>\n",
       "    </tr>\n",
       "    <tr>\n",
       "      <th>2</th>\n",
       "      <td>-0.028633</td>\n",
       "      <td>False</td>\n",
       "      <td>-0.494726</td>\n",
       "    </tr>\n",
       "    <tr>\n",
       "      <th>3</th>\n",
       "      <td>-1.427719</td>\n",
       "      <td>True</td>\n",
       "      <td>5.404953</td>\n",
       "    </tr>\n",
       "    <tr>\n",
       "      <th>4</th>\n",
       "      <td>-0.671959</td>\n",
       "      <td>False</td>\n",
       "      <td>-1.001133</td>\n",
       "    </tr>\n",
       "    <tr>\n",
       "      <th>...</th>\n",
       "      <td>...</td>\n",
       "      <td>...</td>\n",
       "      <td>...</td>\n",
       "    </tr>\n",
       "    <tr>\n",
       "      <th>995</th>\n",
       "      <td>0.700718</td>\n",
       "      <td>True</td>\n",
       "      <td>5.251570</td>\n",
       "    </tr>\n",
       "    <tr>\n",
       "      <th>996</th>\n",
       "      <td>0.946380</td>\n",
       "      <td>True</td>\n",
       "      <td>7.180262</td>\n",
       "    </tr>\n",
       "    <tr>\n",
       "      <th>997</th>\n",
       "      <td>-0.004310</td>\n",
       "      <td>True</td>\n",
       "      <td>4.482246</td>\n",
       "    </tr>\n",
       "    <tr>\n",
       "      <th>998</th>\n",
       "      <td>0.618509</td>\n",
       "      <td>True</td>\n",
       "      <td>4.455502</td>\n",
       "    </tr>\n",
       "    <tr>\n",
       "      <th>999</th>\n",
       "      <td>-1.381954</td>\n",
       "      <td>False</td>\n",
       "      <td>-0.086505</td>\n",
       "    </tr>\n",
       "  </tbody>\n",
       "</table>\n",
       "<p>1000 rows × 3 columns</p>\n",
       "</div>"
      ],
      "text/plain": [
       "           W0     v0         y\n",
       "0    0.076236   True  5.553473\n",
       "1    0.060844  False  0.368952\n",
       "2   -0.028633  False -0.494726\n",
       "3   -1.427719   True  5.404953\n",
       "4   -0.671959  False -1.001133\n",
       "..        ...    ...       ...\n",
       "995  0.700718   True  5.251570\n",
       "996  0.946380   True  7.180262\n",
       "997 -0.004310   True  4.482246\n",
       "998  0.618509   True  4.455502\n",
       "999 -1.381954  False -0.086505\n",
       "\n",
       "[1000 rows x 3 columns]"
      ]
     },
     "execution_count": 2,
     "metadata": {},
     "output_type": "execute_result"
    }
   ],
   "source": [
    "data = dowhy.datasets.linear_dataset(beta=5,\n",
    "        num_common_causes=1,\n",
    "        num_instruments = 0,\n",
    "        num_samples=1000,\n",
    "        treatment_is_binary=True)\n",
    "df = data['df']\n",
    "df['y'] = df['y'] + np.random.normal(size=len(df)) # Adding noise to data. Without noise, the variance in Y|X, Z is zero, and mcmc fails.\n",
    "#data['dot_graph'] = 'digraph { v ->y;X0-> v;X0-> y;}'\n",
    "\n",
    "treatment= data[\"treatment_name\"][0]\n",
    "outcome = data[\"outcome_name\"][0]\n",
    "common_cause = data[\"common_causes_names\"][0]\n",
    "df"
   ]
  },
  {
   "cell_type": "code",
   "execution_count": 3,
   "metadata": {
    "execution": {
     "iopub.execute_input": "2022-12-16T19:37:21.142206Z",
     "iopub.status.busy": "2022-12-16T19:37:21.141915Z",
     "iopub.status.idle": "2022-12-16T19:37:21.380623Z",
     "shell.execute_reply": "2022-12-16T19:37:21.379675Z"
    }
   },
   "outputs": [
    {
     "data": {
      "text/plain": [
       "<AxesSubplot: xlabel='v0'>"
      ]
     },
     "execution_count": 3,
     "metadata": {},
     "output_type": "execute_result"
    },
    {
     "data": {
      "image/png": "[encoded data removed]",
      "text/plain": [
       "<Figure size 640x480 with 1 Axes>"
      ]
     },
     "metadata": {},
     "output_type": "display_data"
    }
   ],
   "source": [
    "# data['df'] is just a regular pandas.DataFrame\n",
    "df.causal.do(x=treatment,\n",
    "                     variable_types={treatment: 'b', outcome: 'c', common_cause: 'c'},\n",
    "                     outcome=outcome,\n",
    "                     common_causes=[common_cause],\n",
    "                     proceed_when_unidentifiable=True).groupby(treatment).mean().plot(y=outcome, kind='bar')"
   ]
  },
  {
   "cell_type": "code",
   "execution_count": 4,
   "metadata": {
    "execution": {
     "iopub.execute_input": "2022-12-16T19:37:21.384831Z",
     "iopub.status.busy": "2022-12-16T19:37:21.384352Z",
     "iopub.status.idle": "2022-12-16T19:37:21.570671Z",
     "shell.execute_reply": "2022-12-16T19:37:21.568392Z"
    }
   },
   "outputs": [
    {
     "data": {
      "text/plain": [
       "<AxesSubplot: xlabel='v0'>"
      ]
     },
     "execution_count": 4,
     "metadata": {},
     "output_type": "execute_result"
    },
    {
     "data": {
      "image/png": "[encoded data removed]",
      "text/plain": [
       "<Figure size 640x480 with 1 Axes>"
      ]
     },
     "metadata": {},
     "output_type": "display_data"
    }
   ],
   "source": [
    "df.causal.do(x={treatment: 1}, \n",
    "              variable_types={treatment:'b', outcome: 'c', common_cause: 'c'}, \n",
    "              outcome=outcome,\n",
    "              method='weighting', \n",
    "              common_causes=[common_cause],\n",
    "              proceed_when_unidentifiable=True).groupby(treatment).mean().plot(y=outcome, kind='bar')"
   ]
  },
  {
   "cell_type": "code",
   "execution_count": 5,
   "metadata": {
    "execution": {
     "iopub.execute_input": "2022-12-16T19:37:21.574919Z",
     "iopub.status.busy": "2022-12-16T19:37:21.574362Z",
     "iopub.status.idle": "2022-12-16T19:37:21.620218Z",
     "shell.execute_reply": "2022-12-16T19:37:21.619210Z"
    }
   },
   "outputs": [],
   "source": [
    "cdf_1 = df.causal.do(x={treatment: 1}, \n",
    "              variable_types={treatment: 'b', outcome: 'c', common_cause: 'c'}, \n",
    "              outcome=outcome, \n",
    "              dot_graph=data['dot_graph'],\n",
    "              proceed_when_unidentifiable=True)\n",
    "\n",
    "cdf_0 = df.causal.do(x={treatment: 0}, \n",
    "              variable_types={treatment: 'b', outcome: 'c', common_cause: 'c'}, \n",
    "              outcome=outcome, \n",
    "              dot_graph=data['dot_graph'],\n",
    "              proceed_when_unidentifiable=True)\n"
   ]
  },
  {
   "cell_type": "code",
   "execution_count": 6,
   "metadata": {
    "execution": {
     "iopub.execute_input": "2022-12-16T19:37:21.624101Z",
     "iopub.status.busy": "2022-12-16T19:37:21.623790Z",
     "iopub.status.idle": "2022-12-16T19:37:21.639717Z",
     "shell.execute_reply": "2022-12-16T19:37:21.638106Z"
    },
    "scrolled": true
   },
   "outputs": [
    {
     "data": {
      "text/html": [
       "<div>\n",
       "<style scoped>\n",
       "    .dataframe tbody tr th:only-of-type {\n",
       "        vertical-align: middle;\n",
       "    }\n",
       "\n",
       "    .dataframe tbody tr th {\n",
       "        vertical-align: top;\n",
       "    }\n",
       "\n",
       "    .dataframe thead th {\n",
       "        text-align: right;\n",
       "    }\n",
       "</style>\n",
       "<table border=\"1\" class=\"dataframe\">\n",
       "  <thead>\n",
       "    <tr style=\"text-align: right;\">\n",
       "      <th></th>\n",
       "      <th>W0</th>\n",
       "      <th>v0</th>\n",
       "      <th>y</th>\n",
       "      <th>propensity_score</th>\n",
       "      <th>weight</th>\n",
       "    </tr>\n",
       "  </thead>\n",
       "  <tbody>\n",
       "    <tr>\n",
       "      <th>0</th>\n",
       "      <td>-0.352919</td>\n",
       "      <td>False</td>\n",
       "      <td>0.446923</td>\n",
       "      <td>0.584806</td>\n",
       "      <td>1.709968</td>\n",
       "    </tr>\n",
       "    <tr>\n",
       "      <th>1</th>\n",
       "      <td>0.814069</td>\n",
       "      <td>False</td>\n",
       "      <td>0.333252</td>\n",
       "      <td>0.282563</td>\n",
       "      <td>3.539036</td>\n",
       "    </tr>\n",
       "    <tr>\n",
       "      <th>2</th>\n",
       "      <td>-2.343394</td>\n",
       "      <td>False</td>\n",
       "      <td>1.050524</td>\n",
       "      <td>0.925262</td>\n",
       "      <td>1.080776</td>\n",
       "    </tr>\n",
       "    <tr>\n",
       "      <th>3</th>\n",
       "      <td>0.828998</td>\n",
       "      <td>False</td>\n",
       "      <td>-0.382004</td>\n",
       "      <td>0.279270</td>\n",
       "      <td>3.580766</td>\n",
       "    </tr>\n",
       "    <tr>\n",
       "      <th>4</th>\n",
       "      <td>1.064405</td>\n",
       "      <td>False</td>\n",
       "      <td>0.701340</td>\n",
       "      <td>0.230561</td>\n",
       "      <td>4.337242</td>\n",
       "    </tr>\n",
       "    <tr>\n",
       "      <th>...</th>\n",
       "      <td>...</td>\n",
       "      <td>...</td>\n",
       "      <td>...</td>\n",
       "      <td>...</td>\n",
       "      <td>...</td>\n",
       "    </tr>\n",
       "    <tr>\n",
       "      <th>995</th>\n",
       "      <td>0.895503</td>\n",
       "      <td>False</td>\n",
       "      <td>0.163814</td>\n",
       "      <td>0.264889</td>\n",
       "      <td>3.775160</td>\n",
       "    </tr>\n",
       "    <tr>\n",
       "      <th>996</th>\n",
       "      <td>2.014276</td>\n",
       "      <td>False</td>\n",
       "      <td>-0.379485</td>\n",
       "      <td>0.096009</td>\n",
       "      <td>10.415706</td>\n",
       "    </tr>\n",
       "    <tr>\n",
       "      <th>997</th>\n",
       "      <td>-0.376085</td>\n",
       "      <td>False</td>\n",
       "      <td>-0.769199</td>\n",
       "      <td>0.590935</td>\n",
       "      <td>1.692233</td>\n",
       "    </tr>\n",
       "    <tr>\n",
       "      <th>998</th>\n",
       "      <td>1.836714</td>\n",
       "      <td>False</td>\n",
       "      <td>1.371098</td>\n",
       "      <td>0.114205</td>\n",
       "      <td>8.756149</td>\n",
       "    </tr>\n",
       "    <tr>\n",
       "      <th>999</th>\n",
       "      <td>0.428957</td>\n",
       "      <td>False</td>\n",
       "      <td>-0.634386</td>\n",
       "      <td>0.374900</td>\n",
       "      <td>2.667378</td>\n",
       "    </tr>\n",
       "  </tbody>\n",
       "</table>\n",
       "<p>1000 rows × 5 columns</p>\n",
       "</div>"
      ],
      "text/plain": [
       "           W0     v0         y  propensity_score     weight\n",
       "0   -0.352919  False  0.446923          0.584806   1.709968\n",
       "1    0.814069  False  0.333252          0.282563   3.539036\n",
       "2   -2.343394  False  1.050524          0.925262   1.080776\n",
       "3    0.828998  False -0.382004          0.279270   3.580766\n",
       "4    1.064405  False  0.701340          0.230561   4.337242\n",
       "..        ...    ...       ...               ...        ...\n",
       "995  0.895503  False  0.163814          0.264889   3.775160\n",
       "996  2.014276  False -0.379485          0.096009  10.415706\n",
       "997 -0.376085  False -0.769199          0.590935   1.692233\n",
       "998  1.836714  False  1.371098          0.114205   8.756149\n",
       "999  0.428957  False -0.634386          0.374900   2.667378\n",
       "\n",
       "[1000 rows x 5 columns]"
      ]
     },
     "execution_count": 6,
     "metadata": {},
     "output_type": "execute_result"
    }
   ],
   "source": [
    "cdf_0"
   ]
  },
  {
   "cell_type": "code",
   "execution_count": 7,
   "metadata": {
    "execution": {
     "iopub.execute_input": "2022-12-16T19:37:21.649442Z",
     "iopub.status.busy": "2022-12-16T19:37:21.648934Z",
     "iopub.status.idle": "2022-12-16T19:37:21.665314Z",
     "shell.execute_reply": "2022-12-16T19:37:21.664432Z"
    }
   },
   "outputs": [
    {
     "data": {
      "text/html": [
       "<div>\n",
       "<style scoped>\n",
       "    .dataframe tbody tr th:only-of-type {\n",
       "        vertical-align: middle;\n",
       "    }\n",
       "\n",
       "    .dataframe tbody tr th {\n",
       "        vertical-align: top;\n",
       "    }\n",
       "\n",
       "    .dataframe thead th {\n",
       "        text-align: right;\n",
       "    }\n",
       "</style>\n",
       "<table border=\"1\" class=\"dataframe\">\n",
       "  <thead>\n",
       "    <tr style=\"text-align: right;\">\n",
       "      <th></th>\n",
       "      <th>W0</th>\n",
       "      <th>v0</th>\n",
       "      <th>y</th>\n",
       "      <th>propensity_score</th>\n",
       "      <th>weight</th>\n",
       "    </tr>\n",
       "  </thead>\n",
       "  <tbody>\n",
       "    <tr>\n",
       "      <th>0</th>\n",
       "      <td>1.303760</td>\n",
       "      <td>True</td>\n",
       "      <td>5.675314</td>\n",
       "      <td>0.812527</td>\n",
       "      <td>1.230728</td>\n",
       "    </tr>\n",
       "    <tr>\n",
       "      <th>1</th>\n",
       "      <td>1.436695</td>\n",
       "      <td>True</td>\n",
       "      <td>6.111159</td>\n",
       "      <td>0.833644</td>\n",
       "      <td>1.199553</td>\n",
       "    </tr>\n",
       "    <tr>\n",
       "      <th>2</th>\n",
       "      <td>0.631619</td>\n",
       "      <td>True</td>\n",
       "      <td>6.052427</td>\n",
       "      <td>0.675366</td>\n",
       "      <td>1.480680</td>\n",
       "    </tr>\n",
       "    <tr>\n",
       "      <th>3</th>\n",
       "      <td>0.354007</td>\n",
       "      <td>True</td>\n",
       "      <td>6.152660</td>\n",
       "      <td>0.605733</td>\n",
       "      <td>1.650893</td>\n",
       "    </tr>\n",
       "    <tr>\n",
       "      <th>4</th>\n",
       "      <td>-2.741986</td>\n",
       "      <td>True</td>\n",
       "      <td>2.913577</td>\n",
       "      <td>0.049674</td>\n",
       "      <td>20.131449</td>\n",
       "    </tr>\n",
       "    <tr>\n",
       "      <th>...</th>\n",
       "      <td>...</td>\n",
       "      <td>...</td>\n",
       "      <td>...</td>\n",
       "      <td>...</td>\n",
       "      <td>...</td>\n",
       "    </tr>\n",
       "    <tr>\n",
       "      <th>995</th>\n",
       "      <td>0.721921</td>\n",
       "      <td>True</td>\n",
       "      <td>5.594780</td>\n",
       "      <td>0.696601</td>\n",
       "      <td>1.435543</td>\n",
       "    </tr>\n",
       "    <tr>\n",
       "      <th>996</th>\n",
       "      <td>1.337709</td>\n",
       "      <td>True</td>\n",
       "      <td>3.280717</td>\n",
       "      <td>0.818109</td>\n",
       "      <td>1.222331</td>\n",
       "    </tr>\n",
       "    <tr>\n",
       "      <th>997</th>\n",
       "      <td>-2.741986</td>\n",
       "      <td>True</td>\n",
       "      <td>2.913577</td>\n",
       "      <td>0.049674</td>\n",
       "      <td>20.131449</td>\n",
       "    </tr>\n",
       "    <tr>\n",
       "      <th>998</th>\n",
       "      <td>1.812561</td>\n",
       "      <td>True</td>\n",
       "      <td>5.540571</td>\n",
       "      <td>0.883099</td>\n",
       "      <td>1.132376</td>\n",
       "    </tr>\n",
       "    <tr>\n",
       "      <th>999</th>\n",
       "      <td>0.124867</td>\n",
       "      <td>True</td>\n",
       "      <td>5.605328</td>\n",
       "      <td>0.544679</td>\n",
       "      <td>1.835943</td>\n",
       "    </tr>\n",
       "  </tbody>\n",
       "</table>\n",
       "<p>1000 rows × 5 columns</p>\n",
       "</div>"
      ],
      "text/plain": [
       "           W0    v0         y  propensity_score     weight\n",
       "0    1.303760  True  5.675314          0.812527   1.230728\n",
       "1    1.436695  True  6.111159          0.833644   1.199553\n",
       "2    0.631619  True  6.052427          0.675366   1.480680\n",
       "3    0.354007  True  6.152660          0.605733   1.650893\n",
       "4   -2.741986  True  2.913577          0.049674  20.131449\n",
       "..        ...   ...       ...               ...        ...\n",
       "995  0.721921  True  5.594780          0.696601   1.435543\n",
       "996  1.337709  True  3.280717          0.818109   1.222331\n",
       "997 -2.741986  True  2.913577          0.049674  20.131449\n",
       "998  1.812561  True  5.540571          0.883099   1.132376\n",
       "999  0.124867  True  5.605328          0.544679   1.835943\n",
       "\n",
       "[1000 rows x 5 columns]"
      ]
     },
     "execution_count": 7,
     "metadata": {},
     "output_type": "execute_result"
    }
   ],
   "source": [
    "cdf_1"
   ]
  },
  {
   "cell_type": "markdown",
   "metadata": {},
   "source": [
    "## Comparing the estimate to Linear Regression\n",
    "First, estimating the effect using the causal data frame, and the 95% confidence interval."
   ]
  },
  {
   "cell_type": "code",
   "execution_count": 8,
   "metadata": {
    "execution": {
     "iopub.execute_input": "2022-12-16T19:37:21.670812Z",
     "iopub.status.busy": "2022-12-16T19:37:21.670519Z",
     "iopub.status.idle": "2022-12-16T19:37:21.748510Z",
     "shell.execute_reply": "2022-12-16T19:37:21.747538Z"
    }
   },
   "outputs": [
    {
     "data": {
      "image/png": "[encoded data removed]",
      "text/latex": [
       "$\\displaystyle 5.06489946748145$"
      ],
      "text/plain": [
       "5.064899467481455"
      ]
     },
     "execution_count": 8,
     "metadata": {},
     "output_type": "execute_result"
    }
   ],
   "source": [
    "(cdf_1['y'] - cdf_0['y']).mean()"
   ]
  },
  {
   "cell_type": "code",
   "execution_count": 9,
   "metadata": {
    "execution": {
     "iopub.execute_input": "2022-12-16T19:37:21.757838Z",
     "iopub.status.busy": "2022-12-16T19:37:21.756415Z",
     "iopub.status.idle": "2022-12-16T19:37:21.791005Z",
     "shell.execute_reply": "2022-12-16T19:37:21.790139Z"
    }
   },
   "outputs": [
    {
     "data": {
      "image/png": "[encoded data removed]",
      "text/latex": [
       "$\\displaystyle 0.0887509312439617$"
      ],
      "text/plain": [
       "0.08875093124396174"
      ]
     },
     "execution_count": 9,
     "metadata": {},
     "output_type": "execute_result"
    }
   ],
   "source": [
    "1.96*(cdf_1['y'] - cdf_0['y']).std() / np.sqrt(len(df))"
   ]
  },
  {
   "cell_type": "markdown",
   "metadata": {},
   "source": [
    "Comparing to the estimate from OLS."
   ]
  },
  {
   "cell_type": "code",
   "execution_count": 10,
   "metadata": {
    "execution": {
     "iopub.execute_input": "2022-12-16T19:37:21.795706Z",
     "iopub.status.busy": "2022-12-16T19:37:21.795280Z",
     "iopub.status.idle": "2022-12-16T19:37:21.819585Z",
     "shell.execute_reply": "2022-12-16T19:37:21.818401Z"
    }
   },
   "outputs": [
    {
     "data": {
      "text/html": [
       "<table class=\"simpletable\">\n",
       "<caption>OLS Regression Results</caption>\n",
       "<tr>\n",
       "  <th>Dep. Variable:</th>            <td>y</td>        <th>  R-squared (uncentered):</th>      <td>   0.942</td>\n",
       "</tr>\n",
       "<tr>\n",
       "  <th>Model:</th>                   <td>OLS</td>       <th>  Adj. R-squared (uncentered):</th> <td>   0.941</td>\n",
       "</tr>\n",
       "<tr>\n",
       "  <th>Method:</th>             <td>Least Squares</td>  <th>  F-statistic:       </th>          <td>   8038.</td>\n",
       "</tr>\n",
       "<tr>\n",
       "  <th>Date:</th>             <td>Fri, 16 Dec 2022</td> <th>  Prob (F-statistic):</th>           <td>  0.00</td> \n",
       "</tr>\n",
       "<tr>\n",
       "  <th>Time:</th>                 <td>19:37:21</td>     <th>  Log-Likelihood:    </th>          <td> -1410.4</td>\n",
       "</tr>\n",
       "<tr>\n",
       "  <th>No. Observations:</th>      <td>  1000</td>      <th>  AIC:               </th>          <td>   2825.</td>\n",
       "</tr>\n",
       "<tr>\n",
       "  <th>Df Residuals:</th>          <td>   998</td>      <th>  BIC:               </th>          <td>   2835.</td>\n",
       "</tr>\n",
       "<tr>\n",
       "  <th>Df Model:</th>              <td>     2</td>      <th>                     </th>              <td> </td>   \n",
       "</tr>\n",
       "<tr>\n",
       "  <th>Covariance Type:</th>      <td>nonrobust</td>    <th>                     </th>              <td> </td>   \n",
       "</tr>\n",
       "</table>\n",
       "<table class=\"simpletable\">\n",
       "<tr>\n",
       "   <td></td>     <th>coef</th>     <th>std err</th>      <th>t</th>      <th>P>|t|</th>  <th>[0.025</th>    <th>0.975]</th>  \n",
       "</tr>\n",
       "<tr>\n",
       "  <th>x1</th> <td>    0.2405</td> <td>    0.036</td> <td>    6.761</td> <td> 0.000</td> <td>    0.171</td> <td>    0.310</td>\n",
       "</tr>\n",
       "<tr>\n",
       "  <th>x2</th> <td>    5.0122</td> <td>    0.048</td> <td>  104.315</td> <td> 0.000</td> <td>    4.918</td> <td>    5.106</td>\n",
       "</tr>\n",
       "</table>\n",
       "<table class=\"simpletable\">\n",
       "<tr>\n",
       "  <th>Omnibus:</th>       <td> 1.561</td> <th>  Durbin-Watson:     </th> <td>   1.932</td>\n",
       "</tr>\n",
       "<tr>\n",
       "  <th>Prob(Omnibus):</th> <td> 0.458</td> <th>  Jarque-Bera (JB):  </th> <td>   1.428</td>\n",
       "</tr>\n",
       "<tr>\n",
       "  <th>Skew:</th>          <td>-0.062</td> <th>  Prob(JB):          </th> <td>   0.490</td>\n",
       "</tr>\n",
       "<tr>\n",
       "  <th>Kurtosis:</th>      <td> 3.137</td> <th>  Cond. No.          </th> <td>    1.94</td>\n",
       "</tr>\n",
       "</table><br/><br/>Notes:<br/>[1] R² is computed without centering (uncentered) since the model does not contain a constant.<br/>[2] Standard Errors assume that the covariance matrix of the errors is correctly specified."
      ],
      "text/plain": [
       "<class 'statsmodels.iolib.summary.Summary'>\n",
       "\"\"\"\n",
       "                                 OLS Regression Results                                \n",
       "=======================================================================================\n",
       "Dep. Variable:                      y   R-squared (uncentered):                   0.942\n",
       "Model:                            OLS   Adj. R-squared (uncentered):              0.941\n",
       "Method:                 Least Squares   F-statistic:                              8038.\n",
       "Date:                Fri, 16 Dec 2022   Prob (F-statistic):                        0.00\n",
       "Time:                        19:37:21   Log-Likelihood:                         -1410.4\n",
       "No. Observations:                1000   AIC:                                      2825.\n",
       "Df Residuals:                     998   BIC:                                      2835.\n",
       "Df Model:                           2                                                  \n",
       "Covariance Type:            nonrobust                                                  \n",
       "==============================================================================\n",
       "                 coef    std err          t      P>|t|      [0.025      0.975]\n",
       "------------------------------------------------------------------------------\n",
       "x1             0.2405      0.036      6.761      0.000       0.171       0.310\n",
       "x2             5.0122      0.048    104.315      0.000       4.918       5.106\n",
       "==============================================================================\n",
       "Omnibus:                        1.561   Durbin-Watson:                   1.932\n",
       "Prob(Omnibus):                  0.458   Jarque-Bera (JB):                1.428\n",
       "Skew:                          -0.062   Prob(JB):                        0.490\n",
       "Kurtosis:                       3.137   Cond. No.                         1.94\n",
       "==============================================================================\n",
       "\n",
       "Notes:\n",
       "[1] R² is computed without centering (uncentered) since the model does not contain a constant.\n",
       "[2] Standard Errors assume that the covariance matrix of the errors is correctly specified.\n",
       "\"\"\""
      ]
     },
     "execution_count": 10,
     "metadata": {},
     "output_type": "execute_result"
    }
   ],
   "source": [
    "model = OLS(np.asarray(df[outcome]), np.asarray(df[[common_cause, treatment]], dtype=np.float64))\n",
    "result = model.fit()\n",
    "result.summary()"
   ]
  }
 ],
 "metadata": {
  "kernelspec": {
   "display_name": "Python 3",
   "language": "python",
   "name": "python3"
  },
  "language_info": {
   "codemirror_mode": {
    "name": "ipython",
    "version": 3
   },
   "file_extension": ".py",
   "mimetype": "text/x-python",
   "name": "python",
   "nbconvert_exporter": "python",
   "pygments_lexer": "ipython3",
   "version": "3.8.10"
  },
  "toc": {
   "base_numbering": 1,
   "nav_menu": {},
   "number_sections": false,
   "sideBar": true,
   "skip_h1_title": true,
   "title_cell": "Table of Contents",
   "title_sidebar": "Contents",
   "toc_cell": false,
   "toc_position": {},
   "toc_section_display": true,
   "toc_window_display": false
  }
 },
 "nbformat": 4,
 "nbformat_minor": 4
}
