{
 "cells": [
  {
   "cell_type": "markdown",
   "metadata": {},
   "source": [
    "# Demo for the DoWhy causal API\n",
    "We show a simple example of adding a causal extension to any dataframe. "
   ]
  },
  {
   "cell_type": "code",
   "execution_count": 1,
   "metadata": {
    "execution": {
     "iopub.execute_input": "2022-08-12T22:56:23.086131Z",
     "iopub.status.busy": "2022-08-12T22:56:23.085869Z",
     "iopub.status.idle": "2022-08-12T22:56:24.158761Z",
     "shell.execute_reply": "2022-08-12T22:56:24.158111Z"
    }
   },
   "outputs": [],
   "source": [
    "import dowhy.datasets\n",
    "import dowhy.api\n",
    "\n",
    "import numpy as np\n",
    "import pandas as pd\n",
    "\n",
    "from statsmodels.api import OLS"
   ]
  },
  {
   "cell_type": "code",
   "execution_count": 2,
   "metadata": {
    "execution": {
     "iopub.execute_input": "2022-08-12T22:56:24.162683Z",
     "iopub.status.busy": "2022-08-12T22:56:24.162061Z",
     "iopub.status.idle": "2022-08-12T22:56:24.203552Z",
     "shell.execute_reply": "2022-08-12T22:56:24.202968Z"
    }
   },
   "outputs": [
    {
     "data": {
      "text/html": [
       "<div>\n",
       "<style scoped>\n",
       "    .dataframe tbody tr th:only-of-type {\n",
       "        vertical-align: middle;\n",
       "    }\n",
       "\n",
       "    .dataframe tbody tr th {\n",
       "        vertical-align: top;\n",
       "    }\n",
       "\n",
       "    .dataframe thead th {\n",
       "        text-align: right;\n",
       "    }\n",
       "</style>\n",
       "<table border=\"1\" class=\"dataframe\">\n",
       "  <thead>\n",
       "    <tr style=\"text-align: right;\">\n",
       "      <th></th>\n",
       "      <th>W0</th>\n",
       "      <th>v0</th>\n",
       "      <th>y</th>\n",
       "    </tr>\n",
       "  </thead>\n",
       "  <tbody>\n",
       "    <tr>\n",
       "      <th>0</th>\n",
       "      <td>-0.905018</td>\n",
       "      <td>False</td>\n",
       "      <td>-2.433148</td>\n",
       "    </tr>\n",
       "    <tr>\n",
       "      <th>1</th>\n",
       "      <td>-0.124547</td>\n",
       "      <td>True</td>\n",
       "      <td>3.915287</td>\n",
       "    </tr>\n",
       "    <tr>\n",
       "      <th>2</th>\n",
       "      <td>0.089758</td>\n",
       "      <td>True</td>\n",
       "      <td>6.179269</td>\n",
       "    </tr>\n",
       "    <tr>\n",
       "      <th>3</th>\n",
       "      <td>-0.484915</td>\n",
       "      <td>False</td>\n",
       "      <td>-1.054701</td>\n",
       "    </tr>\n",
       "    <tr>\n",
       "      <th>4</th>\n",
       "      <td>-1.626700</td>\n",
       "      <td>False</td>\n",
       "      <td>-4.806516</td>\n",
       "    </tr>\n",
       "    <tr>\n",
       "      <th>...</th>\n",
       "      <td>...</td>\n",
       "      <td>...</td>\n",
       "      <td>...</td>\n",
       "    </tr>\n",
       "    <tr>\n",
       "      <th>995</th>\n",
       "      <td>-0.715328</td>\n",
       "      <td>False</td>\n",
       "      <td>-2.540384</td>\n",
       "    </tr>\n",
       "    <tr>\n",
       "      <th>996</th>\n",
       "      <td>0.786575</td>\n",
       "      <td>True</td>\n",
       "      <td>7.502960</td>\n",
       "    </tr>\n",
       "    <tr>\n",
       "      <th>997</th>\n",
       "      <td>-0.097893</td>\n",
       "      <td>True</td>\n",
       "      <td>4.660949</td>\n",
       "    </tr>\n",
       "    <tr>\n",
       "      <th>998</th>\n",
       "      <td>-0.615763</td>\n",
       "      <td>True</td>\n",
       "      <td>1.487344</td>\n",
       "    </tr>\n",
       "    <tr>\n",
       "      <th>999</th>\n",
       "      <td>-1.347555</td>\n",
       "      <td>False</td>\n",
       "      <td>-2.799493</td>\n",
       "    </tr>\n",
       "  </tbody>\n",
       "</table>\n",
       "<p>1000 rows × 3 columns</p>\n",
       "</div>"
      ],
      "text/plain": [
       "           W0     v0         y\n",
       "0   -0.905018  False -2.433148\n",
       "1   -0.124547   True  3.915287\n",
       "2    0.089758   True  6.179269\n",
       "3   -0.484915  False -1.054701\n",
       "4   -1.626700  False -4.806516\n",
       "..        ...    ...       ...\n",
       "995 -0.715328  False -2.540384\n",
       "996  0.786575   True  7.502960\n",
       "997 -0.097893   True  4.660949\n",
       "998 -0.615763   True  1.487344\n",
       "999 -1.347555  False -2.799493\n",
       "\n",
       "[1000 rows x 3 columns]"
      ]
     },
     "execution_count": 2,
     "metadata": {},
     "output_type": "execute_result"
    }
   ],
   "source": [
    "data = dowhy.datasets.linear_dataset(beta=5,\n",
    "        num_common_causes=1,\n",
    "        num_instruments = 0,\n",
    "        num_samples=1000,\n",
    "        treatment_is_binary=True)\n",
    "df = data['df']\n",
    "df['y'] = df['y'] + np.random.normal(size=len(df)) # Adding noise to data. Without noise, the variance in Y|X, Z is zero, and mcmc fails.\n",
    "#data['dot_graph'] = 'digraph { v ->y;X0-> v;X0-> y;}'\n",
    "\n",
    "treatment= data[\"treatment_name\"][0]\n",
    "outcome = data[\"outcome_name\"][0]\n",
    "common_cause = data[\"common_causes_names\"][0]\n",
    "df"
   ]
  },
  {
   "cell_type": "code",
   "execution_count": 3,
   "metadata": {
    "execution": {
     "iopub.execute_input": "2022-08-12T22:56:24.206305Z",
     "iopub.status.busy": "2022-08-12T22:56:24.206075Z",
     "iopub.status.idle": "2022-08-12T22:56:24.926480Z",
     "shell.execute_reply": "2022-08-12T22:56:24.925922Z"
    }
   },
   "outputs": [
    {
     "data": {
      "text/plain": [
       "<AxesSubplot:xlabel='v0'>"
      ]
     },
     "execution_count": 3,
     "metadata": {},
     "output_type": "execute_result"
    },
    {
     "data": {
      "image/png": "[encoded data removed]",
      "text/plain": [
       "<Figure size 432x288 with 1 Axes>"
      ]
     },
     "metadata": {
      "needs_background": "light"
     },
     "output_type": "display_data"
    }
   ],
   "source": [
    "# data['df'] is just a regular pandas.DataFrame\n",
    "df.causal.do(x=treatment,\n",
    "                     variable_types={treatment: 'b', outcome: 'c', common_cause: 'c'},\n",
    "                     outcome=outcome,\n",
    "                     common_causes=[common_cause],\n",
    "                     proceed_when_unidentifiable=True).groupby(treatment).mean().plot(y=outcome, kind='bar')"
   ]
  },
  {
   "cell_type": "code",
   "execution_count": 4,
   "metadata": {
    "execution": {
     "iopub.execute_input": "2022-08-12T22:56:24.929991Z",
     "iopub.status.busy": "2022-08-12T22:56:24.929449Z",
     "iopub.status.idle": "2022-08-12T22:56:25.023372Z",
     "shell.execute_reply": "2022-08-12T22:56:25.022871Z"
    }
   },
   "outputs": [
    {
     "data": {
      "text/plain": [
       "<AxesSubplot:xlabel='v0'>"
      ]
     },
     "execution_count": 4,
     "metadata": {},
     "output_type": "execute_result"
    },
    {
     "data": {
      "image/png": "[encoded data removed]",
      "text/plain": [
       "<Figure size 432x288 with 1 Axes>"
      ]
     },
     "metadata": {
      "needs_background": "light"
     },
     "output_type": "display_data"
    }
   ],
   "source": [
    "df.causal.do(x={treatment: 1}, \n",
    "              variable_types={treatment:'b', outcome: 'c', common_cause: 'c'}, \n",
    "              outcome=outcome,\n",
    "              method='weighting', \n",
    "              common_causes=[common_cause],\n",
    "              proceed_when_unidentifiable=True).groupby(treatment).mean().plot(y=outcome, kind='bar')"
   ]
  },
  {
   "cell_type": "code",
   "execution_count": 5,
   "metadata": {
    "execution": {
     "iopub.execute_input": "2022-08-12T22:56:25.027342Z",
     "iopub.status.busy": "2022-08-12T22:56:25.026176Z",
     "iopub.status.idle": "2022-08-12T22:56:25.057095Z",
     "shell.execute_reply": "2022-08-12T22:56:25.056547Z"
    }
   },
   "outputs": [],
   "source": [
    "cdf_1 = df.causal.do(x={treatment: 1}, \n",
    "              variable_types={treatment: 'b', outcome: 'c', common_cause: 'c'}, \n",
    "              outcome=outcome, \n",
    "              dot_graph=data['dot_graph'],\n",
    "              proceed_when_unidentifiable=True)\n",
    "\n",
    "cdf_0 = df.causal.do(x={treatment: 0}, \n",
    "              variable_types={treatment: 'b', outcome: 'c', common_cause: 'c'}, \n",
    "              outcome=outcome, \n",
    "              dot_graph=data['dot_graph'],\n",
    "              proceed_when_unidentifiable=True)\n"
   ]
  },
  {
   "cell_type": "code",
   "execution_count": 6,
   "metadata": {
    "execution": {
     "iopub.execute_input": "2022-08-12T22:56:25.060042Z",
     "iopub.status.busy": "2022-08-12T22:56:25.059725Z",
     "iopub.status.idle": "2022-08-12T22:56:25.072171Z",
     "shell.execute_reply": "2022-08-12T22:56:25.071653Z"
    },
    "scrolled": true
   },
   "outputs": [
    {
     "data": {
      "text/html": [
       "<div>\n",
       "<style scoped>\n",
       "    .dataframe tbody tr th:only-of-type {\n",
       "        vertical-align: middle;\n",
       "    }\n",
       "\n",
       "    .dataframe tbody tr th {\n",
       "        vertical-align: top;\n",
       "    }\n",
       "\n",
       "    .dataframe thead th {\n",
       "        text-align: right;\n",
       "    }\n",
       "</style>\n",
       "<table border=\"1\" class=\"dataframe\">\n",
       "  <thead>\n",
       "    <tr style=\"text-align: right;\">\n",
       "      <th></th>\n",
       "      <th>W0</th>\n",
       "      <th>v0</th>\n",
       "      <th>y</th>\n",
       "      <th>propensity_score</th>\n",
       "      <th>weight</th>\n",
       "    </tr>\n",
       "  </thead>\n",
       "  <tbody>\n",
       "    <tr>\n",
       "      <th>0</th>\n",
       "      <td>-0.346620</td>\n",
       "      <td>False</td>\n",
       "      <td>-0.638880</td>\n",
       "      <td>0.685010</td>\n",
       "      <td>1.459832</td>\n",
       "    </tr>\n",
       "    <tr>\n",
       "      <th>1</th>\n",
       "      <td>-1.725579</td>\n",
       "      <td>False</td>\n",
       "      <td>-4.885031</td>\n",
       "      <td>0.980858</td>\n",
       "      <td>1.019516</td>\n",
       "    </tr>\n",
       "    <tr>\n",
       "      <th>2</th>\n",
       "      <td>0.495733</td>\n",
       "      <td>False</td>\n",
       "      <td>0.886080</td>\n",
       "      <td>0.239906</td>\n",
       "      <td>4.168307</td>\n",
       "    </tr>\n",
       "    <tr>\n",
       "      <th>3</th>\n",
       "      <td>-0.889630</td>\n",
       "      <td>False</td>\n",
       "      <td>-4.007824</td>\n",
       "      <td>0.882995</td>\n",
       "      <td>1.132510</td>\n",
       "    </tr>\n",
       "    <tr>\n",
       "      <th>4</th>\n",
       "      <td>-0.604778</td>\n",
       "      <td>False</td>\n",
       "      <td>-2.732753</td>\n",
       "      <td>0.797124</td>\n",
       "      <td>1.254510</td>\n",
       "    </tr>\n",
       "    <tr>\n",
       "      <th>...</th>\n",
       "      <td>...</td>\n",
       "      <td>...</td>\n",
       "      <td>...</td>\n",
       "      <td>...</td>\n",
       "      <td>...</td>\n",
       "    </tr>\n",
       "    <tr>\n",
       "      <th>995</th>\n",
       "      <td>-0.167716</td>\n",
       "      <td>False</td>\n",
       "      <td>0.589118</td>\n",
       "      <td>0.590727</td>\n",
       "      <td>1.692830</td>\n",
       "    </tr>\n",
       "    <tr>\n",
       "      <th>996</th>\n",
       "      <td>0.527682</td>\n",
       "      <td>False</td>\n",
       "      <td>2.246744</td>\n",
       "      <td>0.226812</td>\n",
       "      <td>4.408944</td>\n",
       "    </tr>\n",
       "    <tr>\n",
       "      <th>997</th>\n",
       "      <td>0.495733</td>\n",
       "      <td>False</td>\n",
       "      <td>0.886080</td>\n",
       "      <td>0.239906</td>\n",
       "      <td>4.168307</td>\n",
       "    </tr>\n",
       "    <tr>\n",
       "      <th>998</th>\n",
       "      <td>-0.838598</td>\n",
       "      <td>False</td>\n",
       "      <td>-3.857619</td>\n",
       "      <td>0.870363</td>\n",
       "      <td>1.148946</td>\n",
       "    </tr>\n",
       "    <tr>\n",
       "      <th>999</th>\n",
       "      <td>0.414643</td>\n",
       "      <td>False</td>\n",
       "      <td>1.341537</td>\n",
       "      <td>0.275400</td>\n",
       "      <td>3.631080</td>\n",
       "    </tr>\n",
       "  </tbody>\n",
       "</table>\n",
       "<p>1000 rows × 5 columns</p>\n",
       "</div>"
      ],
      "text/plain": [
       "           W0     v0         y  propensity_score    weight\n",
       "0   -0.346620  False -0.638880          0.685010  1.459832\n",
       "1   -1.725579  False -4.885031          0.980858  1.019516\n",
       "2    0.495733  False  0.886080          0.239906  4.168307\n",
       "3   -0.889630  False -4.007824          0.882995  1.132510\n",
       "4   -0.604778  False -2.732753          0.797124  1.254510\n",
       "..        ...    ...       ...               ...       ...\n",
       "995 -0.167716  False  0.589118          0.590727  1.692830\n",
       "996  0.527682  False  2.246744          0.226812  4.408944\n",
       "997  0.495733  False  0.886080          0.239906  4.168307\n",
       "998 -0.838598  False -3.857619          0.870363  1.148946\n",
       "999  0.414643  False  1.341537          0.275400  3.631080\n",
       "\n",
       "[1000 rows x 5 columns]"
      ]
     },
     "execution_count": 6,
     "metadata": {},
     "output_type": "execute_result"
    }
   ],
   "source": [
    "cdf_0"
   ]
  },
  {
   "cell_type": "code",
   "execution_count": 7,
   "metadata": {
    "execution": {
     "iopub.execute_input": "2022-08-12T22:56:25.074654Z",
     "iopub.status.busy": "2022-08-12T22:56:25.074445Z",
     "iopub.status.idle": "2022-08-12T22:56:25.085469Z",
     "shell.execute_reply": "2022-08-12T22:56:25.084916Z"
    }
   },
   "outputs": [
    {
     "data": {
      "text/html": [
       "<div>\n",
       "<style scoped>\n",
       "    .dataframe tbody tr th:only-of-type {\n",
       "        vertical-align: middle;\n",
       "    }\n",
       "\n",
       "    .dataframe tbody tr th {\n",
       "        vertical-align: top;\n",
       "    }\n",
       "\n",
       "    .dataframe thead th {\n",
       "        text-align: right;\n",
       "    }\n",
       "</style>\n",
       "<table border=\"1\" class=\"dataframe\">\n",
       "  <thead>\n",
       "    <tr style=\"text-align: right;\">\n",
       "      <th></th>\n",
       "      <th>W0</th>\n",
       "      <th>v0</th>\n",
       "      <th>y</th>\n",
       "      <th>propensity_score</th>\n",
       "      <th>weight</th>\n",
       "    </tr>\n",
       "  </thead>\n",
       "  <tbody>\n",
       "    <tr>\n",
       "      <th>0</th>\n",
       "      <td>0.087631</td>\n",
       "      <td>True</td>\n",
       "      <td>4.019010</td>\n",
       "      <td>0.554312</td>\n",
       "      <td>1.804037</td>\n",
       "    </tr>\n",
       "    <tr>\n",
       "      <th>1</th>\n",
       "      <td>1.277760</td>\n",
       "      <td>True</td>\n",
       "      <td>9.909575</td>\n",
       "      <td>0.950030</td>\n",
       "      <td>1.052599</td>\n",
       "    </tr>\n",
       "    <tr>\n",
       "      <th>2</th>\n",
       "      <td>0.933066</td>\n",
       "      <td>True</td>\n",
       "      <td>7.409383</td>\n",
       "      <td>0.896160</td>\n",
       "      <td>1.115873</td>\n",
       "    </tr>\n",
       "    <tr>\n",
       "      <th>3</th>\n",
       "      <td>0.570924</td>\n",
       "      <td>True</td>\n",
       "      <td>6.309402</td>\n",
       "      <td>0.790092</td>\n",
       "      <td>1.265675</td>\n",
       "    </tr>\n",
       "    <tr>\n",
       "      <th>4</th>\n",
       "      <td>0.933066</td>\n",
       "      <td>True</td>\n",
       "      <td>7.409383</td>\n",
       "      <td>0.896160</td>\n",
       "      <td>1.115873</td>\n",
       "    </tr>\n",
       "    <tr>\n",
       "      <th>...</th>\n",
       "      <td>...</td>\n",
       "      <td>...</td>\n",
       "      <td>...</td>\n",
       "      <td>...</td>\n",
       "      <td>...</td>\n",
       "    </tr>\n",
       "    <tr>\n",
       "      <th>995</th>\n",
       "      <td>0.326924</td>\n",
       "      <td>True</td>\n",
       "      <td>5.231477</td>\n",
       "      <td>0.682742</td>\n",
       "      <td>1.464682</td>\n",
       "    </tr>\n",
       "    <tr>\n",
       "      <th>996</th>\n",
       "      <td>0.404134</td>\n",
       "      <td>True</td>\n",
       "      <td>5.751257</td>\n",
       "      <td>0.719769</td>\n",
       "      <td>1.389335</td>\n",
       "    </tr>\n",
       "    <tr>\n",
       "      <th>997</th>\n",
       "      <td>-1.637847</td>\n",
       "      <td>True</td>\n",
       "      <td>1.027376</td>\n",
       "      <td>0.023305</td>\n",
       "      <td>42.908798</td>\n",
       "    </tr>\n",
       "    <tr>\n",
       "      <th>998</th>\n",
       "      <td>-0.727507</td>\n",
       "      <td>True</td>\n",
       "      <td>3.389506</td>\n",
       "      <td>0.161160</td>\n",
       "      <td>6.205026</td>\n",
       "    </tr>\n",
       "    <tr>\n",
       "      <th>999</th>\n",
       "      <td>1.336409</td>\n",
       "      <td>True</td>\n",
       "      <td>9.218025</td>\n",
       "      <td>0.956037</td>\n",
       "      <td>1.045985</td>\n",
       "    </tr>\n",
       "  </tbody>\n",
       "</table>\n",
       "<p>1000 rows × 5 columns</p>\n",
       "</div>"
      ],
      "text/plain": [
       "           W0    v0         y  propensity_score     weight\n",
       "0    0.087631  True  4.019010          0.554312   1.804037\n",
       "1    1.277760  True  9.909575          0.950030   1.052599\n",
       "2    0.933066  True  7.409383          0.896160   1.115873\n",
       "3    0.570924  True  6.309402          0.790092   1.265675\n",
       "4    0.933066  True  7.409383          0.896160   1.115873\n",
       "..        ...   ...       ...               ...        ...\n",
       "995  0.326924  True  5.231477          0.682742   1.464682\n",
       "996  0.404134  True  5.751257          0.719769   1.389335\n",
       "997 -1.637847  True  1.027376          0.023305  42.908798\n",
       "998 -0.727507  True  3.389506          0.161160   6.205026\n",
       "999  1.336409  True  9.218025          0.956037   1.045985\n",
       "\n",
       "[1000 rows x 5 columns]"
      ]
     },
     "execution_count": 7,
     "metadata": {},
     "output_type": "execute_result"
    }
   ],
   "source": [
    "cdf_1"
   ]
  },
  {
   "cell_type": "markdown",
   "metadata": {},
   "source": [
    "## Comparing the estimate to Linear Regression\n",
    "First, estimating the effect using the causal data frame, and the 95% confidence interval."
   ]
  },
  {
   "cell_type": "code",
   "execution_count": 8,
   "metadata": {
    "execution": {
     "iopub.execute_input": "2022-08-12T22:56:25.088002Z",
     "iopub.status.busy": "2022-08-12T22:56:25.087803Z",
     "iopub.status.idle": "2022-08-12T22:56:25.182149Z",
     "shell.execute_reply": "2022-08-12T22:56:25.181525Z"
    }
   },
   "outputs": [
    {
     "data": {
      "image/png": "[encoded data removed]",
      "text/latex": [
       "$\\displaystyle 5.3846788991543$"
      ],
      "text/plain": [
       "5.384678899154297"
      ]
     },
     "execution_count": 8,
     "metadata": {},
     "output_type": "execute_result"
    }
   ],
   "source": [
    "(cdf_1['y'] - cdf_0['y']).mean()"
   ]
  },
  {
   "cell_type": "code",
   "execution_count": 9,
   "metadata": {
    "execution": {
     "iopub.execute_input": "2022-08-12T22:56:25.184805Z",
     "iopub.status.busy": "2022-08-12T22:56:25.184598Z",
     "iopub.status.idle": "2022-08-12T22:56:25.208121Z",
     "shell.execute_reply": "2022-08-12T22:56:25.207508Z"
    }
   },
   "outputs": [
    {
     "data": {
      "image/png": "[encoded data removed]",
      "text/latex": [
       "$\\displaystyle 0.259671107962891$"
      ],
      "text/plain": [
       "0.2596711079628909"
      ]
     },
     "execution_count": 9,
     "metadata": {},
     "output_type": "execute_result"
    }
   ],
   "source": [
    "1.96*(cdf_1['y'] - cdf_0['y']).std() / np.sqrt(len(df))"
   ]
  },
  {
   "cell_type": "markdown",
   "metadata": {},
   "source": [
    "Comparing to the estimate from OLS."
   ]
  },
  {
   "cell_type": "code",
   "execution_count": 10,
   "metadata": {
    "execution": {
     "iopub.execute_input": "2022-08-12T22:56:25.210965Z",
     "iopub.status.busy": "2022-08-12T22:56:25.210570Z",
     "iopub.status.idle": "2022-08-12T22:56:25.225555Z",
     "shell.execute_reply": "2022-08-12T22:56:25.224959Z"
    }
   },
   "outputs": [
    {
     "data": {
      "text/html": [
       "<table class=\"simpletable\">\n",
       "<caption>OLS Regression Results</caption>\n",
       "<tr>\n",
       "  <th>Dep. Variable:</th>            <td>y</td>        <th>  R-squared (uncentered):</th>      <td>   0.961</td> \n",
       "</tr>\n",
       "<tr>\n",
       "  <th>Model:</th>                   <td>OLS</td>       <th>  Adj. R-squared (uncentered):</th> <td>   0.961</td> \n",
       "</tr>\n",
       "<tr>\n",
       "  <th>Method:</th>             <td>Least Squares</td>  <th>  F-statistic:       </th>          <td>1.224e+04</td>\n",
       "</tr>\n",
       "<tr>\n",
       "  <th>Date:</th>             <td>Fri, 12 Aug 2022</td> <th>  Prob (F-statistic):</th>           <td>  0.00</td>  \n",
       "</tr>\n",
       "<tr>\n",
       "  <th>Time:</th>                 <td>22:56:25</td>     <th>  Log-Likelihood:    </th>          <td> -1461.1</td> \n",
       "</tr>\n",
       "<tr>\n",
       "  <th>No. Observations:</th>      <td>  1000</td>      <th>  AIC:               </th>          <td>   2926.</td> \n",
       "</tr>\n",
       "<tr>\n",
       "  <th>Df Residuals:</th>          <td>   998</td>      <th>  BIC:               </th>          <td>   2936.</td> \n",
       "</tr>\n",
       "<tr>\n",
       "  <th>Df Model:</th>              <td>     2</td>      <th>                     </th>              <td> </td>    \n",
       "</tr>\n",
       "<tr>\n",
       "  <th>Covariance Type:</th>      <td>nonrobust</td>    <th>                     </th>              <td> </td>    \n",
       "</tr>\n",
       "</table>\n",
       "<table class=\"simpletable\">\n",
       "<tr>\n",
       "   <td></td>     <th>coef</th>     <th>std err</th>      <th>t</th>      <th>P>|t|</th>  <th>[0.025</th>    <th>0.975]</th>  \n",
       "</tr>\n",
       "<tr>\n",
       "  <th>x1</th> <td>    2.9960</td> <td>    0.033</td> <td>   90.655</td> <td> 0.000</td> <td>    2.931</td> <td>    3.061</td>\n",
       "</tr>\n",
       "<tr>\n",
       "  <th>x2</th> <td>    5.0231</td> <td>    0.054</td> <td>   93.765</td> <td> 0.000</td> <td>    4.918</td> <td>    5.128</td>\n",
       "</tr>\n",
       "</table>\n",
       "<table class=\"simpletable\">\n",
       "<tr>\n",
       "  <th>Omnibus:</th>       <td> 1.852</td> <th>  Durbin-Watson:     </th> <td>   2.029</td>\n",
       "</tr>\n",
       "<tr>\n",
       "  <th>Prob(Omnibus):</th> <td> 0.396</td> <th>  Jarque-Bera (JB):  </th> <td>   1.802</td>\n",
       "</tr>\n",
       "<tr>\n",
       "  <th>Skew:</th>          <td>-0.037</td> <th>  Prob(JB):          </th> <td>   0.406</td>\n",
       "</tr>\n",
       "<tr>\n",
       "  <th>Kurtosis:</th>      <td> 3.195</td> <th>  Cond. No.          </th> <td>    1.79</td>\n",
       "</tr>\n",
       "</table><br/><br/>Notes:<br/>[1] R² is computed without centering (uncentered) since the model does not contain a constant.<br/>[2] Standard Errors assume that the covariance matrix of the errors is correctly specified."
      ],
      "text/plain": [
       "<class 'statsmodels.iolib.summary.Summary'>\n",
       "\"\"\"\n",
       "                                 OLS Regression Results                                \n",
       "=======================================================================================\n",
       "Dep. Variable:                      y   R-squared (uncentered):                   0.961\n",
       "Model:                            OLS   Adj. R-squared (uncentered):              0.961\n",
       "Method:                 Least Squares   F-statistic:                          1.224e+04\n",
       "Date:                Fri, 12 Aug 2022   Prob (F-statistic):                        0.00\n",
       "Time:                        22:56:25   Log-Likelihood:                         -1461.1\n",
       "No. Observations:                1000   AIC:                                      2926.\n",
       "Df Residuals:                     998   BIC:                                      2936.\n",
       "Df Model:                           2                                                  \n",
       "Covariance Type:            nonrobust                                                  \n",
       "==============================================================================\n",
       "                 coef    std err          t      P>|t|      [0.025      0.975]\n",
       "------------------------------------------------------------------------------\n",
       "x1             2.9960      0.033     90.655      0.000       2.931       3.061\n",
       "x2             5.0231      0.054     93.765      0.000       4.918       5.128\n",
       "==============================================================================\n",
       "Omnibus:                        1.852   Durbin-Watson:                   2.029\n",
       "Prob(Omnibus):                  0.396   Jarque-Bera (JB):                1.802\n",
       "Skew:                          -0.037   Prob(JB):                        0.406\n",
       "Kurtosis:                       3.195   Cond. No.                         1.79\n",
       "==============================================================================\n",
       "\n",
       "Notes:\n",
       "[1] R² is computed without centering (uncentered) since the model does not contain a constant.\n",
       "[2] Standard Errors assume that the covariance matrix of the errors is correctly specified.\n",
       "\"\"\""
      ]
     },
     "execution_count": 10,
     "metadata": {},
     "output_type": "execute_result"
    }
   ],
   "source": [
    "model = OLS(np.asarray(df[outcome]), np.asarray(df[[common_cause, treatment]], dtype=np.float64))\n",
    "result = model.fit()\n",
    "result.summary()"
   ]
  }
 ],
 "metadata": {
  "kernelspec": {
   "display_name": "Python 3",
   "language": "python",
   "name": "python3"
  },
  "language_info": {
   "codemirror_mode": {
    "name": "ipython",
    "version": 3
   },
   "file_extension": ".py",
   "mimetype": "text/x-python",
   "name": "python",
   "nbconvert_exporter": "python",
   "pygments_lexer": "ipython3",
   "version": "3.8.10"
  },
  "toc": {
   "base_numbering": 1,
   "nav_menu": {},
   "number_sections": false,
   "sideBar": true,
   "skip_h1_title": true,
   "title_cell": "Table of Contents",
   "title_sidebar": "Contents",
   "toc_cell": false,
   "toc_position": {},
   "toc_section_display": true,
   "toc_window_display": false
  }
 },
 "nbformat": 4,
 "nbformat_minor": 4
}
