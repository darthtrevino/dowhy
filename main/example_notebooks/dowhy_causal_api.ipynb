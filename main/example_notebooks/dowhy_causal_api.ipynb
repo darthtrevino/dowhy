{
 "cells": [
  {
   "cell_type": "markdown",
   "metadata": {},
   "source": [
    "# Demo for the DoWhy causal API\n",
    "We show a simple example of adding a causal extension to any dataframe. "
   ]
  },
  {
   "cell_type": "code",
   "execution_count": 1,
   "metadata": {
    "execution": {
     "iopub.execute_input": "2022-09-01T18:13:47.995680Z",
     "iopub.status.busy": "2022-09-01T18:13:47.995431Z",
     "iopub.status.idle": "2022-09-01T18:13:49.101081Z",
     "shell.execute_reply": "2022-09-01T18:13:49.100451Z"
    }
   },
   "outputs": [],
   "source": [
    "import dowhy.datasets\n",
    "import dowhy.api\n",
    "\n",
    "import numpy as np\n",
    "import pandas as pd\n",
    "\n",
    "from statsmodels.api import OLS"
   ]
  },
  {
   "cell_type": "code",
   "execution_count": 2,
   "metadata": {
    "execution": {
     "iopub.execute_input": "2022-09-01T18:13:49.104496Z",
     "iopub.status.busy": "2022-09-01T18:13:49.103932Z",
     "iopub.status.idle": "2022-09-01T18:13:49.146809Z",
     "shell.execute_reply": "2022-09-01T18:13:49.146209Z"
    }
   },
   "outputs": [
    {
     "data": {
      "text/html": [
       "<div>\n",
       "<style scoped>\n",
       "    .dataframe tbody tr th:only-of-type {\n",
       "        vertical-align: middle;\n",
       "    }\n",
       "\n",
       "    .dataframe tbody tr th {\n",
       "        vertical-align: top;\n",
       "    }\n",
       "\n",
       "    .dataframe thead th {\n",
       "        text-align: right;\n",
       "    }\n",
       "</style>\n",
       "<table border=\"1\" class=\"dataframe\">\n",
       "  <thead>\n",
       "    <tr style=\"text-align: right;\">\n",
       "      <th></th>\n",
       "      <th>W0</th>\n",
       "      <th>v0</th>\n",
       "      <th>y</th>\n",
       "    </tr>\n",
       "  </thead>\n",
       "  <tbody>\n",
       "    <tr>\n",
       "      <th>0</th>\n",
       "      <td>0.039313</td>\n",
       "      <td>False</td>\n",
       "      <td>-0.682894</td>\n",
       "    </tr>\n",
       "    <tr>\n",
       "      <th>1</th>\n",
       "      <td>1.426841</td>\n",
       "      <td>True</td>\n",
       "      <td>7.943303</td>\n",
       "    </tr>\n",
       "    <tr>\n",
       "      <th>2</th>\n",
       "      <td>-0.862162</td>\n",
       "      <td>False</td>\n",
       "      <td>0.078554</td>\n",
       "    </tr>\n",
       "    <tr>\n",
       "      <th>3</th>\n",
       "      <td>-0.781227</td>\n",
       "      <td>False</td>\n",
       "      <td>-2.761173</td>\n",
       "    </tr>\n",
       "    <tr>\n",
       "      <th>4</th>\n",
       "      <td>-0.852151</td>\n",
       "      <td>False</td>\n",
       "      <td>-2.593763</td>\n",
       "    </tr>\n",
       "    <tr>\n",
       "      <th>...</th>\n",
       "      <td>...</td>\n",
       "      <td>...</td>\n",
       "      <td>...</td>\n",
       "    </tr>\n",
       "    <tr>\n",
       "      <th>995</th>\n",
       "      <td>0.216387</td>\n",
       "      <td>False</td>\n",
       "      <td>0.386972</td>\n",
       "    </tr>\n",
       "    <tr>\n",
       "      <th>996</th>\n",
       "      <td>0.825846</td>\n",
       "      <td>True</td>\n",
       "      <td>5.992411</td>\n",
       "    </tr>\n",
       "    <tr>\n",
       "      <th>997</th>\n",
       "      <td>-0.606425</td>\n",
       "      <td>True</td>\n",
       "      <td>3.575475</td>\n",
       "    </tr>\n",
       "    <tr>\n",
       "      <th>998</th>\n",
       "      <td>1.893887</td>\n",
       "      <td>True</td>\n",
       "      <td>9.933711</td>\n",
       "    </tr>\n",
       "    <tr>\n",
       "      <th>999</th>\n",
       "      <td>-0.405847</td>\n",
       "      <td>False</td>\n",
       "      <td>-0.718769</td>\n",
       "    </tr>\n",
       "  </tbody>\n",
       "</table>\n",
       "<p>1000 rows × 3 columns</p>\n",
       "</div>"
      ],
      "text/plain": [
       "           W0     v0         y\n",
       "0    0.039313  False -0.682894\n",
       "1    1.426841   True  7.943303\n",
       "2   -0.862162  False  0.078554\n",
       "3   -0.781227  False -2.761173\n",
       "4   -0.852151  False -2.593763\n",
       "..        ...    ...       ...\n",
       "995  0.216387  False  0.386972\n",
       "996  0.825846   True  5.992411\n",
       "997 -0.606425   True  3.575475\n",
       "998  1.893887   True  9.933711\n",
       "999 -0.405847  False -0.718769\n",
       "\n",
       "[1000 rows x 3 columns]"
      ]
     },
     "execution_count": 2,
     "metadata": {},
     "output_type": "execute_result"
    }
   ],
   "source": [
    "data = dowhy.datasets.linear_dataset(beta=5,\n",
    "        num_common_causes=1,\n",
    "        num_instruments = 0,\n",
    "        num_samples=1000,\n",
    "        treatment_is_binary=True)\n",
    "df = data['df']\n",
    "df['y'] = df['y'] + np.random.normal(size=len(df)) # Adding noise to data. Without noise, the variance in Y|X, Z is zero, and mcmc fails.\n",
    "#data['dot_graph'] = 'digraph { v ->y;X0-> v;X0-> y;}'\n",
    "\n",
    "treatment= data[\"treatment_name\"][0]\n",
    "outcome = data[\"outcome_name\"][0]\n",
    "common_cause = data[\"common_causes_names\"][0]\n",
    "df"
   ]
  },
  {
   "cell_type": "code",
   "execution_count": 3,
   "metadata": {
    "execution": {
     "iopub.execute_input": "2022-09-01T18:13:49.150175Z",
     "iopub.status.busy": "2022-09-01T18:13:49.149649Z",
     "iopub.status.idle": "2022-09-01T18:13:49.909408Z",
     "shell.execute_reply": "2022-09-01T18:13:49.908794Z"
    }
   },
   "outputs": [
    {
     "data": {
      "text/plain": [
       "<AxesSubplot:xlabel='v0'>"
      ]
     },
     "execution_count": 3,
     "metadata": {},
     "output_type": "execute_result"
    },
    {
     "data": {
      "image/png": "[encoded data removed]",
      "text/plain": [
       "<Figure size 640x480 with 1 Axes>"
      ]
     },
     "metadata": {},
     "output_type": "display_data"
    }
   ],
   "source": [
    "# data['df'] is just a regular pandas.DataFrame\n",
    "df.causal.do(x=treatment,\n",
    "                     variable_types={treatment: 'b', outcome: 'c', common_cause: 'c'},\n",
    "                     outcome=outcome,\n",
    "                     common_causes=[common_cause],\n",
    "                     proceed_when_unidentifiable=True).groupby(treatment).mean().plot(y=outcome, kind='bar')"
   ]
  },
  {
   "cell_type": "code",
   "execution_count": 4,
   "metadata": {
    "execution": {
     "iopub.execute_input": "2022-09-01T18:13:49.912740Z",
     "iopub.status.busy": "2022-09-01T18:13:49.912390Z",
     "iopub.status.idle": "2022-09-01T18:13:50.014800Z",
     "shell.execute_reply": "2022-09-01T18:13:50.014264Z"
    }
   },
   "outputs": [
    {
     "data": {
      "text/plain": [
       "<AxesSubplot:xlabel='v0'>"
      ]
     },
     "execution_count": 4,
     "metadata": {},
     "output_type": "execute_result"
    },
    {
     "data": {
      "image/png": "[encoded data removed]",
      "text/plain": [
       "<Figure size 640x480 with 1 Axes>"
      ]
     },
     "metadata": {},
     "output_type": "display_data"
    }
   ],
   "source": [
    "df.causal.do(x={treatment: 1}, \n",
    "              variable_types={treatment:'b', outcome: 'c', common_cause: 'c'}, \n",
    "              outcome=outcome,\n",
    "              method='weighting', \n",
    "              common_causes=[common_cause],\n",
    "              proceed_when_unidentifiable=True).groupby(treatment).mean().plot(y=outcome, kind='bar')"
   ]
  },
  {
   "cell_type": "code",
   "execution_count": 5,
   "metadata": {
    "execution": {
     "iopub.execute_input": "2022-09-01T18:13:50.018038Z",
     "iopub.status.busy": "2022-09-01T18:13:50.017676Z",
     "iopub.status.idle": "2022-09-01T18:13:50.047568Z",
     "shell.execute_reply": "2022-09-01T18:13:50.046961Z"
    }
   },
   "outputs": [],
   "source": [
    "cdf_1 = df.causal.do(x={treatment: 1}, \n",
    "              variable_types={treatment: 'b', outcome: 'c', common_cause: 'c'}, \n",
    "              outcome=outcome, \n",
    "              dot_graph=data['dot_graph'],\n",
    "              proceed_when_unidentifiable=True)\n",
    "\n",
    "cdf_0 = df.causal.do(x={treatment: 0}, \n",
    "              variable_types={treatment: 'b', outcome: 'c', common_cause: 'c'}, \n",
    "              outcome=outcome, \n",
    "              dot_graph=data['dot_graph'],\n",
    "              proceed_when_unidentifiable=True)\n"
   ]
  },
  {
   "cell_type": "code",
   "execution_count": 6,
   "metadata": {
    "execution": {
     "iopub.execute_input": "2022-09-01T18:13:50.050913Z",
     "iopub.status.busy": "2022-09-01T18:13:50.050372Z",
     "iopub.status.idle": "2022-09-01T18:13:50.062170Z",
     "shell.execute_reply": "2022-09-01T18:13:50.061643Z"
    },
    "scrolled": true
   },
   "outputs": [
    {
     "data": {
      "text/html": [
       "<div>\n",
       "<style scoped>\n",
       "    .dataframe tbody tr th:only-of-type {\n",
       "        vertical-align: middle;\n",
       "    }\n",
       "\n",
       "    .dataframe tbody tr th {\n",
       "        vertical-align: top;\n",
       "    }\n",
       "\n",
       "    .dataframe thead th {\n",
       "        text-align: right;\n",
       "    }\n",
       "</style>\n",
       "<table border=\"1\" class=\"dataframe\">\n",
       "  <thead>\n",
       "    <tr style=\"text-align: right;\">\n",
       "      <th></th>\n",
       "      <th>W0</th>\n",
       "      <th>v0</th>\n",
       "      <th>y</th>\n",
       "      <th>propensity_score</th>\n",
       "      <th>weight</th>\n",
       "    </tr>\n",
       "  </thead>\n",
       "  <tbody>\n",
       "    <tr>\n",
       "      <th>0</th>\n",
       "      <td>-1.026591</td>\n",
       "      <td>False</td>\n",
       "      <td>-2.382183</td>\n",
       "      <td>0.862837</td>\n",
       "      <td>1.158967</td>\n",
       "    </tr>\n",
       "    <tr>\n",
       "      <th>1</th>\n",
       "      <td>-1.014832</td>\n",
       "      <td>False</td>\n",
       "      <td>0.358930</td>\n",
       "      <td>0.860156</td>\n",
       "      <td>1.162580</td>\n",
       "    </tr>\n",
       "    <tr>\n",
       "      <th>2</th>\n",
       "      <td>0.213210</td>\n",
       "      <td>False</td>\n",
       "      <td>0.379669</td>\n",
       "      <td>0.370406</td>\n",
       "      <td>2.699742</td>\n",
       "    </tr>\n",
       "    <tr>\n",
       "      <th>3</th>\n",
       "      <td>0.059384</td>\n",
       "      <td>False</td>\n",
       "      <td>0.566977</td>\n",
       "      <td>0.441154</td>\n",
       "      <td>2.266783</td>\n",
       "    </tr>\n",
       "    <tr>\n",
       "      <th>4</th>\n",
       "      <td>1.645097</td>\n",
       "      <td>False</td>\n",
       "      <td>4.496857</td>\n",
       "      <td>0.036716</td>\n",
       "      <td>27.235991</td>\n",
       "    </tr>\n",
       "    <tr>\n",
       "      <th>...</th>\n",
       "      <td>...</td>\n",
       "      <td>...</td>\n",
       "      <td>...</td>\n",
       "      <td>...</td>\n",
       "      <td>...</td>\n",
       "    </tr>\n",
       "    <tr>\n",
       "      <th>995</th>\n",
       "      <td>1.645097</td>\n",
       "      <td>False</td>\n",
       "      <td>4.496857</td>\n",
       "      <td>0.036716</td>\n",
       "      <td>27.235991</td>\n",
       "    </tr>\n",
       "    <tr>\n",
       "      <th>996</th>\n",
       "      <td>-0.140891</td>\n",
       "      <td>False</td>\n",
       "      <td>0.031862</td>\n",
       "      <td>0.536507</td>\n",
       "      <td>1.863907</td>\n",
       "    </tr>\n",
       "    <tr>\n",
       "      <th>997</th>\n",
       "      <td>1.645097</td>\n",
       "      <td>False</td>\n",
       "      <td>4.496857</td>\n",
       "      <td>0.036716</td>\n",
       "      <td>27.235991</td>\n",
       "    </tr>\n",
       "    <tr>\n",
       "      <th>998</th>\n",
       "      <td>-0.060268</td>\n",
       "      <td>False</td>\n",
       "      <td>-0.275071</td>\n",
       "      <td>0.498050</td>\n",
       "      <td>2.007829</td>\n",
       "    </tr>\n",
       "    <tr>\n",
       "      <th>999</th>\n",
       "      <td>-0.018394</td>\n",
       "      <td>False</td>\n",
       "      <td>-0.791092</td>\n",
       "      <td>0.478057</td>\n",
       "      <td>2.091802</td>\n",
       "    </tr>\n",
       "  </tbody>\n",
       "</table>\n",
       "<p>1000 rows × 5 columns</p>\n",
       "</div>"
      ],
      "text/plain": [
       "           W0     v0         y  propensity_score     weight\n",
       "0   -1.026591  False -2.382183          0.862837   1.158967\n",
       "1   -1.014832  False  0.358930          0.860156   1.162580\n",
       "2    0.213210  False  0.379669          0.370406   2.699742\n",
       "3    0.059384  False  0.566977          0.441154   2.266783\n",
       "4    1.645097  False  4.496857          0.036716  27.235991\n",
       "..        ...    ...       ...               ...        ...\n",
       "995  1.645097  False  4.496857          0.036716  27.235991\n",
       "996 -0.140891  False  0.031862          0.536507   1.863907\n",
       "997  1.645097  False  4.496857          0.036716  27.235991\n",
       "998 -0.060268  False -0.275071          0.498050   2.007829\n",
       "999 -0.018394  False -0.791092          0.478057   2.091802\n",
       "\n",
       "[1000 rows x 5 columns]"
      ]
     },
     "execution_count": 6,
     "metadata": {},
     "output_type": "execute_result"
    }
   ],
   "source": [
    "cdf_0"
   ]
  },
  {
   "cell_type": "code",
   "execution_count": 7,
   "metadata": {
    "execution": {
     "iopub.execute_input": "2022-09-01T18:13:50.064893Z",
     "iopub.status.busy": "2022-09-01T18:13:50.064554Z",
     "iopub.status.idle": "2022-09-01T18:13:50.074686Z",
     "shell.execute_reply": "2022-09-01T18:13:50.074075Z"
    }
   },
   "outputs": [
    {
     "data": {
      "text/html": [
       "<div>\n",
       "<style scoped>\n",
       "    .dataframe tbody tr th:only-of-type {\n",
       "        vertical-align: middle;\n",
       "    }\n",
       "\n",
       "    .dataframe tbody tr th {\n",
       "        vertical-align: top;\n",
       "    }\n",
       "\n",
       "    .dataframe thead th {\n",
       "        text-align: right;\n",
       "    }\n",
       "</style>\n",
       "<table border=\"1\" class=\"dataframe\">\n",
       "  <thead>\n",
       "    <tr style=\"text-align: right;\">\n",
       "      <th></th>\n",
       "      <th>W0</th>\n",
       "      <th>v0</th>\n",
       "      <th>y</th>\n",
       "      <th>propensity_score</th>\n",
       "      <th>weight</th>\n",
       "    </tr>\n",
       "  </thead>\n",
       "  <tbody>\n",
       "    <tr>\n",
       "      <th>0</th>\n",
       "      <td>0.343836</td>\n",
       "      <td>True</td>\n",
       "      <td>5.692478</td>\n",
       "      <td>0.685708</td>\n",
       "      <td>1.458346</td>\n",
       "    </tr>\n",
       "    <tr>\n",
       "      <th>1</th>\n",
       "      <td>-1.665111</td>\n",
       "      <td>True</td>\n",
       "      <td>1.406348</td>\n",
       "      <td>0.044813</td>\n",
       "      <td>22.315070</td>\n",
       "    </tr>\n",
       "    <tr>\n",
       "      <th>2</th>\n",
       "      <td>1.097323</td>\n",
       "      <td>True</td>\n",
       "      <td>7.469410</td>\n",
       "      <td>0.902050</td>\n",
       "      <td>1.108586</td>\n",
       "    </tr>\n",
       "    <tr>\n",
       "      <th>3</th>\n",
       "      <td>0.549254</td>\n",
       "      <td>True</td>\n",
       "      <td>6.490849</td>\n",
       "      <td>0.763639</td>\n",
       "      <td>1.309520</td>\n",
       "    </tr>\n",
       "    <tr>\n",
       "      <th>4</th>\n",
       "      <td>-0.254728</td>\n",
       "      <td>True</td>\n",
       "      <td>3.232032</td>\n",
       "      <td>0.410026</td>\n",
       "      <td>2.438870</td>\n",
       "    </tr>\n",
       "    <tr>\n",
       "      <th>...</th>\n",
       "      <td>...</td>\n",
       "      <td>...</td>\n",
       "      <td>...</td>\n",
       "      <td>...</td>\n",
       "      <td>...</td>\n",
       "    </tr>\n",
       "    <tr>\n",
       "      <th>995</th>\n",
       "      <td>1.077131</td>\n",
       "      <td>True</td>\n",
       "      <td>6.155994</td>\n",
       "      <td>0.898587</td>\n",
       "      <td>1.112858</td>\n",
       "    </tr>\n",
       "    <tr>\n",
       "      <th>996</th>\n",
       "      <td>-0.405513</td>\n",
       "      <td>True</td>\n",
       "      <td>3.245364</td>\n",
       "      <td>0.342530</td>\n",
       "      <td>2.919455</td>\n",
       "    </tr>\n",
       "    <tr>\n",
       "      <th>997</th>\n",
       "      <td>-0.117826</td>\n",
       "      <td>True</td>\n",
       "      <td>4.070460</td>\n",
       "      <td>0.474470</td>\n",
       "      <td>2.107614</td>\n",
       "    </tr>\n",
       "    <tr>\n",
       "      <th>998</th>\n",
       "      <td>-0.442822</td>\n",
       "      <td>True</td>\n",
       "      <td>3.074279</td>\n",
       "      <td>0.326656</td>\n",
       "      <td>3.061322</td>\n",
       "    </tr>\n",
       "    <tr>\n",
       "      <th>999</th>\n",
       "      <td>0.270752</td>\n",
       "      <td>True</td>\n",
       "      <td>6.308639</td>\n",
       "      <td>0.654856</td>\n",
       "      <td>1.527054</td>\n",
       "    </tr>\n",
       "  </tbody>\n",
       "</table>\n",
       "<p>1000 rows × 5 columns</p>\n",
       "</div>"
      ],
      "text/plain": [
       "           W0    v0         y  propensity_score     weight\n",
       "0    0.343836  True  5.692478          0.685708   1.458346\n",
       "1   -1.665111  True  1.406348          0.044813  22.315070\n",
       "2    1.097323  True  7.469410          0.902050   1.108586\n",
       "3    0.549254  True  6.490849          0.763639   1.309520\n",
       "4   -0.254728  True  3.232032          0.410026   2.438870\n",
       "..        ...   ...       ...               ...        ...\n",
       "995  1.077131  True  6.155994          0.898587   1.112858\n",
       "996 -0.405513  True  3.245364          0.342530   2.919455\n",
       "997 -0.117826  True  4.070460          0.474470   2.107614\n",
       "998 -0.442822  True  3.074279          0.326656   3.061322\n",
       "999  0.270752  True  6.308639          0.654856   1.527054\n",
       "\n",
       "[1000 rows x 5 columns]"
      ]
     },
     "execution_count": 7,
     "metadata": {},
     "output_type": "execute_result"
    }
   ],
   "source": [
    "cdf_1"
   ]
  },
  {
   "cell_type": "markdown",
   "metadata": {},
   "source": [
    "## Comparing the estimate to Linear Regression\n",
    "First, estimating the effect using the causal data frame, and the 95% confidence interval."
   ]
  },
  {
   "cell_type": "code",
   "execution_count": 8,
   "metadata": {
    "execution": {
     "iopub.execute_input": "2022-09-01T18:13:50.077837Z",
     "iopub.status.busy": "2022-09-01T18:13:50.077622Z",
     "iopub.status.idle": "2022-09-01T18:13:50.175633Z",
     "shell.execute_reply": "2022-09-01T18:13:50.174973Z"
    }
   },
   "outputs": [
    {
     "data": {
      "image/png": "[encoded data removed]",
      "text/latex": [
       "$\\displaystyle 4.96179302679935$"
      ],
      "text/plain": [
       "4.961793026799349"
      ]
     },
     "execution_count": 8,
     "metadata": {},
     "output_type": "execute_result"
    }
   ],
   "source": [
    "(cdf_1['y'] - cdf_0['y']).mean()"
   ]
  },
  {
   "cell_type": "code",
   "execution_count": 9,
   "metadata": {
    "execution": {
     "iopub.execute_input": "2022-09-01T18:13:50.178775Z",
     "iopub.status.busy": "2022-09-01T18:13:50.178261Z",
     "iopub.status.idle": "2022-09-01T18:13:50.202299Z",
     "shell.execute_reply": "2022-09-01T18:13:50.201691Z"
    }
   },
   "outputs": [
    {
     "data": {
      "image/png": "[encoded data removed]",
      "text/latex": [
       "$\\displaystyle 0.171643717074021$"
      ],
      "text/plain": [
       "0.17164371707402118"
      ]
     },
     "execution_count": 9,
     "metadata": {},
     "output_type": "execute_result"
    }
   ],
   "source": [
    "1.96*(cdf_1['y'] - cdf_0['y']).std() / np.sqrt(len(df))"
   ]
  },
  {
   "cell_type": "markdown",
   "metadata": {},
   "source": [
    "Comparing to the estimate from OLS."
   ]
  },
  {
   "cell_type": "code",
   "execution_count": 10,
   "metadata": {
    "execution": {
     "iopub.execute_input": "2022-09-01T18:13:50.205200Z",
     "iopub.status.busy": "2022-09-01T18:13:50.204791Z",
     "iopub.status.idle": "2022-09-01T18:13:50.219752Z",
     "shell.execute_reply": "2022-09-01T18:13:50.219172Z"
    }
   },
   "outputs": [
    {
     "data": {
      "text/html": [
       "<table class=\"simpletable\">\n",
       "<caption>OLS Regression Results</caption>\n",
       "<tr>\n",
       "  <th>Dep. Variable:</th>            <td>y</td>        <th>  R-squared (uncentered):</th>      <td>   0.955</td> \n",
       "</tr>\n",
       "<tr>\n",
       "  <th>Model:</th>                   <td>OLS</td>       <th>  Adj. R-squared (uncentered):</th> <td>   0.955</td> \n",
       "</tr>\n",
       "<tr>\n",
       "  <th>Method:</th>             <td>Least Squares</td>  <th>  F-statistic:       </th>          <td>1.066e+04</td>\n",
       "</tr>\n",
       "<tr>\n",
       "  <th>Date:</th>             <td>Thu, 01 Sep 2022</td> <th>  Prob (F-statistic):</th>           <td>  0.00</td>  \n",
       "</tr>\n",
       "<tr>\n",
       "  <th>Time:</th>                 <td>18:13:50</td>     <th>  Log-Likelihood:    </th>          <td> -1437.8</td> \n",
       "</tr>\n",
       "<tr>\n",
       "  <th>No. Observations:</th>      <td>  1000</td>      <th>  AIC:               </th>          <td>   2880.</td> \n",
       "</tr>\n",
       "<tr>\n",
       "  <th>Df Residuals:</th>          <td>   998</td>      <th>  BIC:               </th>          <td>   2889.</td> \n",
       "</tr>\n",
       "<tr>\n",
       "  <th>Df Model:</th>              <td>     2</td>      <th>                     </th>              <td> </td>    \n",
       "</tr>\n",
       "<tr>\n",
       "  <th>Covariance Type:</th>      <td>nonrobust</td>    <th>                     </th>              <td> </td>    \n",
       "</tr>\n",
       "</table>\n",
       "<table class=\"simpletable\">\n",
       "<tr>\n",
       "   <td></td>     <th>coef</th>     <th>std err</th>      <th>t</th>      <th>P>|t|</th>  <th>[0.025</th>    <th>0.975]</th>  \n",
       "</tr>\n",
       "<tr>\n",
       "  <th>x1</th> <td>    1.7551</td> <td>    0.038</td> <td>   46.765</td> <td> 0.000</td> <td>    1.681</td> <td>    1.829</td>\n",
       "</tr>\n",
       "<tr>\n",
       "  <th>x2</th> <td>    4.9372</td> <td>    0.049</td> <td>  100.631</td> <td> 0.000</td> <td>    4.841</td> <td>    5.034</td>\n",
       "</tr>\n",
       "</table>\n",
       "<table class=\"simpletable\">\n",
       "<tr>\n",
       "  <th>Omnibus:</th>       <td> 2.252</td> <th>  Durbin-Watson:     </th> <td>   1.929</td>\n",
       "</tr>\n",
       "<tr>\n",
       "  <th>Prob(Omnibus):</th> <td> 0.324</td> <th>  Jarque-Bera (JB):  </th> <td>   2.332</td>\n",
       "</tr>\n",
       "<tr>\n",
       "  <th>Skew:</th>          <td>-0.009</td> <th>  Prob(JB):          </th> <td>   0.312</td>\n",
       "</tr>\n",
       "<tr>\n",
       "  <th>Kurtosis:</th>      <td> 3.236</td> <th>  Cond. No.          </th> <td>    1.78</td>\n",
       "</tr>\n",
       "</table><br/><br/>Notes:<br/>[1] R² is computed without centering (uncentered) since the model does not contain a constant.<br/>[2] Standard Errors assume that the covariance matrix of the errors is correctly specified."
      ],
      "text/plain": [
       "<class 'statsmodels.iolib.summary.Summary'>\n",
       "\"\"\"\n",
       "                                 OLS Regression Results                                \n",
       "=======================================================================================\n",
       "Dep. Variable:                      y   R-squared (uncentered):                   0.955\n",
       "Model:                            OLS   Adj. R-squared (uncentered):              0.955\n",
       "Method:                 Least Squares   F-statistic:                          1.066e+04\n",
       "Date:                Thu, 01 Sep 2022   Prob (F-statistic):                        0.00\n",
       "Time:                        18:13:50   Log-Likelihood:                         -1437.8\n",
       "No. Observations:                1000   AIC:                                      2880.\n",
       "Df Residuals:                     998   BIC:                                      2889.\n",
       "Df Model:                           2                                                  \n",
       "Covariance Type:            nonrobust                                                  \n",
       "==============================================================================\n",
       "                 coef    std err          t      P>|t|      [0.025      0.975]\n",
       "------------------------------------------------------------------------------\n",
       "x1             1.7551      0.038     46.765      0.000       1.681       1.829\n",
       "x2             4.9372      0.049    100.631      0.000       4.841       5.034\n",
       "==============================================================================\n",
       "Omnibus:                        2.252   Durbin-Watson:                   1.929\n",
       "Prob(Omnibus):                  0.324   Jarque-Bera (JB):                2.332\n",
       "Skew:                          -0.009   Prob(JB):                        0.312\n",
       "Kurtosis:                       3.236   Cond. No.                         1.78\n",
       "==============================================================================\n",
       "\n",
       "Notes:\n",
       "[1] R² is computed without centering (uncentered) since the model does not contain a constant.\n",
       "[2] Standard Errors assume that the covariance matrix of the errors is correctly specified.\n",
       "\"\"\""
      ]
     },
     "execution_count": 10,
     "metadata": {},
     "output_type": "execute_result"
    }
   ],
   "source": [
    "model = OLS(np.asarray(df[outcome]), np.asarray(df[[common_cause, treatment]], dtype=np.float64))\n",
    "result = model.fit()\n",
    "result.summary()"
   ]
  }
 ],
 "metadata": {
  "kernelspec": {
   "display_name": "Python 3",
   "language": "python",
   "name": "python3"
  },
  "language_info": {
   "codemirror_mode": {
    "name": "ipython",
    "version": 3
   },
   "file_extension": ".py",
   "mimetype": "text/x-python",
   "name": "python",
   "nbconvert_exporter": "python",
   "pygments_lexer": "ipython3",
   "version": "3.8.10"
  },
  "toc": {
   "base_numbering": 1,
   "nav_menu": {},
   "number_sections": false,
   "sideBar": true,
   "skip_h1_title": true,
   "title_cell": "Table of Contents",
   "title_sidebar": "Contents",
   "toc_cell": false,
   "toc_position": {},
   "toc_section_display": true,
   "toc_window_display": false
  }
 },
 "nbformat": 4,
 "nbformat_minor": 4
}
