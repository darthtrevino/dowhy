{
 "cells": [
  {
   "cell_type": "markdown",
   "id": "f7f010de",
   "metadata": {},
   "source": [
    "# DoWhy: Interpreters for Causal Estimators\n",
    "\n",
    "This is a quick introduction to the use of interpreters in the DoWhy causal inference library.\n",
    "We will load in a sample dataset, use different methods for estimating the causal effect of a (pre-specified)treatment variable on a (pre-specified) outcome variable and demonstrate how to interpret the obtained results.\n",
    "\n",
    "First, let us add the required path for Python to find the DoWhy code and load all required packages"
   ]
  },
  {
   "cell_type": "code",
   "execution_count": 1,
   "id": "344ead58",
   "metadata": {
    "execution": {
     "iopub.execute_input": "2022-09-01T18:36:37.557628Z",
     "iopub.status.busy": "2022-09-01T18:36:37.557214Z",
     "iopub.status.idle": "2022-09-01T18:36:37.573586Z",
     "shell.execute_reply": "2022-09-01T18:36:37.572615Z"
    }
   },
   "outputs": [],
   "source": [
    "%load_ext autoreload\n",
    "%autoreload 2"
   ]
  },
  {
   "cell_type": "code",
   "execution_count": 2,
   "id": "601b91b9",
   "metadata": {
    "execution": {
     "iopub.execute_input": "2022-09-01T18:36:37.576395Z",
     "iopub.status.busy": "2022-09-01T18:36:37.575969Z",
     "iopub.status.idle": "2022-09-01T18:36:38.513720Z",
     "shell.execute_reply": "2022-09-01T18:36:38.513083Z"
    }
   },
   "outputs": [],
   "source": [
    "import numpy as np\n",
    "import pandas as pd\n",
    "import logging\n",
    "\n",
    "import dowhy\n",
    "from dowhy import CausalModel\n",
    "import dowhy.datasets "
   ]
  },
  {
   "cell_type": "markdown",
   "id": "8c23288e",
   "metadata": {},
   "source": [
    "Now, let us load a dataset. For simplicity, we simulate a dataset with linear relationships between common causes and treatment, and common causes and outcome.\n",
    "\n",
    "Beta is the true causal effect."
   ]
  },
  {
   "cell_type": "code",
   "execution_count": 3,
   "id": "fc1570be",
   "metadata": {
    "execution": {
     "iopub.execute_input": "2022-09-01T18:36:38.517581Z",
     "iopub.status.busy": "2022-09-01T18:36:38.517123Z",
     "iopub.status.idle": "2022-09-01T18:36:38.797775Z",
     "shell.execute_reply": "2022-09-01T18:36:38.797248Z"
    }
   },
   "outputs": [
    {
     "name": "stdout",
     "output_type": "stream",
     "text": [
      "8221\n"
     ]
    },
    {
     "data": {
      "text/html": [
       "<div>\n",
       "<style scoped>\n",
       "    .dataframe tbody tr th:only-of-type {\n",
       "        vertical-align: middle;\n",
       "    }\n",
       "\n",
       "    .dataframe tbody tr th {\n",
       "        vertical-align: top;\n",
       "    }\n",
       "\n",
       "    .dataframe thead th {\n",
       "        text-align: right;\n",
       "    }\n",
       "</style>\n",
       "<table border=\"1\" class=\"dataframe\">\n",
       "  <thead>\n",
       "    <tr style=\"text-align: right;\">\n",
       "      <th></th>\n",
       "      <th>Z0</th>\n",
       "      <th>Z1</th>\n",
       "      <th>W0</th>\n",
       "      <th>W1</th>\n",
       "      <th>W2</th>\n",
       "      <th>W3</th>\n",
       "      <th>W4</th>\n",
       "      <th>v0</th>\n",
       "      <th>y</th>\n",
       "    </tr>\n",
       "  </thead>\n",
       "  <tbody>\n",
       "    <tr>\n",
       "      <th>0</th>\n",
       "      <td>1.0</td>\n",
       "      <td>0.977458</td>\n",
       "      <td>-2.008501</td>\n",
       "      <td>-0.574988</td>\n",
       "      <td>0.284695</td>\n",
       "      <td>0.432237</td>\n",
       "      <td>3</td>\n",
       "      <td>True</td>\n",
       "      <td>0.533525</td>\n",
       "    </tr>\n",
       "    <tr>\n",
       "      <th>1</th>\n",
       "      <td>1.0</td>\n",
       "      <td>0.860743</td>\n",
       "      <td>-1.135498</td>\n",
       "      <td>1.573104</td>\n",
       "      <td>-0.804946</td>\n",
       "      <td>-0.827875</td>\n",
       "      <td>0</td>\n",
       "      <td>True</td>\n",
       "      <td>0.736847</td>\n",
       "    </tr>\n",
       "    <tr>\n",
       "      <th>2</th>\n",
       "      <td>0.0</td>\n",
       "      <td>0.597053</td>\n",
       "      <td>1.433333</td>\n",
       "      <td>1.089457</td>\n",
       "      <td>-0.482274</td>\n",
       "      <td>-0.535938</td>\n",
       "      <td>1</td>\n",
       "      <td>True</td>\n",
       "      <td>2.000879</td>\n",
       "    </tr>\n",
       "    <tr>\n",
       "      <th>3</th>\n",
       "      <td>1.0</td>\n",
       "      <td>0.378402</td>\n",
       "      <td>0.064267</td>\n",
       "      <td>2.467882</td>\n",
       "      <td>-2.022411</td>\n",
       "      <td>-1.501727</td>\n",
       "      <td>0</td>\n",
       "      <td>True</td>\n",
       "      <td>1.094794</td>\n",
       "    </tr>\n",
       "    <tr>\n",
       "      <th>4</th>\n",
       "      <td>1.0</td>\n",
       "      <td>0.009670</td>\n",
       "      <td>-0.062269</td>\n",
       "      <td>1.132699</td>\n",
       "      <td>-0.597851</td>\n",
       "      <td>-1.120908</td>\n",
       "      <td>2</td>\n",
       "      <td>True</td>\n",
       "      <td>1.284796</td>\n",
       "    </tr>\n",
       "    <tr>\n",
       "      <th>...</th>\n",
       "      <td>...</td>\n",
       "      <td>...</td>\n",
       "      <td>...</td>\n",
       "      <td>...</td>\n",
       "      <td>...</td>\n",
       "      <td>...</td>\n",
       "      <td>...</td>\n",
       "      <td>...</td>\n",
       "      <td>...</td>\n",
       "    </tr>\n",
       "    <tr>\n",
       "      <th>9995</th>\n",
       "      <td>1.0</td>\n",
       "      <td>0.233045</td>\n",
       "      <td>-0.933230</td>\n",
       "      <td>0.627034</td>\n",
       "      <td>0.158425</td>\n",
       "      <td>-0.762364</td>\n",
       "      <td>2</td>\n",
       "      <td>True</td>\n",
       "      <td>1.025971</td>\n",
       "    </tr>\n",
       "    <tr>\n",
       "      <th>9996</th>\n",
       "      <td>0.0</td>\n",
       "      <td>0.726664</td>\n",
       "      <td>0.680315</td>\n",
       "      <td>-0.887382</td>\n",
       "      <td>-0.805136</td>\n",
       "      <td>-0.269462</td>\n",
       "      <td>0</td>\n",
       "      <td>False</td>\n",
       "      <td>-0.524233</td>\n",
       "    </tr>\n",
       "    <tr>\n",
       "      <th>9997</th>\n",
       "      <td>0.0</td>\n",
       "      <td>0.268693</td>\n",
       "      <td>0.084534</td>\n",
       "      <td>-1.492056</td>\n",
       "      <td>-0.142989</td>\n",
       "      <td>-0.691315</td>\n",
       "      <td>3</td>\n",
       "      <td>False</td>\n",
       "      <td>-0.533123</td>\n",
       "    </tr>\n",
       "    <tr>\n",
       "      <th>9998</th>\n",
       "      <td>1.0</td>\n",
       "      <td>0.653233</td>\n",
       "      <td>-2.939299</td>\n",
       "      <td>1.926249</td>\n",
       "      <td>-1.684024</td>\n",
       "      <td>-0.246396</td>\n",
       "      <td>2</td>\n",
       "      <td>False</td>\n",
       "      <td>-0.692087</td>\n",
       "    </tr>\n",
       "    <tr>\n",
       "      <th>9999</th>\n",
       "      <td>1.0</td>\n",
       "      <td>0.783873</td>\n",
       "      <td>-0.994715</td>\n",
       "      <td>1.741854</td>\n",
       "      <td>-0.721818</td>\n",
       "      <td>0.179199</td>\n",
       "      <td>0</td>\n",
       "      <td>True</td>\n",
       "      <td>1.225675</td>\n",
       "    </tr>\n",
       "  </tbody>\n",
       "</table>\n",
       "<p>10000 rows × 9 columns</p>\n",
       "</div>"
      ],
      "text/plain": [
       "       Z0        Z1        W0        W1        W2        W3 W4     v0  \\\n",
       "0     1.0  0.977458 -2.008501 -0.574988  0.284695  0.432237  3   True   \n",
       "1     1.0  0.860743 -1.135498  1.573104 -0.804946 -0.827875  0   True   \n",
       "2     0.0  0.597053  1.433333  1.089457 -0.482274 -0.535938  1   True   \n",
       "3     1.0  0.378402  0.064267  2.467882 -2.022411 -1.501727  0   True   \n",
       "4     1.0  0.009670 -0.062269  1.132699 -0.597851 -1.120908  2   True   \n",
       "...   ...       ...       ...       ...       ...       ... ..    ...   \n",
       "9995  1.0  0.233045 -0.933230  0.627034  0.158425 -0.762364  2   True   \n",
       "9996  0.0  0.726664  0.680315 -0.887382 -0.805136 -0.269462  0  False   \n",
       "9997  0.0  0.268693  0.084534 -1.492056 -0.142989 -0.691315  3  False   \n",
       "9998  1.0  0.653233 -2.939299  1.926249 -1.684024 -0.246396  2  False   \n",
       "9999  1.0  0.783873 -0.994715  1.741854 -0.721818  0.179199  0   True   \n",
       "\n",
       "             y  \n",
       "0     0.533525  \n",
       "1     0.736847  \n",
       "2     2.000879  \n",
       "3     1.094794  \n",
       "4     1.284796  \n",
       "...        ...  \n",
       "9995  1.025971  \n",
       "9996 -0.524233  \n",
       "9997 -0.533123  \n",
       "9998 -0.692087  \n",
       "9999  1.225675  \n",
       "\n",
       "[10000 rows x 9 columns]"
      ]
     },
     "execution_count": 3,
     "metadata": {},
     "output_type": "execute_result"
    }
   ],
   "source": [
    "data = dowhy.datasets.linear_dataset(beta=1,\n",
    "        num_common_causes=5, \n",
    "        num_instruments = 2,\n",
    "        num_treatments=1,\n",
    "        num_discrete_common_causes=1,\n",
    "        num_samples=10000,\n",
    "        treatment_is_binary=True,\n",
    "        outcome_is_binary=False)\n",
    "df = data[\"df\"]\n",
    "print(df[df.v0==True].shape[0])\n",
    "df"
   ]
  },
  {
   "cell_type": "markdown",
   "id": "08efa5a2",
   "metadata": {},
   "source": [
    "Note that we are using a pandas dataframe to load the data."
   ]
  },
  {
   "cell_type": "markdown",
   "id": "76cee8aa",
   "metadata": {},
   "source": [
    "## Identifying the causal estimand"
   ]
  },
  {
   "cell_type": "markdown",
   "id": "650e4649",
   "metadata": {},
   "source": [
    "We now input a causal graph in the GML graph format."
   ]
  },
  {
   "cell_type": "code",
   "execution_count": 4,
   "id": "698f86dd",
   "metadata": {
    "execution": {
     "iopub.execute_input": "2022-09-01T18:36:38.800947Z",
     "iopub.status.busy": "2022-09-01T18:36:38.800349Z",
     "iopub.status.idle": "2022-09-01T18:36:38.823852Z",
     "shell.execute_reply": "2022-09-01T18:36:38.823357Z"
    }
   },
   "outputs": [],
   "source": [
    "# With graph\n",
    "model=CausalModel(\n",
    "        data = df,\n",
    "        treatment=data[\"treatment_name\"],\n",
    "        outcome=data[\"outcome_name\"],\n",
    "        graph=data[\"gml_graph\"],\n",
    "        instruments=data[\"instrument_names\"]\n",
    "        )"
   ]
  },
  {
   "cell_type": "code",
   "execution_count": 5,
   "id": "d4d647ae",
   "metadata": {
    "execution": {
     "iopub.execute_input": "2022-09-01T18:36:38.826778Z",
     "iopub.status.busy": "2022-09-01T18:36:38.826247Z",
     "iopub.status.idle": "2022-09-01T18:36:38.878270Z",
     "shell.execute_reply": "2022-09-01T18:36:38.877647Z"
    }
   },
   "outputs": [],
   "source": [
    "model.view_model()"
   ]
  },
  {
   "cell_type": "code",
   "execution_count": 6,
   "id": "61e110a4",
   "metadata": {
    "execution": {
     "iopub.execute_input": "2022-09-01T18:36:38.881632Z",
     "iopub.status.busy": "2022-09-01T18:36:38.881086Z",
     "iopub.status.idle": "2022-09-01T18:36:38.904490Z",
     "shell.execute_reply": "2022-09-01T18:36:38.903857Z"
    }
   },
   "outputs": [
    {
     "data": {
      "image/png": "[encoded data removed]",
      "text/plain": [
       "<IPython.core.display.Image object>"
      ]
     },
     "metadata": {},
     "output_type": "display_data"
    }
   ],
   "source": [
    "from IPython.display import Image, display\n",
    "display(Image(filename=\"causal_model.png\"))"
   ]
  },
  {
   "cell_type": "markdown",
   "id": "e4f215be",
   "metadata": {},
   "source": [
    "We get a causal graph. Now identification and estimation is done."
   ]
  },
  {
   "cell_type": "code",
   "execution_count": 7,
   "id": "1f73f016",
   "metadata": {
    "execution": {
     "iopub.execute_input": "2022-09-01T18:36:38.908110Z",
     "iopub.status.busy": "2022-09-01T18:36:38.907713Z",
     "iopub.status.idle": "2022-09-01T18:36:39.121500Z",
     "shell.execute_reply": "2022-09-01T18:36:39.120921Z"
    }
   },
   "outputs": [
    {
     "name": "stdout",
     "output_type": "stream",
     "text": [
      "Estimand type: nonparametric-ate\n",
      "\n",
      "### Estimand : 1\n",
      "Estimand name: backdoor\n",
      "Estimand expression:\n",
      "  d                       \n",
      "─────(E[y|W1,W4,W2,W3,W0])\n",
      "d[v₀]                     \n",
      "Estimand assumption 1, Unconfoundedness: If U→{v0} and U→y then P(y|v0,W1,W4,W2,W3,W0,U) = P(y|v0,W1,W4,W2,W3,W0)\n",
      "\n",
      "### Estimand : 2\n",
      "Estimand name: iv\n",
      "Estimand expression:\n",
      " ⎡                              -1⎤\n",
      " ⎢    d        ⎛    d          ⎞  ⎥\n",
      "E⎢─────────(y)⋅⎜─────────([v₀])⎟  ⎥\n",
      " ⎣d[Z₀  Z₁]    ⎝d[Z₀  Z₁]      ⎠  ⎦\n",
      "Estimand assumption 1, As-if-random: If U→→y then ¬(U →→{Z0,Z1})\n",
      "Estimand assumption 2, Exclusion: If we remove {Z0,Z1}→{v0}, then ¬({Z0,Z1}→y)\n",
      "\n",
      "### Estimand : 3\n",
      "Estimand name: frontdoor\n",
      "No such variable(s) found!\n",
      "\n"
     ]
    }
   ],
   "source": [
    "identified_estimand = model.identify_effect(proceed_when_unidentifiable=True)\n",
    "print(identified_estimand)"
   ]
  },
  {
   "cell_type": "markdown",
   "id": "c97a21e9",
   "metadata": {},
   "source": [
    "## Method 1: Propensity Score Stratification\n",
    "\n",
    "We will be using propensity scores to stratify units in the data."
   ]
  },
  {
   "cell_type": "code",
   "execution_count": 8,
   "id": "027b0d3d",
   "metadata": {
    "execution": {
     "iopub.execute_input": "2022-09-01T18:36:39.124466Z",
     "iopub.status.busy": "2022-09-01T18:36:39.124248Z",
     "iopub.status.idle": "2022-09-01T18:36:39.725704Z",
     "shell.execute_reply": "2022-09-01T18:36:39.725082Z"
    }
   },
   "outputs": [
    {
     "name": "stdout",
     "output_type": "stream",
     "text": [
      "*** Causal Estimate ***\n",
      "\n",
      "## Identified estimand\n",
      "Estimand type: nonparametric-ate\n",
      "\n",
      "### Estimand : 1\n",
      "Estimand name: backdoor\n",
      "Estimand expression:\n",
      "  d                       \n",
      "─────(E[y|W1,W4,W2,W3,W0])\n",
      "d[v₀]                     \n",
      "Estimand assumption 1, Unconfoundedness: If U→{v0} and U→y then P(y|v0,W1,W4,W2,W3,W0,U) = P(y|v0,W1,W4,W2,W3,W0)\n",
      "\n",
      "## Realized estimand\n",
      "b: y~v0+W1+W4+W2+W3+W0\n",
      "Target units: att\n",
      "\n",
      "## Estimate\n",
      "Mean value: 0.998473445076859\n",
      "\n",
      "Causal Estimate is 0.998473445076859\n"
     ]
    }
   ],
   "source": [
    "causal_estimate_strat = model.estimate_effect(identified_estimand,\n",
    "                                              method_name=\"backdoor.propensity_score_stratification\",\n",
    "                                              target_units=\"att\")\n",
    "print(causal_estimate_strat)\n",
    "print(\"Causal Estimate is \" + str(causal_estimate_strat.value))"
   ]
  },
  {
   "cell_type": "markdown",
   "id": "4914fd0c",
   "metadata": {},
   "source": [
    "### Textual Interpreter\n",
    "\n",
    "The textual Interpreter describes (in words) the effect of unit change in the treatment variable on the outcome variable."
   ]
  },
  {
   "cell_type": "code",
   "execution_count": 9,
   "id": "2a0555c1",
   "metadata": {
    "execution": {
     "iopub.execute_input": "2022-09-01T18:36:39.729071Z",
     "iopub.status.busy": "2022-09-01T18:36:39.728643Z",
     "iopub.status.idle": "2022-09-01T18:36:39.752415Z",
     "shell.execute_reply": "2022-09-01T18:36:39.751849Z"
    }
   },
   "outputs": [
    {
     "name": "stdout",
     "output_type": "stream",
     "text": [
      "Increasing the treatment variable(s) [v0] from 0 to 1 causes an increase of 0.998473445076859 in the expected value of the outcome [y], over the data distribution/population represented by the dataset.\n"
     ]
    }
   ],
   "source": [
    "# Textual Interpreter\n",
    "interpretation = causal_estimate_strat.interpret(method_name=\"textual_effect_interpreter\")"
   ]
  },
  {
   "cell_type": "markdown",
   "id": "5e87cf62",
   "metadata": {},
   "source": [
    "### Visual Interpreter\n",
    "\n",
    "The visual interpreter plots the change in the standardized mean difference (SMD) before and after Propensity Score based adjustment of the dataset. The formula for SMD is given below.\n",
    "\n",
    "\n",
    "$SMD = \\frac{\\bar X_{1} - \\bar X_{2}}{\\sqrt{(S_{1}^{2} + S_{2}^{2})/2}}$\n",
    "\n",
    "Here, $\\bar X_{1}$ and $\\bar X_{2}$ are the sample mean for the treated and control groups.\n"
   ]
  },
  {
   "cell_type": "code",
   "execution_count": 10,
   "id": "2a3fc6b2",
   "metadata": {
    "execution": {
     "iopub.execute_input": "2022-09-01T18:36:39.755302Z",
     "iopub.status.busy": "2022-09-01T18:36:39.754802Z",
     "iopub.status.idle": "2022-09-01T18:36:40.969673Z",
     "shell.execute_reply": "2022-09-01T18:36:40.969060Z"
    }
   },
   "outputs": [
    {
     "data": {
      "image/png": "[encoded data removed]",
      "text/plain": [
       "<Figure size 640x480 with 1 Axes>"
      ]
     },
     "metadata": {},
     "output_type": "display_data"
    }
   ],
   "source": [
    "# Visual Interpreter\n",
    "interpretation = causal_estimate_strat.interpret(method_name=\"propensity_balance_interpreter\")"
   ]
  },
  {
   "cell_type": "markdown",
   "id": "ebc62510",
   "metadata": {},
   "source": [
    "This plot shows how the SMD decreases from the unadjusted to the stratified units. "
   ]
  },
  {
   "cell_type": "markdown",
   "id": "177b06a0",
   "metadata": {},
   "source": [
    "## Method 2: Propensity Score Matching\n",
    "\n",
    "We will be using propensity scores to match units in the data."
   ]
  },
  {
   "cell_type": "code",
   "execution_count": 11,
   "id": "22fe8b4b",
   "metadata": {
    "execution": {
     "iopub.execute_input": "2022-09-01T18:36:40.973076Z",
     "iopub.status.busy": "2022-09-01T18:36:40.972429Z",
     "iopub.status.idle": "2022-09-01T18:36:44.528682Z",
     "shell.execute_reply": "2022-09-01T18:36:44.527870Z"
    }
   },
   "outputs": [
    {
     "name": "stdout",
     "output_type": "stream",
     "text": [
      "*** Causal Estimate ***\n",
      "\n",
      "## Identified estimand\n",
      "Estimand type: nonparametric-ate\n",
      "\n",
      "### Estimand : 1\n",
      "Estimand name: backdoor\n",
      "Estimand expression:\n",
      "  d                       \n",
      "─────(E[y|W1,W4,W2,W3,W0])\n",
      "d[v₀]                     \n",
      "Estimand assumption 1, Unconfoundedness: If U→{v0} and U→y then P(y|v0,W1,W4,W2,W3,W0,U) = P(y|v0,W1,W4,W2,W3,W0)\n",
      "\n",
      "## Realized estimand\n",
      "b: y~v0+W1+W4+W2+W3+W0\n",
      "Target units: atc\n",
      "\n",
      "## Estimate\n",
      "Mean value: 0.9991907572103665\n",
      "\n",
      "Causal Estimate is 0.9991907572103665\n"
     ]
    }
   ],
   "source": [
    "causal_estimate_match = model.estimate_effect(identified_estimand,\n",
    "                                              method_name=\"backdoor.propensity_score_matching\",\n",
    "                                              target_units=\"atc\")\n",
    "print(causal_estimate_match)\n",
    "print(\"Causal Estimate is \" + str(causal_estimate_match.value))"
   ]
  },
  {
   "cell_type": "code",
   "execution_count": 12,
   "id": "656fe839",
   "metadata": {
    "execution": {
     "iopub.execute_input": "2022-09-01T18:36:44.531736Z",
     "iopub.status.busy": "2022-09-01T18:36:44.531227Z",
     "iopub.status.idle": "2022-09-01T18:36:44.554970Z",
     "shell.execute_reply": "2022-09-01T18:36:44.554376Z"
    }
   },
   "outputs": [
    {
     "name": "stdout",
     "output_type": "stream",
     "text": [
      "Increasing the treatment variable(s) [v0] from 0 to 1 causes an increase of 0.9991907572103665 in the expected value of the outcome [y], over the data distribution/population represented by the dataset.\n"
     ]
    }
   ],
   "source": [
    "# Textual Interpreter\n",
    "interpretation = causal_estimate_match.interpret(method_name=\"textual_effect_interpreter\")"
   ]
  },
  {
   "cell_type": "markdown",
   "id": "9911aefa",
   "metadata": {},
   "source": [
    "Cannot use propensity balance interpretor here since the interpreter method only supports propensity score stratification estimator."
   ]
  },
  {
   "cell_type": "markdown",
   "id": "26b17ac1",
   "metadata": {},
   "source": [
    "## Method 3: Weighting\n",
    "\n",
    "We will be using (inverse) propensity scores to assign weights to units in the data. DoWhy supports a few different weighting schemes:\n",
    "1. Vanilla Inverse Propensity Score weighting (IPS) (weighting_scheme=\"ips_weight\")\n",
    "2. Self-normalized IPS weighting (also known as the Hajek estimator) (weighting_scheme=\"ips_normalized_weight\")\n",
    "3. Stabilized IPS weighting (weighting_scheme = \"ips_stabilized_weight\")"
   ]
  },
  {
   "cell_type": "code",
   "execution_count": 13,
   "id": "62344f34",
   "metadata": {
    "execution": {
     "iopub.execute_input": "2022-09-01T18:36:44.558168Z",
     "iopub.status.busy": "2022-09-01T18:36:44.557849Z",
     "iopub.status.idle": "2022-09-01T18:36:44.616101Z",
     "shell.execute_reply": "2022-09-01T18:36:44.615440Z"
    }
   },
   "outputs": [
    {
     "name": "stdout",
     "output_type": "stream",
     "text": [
      "*** Causal Estimate ***\n",
      "\n",
      "## Identified estimand\n",
      "Estimand type: nonparametric-ate\n",
      "\n",
      "### Estimand : 1\n",
      "Estimand name: backdoor\n",
      "Estimand expression:\n",
      "  d                       \n",
      "─────(E[y|W1,W4,W2,W3,W0])\n",
      "d[v₀]                     \n",
      "Estimand assumption 1, Unconfoundedness: If U→{v0} and U→y then P(y|v0,W1,W4,W2,W3,W0,U) = P(y|v0,W1,W4,W2,W3,W0)\n",
      "\n",
      "## Realized estimand\n",
      "b: y~v0+W1+W4+W2+W3+W0\n",
      "Target units: ate\n",
      "\n",
      "## Estimate\n",
      "Mean value: 0.9956950015094724\n",
      "\n",
      "Causal Estimate is 0.9956950015094724\n"
     ]
    }
   ],
   "source": [
    "causal_estimate_ipw = model.estimate_effect(identified_estimand,\n",
    "                                            method_name=\"backdoor.propensity_score_weighting\",\n",
    "                                            target_units = \"ate\",\n",
    "                                            method_params={\"weighting_scheme\":\"ips_weight\"})\n",
    "print(causal_estimate_ipw)\n",
    "print(\"Causal Estimate is \" + str(causal_estimate_ipw.value))"
   ]
  },
  {
   "cell_type": "code",
   "execution_count": 14,
   "id": "2a45c011",
   "metadata": {
    "execution": {
     "iopub.execute_input": "2022-09-01T18:36:44.618859Z",
     "iopub.status.busy": "2022-09-01T18:36:44.618544Z",
     "iopub.status.idle": "2022-09-01T18:36:44.648456Z",
     "shell.execute_reply": "2022-09-01T18:36:44.647854Z"
    }
   },
   "outputs": [
    {
     "name": "stdout",
     "output_type": "stream",
     "text": [
      "Increasing the treatment variable(s) [v0] from 0 to 1 causes an increase of 0.9956950015094724 in the expected value of the outcome [y], over the data distribution/population represented by the dataset.\n"
     ]
    }
   ],
   "source": [
    "# Textual Interpreter\n",
    "interpretation = causal_estimate_ipw.interpret(method_name=\"textual_effect_interpreter\")"
   ]
  },
  {
   "cell_type": "code",
   "execution_count": 15,
   "id": "59f11140",
   "metadata": {
    "execution": {
     "iopub.execute_input": "2022-09-01T18:36:44.651491Z",
     "iopub.status.busy": "2022-09-01T18:36:44.651175Z",
     "iopub.status.idle": "2022-09-01T18:36:44.961989Z",
     "shell.execute_reply": "2022-09-01T18:36:44.961362Z"
    }
   },
   "outputs": [
    {
     "data": {
      "image/png": "[encoded data removed]",
      "text/plain": [
       "<Figure size 800x800 with 2 Axes>"
      ]
     },
     "metadata": {},
     "output_type": "display_data"
    }
   ],
   "source": [
    "interpretation = causal_estimate_ipw.interpret(method_name=\"confounder_distribution_interpreter\", fig_size=(8,8), font_size=12, var_name='W4', var_type='discrete')"
   ]
  },
  {
   "cell_type": "code",
   "execution_count": null,
   "id": "38eabc40",
   "metadata": {},
   "outputs": [],
   "source": []
  }
 ],
 "metadata": {
  "kernelspec": {
   "display_name": "Python 3",
   "language": "python",
   "name": "python3"
  },
  "language_info": {
   "codemirror_mode": {
    "name": "ipython",
    "version": 3
   },
   "file_extension": ".py",
   "mimetype": "text/x-python",
   "name": "python",
   "nbconvert_exporter": "python",
   "pygments_lexer": "ipython3",
   "version": "3.8.10"
  },
  "toc": {
   "base_numbering": 1,
   "nav_menu": {},
   "number_sections": false,
   "sideBar": true,
   "skip_h1_title": true,
   "title_cell": "Table of Contents",
   "title_sidebar": "Contents",
   "toc_cell": false,
   "toc_position": {},
   "toc_section_display": true,
   "toc_window_display": false
  }
 },
 "nbformat": 4,
 "nbformat_minor": 5
}
