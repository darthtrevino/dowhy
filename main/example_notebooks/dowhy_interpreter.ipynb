{
 "cells": [
  {
   "cell_type": "markdown",
   "id": "1217440c",
   "metadata": {},
   "source": [
    "# DoWhy: Interpreters for Causal Estimators\n",
    "\n",
    "This is a quick introduction to the use of interpreters in the DoWhy causal inference library.\n",
    "We will load in a sample dataset, use different methods for estimating the causal effect of a (pre-specified)treatment variable on a (pre-specified) outcome variable and demonstrate how to interpret the obtained results.\n",
    "\n",
    "First, let us add the required path for Python to find the DoWhy code and load all required packages"
   ]
  },
  {
   "cell_type": "code",
   "execution_count": 1,
   "id": "b6e4204d",
   "metadata": {
    "execution": {
     "iopub.execute_input": "2022-08-12T22:57:11.278149Z",
     "iopub.status.busy": "2022-08-12T22:57:11.277727Z",
     "iopub.status.idle": "2022-08-12T22:57:11.293414Z",
     "shell.execute_reply": "2022-08-12T22:57:11.292839Z"
    }
   },
   "outputs": [],
   "source": [
    "%load_ext autoreload\n",
    "%autoreload 2"
   ]
  },
  {
   "cell_type": "code",
   "execution_count": 2,
   "id": "4b744bd3",
   "metadata": {
    "execution": {
     "iopub.execute_input": "2022-08-12T22:57:11.296083Z",
     "iopub.status.busy": "2022-08-12T22:57:11.295882Z",
     "iopub.status.idle": "2022-08-12T22:57:12.233691Z",
     "shell.execute_reply": "2022-08-12T22:57:12.233033Z"
    }
   },
   "outputs": [],
   "source": [
    "import numpy as np\n",
    "import pandas as pd\n",
    "import logging\n",
    "\n",
    "import dowhy\n",
    "from dowhy import CausalModel\n",
    "import dowhy.datasets "
   ]
  },
  {
   "cell_type": "markdown",
   "id": "6cb329ec",
   "metadata": {},
   "source": [
    "Now, let us load a dataset. For simplicity, we simulate a dataset with linear relationships between common causes and treatment, and common causes and outcome.\n",
    "\n",
    "Beta is the true causal effect."
   ]
  },
  {
   "cell_type": "code",
   "execution_count": 3,
   "id": "7961baf1",
   "metadata": {
    "execution": {
     "iopub.execute_input": "2022-08-12T22:57:12.237520Z",
     "iopub.status.busy": "2022-08-12T22:57:12.237038Z",
     "iopub.status.idle": "2022-08-12T22:57:12.507987Z",
     "shell.execute_reply": "2022-08-12T22:57:12.507402Z"
    }
   },
   "outputs": [
    {
     "name": "stdout",
     "output_type": "stream",
     "text": [
      "7544\n"
     ]
    },
    {
     "data": {
      "text/html": [
       "<div>\n",
       "<style scoped>\n",
       "    .dataframe tbody tr th:only-of-type {\n",
       "        vertical-align: middle;\n",
       "    }\n",
       "\n",
       "    .dataframe tbody tr th {\n",
       "        vertical-align: top;\n",
       "    }\n",
       "\n",
       "    .dataframe thead th {\n",
       "        text-align: right;\n",
       "    }\n",
       "</style>\n",
       "<table border=\"1\" class=\"dataframe\">\n",
       "  <thead>\n",
       "    <tr style=\"text-align: right;\">\n",
       "      <th></th>\n",
       "      <th>Z0</th>\n",
       "      <th>Z1</th>\n",
       "      <th>W0</th>\n",
       "      <th>W1</th>\n",
       "      <th>W2</th>\n",
       "      <th>W3</th>\n",
       "      <th>W4</th>\n",
       "      <th>v0</th>\n",
       "      <th>y</th>\n",
       "    </tr>\n",
       "  </thead>\n",
       "  <tbody>\n",
       "    <tr>\n",
       "      <th>0</th>\n",
       "      <td>1.0</td>\n",
       "      <td>0.552409</td>\n",
       "      <td>-1.029793</td>\n",
       "      <td>-0.143348</td>\n",
       "      <td>1.210503</td>\n",
       "      <td>1.517092</td>\n",
       "      <td>0</td>\n",
       "      <td>True</td>\n",
       "      <td>1.637142</td>\n",
       "    </tr>\n",
       "    <tr>\n",
       "      <th>1</th>\n",
       "      <td>0.0</td>\n",
       "      <td>0.308982</td>\n",
       "      <td>-0.185735</td>\n",
       "      <td>-2.004102</td>\n",
       "      <td>2.619086</td>\n",
       "      <td>0.172200</td>\n",
       "      <td>1</td>\n",
       "      <td>True</td>\n",
       "      <td>2.143253</td>\n",
       "    </tr>\n",
       "    <tr>\n",
       "      <th>2</th>\n",
       "      <td>0.0</td>\n",
       "      <td>0.779060</td>\n",
       "      <td>-0.268633</td>\n",
       "      <td>-1.173328</td>\n",
       "      <td>0.602712</td>\n",
       "      <td>1.430033</td>\n",
       "      <td>0</td>\n",
       "      <td>True</td>\n",
       "      <td>1.868193</td>\n",
       "    </tr>\n",
       "    <tr>\n",
       "      <th>3</th>\n",
       "      <td>0.0</td>\n",
       "      <td>0.286486</td>\n",
       "      <td>0.390279</td>\n",
       "      <td>0.149370</td>\n",
       "      <td>1.308304</td>\n",
       "      <td>0.856983</td>\n",
       "      <td>2</td>\n",
       "      <td>True</td>\n",
       "      <td>3.445300</td>\n",
       "    </tr>\n",
       "    <tr>\n",
       "      <th>4</th>\n",
       "      <td>0.0</td>\n",
       "      <td>0.535618</td>\n",
       "      <td>1.879016</td>\n",
       "      <td>1.139201</td>\n",
       "      <td>2.332169</td>\n",
       "      <td>-0.639736</td>\n",
       "      <td>2</td>\n",
       "      <td>True</td>\n",
       "      <td>3.572237</td>\n",
       "    </tr>\n",
       "    <tr>\n",
       "      <th>...</th>\n",
       "      <td>...</td>\n",
       "      <td>...</td>\n",
       "      <td>...</td>\n",
       "      <td>...</td>\n",
       "      <td>...</td>\n",
       "      <td>...</td>\n",
       "      <td>...</td>\n",
       "      <td>...</td>\n",
       "      <td>...</td>\n",
       "    </tr>\n",
       "    <tr>\n",
       "      <th>9995</th>\n",
       "      <td>0.0</td>\n",
       "      <td>0.532457</td>\n",
       "      <td>-1.098918</td>\n",
       "      <td>-0.953073</td>\n",
       "      <td>-0.094814</td>\n",
       "      <td>-0.354185</td>\n",
       "      <td>0</td>\n",
       "      <td>True</td>\n",
       "      <td>0.087199</td>\n",
       "    </tr>\n",
       "    <tr>\n",
       "      <th>9996</th>\n",
       "      <td>0.0</td>\n",
       "      <td>0.044875</td>\n",
       "      <td>-0.474632</td>\n",
       "      <td>0.063562</td>\n",
       "      <td>1.261587</td>\n",
       "      <td>1.082546</td>\n",
       "      <td>0</td>\n",
       "      <td>False</td>\n",
       "      <td>0.717373</td>\n",
       "    </tr>\n",
       "    <tr>\n",
       "      <th>9997</th>\n",
       "      <td>0.0</td>\n",
       "      <td>0.857436</td>\n",
       "      <td>0.444529</td>\n",
       "      <td>0.003776</td>\n",
       "      <td>-0.100610</td>\n",
       "      <td>-0.813281</td>\n",
       "      <td>1</td>\n",
       "      <td>True</td>\n",
       "      <td>1.401004</td>\n",
       "    </tr>\n",
       "    <tr>\n",
       "      <th>9998</th>\n",
       "      <td>0.0</td>\n",
       "      <td>0.935740</td>\n",
       "      <td>-1.517612</td>\n",
       "      <td>-0.955372</td>\n",
       "      <td>0.299758</td>\n",
       "      <td>-0.280766</td>\n",
       "      <td>3</td>\n",
       "      <td>True</td>\n",
       "      <td>2.065785</td>\n",
       "    </tr>\n",
       "    <tr>\n",
       "      <th>9999</th>\n",
       "      <td>0.0</td>\n",
       "      <td>0.625637</td>\n",
       "      <td>-0.050882</td>\n",
       "      <td>-0.331757</td>\n",
       "      <td>0.314223</td>\n",
       "      <td>1.317436</td>\n",
       "      <td>1</td>\n",
       "      <td>True</td>\n",
       "      <td>2.589701</td>\n",
       "    </tr>\n",
       "  </tbody>\n",
       "</table>\n",
       "<p>10000 rows × 9 columns</p>\n",
       "</div>"
      ],
      "text/plain": [
       "       Z0        Z1        W0        W1        W2        W3 W4     v0  \\\n",
       "0     1.0  0.552409 -1.029793 -0.143348  1.210503  1.517092  0   True   \n",
       "1     0.0  0.308982 -0.185735 -2.004102  2.619086  0.172200  1   True   \n",
       "2     0.0  0.779060 -0.268633 -1.173328  0.602712  1.430033  0   True   \n",
       "3     0.0  0.286486  0.390279  0.149370  1.308304  0.856983  2   True   \n",
       "4     0.0  0.535618  1.879016  1.139201  2.332169 -0.639736  2   True   \n",
       "...   ...       ...       ...       ...       ...       ... ..    ...   \n",
       "9995  0.0  0.532457 -1.098918 -0.953073 -0.094814 -0.354185  0   True   \n",
       "9996  0.0  0.044875 -0.474632  0.063562  1.261587  1.082546  0  False   \n",
       "9997  0.0  0.857436  0.444529  0.003776 -0.100610 -0.813281  1   True   \n",
       "9998  0.0  0.935740 -1.517612 -0.955372  0.299758 -0.280766  3   True   \n",
       "9999  0.0  0.625637 -0.050882 -0.331757  0.314223  1.317436  1   True   \n",
       "\n",
       "             y  \n",
       "0     1.637142  \n",
       "1     2.143253  \n",
       "2     1.868193  \n",
       "3     3.445300  \n",
       "4     3.572237  \n",
       "...        ...  \n",
       "9995  0.087199  \n",
       "9996  0.717373  \n",
       "9997  1.401004  \n",
       "9998  2.065785  \n",
       "9999  2.589701  \n",
       "\n",
       "[10000 rows x 9 columns]"
      ]
     },
     "execution_count": 3,
     "metadata": {},
     "output_type": "execute_result"
    }
   ],
   "source": [
    "data = dowhy.datasets.linear_dataset(beta=1,\n",
    "        num_common_causes=5, \n",
    "        num_instruments = 2,\n",
    "        num_treatments=1,\n",
    "        num_discrete_common_causes=1,\n",
    "        num_samples=10000,\n",
    "        treatment_is_binary=True,\n",
    "        outcome_is_binary=False)\n",
    "df = data[\"df\"]\n",
    "print(df[df.v0==True].shape[0])\n",
    "df"
   ]
  },
  {
   "cell_type": "markdown",
   "id": "43eda2f8",
   "metadata": {},
   "source": [
    "Note that we are using a pandas dataframe to load the data."
   ]
  },
  {
   "cell_type": "markdown",
   "id": "e19deaf5",
   "metadata": {},
   "source": [
    "## Identifying the causal estimand"
   ]
  },
  {
   "cell_type": "markdown",
   "id": "bcd24398",
   "metadata": {},
   "source": [
    "We now input a causal graph in the GML graph format."
   ]
  },
  {
   "cell_type": "code",
   "execution_count": 4,
   "id": "8b7156da",
   "metadata": {
    "execution": {
     "iopub.execute_input": "2022-08-12T22:57:12.510872Z",
     "iopub.status.busy": "2022-08-12T22:57:12.510652Z",
     "iopub.status.idle": "2022-08-12T22:57:12.533967Z",
     "shell.execute_reply": "2022-08-12T22:57:12.533406Z"
    }
   },
   "outputs": [],
   "source": [
    "# With graph\n",
    "model=CausalModel(\n",
    "        data = df,\n",
    "        treatment=data[\"treatment_name\"],\n",
    "        outcome=data[\"outcome_name\"],\n",
    "        graph=data[\"gml_graph\"],\n",
    "        instruments=data[\"instrument_names\"]\n",
    "        )"
   ]
  },
  {
   "cell_type": "code",
   "execution_count": 5,
   "id": "a1e3cf52",
   "metadata": {
    "execution": {
     "iopub.execute_input": "2022-08-12T22:57:12.536833Z",
     "iopub.status.busy": "2022-08-12T22:57:12.536618Z",
     "iopub.status.idle": "2022-08-12T22:57:12.589875Z",
     "shell.execute_reply": "2022-08-12T22:57:12.589250Z"
    }
   },
   "outputs": [],
   "source": [
    "model.view_model()"
   ]
  },
  {
   "cell_type": "code",
   "execution_count": 6,
   "id": "ec659058",
   "metadata": {
    "execution": {
     "iopub.execute_input": "2022-08-12T22:57:12.593281Z",
     "iopub.status.busy": "2022-08-12T22:57:12.592730Z",
     "iopub.status.idle": "2022-08-12T22:57:12.617360Z",
     "shell.execute_reply": "2022-08-12T22:57:12.616777Z"
    }
   },
   "outputs": [
    {
     "data": {
      "image/png": "[encoded data removed]",
      "text/plain": [
       "<IPython.core.display.Image object>"
      ]
     },
     "metadata": {},
     "output_type": "display_data"
    }
   ],
   "source": [
    "from IPython.display import Image, display\n",
    "display(Image(filename=\"causal_model.png\"))"
   ]
  },
  {
   "cell_type": "markdown",
   "id": "b6c0e34e",
   "metadata": {},
   "source": [
    "We get a causal graph. Now identification and estimation is done."
   ]
  },
  {
   "cell_type": "code",
   "execution_count": 7,
   "id": "1f1256f9",
   "metadata": {
    "execution": {
     "iopub.execute_input": "2022-08-12T22:57:12.620504Z",
     "iopub.status.busy": "2022-08-12T22:57:12.620025Z",
     "iopub.status.idle": "2022-08-12T22:57:12.835534Z",
     "shell.execute_reply": "2022-08-12T22:57:12.834917Z"
    }
   },
   "outputs": [
    {
     "name": "stdout",
     "output_type": "stream",
     "text": [
      "Estimand type: nonparametric-ate\n",
      "\n",
      "### Estimand : 1\n",
      "Estimand name: backdoor\n",
      "Estimand expression:\n",
      "  d                       \n",
      "─────(E[y|W0,W2,W4,W3,W1])\n",
      "d[v₀]                     \n",
      "Estimand assumption 1, Unconfoundedness: If U→{v0} and U→y then P(y|v0,W0,W2,W4,W3,W1,U) = P(y|v0,W0,W2,W4,W3,W1)\n",
      "\n",
      "### Estimand : 2\n",
      "Estimand name: iv\n",
      "Estimand expression:\n",
      " ⎡                              -1⎤\n",
      " ⎢    d        ⎛    d          ⎞  ⎥\n",
      "E⎢─────────(y)⋅⎜─────────([v₀])⎟  ⎥\n",
      " ⎣d[Z₀  Z₁]    ⎝d[Z₀  Z₁]      ⎠  ⎦\n",
      "Estimand assumption 1, As-if-random: If U→→y then ¬(U →→{Z0,Z1})\n",
      "Estimand assumption 2, Exclusion: If we remove {Z0,Z1}→{v0}, then ¬({Z0,Z1}→y)\n",
      "\n",
      "### Estimand : 3\n",
      "Estimand name: frontdoor\n",
      "No such variable(s) found!\n",
      "\n"
     ]
    }
   ],
   "source": [
    "identified_estimand = model.identify_effect(proceed_when_unidentifiable=True)\n",
    "print(identified_estimand)"
   ]
  },
  {
   "cell_type": "markdown",
   "id": "b9dae2a0",
   "metadata": {},
   "source": [
    "## Method 1: Propensity Score Stratification\n",
    "\n",
    "We will be using propensity scores to stratify units in the data."
   ]
  },
  {
   "cell_type": "code",
   "execution_count": 8,
   "id": "af9ad8d5",
   "metadata": {
    "execution": {
     "iopub.execute_input": "2022-08-12T22:57:12.838861Z",
     "iopub.status.busy": "2022-08-12T22:57:12.838328Z",
     "iopub.status.idle": "2022-08-12T22:57:13.436624Z",
     "shell.execute_reply": "2022-08-12T22:57:13.435980Z"
    }
   },
   "outputs": [
    {
     "name": "stdout",
     "output_type": "stream",
     "text": [
      "propensity_score_stratification\n"
     ]
    },
    {
     "name": "stderr",
     "output_type": "stream",
     "text": [
      "/github/home/.cache/pypoetry/virtualenvs/dowhy-oN2hW5jr-py3.8/lib/python3.8/site-packages/sklearn/utils/validation.py:993: DataConversionWarning: A column-vector y was passed when a 1d array was expected. Please change the shape of y to (n_samples, ), for example using ravel().\n",
      "  y = column_or_1d(y, warn=True)\n"
     ]
    },
    {
     "name": "stdout",
     "output_type": "stream",
     "text": [
      "*** Causal Estimate ***\n",
      "\n",
      "## Identified estimand\n",
      "Estimand type: nonparametric-ate\n",
      "\n",
      "### Estimand : 1\n",
      "Estimand name: backdoor\n",
      "Estimand expression:\n",
      "  d                       \n",
      "─────(E[y|W0,W2,W4,W3,W1])\n",
      "d[v₀]                     \n",
      "Estimand assumption 1, Unconfoundedness: If U→{v0} and U→y then P(y|v0,W0,W2,W4,W3,W1,U) = P(y|v0,W0,W2,W4,W3,W1)\n",
      "\n",
      "## Realized estimand\n",
      "b: y~v0+W0+W2+W4+W3+W1\n",
      "Target units: att\n",
      "\n",
      "## Estimate\n",
      "Mean value: 1.0095903608664485\n",
      "\n",
      "Causal Estimate is 1.0095903608664485\n"
     ]
    }
   ],
   "source": [
    "causal_estimate_strat = model.estimate_effect(identified_estimand,\n",
    "                                              method_name=\"backdoor.propensity_score_stratification\",\n",
    "                                              target_units=\"att\")\n",
    "print(causal_estimate_strat)\n",
    "print(\"Causal Estimate is \" + str(causal_estimate_strat.value))"
   ]
  },
  {
   "cell_type": "markdown",
   "id": "330fcba4",
   "metadata": {},
   "source": [
    "### Textual Interpreter\n",
    "\n",
    "The textual Interpreter describes (in words) the effect of unit change in the treatment variable on the outcome variable."
   ]
  },
  {
   "cell_type": "code",
   "execution_count": 9,
   "id": "f5f2a802",
   "metadata": {
    "execution": {
     "iopub.execute_input": "2022-08-12T22:57:13.440008Z",
     "iopub.status.busy": "2022-08-12T22:57:13.439519Z",
     "iopub.status.idle": "2022-08-12T22:57:13.463259Z",
     "shell.execute_reply": "2022-08-12T22:57:13.462699Z"
    }
   },
   "outputs": [
    {
     "name": "stdout",
     "output_type": "stream",
     "text": [
      "Increasing the treatment variable(s) [v0] from 0 to 1 causes an increase of 1.0095903608664485 in the expected value of the outcome [y], over the data distribution/population represented by the dataset.\n"
     ]
    }
   ],
   "source": [
    "# Textual Interpreter\n",
    "interpretation = causal_estimate_strat.interpret(method_name=\"textual_effect_interpreter\")"
   ]
  },
  {
   "cell_type": "markdown",
   "id": "8c44b9ba",
   "metadata": {},
   "source": [
    "### Visual Interpreter\n",
    "\n",
    "The visual interpreter plots the change in the standardized mean difference (SMD) before and after Propensity Score based adjustment of the dataset. The formula for SMD is given below.\n",
    "\n",
    "\n",
    "$SMD = \\frac{\\bar X_{1} - \\bar X_{2}}{\\sqrt{(S_{1}^{2} + S_{2}^{2})/2}}$\n",
    "\n",
    "Here, $\\bar X_{1}$ and $\\bar X_{2}$ are the sample mean for the treated and control groups.\n"
   ]
  },
  {
   "cell_type": "code",
   "execution_count": 10,
   "id": "02f7c424",
   "metadata": {
    "execution": {
     "iopub.execute_input": "2022-08-12T22:57:13.465917Z",
     "iopub.status.busy": "2022-08-12T22:57:13.465529Z",
     "iopub.status.idle": "2022-08-12T22:57:14.632327Z",
     "shell.execute_reply": "2022-08-12T22:57:14.631725Z"
    }
   },
   "outputs": [
    {
     "data": {
      "image/png": "[encoded data removed]",
      "text/plain": [
       "<Figure size 432x288 with 1 Axes>"
      ]
     },
     "metadata": {
      "needs_background": "light"
     },
     "output_type": "display_data"
    }
   ],
   "source": [
    "# Visual Interpreter\n",
    "interpretation = causal_estimate_strat.interpret(method_name=\"propensity_balance_interpreter\")"
   ]
  },
  {
   "cell_type": "markdown",
   "id": "2fa3407b",
   "metadata": {},
   "source": [
    "This plot shows how the SMD decreases from the unadjusted to the stratified units. "
   ]
  },
  {
   "cell_type": "markdown",
   "id": "daea28c3",
   "metadata": {},
   "source": [
    "## Method 2: Propensity Score Matching\n",
    "\n",
    "We will be using propensity scores to match units in the data."
   ]
  },
  {
   "cell_type": "code",
   "execution_count": 11,
   "id": "0a19f0f9",
   "metadata": {
    "execution": {
     "iopub.execute_input": "2022-08-12T22:57:14.635902Z",
     "iopub.status.busy": "2022-08-12T22:57:14.635353Z",
     "iopub.status.idle": "2022-08-12T22:57:18.219751Z",
     "shell.execute_reply": "2022-08-12T22:57:18.219215Z"
    }
   },
   "outputs": [
    {
     "name": "stdout",
     "output_type": "stream",
     "text": [
      "propensity_score_matching\n"
     ]
    },
    {
     "name": "stderr",
     "output_type": "stream",
     "text": [
      "/github/home/.cache/pypoetry/virtualenvs/dowhy-oN2hW5jr-py3.8/lib/python3.8/site-packages/sklearn/utils/validation.py:993: DataConversionWarning: A column-vector y was passed when a 1d array was expected. Please change the shape of y to (n_samples, ), for example using ravel().\n",
      "  y = column_or_1d(y, warn=True)\n"
     ]
    },
    {
     "name": "stdout",
     "output_type": "stream",
     "text": [
      "*** Causal Estimate ***\n",
      "\n",
      "## Identified estimand\n",
      "Estimand type: nonparametric-ate\n",
      "\n",
      "### Estimand : 1\n",
      "Estimand name: backdoor\n",
      "Estimand expression:\n",
      "  d                       \n",
      "─────(E[y|W0,W2,W4,W3,W1])\n",
      "d[v₀]                     \n",
      "Estimand assumption 1, Unconfoundedness: If U→{v0} and U→y then P(y|v0,W0,W2,W4,W3,W1,U) = P(y|v0,W0,W2,W4,W3,W1)\n",
      "\n",
      "## Realized estimand\n",
      "b: y~v0+W0+W2+W4+W3+W1\n",
      "Target units: atc\n",
      "\n",
      "## Estimate\n",
      "Mean value: 0.9804933692771091\n",
      "\n",
      "Causal Estimate is 0.9804933692771091\n"
     ]
    }
   ],
   "source": [
    "causal_estimate_match = model.estimate_effect(identified_estimand,\n",
    "                                              method_name=\"backdoor.propensity_score_matching\",\n",
    "                                              target_units=\"atc\")\n",
    "print(causal_estimate_match)\n",
    "print(\"Causal Estimate is \" + str(causal_estimate_match.value))"
   ]
  },
  {
   "cell_type": "code",
   "execution_count": 12,
   "id": "08afa26d",
   "metadata": {
    "execution": {
     "iopub.execute_input": "2022-08-12T22:57:18.222704Z",
     "iopub.status.busy": "2022-08-12T22:57:18.222471Z",
     "iopub.status.idle": "2022-08-12T22:57:18.246236Z",
     "shell.execute_reply": "2022-08-12T22:57:18.245637Z"
    }
   },
   "outputs": [
    {
     "name": "stdout",
     "output_type": "stream",
     "text": [
      "Increasing the treatment variable(s) [v0] from 0 to 1 causes an increase of 0.9804933692771091 in the expected value of the outcome [y], over the data distribution/population represented by the dataset.\n"
     ]
    }
   ],
   "source": [
    "# Textual Interpreter\n",
    "interpretation = causal_estimate_match.interpret(method_name=\"textual_effect_interpreter\")"
   ]
  },
  {
   "cell_type": "markdown",
   "id": "373286ef",
   "metadata": {},
   "source": [
    "Cannot use propensity balance interpretor here since the interpreter method only supports propensity score stratification estimator."
   ]
  },
  {
   "cell_type": "markdown",
   "id": "173eeaad",
   "metadata": {},
   "source": [
    "## Method 3: Weighting\n",
    "\n",
    "We will be using (inverse) propensity scores to assign weights to units in the data. DoWhy supports a few different weighting schemes:\n",
    "1. Vanilla Inverse Propensity Score weighting (IPS) (weighting_scheme=\"ips_weight\")\n",
    "2. Self-normalized IPS weighting (also known as the Hajek estimator) (weighting_scheme=\"ips_normalized_weight\")\n",
    "3. Stabilized IPS weighting (weighting_scheme = \"ips_stabilized_weight\")"
   ]
  },
  {
   "cell_type": "code",
   "execution_count": 13,
   "id": "5afe62ef",
   "metadata": {
    "execution": {
     "iopub.execute_input": "2022-08-12T22:57:18.249051Z",
     "iopub.status.busy": "2022-08-12T22:57:18.248841Z",
     "iopub.status.idle": "2022-08-12T22:57:18.305375Z",
     "shell.execute_reply": "2022-08-12T22:57:18.304756Z"
    }
   },
   "outputs": [
    {
     "name": "stdout",
     "output_type": "stream",
     "text": [
      "propensity_score_weighting\n",
      "*** Causal Estimate ***\n",
      "\n",
      "## Identified estimand\n",
      "Estimand type: nonparametric-ate\n",
      "\n",
      "### Estimand : 1\n",
      "Estimand name: backdoor\n",
      "Estimand expression:\n",
      "  d                       \n",
      "─────(E[y|W0,W2,W4,W3,W1])\n",
      "d[v₀]                     \n",
      "Estimand assumption 1, Unconfoundedness: If U→{v0} and U→y then P(y|v0,W0,W2,W4,W3,W1,U) = P(y|v0,W0,W2,W4,W3,W1)\n",
      "\n",
      "## Realized estimand\n",
      "b: y~v0+W0+W2+W4+W3+W1\n",
      "Target units: ate\n",
      "\n",
      "## Estimate\n",
      "Mean value: 1.0223774255255895\n",
      "\n",
      "Causal Estimate is 1.0223774255255895\n"
     ]
    },
    {
     "name": "stderr",
     "output_type": "stream",
     "text": [
      "/github/home/.cache/pypoetry/virtualenvs/dowhy-oN2hW5jr-py3.8/lib/python3.8/site-packages/sklearn/utils/validation.py:993: DataConversionWarning: A column-vector y was passed when a 1d array was expected. Please change the shape of y to (n_samples, ), for example using ravel().\n",
      "  y = column_or_1d(y, warn=True)\n"
     ]
    }
   ],
   "source": [
    "causal_estimate_ipw = model.estimate_effect(identified_estimand,\n",
    "                                            method_name=\"backdoor.propensity_score_weighting\",\n",
    "                                            target_units = \"ate\",\n",
    "                                            method_params={\"weighting_scheme\":\"ips_weight\"})\n",
    "print(causal_estimate_ipw)\n",
    "print(\"Causal Estimate is \" + str(causal_estimate_ipw.value))"
   ]
  },
  {
   "cell_type": "code",
   "execution_count": 14,
   "id": "3a60b969",
   "metadata": {
    "execution": {
     "iopub.execute_input": "2022-08-12T22:57:18.308427Z",
     "iopub.status.busy": "2022-08-12T22:57:18.308208Z",
     "iopub.status.idle": "2022-08-12T22:57:18.332231Z",
     "shell.execute_reply": "2022-08-12T22:57:18.331642Z"
    }
   },
   "outputs": [
    {
     "name": "stdout",
     "output_type": "stream",
     "text": [
      "Increasing the treatment variable(s) [v0] from 0 to 1 causes an increase of 1.0223774255255895 in the expected value of the outcome [y], over the data distribution/population represented by the dataset.\n"
     ]
    }
   ],
   "source": [
    "# Textual Interpreter\n",
    "interpretation = causal_estimate_ipw.interpret(method_name=\"textual_effect_interpreter\")"
   ]
  },
  {
   "cell_type": "code",
   "execution_count": 15,
   "id": "aa517a48",
   "metadata": {
    "execution": {
     "iopub.execute_input": "2022-08-12T22:57:18.335300Z",
     "iopub.status.busy": "2022-08-12T22:57:18.335080Z",
     "iopub.status.idle": "2022-08-12T22:57:18.638573Z",
     "shell.execute_reply": "2022-08-12T22:57:18.637936Z"
    }
   },
   "outputs": [
    {
     "data": {
      "image/png": "[encoded data removed]",
      "text/plain": [
       "<Figure size 576x576 with 2 Axes>"
      ]
     },
     "metadata": {
      "needs_background": "light"
     },
     "output_type": "display_data"
    }
   ],
   "source": [
    "interpretation = causal_estimate_ipw.interpret(method_name=\"confounder_distribution_interpreter\", fig_size=(8,8), font_size=12, var_name='W4', var_type='discrete')"
   ]
  },
  {
   "cell_type": "code",
   "execution_count": null,
   "id": "d5fdf5cf",
   "metadata": {},
   "outputs": [],
   "source": []
  }
 ],
 "metadata": {
  "kernelspec": {
   "display_name": "Python 3",
   "language": "python",
   "name": "python3"
  },
  "language_info": {
   "codemirror_mode": {
    "name": "ipython",
    "version": 3
   },
   "file_extension": ".py",
   "mimetype": "text/x-python",
   "name": "python",
   "nbconvert_exporter": "python",
   "pygments_lexer": "ipython3",
   "version": "3.8.10"
  },
  "toc": {
   "base_numbering": 1,
   "nav_menu": {},
   "number_sections": false,
   "sideBar": true,
   "skip_h1_title": true,
   "title_cell": "Table of Contents",
   "title_sidebar": "Contents",
   "toc_cell": false,
   "toc_position": {},
   "toc_section_display": true,
   "toc_window_display": false
  }
 },
 "nbformat": 4,
 "nbformat_minor": 5
}
