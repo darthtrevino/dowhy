{
 "cells": [
  {
   "cell_type": "markdown",
   "metadata": {},
   "source": [
    "# Demo for the DoWhy causal API\n",
    "We show a simple example of adding a causal extension to any dataframe. "
   ]
  },
  {
   "cell_type": "code",
   "execution_count": 1,
   "metadata": {
    "execution": {
     "iopub.execute_input": "2022-09-01T18:33:51.854970Z",
     "iopub.status.busy": "2022-09-01T18:33:51.854610Z",
     "iopub.status.idle": "2022-09-01T18:33:53.297756Z",
     "shell.execute_reply": "2022-09-01T18:33:53.296419Z"
    }
   },
   "outputs": [],
   "source": [
    "import dowhy.datasets\n",
    "import dowhy.api\n",
    "\n",
    "import numpy as np\n",
    "import pandas as pd\n",
    "\n",
    "from statsmodels.api import OLS"
   ]
  },
  {
   "cell_type": "code",
   "execution_count": 2,
   "metadata": {
    "execution": {
     "iopub.execute_input": "2022-09-01T18:33:53.303582Z",
     "iopub.status.busy": "2022-09-01T18:33:53.302929Z",
     "iopub.status.idle": "2022-09-01T18:33:53.359346Z",
     "shell.execute_reply": "2022-09-01T18:33:53.358361Z"
    }
   },
   "outputs": [
    {
     "data": {
      "text/html": [
       "<div>\n",
       "<style scoped>\n",
       "    .dataframe tbody tr th:only-of-type {\n",
       "        vertical-align: middle;\n",
       "    }\n",
       "\n",
       "    .dataframe tbody tr th {\n",
       "        vertical-align: top;\n",
       "    }\n",
       "\n",
       "    .dataframe thead th {\n",
       "        text-align: right;\n",
       "    }\n",
       "</style>\n",
       "<table border=\"1\" class=\"dataframe\">\n",
       "  <thead>\n",
       "    <tr style=\"text-align: right;\">\n",
       "      <th></th>\n",
       "      <th>W0</th>\n",
       "      <th>v0</th>\n",
       "      <th>y</th>\n",
       "    </tr>\n",
       "  </thead>\n",
       "  <tbody>\n",
       "    <tr>\n",
       "      <th>0</th>\n",
       "      <td>1.109943</td>\n",
       "      <td>True</td>\n",
       "      <td>7.305573</td>\n",
       "    </tr>\n",
       "    <tr>\n",
       "      <th>1</th>\n",
       "      <td>2.705252</td>\n",
       "      <td>True</td>\n",
       "      <td>8.099747</td>\n",
       "    </tr>\n",
       "    <tr>\n",
       "      <th>2</th>\n",
       "      <td>1.097364</td>\n",
       "      <td>False</td>\n",
       "      <td>0.618054</td>\n",
       "    </tr>\n",
       "    <tr>\n",
       "      <th>3</th>\n",
       "      <td>0.270309</td>\n",
       "      <td>True</td>\n",
       "      <td>5.591181</td>\n",
       "    </tr>\n",
       "    <tr>\n",
       "      <th>4</th>\n",
       "      <td>0.792076</td>\n",
       "      <td>True</td>\n",
       "      <td>6.566470</td>\n",
       "    </tr>\n",
       "    <tr>\n",
       "      <th>...</th>\n",
       "      <td>...</td>\n",
       "      <td>...</td>\n",
       "      <td>...</td>\n",
       "    </tr>\n",
       "    <tr>\n",
       "      <th>995</th>\n",
       "      <td>1.613902</td>\n",
       "      <td>True</td>\n",
       "      <td>6.323625</td>\n",
       "    </tr>\n",
       "    <tr>\n",
       "      <th>996</th>\n",
       "      <td>2.075258</td>\n",
       "      <td>True</td>\n",
       "      <td>6.477758</td>\n",
       "    </tr>\n",
       "    <tr>\n",
       "      <th>997</th>\n",
       "      <td>0.731176</td>\n",
       "      <td>True</td>\n",
       "      <td>6.368071</td>\n",
       "    </tr>\n",
       "    <tr>\n",
       "      <th>998</th>\n",
       "      <td>2.685021</td>\n",
       "      <td>True</td>\n",
       "      <td>8.476229</td>\n",
       "    </tr>\n",
       "    <tr>\n",
       "      <th>999</th>\n",
       "      <td>2.474660</td>\n",
       "      <td>True</td>\n",
       "      <td>8.420663</td>\n",
       "    </tr>\n",
       "  </tbody>\n",
       "</table>\n",
       "<p>1000 rows × 3 columns</p>\n",
       "</div>"
      ],
      "text/plain": [
       "           W0     v0         y\n",
       "0    1.109943   True  7.305573\n",
       "1    2.705252   True  8.099747\n",
       "2    1.097364  False  0.618054\n",
       "3    0.270309   True  5.591181\n",
       "4    0.792076   True  6.566470\n",
       "..        ...    ...       ...\n",
       "995  1.613902   True  6.323625\n",
       "996  2.075258   True  6.477758\n",
       "997  0.731176   True  6.368071\n",
       "998  2.685021   True  8.476229\n",
       "999  2.474660   True  8.420663\n",
       "\n",
       "[1000 rows x 3 columns]"
      ]
     },
     "execution_count": 2,
     "metadata": {},
     "output_type": "execute_result"
    }
   ],
   "source": [
    "data = dowhy.datasets.linear_dataset(beta=5,\n",
    "        num_common_causes=1,\n",
    "        num_instruments = 0,\n",
    "        num_samples=1000,\n",
    "        treatment_is_binary=True)\n",
    "df = data['df']\n",
    "df['y'] = df['y'] + np.random.normal(size=len(df)) # Adding noise to data. Without noise, the variance in Y|X, Z is zero, and mcmc fails.\n",
    "#data['dot_graph'] = 'digraph { v ->y;X0-> v;X0-> y;}'\n",
    "\n",
    "treatment= data[\"treatment_name\"][0]\n",
    "outcome = data[\"outcome_name\"][0]\n",
    "common_cause = data[\"common_causes_names\"][0]\n",
    "df"
   ]
  },
  {
   "cell_type": "code",
   "execution_count": 3,
   "metadata": {
    "execution": {
     "iopub.execute_input": "2022-09-01T18:33:53.363720Z",
     "iopub.status.busy": "2022-09-01T18:33:53.362920Z",
     "iopub.status.idle": "2022-09-01T18:33:54.293368Z",
     "shell.execute_reply": "2022-09-01T18:33:54.292696Z"
    }
   },
   "outputs": [
    {
     "data": {
      "text/plain": [
       "<AxesSubplot:xlabel='v0'>"
      ]
     },
     "execution_count": 3,
     "metadata": {},
     "output_type": "execute_result"
    },
    {
     "data": {
      "image/png": "[encoded data removed]",
      "text/plain": [
       "<Figure size 640x480 with 1 Axes>"
      ]
     },
     "metadata": {},
     "output_type": "display_data"
    }
   ],
   "source": [
    "# data['df'] is just a regular pandas.DataFrame\n",
    "df.causal.do(x=treatment,\n",
    "                     variable_types={treatment: 'b', outcome: 'c', common_cause: 'c'},\n",
    "                     outcome=outcome,\n",
    "                     common_causes=[common_cause],\n",
    "                     proceed_when_unidentifiable=True).groupby(treatment).mean().plot(y=outcome, kind='bar')"
   ]
  },
  {
   "cell_type": "code",
   "execution_count": 4,
   "metadata": {
    "execution": {
     "iopub.execute_input": "2022-09-01T18:33:54.297705Z",
     "iopub.status.busy": "2022-09-01T18:33:54.297015Z",
     "iopub.status.idle": "2022-09-01T18:33:54.427744Z",
     "shell.execute_reply": "2022-09-01T18:33:54.427049Z"
    }
   },
   "outputs": [
    {
     "data": {
      "text/plain": [
       "<AxesSubplot:xlabel='v0'>"
      ]
     },
     "execution_count": 4,
     "metadata": {},
     "output_type": "execute_result"
    },
    {
     "data": {
      "image/png": "[encoded data removed]",
      "text/plain": [
       "<Figure size 640x480 with 1 Axes>"
      ]
     },
     "metadata": {},
     "output_type": "display_data"
    }
   ],
   "source": [
    "df.causal.do(x={treatment: 1}, \n",
    "              variable_types={treatment:'b', outcome: 'c', common_cause: 'c'}, \n",
    "              outcome=outcome,\n",
    "              method='weighting', \n",
    "              common_causes=[common_cause],\n",
    "              proceed_when_unidentifiable=True).groupby(treatment).mean().plot(y=outcome, kind='bar')"
   ]
  },
  {
   "cell_type": "code",
   "execution_count": 5,
   "metadata": {
    "execution": {
     "iopub.execute_input": "2022-09-01T18:33:54.432648Z",
     "iopub.status.busy": "2022-09-01T18:33:54.431397Z",
     "iopub.status.idle": "2022-09-01T18:33:54.470438Z",
     "shell.execute_reply": "2022-09-01T18:33:54.469643Z"
    }
   },
   "outputs": [],
   "source": [
    "cdf_1 = df.causal.do(x={treatment: 1}, \n",
    "              variable_types={treatment: 'b', outcome: 'c', common_cause: 'c'}, \n",
    "              outcome=outcome, \n",
    "              dot_graph=data['dot_graph'],\n",
    "              proceed_when_unidentifiable=True)\n",
    "\n",
    "cdf_0 = df.causal.do(x={treatment: 0}, \n",
    "              variable_types={treatment: 'b', outcome: 'c', common_cause: 'c'}, \n",
    "              outcome=outcome, \n",
    "              dot_graph=data['dot_graph'],\n",
    "              proceed_when_unidentifiable=True)\n"
   ]
  },
  {
   "cell_type": "code",
   "execution_count": 6,
   "metadata": {
    "execution": {
     "iopub.execute_input": "2022-09-01T18:33:54.474935Z",
     "iopub.status.busy": "2022-09-01T18:33:54.474368Z",
     "iopub.status.idle": "2022-09-01T18:33:54.487844Z",
     "shell.execute_reply": "2022-09-01T18:33:54.487047Z"
    },
    "scrolled": true
   },
   "outputs": [
    {
     "data": {
      "text/html": [
       "<div>\n",
       "<style scoped>\n",
       "    .dataframe tbody tr th:only-of-type {\n",
       "        vertical-align: middle;\n",
       "    }\n",
       "\n",
       "    .dataframe tbody tr th {\n",
       "        vertical-align: top;\n",
       "    }\n",
       "\n",
       "    .dataframe thead th {\n",
       "        text-align: right;\n",
       "    }\n",
       "</style>\n",
       "<table border=\"1\" class=\"dataframe\">\n",
       "  <thead>\n",
       "    <tr style=\"text-align: right;\">\n",
       "      <th></th>\n",
       "      <th>W0</th>\n",
       "      <th>v0</th>\n",
       "      <th>y</th>\n",
       "      <th>propensity_score</th>\n",
       "      <th>weight</th>\n",
       "    </tr>\n",
       "  </thead>\n",
       "  <tbody>\n",
       "    <tr>\n",
       "      <th>0</th>\n",
       "      <td>0.465805</td>\n",
       "      <td>False</td>\n",
       "      <td>0.681638</td>\n",
       "      <td>0.295449</td>\n",
       "      <td>3.384674</td>\n",
       "    </tr>\n",
       "    <tr>\n",
       "      <th>1</th>\n",
       "      <td>1.380222</td>\n",
       "      <td>False</td>\n",
       "      <td>1.067696</td>\n",
       "      <td>0.073165</td>\n",
       "      <td>13.667814</td>\n",
       "    </tr>\n",
       "    <tr>\n",
       "      <th>2</th>\n",
       "      <td>0.525696</td>\n",
       "      <td>False</td>\n",
       "      <td>2.362515</td>\n",
       "      <td>0.273201</td>\n",
       "      <td>3.660307</td>\n",
       "    </tr>\n",
       "    <tr>\n",
       "      <th>3</th>\n",
       "      <td>2.242716</td>\n",
       "      <td>False</td>\n",
       "      <td>2.756181</td>\n",
       "      <td>0.016076</td>\n",
       "      <td>62.205619</td>\n",
       "    </tr>\n",
       "    <tr>\n",
       "      <th>4</th>\n",
       "      <td>-0.132358</td>\n",
       "      <td>False</td>\n",
       "      <td>0.667550</td>\n",
       "      <td>0.555610</td>\n",
       "      <td>1.799823</td>\n",
       "    </tr>\n",
       "    <tr>\n",
       "      <th>...</th>\n",
       "      <td>...</td>\n",
       "      <td>...</td>\n",
       "      <td>...</td>\n",
       "      <td>...</td>\n",
       "      <td>...</td>\n",
       "    </tr>\n",
       "    <tr>\n",
       "      <th>995</th>\n",
       "      <td>0.734039</td>\n",
       "      <td>False</td>\n",
       "      <td>1.406573</td>\n",
       "      <td>0.204413</td>\n",
       "      <td>4.892056</td>\n",
       "    </tr>\n",
       "    <tr>\n",
       "      <th>996</th>\n",
       "      <td>1.501630</td>\n",
       "      <td>False</td>\n",
       "      <td>1.230339</td>\n",
       "      <td>0.059480</td>\n",
       "      <td>16.812366</td>\n",
       "    </tr>\n",
       "    <tr>\n",
       "      <th>997</th>\n",
       "      <td>0.228203</td>\n",
       "      <td>False</td>\n",
       "      <td>1.128085</td>\n",
       "      <td>0.392902</td>\n",
       "      <td>2.545163</td>\n",
       "    </tr>\n",
       "    <tr>\n",
       "      <th>998</th>\n",
       "      <td>2.047324</td>\n",
       "      <td>False</td>\n",
       "      <td>2.413841</td>\n",
       "      <td>0.022812</td>\n",
       "      <td>43.836657</td>\n",
       "    </tr>\n",
       "    <tr>\n",
       "      <th>999</th>\n",
       "      <td>-1.542733</td>\n",
       "      <td>False</td>\n",
       "      <td>-2.431663</td>\n",
       "      <td>0.942629</td>\n",
       "      <td>1.060863</td>\n",
       "    </tr>\n",
       "  </tbody>\n",
       "</table>\n",
       "<p>1000 rows × 5 columns</p>\n",
       "</div>"
      ],
      "text/plain": [
       "           W0     v0         y  propensity_score     weight\n",
       "0    0.465805  False  0.681638          0.295449   3.384674\n",
       "1    1.380222  False  1.067696          0.073165  13.667814\n",
       "2    0.525696  False  2.362515          0.273201   3.660307\n",
       "3    2.242716  False  2.756181          0.016076  62.205619\n",
       "4   -0.132358  False  0.667550          0.555610   1.799823\n",
       "..        ...    ...       ...               ...        ...\n",
       "995  0.734039  False  1.406573          0.204413   4.892056\n",
       "996  1.501630  False  1.230339          0.059480  16.812366\n",
       "997  0.228203  False  1.128085          0.392902   2.545163\n",
       "998  2.047324  False  2.413841          0.022812  43.836657\n",
       "999 -1.542733  False -2.431663          0.942629   1.060863\n",
       "\n",
       "[1000 rows x 5 columns]"
      ]
     },
     "execution_count": 6,
     "metadata": {},
     "output_type": "execute_result"
    }
   ],
   "source": [
    "cdf_0"
   ]
  },
  {
   "cell_type": "code",
   "execution_count": 7,
   "metadata": {
    "execution": {
     "iopub.execute_input": "2022-09-01T18:33:54.491382Z",
     "iopub.status.busy": "2022-09-01T18:33:54.491096Z",
     "iopub.status.idle": "2022-09-01T18:33:54.503959Z",
     "shell.execute_reply": "2022-09-01T18:33:54.503187Z"
    }
   },
   "outputs": [
    {
     "data": {
      "text/html": [
       "<div>\n",
       "<style scoped>\n",
       "    .dataframe tbody tr th:only-of-type {\n",
       "        vertical-align: middle;\n",
       "    }\n",
       "\n",
       "    .dataframe tbody tr th {\n",
       "        vertical-align: top;\n",
       "    }\n",
       "\n",
       "    .dataframe thead th {\n",
       "        text-align: right;\n",
       "    }\n",
       "</style>\n",
       "<table border=\"1\" class=\"dataframe\">\n",
       "  <thead>\n",
       "    <tr style=\"text-align: right;\">\n",
       "      <th></th>\n",
       "      <th>W0</th>\n",
       "      <th>v0</th>\n",
       "      <th>y</th>\n",
       "      <th>propensity_score</th>\n",
       "      <th>weight</th>\n",
       "    </tr>\n",
       "  </thead>\n",
       "  <tbody>\n",
       "    <tr>\n",
       "      <th>0</th>\n",
       "      <td>0.183828</td>\n",
       "      <td>True</td>\n",
       "      <td>6.385451</td>\n",
       "      <td>0.587608</td>\n",
       "      <td>1.701814</td>\n",
       "    </tr>\n",
       "    <tr>\n",
       "      <th>1</th>\n",
       "      <td>-0.819853</td>\n",
       "      <td>True</td>\n",
       "      <td>4.395469</td>\n",
       "      <td>0.185588</td>\n",
       "      <td>5.388283</td>\n",
       "    </tr>\n",
       "    <tr>\n",
       "      <th>2</th>\n",
       "      <td>0.838557</td>\n",
       "      <td>True</td>\n",
       "      <td>6.368579</td>\n",
       "      <td>0.824888</td>\n",
       "      <td>1.212286</td>\n",
       "    </tr>\n",
       "    <tr>\n",
       "      <th>3</th>\n",
       "      <td>1.819416</td>\n",
       "      <td>True</td>\n",
       "      <td>6.528172</td>\n",
       "      <td>0.965814</td>\n",
       "      <td>1.035396</td>\n",
       "    </tr>\n",
       "    <tr>\n",
       "      <th>4</th>\n",
       "      <td>1.245936</td>\n",
       "      <td>True</td>\n",
       "      <td>6.679730</td>\n",
       "      <td>0.908364</td>\n",
       "      <td>1.100881</td>\n",
       "    </tr>\n",
       "    <tr>\n",
       "      <th>...</th>\n",
       "      <td>...</td>\n",
       "      <td>...</td>\n",
       "      <td>...</td>\n",
       "      <td>...</td>\n",
       "      <td>...</td>\n",
       "    </tr>\n",
       "    <tr>\n",
       "      <th>995</th>\n",
       "      <td>-0.310125</td>\n",
       "      <td>True</td>\n",
       "      <td>5.876104</td>\n",
       "      <td>0.366324</td>\n",
       "      <td>2.729827</td>\n",
       "    </tr>\n",
       "    <tr>\n",
       "      <th>996</th>\n",
       "      <td>0.044863</td>\n",
       "      <td>True</td>\n",
       "      <td>5.820469</td>\n",
       "      <td>0.525053</td>\n",
       "      <td>1.904571</td>\n",
       "    </tr>\n",
       "    <tr>\n",
       "      <th>997</th>\n",
       "      <td>-0.263780</td>\n",
       "      <td>True</td>\n",
       "      <td>4.675442</td>\n",
       "      <td>0.386184</td>\n",
       "      <td>2.589438</td>\n",
       "    </tr>\n",
       "    <tr>\n",
       "      <th>998</th>\n",
       "      <td>0.561118</td>\n",
       "      <td>True</td>\n",
       "      <td>6.408892</td>\n",
       "      <td>0.739454</td>\n",
       "      <td>1.352349</td>\n",
       "    </tr>\n",
       "    <tr>\n",
       "      <th>999</th>\n",
       "      <td>1.260049</td>\n",
       "      <td>True</td>\n",
       "      <td>7.060954</td>\n",
       "      <td>0.910487</td>\n",
       "      <td>1.098314</td>\n",
       "    </tr>\n",
       "  </tbody>\n",
       "</table>\n",
       "<p>1000 rows × 5 columns</p>\n",
       "</div>"
      ],
      "text/plain": [
       "           W0    v0         y  propensity_score    weight\n",
       "0    0.183828  True  6.385451          0.587608  1.701814\n",
       "1   -0.819853  True  4.395469          0.185588  5.388283\n",
       "2    0.838557  True  6.368579          0.824888  1.212286\n",
       "3    1.819416  True  6.528172          0.965814  1.035396\n",
       "4    1.245936  True  6.679730          0.908364  1.100881\n",
       "..        ...   ...       ...               ...       ...\n",
       "995 -0.310125  True  5.876104          0.366324  2.729827\n",
       "996  0.044863  True  5.820469          0.525053  1.904571\n",
       "997 -0.263780  True  4.675442          0.386184  2.589438\n",
       "998  0.561118  True  6.408892          0.739454  1.352349\n",
       "999  1.260049  True  7.060954          0.910487  1.098314\n",
       "\n",
       "[1000 rows x 5 columns]"
      ]
     },
     "execution_count": 7,
     "metadata": {},
     "output_type": "execute_result"
    }
   ],
   "source": [
    "cdf_1"
   ]
  },
  {
   "cell_type": "markdown",
   "metadata": {},
   "source": [
    "## Comparing the estimate to Linear Regression\n",
    "First, estimating the effect using the causal data frame, and the 95% confidence interval."
   ]
  },
  {
   "cell_type": "code",
   "execution_count": 8,
   "metadata": {
    "execution": {
     "iopub.execute_input": "2022-09-01T18:33:54.507678Z",
     "iopub.status.busy": "2022-09-01T18:33:54.507389Z",
     "iopub.status.idle": "2022-09-01T18:33:54.628272Z",
     "shell.execute_reply": "2022-09-01T18:33:54.627427Z"
    }
   },
   "outputs": [
    {
     "data": {
      "image/png": "[encoded data removed]",
      "text/latex": [
       "$\\displaystyle 5.09016324245403$"
      ],
      "text/plain": [
       "5.090163242454028"
      ]
     },
     "execution_count": 8,
     "metadata": {},
     "output_type": "execute_result"
    }
   ],
   "source": [
    "(cdf_1['y'] - cdf_0['y']).mean()"
   ]
  },
  {
   "cell_type": "code",
   "execution_count": 9,
   "metadata": {
    "execution": {
     "iopub.execute_input": "2022-09-01T18:33:54.632453Z",
     "iopub.status.busy": "2022-09-01T18:33:54.631694Z",
     "iopub.status.idle": "2022-09-01T18:33:54.662203Z",
     "shell.execute_reply": "2022-09-01T18:33:54.661299Z"
    }
   },
   "outputs": [
    {
     "data": {
      "image/png": "[encoded data removed]",
      "text/latex": [
       "$\\displaystyle 0.13813961837253$"
      ],
      "text/plain": [
       "0.13813961837253022"
      ]
     },
     "execution_count": 9,
     "metadata": {},
     "output_type": "execute_result"
    }
   ],
   "source": [
    "1.96*(cdf_1['y'] - cdf_0['y']).std() / np.sqrt(len(df))"
   ]
  },
  {
   "cell_type": "markdown",
   "metadata": {},
   "source": [
    "Comparing to the estimate from OLS."
   ]
  },
  {
   "cell_type": "code",
   "execution_count": 10,
   "metadata": {
    "execution": {
     "iopub.execute_input": "2022-09-01T18:33:54.666510Z",
     "iopub.status.busy": "2022-09-01T18:33:54.666036Z",
     "iopub.status.idle": "2022-09-01T18:33:54.686093Z",
     "shell.execute_reply": "2022-09-01T18:33:54.685243Z"
    }
   },
   "outputs": [
    {
     "data": {
      "text/html": [
       "<table class=\"simpletable\">\n",
       "<caption>OLS Regression Results</caption>\n",
       "<tr>\n",
       "  <th>Dep. Variable:</th>            <td>y</td>        <th>  R-squared (uncentered):</th>      <td>   0.972</td> \n",
       "</tr>\n",
       "<tr>\n",
       "  <th>Model:</th>                   <td>OLS</td>       <th>  Adj. R-squared (uncentered):</th> <td>   0.972</td> \n",
       "</tr>\n",
       "<tr>\n",
       "  <th>Method:</th>             <td>Least Squares</td>  <th>  F-statistic:       </th>          <td>1.760e+04</td>\n",
       "</tr>\n",
       "<tr>\n",
       "  <th>Date:</th>             <td>Thu, 01 Sep 2022</td> <th>  Prob (F-statistic):</th>           <td>  0.00</td>  \n",
       "</tr>\n",
       "<tr>\n",
       "  <th>Time:</th>                 <td>18:33:54</td>     <th>  Log-Likelihood:    </th>          <td> -1396.9</td> \n",
       "</tr>\n",
       "<tr>\n",
       "  <th>No. Observations:</th>      <td>  1000</td>      <th>  AIC:               </th>          <td>   2798.</td> \n",
       "</tr>\n",
       "<tr>\n",
       "  <th>Df Residuals:</th>          <td>   998</td>      <th>  BIC:               </th>          <td>   2808.</td> \n",
       "</tr>\n",
       "<tr>\n",
       "  <th>Df Model:</th>              <td>     2</td>      <th>                     </th>              <td> </td>    \n",
       "</tr>\n",
       "<tr>\n",
       "  <th>Covariance Type:</th>      <td>nonrobust</td>    <th>                     </th>              <td> </td>    \n",
       "</tr>\n",
       "</table>\n",
       "<table class=\"simpletable\">\n",
       "<tr>\n",
       "   <td></td>     <th>coef</th>     <th>std err</th>      <th>t</th>      <th>P>|t|</th>  <th>[0.025</th>    <th>0.975]</th>  \n",
       "</tr>\n",
       "<tr>\n",
       "  <th>x1</th> <td>    1.3620</td> <td>    0.038</td> <td>   36.106</td> <td> 0.000</td> <td>    1.288</td> <td>    1.436</td>\n",
       "</tr>\n",
       "<tr>\n",
       "  <th>x2</th> <td>    5.1017</td> <td>    0.056</td> <td>   90.628</td> <td> 0.000</td> <td>    4.991</td> <td>    5.212</td>\n",
       "</tr>\n",
       "</table>\n",
       "<table class=\"simpletable\">\n",
       "<tr>\n",
       "  <th>Omnibus:</th>       <td> 1.422</td> <th>  Durbin-Watson:     </th> <td>   1.936</td>\n",
       "</tr>\n",
       "<tr>\n",
       "  <th>Prob(Omnibus):</th> <td> 0.491</td> <th>  Jarque-Bera (JB):  </th> <td>   1.345</td>\n",
       "</tr>\n",
       "<tr>\n",
       "  <th>Skew:</th>          <td>-0.001</td> <th>  Prob(JB):          </th> <td>   0.510</td>\n",
       "</tr>\n",
       "<tr>\n",
       "  <th>Kurtosis:</th>      <td> 3.180</td> <th>  Cond. No.          </th> <td>    3.04</td>\n",
       "</tr>\n",
       "</table><br/><br/>Notes:<br/>[1] R² is computed without centering (uncentered) since the model does not contain a constant.<br/>[2] Standard Errors assume that the covariance matrix of the errors is correctly specified."
      ],
      "text/plain": [
       "<class 'statsmodels.iolib.summary.Summary'>\n",
       "\"\"\"\n",
       "                                 OLS Regression Results                                \n",
       "=======================================================================================\n",
       "Dep. Variable:                      y   R-squared (uncentered):                   0.972\n",
       "Model:                            OLS   Adj. R-squared (uncentered):              0.972\n",
       "Method:                 Least Squares   F-statistic:                          1.760e+04\n",
       "Date:                Thu, 01 Sep 2022   Prob (F-statistic):                        0.00\n",
       "Time:                        18:33:54   Log-Likelihood:                         -1396.9\n",
       "No. Observations:                1000   AIC:                                      2798.\n",
       "Df Residuals:                     998   BIC:                                      2808.\n",
       "Df Model:                           2                                                  \n",
       "Covariance Type:            nonrobust                                                  \n",
       "==============================================================================\n",
       "                 coef    std err          t      P>|t|      [0.025      0.975]\n",
       "------------------------------------------------------------------------------\n",
       "x1             1.3620      0.038     36.106      0.000       1.288       1.436\n",
       "x2             5.1017      0.056     90.628      0.000       4.991       5.212\n",
       "==============================================================================\n",
       "Omnibus:                        1.422   Durbin-Watson:                   1.936\n",
       "Prob(Omnibus):                  0.491   Jarque-Bera (JB):                1.345\n",
       "Skew:                          -0.001   Prob(JB):                        0.510\n",
       "Kurtosis:                       3.180   Cond. No.                         3.04\n",
       "==============================================================================\n",
       "\n",
       "Notes:\n",
       "[1] R² is computed without centering (uncentered) since the model does not contain a constant.\n",
       "[2] Standard Errors assume that the covariance matrix of the errors is correctly specified.\n",
       "\"\"\""
      ]
     },
     "execution_count": 10,
     "metadata": {},
     "output_type": "execute_result"
    }
   ],
   "source": [
    "model = OLS(np.asarray(df[outcome]), np.asarray(df[[common_cause, treatment]], dtype=np.float64))\n",
    "result = model.fit()\n",
    "result.summary()"
   ]
  }
 ],
 "metadata": {
  "kernelspec": {
   "display_name": "Python 3",
   "language": "python",
   "name": "python3"
  },
  "language_info": {
   "codemirror_mode": {
    "name": "ipython",
    "version": 3
   },
   "file_extension": ".py",
   "mimetype": "text/x-python",
   "name": "python",
   "nbconvert_exporter": "python",
   "pygments_lexer": "ipython3",
   "version": "3.8.10"
  },
  "toc": {
   "base_numbering": 1,
   "nav_menu": {},
   "number_sections": false,
   "sideBar": true,
   "skip_h1_title": true,
   "title_cell": "Table of Contents",
   "title_sidebar": "Contents",
   "toc_cell": false,
   "toc_position": {},
   "toc_section_display": true,
   "toc_window_display": false
  }
 },
 "nbformat": 4,
 "nbformat_minor": 4
}
