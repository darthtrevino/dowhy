{
 "cells": [
  {
   "cell_type": "markdown",
   "metadata": {},
   "source": [
    "# Demo for the DoWhy causal API\n",
    "We show a simple example of adding a causal extension to any dataframe. "
   ]
  },
  {
   "cell_type": "code",
   "execution_count": 1,
   "metadata": {
    "execution": {
     "iopub.execute_input": "2022-09-01T18:35:51.317230Z",
     "iopub.status.busy": "2022-09-01T18:35:51.316745Z",
     "iopub.status.idle": "2022-09-01T18:35:52.388236Z",
     "shell.execute_reply": "2022-09-01T18:35:52.387586Z"
    }
   },
   "outputs": [],
   "source": [
    "import dowhy.datasets\n",
    "import dowhy.api\n",
    "\n",
    "import numpy as np\n",
    "import pandas as pd\n",
    "\n",
    "from statsmodels.api import OLS"
   ]
  },
  {
   "cell_type": "code",
   "execution_count": 2,
   "metadata": {
    "execution": {
     "iopub.execute_input": "2022-09-01T18:35:52.392218Z",
     "iopub.status.busy": "2022-09-01T18:35:52.391582Z",
     "iopub.status.idle": "2022-09-01T18:35:52.432368Z",
     "shell.execute_reply": "2022-09-01T18:35:52.431799Z"
    }
   },
   "outputs": [
    {
     "data": {
      "text/html": [
       "<div>\n",
       "<style scoped>\n",
       "    .dataframe tbody tr th:only-of-type {\n",
       "        vertical-align: middle;\n",
       "    }\n",
       "\n",
       "    .dataframe tbody tr th {\n",
       "        vertical-align: top;\n",
       "    }\n",
       "\n",
       "    .dataframe thead th {\n",
       "        text-align: right;\n",
       "    }\n",
       "</style>\n",
       "<table border=\"1\" class=\"dataframe\">\n",
       "  <thead>\n",
       "    <tr style=\"text-align: right;\">\n",
       "      <th></th>\n",
       "      <th>W0</th>\n",
       "      <th>v0</th>\n",
       "      <th>y</th>\n",
       "    </tr>\n",
       "  </thead>\n",
       "  <tbody>\n",
       "    <tr>\n",
       "      <th>0</th>\n",
       "      <td>0.320383</td>\n",
       "      <td>False</td>\n",
       "      <td>0.383705</td>\n",
       "    </tr>\n",
       "    <tr>\n",
       "      <th>1</th>\n",
       "      <td>-0.128524</td>\n",
       "      <td>True</td>\n",
       "      <td>5.589229</td>\n",
       "    </tr>\n",
       "    <tr>\n",
       "      <th>2</th>\n",
       "      <td>0.242929</td>\n",
       "      <td>False</td>\n",
       "      <td>-0.348551</td>\n",
       "    </tr>\n",
       "    <tr>\n",
       "      <th>3</th>\n",
       "      <td>-0.524628</td>\n",
       "      <td>False</td>\n",
       "      <td>-0.041125</td>\n",
       "    </tr>\n",
       "    <tr>\n",
       "      <th>4</th>\n",
       "      <td>2.044996</td>\n",
       "      <td>True</td>\n",
       "      <td>7.258376</td>\n",
       "    </tr>\n",
       "    <tr>\n",
       "      <th>...</th>\n",
       "      <td>...</td>\n",
       "      <td>...</td>\n",
       "      <td>...</td>\n",
       "    </tr>\n",
       "    <tr>\n",
       "      <th>995</th>\n",
       "      <td>1.073343</td>\n",
       "      <td>True</td>\n",
       "      <td>5.591020</td>\n",
       "    </tr>\n",
       "    <tr>\n",
       "      <th>996</th>\n",
       "      <td>-0.708004</td>\n",
       "      <td>False</td>\n",
       "      <td>-1.804058</td>\n",
       "    </tr>\n",
       "    <tr>\n",
       "      <th>997</th>\n",
       "      <td>0.441290</td>\n",
       "      <td>False</td>\n",
       "      <td>-0.160749</td>\n",
       "    </tr>\n",
       "    <tr>\n",
       "      <th>998</th>\n",
       "      <td>-0.342943</td>\n",
       "      <td>True</td>\n",
       "      <td>4.872033</td>\n",
       "    </tr>\n",
       "    <tr>\n",
       "      <th>999</th>\n",
       "      <td>0.329187</td>\n",
       "      <td>True</td>\n",
       "      <td>4.217619</td>\n",
       "    </tr>\n",
       "  </tbody>\n",
       "</table>\n",
       "<p>1000 rows × 3 columns</p>\n",
       "</div>"
      ],
      "text/plain": [
       "           W0     v0         y\n",
       "0    0.320383  False  0.383705\n",
       "1   -0.128524   True  5.589229\n",
       "2    0.242929  False -0.348551\n",
       "3   -0.524628  False -0.041125\n",
       "4    2.044996   True  7.258376\n",
       "..        ...    ...       ...\n",
       "995  1.073343   True  5.591020\n",
       "996 -0.708004  False -1.804058\n",
       "997  0.441290  False -0.160749\n",
       "998 -0.342943   True  4.872033\n",
       "999  0.329187   True  4.217619\n",
       "\n",
       "[1000 rows x 3 columns]"
      ]
     },
     "execution_count": 2,
     "metadata": {},
     "output_type": "execute_result"
    }
   ],
   "source": [
    "data = dowhy.datasets.linear_dataset(beta=5,\n",
    "        num_common_causes=1,\n",
    "        num_instruments = 0,\n",
    "        num_samples=1000,\n",
    "        treatment_is_binary=True)\n",
    "df = data['df']\n",
    "df['y'] = df['y'] + np.random.normal(size=len(df)) # Adding noise to data. Without noise, the variance in Y|X, Z is zero, and mcmc fails.\n",
    "#data['dot_graph'] = 'digraph { v ->y;X0-> v;X0-> y;}'\n",
    "\n",
    "treatment= data[\"treatment_name\"][0]\n",
    "outcome = data[\"outcome_name\"][0]\n",
    "common_cause = data[\"common_causes_names\"][0]\n",
    "df"
   ]
  },
  {
   "cell_type": "code",
   "execution_count": 3,
   "metadata": {
    "execution": {
     "iopub.execute_input": "2022-09-01T18:35:52.435411Z",
     "iopub.status.busy": "2022-09-01T18:35:52.435092Z",
     "iopub.status.idle": "2022-09-01T18:35:53.166260Z",
     "shell.execute_reply": "2022-09-01T18:35:53.165650Z"
    }
   },
   "outputs": [
    {
     "data": {
      "text/plain": [
       "<AxesSubplot:xlabel='v0'>"
      ]
     },
     "execution_count": 3,
     "metadata": {},
     "output_type": "execute_result"
    },
    {
     "data": {
      "image/png": "[encoded data removed]",
      "text/plain": [
       "<Figure size 640x480 with 1 Axes>"
      ]
     },
     "metadata": {},
     "output_type": "display_data"
    }
   ],
   "source": [
    "# data['df'] is just a regular pandas.DataFrame\n",
    "df.causal.do(x=treatment,\n",
    "                     variable_types={treatment: 'b', outcome: 'c', common_cause: 'c'},\n",
    "                     outcome=outcome,\n",
    "                     common_causes=[common_cause],\n",
    "                     proceed_when_unidentifiable=True).groupby(treatment).mean().plot(y=outcome, kind='bar')"
   ]
  },
  {
   "cell_type": "code",
   "execution_count": 4,
   "metadata": {
    "execution": {
     "iopub.execute_input": "2022-09-01T18:35:53.169739Z",
     "iopub.status.busy": "2022-09-01T18:35:53.169392Z",
     "iopub.status.idle": "2022-09-01T18:35:53.273842Z",
     "shell.execute_reply": "2022-09-01T18:35:53.273253Z"
    }
   },
   "outputs": [
    {
     "data": {
      "text/plain": [
       "<AxesSubplot:xlabel='v0'>"
      ]
     },
     "execution_count": 4,
     "metadata": {},
     "output_type": "execute_result"
    },
    {
     "data": {
      "image/png": "[encoded data removed]",
      "text/plain": [
       "<Figure size 640x480 with 1 Axes>"
      ]
     },
     "metadata": {},
     "output_type": "display_data"
    }
   ],
   "source": [
    "df.causal.do(x={treatment: 1}, \n",
    "              variable_types={treatment:'b', outcome: 'c', common_cause: 'c'}, \n",
    "              outcome=outcome,\n",
    "              method='weighting', \n",
    "              common_causes=[common_cause],\n",
    "              proceed_when_unidentifiable=True).groupby(treatment).mean().plot(y=outcome, kind='bar')"
   ]
  },
  {
   "cell_type": "code",
   "execution_count": 5,
   "metadata": {
    "execution": {
     "iopub.execute_input": "2022-09-01T18:35:53.277798Z",
     "iopub.status.busy": "2022-09-01T18:35:53.276815Z",
     "iopub.status.idle": "2022-09-01T18:35:53.307276Z",
     "shell.execute_reply": "2022-09-01T18:35:53.306694Z"
    }
   },
   "outputs": [],
   "source": [
    "cdf_1 = df.causal.do(x={treatment: 1}, \n",
    "              variable_types={treatment: 'b', outcome: 'c', common_cause: 'c'}, \n",
    "              outcome=outcome, \n",
    "              dot_graph=data['dot_graph'],\n",
    "              proceed_when_unidentifiable=True)\n",
    "\n",
    "cdf_0 = df.causal.do(x={treatment: 0}, \n",
    "              variable_types={treatment: 'b', outcome: 'c', common_cause: 'c'}, \n",
    "              outcome=outcome, \n",
    "              dot_graph=data['dot_graph'],\n",
    "              proceed_when_unidentifiable=True)\n"
   ]
  },
  {
   "cell_type": "code",
   "execution_count": 6,
   "metadata": {
    "execution": {
     "iopub.execute_input": "2022-09-01T18:35:53.310560Z",
     "iopub.status.busy": "2022-09-01T18:35:53.310058Z",
     "iopub.status.idle": "2022-09-01T18:35:53.322624Z",
     "shell.execute_reply": "2022-09-01T18:35:53.321634Z"
    },
    "scrolled": true
   },
   "outputs": [
    {
     "data": {
      "text/html": [
       "<div>\n",
       "<style scoped>\n",
       "    .dataframe tbody tr th:only-of-type {\n",
       "        vertical-align: middle;\n",
       "    }\n",
       "\n",
       "    .dataframe tbody tr th {\n",
       "        vertical-align: top;\n",
       "    }\n",
       "\n",
       "    .dataframe thead th {\n",
       "        text-align: right;\n",
       "    }\n",
       "</style>\n",
       "<table border=\"1\" class=\"dataframe\">\n",
       "  <thead>\n",
       "    <tr style=\"text-align: right;\">\n",
       "      <th></th>\n",
       "      <th>W0</th>\n",
       "      <th>v0</th>\n",
       "      <th>y</th>\n",
       "      <th>propensity_score</th>\n",
       "      <th>weight</th>\n",
       "    </tr>\n",
       "  </thead>\n",
       "  <tbody>\n",
       "    <tr>\n",
       "      <th>0</th>\n",
       "      <td>-0.315796</td>\n",
       "      <td>False</td>\n",
       "      <td>-0.188084</td>\n",
       "      <td>0.656963</td>\n",
       "      <td>1.522156</td>\n",
       "    </tr>\n",
       "    <tr>\n",
       "      <th>1</th>\n",
       "      <td>0.240484</td>\n",
       "      <td>False</td>\n",
       "      <td>0.393972</td>\n",
       "      <td>0.409486</td>\n",
       "      <td>2.442084</td>\n",
       "    </tr>\n",
       "    <tr>\n",
       "      <th>2</th>\n",
       "      <td>1.396262</td>\n",
       "      <td>False</td>\n",
       "      <td>0.795831</td>\n",
       "      <td>0.077503</td>\n",
       "      <td>12.902769</td>\n",
       "    </tr>\n",
       "    <tr>\n",
       "      <th>3</th>\n",
       "      <td>-0.812651</td>\n",
       "      <td>False</td>\n",
       "      <td>0.794754</td>\n",
       "      <td>0.825943</td>\n",
       "      <td>1.210737</td>\n",
       "    </tr>\n",
       "    <tr>\n",
       "      <th>4</th>\n",
       "      <td>-1.491037</td>\n",
       "      <td>False</td>\n",
       "      <td>-1.518483</td>\n",
       "      <td>0.942460</td>\n",
       "      <td>1.061053</td>\n",
       "    </tr>\n",
       "    <tr>\n",
       "      <th>...</th>\n",
       "      <td>...</td>\n",
       "      <td>...</td>\n",
       "      <td>...</td>\n",
       "      <td>...</td>\n",
       "      <td>...</td>\n",
       "    </tr>\n",
       "    <tr>\n",
       "      <th>995</th>\n",
       "      <td>-1.078308</td>\n",
       "      <td>False</td>\n",
       "      <td>-3.202316</td>\n",
       "      <td>0.885166</td>\n",
       "      <td>1.129732</td>\n",
       "    </tr>\n",
       "    <tr>\n",
       "      <th>996</th>\n",
       "      <td>0.696323</td>\n",
       "      <td>False</td>\n",
       "      <td>0.625839</td>\n",
       "      <td>0.231735</td>\n",
       "      <td>4.315282</td>\n",
       "    </tr>\n",
       "    <tr>\n",
       "      <th>997</th>\n",
       "      <td>0.729136</td>\n",
       "      <td>False</td>\n",
       "      <td>0.417725</td>\n",
       "      <td>0.221238</td>\n",
       "      <td>4.520018</td>\n",
       "    </tr>\n",
       "    <tr>\n",
       "      <th>998</th>\n",
       "      <td>1.134555</td>\n",
       "      <td>False</td>\n",
       "      <td>-0.211214</td>\n",
       "      <td>0.119324</td>\n",
       "      <td>8.380511</td>\n",
       "    </tr>\n",
       "    <tr>\n",
       "      <th>999</th>\n",
       "      <td>1.134555</td>\n",
       "      <td>False</td>\n",
       "      <td>-0.211214</td>\n",
       "      <td>0.119324</td>\n",
       "      <td>8.380511</td>\n",
       "    </tr>\n",
       "  </tbody>\n",
       "</table>\n",
       "<p>1000 rows × 5 columns</p>\n",
       "</div>"
      ],
      "text/plain": [
       "           W0     v0         y  propensity_score     weight\n",
       "0   -0.315796  False -0.188084          0.656963   1.522156\n",
       "1    0.240484  False  0.393972          0.409486   2.442084\n",
       "2    1.396262  False  0.795831          0.077503  12.902769\n",
       "3   -0.812651  False  0.794754          0.825943   1.210737\n",
       "4   -1.491037  False -1.518483          0.942460   1.061053\n",
       "..        ...    ...       ...               ...        ...\n",
       "995 -1.078308  False -3.202316          0.885166   1.129732\n",
       "996  0.696323  False  0.625839          0.231735   4.315282\n",
       "997  0.729136  False  0.417725          0.221238   4.520018\n",
       "998  1.134555  False -0.211214          0.119324   8.380511\n",
       "999  1.134555  False -0.211214          0.119324   8.380511\n",
       "\n",
       "[1000 rows x 5 columns]"
      ]
     },
     "execution_count": 6,
     "metadata": {},
     "output_type": "execute_result"
    }
   ],
   "source": [
    "cdf_0"
   ]
  },
  {
   "cell_type": "code",
   "execution_count": 7,
   "metadata": {
    "execution": {
     "iopub.execute_input": "2022-09-01T18:35:53.325638Z",
     "iopub.status.busy": "2022-09-01T18:35:53.325201Z",
     "iopub.status.idle": "2022-09-01T18:35:53.336780Z",
     "shell.execute_reply": "2022-09-01T18:35:53.336241Z"
    }
   },
   "outputs": [
    {
     "data": {
      "text/html": [
       "<div>\n",
       "<style scoped>\n",
       "    .dataframe tbody tr th:only-of-type {\n",
       "        vertical-align: middle;\n",
       "    }\n",
       "\n",
       "    .dataframe tbody tr th {\n",
       "        vertical-align: top;\n",
       "    }\n",
       "\n",
       "    .dataframe thead th {\n",
       "        text-align: right;\n",
       "    }\n",
       "</style>\n",
       "<table border=\"1\" class=\"dataframe\">\n",
       "  <thead>\n",
       "    <tr style=\"text-align: right;\">\n",
       "      <th></th>\n",
       "      <th>W0</th>\n",
       "      <th>v0</th>\n",
       "      <th>y</th>\n",
       "      <th>propensity_score</th>\n",
       "      <th>weight</th>\n",
       "    </tr>\n",
       "  </thead>\n",
       "  <tbody>\n",
       "    <tr>\n",
       "      <th>0</th>\n",
       "      <td>-0.129002</td>\n",
       "      <td>True</td>\n",
       "      <td>6.422971</td>\n",
       "      <td>0.423440</td>\n",
       "      <td>2.361607</td>\n",
       "    </tr>\n",
       "    <tr>\n",
       "      <th>1</th>\n",
       "      <td>0.028858</td>\n",
       "      <td>True</td>\n",
       "      <td>4.141409</td>\n",
       "      <td>0.494905</td>\n",
       "      <td>2.020591</td>\n",
       "    </tr>\n",
       "    <tr>\n",
       "      <th>2</th>\n",
       "      <td>1.434986</td>\n",
       "      <td>True</td>\n",
       "      <td>4.484138</td>\n",
       "      <td>0.927405</td>\n",
       "      <td>1.078278</td>\n",
       "    </tr>\n",
       "    <tr>\n",
       "      <th>3</th>\n",
       "      <td>-0.703250</td>\n",
       "      <td>True</td>\n",
       "      <td>3.533564</td>\n",
       "      <td>0.204670</td>\n",
       "      <td>4.885909</td>\n",
       "    </tr>\n",
       "    <tr>\n",
       "      <th>4</th>\n",
       "      <td>0.472936</td>\n",
       "      <td>True</td>\n",
       "      <td>6.260882</td>\n",
       "      <td>0.687959</td>\n",
       "      <td>1.453575</td>\n",
       "    </tr>\n",
       "    <tr>\n",
       "      <th>...</th>\n",
       "      <td>...</td>\n",
       "      <td>...</td>\n",
       "      <td>...</td>\n",
       "      <td>...</td>\n",
       "      <td>...</td>\n",
       "    </tr>\n",
       "    <tr>\n",
       "      <th>995</th>\n",
       "      <td>0.513603</td>\n",
       "      <td>True</td>\n",
       "      <td>4.609423</td>\n",
       "      <td>0.703675</td>\n",
       "      <td>1.421111</td>\n",
       "    </tr>\n",
       "    <tr>\n",
       "      <th>996</th>\n",
       "      <td>-1.104408</td>\n",
       "      <td>True</td>\n",
       "      <td>3.779846</td>\n",
       "      <td>0.110077</td>\n",
       "      <td>9.084525</td>\n",
       "    </tr>\n",
       "    <tr>\n",
       "      <th>997</th>\n",
       "      <td>-0.495245</td>\n",
       "      <td>True</td>\n",
       "      <td>3.770535</td>\n",
       "      <td>0.273389</td>\n",
       "      <td>3.657797</td>\n",
       "    </tr>\n",
       "    <tr>\n",
       "      <th>998</th>\n",
       "      <td>-0.137710</td>\n",
       "      <td>True</td>\n",
       "      <td>5.776359</td>\n",
       "      <td>0.419563</td>\n",
       "      <td>2.383432</td>\n",
       "    </tr>\n",
       "    <tr>\n",
       "      <th>999</th>\n",
       "      <td>-0.128170</td>\n",
       "      <td>True</td>\n",
       "      <td>3.364036</td>\n",
       "      <td>0.423811</td>\n",
       "      <td>2.359540</td>\n",
       "    </tr>\n",
       "  </tbody>\n",
       "</table>\n",
       "<p>1000 rows × 5 columns</p>\n",
       "</div>"
      ],
      "text/plain": [
       "           W0    v0         y  propensity_score    weight\n",
       "0   -0.129002  True  6.422971          0.423440  2.361607\n",
       "1    0.028858  True  4.141409          0.494905  2.020591\n",
       "2    1.434986  True  4.484138          0.927405  1.078278\n",
       "3   -0.703250  True  3.533564          0.204670  4.885909\n",
       "4    0.472936  True  6.260882          0.687959  1.453575\n",
       "..        ...   ...       ...               ...       ...\n",
       "995  0.513603  True  4.609423          0.703675  1.421111\n",
       "996 -1.104408  True  3.779846          0.110077  9.084525\n",
       "997 -0.495245  True  3.770535          0.273389  3.657797\n",
       "998 -0.137710  True  5.776359          0.419563  2.383432\n",
       "999 -0.128170  True  3.364036          0.423811  2.359540\n",
       "\n",
       "[1000 rows x 5 columns]"
      ]
     },
     "execution_count": 7,
     "metadata": {},
     "output_type": "execute_result"
    }
   ],
   "source": [
    "cdf_1"
   ]
  },
  {
   "cell_type": "markdown",
   "metadata": {},
   "source": [
    "## Comparing the estimate to Linear Regression\n",
    "First, estimating the effect using the causal data frame, and the 95% confidence interval."
   ]
  },
  {
   "cell_type": "code",
   "execution_count": 8,
   "metadata": {
    "execution": {
     "iopub.execute_input": "2022-09-01T18:35:53.339842Z",
     "iopub.status.busy": "2022-09-01T18:35:53.339532Z",
     "iopub.status.idle": "2022-09-01T18:35:53.437378Z",
     "shell.execute_reply": "2022-09-01T18:35:53.436769Z"
    }
   },
   "outputs": [
    {
     "data": {
      "image/png": "[encoded data removed]",
      "text/latex": [
       "$\\displaystyle 5.37493381296261$"
      ],
      "text/plain": [
       "5.3749338129626105"
      ]
     },
     "execution_count": 8,
     "metadata": {},
     "output_type": "execute_result"
    }
   ],
   "source": [
    "(cdf_1['y'] - cdf_0['y']).mean()"
   ]
  },
  {
   "cell_type": "code",
   "execution_count": 9,
   "metadata": {
    "execution": {
     "iopub.execute_input": "2022-09-01T18:35:53.440501Z",
     "iopub.status.busy": "2022-09-01T18:35:53.440001Z",
     "iopub.status.idle": "2022-09-01T18:35:53.464798Z",
     "shell.execute_reply": "2022-09-01T18:35:53.464257Z"
    }
   },
   "outputs": [
    {
     "data": {
      "image/png": "[encoded data removed]",
      "text/latex": [
       "$\\displaystyle 0.115436474707448$"
      ],
      "text/plain": [
       "0.11543647470744821"
      ]
     },
     "execution_count": 9,
     "metadata": {},
     "output_type": "execute_result"
    }
   ],
   "source": [
    "1.96*(cdf_1['y'] - cdf_0['y']).std() / np.sqrt(len(df))"
   ]
  },
  {
   "cell_type": "markdown",
   "metadata": {},
   "source": [
    "Comparing to the estimate from OLS."
   ]
  },
  {
   "cell_type": "code",
   "execution_count": 10,
   "metadata": {
    "execution": {
     "iopub.execute_input": "2022-09-01T18:35:53.467592Z",
     "iopub.status.busy": "2022-09-01T18:35:53.467195Z",
     "iopub.status.idle": "2022-09-01T18:35:53.482698Z",
     "shell.execute_reply": "2022-09-01T18:35:53.482162Z"
    }
   },
   "outputs": [
    {
     "data": {
      "text/html": [
       "<table class=\"simpletable\">\n",
       "<caption>OLS Regression Results</caption>\n",
       "<tr>\n",
       "  <th>Dep. Variable:</th>            <td>y</td>        <th>  R-squared (uncentered):</th>      <td>   0.953</td> \n",
       "</tr>\n",
       "<tr>\n",
       "  <th>Model:</th>                   <td>OLS</td>       <th>  Adj. R-squared (uncentered):</th> <td>   0.953</td> \n",
       "</tr>\n",
       "<tr>\n",
       "  <th>Method:</th>             <td>Least Squares</td>  <th>  F-statistic:       </th>          <td>1.020e+04</td>\n",
       "</tr>\n",
       "<tr>\n",
       "  <th>Date:</th>             <td>Thu, 01 Sep 2022</td> <th>  Prob (F-statistic):</th>           <td>  0.00</td>  \n",
       "</tr>\n",
       "<tr>\n",
       "  <th>Time:</th>                 <td>18:35:53</td>     <th>  Log-Likelihood:    </th>          <td> -1422.0</td> \n",
       "</tr>\n",
       "<tr>\n",
       "  <th>No. Observations:</th>      <td>  1000</td>      <th>  AIC:               </th>          <td>   2848.</td> \n",
       "</tr>\n",
       "<tr>\n",
       "  <th>Df Residuals:</th>          <td>   998</td>      <th>  BIC:               </th>          <td>   2858.</td> \n",
       "</tr>\n",
       "<tr>\n",
       "  <th>Df Model:</th>              <td>     2</td>      <th>                     </th>              <td> </td>    \n",
       "</tr>\n",
       "<tr>\n",
       "  <th>Covariance Type:</th>      <td>nonrobust</td>    <th>                     </th>              <td> </td>    \n",
       "</tr>\n",
       "</table>\n",
       "<table class=\"simpletable\">\n",
       "<tr>\n",
       "   <td></td>     <th>coef</th>     <th>std err</th>      <th>t</th>      <th>P>|t|</th>  <th>[0.025</th>    <th>0.975]</th>  \n",
       "</tr>\n",
       "<tr>\n",
       "  <th>x1</th> <td>    1.0418</td> <td>    0.037</td> <td>   27.946</td> <td> 0.000</td> <td>    0.969</td> <td>    1.115</td>\n",
       "</tr>\n",
       "<tr>\n",
       "  <th>x2</th> <td>    5.0911</td> <td>    0.051</td> <td>   99.012</td> <td> 0.000</td> <td>    4.990</td> <td>    5.192</td>\n",
       "</tr>\n",
       "</table>\n",
       "<table class=\"simpletable\">\n",
       "<tr>\n",
       "  <th>Omnibus:</th>       <td> 0.327</td> <th>  Durbin-Watson:     </th> <td>   2.108</td>\n",
       "</tr>\n",
       "<tr>\n",
       "  <th>Prob(Omnibus):</th> <td> 0.849</td> <th>  Jarque-Bera (JB):  </th> <td>   0.226</td>\n",
       "</tr>\n",
       "<tr>\n",
       "  <th>Skew:</th>          <td>-0.017</td> <th>  Prob(JB):          </th> <td>   0.893</td>\n",
       "</tr>\n",
       "<tr>\n",
       "  <th>Kurtosis:</th>      <td> 3.066</td> <th>  Cond. No.          </th> <td>    2.08</td>\n",
       "</tr>\n",
       "</table><br/><br/>Notes:<br/>[1] R² is computed without centering (uncentered) since the model does not contain a constant.<br/>[2] Standard Errors assume that the covariance matrix of the errors is correctly specified."
      ],
      "text/plain": [
       "<class 'statsmodels.iolib.summary.Summary'>\n",
       "\"\"\"\n",
       "                                 OLS Regression Results                                \n",
       "=======================================================================================\n",
       "Dep. Variable:                      y   R-squared (uncentered):                   0.953\n",
       "Model:                            OLS   Adj. R-squared (uncentered):              0.953\n",
       "Method:                 Least Squares   F-statistic:                          1.020e+04\n",
       "Date:                Thu, 01 Sep 2022   Prob (F-statistic):                        0.00\n",
       "Time:                        18:35:53   Log-Likelihood:                         -1422.0\n",
       "No. Observations:                1000   AIC:                                      2848.\n",
       "Df Residuals:                     998   BIC:                                      2858.\n",
       "Df Model:                           2                                                  \n",
       "Covariance Type:            nonrobust                                                  \n",
       "==============================================================================\n",
       "                 coef    std err          t      P>|t|      [0.025      0.975]\n",
       "------------------------------------------------------------------------------\n",
       "x1             1.0418      0.037     27.946      0.000       0.969       1.115\n",
       "x2             5.0911      0.051     99.012      0.000       4.990       5.192\n",
       "==============================================================================\n",
       "Omnibus:                        0.327   Durbin-Watson:                   2.108\n",
       "Prob(Omnibus):                  0.849   Jarque-Bera (JB):                0.226\n",
       "Skew:                          -0.017   Prob(JB):                        0.893\n",
       "Kurtosis:                       3.066   Cond. No.                         2.08\n",
       "==============================================================================\n",
       "\n",
       "Notes:\n",
       "[1] R² is computed without centering (uncentered) since the model does not contain a constant.\n",
       "[2] Standard Errors assume that the covariance matrix of the errors is correctly specified.\n",
       "\"\"\""
      ]
     },
     "execution_count": 10,
     "metadata": {},
     "output_type": "execute_result"
    }
   ],
   "source": [
    "model = OLS(np.asarray(df[outcome]), np.asarray(df[[common_cause, treatment]], dtype=np.float64))\n",
    "result = model.fit()\n",
    "result.summary()"
   ]
  }
 ],
 "metadata": {
  "kernelspec": {
   "display_name": "Python 3",
   "language": "python",
   "name": "python3"
  },
  "language_info": {
   "codemirror_mode": {
    "name": "ipython",
    "version": 3
   },
   "file_extension": ".py",
   "mimetype": "text/x-python",
   "name": "python",
   "nbconvert_exporter": "python",
   "pygments_lexer": "ipython3",
   "version": "3.8.10"
  },
  "toc": {
   "base_numbering": 1,
   "nav_menu": {},
   "number_sections": false,
   "sideBar": true,
   "skip_h1_title": true,
   "title_cell": "Table of Contents",
   "title_sidebar": "Contents",
   "toc_cell": false,
   "toc_position": {},
   "toc_section_display": true,
   "toc_window_display": false
  }
 },
 "nbformat": 4,
 "nbformat_minor": 4
}
