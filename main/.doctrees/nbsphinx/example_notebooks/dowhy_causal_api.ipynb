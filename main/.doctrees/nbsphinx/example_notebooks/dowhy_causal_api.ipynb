{
 "cells": [
  {
   "cell_type": "markdown",
   "metadata": {},
   "source": [
    "# Demo for the DoWhy causal API\n",
    "We show a simple example of adding a causal extension to any dataframe. "
   ]
  },
  {
   "cell_type": "code",
   "execution_count": 1,
   "metadata": {
    "execution": {
     "iopub.execute_input": "2022-08-12T21:10:47.208778Z",
     "iopub.status.busy": "2022-08-12T21:10:47.208396Z",
     "iopub.status.idle": "2022-08-12T21:10:48.260643Z",
     "shell.execute_reply": "2022-08-12T21:10:48.260023Z"
    }
   },
   "outputs": [],
   "source": [
    "import dowhy.datasets\n",
    "import dowhy.api\n",
    "\n",
    "import numpy as np\n",
    "import pandas as pd\n",
    "\n",
    "from statsmodels.api import OLS"
   ]
  },
  {
   "cell_type": "code",
   "execution_count": 2,
   "metadata": {
    "execution": {
     "iopub.execute_input": "2022-08-12T21:10:48.264345Z",
     "iopub.status.busy": "2022-08-12T21:10:48.263743Z",
     "iopub.status.idle": "2022-08-12T21:10:48.302449Z",
     "shell.execute_reply": "2022-08-12T21:10:48.301380Z"
    }
   },
   "outputs": [
    {
     "data": {
      "text/html": [
       "<div>\n",
       "<style scoped>\n",
       "    .dataframe tbody tr th:only-of-type {\n",
       "        vertical-align: middle;\n",
       "    }\n",
       "\n",
       "    .dataframe tbody tr th {\n",
       "        vertical-align: top;\n",
       "    }\n",
       "\n",
       "    .dataframe thead th {\n",
       "        text-align: right;\n",
       "    }\n",
       "</style>\n",
       "<table border=\"1\" class=\"dataframe\">\n",
       "  <thead>\n",
       "    <tr style=\"text-align: right;\">\n",
       "      <th></th>\n",
       "      <th>W0</th>\n",
       "      <th>v0</th>\n",
       "      <th>y</th>\n",
       "    </tr>\n",
       "  </thead>\n",
       "  <tbody>\n",
       "    <tr>\n",
       "      <th>0</th>\n",
       "      <td>-0.951326</td>\n",
       "      <td>True</td>\n",
       "      <td>2.302902</td>\n",
       "    </tr>\n",
       "    <tr>\n",
       "      <th>1</th>\n",
       "      <td>0.330673</td>\n",
       "      <td>True</td>\n",
       "      <td>7.083304</td>\n",
       "    </tr>\n",
       "    <tr>\n",
       "      <th>2</th>\n",
       "      <td>2.158317</td>\n",
       "      <td>False</td>\n",
       "      <td>5.955331</td>\n",
       "    </tr>\n",
       "    <tr>\n",
       "      <th>3</th>\n",
       "      <td>-0.305575</td>\n",
       "      <td>True</td>\n",
       "      <td>3.450573</td>\n",
       "    </tr>\n",
       "    <tr>\n",
       "      <th>4</th>\n",
       "      <td>0.645392</td>\n",
       "      <td>False</td>\n",
       "      <td>2.239603</td>\n",
       "    </tr>\n",
       "    <tr>\n",
       "      <th>...</th>\n",
       "      <td>...</td>\n",
       "      <td>...</td>\n",
       "      <td>...</td>\n",
       "    </tr>\n",
       "    <tr>\n",
       "      <th>995</th>\n",
       "      <td>-0.657110</td>\n",
       "      <td>False</td>\n",
       "      <td>-0.773213</td>\n",
       "    </tr>\n",
       "    <tr>\n",
       "      <th>996</th>\n",
       "      <td>0.063507</td>\n",
       "      <td>True</td>\n",
       "      <td>6.701597</td>\n",
       "    </tr>\n",
       "    <tr>\n",
       "      <th>997</th>\n",
       "      <td>-0.888306</td>\n",
       "      <td>True</td>\n",
       "      <td>1.065233</td>\n",
       "    </tr>\n",
       "    <tr>\n",
       "      <th>998</th>\n",
       "      <td>1.268063</td>\n",
       "      <td>True</td>\n",
       "      <td>8.862945</td>\n",
       "    </tr>\n",
       "    <tr>\n",
       "      <th>999</th>\n",
       "      <td>1.440673</td>\n",
       "      <td>True</td>\n",
       "      <td>8.036426</td>\n",
       "    </tr>\n",
       "  </tbody>\n",
       "</table>\n",
       "<p>1000 rows × 3 columns</p>\n",
       "</div>"
      ],
      "text/plain": [
       "           W0     v0         y\n",
       "0   -0.951326   True  2.302902\n",
       "1    0.330673   True  7.083304\n",
       "2    2.158317  False  5.955331\n",
       "3   -0.305575   True  3.450573\n",
       "4    0.645392  False  2.239603\n",
       "..        ...    ...       ...\n",
       "995 -0.657110  False -0.773213\n",
       "996  0.063507   True  6.701597\n",
       "997 -0.888306   True  1.065233\n",
       "998  1.268063   True  8.862945\n",
       "999  1.440673   True  8.036426\n",
       "\n",
       "[1000 rows x 3 columns]"
      ]
     },
     "execution_count": 2,
     "metadata": {},
     "output_type": "execute_result"
    }
   ],
   "source": [
    "data = dowhy.datasets.linear_dataset(beta=5,\n",
    "        num_common_causes=1,\n",
    "        num_instruments = 0,\n",
    "        num_samples=1000,\n",
    "        treatment_is_binary=True)\n",
    "df = data['df']\n",
    "df['y'] = df['y'] + np.random.normal(size=len(df)) # Adding noise to data. Without noise, the variance in Y|X, Z is zero, and mcmc fails.\n",
    "#data['dot_graph'] = 'digraph { v ->y;X0-> v;X0-> y;}'\n",
    "\n",
    "treatment= data[\"treatment_name\"][0]\n",
    "outcome = data[\"outcome_name\"][0]\n",
    "common_cause = data[\"common_causes_names\"][0]\n",
    "df"
   ]
  },
  {
   "cell_type": "code",
   "execution_count": 3,
   "metadata": {
    "execution": {
     "iopub.execute_input": "2022-08-12T21:10:48.305542Z",
     "iopub.status.busy": "2022-08-12T21:10:48.305065Z",
     "iopub.status.idle": "2022-08-12T21:10:49.033126Z",
     "shell.execute_reply": "2022-08-12T21:10:49.032540Z"
    }
   },
   "outputs": [
    {
     "data": {
      "text/plain": [
       "<AxesSubplot:xlabel='v0'>"
      ]
     },
     "execution_count": 3,
     "metadata": {},
     "output_type": "execute_result"
    },
    {
     "data": {
      "image/png": "[encoded data removed]",
      "text/plain": [
       "<Figure size 432x288 with 1 Axes>"
      ]
     },
     "metadata": {
      "needs_background": "light"
     },
     "output_type": "display_data"
    }
   ],
   "source": [
    "# data['df'] is just a regular pandas.DataFrame\n",
    "df.causal.do(x=treatment,\n",
    "                     variable_types={treatment: 'b', outcome: 'c', common_cause: 'c'},\n",
    "                     outcome=outcome,\n",
    "                     common_causes=[common_cause],\n",
    "                     proceed_when_unidentifiable=True).groupby(treatment).mean().plot(y=outcome, kind='bar')"
   ]
  },
  {
   "cell_type": "code",
   "execution_count": 4,
   "metadata": {
    "execution": {
     "iopub.execute_input": "2022-08-12T21:10:49.036397Z",
     "iopub.status.busy": "2022-08-12T21:10:49.035949Z",
     "iopub.status.idle": "2022-08-12T21:10:49.131603Z",
     "shell.execute_reply": "2022-08-12T21:10:49.131113Z"
    }
   },
   "outputs": [
    {
     "data": {
      "text/plain": [
       "<AxesSubplot:xlabel='v0'>"
      ]
     },
     "execution_count": 4,
     "metadata": {},
     "output_type": "execute_result"
    },
    {
     "data": {
      "image/png": "[encoded data removed]",
      "text/plain": [
       "<Figure size 432x288 with 1 Axes>"
      ]
     },
     "metadata": {
      "needs_background": "light"
     },
     "output_type": "display_data"
    }
   ],
   "source": [
    "df.causal.do(x={treatment: 1}, \n",
    "              variable_types={treatment:'b', outcome: 'c', common_cause: 'c'}, \n",
    "              outcome=outcome,\n",
    "              method='weighting', \n",
    "              common_causes=[common_cause],\n",
    "              proceed_when_unidentifiable=True).groupby(treatment).mean().plot(y=outcome, kind='bar')"
   ]
  },
  {
   "cell_type": "code",
   "execution_count": 5,
   "metadata": {
    "execution": {
     "iopub.execute_input": "2022-08-12T21:10:49.135578Z",
     "iopub.status.busy": "2022-08-12T21:10:49.134373Z",
     "iopub.status.idle": "2022-08-12T21:10:49.164222Z",
     "shell.execute_reply": "2022-08-12T21:10:49.163654Z"
    }
   },
   "outputs": [],
   "source": [
    "cdf_1 = df.causal.do(x={treatment: 1}, \n",
    "              variable_types={treatment: 'b', outcome: 'c', common_cause: 'c'}, \n",
    "              outcome=outcome, \n",
    "              dot_graph=data['dot_graph'],\n",
    "              proceed_when_unidentifiable=True)\n",
    "\n",
    "cdf_0 = df.causal.do(x={treatment: 0}, \n",
    "              variable_types={treatment: 'b', outcome: 'c', common_cause: 'c'}, \n",
    "              outcome=outcome, \n",
    "              dot_graph=data['dot_graph'],\n",
    "              proceed_when_unidentifiable=True)\n"
   ]
  },
  {
   "cell_type": "code",
   "execution_count": 6,
   "metadata": {
    "execution": {
     "iopub.execute_input": "2022-08-12T21:10:49.167229Z",
     "iopub.status.busy": "2022-08-12T21:10:49.166927Z",
     "iopub.status.idle": "2022-08-12T21:10:49.179485Z",
     "shell.execute_reply": "2022-08-12T21:10:49.178551Z"
    },
    "scrolled": true
   },
   "outputs": [
    {
     "data": {
      "text/html": [
       "<div>\n",
       "<style scoped>\n",
       "    .dataframe tbody tr th:only-of-type {\n",
       "        vertical-align: middle;\n",
       "    }\n",
       "\n",
       "    .dataframe tbody tr th {\n",
       "        vertical-align: top;\n",
       "    }\n",
       "\n",
       "    .dataframe thead th {\n",
       "        text-align: right;\n",
       "    }\n",
       "</style>\n",
       "<table border=\"1\" class=\"dataframe\">\n",
       "  <thead>\n",
       "    <tr style=\"text-align: right;\">\n",
       "      <th></th>\n",
       "      <th>W0</th>\n",
       "      <th>v0</th>\n",
       "      <th>y</th>\n",
       "      <th>propensity_score</th>\n",
       "      <th>weight</th>\n",
       "    </tr>\n",
       "  </thead>\n",
       "  <tbody>\n",
       "    <tr>\n",
       "      <th>0</th>\n",
       "      <td>-1.318332</td>\n",
       "      <td>False</td>\n",
       "      <td>-4.824049</td>\n",
       "      <td>0.697116</td>\n",
       "      <td>1.434482</td>\n",
       "    </tr>\n",
       "    <tr>\n",
       "      <th>1</th>\n",
       "      <td>-0.879405</td>\n",
       "      <td>False</td>\n",
       "      <td>-3.024307</td>\n",
       "      <td>0.632371</td>\n",
       "      <td>1.581351</td>\n",
       "    </tr>\n",
       "    <tr>\n",
       "      <th>2</th>\n",
       "      <td>0.421471</td>\n",
       "      <td>False</td>\n",
       "      <td>1.732868</td>\n",
       "      <td>0.420518</td>\n",
       "      <td>2.378020</td>\n",
       "    </tr>\n",
       "    <tr>\n",
       "      <th>3</th>\n",
       "      <td>-1.046487</td>\n",
       "      <td>False</td>\n",
       "      <td>-2.926815</td>\n",
       "      <td>0.657742</td>\n",
       "      <td>1.520353</td>\n",
       "    </tr>\n",
       "    <tr>\n",
       "      <th>4</th>\n",
       "      <td>0.421471</td>\n",
       "      <td>False</td>\n",
       "      <td>1.732868</td>\n",
       "      <td>0.420518</td>\n",
       "      <td>2.378020</td>\n",
       "    </tr>\n",
       "    <tr>\n",
       "      <th>...</th>\n",
       "      <td>...</td>\n",
       "      <td>...</td>\n",
       "      <td>...</td>\n",
       "      <td>...</td>\n",
       "      <td>...</td>\n",
       "    </tr>\n",
       "    <tr>\n",
       "      <th>995</th>\n",
       "      <td>-0.449341</td>\n",
       "      <td>False</td>\n",
       "      <td>-2.731838</td>\n",
       "      <td>0.563918</td>\n",
       "      <td>1.773306</td>\n",
       "    </tr>\n",
       "    <tr>\n",
       "      <th>996</th>\n",
       "      <td>1.230326</td>\n",
       "      <td>False</td>\n",
       "      <td>2.961774</td>\n",
       "      <td>0.297910</td>\n",
       "      <td>3.356722</td>\n",
       "    </tr>\n",
       "    <tr>\n",
       "      <th>997</th>\n",
       "      <td>0.950006</td>\n",
       "      <td>False</td>\n",
       "      <td>1.537329</td>\n",
       "      <td>0.338206</td>\n",
       "      <td>2.956774</td>\n",
       "    </tr>\n",
       "    <tr>\n",
       "      <th>998</th>\n",
       "      <td>-0.858696</td>\n",
       "      <td>False</td>\n",
       "      <td>-2.662310</td>\n",
       "      <td>0.629171</td>\n",
       "      <td>1.589394</td>\n",
       "    </tr>\n",
       "    <tr>\n",
       "      <th>999</th>\n",
       "      <td>-0.498375</td>\n",
       "      <td>False</td>\n",
       "      <td>0.190761</td>\n",
       "      <td>0.571901</td>\n",
       "      <td>1.748555</td>\n",
       "    </tr>\n",
       "  </tbody>\n",
       "</table>\n",
       "<p>1000 rows × 5 columns</p>\n",
       "</div>"
      ],
      "text/plain": [
       "           W0     v0         y  propensity_score    weight\n",
       "0   -1.318332  False -4.824049          0.697116  1.434482\n",
       "1   -0.879405  False -3.024307          0.632371  1.581351\n",
       "2    0.421471  False  1.732868          0.420518  2.378020\n",
       "3   -1.046487  False -2.926815          0.657742  1.520353\n",
       "4    0.421471  False  1.732868          0.420518  2.378020\n",
       "..        ...    ...       ...               ...       ...\n",
       "995 -0.449341  False -2.731838          0.563918  1.773306\n",
       "996  1.230326  False  2.961774          0.297910  3.356722\n",
       "997  0.950006  False  1.537329          0.338206  2.956774\n",
       "998 -0.858696  False -2.662310          0.629171  1.589394\n",
       "999 -0.498375  False  0.190761          0.571901  1.748555\n",
       "\n",
       "[1000 rows x 5 columns]"
      ]
     },
     "execution_count": 6,
     "metadata": {},
     "output_type": "execute_result"
    }
   ],
   "source": [
    "cdf_0"
   ]
  },
  {
   "cell_type": "code",
   "execution_count": 7,
   "metadata": {
    "execution": {
     "iopub.execute_input": "2022-08-12T21:10:49.182430Z",
     "iopub.status.busy": "2022-08-12T21:10:49.182124Z",
     "iopub.status.idle": "2022-08-12T21:10:49.192998Z",
     "shell.execute_reply": "2022-08-12T21:10:49.192442Z"
    }
   },
   "outputs": [
    {
     "data": {
      "text/html": [
       "<div>\n",
       "<style scoped>\n",
       "    .dataframe tbody tr th:only-of-type {\n",
       "        vertical-align: middle;\n",
       "    }\n",
       "\n",
       "    .dataframe tbody tr th {\n",
       "        vertical-align: top;\n",
       "    }\n",
       "\n",
       "    .dataframe thead th {\n",
       "        text-align: right;\n",
       "    }\n",
       "</style>\n",
       "<table border=\"1\" class=\"dataframe\">\n",
       "  <thead>\n",
       "    <tr style=\"text-align: right;\">\n",
       "      <th></th>\n",
       "      <th>W0</th>\n",
       "      <th>v0</th>\n",
       "      <th>y</th>\n",
       "      <th>propensity_score</th>\n",
       "      <th>weight</th>\n",
       "    </tr>\n",
       "  </thead>\n",
       "  <tbody>\n",
       "    <tr>\n",
       "      <th>0</th>\n",
       "      <td>1.100654</td>\n",
       "      <td>True</td>\n",
       "      <td>7.437174</td>\n",
       "      <td>0.683790</td>\n",
       "      <td>1.462438</td>\n",
       "    </tr>\n",
       "    <tr>\n",
       "      <th>1</th>\n",
       "      <td>-1.469141</td>\n",
       "      <td>True</td>\n",
       "      <td>0.906198</td>\n",
       "      <td>0.282184</td>\n",
       "      <td>3.543783</td>\n",
       "    </tr>\n",
       "    <tr>\n",
       "      <th>2</th>\n",
       "      <td>1.165482</td>\n",
       "      <td>True</td>\n",
       "      <td>7.494994</td>\n",
       "      <td>0.693015</td>\n",
       "      <td>1.442971</td>\n",
       "    </tr>\n",
       "    <tr>\n",
       "      <th>3</th>\n",
       "      <td>0.449681</td>\n",
       "      <td>True</td>\n",
       "      <td>6.193776</td>\n",
       "      <td>0.584036</td>\n",
       "      <td>1.712224</td>\n",
       "    </tr>\n",
       "    <tr>\n",
       "      <th>4</th>\n",
       "      <td>0.913075</td>\n",
       "      <td>True</td>\n",
       "      <td>8.388175</td>\n",
       "      <td>0.656288</td>\n",
       "      <td>1.523721</td>\n",
       "    </tr>\n",
       "    <tr>\n",
       "      <th>...</th>\n",
       "      <td>...</td>\n",
       "      <td>...</td>\n",
       "      <td>...</td>\n",
       "      <td>...</td>\n",
       "      <td>...</td>\n",
       "    </tr>\n",
       "    <tr>\n",
       "      <th>995</th>\n",
       "      <td>0.106234</td>\n",
       "      <td>True</td>\n",
       "      <td>5.805635</td>\n",
       "      <td>0.527848</td>\n",
       "      <td>1.894484</td>\n",
       "    </tr>\n",
       "    <tr>\n",
       "      <th>996</th>\n",
       "      <td>-1.226782</td>\n",
       "      <td>True</td>\n",
       "      <td>1.890955</td>\n",
       "      <td>0.315860</td>\n",
       "      <td>3.165959</td>\n",
       "    </tr>\n",
       "    <tr>\n",
       "      <th>997</th>\n",
       "      <td>1.149310</td>\n",
       "      <td>True</td>\n",
       "      <td>7.741266</td>\n",
       "      <td>0.690728</td>\n",
       "      <td>1.447749</td>\n",
       "    </tr>\n",
       "    <tr>\n",
       "      <th>998</th>\n",
       "      <td>0.743155</td>\n",
       "      <td>True</td>\n",
       "      <td>7.247851</td>\n",
       "      <td>0.630431</td>\n",
       "      <td>1.586217</td>\n",
       "    </tr>\n",
       "    <tr>\n",
       "      <th>999</th>\n",
       "      <td>1.085463</td>\n",
       "      <td>True</td>\n",
       "      <td>6.697436</td>\n",
       "      <td>0.681606</td>\n",
       "      <td>1.467122</td>\n",
       "    </tr>\n",
       "  </tbody>\n",
       "</table>\n",
       "<p>1000 rows × 5 columns</p>\n",
       "</div>"
      ],
      "text/plain": [
       "           W0    v0         y  propensity_score    weight\n",
       "0    1.100654  True  7.437174          0.683790  1.462438\n",
       "1   -1.469141  True  0.906198          0.282184  3.543783\n",
       "2    1.165482  True  7.494994          0.693015  1.442971\n",
       "3    0.449681  True  6.193776          0.584036  1.712224\n",
       "4    0.913075  True  8.388175          0.656288  1.523721\n",
       "..        ...   ...       ...               ...       ...\n",
       "995  0.106234  True  5.805635          0.527848  1.894484\n",
       "996 -1.226782  True  1.890955          0.315860  3.165959\n",
       "997  1.149310  True  7.741266          0.690728  1.447749\n",
       "998  0.743155  True  7.247851          0.630431  1.586217\n",
       "999  1.085463  True  6.697436          0.681606  1.467122\n",
       "\n",
       "[1000 rows x 5 columns]"
      ]
     },
     "execution_count": 7,
     "metadata": {},
     "output_type": "execute_result"
    }
   ],
   "source": [
    "cdf_1"
   ]
  },
  {
   "cell_type": "markdown",
   "metadata": {},
   "source": [
    "## Comparing the estimate to Linear Regression\n",
    "First, estimating the effect using the causal data frame, and the 95% confidence interval."
   ]
  },
  {
   "cell_type": "code",
   "execution_count": 8,
   "metadata": {
    "execution": {
     "iopub.execute_input": "2022-08-12T21:10:49.195550Z",
     "iopub.status.busy": "2022-08-12T21:10:49.195349Z",
     "iopub.status.idle": "2022-08-12T21:10:49.289551Z",
     "shell.execute_reply": "2022-08-12T21:10:49.288918Z"
    }
   },
   "outputs": [
    {
     "data": {
      "image/png": "[encoded data removed]",
      "text/latex": [
       "$\\displaystyle 5.23385554209428$"
      ],
      "text/plain": [
       "5.233855542094282"
      ]
     },
     "execution_count": 8,
     "metadata": {},
     "output_type": "execute_result"
    }
   ],
   "source": [
    "(cdf_1['y'] - cdf_0['y']).mean()"
   ]
  },
  {
   "cell_type": "code",
   "execution_count": 9,
   "metadata": {
    "execution": {
     "iopub.execute_input": "2022-08-12T21:10:49.292218Z",
     "iopub.status.busy": "2022-08-12T21:10:49.292002Z",
     "iopub.status.idle": "2022-08-12T21:10:49.315289Z",
     "shell.execute_reply": "2022-08-12T21:10:49.314721Z"
    }
   },
   "outputs": [
    {
     "data": {
      "image/png": "[encoded data removed]",
      "text/latex": [
       "$\\displaystyle 0.252251816202715$"
      ],
      "text/plain": [
       "0.25225181620271453"
      ]
     },
     "execution_count": 9,
     "metadata": {},
     "output_type": "execute_result"
    }
   ],
   "source": [
    "1.96*(cdf_1['y'] - cdf_0['y']).std() / np.sqrt(len(df))"
   ]
  },
  {
   "cell_type": "markdown",
   "metadata": {},
   "source": [
    "Comparing to the estimate from OLS."
   ]
  },
  {
   "cell_type": "code",
   "execution_count": 10,
   "metadata": {
    "execution": {
     "iopub.execute_input": "2022-08-12T21:10:49.318070Z",
     "iopub.status.busy": "2022-08-12T21:10:49.317570Z",
     "iopub.status.idle": "2022-08-12T21:10:49.332093Z",
     "shell.execute_reply": "2022-08-12T21:10:49.331494Z"
    }
   },
   "outputs": [
    {
     "data": {
      "text/html": [
       "<table class=\"simpletable\">\n",
       "<caption>OLS Regression Results</caption>\n",
       "<tr>\n",
       "  <th>Dep. Variable:</th>            <td>y</td>        <th>  R-squared (uncentered):</th>      <td>   0.962</td> \n",
       "</tr>\n",
       "<tr>\n",
       "  <th>Model:</th>                   <td>OLS</td>       <th>  Adj. R-squared (uncentered):</th> <td>   0.962</td> \n",
       "</tr>\n",
       "<tr>\n",
       "  <th>Method:</th>             <td>Least Squares</td>  <th>  F-statistic:       </th>          <td>1.277e+04</td>\n",
       "</tr>\n",
       "<tr>\n",
       "  <th>Date:</th>             <td>Fri, 12 Aug 2022</td> <th>  Prob (F-statistic):</th>           <td>  0.00</td>  \n",
       "</tr>\n",
       "<tr>\n",
       "  <th>Time:</th>                 <td>21:10:49</td>     <th>  Log-Likelihood:    </th>          <td> -1390.0</td> \n",
       "</tr>\n",
       "<tr>\n",
       "  <th>No. Observations:</th>      <td>  1000</td>      <th>  AIC:               </th>          <td>   2784.</td> \n",
       "</tr>\n",
       "<tr>\n",
       "  <th>Df Residuals:</th>          <td>   998</td>      <th>  BIC:               </th>          <td>   2794.</td> \n",
       "</tr>\n",
       "<tr>\n",
       "  <th>Df Model:</th>              <td>     2</td>      <th>                     </th>              <td> </td>    \n",
       "</tr>\n",
       "<tr>\n",
       "  <th>Covariance Type:</th>      <td>nonrobust</td>    <th>                     </th>              <td> </td>    \n",
       "</tr>\n",
       "</table>\n",
       "<table class=\"simpletable\">\n",
       "<tr>\n",
       "   <td></td>     <th>coef</th>     <th>std err</th>      <th>t</th>      <th>P>|t|</th>  <th>[0.025</th>    <th>0.975]</th>  \n",
       "</tr>\n",
       "<tr>\n",
       "  <th>x1</th> <td>    2.6672</td> <td>    0.030</td> <td>   87.739</td> <td> 0.000</td> <td>    2.608</td> <td>    2.727</td>\n",
       "</tr>\n",
       "<tr>\n",
       "  <th>x2</th> <td>    5.0532</td> <td>    0.044</td> <td>  114.401</td> <td> 0.000</td> <td>    4.966</td> <td>    5.140</td>\n",
       "</tr>\n",
       "</table>\n",
       "<table class=\"simpletable\">\n",
       "<tr>\n",
       "  <th>Omnibus:</th>       <td> 0.424</td> <th>  Durbin-Watson:     </th> <td>   1.993</td>\n",
       "</tr>\n",
       "<tr>\n",
       "  <th>Prob(Omnibus):</th> <td> 0.809</td> <th>  Jarque-Bera (JB):  </th> <td>   0.331</td>\n",
       "</tr>\n",
       "<tr>\n",
       "  <th>Skew:</th>          <td>-0.035</td> <th>  Prob(JB):          </th> <td>   0.847</td>\n",
       "</tr>\n",
       "<tr>\n",
       "  <th>Kurtosis:</th>      <td> 3.056</td> <th>  Cond. No.          </th> <td>    1.53</td>\n",
       "</tr>\n",
       "</table><br/><br/>Notes:<br/>[1] R² is computed without centering (uncentered) since the model does not contain a constant.<br/>[2] Standard Errors assume that the covariance matrix of the errors is correctly specified."
      ],
      "text/plain": [
       "<class 'statsmodels.iolib.summary.Summary'>\n",
       "\"\"\"\n",
       "                                 OLS Regression Results                                \n",
       "=======================================================================================\n",
       "Dep. Variable:                      y   R-squared (uncentered):                   0.962\n",
       "Model:                            OLS   Adj. R-squared (uncentered):              0.962\n",
       "Method:                 Least Squares   F-statistic:                          1.277e+04\n",
       "Date:                Fri, 12 Aug 2022   Prob (F-statistic):                        0.00\n",
       "Time:                        21:10:49   Log-Likelihood:                         -1390.0\n",
       "No. Observations:                1000   AIC:                                      2784.\n",
       "Df Residuals:                     998   BIC:                                      2794.\n",
       "Df Model:                           2                                                  \n",
       "Covariance Type:            nonrobust                                                  \n",
       "==============================================================================\n",
       "                 coef    std err          t      P>|t|      [0.025      0.975]\n",
       "------------------------------------------------------------------------------\n",
       "x1             2.6672      0.030     87.739      0.000       2.608       2.727\n",
       "x2             5.0532      0.044    114.401      0.000       4.966       5.140\n",
       "==============================================================================\n",
       "Omnibus:                        0.424   Durbin-Watson:                   1.993\n",
       "Prob(Omnibus):                  0.809   Jarque-Bera (JB):                0.331\n",
       "Skew:                          -0.035   Prob(JB):                        0.847\n",
       "Kurtosis:                       3.056   Cond. No.                         1.53\n",
       "==============================================================================\n",
       "\n",
       "Notes:\n",
       "[1] R² is computed without centering (uncentered) since the model does not contain a constant.\n",
       "[2] Standard Errors assume that the covariance matrix of the errors is correctly specified.\n",
       "\"\"\""
      ]
     },
     "execution_count": 10,
     "metadata": {},
     "output_type": "execute_result"
    }
   ],
   "source": [
    "model = OLS(np.asarray(df[outcome]), np.asarray(df[[common_cause, treatment]], dtype=np.float64))\n",
    "result = model.fit()\n",
    "result.summary()"
   ]
  }
 ],
 "metadata": {
  "kernelspec": {
   "display_name": "Python 3",
   "language": "python",
   "name": "python3"
  },
  "language_info": {
   "codemirror_mode": {
    "name": "ipython",
    "version": 3
   },
   "file_extension": ".py",
   "mimetype": "text/x-python",
   "name": "python",
   "nbconvert_exporter": "python",
   "pygments_lexer": "ipython3",
   "version": "3.8.10"
  },
  "toc": {
   "base_numbering": 1,
   "nav_menu": {},
   "number_sections": false,
   "sideBar": true,
   "skip_h1_title": true,
   "title_cell": "Table of Contents",
   "title_sidebar": "Contents",
   "toc_cell": false,
   "toc_position": {},
   "toc_section_display": true,
   "toc_window_display": false
  }
 },
 "nbformat": 4,
 "nbformat_minor": 4
}
