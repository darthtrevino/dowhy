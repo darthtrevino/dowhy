{
 "cells": [
  {
   "cell_type": "markdown",
   "id": "caf653a0",
   "metadata": {},
   "source": [
    "# DoWhy: Interpreters for Causal Estimators\n",
    "\n",
    "This is a quick introduction to the use of interpreters in the DoWhy causal inference library.\n",
    "We will load in a sample dataset, use different methods for estimating the causal effect of a (pre-specified)treatment variable on a (pre-specified) outcome variable and demonstrate how to interpret the obtained results.\n",
    "\n",
    "First, let us add the required path for Python to find the DoWhy code and load all required packages"
   ]
  },
  {
   "cell_type": "code",
   "execution_count": 1,
   "id": "796887f4",
   "metadata": {
    "execution": {
     "iopub.execute_input": "2022-08-12T21:11:35.740735Z",
     "iopub.status.busy": "2022-08-12T21:11:35.740317Z",
     "iopub.status.idle": "2022-08-12T21:11:35.756255Z",
     "shell.execute_reply": "2022-08-12T21:11:35.755704Z"
    }
   },
   "outputs": [],
   "source": [
    "%load_ext autoreload\n",
    "%autoreload 2"
   ]
  },
  {
   "cell_type": "code",
   "execution_count": 2,
   "id": "4a0cb680",
   "metadata": {
    "execution": {
     "iopub.execute_input": "2022-08-12T21:11:35.758852Z",
     "iopub.status.busy": "2022-08-12T21:11:35.758653Z",
     "iopub.status.idle": "2022-08-12T21:11:36.683816Z",
     "shell.execute_reply": "2022-08-12T21:11:36.683173Z"
    }
   },
   "outputs": [],
   "source": [
    "import numpy as np\n",
    "import pandas as pd\n",
    "import logging\n",
    "\n",
    "import dowhy\n",
    "from dowhy import CausalModel\n",
    "import dowhy.datasets "
   ]
  },
  {
   "cell_type": "markdown",
   "id": "b1eee8a7",
   "metadata": {},
   "source": [
    "Now, let us load a dataset. For simplicity, we simulate a dataset with linear relationships between common causes and treatment, and common causes and outcome.\n",
    "\n",
    "Beta is the true causal effect."
   ]
  },
  {
   "cell_type": "code",
   "execution_count": 3,
   "id": "b200c2ba",
   "metadata": {
    "execution": {
     "iopub.execute_input": "2022-08-12T21:11:36.687774Z",
     "iopub.status.busy": "2022-08-12T21:11:36.687173Z",
     "iopub.status.idle": "2022-08-12T21:11:36.960037Z",
     "shell.execute_reply": "2022-08-12T21:11:36.959440Z"
    }
   },
   "outputs": [
    {
     "name": "stdout",
     "output_type": "stream",
     "text": [
      "9524\n"
     ]
    },
    {
     "data": {
      "text/html": [
       "<div>\n",
       "<style scoped>\n",
       "    .dataframe tbody tr th:only-of-type {\n",
       "        vertical-align: middle;\n",
       "    }\n",
       "\n",
       "    .dataframe tbody tr th {\n",
       "        vertical-align: top;\n",
       "    }\n",
       "\n",
       "    .dataframe thead th {\n",
       "        text-align: right;\n",
       "    }\n",
       "</style>\n",
       "<table border=\"1\" class=\"dataframe\">\n",
       "  <thead>\n",
       "    <tr style=\"text-align: right;\">\n",
       "      <th></th>\n",
       "      <th>Z0</th>\n",
       "      <th>Z1</th>\n",
       "      <th>W0</th>\n",
       "      <th>W1</th>\n",
       "      <th>W2</th>\n",
       "      <th>W3</th>\n",
       "      <th>W4</th>\n",
       "      <th>v0</th>\n",
       "      <th>y</th>\n",
       "    </tr>\n",
       "  </thead>\n",
       "  <tbody>\n",
       "    <tr>\n",
       "      <th>0</th>\n",
       "      <td>0.0</td>\n",
       "      <td>0.719810</td>\n",
       "      <td>1.293085</td>\n",
       "      <td>0.695124</td>\n",
       "      <td>-1.442098</td>\n",
       "      <td>1.961349</td>\n",
       "      <td>0</td>\n",
       "      <td>False</td>\n",
       "      <td>0.671403</td>\n",
       "    </tr>\n",
       "    <tr>\n",
       "      <th>1</th>\n",
       "      <td>1.0</td>\n",
       "      <td>0.859834</td>\n",
       "      <td>3.555954</td>\n",
       "      <td>0.979190</td>\n",
       "      <td>-1.305524</td>\n",
       "      <td>-0.036855</td>\n",
       "      <td>0</td>\n",
       "      <td>True</td>\n",
       "      <td>1.753338</td>\n",
       "    </tr>\n",
       "    <tr>\n",
       "      <th>2</th>\n",
       "      <td>1.0</td>\n",
       "      <td>0.339679</td>\n",
       "      <td>1.451447</td>\n",
       "      <td>2.128429</td>\n",
       "      <td>-0.174723</td>\n",
       "      <td>2.649414</td>\n",
       "      <td>1</td>\n",
       "      <td>True</td>\n",
       "      <td>3.392224</td>\n",
       "    </tr>\n",
       "    <tr>\n",
       "      <th>3</th>\n",
       "      <td>1.0</td>\n",
       "      <td>0.511417</td>\n",
       "      <td>1.353897</td>\n",
       "      <td>1.185955</td>\n",
       "      <td>-0.091716</td>\n",
       "      <td>0.583650</td>\n",
       "      <td>2</td>\n",
       "      <td>True</td>\n",
       "      <td>2.415270</td>\n",
       "    </tr>\n",
       "    <tr>\n",
       "      <th>4</th>\n",
       "      <td>1.0</td>\n",
       "      <td>0.333272</td>\n",
       "      <td>0.375196</td>\n",
       "      <td>2.150601</td>\n",
       "      <td>-0.234640</td>\n",
       "      <td>1.459719</td>\n",
       "      <td>0</td>\n",
       "      <td>True</td>\n",
       "      <td>2.330794</td>\n",
       "    </tr>\n",
       "    <tr>\n",
       "      <th>...</th>\n",
       "      <td>...</td>\n",
       "      <td>...</td>\n",
       "      <td>...</td>\n",
       "      <td>...</td>\n",
       "      <td>...</td>\n",
       "      <td>...</td>\n",
       "      <td>...</td>\n",
       "      <td>...</td>\n",
       "      <td>...</td>\n",
       "    </tr>\n",
       "    <tr>\n",
       "      <th>9995</th>\n",
       "      <td>1.0</td>\n",
       "      <td>0.827686</td>\n",
       "      <td>0.152586</td>\n",
       "      <td>1.314692</td>\n",
       "      <td>2.059255</td>\n",
       "      <td>-0.437590</td>\n",
       "      <td>0</td>\n",
       "      <td>True</td>\n",
       "      <td>2.482347</td>\n",
       "    </tr>\n",
       "    <tr>\n",
       "      <th>9996</th>\n",
       "      <td>1.0</td>\n",
       "      <td>0.252631</td>\n",
       "      <td>0.890159</td>\n",
       "      <td>0.050877</td>\n",
       "      <td>0.780036</td>\n",
       "      <td>0.888043</td>\n",
       "      <td>0</td>\n",
       "      <td>True</td>\n",
       "      <td>2.157002</td>\n",
       "    </tr>\n",
       "    <tr>\n",
       "      <th>9997</th>\n",
       "      <td>1.0</td>\n",
       "      <td>0.870118</td>\n",
       "      <td>2.570896</td>\n",
       "      <td>2.367581</td>\n",
       "      <td>0.300260</td>\n",
       "      <td>1.647914</td>\n",
       "      <td>0</td>\n",
       "      <td>True</td>\n",
       "      <td>3.547959</td>\n",
       "    </tr>\n",
       "    <tr>\n",
       "      <th>9998</th>\n",
       "      <td>0.0</td>\n",
       "      <td>0.152852</td>\n",
       "      <td>0.843158</td>\n",
       "      <td>1.489508</td>\n",
       "      <td>-0.317521</td>\n",
       "      <td>-0.264799</td>\n",
       "      <td>0</td>\n",
       "      <td>False</td>\n",
       "      <td>0.478287</td>\n",
       "    </tr>\n",
       "    <tr>\n",
       "      <th>9999</th>\n",
       "      <td>1.0</td>\n",
       "      <td>0.343642</td>\n",
       "      <td>1.077698</td>\n",
       "      <td>0.824104</td>\n",
       "      <td>1.788903</td>\n",
       "      <td>0.282994</td>\n",
       "      <td>3</td>\n",
       "      <td>True</td>\n",
       "      <td>3.345615</td>\n",
       "    </tr>\n",
       "  </tbody>\n",
       "</table>\n",
       "<p>10000 rows × 9 columns</p>\n",
       "</div>"
      ],
      "text/plain": [
       "       Z0        Z1        W0        W1        W2        W3 W4     v0  \\\n",
       "0     0.0  0.719810  1.293085  0.695124 -1.442098  1.961349  0  False   \n",
       "1     1.0  0.859834  3.555954  0.979190 -1.305524 -0.036855  0   True   \n",
       "2     1.0  0.339679  1.451447  2.128429 -0.174723  2.649414  1   True   \n",
       "3     1.0  0.511417  1.353897  1.185955 -0.091716  0.583650  2   True   \n",
       "4     1.0  0.333272  0.375196  2.150601 -0.234640  1.459719  0   True   \n",
       "...   ...       ...       ...       ...       ...       ... ..    ...   \n",
       "9995  1.0  0.827686  0.152586  1.314692  2.059255 -0.437590  0   True   \n",
       "9996  1.0  0.252631  0.890159  0.050877  0.780036  0.888043  0   True   \n",
       "9997  1.0  0.870118  2.570896  2.367581  0.300260  1.647914  0   True   \n",
       "9998  0.0  0.152852  0.843158  1.489508 -0.317521 -0.264799  0  False   \n",
       "9999  1.0  0.343642  1.077698  0.824104  1.788903  0.282994  3   True   \n",
       "\n",
       "             y  \n",
       "0     0.671403  \n",
       "1     1.753338  \n",
       "2     3.392224  \n",
       "3     2.415270  \n",
       "4     2.330794  \n",
       "...        ...  \n",
       "9995  2.482347  \n",
       "9996  2.157002  \n",
       "9997  3.547959  \n",
       "9998  0.478287  \n",
       "9999  3.345615  \n",
       "\n",
       "[10000 rows x 9 columns]"
      ]
     },
     "execution_count": 3,
     "metadata": {},
     "output_type": "execute_result"
    }
   ],
   "source": [
    "data = dowhy.datasets.linear_dataset(beta=1,\n",
    "        num_common_causes=5, \n",
    "        num_instruments = 2,\n",
    "        num_treatments=1,\n",
    "        num_discrete_common_causes=1,\n",
    "        num_samples=10000,\n",
    "        treatment_is_binary=True,\n",
    "        outcome_is_binary=False)\n",
    "df = data[\"df\"]\n",
    "print(df[df.v0==True].shape[0])\n",
    "df"
   ]
  },
  {
   "cell_type": "markdown",
   "id": "78d4db48",
   "metadata": {},
   "source": [
    "Note that we are using a pandas dataframe to load the data."
   ]
  },
  {
   "cell_type": "markdown",
   "id": "968559c8",
   "metadata": {},
   "source": [
    "## Identifying the causal estimand"
   ]
  },
  {
   "cell_type": "markdown",
   "id": "c7cb6de9",
   "metadata": {},
   "source": [
    "We now input a causal graph in the GML graph format."
   ]
  },
  {
   "cell_type": "code",
   "execution_count": 4,
   "id": "20239f40",
   "metadata": {
    "execution": {
     "iopub.execute_input": "2022-08-12T21:11:36.963281Z",
     "iopub.status.busy": "2022-08-12T21:11:36.962782Z",
     "iopub.status.idle": "2022-08-12T21:11:36.986085Z",
     "shell.execute_reply": "2022-08-12T21:11:36.985521Z"
    }
   },
   "outputs": [],
   "source": [
    "# With graph\n",
    "model=CausalModel(\n",
    "        data = df,\n",
    "        treatment=data[\"treatment_name\"],\n",
    "        outcome=data[\"outcome_name\"],\n",
    "        graph=data[\"gml_graph\"],\n",
    "        instruments=data[\"instrument_names\"]\n",
    "        )"
   ]
  },
  {
   "cell_type": "code",
   "execution_count": 5,
   "id": "e240b76e",
   "metadata": {
    "execution": {
     "iopub.execute_input": "2022-08-12T21:11:36.988909Z",
     "iopub.status.busy": "2022-08-12T21:11:36.988650Z",
     "iopub.status.idle": "2022-08-12T21:11:37.040241Z",
     "shell.execute_reply": "2022-08-12T21:11:37.039652Z"
    }
   },
   "outputs": [],
   "source": [
    "model.view_model()"
   ]
  },
  {
   "cell_type": "code",
   "execution_count": 6,
   "id": "0b450138",
   "metadata": {
    "execution": {
     "iopub.execute_input": "2022-08-12T21:11:37.043066Z",
     "iopub.status.busy": "2022-08-12T21:11:37.042548Z",
     "iopub.status.idle": "2022-08-12T21:11:37.066100Z",
     "shell.execute_reply": "2022-08-12T21:11:37.065542Z"
    }
   },
   "outputs": [
    {
     "data": {
      "image/png": "[encoded data removed]",
      "text/plain": [
       "<IPython.core.display.Image object>"
      ]
     },
     "metadata": {},
     "output_type": "display_data"
    }
   ],
   "source": [
    "from IPython.display import Image, display\n",
    "display(Image(filename=\"causal_model.png\"))"
   ]
  },
  {
   "cell_type": "markdown",
   "id": "5954460a",
   "metadata": {},
   "source": [
    "We get a causal graph. Now identification and estimation is done."
   ]
  },
  {
   "cell_type": "code",
   "execution_count": 7,
   "id": "8339703a",
   "metadata": {
    "execution": {
     "iopub.execute_input": "2022-08-12T21:11:37.069231Z",
     "iopub.status.busy": "2022-08-12T21:11:37.068768Z",
     "iopub.status.idle": "2022-08-12T21:11:37.284683Z",
     "shell.execute_reply": "2022-08-12T21:11:37.284053Z"
    }
   },
   "outputs": [
    {
     "name": "stdout",
     "output_type": "stream",
     "text": [
      "Estimand type: nonparametric-ate\n",
      "\n",
      "### Estimand : 1\n",
      "Estimand name: backdoor\n",
      "Estimand expression:\n",
      "  d                       \n",
      "─────(E[y|W3,W0,W1,W2,W4])\n",
      "d[v₀]                     \n",
      "Estimand assumption 1, Unconfoundedness: If U→{v0} and U→y then P(y|v0,W3,W0,W1,W2,W4,U) = P(y|v0,W3,W0,W1,W2,W4)\n",
      "\n",
      "### Estimand : 2\n",
      "Estimand name: iv\n",
      "Estimand expression:\n",
      " ⎡                              -1⎤\n",
      " ⎢    d        ⎛    d          ⎞  ⎥\n",
      "E⎢─────────(y)⋅⎜─────────([v₀])⎟  ⎥\n",
      " ⎣d[Z₁  Z₀]    ⎝d[Z₁  Z₀]      ⎠  ⎦\n",
      "Estimand assumption 1, As-if-random: If U→→y then ¬(U →→{Z1,Z0})\n",
      "Estimand assumption 2, Exclusion: If we remove {Z1,Z0}→{v0}, then ¬({Z1,Z0}→y)\n",
      "\n",
      "### Estimand : 3\n",
      "Estimand name: frontdoor\n",
      "No such variable(s) found!\n",
      "\n"
     ]
    }
   ],
   "source": [
    "identified_estimand = model.identify_effect(proceed_when_unidentifiable=True)\n",
    "print(identified_estimand)"
   ]
  },
  {
   "cell_type": "markdown",
   "id": "2476de85",
   "metadata": {},
   "source": [
    "## Method 1: Propensity Score Stratification\n",
    "\n",
    "We will be using propensity scores to stratify units in the data."
   ]
  },
  {
   "cell_type": "code",
   "execution_count": 8,
   "id": "7585d169",
   "metadata": {
    "execution": {
     "iopub.execute_input": "2022-08-12T21:11:37.288778Z",
     "iopub.status.busy": "2022-08-12T21:11:37.287602Z",
     "iopub.status.idle": "2022-08-12T21:11:37.977369Z",
     "shell.execute_reply": "2022-08-12T21:11:37.976560Z"
    }
   },
   "outputs": [
    {
     "name": "stdout",
     "output_type": "stream",
     "text": [
      "propensity_score_stratification\n"
     ]
    },
    {
     "name": "stderr",
     "output_type": "stream",
     "text": [
      "/github/home/.cache/pypoetry/virtualenvs/dowhy-oN2hW5jr-py3.8/lib/python3.8/site-packages/sklearn/utils/validation.py:993: DataConversionWarning: A column-vector y was passed when a 1d array was expected. Please change the shape of y to (n_samples, ), for example using ravel().\n",
      "  y = column_or_1d(y, warn=True)\n"
     ]
    },
    {
     "name": "stdout",
     "output_type": "stream",
     "text": [
      "*** Causal Estimate ***\n",
      "\n",
      "## Identified estimand\n",
      "Estimand type: nonparametric-ate\n",
      "\n",
      "### Estimand : 1\n",
      "Estimand name: backdoor\n",
      "Estimand expression:\n",
      "  d                       \n",
      "─────(E[y|W3,W0,W1,W2,W4])\n",
      "d[v₀]                     \n",
      "Estimand assumption 1, Unconfoundedness: If U→{v0} and U→y then P(y|v0,W3,W0,W1,W2,W4,U) = P(y|v0,W3,W0,W1,W2,W4)\n",
      "\n",
      "## Realized estimand\n",
      "b: y~v0+W3+W0+W1+W2+W4\n",
      "Target units: att\n",
      "\n",
      "## Estimate\n",
      "Mean value: 1.0197687327166933\n",
      "\n",
      "Causal Estimate is 1.0197687327166933\n"
     ]
    }
   ],
   "source": [
    "causal_estimate_strat = model.estimate_effect(identified_estimand,\n",
    "                                              method_name=\"backdoor.propensity_score_stratification\",\n",
    "                                              target_units=\"att\")\n",
    "print(causal_estimate_strat)\n",
    "print(\"Causal Estimate is \" + str(causal_estimate_strat.value))"
   ]
  },
  {
   "cell_type": "markdown",
   "id": "ba6bfc63",
   "metadata": {},
   "source": [
    "### Textual Interpreter\n",
    "\n",
    "The textual Interpreter describes (in words) the effect of unit change in the treatment variable on the outcome variable."
   ]
  },
  {
   "cell_type": "code",
   "execution_count": 9,
   "id": "4d02bb1c",
   "metadata": {
    "execution": {
     "iopub.execute_input": "2022-08-12T21:11:37.980991Z",
     "iopub.status.busy": "2022-08-12T21:11:37.980483Z",
     "iopub.status.idle": "2022-08-12T21:11:38.006175Z",
     "shell.execute_reply": "2022-08-12T21:11:38.005548Z"
    }
   },
   "outputs": [
    {
     "name": "stdout",
     "output_type": "stream",
     "text": [
      "Increasing the treatment variable(s) [v0] from 0 to 1 causes an increase of 1.0197687327166933 in the expected value of the outcome [y], over the data distribution/population represented by the dataset.\n"
     ]
    }
   ],
   "source": [
    "# Textual Interpreter\n",
    "interpretation = causal_estimate_strat.interpret(method_name=\"textual_effect_interpreter\")"
   ]
  },
  {
   "cell_type": "markdown",
   "id": "4623972a",
   "metadata": {},
   "source": [
    "### Visual Interpreter\n",
    "\n",
    "The visual interpreter plots the change in the standardized mean difference (SMD) before and after Propensity Score based adjustment of the dataset. The formula for SMD is given below.\n",
    "\n",
    "\n",
    "$SMD = \\frac{\\bar X_{1} - \\bar X_{2}}{\\sqrt{(S_{1}^{2} + S_{2}^{2})/2}}$\n",
    "\n",
    "Here, $\\bar X_{1}$ and $\\bar X_{2}$ are the sample mean for the treated and control groups.\n"
   ]
  },
  {
   "cell_type": "code",
   "execution_count": 10,
   "id": "b7b7a392",
   "metadata": {
    "execution": {
     "iopub.execute_input": "2022-08-12T21:11:38.009420Z",
     "iopub.status.busy": "2022-08-12T21:11:38.008995Z",
     "iopub.status.idle": "2022-08-12T21:11:38.896481Z",
     "shell.execute_reply": "2022-08-12T21:11:38.895876Z"
    }
   },
   "outputs": [
    {
     "data": {
      "image/png": "[encoded data removed]",
      "text/plain": [
       "<Figure size 432x288 with 1 Axes>"
      ]
     },
     "metadata": {
      "needs_background": "light"
     },
     "output_type": "display_data"
    }
   ],
   "source": [
    "# Visual Interpreter\n",
    "interpretation = causal_estimate_strat.interpret(method_name=\"propensity_balance_interpreter\")"
   ]
  },
  {
   "cell_type": "markdown",
   "id": "b357f43a",
   "metadata": {},
   "source": [
    "This plot shows how the SMD decreases from the unadjusted to the stratified units. "
   ]
  },
  {
   "cell_type": "markdown",
   "id": "d5497b6a",
   "metadata": {},
   "source": [
    "## Method 2: Propensity Score Matching\n",
    "\n",
    "We will be using propensity scores to match units in the data."
   ]
  },
  {
   "cell_type": "code",
   "execution_count": 11,
   "id": "ee7545fd",
   "metadata": {
    "execution": {
     "iopub.execute_input": "2022-08-12T21:11:38.899877Z",
     "iopub.status.busy": "2022-08-12T21:11:38.899312Z",
     "iopub.status.idle": "2022-08-12T21:11:42.514056Z",
     "shell.execute_reply": "2022-08-12T21:11:42.513429Z"
    }
   },
   "outputs": [
    {
     "name": "stdout",
     "output_type": "stream",
     "text": [
      "propensity_score_matching\n"
     ]
    },
    {
     "name": "stderr",
     "output_type": "stream",
     "text": [
      "/github/home/.cache/pypoetry/virtualenvs/dowhy-oN2hW5jr-py3.8/lib/python3.8/site-packages/sklearn/utils/validation.py:993: DataConversionWarning: A column-vector y was passed when a 1d array was expected. Please change the shape of y to (n_samples, ), for example using ravel().\n",
      "  y = column_or_1d(y, warn=True)\n"
     ]
    },
    {
     "name": "stdout",
     "output_type": "stream",
     "text": [
      "*** Causal Estimate ***\n",
      "\n",
      "## Identified estimand\n",
      "Estimand type: nonparametric-ate\n",
      "\n",
      "### Estimand : 1\n",
      "Estimand name: backdoor\n",
      "Estimand expression:\n",
      "  d                       \n",
      "─────(E[y|W3,W0,W1,W2,W4])\n",
      "d[v₀]                     \n",
      "Estimand assumption 1, Unconfoundedness: If U→{v0} and U→y then P(y|v0,W3,W0,W1,W2,W4,U) = P(y|v0,W3,W0,W1,W2,W4)\n",
      "\n",
      "## Realized estimand\n",
      "b: y~v0+W3+W0+W1+W2+W4\n",
      "Target units: atc\n",
      "\n",
      "## Estimate\n",
      "Mean value: 1.0064861442001989\n",
      "\n",
      "Causal Estimate is 1.0064861442001989\n"
     ]
    }
   ],
   "source": [
    "causal_estimate_match = model.estimate_effect(identified_estimand,\n",
    "                                              method_name=\"backdoor.propensity_score_matching\",\n",
    "                                              target_units=\"atc\")\n",
    "print(causal_estimate_match)\n",
    "print(\"Causal Estimate is \" + str(causal_estimate_match.value))"
   ]
  },
  {
   "cell_type": "code",
   "execution_count": 12,
   "id": "cf4eaf90",
   "metadata": {
    "execution": {
     "iopub.execute_input": "2022-08-12T21:11:42.517293Z",
     "iopub.status.busy": "2022-08-12T21:11:42.516846Z",
     "iopub.status.idle": "2022-08-12T21:11:42.542241Z",
     "shell.execute_reply": "2022-08-12T21:11:42.541567Z"
    }
   },
   "outputs": [
    {
     "name": "stdout",
     "output_type": "stream",
     "text": [
      "Increasing the treatment variable(s) [v0] from 0 to 1 causes an increase of 1.0064861442001989 in the expected value of the outcome [y], over the data distribution/population represented by the dataset.\n"
     ]
    }
   ],
   "source": [
    "# Textual Interpreter\n",
    "interpretation = causal_estimate_match.interpret(method_name=\"textual_effect_interpreter\")"
   ]
  },
  {
   "cell_type": "markdown",
   "id": "f12cf8c6",
   "metadata": {},
   "source": [
    "Cannot use propensity balance interpretor here since the interpreter method only supports propensity score stratification estimator."
   ]
  },
  {
   "cell_type": "markdown",
   "id": "5c927043",
   "metadata": {},
   "source": [
    "## Method 3: Weighting\n",
    "\n",
    "We will be using (inverse) propensity scores to assign weights to units in the data. DoWhy supports a few different weighting schemes:\n",
    "1. Vanilla Inverse Propensity Score weighting (IPS) (weighting_scheme=\"ips_weight\")\n",
    "2. Self-normalized IPS weighting (also known as the Hajek estimator) (weighting_scheme=\"ips_normalized_weight\")\n",
    "3. Stabilized IPS weighting (weighting_scheme = \"ips_stabilized_weight\")"
   ]
  },
  {
   "cell_type": "code",
   "execution_count": 13,
   "id": "07b74e13",
   "metadata": {
    "execution": {
     "iopub.execute_input": "2022-08-12T21:11:42.545747Z",
     "iopub.status.busy": "2022-08-12T21:11:42.545174Z",
     "iopub.status.idle": "2022-08-12T21:11:42.607871Z",
     "shell.execute_reply": "2022-08-12T21:11:42.606285Z"
    }
   },
   "outputs": [
    {
     "name": "stdout",
     "output_type": "stream",
     "text": [
      "propensity_score_weighting\n",
      "*** Causal Estimate ***\n",
      "\n",
      "## Identified estimand\n",
      "Estimand type: nonparametric-ate\n",
      "\n",
      "### Estimand : 1\n",
      "Estimand name: backdoor\n",
      "Estimand expression:\n",
      "  d                       \n",
      "─────(E[y|W3,W0,W1,W2,W4])\n",
      "d[v₀]                     \n",
      "Estimand assumption 1, Unconfoundedness: If U→{v0} and U→y then P(y|v0,W3,W0,W1,W2,W4,U) = P(y|v0,W3,W0,W1,W2,W4)\n",
      "\n",
      "## Realized estimand\n",
      "b: y~v0+W3+W0+W1+W2+W4\n",
      "Target units: ate\n",
      "\n",
      "## Estimate\n",
      "Mean value: 1.4744973454876829\n",
      "\n",
      "Causal Estimate is 1.4744973454876829\n"
     ]
    },
    {
     "name": "stderr",
     "output_type": "stream",
     "text": [
      "/github/home/.cache/pypoetry/virtualenvs/dowhy-oN2hW5jr-py3.8/lib/python3.8/site-packages/sklearn/utils/validation.py:993: DataConversionWarning: A column-vector y was passed when a 1d array was expected. Please change the shape of y to (n_samples, ), for example using ravel().\n",
      "  y = column_or_1d(y, warn=True)\n"
     ]
    }
   ],
   "source": [
    "causal_estimate_ipw = model.estimate_effect(identified_estimand,\n",
    "                                            method_name=\"backdoor.propensity_score_weighting\",\n",
    "                                            target_units = \"ate\",\n",
    "                                            method_params={\"weighting_scheme\":\"ips_weight\"})\n",
    "print(causal_estimate_ipw)\n",
    "print(\"Causal Estimate is \" + str(causal_estimate_ipw.value))"
   ]
  },
  {
   "cell_type": "code",
   "execution_count": 14,
   "id": "2831f98e",
   "metadata": {
    "execution": {
     "iopub.execute_input": "2022-08-12T21:11:42.610960Z",
     "iopub.status.busy": "2022-08-12T21:11:42.610616Z",
     "iopub.status.idle": "2022-08-12T21:11:42.635912Z",
     "shell.execute_reply": "2022-08-12T21:11:42.635283Z"
    }
   },
   "outputs": [
    {
     "name": "stdout",
     "output_type": "stream",
     "text": [
      "Increasing the treatment variable(s) [v0] from 0 to 1 causes an increase of 1.4744973454876829 in the expected value of the outcome [y], over the data distribution/population represented by the dataset.\n"
     ]
    }
   ],
   "source": [
    "# Textual Interpreter\n",
    "interpretation = causal_estimate_ipw.interpret(method_name=\"textual_effect_interpreter\")"
   ]
  },
  {
   "cell_type": "code",
   "execution_count": 15,
   "id": "751e42a7",
   "metadata": {
    "execution": {
     "iopub.execute_input": "2022-08-12T21:11:42.639146Z",
     "iopub.status.busy": "2022-08-12T21:11:42.638925Z",
     "iopub.status.idle": "2022-08-12T21:11:42.867138Z",
     "shell.execute_reply": "2022-08-12T21:11:42.866549Z"
    }
   },
   "outputs": [
    {
     "data": {
      "image/png": "[encoded data removed]",
      "text/plain": [
       "<Figure size 576x576 with 2 Axes>"
      ]
     },
     "metadata": {
      "needs_background": "light"
     },
     "output_type": "display_data"
    }
   ],
   "source": [
    "interpretation = causal_estimate_ipw.interpret(method_name=\"confounder_distribution_interpreter\", fig_size=(8,8), font_size=12, var_name='W4', var_type='discrete')"
   ]
  },
  {
   "cell_type": "code",
   "execution_count": null,
   "id": "381a211f",
   "metadata": {},
   "outputs": [],
   "source": []
  }
 ],
 "metadata": {
  "kernelspec": {
   "display_name": "Python 3",
   "language": "python",
   "name": "python3"
  },
  "language_info": {
   "codemirror_mode": {
    "name": "ipython",
    "version": 3
   },
   "file_extension": ".py",
   "mimetype": "text/x-python",
   "name": "python",
   "nbconvert_exporter": "python",
   "pygments_lexer": "ipython3",
   "version": "3.8.10"
  },
  "toc": {
   "base_numbering": 1,
   "nav_menu": {},
   "number_sections": false,
   "sideBar": true,
   "skip_h1_title": true,
   "title_cell": "Table of Contents",
   "title_sidebar": "Contents",
   "toc_cell": false,
   "toc_position": {},
   "toc_section_display": true,
   "toc_window_display": false
  }
 },
 "nbformat": 4,
 "nbformat_minor": 5
}
